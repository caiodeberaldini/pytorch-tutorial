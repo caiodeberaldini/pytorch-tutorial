{
 "cells": [
  {
   "cell_type": "code",
   "execution_count": 1,
   "source": [
    "import torch\r\n",
    "\r\n",
    "import numpy as np\r\n",
    "import pandas as pd"
   ],
   "outputs": [],
   "metadata": {}
  },
  {
   "cell_type": "markdown",
   "source": [
    "# 1: Basics"
   ],
   "metadata": {}
  },
  {
   "cell_type": "markdown",
   "source": [
    "## 1.1: Tensors"
   ],
   "metadata": {}
  },
  {
   "cell_type": "code",
   "execution_count": 4,
   "source": [
    "# Creating tensors, operating it and particularities\r\n",
    "\r\n",
    "## Empty tensor\r\n",
    "# x = torch.empty(1) # 1-D empty tensor\r\n",
    "# x = torch.empty(2, 1) # 2-D empty tensor\r\n",
    "# x = torch.empty(n-dimensional tensor) # n-D empty tensor\r\n",
    "\r\n",
    "## Zeros tensor\r\n",
    "# x = torch.zeros(1) # 1-D zeros tensor\r\n",
    "\r\n",
    "## Ones tensor\r\n",
    "# x = torch.ones(1) # 1-D ones tensor\r\n",
    "\r\n",
    "## Defining type\r\n",
    "# x = torch.ones(2,2, dtype=torch.float16)\r\n",
    "# print(x.dtype)\r\n",
    "\r\n",
    "## Retrieving tensor size\r\n",
    "# print(x.size())\r\n",
    "\r\n",
    "## Creating tensor \"from scratch\"\r\n",
    "# x = torch.tensor([[2.5, 5], [1.7, 8]])\r\n",
    "\r\n",
    "## Operations\r\n",
    "x = torch.rand(2, 2)\r\n",
    "y = torch.rand(2, 2)\r\n",
    "\r\n",
    "### Arithmetic\r\n",
    "# z = x+y # Element-wise addition\r\n",
    "# z = torch.add(x,y) # Same result\r\n",
    "# y.add_(x) # Inplace element-wise addition; functions if \"_\" before its name make inplace ops\r\n",
    "\r\n",
    "# z = x-y # Element-wise subtraction\r\n",
    "# z = torch.sub(x, y) # Analogous as above\r\n",
    "# y.sub_(x) # Analogous as above\r\n",
    "\r\n",
    "# z = x*y # Element-wise multiplication\r\n",
    "# z = torch.mul(x, y) # Analogous as above\r\n",
    "# y.mul_(x) # Analogous as above\r\n",
    "\r\n",
    "# z = x / y # Element-wise division\r\n",
    "# z = torch.div(x, y) # Analogous as above\r\n",
    "# y.div_(x) # Analogous as above\r\n",
    "\r\n",
    "### Slicing\r\n",
    "# z = x[:, 1]\r\n",
    "# z = x[1, 1]\r\n",
    "\r\n",
    "### Reshaping\r\n",
    "# z = x.view(4)\r\n",
    "# z = x.view(-1, 2)\r\n",
    "\r\n",
    "### Casting to numpy arrays\r\n",
    "# z = x.numpy()\r\n",
    "\r\n",
    "### Casting from numpy arrays to pytorch tensors\r\n",
    "# z = np.array([[1, 3.4], [5, 8.9]])\r\n",
    "# w = torch.from_numpy(z)\r\n",
    "\r\n",
    "### Working on GPU\r\n",
    "# if torch.cuda_is_available():\r\n",
    "#     gpu = torch.device(\"cuda\")\r\n",
    "#     x = torch.ones(1, 2, device=gpu) # Tensor allocated on GPU\r\n",
    "#     y = torch.ones(5) # Tensor allocated on CPU\r\n",
    "#     y = y.to(gpu) # Sending tensor instantiated on CPU to GPU\r\n",
    "\r\n",
    "### Observation\r\n",
    "#################################################################################\r\n",
    "#    When dealing with tensors that it'll be needed to compute its gradients    #\r\n",
    "#    (e.g in optimization), Pytorch requires defining it explicitly.            #\r\n",
    "#################################################################################\r\n",
    "# x = torch.ones(4, requires_grad=True) # requires_grad argument is False by default"
   ],
   "outputs": [],
   "metadata": {}
  },
  {
   "cell_type": "markdown",
   "source": [
    "## 1.2: Autograd"
   ],
   "metadata": {}
  },
  {
   "cell_type": "markdown",
   "source": [
    "Autograd's package: used to ease the calculation of gradients. Its principle is based on Automatic Differentiation (autodiff)\n",
    "which is a general method for automatically computing the derivative of a value. For more details, I highly recommend checking out\n",
    "Prof. Roger Grosse lecture's slides¹ about the technique and the following medium post² about Pytorch's implementation of it.\n",
    "\n",
    "1: https://www.cs.toronto.edu/~rgrosse/courses/csc321_2018/slides/lec10.pdf <br>\n",
    "2: https://mustafaghali11.medium.com/how-pytorch-backward-function-works-55669b3b7c62"
   ],
   "metadata": {}
  },
  {
   "cell_type": "code",
   "execution_count": 63,
   "source": [
    "# First, let's create an input tensor\r\n",
    "x = torch.rand(3, requires_grad=True) # Remember that it's necessary to enable requires_grad property\r\n",
    "\r\n",
    "# After creating the input tensor, let's define\r\n",
    "# an operation over this tensor.\r\n",
    "y = 3*x+2 # Creates the computational graph"
   ],
   "outputs": [],
   "metadata": {}
  },
  {
   "cell_type": "markdown",
   "source": [
    "**Computational graph created after operating over the tensor**\r\n",
    "\r\n",
    "<img src=\"assets/images/compt_graph.png\" width=600 height=600 />"
   ],
   "metadata": {}
  },
  {
   "cell_type": "code",
   "execution_count": 67,
   "source": [
    "print(\"X:\", x)\r\n",
    "print(\"Y:\", y)"
   ],
   "outputs": [
    {
     "output_type": "stream",
     "name": "stdout",
     "text": [
      "X: tensor([0.1130, 0.4408, 0.1186], requires_grad=True)\n",
      "Y: tensor([2.3389, 3.3224, 2.3559], grad_fn=<AddBackward0>)\n"
     ]
    }
   ],
   "metadata": {}
  },
  {
   "cell_type": "markdown",
   "source": [
    "As seen, tensor X has requires_grad property set as **True** and tensor Y has the last operation over X (addition) as its gradient function. \n",
    "In the next example, Z is a tensor computed multiplying Y by itself and your grad. function is the multiplication op."
   ],
   "metadata": {}
  },
  {
   "cell_type": "code",
   "execution_count": 70,
   "source": [
    "z = y*y\r\n",
    "\r\n",
    "print(z)"
   ],
   "outputs": [
    {
     "output_type": "stream",
     "name": "stdout",
     "text": [
      "tensor([ 5.4703, 11.0381,  5.5501], grad_fn=<MulBackward0>)\n"
     ]
    }
   ],
   "metadata": {}
  },
  {
   "cell_type": "code",
   "execution_count": 45,
   "source": [
    "dot_prod_vec = torch.ones(3)\r\n",
    "z.backward(dot_prod_vec)"
   ],
   "outputs": [],
   "metadata": {}
  },
  {
   "cell_type": "code",
   "execution_count": 65,
   "source": [
    "dot_prod_vec = torch.ones(3)\n",
    "y.backward(dot_prod_vec)"
   ],
   "outputs": [],
   "metadata": {}
  },
  {
   "cell_type": "code",
   "execution_count": 66,
   "source": [
    "print(x.grad)"
   ],
   "outputs": [
    {
     "output_type": "stream",
     "name": "stdout",
     "text": [
      "tensor([3., 3., 3.])\n"
     ]
    }
   ],
   "metadata": {}
  },
  {
   "cell_type": "code",
   "execution_count": 59,
   "source": [
    "x.grad.zero_()"
   ],
   "outputs": [
    {
     "output_type": "execute_result",
     "data": {
      "text/plain": [
       "tensor([0., 0., 0.])"
      ]
     },
     "metadata": {},
     "execution_count": 59
    }
   ],
   "metadata": {}
  },
  {
   "cell_type": "code",
   "execution_count": null,
   "source": [
    "# x.requires_grad_(False)\n",
    "# x.detach()\n",
    "# with torch.no_grad():"
   ],
   "outputs": [],
   "metadata": {}
  }
 ],
 "metadata": {
  "kernelspec": {
   "display_name": "Python 3",
   "language": "python",
   "name": "python3"
  },
  "language_info": {
   "codemirror_mode": {
    "name": "ipython",
    "version": 3
   },
   "file_extension": ".py",
   "mimetype": "text/x-python",
   "name": "python",
   "nbconvert_exporter": "python",
   "pygments_lexer": "ipython3",
   "version": "3.7.6"
  }
 },
 "nbformat": 4,
 "nbformat_minor": 4
}