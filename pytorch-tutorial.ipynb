{
 "cells": [
  {
   "cell_type": "code",
   "execution_count": 1,
   "metadata": {},
   "outputs": [],
   "source": [
    "import torch\n",
    "import torchvision\n",
    "\n",
    "import numpy as np\n",
    "import pandas as pd\n",
    "import torch.nn as nn\n",
    "import matplotlib.pyplot as plt\n",
    "\n",
    "from sklearn import datasets\n",
    "from utils import displayMathHelper\n",
    "from torch.utils.data import Dataset, DataLoader\n",
    "from IPython.display import Image, display, Math"
   ]
  },
  {
   "cell_type": "markdown",
   "metadata": {},
   "source": [
    "# 1: Basics"
   ]
  },
  {
   "cell_type": "markdown",
   "metadata": {},
   "source": [
    "## 1.1: Tensors"
   ]
  },
  {
   "cell_type": "code",
   "execution_count": 2,
   "metadata": {},
   "outputs": [],
   "source": [
    "# Creating tensors, operating it and particularities\n",
    "\n",
    "## Empty tensor\n",
    "x = torch.empty(1) # 1-D empty tensor\n",
    "x = torch.empty(2, 1) # 2-D empty tensor\n",
    "# x = torch.empty(n-dimensional tensor) # n-D empty tensor\n",
    "\n",
    "## Zeros tensor\n",
    "x = torch.zeros(1) # 1-D zeros tensor\n",
    "\n",
    "## Ones tensor\n",
    "x = torch.ones(1) # 1-D ones tensor\n",
    "\n",
    "## Defining type\n",
    "x = torch.ones(2,2, dtype=torch.float16)\n",
    "# print(x.dtype)\n",
    "\n",
    "## Retrieving tensor size\n",
    "# print(x.size())\n",
    "\n",
    "## Creating tensor \"from scratch\"\n",
    "x = torch.tensor([[2.5, 5], [1.7, 8]])\n",
    "\n",
    "## Operations\n",
    "x = torch.rand(2, 2)\n",
    "y = torch.rand(2, 2)\n",
    "\n",
    "### Arithmetic\n",
    "z = x+y # Element-wise addition\n",
    "z = torch.add(x,y) # Same result\n",
    "y.add_(x) # Inplace element-wise addition; functions if \"_\" before its name make inplace ops\n",
    "\n",
    "z = x-y # Element-wise subtraction\n",
    "z = torch.sub(x, y) # Analogous as above\n",
    "y.sub_(x) # Analogous as above\n",
    "\n",
    "z = x*y # Element-wise multiplication\n",
    "z = torch.mul(x, y) # Analogous as above\n",
    "y.mul_(x) # Analogous as above\n",
    "\n",
    "z = x / y # Element-wise division\n",
    "z = torch.div(x, y) # Analogous as above\n",
    "y.div_(x) # Analogous as above\n",
    "\n",
    "### Slicing\n",
    "z = x[:, 1]\n",
    "z = x[1, 1]\n",
    "\n",
    "### Reshaping\n",
    "z = x.view(4)\n",
    "z = x.view(-1, 2)\n",
    "\n",
    "### Casting to numpy arrays\n",
    "z = x.numpy()\n",
    "\n",
    "### Casting from numpy arrays to pytorch tensors\n",
    "z = np.array([[1, 3.4], [5, 8.9]])\n",
    "w = torch.from_numpy(z)\n",
    "\n",
    "### Working on GPU\n",
    "# if torch.cuda_is_available():\n",
    "#     gpu = torch.device(\"cuda\")\n",
    "#     x = torch.ones(1, 2, device=gpu) # Tensor allocated on GPU\n",
    "#     y = torch.ones(5) # Tensor allocated on CPU\n",
    "#     y = y.to(gpu) # Sending tensor instantiated on CPU to GPU\n",
    "\n",
    "### Observation\n",
    "#################################################################################\n",
    "#    When dealing with tensors which you need to compute their gradients        #\n",
    "#    (e.g in optimization), Pytorch requires defining it explicitly.            #\n",
    "#################################################################################\n",
    "# x = torch.ones(4, requires_grad=True) # requires_grad argument is False by default"
   ]
  },
  {
   "cell_type": "markdown",
   "metadata": {},
   "source": [
    "---"
   ]
  },
  {
   "cell_type": "markdown",
   "metadata": {},
   "source": [
    "## 1.2: Autograd"
   ]
  },
  {
   "cell_type": "markdown",
   "metadata": {},
   "source": [
    "Autograd's package: used to ease the calculation of gradients. Its principle is based on Automatic Differentiation (autodiff)\n",
    "which is a general method for automatically computing the derivative of a value. For more details, I highly recommend checking out\n",
    "Prof. Roger Grosse lecture's slides¹ about the technique and the following medium post² about Pytorch's implementation of it.\n",
    "\n",
    "1: https://www.cs.toronto.edu/~rgrosse/courses/csc321_2018/slides/lec10.pdf <br>\n",
    "2: https://mustafaghali11.medium.com/how-pytorch-backward-function-works-55669b3b7c62"
   ]
  },
  {
   "cell_type": "code",
   "execution_count": 3,
   "metadata": {},
   "outputs": [],
   "source": [
    "# First, let's create an input tensor\n",
    "x = torch.rand(3, requires_grad=True) # Remember that it's necessary to enable requires_grad property\n",
    "\n",
    "# After creating the input tensor, let's define\n",
    "# an operation over this tensor.\n",
    "y = 3*x+2 # Creates the computational graph"
   ]
  },
  {
   "cell_type": "markdown",
   "metadata": {},
   "source": [
    "**Computational graph created after operating over the tensor:**"
   ]
  },
  {
   "cell_type": "code",
   "execution_count": 4,
   "metadata": {},
   "outputs": [
    {
     "data": {
      "image/png": "[encoded data removed]",
      "text/plain": [
       "<IPython.core.display.Image object>"
      ]
     },
     "execution_count": 4,
     "metadata": {},
     "output_type": "execute_result"
    }
   ],
   "source": [
    "Image(filename=\"assets/images/compt_graph.png\")"
   ]
  },
  {
   "cell_type": "code",
   "execution_count": 5,
   "metadata": {},
   "outputs": [
    {
     "name": "stdout",
     "output_type": "stream",
     "text": [
      "X: tensor([0.0849, 0.6786, 0.5922], requires_grad=True)\n",
      "Y: tensor([2.2547, 4.0359, 3.7767], grad_fn=<AddBackward0>)\n"
     ]
    }
   ],
   "source": [
    "print(\"X:\", x)\n",
    "print(\"Y:\", y)"
   ]
  },
  {
   "cell_type": "markdown",
   "metadata": {},
   "source": [
    "As seen, tensor X has requires_grad property set as **True** and tensor Y has the last operation over X (addition) as its gradient function. \n",
    "In the next example, Z is a tensor computed multiplying Y by itself and your grad. function is the multiplication op."
   ]
  },
  {
   "cell_type": "code",
   "execution_count": 6,
   "metadata": {},
   "outputs": [
    {
     "name": "stdout",
     "output_type": "stream",
     "text": [
      "tensor([ 5.0837, 16.2883, 14.2632], grad_fn=<MulBackward0>)\n"
     ]
    }
   ],
   "source": [
    "z = y*y\n",
    "print(z)"
   ]
  },
  {
   "cell_type": "markdown",
   "metadata": {},
   "source": [
    "For the sake of understanding, let's simplify assuming that our output tensor is 1-dimensional."
   ]
  },
  {
   "cell_type": "code",
   "execution_count": 7,
   "metadata": {},
   "outputs": [
    {
     "name": "stdout",
     "output_type": "stream",
     "text": [
      "tensor(11.8784, grad_fn=<MeanBackward0>)\n"
     ]
    }
   ],
   "source": [
    "z = z.mean()\n",
    "print(z)"
   ]
  },
  {
   "cell_type": "markdown",
   "metadata": {},
   "source": [
    "So, in order to compute Z gradient w.r.t. X, we call the Z backward() function and X grad property."
   ]
  },
  {
   "cell_type": "code",
   "execution_count": 8,
   "metadata": {},
   "outputs": [
    {
     "name": "stdout",
     "output_type": "stream",
     "text": [
      "tensor([4.5094, 8.0717, 7.5533]) \n",
      "Three gradients of Z w.r.t. X, because X is a 3-D tensor\n"
     ]
    }
   ],
   "source": [
    "z.backward()\n",
    "print(x.grad, '\\nThree gradients of Z w.r.t. X, because X is a 3-D tensor')"
   ]
  },
  {
   "cell_type": "markdown",
   "metadata": {},
   "source": [
    "On the other hand, if we have a multi-dimensional output tensor, we need to specify a gradient vector as an argument of backward() function\n",
    "towards the correct execution. In this sense, it's used a 'ones' tensor as the gradient vector in the Jacobian-vector Product - which is\n",
    "a way for computing partial derivatives, used inside autograd. For more details, please check the references in the head of this section."
   ]
  },
  {
   "cell_type": "code",
   "execution_count": 9,
   "metadata": {},
   "outputs": [
    {
     "name": "stdout",
     "output_type": "stream",
     "text": [
      "tensor([18.0376, 32.2870, 30.2133])\n"
     ]
    }
   ],
   "source": [
    "y = 3*x+2\n",
    "z = y*y\n",
    "size = list(z.size())\n",
    "init_grad_vec = torch.ones(size)\n",
    "\n",
    "z.backward(init_grad_vec)\n",
    "print(x.grad)"
   ]
  },
  {
   "cell_type": "markdown",
   "metadata": {},
   "source": [
    "Though Pytorch allocate every gradient of a specific variable, sometimes it's essential to reset our gradients."
   ]
  },
  {
   "cell_type": "code",
   "execution_count": 10,
   "metadata": {},
   "outputs": [
    {
     "name": "stdout",
     "output_type": "stream",
     "text": [
      "Step 1 gradient vector: tensor([31.5658, 56.5022, 52.8732])\n",
      "Step 2 gradient vector: tensor([45.0940, 80.7175, 75.5332])\n",
      "Step 3 gradient vector: tensor([ 58.6222, 104.9327,  98.1932])\n"
     ]
    }
   ],
   "source": [
    "for i in range(3):\n",
    "    y = 3*x + 2\n",
    "    z = y*y\n",
    "\n",
    "    z.backward(init_grad_vec)\n",
    "    print(\"Step {} gradient vector: {}\".format(i+1, x.grad))\n",
    "\n",
    "_ = x.grad.zero_()"
   ]
  },
  {
   "cell_type": "code",
   "execution_count": 11,
   "metadata": {},
   "outputs": [
    {
     "name": "stdout",
     "output_type": "stream",
     "text": [
      "Step 1 gradient vector: tensor([13.5282, 24.2152, 22.6600])\n",
      "Step 2 gradient vector: tensor([13.5282, 24.2152, 22.6600])\n",
      "Step 3 gradient vector: tensor([13.5282, 24.2152, 22.6600])\n"
     ]
    }
   ],
   "source": [
    "for i in range(3):\n",
    "    y = 3*x + 2\n",
    "    z = y*y\n",
    "\n",
    "    z.backward(init_grad_vec)\n",
    "    print(\"Step {} gradient vector: {}\".format(i+1, x.grad))\n",
    "    \n",
    "    _ = x.grad.zero_()"
   ]
  },
  {
   "cell_type": "markdown",
   "metadata": {},
   "source": [
    "Sometimes during training we might want to stop tracking variables from the gradient perspective. There are three ways to do so.\n",
    "(As seen below, none of tensors have the property requires_grad in it)"
   ]
  },
  {
   "cell_type": "code",
   "execution_count": 12,
   "metadata": {},
   "outputs": [],
   "source": [
    "# First way\n",
    "x.requires_grad_(False)\n",
    "# print(x)\n",
    "\n",
    "# Second way\n",
    "x.detach()\n",
    "# print(x)\n",
    "\n",
    "# Third way\n",
    "with torch.no_grad():\n",
    "    y = x + 2\n",
    "#     print(y)"
   ]
  },
  {
   "cell_type": "markdown",
   "metadata": {},
   "source": [
    "---"
   ]
  },
  {
   "cell_type": "markdown",
   "metadata": {},
   "source": [
    "## 1.3: Backpropagation"
   ]
  },
  {
   "cell_type": "markdown",
   "metadata": {},
   "source": [
    "Backpropagation is an algorithm used to compute gradients of functions w.r.t. parameters that appears previously \n",
    "to the function computation, and them is backpropagated to which one of them."
   ]
  },
  {
   "cell_type": "markdown",
   "metadata": {},
   "source": [
    "Let's suppose we have a first degree function (w/o linear coefficient, i.e. $y = f(x) = {\\theta}x$). Suppose our parameter $\\theta = 5$.\n",
    "In our computational graph Pytorch's framework, such operation should be seen as follows:"
   ]
  },
  {
   "cell_type": "code",
   "execution_count": 13,
   "metadata": {},
   "outputs": [
    {
     "data": {
      "image/png": "[encoded data removed]",
      "text/plain": [
       "<IPython.core.display.Image object>"
      ]
     },
     "execution_count": 13,
     "metadata": {},
     "output_type": "execute_result"
    }
   ],
   "source": [
    "Image(filename=\"assets/images/bprop_ex_compt_graph_1.png\")"
   ]
  },
  {
   "cell_type": "markdown",
   "metadata": {},
   "source": [
    "Here we have a multiplication operation and the attribution of this result in Y variable (an identity). In the background,\n",
    "the result of the first operation is seen as an intermediate variable - here called Z -, and them it's attributed to Y, completing\n",
    "the forward pass stage. Given that, to compute the gradient of Y w.r.t. X it's necessary to operate using the chain rule of calculus,\n",
    "in order to compute the gradient of Y w.r.t the intermediate variable Z."
   ]
  },
  {
   "cell_type": "markdown",
   "metadata": {},
   "source": [
    "---"
   ]
  },
  {
   "cell_type": "markdown",
   "metadata": {},
   "source": [
    "Briefly, the chain rule assures (not restricted to a 2-step computation. In fact, it's valid, in general, for n-steps):"
   ]
  },
  {
   "cell_type": "markdown",
   "metadata": {},
   "source": [
    "\n",
    "\n",
    "$\\dfrac{dy}{dz}*\\dfrac{dz}{dx} = \\dfrac{dy}{dx}$"
   ]
  },
  {
   "cell_type": "markdown",
   "metadata": {},
   "source": [
    "---"
   ]
  },
  {
   "cell_type": "markdown",
   "metadata": {},
   "source": [
    "The complete computation graph with the forward and backward pass is depicted below:"
   ]
  },
  {
   "cell_type": "code",
   "execution_count": 14,
   "metadata": {},
   "outputs": [
    {
     "data": {
      "image/png": "[encoded data removed]",
      "text/plain": [
       "<IPython.core.display.Image object>"
      ]
     },
     "execution_count": 14,
     "metadata": {},
     "output_type": "execute_result"
    }
   ],
   "source": [
    "Image(filename=\"assets/images/bprop_ex_compt_graph_2.png\")"
   ]
  },
  {
   "cell_type": "markdown",
   "metadata": {},
   "source": [
    "The Pytorch implementation of the backpropagation is as simple as follows:"
   ]
  },
  {
   "cell_type": "code",
   "execution_count": 15,
   "metadata": {},
   "outputs": [
    {
     "name": "stdout",
     "output_type": "stream",
     "text": [
      "dy/dx = 5 (as expected!)\n"
     ]
    }
   ],
   "source": [
    "# Instantiate data point\n",
    "x = torch.tensor([4], dtype=torch.float32, requires_grad=True)\n",
    "\n",
    "# Computational graph\n",
    "y = 5*x # dy/dx = 5\n",
    "\n",
    "# Backward pass\n",
    "y.backward()\n",
    "dy = x.grad\n",
    "\n",
    "print(f'dy/dx = {int(dy.item())} (as expected!)')"
   ]
  },
  {
   "cell_type": "markdown",
   "metadata": {},
   "source": [
    "---"
   ]
  },
  {
   "cell_type": "markdown",
   "metadata": {},
   "source": [
    "## 1.4: Gradient Descent Algorithm"
   ]
  },
  {
   "cell_type": "markdown",
   "metadata": {},
   "source": [
    "Toward to wrap all of these concepts and enable the algorithm to learn the paremeters' values, the gradient descent algorithm\n",
    "this task*. This algorithm can be divided in four steps:\n",
    "\n",
    "* Forward pass\n",
    "* Loss computation\n",
    "* Backward pass\n",
    "* Update parameters\n",
    "\n",
    "The only which wasn't introduced is the loss computation. In short, since the learning is being supervised, i.e. it's known a priori the correct\n",
    "output's value, one way to compute 'how much' the approximation function being learned is 'wrong' is computing the error between its\n",
    "output and the correct value. Here, the loss function used is the well-known Mean Squared Error (MSE)**. \n",
    "\n",
    "\\* The purpose here isn't to explain all the details of gradient descent algorithm.\n",
    "\n",
    "\\** In the examples below the problem is a regression one."
   ]
  },
  {
   "cell_type": "markdown",
   "metadata": {},
   "source": [
    "First, let's code it from scratch, using Numpy:"
   ]
  },
  {
   "cell_type": "code",
   "execution_count": 16,
   "metadata": {},
   "outputs": [
    {
     "data": {
      "text/latex": [
       "$\\displaystyle \\ \\ 20th \\ iter. \\ Error (J): 2.373 \\ | \\ Parameter \\ (\\theta): 4.415$"
      ],
      "text/plain": [
       "<IPython.core.display.Math object>"
      ]
     },
     "metadata": {},
     "output_type": "display_data"
    },
    {
     "data": {
      "text/latex": [
       "$\\displaystyle \\ \\ 40th \\ iter. \\ Error (J): 0.022 \\ | \\ Parameter \\ (\\theta): 4.943$"
      ],
      "text/plain": [
       "<IPython.core.display.Math object>"
      ]
     },
     "metadata": {},
     "output_type": "display_data"
    },
    {
     "data": {
      "text/latex": [
       "$\\displaystyle \\ \\ 60th \\ iter. \\ Error (J): 0.000 \\ | \\ Parameter \\ (\\theta): 4.994$"
      ],
      "text/plain": [
       "<IPython.core.display.Math object>"
      ]
     },
     "metadata": {},
     "output_type": "display_data"
    },
    {
     "data": {
      "text/latex": [
       "$\\displaystyle \\ \\ 80th \\ iter. \\ Error (J): 0.000 \\ | \\ Parameter \\ (\\theta): 4.999$"
      ],
      "text/plain": [
       "<IPython.core.display.Math object>"
      ]
     },
     "metadata": {},
     "output_type": "display_data"
    },
    {
     "data": {
      "text/latex": [
       "$\\displaystyle 100th \\ iter. \\ Error (J): 0.000 \\ | \\ Parameter \\ (\\theta): 5.000$"
      ],
      "text/plain": [
       "<IPython.core.display.Math object>"
      ]
     },
     "metadata": {},
     "output_type": "display_data"
    }
   ],
   "source": [
    "# Set data points\n",
    "X = np.array([1, 2, 3, 4, 5], dtype=np.float32)\n",
    "y = np.array([5, 10, 15, 20, 25], dtype=np.float32)\n",
    "\n",
    "# Randomly initialize parameter\n",
    "theta = np.random.randn(1)\n",
    "\n",
    "# Define hyperparameters\n",
    "lr = 0.01\n",
    "num_iters = 100\n",
    "\n",
    "for i in range(1, num_iters+1):\n",
    "    # Forward pass\n",
    "    y_hat = theta*X\n",
    "\n",
    "    # Loss computation\n",
    "    J = np.mean((y_hat - y)**2) / 2\n",
    "\n",
    "    # Backward pass\n",
    "    dJ = np.mean(X*(y_hat - y)) # This is the derivative of the loss function w.r.t. the parameter theta\n",
    "\n",
    "    # Update parameter\n",
    "    theta = theta - lr*dJ\n",
    "\n",
    "    # Print loss function\n",
    "    if i % 20 == 0:\n",
    "        space_str = displayMathHelper(num_iters, i)\n",
    "        display(Math(r'{space}{i}th \\ iter. \\ Error (J): {J:.3f} \\ | \\ Parameter \\ (\\theta): {theta:.3f}'.format(space=space_str, i=i, J=J, theta=theta[0])))"
   ]
  },
  {
   "cell_type": "markdown",
   "metadata": {},
   "source": [
    "Now with Pytorch's Autograd (untill gradient computation):"
   ]
  },
  {
   "cell_type": "code",
   "execution_count": 17,
   "metadata": {},
   "outputs": [
    {
     "data": {
      "text/latex": [
       "$\\displaystyle \\ \\ 20th \\ iter. \\ Error (J): 1.448 \\ | \\ Parameter \\ (\\theta): 4.543$"
      ],
      "text/plain": [
       "<IPython.core.display.Math object>"
      ]
     },
     "metadata": {},
     "output_type": "display_data"
    },
    {
     "data": {
      "text/latex": [
       "$\\displaystyle \\ \\ 40th \\ iter. \\ Error (J): 0.014 \\ | \\ Parameter \\ (\\theta): 4.956$"
      ],
      "text/plain": [
       "<IPython.core.display.Math object>"
      ]
     },
     "metadata": {},
     "output_type": "display_data"
    },
    {
     "data": {
      "text/latex": [
       "$\\displaystyle \\ \\ 60th \\ iter. \\ Error (J): 0.000 \\ | \\ Parameter \\ (\\theta): 4.996$"
      ],
      "text/plain": [
       "<IPython.core.display.Math object>"
      ]
     },
     "metadata": {},
     "output_type": "display_data"
    },
    {
     "data": {
      "text/latex": [
       "$\\displaystyle \\ \\ 80th \\ iter. \\ Error (J): 0.000 \\ | \\ Parameter \\ (\\theta): 5.000$"
      ],
      "text/plain": [
       "<IPython.core.display.Math object>"
      ]
     },
     "metadata": {},
     "output_type": "display_data"
    },
    {
     "data": {
      "text/latex": [
       "$\\displaystyle 100th \\ iter. \\ Error (J): 0.000 \\ | \\ Parameter \\ (\\theta): 5.000$"
      ],
      "text/plain": [
       "<IPython.core.display.Math object>"
      ]
     },
     "metadata": {},
     "output_type": "display_data"
    }
   ],
   "source": [
    "# Set data points\n",
    "x = torch.tensor([1, 2, 3, 4, 5], dtype=torch.float32)\n",
    "y = torch.tensor([5, 10, 15, 20, 25], dtype=torch.float32)\n",
    "\n",
    "# Randomly initialize parameter\n",
    "theta = torch.rand(1, requires_grad=True)\n",
    "\n",
    "# Define hyperparameters\n",
    "lr = 0.01\n",
    "num_iters = 100\n",
    "\n",
    "for i in range(1, num_iters+1):\n",
    "    # Forward pass\n",
    "    y_hat = theta*x\n",
    "\n",
    "    # Loss computation\n",
    "    J = torch.mean((y_hat - y)**2 / 2)\n",
    "\n",
    "    # Backward pass\n",
    "    J.backward() # dJ/dtheta\n",
    "\n",
    "    # Update parameter\n",
    "    ## Remember that we don't want to track this operation in our computational graph. Given that\n",
    "    ## we should wrap our update operation inside the torch.no_grad(), as explained before.\n",
    "    with torch.no_grad():\n",
    "        theta -= lr*theta.grad\n",
    "\n",
    "    # Zero theta gradients\n",
    "    theta.grad.zero_()\n",
    "\n",
    "    # Print loss function and theta updating\n",
    "    if i % 20 == 0:\n",
    "        space_str = displayMathHelper(num_iters, i)\n",
    "        display(Math(r'{space}{i}th \\ iter. \\ Error (J): {J:.3f} \\ | \\ Parameter \\ (\\theta): {theta:.3f}'.format(space=space_str, i=i, J=J, theta=theta[0])))"
   ]
  },
  {
   "cell_type": "markdown",
   "metadata": {},
   "source": [
    "---"
   ]
  },
  {
   "cell_type": "markdown",
   "metadata": {},
   "source": [
    "## 1.5: Training Pipeline"
   ]
  },
  {
   "cell_type": "markdown",
   "metadata": {},
   "source": [
    "Previously, we implemented our training in two ways: (i) all from scratch; (ii) from scratch mixed with Pytorch's autograd package. \n",
    "Now we'll write all the training pipeline with Pytorch. First, let's recap how we trained our linear regression model mixing\n",
    "from scratch with autograd:"
   ]
  },
  {
   "cell_type": "code",
   "execution_count": 18,
   "metadata": {},
   "outputs": [
    {
     "data": {
      "text/latex": [
       "$\\displaystyle \\ \\ 20th \\ iter. \\ Error \\ (J): 1.058 \\ | \\ Parameter \\ (\\theta): 4.610$"
      ],
      "text/plain": [
       "<IPython.core.display.Math object>"
      ]
     },
     "metadata": {},
     "output_type": "display_data"
    },
    {
     "data": {
      "text/latex": [
       "$\\displaystyle \\ \\ 40th \\ iter. \\ Error \\ (J): 0.010 \\ | \\ Parameter \\ (\\theta): 4.962$"
      ],
      "text/plain": [
       "<IPython.core.display.Math object>"
      ]
     },
     "metadata": {},
     "output_type": "display_data"
    },
    {
     "data": {
      "text/latex": [
       "$\\displaystyle \\ \\ 60th \\ iter. \\ Error \\ (J): 0.000 \\ | \\ Parameter \\ (\\theta): 4.996$"
      ],
      "text/plain": [
       "<IPython.core.display.Math object>"
      ]
     },
     "metadata": {},
     "output_type": "display_data"
    },
    {
     "data": {
      "text/latex": [
       "$\\displaystyle \\ \\ 80th \\ iter. \\ Error \\ (J): 0.000 \\ | \\ Parameter \\ (\\theta): 5.000$"
      ],
      "text/plain": [
       "<IPython.core.display.Math object>"
      ]
     },
     "metadata": {},
     "output_type": "display_data"
    },
    {
     "data": {
      "text/latex": [
       "$\\displaystyle 100th \\ iter. \\ Error \\ (J): 0.000 \\ | \\ Parameter \\ (\\theta): 5.000$"
      ],
      "text/plain": [
       "<IPython.core.display.Math object>"
      ]
     },
     "metadata": {},
     "output_type": "display_data"
    }
   ],
   "source": [
    "# Set data points\n",
    "x = torch.tensor([1, 2, 3, 4, 5], dtype=torch.float32)\n",
    "y = torch.tensor([5, 10, 15, 20, 25], dtype=torch.float32)\n",
    "\n",
    "# Randomly initialize parameter\n",
    "theta = torch.rand(1, requires_grad=True)\n",
    "\n",
    "# Define hyperparameters\n",
    "lr = 0.01\n",
    "num_iters = 100\n",
    "\n",
    "for i in range(1, num_iters+1):\n",
    "    # Forward pass\n",
    "    y_hat = theta*x\n",
    "\n",
    "    # Loss computation\n",
    "    J = torch.mean((y_hat - y)**2 / 2)\n",
    "\n",
    "    # Backward pass\n",
    "    J.backward() # dJ/dtheta\n",
    "\n",
    "    # Update parameter\n",
    "    ## Remember that we don't want to track this operation in our computational graph. Given that\n",
    "    ## we should wrap our update operation inside the torch.no_grad(), as explained before.\n",
    "    with torch.no_grad():\n",
    "        theta -= lr*theta.grad\n",
    "\n",
    "    # Zero theta gradients\n",
    "    theta.grad.zero_()\n",
    "\n",
    "    # Print loss function and theta updating\n",
    "    if i % 20 == 0:\n",
    "        space_str = displayMathHelper(num_iters, i)\n",
    "        display(Math(r'{space}{i}th \\ iter. \\ Error \\ (J): {J:.3f} \\ | \\ Parameter \\ (\\theta): {theta:.3f}'.format(space=space_str, i=i, J=J, theta=theta[0])))"
   ]
  },
  {
   "cell_type": "markdown",
   "metadata": {},
   "source": [
    "As stated above, now we'll implement a linear regression in a fully-Pytorch version. For that, we need to add some steps:\n",
    "\n",
    "1. The model needs to be fed with a matrix whose lines are related to examples and columns to features. In our 1-D example, we need to reshape our covariates and target variables to be a column vector.\n",
    "2. The instance of the model object (in our case, a linear one).\n",
    "3. In order to compute loss and gradients, we need to specify which loss object we want (for a linear regression, good old MSE) and which optimizer. For that example, we use stochastic gradient descent optimizer.\n",
    "\n",
    "Implementation is as follows:"
   ]
  },
  {
   "cell_type": "code",
   "execution_count": 19,
   "metadata": {},
   "outputs": [
    {
     "data": {
      "text/latex": [
       "$\\displaystyle \\ \\ 400th \\ iter. \\ Error (J): 0.009 \\ | \\ Parameter \\ (\\theta): 4.938$"
      ],
      "text/plain": [
       "<IPython.core.display.Math object>"
      ]
     },
     "metadata": {},
     "output_type": "display_data"
    },
    {
     "data": {
      "text/latex": [
       "$\\displaystyle \\ \\ 800th \\ iter. \\ Error (J): 0.001 \\ | \\ Parameter \\ (\\theta): 4.984$"
      ],
      "text/plain": [
       "<IPython.core.display.Math object>"
      ]
     },
     "metadata": {},
     "output_type": "display_data"
    },
    {
     "data": {
      "text/latex": [
       "$\\displaystyle 1200th \\ iter. \\ Error (J): 0.000 \\ | \\ Parameter \\ (\\theta): 4.996$"
      ],
      "text/plain": [
       "<IPython.core.display.Math object>"
      ]
     },
     "metadata": {},
     "output_type": "display_data"
    },
    {
     "data": {
      "text/latex": [
       "$\\displaystyle 1600th \\ iter. \\ Error (J): 0.000 \\ | \\ Parameter \\ (\\theta): 4.999$"
      ],
      "text/plain": [
       "<IPython.core.display.Math object>"
      ]
     },
     "metadata": {},
     "output_type": "display_data"
    },
    {
     "data": {
      "text/latex": [
       "$\\displaystyle 2000th \\ iter. \\ Error (J): 0.000 \\ | \\ Parameter \\ (\\theta): 5.000$"
      ],
      "text/plain": [
       "<IPython.core.display.Math object>"
      ]
     },
     "metadata": {},
     "output_type": "display_data"
    }
   ],
   "source": [
    "# Set data points\n",
    "X = torch.tensor([1, 2, 3, 4, 5], dtype=torch.float32)\n",
    "y = torch.tensor([5, 10, 15, 20, 25], dtype=torch.float32)\n",
    "\n",
    "## Reshaping as column vectors\n",
    "X = X.view(X.shape[0], 1)\n",
    "y = y.view(y.shape[0], 1)\n",
    "\n",
    "# Design model\n",
    "n_samples, n_features = X.shape\n",
    "model = nn.Linear(in_features=n_features, out_features=n_features)\n",
    "\n",
    "# Define hyperparameters\n",
    "lr = 0.01\n",
    "num_iters = 2000\n",
    "\n",
    "# Construct Loss and Optimizer\n",
    "loss = nn.MSELoss()\n",
    "optimizer = torch.optim.SGD(model.parameters(), lr=lr) # Obs.: model.parameters() is a generator object of torch.nn.parameter which has requires_grad set True\n",
    "\n",
    "final_iter_magnitude = np.floor(np.log10(num_iters)).astype(np.int32)\n",
    "for i in range(1, num_iters+1):\n",
    "    # Forward pass\n",
    "    y_hat = model(X)\n",
    "\n",
    "    # Loss computation\n",
    "    J = loss(y_hat, y)\n",
    "\n",
    "    # Backward pass\n",
    "    J.backward() # dJ/dtheta\n",
    "\n",
    "    # Update parameter\n",
    "    optimizer.step()\n",
    "\n",
    "    # Zero theta gradients\n",
    "    optimizer.zero_grad()\n",
    "\n",
    "    # Print loss function and theta updating\n",
    "    if i % 400 == 0:\n",
    "        theta, b = model.parameters()\n",
    "\n",
    "        space_str = displayMathHelper(num_iters, i)\n",
    "        display(Math(r'{space}{i}th \\ iter. \\ Error (J): {J:.3f} \\ | \\ Parameter \\ (\\theta): {theta:.3f}'.format(space=space_str, i=i, J=J, theta=theta.item())))"
   ]
  },
  {
   "cell_type": "markdown",
   "metadata": {},
   "source": [
    "---"
   ]
  },
  {
   "cell_type": "markdown",
   "metadata": {},
   "source": [
    "## 1.6: Linear Regression"
   ]
  },
  {
   "cell_type": "markdown",
   "metadata": {},
   "source": [
    "In this section we'll use the acquired knowledge about how to implement a linear regression fully with Pytorch to a toy dataset. Let's load the dataset:"
   ]
  },
  {
   "cell_type": "code",
   "execution_count": 20,
   "metadata": {},
   "outputs": [],
   "source": [
    "# Loading data\n",
    "X_numpy, y_numpy = datasets.make_regression(n_samples=100, n_features=1,\n",
    "                                            noise=15, random_state=1)\n",
    "\n",
    "## Transform Numpy vectors to Pytorch tensors\n",
    "X = torch.from_numpy(X_numpy.astype(np.float32))\n",
    "y = torch.from_numpy(y_numpy.astype(np.float32))\n",
    "\n",
    "## Reshaping as column vectors\n",
    "X = X.view(X.shape[0], 1)\n",
    "y = y.view(y.shape[0], 1)"
   ]
  },
  {
   "cell_type": "markdown",
   "metadata": {},
   "source": [
    "Then, we follow the steps followed before:\n",
    "\n",
    "* Design model (a linear one for that problem)\n",
    "* Construct loss function and optimizer\n",
    "* Forward pass\n",
    "* Backward pass\n",
    "* Update parameters\n",
    "\n",
    "In order to visualize results, it is plotted data points scatter with the line learned."
   ]
  },
  {
   "cell_type": "code",
   "execution_count": 21,
   "metadata": {},
   "outputs": [
    {
     "data": {
      "text/latex": [
       "$\\displaystyle \\ \\ 200th \\ iter. \\ Error (J): 196.828 \\ | \\ Parameter \\ (\\theta): 78.582$"
      ],
      "text/plain": [
       "<IPython.core.display.Math object>"
      ]
     },
     "metadata": {},
     "output_type": "display_data"
    },
    {
     "data": {
      "text/latex": [
       "$\\displaystyle \\ \\ 400th \\ iter. \\ Error (J): 187.088 \\ | \\ Parameter \\ (\\theta): 81.889$"
      ],
      "text/plain": [
       "<IPython.core.display.Math object>"
      ]
     },
     "metadata": {},
     "output_type": "display_data"
    },
    {
     "data": {
      "text/latex": [
       "$\\displaystyle \\ \\ 600th \\ iter. \\ Error (J): 187.069 \\ | \\ Parameter \\ (\\theta): 82.034$"
      ],
      "text/plain": [
       "<IPython.core.display.Math object>"
      ]
     },
     "metadata": {},
     "output_type": "display_data"
    },
    {
     "data": {
      "text/latex": [
       "$\\displaystyle \\ \\ 800th \\ iter. \\ Error (J): 187.069 \\ | \\ Parameter \\ (\\theta): 82.041$"
      ],
      "text/plain": [
       "<IPython.core.display.Math object>"
      ]
     },
     "metadata": {},
     "output_type": "display_data"
    },
    {
     "data": {
      "text/latex": [
       "$\\displaystyle 1000th \\ iter. \\ Error (J): 187.069 \\ | \\ Parameter \\ (\\theta): 82.041$"
      ],
      "text/plain": [
       "<IPython.core.display.Math object>"
      ]
     },
     "metadata": {},
     "output_type": "display_data"
    }
   ],
   "source": [
    "# Design model\n",
    "n_samples, n_features = X.shape\n",
    "model = nn.Linear(in_features=n_features, out_features=n_features)\n",
    "\n",
    "# Define hyperparameters\n",
    "lr = 0.01\n",
    "num_iters = 1000\n",
    "\n",
    "# Construct Loss and Optimizer\n",
    "loss = nn.MSELoss()\n",
    "optimizer = torch.optim.SGD(model.parameters(), lr=lr)\n",
    "\n",
    "for i in range(1, num_iters+1):\n",
    "    # Forward pass\n",
    "    y_hat = model(X)\n",
    "\n",
    "    # Loss computation\n",
    "    J = loss(y_hat, y)\n",
    "\n",
    "    # Backward pass\n",
    "    J.backward() # dJ/dtheta\n",
    "\n",
    "    # Update parameter\n",
    "    optimizer.step()\n",
    "\n",
    "    # Zero theta gradients\n",
    "    optimizer.zero_grad()\n",
    "\n",
    "    # Print loss function and theta updating\n",
    "    if i % 200 == 0:\n",
    "        theta, b = model.parameters()\n",
    "\n",
    "        space_str = displayMathHelper(num_iters, i)\n",
    "        display(Math(r'{space}{i}th \\ iter. \\ Error (J): {J:.3f} \\ | \\ Parameter \\ (\\theta): {theta:.3f}'.format(space=space_str, i=i, J=J, theta=theta.item())))"
   ]
  },
  {
   "cell_type": "code",
   "execution_count": 22,
   "metadata": {},
   "outputs": [
    {
     "data": {
      "image/png": "[encoded data removed]",
      "text/plain": [
       "<Figure size 576x576 with 1 Axes>"
      ]
     },
     "metadata": {
      "needs_background": "light"
     },
     "output_type": "display_data"
    }
   ],
   "source": [
    "predicted = model(X).detach().numpy() # We don't want that op. on computational graph.\n",
    "\n",
    "fig, axs = plt.subplots(1, 1, figsize=(8,8))\n",
    "axs.plot(X_numpy, y_numpy, 'ro', label=\"Original Data\")\n",
    "axs.plot(X_numpy, predicted, 'b', label=\"Line Learned\")\n",
    "axs.legend(loc=\"upper left\")\n",
    "plt.show()"
   ]
  },
  {
   "cell_type": "markdown",
   "metadata": {},
   "source": [
    "---"
   ]
  },
  {
   "cell_type": "markdown",
   "metadata": {},
   "source": [
    "## 1.7: Logistic Regression"
   ]
  },
  {
   "cell_type": "markdown",
   "metadata": {},
   "source": [
    "Previously, we learned how to implement a linear model in the context of a linear regression problem fully with Pytorch. In this section we'll learn to implement the Logistic Regression classification algorithm.\n",
    "\n",
    "First of all, there isn't an implemented interface on Pytorch as in the case of our linear model. Given that, we'll need to build our own Logistic Regression class. In summary, Logistic Regression is a model used in classification tasks that has two-steps:\n",
    "\n",
    "* First, it's applied a linear transformation of the same kind it's done in linear regression (z = A*x + b).\n",
    "* Second, a non-linear limited function is applied in order to constraint the output value. In our model, we'll use the logistic function (also known as sigmoid function).\n",
    "\n",
    "With this in mind, let's create our Logistic Regression class:"
   ]
  },
  {
   "cell_type": "code",
   "execution_count": 23,
   "metadata": {},
   "outputs": [],
   "source": [
    "class LogRegression(nn.Module): # Inherit torch.nn.Module. This enable us to access methods, attributes and other classes that inherit this parent class.\n",
    "\n",
    "    def __init__(self, n_features, n_classes):\n",
    "        super().__init__()\n",
    "        self.Linear = nn.Linear(in_features=n_features, out_features=n_classes)\n",
    "\n",
    "    def forward(self, x):\n",
    "        predicted = torch.sigmoid(self.Linear(x))\n",
    "        return predicted"
   ]
  },
  {
   "cell_type": "markdown",
   "metadata": {},
   "source": [
    "After constructing the class, let's generate and load our toy dataset:"
   ]
  },
  {
   "cell_type": "code",
   "execution_count": 24,
   "metadata": {},
   "outputs": [],
   "source": [
    "# Loading and transforming data. \n",
    "\n",
    "## Don't care too much about the data itself. Nevertheless, have in mind that our data is generated \n",
    "## with few constraints (e.g., it's a 100 examples size, it has 2 features and 3 classes as possible values \n",
    "## to target variable).\n",
    "X_numpy, y_numpy = datasets.make_classification(n_samples=100, n_features=2, \n",
    "                                                n_redundant=0, n_classes=3,\n",
    "                                                n_clusters_per_class=1, random_state=1)\n",
    "\n",
    "X = torch.from_numpy(X_numpy.astype(np.float32))\n",
    "y = torch.from_numpy(y_numpy)\n",
    "y = y.type(torch.long)"
   ]
  },
  {
   "cell_type": "markdown",
   "metadata": {},
   "source": [
    "Training pipeline follows the same steps as before:\n",
    "\n",
    "* Design model\n",
    "* Construct loss function and optimizer\n",
    "* Forward pass\n",
    "* Backward pass\n",
    "* Update parameters"
   ]
  },
  {
   "cell_type": "code",
   "execution_count": 25,
   "metadata": {},
   "outputs": [
    {
     "data": {
      "text/latex": [
       "$\\displaystyle \\ \\  200th \\ iter. \\ Error \\ (J): 0.782 \\ | \\ Parameters: (\\theta_1): 1.298, \\ (\\theta_2): 0.963 $"
      ],
      "text/plain": [
       "<IPython.core.display.Math object>"
      ]
     },
     "metadata": {},
     "output_type": "display_data"
    },
    {
     "data": {
      "text/latex": [
       "$\\displaystyle \\ \\  400th \\ iter. \\ Error \\ (J): 0.689 \\ | \\ Parameters: (\\theta_1): 2.267, \\ (\\theta_2): 1.030 $"
      ],
      "text/plain": [
       "<IPython.core.display.Math object>"
      ]
     },
     "metadata": {},
     "output_type": "display_data"
    },
    {
     "data": {
      "text/latex": [
       "$\\displaystyle \\ \\  600th \\ iter. \\ Error \\ (J): 0.654 \\ | \\ Parameters: (\\theta_1): 2.950, \\ (\\theta_2): 0.890 $"
      ],
      "text/plain": [
       "<IPython.core.display.Math object>"
      ]
     },
     "metadata": {},
     "output_type": "display_data"
    },
    {
     "data": {
      "text/latex": [
       "$\\displaystyle \\ \\  800th \\ iter. \\ Error \\ (J): 0.636 \\ | \\ Parameters: (\\theta_1): 3.485, \\ (\\theta_2): 0.698 $"
      ],
      "text/plain": [
       "<IPython.core.display.Math object>"
      ]
     },
     "metadata": {},
     "output_type": "display_data"
    },
    {
     "data": {
      "text/latex": [
       "$\\displaystyle 1000th \\ iter. \\ Error \\ (J): 0.625 \\ | \\ Parameters: (\\theta_1): 3.932, \\ (\\theta_2): 0.493 $"
      ],
      "text/plain": [
       "<IPython.core.display.Math object>"
      ]
     },
     "metadata": {},
     "output_type": "display_data"
    }
   ],
   "source": [
    "# Design model\n",
    "n_samples, n_features = X.shape\n",
    "n_classes = y.unique().shape[0]\n",
    "model = LogRegression(n_features, n_classes)\n",
    "\n",
    "# Define hyperparameters\n",
    "lr=0.01\n",
    "num_iters=1000\n",
    "\n",
    "# Construct Loss and Optimizer\n",
    "loss = nn.CrossEntropyLoss() # Since we're tackling a classification task, loss function needs to fit adequately.\n",
    "optimizer = torch.optim.Adam(model.parameters(), lr=lr)\n",
    "\n",
    "for i in range(1, num_iters+1):\n",
    "    # Forward pass\n",
    "    y_hat = model(X)\n",
    "\n",
    "    # Loss computation\n",
    "    J = loss(y_hat ,y)\n",
    "\n",
    "    # Backward pass\n",
    "    J.backward()\n",
    "\n",
    "    # Update parameters\n",
    "    optimizer.step()\n",
    "\n",
    "    # Zero grad\n",
    "    optimizer.zero_grad()\n",
    "\n",
    "    # Print loss and weights\n",
    "    if i % 200 == 0:\n",
    "        theta, b = model.parameters()\n",
    "        theta1 = theta[0][0].item()\n",
    "        theta2 = theta[0][1].item()\n",
    "\n",
    "        space_str = displayMathHelper(num_iters, i)\n",
    "        display(\n",
    "            Math(\n",
    "                r'{space}{i:4}th \\ iter. \\ Error \\ (J): {J:.3f} \\ | \\ Parameters: (\\theta_1): {theta1:.3f}, \\ (\\theta_2): {theta2:.3f} '.format(\n",
    "                    space=space_str, i=i, J=J,\n",
    "                    theta1=theta1,\n",
    "                    theta2=theta2\n",
    "                )\n",
    "            )\n",
    "        )"
   ]
  },
  {
   "cell_type": "markdown",
   "metadata": {},
   "source": [
    "In order to visualize results, it is plotted model prediction and it's decision boundary (represented by it's non-linear function) beside with original data points."
   ]
  },
  {
   "cell_type": "code",
   "execution_count": 26,
   "metadata": {},
   "outputs": [
    {
     "data": {
      "image/png": "[encoded data removed]",
      "text/plain": [
       "<Figure size 1440x576 with 2 Axes>"
      ]
     },
     "metadata": {
      "needs_background": "light"
     },
     "output_type": "display_data"
    }
   ],
   "source": [
    "h = 0.02\n",
    "\n",
    "x_min, x_max = X[:, 0].min().item() - 0.5, X[:, 0].max().item() + 0.5\n",
    "y_min, y_max = X[:, 1].min().item() - 0.5, X[:, 1].max().item() + 0.5\n",
    "\n",
    "xx, yy = np.meshgrid(np.arange(x_min, x_max, h),\n",
    "                     np.arange(y_min, y_max, h))\n",
    "\n",
    "grid_agg = np.c_[xx.ravel(), yy.ravel()]\n",
    "grid_agg = torch.from_numpy(grid_agg.astype(np.float32))\n",
    "\n",
    "Z = model(grid_agg).detach()\n",
    "Z = torch.argmax(Z, 1, keepdim=True)\n",
    "Z = np.reshape(Z.numpy(), xx.shape)\n",
    "\n",
    "cm = plt.cm.Pastel1\n",
    "\n",
    "predicted = model(X).detach()\n",
    "predicted = torch.argmax(predicted, 1, keepdim=True)\n",
    "predicted = predicted.view(n_samples)\n",
    "\n",
    "corr_fst_class_idx = y_numpy==0\n",
    "corr_snd_class_idx = y_numpy==1\n",
    "corr_trd_class_idx = y_numpy==2\n",
    "\n",
    "fst_class_idx = predicted==0\n",
    "snd_class_idx = predicted==1\n",
    "trd_class_idx = predicted==2\n",
    "\n",
    "fig, axs = plt.subplots(1, 2, figsize=(20,8))\n",
    "axs[0].plot(X_numpy[fst_class_idx, 0], X_numpy[fst_class_idx, 1], 'ro', label='Class 1')\n",
    "axs[0].plot(X_numpy[snd_class_idx, 0], X_numpy[snd_class_idx, 1], 'bo', label='Class 2')\n",
    "axs[0].plot(X_numpy[trd_class_idx, 0], X_numpy[trd_class_idx, 1], 'go', label='Class 3')\n",
    "axs[0].contourf(xx, yy, Z, cmap=cm, alpha=0.7)\n",
    "axs[0].legend(loc=\"upper left\")\n",
    "axs[0].set_title(\"Predicted (w/ Decision Boundary)\")\n",
    "\n",
    "axs[1].plot(X_numpy[corr_fst_class_idx, 0], X_numpy[corr_fst_class_idx, 1], 'ro', label='Class 1')\n",
    "axs[1].plot(X_numpy[corr_snd_class_idx, 0], X_numpy[corr_snd_class_idx, 1], 'bo', label='Class 2')\n",
    "axs[1].plot(X_numpy[corr_trd_class_idx, 0], X_numpy[corr_trd_class_idx, 1], 'go', label='Class 3')\n",
    "axs[1].legend(loc=\"upper left\")\n",
    "axs[1].set_title(\"Original Data\")\n",
    "\n",
    "plt.show()"
   ]
  },
  {
   "cell_type": "markdown",
   "metadata": {},
   "source": [
    "---"
   ]
  },
  {
   "cell_type": "markdown",
   "metadata": {},
   "source": [
    "## 1.8: Dataset and Dataloader"
   ]
  },
  {
   "cell_type": "markdown",
   "metadata": {},
   "source": [
    "Earlier we've managed with hand-crafted and/or toy datasets in our examples. Though, nowadays it's pretty common to deal with large datasets (in the order of millions of examples, hundreds or thousands of features and classes). In this scenario, even with state-of-the-art hardware it's recommended to save memory, paralellize computation, and make efficient use of resources. Given that, it'd be nice to come up with an implementation to ease the process of loading larger datasets. That's exactly what Pytorch's Dataset and DataLoader classes are made for.\n",
    "\n",
    "First, let's create a subclass of Dataset for the Wine Quality dataset (which is in './data/winequality-red.csv' directory, in case you want to take a look). To do so, we need three methods: (i) initialization, (ii) a getter to fetch samples by its index, and (iii) a method to return the number of samples (dataset length):"
   ]
  },
  {
   "cell_type": "code",
   "execution_count": 27,
   "metadata": {},
   "outputs": [],
   "source": [
    "class WineDataset(Dataset):\n",
    "\n",
    "    def __init__(self, file_path):\n",
    "        dataset = np.loadtxt(file_path, delimiter=\",\", dtype=np.float32, skiprows=1)\n",
    "        self.X = torch.from_numpy(dataset[:, 1:])\n",
    "        self.y = torch.from_numpy(dataset[:, 0]).view(self.X.shape[0], 1) # We want to have a label column vector\n",
    "        self.n_samples = self.X.shape[0]\n",
    "\n",
    "    def __getitem__(self, index):\n",
    "        return self.X[index], self.y[index]\n",
    "\n",
    "    def __len__(self):\n",
    "        return self.n_samples"
   ]
  },
  {
   "cell_type": "code",
   "execution_count": 28,
   "metadata": {},
   "outputs": [],
   "source": [
    "path = './data/winequality-red.csv'\n",
    "wine_dataset = WineDataset(path)"
   ]
  },
  {
   "cell_type": "markdown",
   "metadata": {},
   "source": [
    "Afterward, we can use Pytorch's DataLoader class in order to efficiently load our dataset object aiming to optimize our model's training. In this case, we'll exploit mini-batch technique."
   ]
  },
  {
   "cell_type": "markdown",
   "metadata": {},
   "source": [
    "[Quick reminder] Here is an explanation of some of the concepts used below:\n",
    "\n",
    "* **Epoch**: Number of times training on the entire dataset\n",
    "* **Iteration or Batch**: Number of batchs/forward and backward passes (optimization is done in each batch instead of the entire data)\n",
    "* **Batch Size**: Number of samples in each batch\n",
    "\n",
    "For instace, given a dataset of 1600 samples, if the batch size is 4, then the number of batchs is 400 ($\\dfrac{1600}{4}$ = 400). \n",
    "\n",
    "The image below illustrates a dataset divided in 4 batchs. On this example, each epoch we are training (forward, backward passing, and updating parameters) on each batch, running through all the dataset in this way, but using just an amount of computing power and memory, since it's only allocated a batch per step of training."
   ]
  },
  {
   "cell_type": "code",
   "execution_count": 29,
   "metadata": {},
   "outputs": [
    {
     "data": {
      "image/png": "[encoded data removed]",
      "text/plain": [
       "<IPython.core.display.Image object>"
      ]
     },
     "execution_count": 29,
     "metadata": {},
     "output_type": "execute_result"
    }
   ],
   "source": [
    "Image(filename=\"assets/images/mini-batch.png\")"
   ]
  },
  {
   "cell_type": "code",
   "execution_count": 30,
   "metadata": {},
   "outputs": [],
   "source": [
    "# It's choosen a batch size (i.e., numbers of samples per batch) of 4, and separate this process in 2 (number of workers = 2)\n",
    "wine_dataloader = DataLoader(dataset=wine_dataset, batch_size=4, shuffle=True, num_workers=2)"
   ]
  },
  {
   "cell_type": "code",
   "execution_count": 31,
   "metadata": {},
   "outputs": [
    {
     "name": "stdout",
     "output_type": "stream",
     "text": [
      "Epoch 1/2 | Batch  50/400 | Batch shape torch.Size([4, 11])\n",
      "Epoch 1/2 | Batch 100/400 | Batch shape torch.Size([4, 11])\n",
      "Epoch 1/2 | Batch 150/400 | Batch shape torch.Size([4, 11])\n",
      "Epoch 1/2 | Batch 200/400 | Batch shape torch.Size([4, 11])\n",
      "Epoch 1/2 | Batch 250/400 | Batch shape torch.Size([4, 11])\n",
      "Epoch 1/2 | Batch 300/400 | Batch shape torch.Size([4, 11])\n",
      "Epoch 1/2 | Batch 350/400 | Batch shape torch.Size([4, 11])\n",
      "Epoch 1/2 | Batch 400/400 | Batch shape torch.Size([3, 11])\n",
      "Epoch 2/2 | Batch  50/400 | Batch shape torch.Size([4, 11])\n",
      "Epoch 2/2 | Batch 100/400 | Batch shape torch.Size([4, 11])\n",
      "Epoch 2/2 | Batch 150/400 | Batch shape torch.Size([4, 11])\n",
      "Epoch 2/2 | Batch 200/400 | Batch shape torch.Size([4, 11])\n",
      "Epoch 2/2 | Batch 250/400 | Batch shape torch.Size([4, 11])\n",
      "Epoch 2/2 | Batch 300/400 | Batch shape torch.Size([4, 11])\n",
      "Epoch 2/2 | Batch 350/400 | Batch shape torch.Size([4, 11])\n",
      "Epoch 2/2 | Batch 400/400 | Batch shape torch.Size([3, 11])\n"
     ]
    }
   ],
   "source": [
    "n_epochs = 2\n",
    "n_samples = len(wine_dataset)\n",
    "n_iters = len(wine_dataloader)\n",
    "\n",
    "for epoch in range(n_epochs):\n",
    "    for i, (X, y) in enumerate(wine_dataloader):\n",
    "        if (i+1) % 50 == 0:\n",
    "            print(\n",
    "                r'Epoch {epoch}/{n_epochs} | Batch {i:3}/{n_iters:} | Batch shape {X_shape}'.format(\n",
    "                    epoch=epoch+1, i=i+1,                                                                      \n",
    "                    n_epochs=n_epochs, n_iters=n_iters,                                                                                \n",
    "                    X_shape=X.shape)\n",
    "            )"
   ]
  },
  {
   "cell_type": "markdown",
   "metadata": {},
   "source": [
    "---"
   ]
  },
  {
   "cell_type": "markdown",
   "metadata": {},
   "source": [
    "## 1.9: Dataset Transforms"
   ]
  },
  {
   "cell_type": "markdown",
   "metadata": {},
   "source": [
    "Transforms are built-in transformations applied to datasets, wheter its datatype is a tensor, a ndarray or a PIL image.\n",
    "\n",
    "A few examples of transformations are:\n",
    "\n",
    "    Images\n",
    "    -------\n",
    "    Pad, CenterCrop, GrayScale, RandomAffine, Resize, Scale.\n",
    "\n",
    "    Tensors\n",
    "    -------\n",
    "    LinearTransformation, Normalize, RandomErasing\n",
    "\n",
    "    Conversions\n",
    "    -----------\n",
    "    ToPILImage: tensor -> ndarray\n",
    "    ToTensor:   ndarray -> tensor\n",
    "\n",
    "    Generic\n",
    "    -------\n",
    "    Lambda function\n",
    "\n",
    "    Custom\n",
    "    ------\n",
    "    Write your own class\n",
    "\n",
    "    Compose\n",
    "    -------\n",
    "    Design a list of transformations:\n",
    "        composed = torchvision.transforms.Compose(\n",
    "            [Rescale(256),\n",
    "            RandomCrop(128)]\n",
    "        )\n",
    "\n",
    "For more details, a complete list of all built-in transform functions is available at: https://pytorch.org/vision/stable/transforms.html"
   ]
  },
  {
   "cell_type": "markdown",
   "metadata": {},
   "source": [
    "Let's use our own custom class dataset implemented before in order to make two transformations:\n",
    "\n",
    "1. Transform from ndarray to tensor\n",
    "2. Exponentiate our data"
   ]
  },
  {
   "cell_type": "code",
   "execution_count": 32,
   "metadata": {},
   "outputs": [],
   "source": [
    "# Custom WineDataset class\n",
    "class WineDataset(Dataset):\n",
    "\n",
    "    def __init__(self, file_path, transform):\n",
    "        dataset = np.loadtxt(file_path, delimiter=\",\", dtype=np.float32, skiprows=1)\n",
    "        self.X = dataset[:, 1:]\n",
    "        self.y = dataset[:, [0]]\n",
    "        self.n_samples = self.X.shape[0]\n",
    "        self.transform = transform\n",
    "\n",
    "    def __getitem__(self, index):\n",
    "        sample = self.X[index], self.y[index]\n",
    "\n",
    "        if self.transform:\n",
    "            sample = self.transform(sample)\n",
    "\n",
    "        return sample\n",
    "\n",
    "    def __len__(self):\n",
    "        return self.n_samples"
   ]
  },
  {
   "cell_type": "code",
   "execution_count": 33,
   "metadata": {},
   "outputs": [],
   "source": [
    "# Transform classes\n",
    "\n",
    "class ToTensor:\n",
    "    ''' \n",
    "    Transform ndarray data into tensor\n",
    "    '''\n",
    "\n",
    "    def __call__(self, sample):\n",
    "        inputs, labels = sample\n",
    "        sample = torch.from_numpy(inputs), torch.from_numpy(labels) \n",
    "\n",
    "        return sample\n",
    "\n",
    "class PowTransform:\n",
    "    ''' \n",
    "     Raise inputs to a power 'n'\n",
    "    '''\n",
    "\n",
    "    def __init__(self, n):\n",
    "        self.power = n\n",
    "\n",
    "    def __call__(self, sample):\n",
    "        inputs, labels = sample\n",
    "        sample = inputs.pow(self.power), labels\n",
    "\n",
    "        return sample"
   ]
  },
  {
   "cell_type": "code",
   "execution_count": 34,
   "metadata": {},
   "outputs": [],
   "source": [
    "path = './data/winequality-red.csv'\n",
    "composed = torchvision.transforms.Compose([ToTensor(), PowTransform(2)])"
   ]
  },
  {
   "cell_type": "code",
   "execution_count": 35,
   "metadata": {},
   "outputs": [
    {
     "name": "stdout",
     "output_type": "stream",
     "text": [
      "<class 'numpy.ndarray'> <class 'numpy.ndarray'>\n",
      "[ 7.4     0.7     0.      1.9     0.076  11.     34.      0.9978  3.51\n",
      "  0.56    9.4   ]\n"
     ]
    }
   ],
   "source": [
    "# Without transformation\n",
    "wine_dataset = WineDataset(file_path=path, transform=None)\n",
    "\n",
    "first_data = wine_dataset[0]\n",
    "features, labels = first_data\n",
    "\n",
    "print(type(features), type(labels))\n",
    "print(features)"
   ]
  },
  {
   "cell_type": "code",
   "execution_count": 36,
   "metadata": {},
   "outputs": [
    {
     "name": "stdout",
     "output_type": "stream",
     "text": [
      "<class 'torch.Tensor'> <class 'torch.Tensor'>\n",
      "tensor([5.4760e+01, 4.9000e-01, 0.0000e+00, 3.6100e+00, 5.7760e-03, 1.2100e+02,\n",
      "        1.1560e+03, 9.9560e-01, 1.2320e+01, 3.1360e-01, 8.8360e+01])\n"
     ]
    }
   ],
   "source": [
    "# With transformation\n",
    "wine_dataset = WineDataset(file_path=path, transform=composed)\n",
    "\n",
    "first_data = wine_dataset[0]\n",
    "features, labels = first_data\n",
    "\n",
    "print(type(features), type(labels))\n",
    "print(features)"
   ]
  },
  {
   "cell_type": "markdown",
   "metadata": {},
   "source": [
    "---"
   ]
  },
  {
   "cell_type": "markdown",
   "metadata": {},
   "source": [
    "## 1.10: Softmax & Cross-Entropy"
   ]
  },
  {
   "cell_type": "markdown",
   "metadata": {},
   "source": [
    "Softmax and Cross-Entropy are two frequently used functions in the field and, in particular, in neural network models. Let's dive into the math and intuition behind these functions:"
   ]
  },
  {
   "cell_type": "markdown",
   "metadata": {},
   "source": [
    "### 1. Softmax"
   ]
  },
  {
   "cell_type": "markdown",
   "metadata": {},
   "source": [
    "Softmax formula is represented below:\n",
    "\n",
    "$$S(Y_i) = \\dfrac{e^{Y_i}}{\\sum_{j} e^{Y_j}}$$\n",
    "\n",
    "What this function does is normalize all $Y_i$ values to keep them between $[0,1]$. In other words, it transforms real values to probability values, making sure that it respects Kolmogorov axioms (Probability Theory axioms). In our case, we use it in order to pick up the class with the greatest probability in our model's prediction. As an example, take a look in the image below. In a 3-classes classification problem, for that particular fiction observation, our model would choose the first one (with almost $80\\%$ probability that this is observation's class)."
   ]
  },
  {
   "cell_type": "code",
   "execution_count": 37,
   "metadata": {},
   "outputs": [
    {
     "data": {
      "image/png": "[encoded data removed]",
      "text/plain": [
       "<IPython.core.display.Image object>"
      ]
     },
     "execution_count": 37,
     "metadata": {},
     "output_type": "execute_result"
    }
   ],
   "source": [
    "Image(filename=\"assets/images/softmax_ex.png\")"
   ]
  },
  {
   "cell_type": "markdown",
   "metadata": {},
   "source": [
    "As we've done before, let's implement Softmax function in two ways: (i) from scratch; (ii) with Pytorch."
   ]
  },
  {
   "cell_type": "code",
   "execution_count": 38,
   "metadata": {},
   "outputs": [
    {
     "name": "stdout",
     "output_type": "stream",
     "text": [
      "Probabilities: [0.79 0.02 0.19] (as expected!)\n"
     ]
    }
   ],
   "source": [
    "# Softmax function from scratch\n",
    "def softmax(logits):\n",
    "    return np.exp(logits)/np.sum(np.exp(logits))\n",
    "\n",
    "logits = np.array([4, 0.1, 2.6])\n",
    "y_hat = softmax(logits)\n",
    "\n",
    "print('Probabilities:', np.round(y_hat, 2), '(as expected!)')"
   ]
  },
  {
   "cell_type": "code",
   "execution_count": 39,
   "metadata": {},
   "outputs": [
    {
     "name": "stdout",
     "output_type": "stream",
     "text": [
      "Probabilities: [0.79 0.02 0.19] (as expected!)\n"
     ]
    }
   ],
   "source": [
    "# Softmax function with Pytorch\n",
    "logits = torch.tensor([4, 0.1, 2.6])\n",
    "y_hat = torch.softmax(logits, dim=0)\n",
    "\n",
    "print('Probabilities:', np.round(y_hat.numpy(), 2), '(as expected!)')"
   ]
  },
  {
   "cell_type": "markdown",
   "metadata": {},
   "source": [
    "### 2. Cross-Entropy"
   ]
  },
  {
   "cell_type": "markdown",
   "metadata": {},
   "source": [
    "As stated above, Cross-Entropy is another famous function used in the field. In this case, it's used as the loss function which we want to optimize in classification problems. Its formula is represented below:\n",
    "\n",
    "$$H(\\hat{Y}, Y) = -\\dfrac{1}{N}\\sum_{i}^{N}Y_{i}log(\\hat{Y_{i}})$$\n",
    "\n",
    "Cross-Entropy is a measure of the difference between two probability distributions of two random variables (or functions). Intuitively, if the probability distribution of our model's prediction is similar to that of the real label, them cross-entropy will have a small value. Otherwise, i.e. the two probability distributions are different, cross-entropy is high. Examples are shown below:\n",
    "\n",
    "1)\n",
    "$\n",
    "{Y = [1, 0, 0] \\\\ \\hat{Y_{1}} = [0.79, 0.02, 0.19]} H_{1}(\\hat{Y_{1}}, Y) = 0.24\n",
    "$\n",
    "\n",
    "2)\n",
    "$\n",
    "{Y = [1, 0, 0] \\\\ \\hat{Y_{2}} = [0.19, 0.02, 0.79]} H_{2}(\\hat{Y_{2}}, Y) = 1.66\n",
    "$\n",
    "\n",
    "**Obs. (1):** To compute cross-entropy, labels must be one-hot encoded (just like it is in the example) and predictions must be probabilities (i.e., it must be transformed by softmax).\n",
    "\n",
    "**Obs. (2):** Pytorch's Cross-Entropy interface (_torch.nn.CrossEntropyLoss()_) ease things a little bit. Our label vector doesn't need to be one-hot encoded, so label values are just the class value. Also, it internally applies softmax to the prediction vector. Thus we need to pass the logits vector. This observation is **paramount** because when we start coding our neural networks in the future we'll need to remind that Pytorch's Cross-Entropy Loss already pass results in a Softmax layer, therefore we don't need to add this layer again. Nonetheless, in the case the intended task is a binary classification, Pytorch's Binary Cross-Entropy Loss (_torch.nn.BCELoss()_) will require a Sigmoid function layer in the end of the neural network. Please keep that in mind!"
   ]
  },
  {
   "cell_type": "code",
   "execution_count": 40,
   "metadata": {},
   "outputs": [
    {
     "data": {
      "text/latex": [
       "$\\displaystyle H_1 = 0.24 \\ | \\ H_2 = 1.66 \\ (as \\ expected!)$"
      ],
      "text/plain": [
       "<IPython.core.display.Math object>"
      ]
     },
     "metadata": {},
     "output_type": "display_data"
    }
   ],
   "source": [
    "# Cross-Entropy function from scratch\n",
    "def cross_entropy(y, y_hat):\n",
    "    N = 1\n",
    "    return -np.sum(y*np.log(y_hat))/N\n",
    "\n",
    "y = np.array([1, 0, 0])\n",
    "y_hat_1 = np.array([0.79, 0.02, 0.19])\n",
    "y_hat_2 = np.array([0.19, 0.02, 0.79])\n",
    "\n",
    "CE_1 = cross_entropy(y, y_hat_1)\n",
    "CE_2 = cross_entropy(y, y_hat_2)\n",
    "\n",
    "display(Math(r'H_1 = {ce_1:.2f} \\ | \\ H_2 = {ce_2:.2f} \\ (as \\ expected!)'.format(ce_1=CE_1, ce_2=CE_2)))"
   ]
  },
  {
   "cell_type": "code",
   "execution_count": 41,
   "metadata": {},
   "outputs": [
    {
     "data": {
      "text/latex": [
       "$\\displaystyle H_1 = 0.24 \\ | \\ H_2 = 1.64 \\ (as \\ expected!)$"
      ],
      "text/plain": [
       "<IPython.core.display.Math object>"
      ]
     },
     "metadata": {},
     "output_type": "display_data"
    }
   ],
   "source": [
    "# Cross-Entropy function with Pytorch\n",
    "y = torch.tensor([0]) # Only one label in a 3-classes classification problem.\n",
    "y_hat_1 = torch.tensor([[4, 0.1, 2.6]])\n",
    "y_hat_2 = torch.tensor([[2.6, 0.1, 4]])\n",
    "\n",
    "loss = nn.CrossEntropyLoss()\n",
    "CE_1 = loss(y_hat_1, y)\n",
    "CE_2 = loss(y_hat_2, y)\n",
    "\n",
    "display(Math(r'H_1 = {ce_1:.2f} \\ | \\ H_2 = {ce_2:.2f} \\ (as \\ expected!)'.format(ce_1=CE_1, ce_2=CE_2)))"
   ]
  },
  {
   "cell_type": "markdown",
   "metadata": {},
   "source": [
    "---"
   ]
  },
  {
   "cell_type": "markdown",
   "metadata": {},
   "source": [
    "## 1.11: Activation Functions"
   ]
  },
  {
   "cell_type": "markdown",
   "metadata": {},
   "source": [
    "Activation functions are important features of neural networks because they allow them to **model non-linear relations** present in the data. An analogy often used is that of the all-or-none principle that control our nerve cells' response given a stimulus and the intuition behind activation functions on artificial neural networks (yet, this comparison is quite questionable).\n",
    "\n",
    "Next, we're going to see some of the activation functions implemented in Pytorch and their idiosyncrasies:"
   ]
  },
  {
   "cell_type": "markdown",
   "metadata": {},
   "source": [
    "### 1. Step Function"
   ]
  },
  {
   "cell_type": "markdown",
   "metadata": {},
   "source": [
    "This is the most simple activation function. It's described as follows:\n",
    "\n",
    "$$f(x) = \\left\\{\n",
    "\\begin{array}{ll}\n",
    "    1,  & x \\geq a \\\\\n",
    "    0,  & x < a\\\\\n",
    "\\end{array}\n",
    "\\right.\n",
    "$$\n",
    "\n",
    "That means whenever the neuron value is greater than a value ($a$, in this case), then it activates.\n",
    "\n",
    "**Obs.:** This function is hardly ever used.\n",
    "\n",
    "Below, it's a graphic representation of that function:"
   ]
  },
  {
   "cell_type": "code",
   "execution_count": 42,
   "metadata": {},
   "outputs": [
    {
     "data": {
      "image/png": "[encoded data removed]",
      "text/plain": [
       "<Figure size 576x576 with 1 Axes>"
      ]
     },
     "metadata": {
      "needs_background": "light"
     },
     "output_type": "display_data"
    }
   ],
   "source": [
    "X = np.linspace(-2, 4, 1000, dtype=np.float64)\n",
    "X = torch.from_numpy(X)\n",
    "inputs = X\n",
    "values = torch.tensor([1], dtype=torch.float64)\n",
    "\n",
    "a = 1\n",
    "step = torch.heaviside(inputs-a, values) # Pytorch's step function\n",
    "step = step.numpy()\n",
    "\n",
    "fig, axs = plt.subplots(1, 1, figsize=(8,8))\n",
    "axs.plot(inputs, step, 'b-', label=\"Step\")\n",
    "axs.legend(loc=\"upper left\")\n",
    "axs.set_ylim([-2, 3])\n",
    "plt.grid()\n",
    "plt.show()"
   ]
  },
  {
   "cell_type": "markdown",
   "metadata": {},
   "source": [
    "### 2. Logistic"
   ]
  },
  {
   "cell_type": "markdown",
   "metadata": {},
   "source": [
    "Logistic function, also kwon as sigmoid, is an activation function that outputs a probability value and is usually used in the last layer of a binary classification problem. It's formula is represented below:\n",
    "\n",
    "$$f(x) = \\dfrac{1}{1+e^{-x}}$$\n",
    "\n",
    "Graphically, logistic function is as follows:"
   ]
  },
  {
   "cell_type": "code",
   "execution_count": 43,
   "metadata": {},
   "outputs": [
    {
     "data": {
      "image/png": "[encoded data removed]",
      "text/plain": [
       "<Figure size 576x576 with 1 Axes>"
      ]
     },
     "metadata": {
      "needs_background": "light"
     },
     "output_type": "display_data"
    }
   ],
   "source": [
    "X = np.linspace(-15, 15, 1000, dtype=np.float64)\n",
    "X = torch.from_numpy(X)\n",
    "\n",
    "logistic = nn.Sigmoid() # Pytorch's logistic function (also known as just sigmoid)\n",
    "logits = logistic(X)\n",
    "logits = logits.numpy()\n",
    "\n",
    "fig, axs = plt.subplots(1, 1, figsize=(8,8))\n",
    "axs.plot(X, logits, 'b-', label=\"Logistic\")\n",
    "axs.legend(loc=\"upper left\")\n",
    "axs.set_xlim([-16, 16])\n",
    "plt.grid()\n",
    "plt.show()"
   ]
  },
  {
   "cell_type": "markdown",
   "metadata": {},
   "source": [
    "### 3. Tanh"
   ]
  },
  {
   "cell_type": "markdown",
   "metadata": {},
   "source": [
    "Tanh is another function from the sigmoid family. Nonetheless, instead of having its output value between $[0,1]$, it's scaled and shifted in order to be between $[-1,1]$. The formula and plot is represented below:\n",
    "\n",
    "$$f(x) = \\dfrac{2}{1 + e^{-2x}} - 1$$"
   ]
  },
  {
   "cell_type": "code",
   "execution_count": 44,
   "metadata": {},
   "outputs": [
    {
     "data": {
      "image/png": "[encoded data removed]",
      "text/plain": [
       "<Figure size 576x576 with 1 Axes>"
      ]
     },
     "metadata": {
      "needs_background": "light"
     },
     "output_type": "display_data"
    }
   ],
   "source": [
    "X = np.linspace(-15, 15, 1000, dtype=np.float64)\n",
    "X = torch.from_numpy(X)\n",
    "\n",
    "sigmoid_tanh = nn.Tanh() # Pytorch's tanh function\n",
    "tanh = sigmoid_tanh(X)\n",
    "tanh = tanh.numpy()\n",
    "\n",
    "fig, axs = plt.subplots(1, 1, figsize=(8,8))\n",
    "axs.plot(X, tanh, 'b-', label=\"Tanh\")\n",
    "axs.legend(loc=\"upper left\")\n",
    "axs.set_xlim([-16, 16])\n",
    "plt.grid()\n",
    "plt.show()"
   ]
  },
  {
   "cell_type": "markdown",
   "metadata": {},
   "source": [
    "### 4. ReLU"
   ]
  },
  {
   "cell_type": "markdown",
   "metadata": {},
   "source": [
    "Probably the most popular activation function (and the best candidate if you're in doubt which one to use), ReLU outputs $0$ in the case input is **negative**, and is the idendity ($f(x) = x$) otherwise. ReLU formula is below:\n",
    "\n",
    "$$f(x) = max(0, x)$$\n",
    "\n",
    "Next, it's presented ReLU graphically:"
   ]
  },
  {
   "cell_type": "code",
   "execution_count": 45,
   "metadata": {},
   "outputs": [
    {
     "data": {
      "image/png": "[encoded data removed]",
      "text/plain": [
       "<Figure size 576x576 with 1 Axes>"
      ]
     },
     "metadata": {
      "needs_background": "light"
     },
     "output_type": "display_data"
    }
   ],
   "source": [
    "X = np.linspace(-15, 15, 1000, dtype=np.float64)\n",
    "X = torch.from_numpy(X)\n",
    "\n",
    "relu_func = nn.ReLU() # Pytorch's ReLU function\n",
    "relu = relu_func(X)\n",
    "relu = relu.numpy()\n",
    "\n",
    "fig, axs = plt.subplots(1, 1, figsize=(8,8))\n",
    "axs.plot(X, relu, 'b-', label=\"ReLU\")\n",
    "axs.legend(loc=\"upper left\")\n",
    "axs.set_xlim([-16, 16])\n",
    "plt.grid()\n",
    "plt.show()"
   ]
  },
  {
   "cell_type": "markdown",
   "metadata": {},
   "source": [
    "### 5. Leaky ReLU"
   ]
  },
  {
   "cell_type": "markdown",
   "metadata": {},
   "source": [
    "Leaky ReLU is a variation of ReLU function, but it's not $0$ for negative input values. What this function seeks to improve is what is called vanishing gradient problem, which is the result of a null gradient value, due to null activation. To addres this problem, it's used a small term ($\\alpha$) (in the order of $0.01$) for negative input values, and so the gradient does not vanish. Leaky ReLU formula and its plot is as follows:\n",
    "\n",
    "$$f(x) = \\left\\{\n",
    "\\begin{array}{ll}\n",
    "    x,  & x \\geq 0 \\\\\n",
    "    {\\alpha}x,  & x < 0\\\\\n",
    "\\end{array}\n",
    "\\right.\n",
    "$$"
   ]
  },
  {
   "cell_type": "code",
   "execution_count": 46,
   "metadata": {},
   "outputs": [
    {
     "data": {
      "image/png": "[encoded data removed]",
      "text/plain": [
       "<Figure size 576x576 with 1 Axes>"
      ]
     },
     "metadata": {
      "needs_background": "light"
     },
     "output_type": "display_data"
    }
   ],
   "source": [
    "X = np.linspace(-15, 15, 1000, dtype=np.float64)\n",
    "X = torch.from_numpy(X)\n",
    "\n",
    "leaky_relu_func = nn.LeakyReLU(negative_slope=0.02) # Pytorch's LeakyReLU function\n",
    "leaky_relu = leaky_relu_func(X)\n",
    "leaky_relu = leaky_relu.numpy()\n",
    "\n",
    "fig, axs = plt.subplots(1, 1, figsize=(8,8))\n",
    "axs.plot(X, leaky_relu, 'b-', label=\"Leaky ReLU\")\n",
    "axs.legend(loc=\"upper left\")\n",
    "axs.set_xlim([-16, 16])\n",
    "plt.grid()\n",
    "plt.show()"
   ]
  },
  {
   "cell_type": "markdown",
   "metadata": {},
   "source": [
    "### 6. Softmax"
   ]
  },
  {
   "cell_type": "markdown",
   "metadata": {},
   "source": [
    "Softmax formula is represented below:\n",
    "\n",
    "$$S(Y_i) = \\dfrac{e^{Y_i}}{\\sum_{j} e^{Y_j}}$$\n",
    "\n",
    "What this function does is normalize all $Y_i$ values to keep them between $[0,1]$. In other words, it transforms real values to probability values, making sure that it respects Kolmogorov axioms (Probability Theory axioms). In our case, we use it in order to pick up the class with the greatest probability in our model's prediction. As an example, take a look in the image below. In a 3-classes classification problem, for that particular fiction observation, our model would choose the first one (with almost $80\\%$ probability that this is observation's class)."
   ]
  },
  {
   "cell_type": "code",
   "execution_count": 47,
   "metadata": {},
   "outputs": [
    {
     "data": {
      "image/png": "[encoded data removed]",
      "text/plain": [
       "<IPython.core.display.Image object>"
      ]
     },
     "execution_count": 47,
     "metadata": {},
     "output_type": "execute_result"
    }
   ],
   "source": [
    "Image(filename=\"assets/images/softmax_ex.png\")"
   ]
  },
  {
   "cell_type": "code",
   "execution_count": 48,
   "metadata": {},
   "outputs": [
    {
     "name": "stdout",
     "output_type": "stream",
     "text": [
      "Probabilities: [0.79 0.02 0.19] (as expected!)\n"
     ]
    }
   ],
   "source": [
    "logits = torch.tensor([4, 0.1, 2.6])\n",
    "y_hat = torch.softmax(logits, dim=0) # Pytorch's softmax function\n",
    "\n",
    "print('Probabilities:', np.round(y_hat.numpy(), 2), '(as expected!)')"
   ]
  },
  {
   "cell_type": "markdown",
   "metadata": {},
   "source": [
    "---"
   ]
  },
  {
   "cell_type": "markdown",
   "metadata": {},
   "source": [
    "## 1.12: Feedforward Neural Networks"
   ]
  },
  {
   "cell_type": "markdown",
   "metadata": {},
   "source": [
    "We've seen, so far, how to construct and train our models with Pytorch, what are activation and loss functions (and some supported), how to load and transform datasets.\n",
    "\n",
    "In this sense, let's build a Multilayer Perceptron (MLP) with arbitrary numbers of hidden layers and units, and train it on MNIST dataset*.\n",
    "\n",
    "A MLP is a Feedforward Neural Network which has basically three entities:\n",
    "\n",
    "1. Input layer\n",
    "2. Hidden layer\n",
    "3. Output layer\n",
    "\n",
    "From one layer to another, two operations are done: (i) a linear combination between activations from previous layer and currently layer's parameters ($z = X*W + b$); (ii) neurons activation, via an activation function ($\\sigma(z) = f(z)$, for f as an activation function). In our example, we'll create a MLP in which it'll be possible to choose the deepth and size of layers.\n",
    "\n",
    "*MNIST is a dataset of handwritten digits (0-9) images. Pytorch already has an API in order to download MNIST dataset, which we'll see later. For more details, please check out the dataset website: http://yann.lecun.com/exdb/mnist/."
   ]
  },
  {
   "cell_type": "code",
   "execution_count": 49,
   "metadata": {},
   "outputs": [],
   "source": [
    "class NeuralNet(nn.Module):\n",
    "\n",
    "    def __init__(self, in_units, hid_units, hid_layers, out_units):\n",
    "        super().__init__()\n",
    "        self.num_in_units = in_units\n",
    "        self.num_hid_layers = hid_layers\n",
    "\n",
    "        self.hidden_layers = [nn.Linear(in_features=in_units, out_features=hid_units)]\n",
    "        self.act_functions = [nn.ReLU()]\n",
    "\n",
    "        for l in range(1, hid_layers):\n",
    "            self.hidden_layers.append(nn.Linear(in_features=hid_units, out_features=hid_units))\n",
    "            self.act_functions.append(nn.ReLU())\n",
    "\n",
    "        self.output_layer = nn.Linear(in_features=hid_units, out_features=out_units)\n",
    "\n",
    "    def forward(self, x):\n",
    "        x = x.view(-1, self.num_in_units)\n",
    "        out = self.hidden_layers[0](x)\n",
    "        out = self.act_functions[0](out)\n",
    "\n",
    "        for l in range(1, self.num_hid_layers):\n",
    "            out = self.hidden_layers[l](out)\n",
    "            out = self.act_functions[l](out)\n",
    "\n",
    "        prediction = self.output_layer(out)\n",
    "\n",
    "        return prediction"
   ]
  },
  {
   "cell_type": "code",
   "execution_count": 50,
   "metadata": {},
   "outputs": [],
   "source": [
    "# Define hyperparameters\n",
    "lr=0.001\n",
    "num_epochs=10\n",
    "batch_size = 32"
   ]
  },
  {
   "cell_type": "markdown",
   "metadata": {},
   "source": [
    "MNIST dataset contains $60.000$ training examples, and $10.000$ test examples. Here, we're loading it with $torchvision.datasets$ Pytorch's API, and passing it through a transformation from PIL images (original data format) to Pytorch Tensors."
   ]
  },
  {
   "cell_type": "code",
   "execution_count": 51,
   "metadata": {},
   "outputs": [],
   "source": [
    "# Loading and transforming data\n",
    "composed = torchvision.transforms.Compose([torchvision.transforms.ToTensor()])\n",
    "mnist_train_dataset = torchvision.datasets.MNIST(root='./data', train=True, download=True, transform=composed)\n",
    "train_dataloader = DataLoader(dataset=mnist_train_dataset, batch_size=batch_size, shuffle=True)\n",
    "\n",
    "mnist_test_dataset = torchvision.datasets.MNIST(root='./data', train=False, download=True, transform=composed)\n",
    "test_dataloader = DataLoader(dataset=mnist_test_dataset, batch_size=batch_size, shuffle=True)"
   ]
  },
  {
   "cell_type": "markdown",
   "metadata": {},
   "source": [
    "A few examples are shown below in order to understand the data a little bit:"
   ]
  },
  {
   "cell_type": "code",
   "execution_count": 52,
   "metadata": {},
   "outputs": [
    {
     "data": {
      "image/png": "[encoded data removed]",
      "text/plain": [
       "<Figure size 432x288 with 6 Axes>"
      ]
     },
     "metadata": {},
     "output_type": "display_data"
    }
   ],
   "source": [
    "examples = enumerate(train_dataloader)\n",
    "batch_idx, (example_features, example_targets) = next(examples)\n",
    "\n",
    "fig = plt.figure()\n",
    "\n",
    "for i in range(6):\n",
    "    plt.subplot(2, 3, i+1)\n",
    "    plt.tight_layout()\n",
    "    plt.imshow(example_features[i][0], cmap='gray')\n",
    "    plt.title(r'Ground Truth: {label}'.format(label=example_targets[i]))\n",
    "    plt.xticks([])\n",
    "    plt.yticks([])\n",
    "fig.show()"
   ]
  },
  {
   "cell_type": "markdown",
   "metadata": {},
   "source": [
    "Let's train our model and check train and test accuracy, in order to see our classifier performance:"
   ]
  },
  {
   "cell_type": "code",
   "execution_count": 53,
   "metadata": {
    "scrolled": true
   },
   "outputs": [
    {
     "name": "stderr",
     "output_type": "stream",
     "text": [
      "/home/cdeberaldini/miniconda3/envs/torch_env/lib/python3.8/site-packages/torchvision/datasets/mnist.py:62: UserWarning: train_data has been renamed data\n",
      "  warnings.warn(\"train_data has been renamed data\")\n"
     ]
    },
    {
     "name": "stdout",
     "output_type": "stream",
     "text": [
      "Train Epoch 1/10 [    0/60000 ( 0%)] | Loss: 2.310246706008911\n",
      "Train Epoch 1/10 [  640/60000 ( 1%)] | Loss: 2.267606019973755\n",
      "Train Epoch 1/10 [ 1280/60000 ( 2%)] | Loss: 2.23445725440979\n",
      "Train Epoch 1/10 [ 1920/60000 ( 3%)] | Loss: 2.1661901473999023\n",
      "Train Epoch 1/10 [ 2560/60000 ( 4%)] | Loss: 2.117767333984375\n",
      "Train Epoch 1/10 [ 3200/60000 ( 5%)] | Loss: 2.1348743438720703\n",
      "Train Epoch 1/10 [ 3840/60000 ( 6%)] | Loss: 2.0352120399475098\n",
      "Train Epoch 1/10 [ 4480/60000 ( 7%)] | Loss: 2.004153251647949\n",
      "Train Epoch 1/10 [ 5120/60000 ( 9%)] | Loss: 2.059232711791992\n",
      "Train Epoch 1/10 [ 5760/60000 (10%)] | Loss: 1.8901792764663696\n",
      "Train Epoch 1/10 [ 6400/60000 (11%)] | Loss: 1.8889727592468262\n",
      "Train Epoch 1/10 [ 7040/60000 (12%)] | Loss: 1.9235905408859253\n",
      "Train Epoch 1/10 [ 7680/60000 (13%)] | Loss: 1.8406305313110352\n",
      "Train Epoch 1/10 [ 8320/60000 (14%)] | Loss: 1.870296597480774\n",
      "Train Epoch 1/10 [ 8960/60000 (15%)] | Loss: 1.8318463563919067\n",
      "Train Epoch 1/10 [ 9600/60000 (16%)] | Loss: 1.8290061950683594\n",
      "Train Epoch 1/10 [10240/60000 (17%)] | Loss: 1.8106228113174438\n",
      "Train Epoch 1/10 [10880/60000 (18%)] | Loss: 1.7887134552001953\n",
      "Train Epoch 1/10 [11520/60000 (19%)] | Loss: 1.808561086654663\n",
      "Train Epoch 1/10 [12160/60000 (20%)] | Loss: 1.5518313646316528\n",
      "Train Epoch 1/10 [12800/60000 (21%)] | Loss: 1.5990009307861328\n",
      "Train Epoch 1/10 [13440/60000 (22%)] | Loss: 1.5646318197250366\n",
      "Train Epoch 1/10 [14080/60000 (23%)] | Loss: 1.5915189981460571\n",
      "Train Epoch 1/10 [14720/60000 (25%)] | Loss: 1.4793426990509033\n",
      "Train Epoch 1/10 [15360/60000 (26%)] | Loss: 1.5363162755966187\n",
      "Train Epoch 1/10 [16000/60000 (27%)] | Loss: 1.484372615814209\n",
      "Train Epoch 1/10 [16640/60000 (28%)] | Loss: 1.464232325553894\n",
      "Train Epoch 1/10 [17280/60000 (29%)] | Loss: 1.3219184875488281\n",
      "Train Epoch 1/10 [17920/60000 (30%)] | Loss: 1.462817907333374\n",
      "Train Epoch 1/10 [18560/60000 (31%)] | Loss: 1.3850572109222412\n",
      "Train Epoch 1/10 [19200/60000 (32%)] | Loss: 1.438396692276001\n",
      "Train Epoch 1/10 [19840/60000 (33%)] | Loss: 1.3579798936843872\n",
      "Train Epoch 1/10 [20480/60000 (34%)] | Loss: 1.3244266510009766\n",
      "Train Epoch 1/10 [21120/60000 (35%)] | Loss: 1.2645323276519775\n",
      "Train Epoch 1/10 [21760/60000 (36%)] | Loss: 1.2938858270645142\n",
      "Train Epoch 1/10 [22400/60000 (37%)] | Loss: 1.4354684352874756\n",
      "Train Epoch 1/10 [23040/60000 (38%)] | Loss: 1.2523232698440552\n",
      "Train Epoch 1/10 [23680/60000 (39%)] | Loss: 1.22705078125\n",
      "Train Epoch 1/10 [24320/60000 (41%)] | Loss: 1.2903125286102295\n",
      "Train Epoch 1/10 [24960/60000 (42%)] | Loss: 1.2587041854858398\n",
      "Train Epoch 1/10 [25600/60000 (43%)] | Loss: 1.2778010368347168\n",
      "Train Epoch 1/10 [26240/60000 (44%)] | Loss: 1.3555364608764648\n",
      "Train Epoch 1/10 [26880/60000 (45%)] | Loss: 1.1694724559783936\n",
      "Train Epoch 1/10 [27520/60000 (46%)] | Loss: 1.1151899099349976\n",
      "Train Epoch 1/10 [28160/60000 (47%)] | Loss: 1.0847303867340088\n",
      "Train Epoch 1/10 [28800/60000 (48%)] | Loss: 1.359290599822998\n",
      "Train Epoch 1/10 [29440/60000 (49%)] | Loss: 1.1631989479064941\n",
      "Train Epoch 1/10 [30080/60000 (50%)] | Loss: 0.9957625865936279\n",
      "Train Epoch 1/10 [30720/60000 (51%)] | Loss: 1.0286858081817627\n",
      "Train Epoch 1/10 [31360/60000 (52%)] | Loss: 1.063741683959961\n",
      "Train Epoch 1/10 [32000/60000 (53%)] | Loss: 0.9414258599281311\n",
      "Train Epoch 1/10 [32640/60000 (54%)] | Loss: 1.11832857131958\n",
      "Train Epoch 1/10 [33280/60000 (55%)] | Loss: 1.101705551147461\n",
      "Train Epoch 1/10 [33920/60000 (57%)] | Loss: 1.0223071575164795\n",
      "Train Epoch 1/10 [34560/60000 (58%)] | Loss: 0.9720836877822876\n",
      "Train Epoch 1/10 [35200/60000 (59%)] | Loss: 1.0504884719848633\n",
      "Train Epoch 1/10 [35840/60000 (60%)] | Loss: 0.8771016597747803\n",
      "Train Epoch 1/10 [36480/60000 (61%)] | Loss: 1.142534852027893\n",
      "Train Epoch 1/10 [37120/60000 (62%)] | Loss: 1.0784119367599487\n",
      "Train Epoch 1/10 [37760/60000 (63%)] | Loss: 0.9896368384361267\n",
      "Train Epoch 1/10 [38400/60000 (64%)] | Loss: 0.9446021318435669\n",
      "Train Epoch 1/10 [39040/60000 (65%)] | Loss: 0.9856076836585999\n",
      "Train Epoch 1/10 [39680/60000 (66%)] | Loss: 0.9684581756591797\n",
      "Train Epoch 1/10 [40320/60000 (67%)] | Loss: 0.9448608160018921\n",
      "Train Epoch 1/10 [40960/60000 (68%)] | Loss: 0.9260767698287964\n",
      "Train Epoch 1/10 [41600/60000 (69%)] | Loss: 0.7843995094299316\n",
      "Train Epoch 1/10 [42240/60000 (70%)] | Loss: 1.0203403234481812\n",
      "Train Epoch 1/10 [42880/60000 (71%)] | Loss: 1.0585086345672607\n",
      "Train Epoch 1/10 [43520/60000 (73%)] | Loss: 1.0588042736053467\n",
      "Train Epoch 1/10 [44160/60000 (74%)] | Loss: 0.7218827605247498\n",
      "Train Epoch 1/10 [44800/60000 (75%)] | Loss: 0.7931693196296692\n",
      "Train Epoch 1/10 [45440/60000 (76%)] | Loss: 0.8699712753295898\n",
      "Train Epoch 1/10 [46080/60000 (77%)] | Loss: 0.9050816297531128\n",
      "Train Epoch 1/10 [46720/60000 (78%)] | Loss: 1.1003658771514893\n",
      "Train Epoch 1/10 [47360/60000 (79%)] | Loss: 0.8667453527450562\n",
      "Train Epoch 1/10 [48000/60000 (80%)] | Loss: 1.0752553939819336\n",
      "Train Epoch 1/10 [48640/60000 (81%)] | Loss: 0.9529784321784973\n",
      "Train Epoch 1/10 [49280/60000 (82%)] | Loss: 1.0031288862228394\n",
      "Train Epoch 1/10 [49920/60000 (83%)] | Loss: 0.9093855023384094\n",
      "Train Epoch 1/10 [50560/60000 (84%)] | Loss: 0.8387367129325867\n",
      "Train Epoch 1/10 [51200/60000 (85%)] | Loss: 1.0974974632263184\n",
      "Train Epoch 1/10 [51840/60000 (86%)] | Loss: 0.919240415096283\n",
      "Train Epoch 1/10 [52480/60000 (87%)] | Loss: 0.7649464011192322\n",
      "Train Epoch 1/10 [53120/60000 (89%)] | Loss: 0.7875699996948242\n",
      "Train Epoch 1/10 [53760/60000 (90%)] | Loss: 1.0763121843338013\n",
      "Train Epoch 1/10 [54400/60000 (91%)] | Loss: 0.8659294247627258\n",
      "Train Epoch 1/10 [55040/60000 (92%)] | Loss: 0.7370396256446838\n",
      "Train Epoch 1/10 [55680/60000 (93%)] | Loss: 0.862313985824585\n",
      "Train Epoch 1/10 [56320/60000 (94%)] | Loss: 0.7587061524391174\n",
      "Train Epoch 1/10 [56960/60000 (95%)] | Loss: 0.6303029656410217\n",
      "Train Epoch 1/10 [57600/60000 (96%)] | Loss: 0.7960594296455383\n",
      "Train Epoch 1/10 [58240/60000 (97%)] | Loss: 0.8353302478790283\n",
      "Train Epoch 1/10 [58880/60000 (98%)] | Loss: 0.8495132923126221\n",
      "Train Epoch 1/10 [59520/60000 (99%)] | Loss: 0.7633414268493652\n",
      "\n",
      "Train Acc.: [46825/60000 (78%)]\n",
      "Test Acc.:  [ 8514/10000 (85%)]\n",
      "\n",
      "Train Epoch 2/10 [    0/60000 ( 0%)] | Loss: 0.8585755228996277\n",
      "Train Epoch 2/10 [  640/60000 ( 1%)] | Loss: 0.7846459746360779\n",
      "Train Epoch 2/10 [ 1280/60000 ( 2%)] | Loss: 0.8898847103118896\n",
      "Train Epoch 2/10 [ 1920/60000 ( 3%)] | Loss: 0.7300546765327454\n",
      "Train Epoch 2/10 [ 2560/60000 ( 4%)] | Loss: 0.7785682082176208\n",
      "Train Epoch 2/10 [ 3200/60000 ( 5%)] | Loss: 0.9017398953437805\n",
      "Train Epoch 2/10 [ 3840/60000 ( 6%)] | Loss: 0.9007321000099182\n",
      "Train Epoch 2/10 [ 4480/60000 ( 7%)] | Loss: 0.7574595808982849\n",
      "Train Epoch 2/10 [ 5120/60000 ( 9%)] | Loss: 0.6685306429862976\n",
      "Train Epoch 2/10 [ 5760/60000 (10%)] | Loss: 0.7566301226615906\n",
      "Train Epoch 2/10 [ 6400/60000 (11%)] | Loss: 0.9349310994148254\n",
      "Train Epoch 2/10 [ 7040/60000 (12%)] | Loss: 0.6588694453239441\n",
      "Train Epoch 2/10 [ 7680/60000 (13%)] | Loss: 0.5687445402145386\n",
      "Train Epoch 2/10 [ 8320/60000 (14%)] | Loss: 0.8309856653213501\n",
      "Train Epoch 2/10 [ 8960/60000 (15%)] | Loss: 0.5750617384910583\n",
      "Train Epoch 2/10 [ 9600/60000 (16%)] | Loss: 0.6615362763404846\n",
      "Train Epoch 2/10 [10240/60000 (17%)] | Loss: 0.6629592776298523\n",
      "Train Epoch 2/10 [10880/60000 (18%)] | Loss: 0.7829911708831787\n",
      "Train Epoch 2/10 [11520/60000 (19%)] | Loss: 0.6179137229919434\n",
      "Train Epoch 2/10 [12160/60000 (20%)] | Loss: 0.7065537571907043\n",
      "Train Epoch 2/10 [12800/60000 (21%)] | Loss: 0.863009512424469\n",
      "Train Epoch 2/10 [13440/60000 (22%)] | Loss: 0.7659416794776917\n",
      "Train Epoch 2/10 [14080/60000 (23%)] | Loss: 0.8583441972732544\n",
      "Train Epoch 2/10 [14720/60000 (25%)] | Loss: 0.6254075765609741\n",
      "Train Epoch 2/10 [15360/60000 (26%)] | Loss: 0.7620245814323425\n",
      "Train Epoch 2/10 [16000/60000 (27%)] | Loss: 0.8808349967002869\n",
      "Train Epoch 2/10 [16640/60000 (28%)] | Loss: 0.6620264053344727\n",
      "Train Epoch 2/10 [17280/60000 (29%)] | Loss: 0.7343905568122864\n",
      "Train Epoch 2/10 [17920/60000 (30%)] | Loss: 0.7451130747795105\n",
      "Train Epoch 2/10 [18560/60000 (31%)] | Loss: 0.5594372153282166\n",
      "Train Epoch 2/10 [19200/60000 (32%)] | Loss: 0.7140145897865295\n",
      "Train Epoch 2/10 [19840/60000 (33%)] | Loss: 0.7440171241760254\n",
      "Train Epoch 2/10 [20480/60000 (34%)] | Loss: 0.7015316486358643\n",
      "Train Epoch 2/10 [21120/60000 (35%)] | Loss: 0.6731062531471252\n",
      "Train Epoch 2/10 [21760/60000 (36%)] | Loss: 0.6932304501533508\n",
      "Train Epoch 2/10 [22400/60000 (37%)] | Loss: 0.5042102336883545\n",
      "Train Epoch 2/10 [23040/60000 (38%)] | Loss: 0.657381534576416\n",
      "Train Epoch 2/10 [23680/60000 (39%)] | Loss: 0.5601935386657715\n",
      "Train Epoch 2/10 [24320/60000 (41%)] | Loss: 0.7897229790687561\n",
      "Train Epoch 2/10 [24960/60000 (42%)] | Loss: 0.6311712265014648\n",
      "Train Epoch 2/10 [25600/60000 (43%)] | Loss: 0.6977370977401733\n",
      "Train Epoch 2/10 [26240/60000 (44%)] | Loss: 0.6055623292922974\n",
      "Train Epoch 2/10 [26880/60000 (45%)] | Loss: 0.6248687505722046\n",
      "Train Epoch 2/10 [27520/60000 (46%)] | Loss: 0.7026651501655579\n",
      "Train Epoch 2/10 [28160/60000 (47%)] | Loss: 0.6020721197128296\n",
      "Train Epoch 2/10 [28800/60000 (48%)] | Loss: 0.5986888408660889\n",
      "Train Epoch 2/10 [29440/60000 (49%)] | Loss: 0.6840118765830994\n",
      "Train Epoch 2/10 [30080/60000 (50%)] | Loss: 0.4135132431983948\n",
      "Train Epoch 2/10 [30720/60000 (51%)] | Loss: 0.7617592811584473\n",
      "Train Epoch 2/10 [31360/60000 (52%)] | Loss: 0.677943229675293\n",
      "Train Epoch 2/10 [32000/60000 (53%)] | Loss: 0.5763821601867676\n",
      "Train Epoch 2/10 [32640/60000 (54%)] | Loss: 0.6660235524177551\n",
      "Train Epoch 2/10 [33280/60000 (55%)] | Loss: 0.7279712557792664\n",
      "Train Epoch 2/10 [33920/60000 (57%)] | Loss: 0.5745413303375244\n",
      "Train Epoch 2/10 [34560/60000 (58%)] | Loss: 0.5836389660835266\n",
      "Train Epoch 2/10 [35200/60000 (59%)] | Loss: 0.5549325346946716\n",
      "Train Epoch 2/10 [35840/60000 (60%)] | Loss: 0.7572280764579773\n",
      "Train Epoch 2/10 [36480/60000 (61%)] | Loss: 0.5555619597434998\n",
      "Train Epoch 2/10 [37120/60000 (62%)] | Loss: 0.5647259950637817\n",
      "Train Epoch 2/10 [37760/60000 (63%)] | Loss: 0.6138291358947754\n",
      "Train Epoch 2/10 [38400/60000 (64%)] | Loss: 0.6243221163749695\n",
      "Train Epoch 2/10 [39040/60000 (65%)] | Loss: 0.6525974869728088\n",
      "Train Epoch 2/10 [39680/60000 (66%)] | Loss: 0.65301513671875\n",
      "Train Epoch 2/10 [40320/60000 (67%)] | Loss: 0.678162157535553\n",
      "Train Epoch 2/10 [40960/60000 (68%)] | Loss: 0.6085012555122375\n",
      "Train Epoch 2/10 [41600/60000 (69%)] | Loss: 0.8550465106964111\n",
      "Train Epoch 2/10 [42240/60000 (70%)] | Loss: 0.7508059740066528\n",
      "Train Epoch 2/10 [42880/60000 (71%)] | Loss: 0.591909646987915\n",
      "Train Epoch 2/10 [43520/60000 (73%)] | Loss: 0.8023160696029663\n",
      "Train Epoch 2/10 [44160/60000 (74%)] | Loss: 0.5226445198059082\n",
      "Train Epoch 2/10 [44800/60000 (75%)] | Loss: 0.6001214981079102\n",
      "Train Epoch 2/10 [45440/60000 (76%)] | Loss: 0.5317586064338684\n",
      "Train Epoch 2/10 [46080/60000 (77%)] | Loss: 0.5947849750518799\n",
      "Train Epoch 2/10 [46720/60000 (78%)] | Loss: 0.7474645972251892\n",
      "Train Epoch 2/10 [47360/60000 (79%)] | Loss: 0.5756828188896179\n",
      "Train Epoch 2/10 [48000/60000 (80%)] | Loss: 0.6780698895454407\n",
      "Train Epoch 2/10 [48640/60000 (81%)] | Loss: 0.5805439352989197\n",
      "Train Epoch 2/10 [49280/60000 (82%)] | Loss: 0.6403409242630005\n",
      "Train Epoch 2/10 [49920/60000 (83%)] | Loss: 0.4712592661380768\n",
      "Train Epoch 2/10 [50560/60000 (84%)] | Loss: 0.39641931653022766\n",
      "Train Epoch 2/10 [51200/60000 (85%)] | Loss: 0.5232072472572327\n",
      "Train Epoch 2/10 [51840/60000 (86%)] | Loss: 0.6819648742675781\n",
      "Train Epoch 2/10 [52480/60000 (87%)] | Loss: 0.3067329227924347\n",
      "Train Epoch 2/10 [53120/60000 (89%)] | Loss: 0.6698561310768127\n",
      "Train Epoch 2/10 [53760/60000 (90%)] | Loss: 0.6535328030586243\n",
      "Train Epoch 2/10 [54400/60000 (91%)] | Loss: 0.7104954123497009\n",
      "Train Epoch 2/10 [55040/60000 (92%)] | Loss: 0.35696664452552795\n",
      "Train Epoch 2/10 [55680/60000 (93%)] | Loss: 0.5785403251647949\n",
      "Train Epoch 2/10 [56320/60000 (94%)] | Loss: 0.41674405336380005\n",
      "Train Epoch 2/10 [56960/60000 (95%)] | Loss: 0.3332286477088928\n",
      "Train Epoch 2/10 [57600/60000 (96%)] | Loss: 0.6010118722915649\n",
      "Train Epoch 2/10 [58240/60000 (97%)] | Loss: 0.4066102206707001\n",
      "Train Epoch 2/10 [58880/60000 (98%)] | Loss: 0.5045109391212463\n",
      "Train Epoch 2/10 [59520/60000 (99%)] | Loss: 0.6491217613220215\n",
      "\n",
      "Train Acc.: [51367/60000 (86%)]\n",
      "Test Acc.:  [ 8755/10000 (88%)]\n",
      "\n",
      "Train Epoch 3/10 [    0/60000 ( 0%)] | Loss: 0.5070693492889404\n",
      "Train Epoch 3/10 [  640/60000 ( 1%)] | Loss: 0.6200062036514282\n",
      "Train Epoch 3/10 [ 1280/60000 ( 2%)] | Loss: 0.6021367907524109\n",
      "Train Epoch 3/10 [ 1920/60000 ( 3%)] | Loss: 0.5615870952606201\n",
      "Train Epoch 3/10 [ 2560/60000 ( 4%)] | Loss: 0.5674806237220764\n",
      "Train Epoch 3/10 [ 3200/60000 ( 5%)] | Loss: 0.5173881649971008\n",
      "Train Epoch 3/10 [ 3840/60000 ( 6%)] | Loss: 0.41283026337623596\n",
      "Train Epoch 3/10 [ 4480/60000 ( 7%)] | Loss: 0.6702282428741455\n",
      "Train Epoch 3/10 [ 5120/60000 ( 9%)] | Loss: 0.615881085395813\n",
      "Train Epoch 3/10 [ 5760/60000 (10%)] | Loss: 0.6498579978942871\n",
      "Train Epoch 3/10 [ 6400/60000 (11%)] | Loss: 0.584645688533783\n",
      "Train Epoch 3/10 [ 7040/60000 (12%)] | Loss: 0.5524286031723022\n",
      "Train Epoch 3/10 [ 7680/60000 (13%)] | Loss: 0.5678144097328186\n",
      "Train Epoch 3/10 [ 8320/60000 (14%)] | Loss: 0.3312743306159973\n",
      "Train Epoch 3/10 [ 8960/60000 (15%)] | Loss: 0.43364599347114563\n",
      "Train Epoch 3/10 [ 9600/60000 (16%)] | Loss: 0.5394636988639832\n",
      "Train Epoch 3/10 [10240/60000 (17%)] | Loss: 0.5224063992500305\n",
      "Train Epoch 3/10 [10880/60000 (18%)] | Loss: 0.4594857096672058\n",
      "Train Epoch 3/10 [11520/60000 (19%)] | Loss: 0.5050104260444641\n",
      "Train Epoch 3/10 [12160/60000 (20%)] | Loss: 0.43869462609291077\n",
      "Train Epoch 3/10 [12800/60000 (21%)] | Loss: 0.8777298927307129\n",
      "Train Epoch 3/10 [13440/60000 (22%)] | Loss: 0.48170867562294006\n",
      "Train Epoch 3/10 [14080/60000 (23%)] | Loss: 0.5522231459617615\n",
      "Train Epoch 3/10 [14720/60000 (25%)] | Loss: 0.6076791882514954\n",
      "Train Epoch 3/10 [15360/60000 (26%)] | Loss: 0.7520838379859924\n",
      "Train Epoch 3/10 [16000/60000 (27%)] | Loss: 0.5580863952636719\n",
      "Train Epoch 3/10 [16640/60000 (28%)] | Loss: 0.4523463845252991\n",
      "Train Epoch 3/10 [17280/60000 (29%)] | Loss: 0.38120245933532715\n",
      "Train Epoch 3/10 [17920/60000 (30%)] | Loss: 0.4162191152572632\n",
      "Train Epoch 3/10 [18560/60000 (31%)] | Loss: 0.4724396765232086\n",
      "Train Epoch 3/10 [19200/60000 (32%)] | Loss: 0.4637862741947174\n",
      "Train Epoch 3/10 [19840/60000 (33%)] | Loss: 0.6183086037635803\n",
      "Train Epoch 3/10 [20480/60000 (34%)] | Loss: 0.7301649451255798\n",
      "Train Epoch 3/10 [21120/60000 (35%)] | Loss: 0.5492273569107056\n",
      "Train Epoch 3/10 [21760/60000 (36%)] | Loss: 0.49867504835128784\n",
      "Train Epoch 3/10 [22400/60000 (37%)] | Loss: 0.4825606942176819\n",
      "Train Epoch 3/10 [23040/60000 (38%)] | Loss: 0.31385427713394165\n",
      "Train Epoch 3/10 [23680/60000 (39%)] | Loss: 0.4132072925567627\n",
      "Train Epoch 3/10 [24320/60000 (41%)] | Loss: 0.6299693584442139\n",
      "Train Epoch 3/10 [24960/60000 (42%)] | Loss: 0.3921365439891815\n",
      "Train Epoch 3/10 [25600/60000 (43%)] | Loss: 0.3822474777698517\n",
      "Train Epoch 3/10 [26240/60000 (44%)] | Loss: 0.33153611421585083\n",
      "Train Epoch 3/10 [26880/60000 (45%)] | Loss: 0.41954222321510315\n",
      "Train Epoch 3/10 [27520/60000 (46%)] | Loss: 0.5461764335632324\n",
      "Train Epoch 3/10 [28160/60000 (47%)] | Loss: 0.6520575881004333\n",
      "Train Epoch 3/10 [28800/60000 (48%)] | Loss: 0.46646982431411743\n",
      "Train Epoch 3/10 [29440/60000 (49%)] | Loss: 0.4536150097846985\n",
      "Train Epoch 3/10 [30080/60000 (50%)] | Loss: 0.6564509272575378\n",
      "Train Epoch 3/10 [30720/60000 (51%)] | Loss: 0.4039626121520996\n",
      "Train Epoch 3/10 [31360/60000 (52%)] | Loss: 0.3339909017086029\n",
      "Train Epoch 3/10 [32000/60000 (53%)] | Loss: 0.6442700028419495\n",
      "Train Epoch 3/10 [32640/60000 (54%)] | Loss: 0.7047761082649231\n",
      "Train Epoch 3/10 [33280/60000 (55%)] | Loss: 0.4452148675918579\n",
      "Train Epoch 3/10 [33920/60000 (57%)] | Loss: 0.6083932518959045\n",
      "Train Epoch 3/10 [34560/60000 (58%)] | Loss: 0.35525909066200256\n",
      "Train Epoch 3/10 [35200/60000 (59%)] | Loss: 0.6652135848999023\n",
      "Train Epoch 3/10 [35840/60000 (60%)] | Loss: 0.6109911799430847\n",
      "Train Epoch 3/10 [36480/60000 (61%)] | Loss: 0.4833603799343109\n",
      "Train Epoch 3/10 [37120/60000 (62%)] | Loss: 0.413176566362381\n",
      "Train Epoch 3/10 [37760/60000 (63%)] | Loss: 0.559474766254425\n",
      "Train Epoch 3/10 [38400/60000 (64%)] | Loss: 0.3611721396446228\n",
      "Train Epoch 3/10 [39040/60000 (65%)] | Loss: 0.5839084982872009\n",
      "Train Epoch 3/10 [39680/60000 (66%)] | Loss: 0.2683974802494049\n",
      "Train Epoch 3/10 [40320/60000 (67%)] | Loss: 0.3226321041584015\n",
      "Train Epoch 3/10 [40960/60000 (68%)] | Loss: 0.2667112350463867\n",
      "Train Epoch 3/10 [41600/60000 (69%)] | Loss: 0.2886018455028534\n",
      "Train Epoch 3/10 [42240/60000 (70%)] | Loss: 0.5725850462913513\n",
      "Train Epoch 3/10 [42880/60000 (71%)] | Loss: 0.37588781118392944\n",
      "Train Epoch 3/10 [43520/60000 (73%)] | Loss: 0.5660972595214844\n",
      "Train Epoch 3/10 [44160/60000 (74%)] | Loss: 0.32824647426605225\n",
      "Train Epoch 3/10 [44800/60000 (75%)] | Loss: 0.44835323095321655\n",
      "Train Epoch 3/10 [45440/60000 (76%)] | Loss: 0.3307406008243561\n",
      "Train Epoch 3/10 [46080/60000 (77%)] | Loss: 0.25457265973091125\n",
      "Train Epoch 3/10 [46720/60000 (78%)] | Loss: 0.5047070384025574\n",
      "Train Epoch 3/10 [47360/60000 (79%)] | Loss: 0.6405090093612671\n",
      "Train Epoch 3/10 [48000/60000 (80%)] | Loss: 0.7667750716209412\n",
      "Train Epoch 3/10 [48640/60000 (81%)] | Loss: 0.5148142576217651\n",
      "Train Epoch 3/10 [49280/60000 (82%)] | Loss: 0.4766958951950073\n",
      "Train Epoch 3/10 [49920/60000 (83%)] | Loss: 0.5401569604873657\n",
      "Train Epoch 3/10 [50560/60000 (84%)] | Loss: 0.5745855569839478\n",
      "Train Epoch 3/10 [51200/60000 (85%)] | Loss: 0.4012044072151184\n",
      "Train Epoch 3/10 [51840/60000 (86%)] | Loss: 0.43439799547195435\n",
      "Train Epoch 3/10 [52480/60000 (87%)] | Loss: 0.42900997400283813\n",
      "Train Epoch 3/10 [53120/60000 (89%)] | Loss: 0.5174617171287537\n",
      "Train Epoch 3/10 [53760/60000 (90%)] | Loss: 0.5699480175971985\n",
      "Train Epoch 3/10 [54400/60000 (91%)] | Loss: 0.6367616057395935\n",
      "Train Epoch 3/10 [55040/60000 (92%)] | Loss: 0.4146796762943268\n",
      "Train Epoch 3/10 [55680/60000 (93%)] | Loss: 0.39760881662368774\n",
      "Train Epoch 3/10 [56320/60000 (94%)] | Loss: 0.3685181438922882\n",
      "Train Epoch 3/10 [56960/60000 (95%)] | Loss: 0.49194785952568054\n",
      "Train Epoch 3/10 [57600/60000 (96%)] | Loss: 0.37525320053100586\n",
      "Train Epoch 3/10 [58240/60000 (97%)] | Loss: 0.49645528197288513\n",
      "Train Epoch 3/10 [58880/60000 (98%)] | Loss: 0.4574407935142517\n",
      "Train Epoch 3/10 [59520/60000 (99%)] | Loss: 0.31356170773506165\n",
      "\n",
      "Train Acc.: [52540/60000 (88%)]\n",
      "Test Acc.:  [ 8888/10000 (89%)]\n",
      "\n",
      "Train Epoch 4/10 [    0/60000 ( 0%)] | Loss: 0.45166224241256714\n",
      "Train Epoch 4/10 [  640/60000 ( 1%)] | Loss: 0.4061257243156433\n",
      "Train Epoch 4/10 [ 1280/60000 ( 2%)] | Loss: 0.40679940581321716\n",
      "Train Epoch 4/10 [ 1920/60000 ( 3%)] | Loss: 0.4503399133682251\n",
      "Train Epoch 4/10 [ 2560/60000 ( 4%)] | Loss: 0.37145039439201355\n",
      "Train Epoch 4/10 [ 3200/60000 ( 5%)] | Loss: 0.46925482153892517\n",
      "Train Epoch 4/10 [ 3840/60000 ( 6%)] | Loss: 0.518086314201355\n",
      "Train Epoch 4/10 [ 4480/60000 ( 7%)] | Loss: 0.6078514456748962\n",
      "Train Epoch 4/10 [ 5120/60000 ( 9%)] | Loss: 0.5825449228286743\n",
      "Train Epoch 4/10 [ 5760/60000 (10%)] | Loss: 0.1552431583404541\n",
      "Train Epoch 4/10 [ 6400/60000 (11%)] | Loss: 0.4550551176071167\n",
      "Train Epoch 4/10 [ 7040/60000 (12%)] | Loss: 0.4540485739707947\n",
      "Train Epoch 4/10 [ 7680/60000 (13%)] | Loss: 0.3690516948699951\n",
      "Train Epoch 4/10 [ 8320/60000 (14%)] | Loss: 0.23332063853740692\n",
      "Train Epoch 4/10 [ 8960/60000 (15%)] | Loss: 0.3635600209236145\n",
      "Train Epoch 4/10 [ 9600/60000 (16%)] | Loss: 0.5456463098526001\n",
      "Train Epoch 4/10 [10240/60000 (17%)] | Loss: 0.2929242253303528\n",
      "Train Epoch 4/10 [10880/60000 (18%)] | Loss: 0.25297242403030396\n",
      "Train Epoch 4/10 [11520/60000 (19%)] | Loss: 0.47891750931739807\n",
      "Train Epoch 4/10 [12160/60000 (20%)] | Loss: 0.49040016531944275\n",
      "Train Epoch 4/10 [12800/60000 (21%)] | Loss: 0.3385879695415497\n",
      "Train Epoch 4/10 [13440/60000 (22%)] | Loss: 0.5038382411003113\n",
      "Train Epoch 4/10 [14080/60000 (23%)] | Loss: 0.3554324507713318\n",
      "Train Epoch 4/10 [14720/60000 (25%)] | Loss: 0.49276143312454224\n",
      "Train Epoch 4/10 [15360/60000 (26%)] | Loss: 0.5287155508995056\n",
      "Train Epoch 4/10 [16000/60000 (27%)] | Loss: 0.44750815629959106\n",
      "Train Epoch 4/10 [16640/60000 (28%)] | Loss: 0.45881304144859314\n",
      "Train Epoch 4/10 [17280/60000 (29%)] | Loss: 0.4357726573944092\n",
      "Train Epoch 4/10 [17920/60000 (30%)] | Loss: 0.49181967973709106\n",
      "Train Epoch 4/10 [18560/60000 (31%)] | Loss: 0.3830168843269348\n",
      "Train Epoch 4/10 [19200/60000 (32%)] | Loss: 0.19354639947414398\n",
      "Train Epoch 4/10 [19840/60000 (33%)] | Loss: 0.37432947754859924\n",
      "Train Epoch 4/10 [20480/60000 (34%)] | Loss: 0.46950000524520874\n",
      "Train Epoch 4/10 [21120/60000 (35%)] | Loss: 0.6168550848960876\n",
      "Train Epoch 4/10 [21760/60000 (36%)] | Loss: 0.39981481432914734\n",
      "Train Epoch 4/10 [22400/60000 (37%)] | Loss: 0.4748336970806122\n",
      "Train Epoch 4/10 [23040/60000 (38%)] | Loss: 0.43432340025901794\n",
      "Train Epoch 4/10 [23680/60000 (39%)] | Loss: 0.35840195417404175\n",
      "Train Epoch 4/10 [24320/60000 (41%)] | Loss: 0.24579492211341858\n",
      "Train Epoch 4/10 [24960/60000 (42%)] | Loss: 0.3151393532752991\n",
      "Train Epoch 4/10 [25600/60000 (43%)] | Loss: 0.5476825833320618\n",
      "Train Epoch 4/10 [26240/60000 (44%)] | Loss: 0.40088358521461487\n",
      "Train Epoch 4/10 [26880/60000 (45%)] | Loss: 0.4262634217739105\n",
      "Train Epoch 4/10 [27520/60000 (46%)] | Loss: 0.24346479773521423\n",
      "Train Epoch 4/10 [28160/60000 (47%)] | Loss: 0.3329828083515167\n",
      "Train Epoch 4/10 [28800/60000 (48%)] | Loss: 0.45305967330932617\n",
      "Train Epoch 4/10 [29440/60000 (49%)] | Loss: 0.6761614084243774\n",
      "Train Epoch 4/10 [30080/60000 (50%)] | Loss: 0.401359498500824\n",
      "Train Epoch 4/10 [30720/60000 (51%)] | Loss: 0.6487025022506714\n",
      "Train Epoch 4/10 [31360/60000 (52%)] | Loss: 0.46510806679725647\n",
      "Train Epoch 4/10 [32000/60000 (53%)] | Loss: 0.3867727518081665\n",
      "Train Epoch 4/10 [32640/60000 (54%)] | Loss: 0.6407113671302795\n",
      "Train Epoch 4/10 [33280/60000 (55%)] | Loss: 0.4015897512435913\n",
      "Train Epoch 4/10 [33920/60000 (57%)] | Loss: 0.3435457944869995\n",
      "Train Epoch 4/10 [34560/60000 (58%)] | Loss: 0.2277819663286209\n",
      "Train Epoch 4/10 [35200/60000 (59%)] | Loss: 0.40077340602874756\n",
      "Train Epoch 4/10 [35840/60000 (60%)] | Loss: 0.30259865522384644\n",
      "Train Epoch 4/10 [36480/60000 (61%)] | Loss: 0.5371107459068298\n",
      "Train Epoch 4/10 [37120/60000 (62%)] | Loss: 0.26852962374687195\n",
      "Train Epoch 4/10 [37760/60000 (63%)] | Loss: 0.33708423376083374\n",
      "Train Epoch 4/10 [38400/60000 (64%)] | Loss: 0.3287671208381653\n",
      "Train Epoch 4/10 [39040/60000 (65%)] | Loss: 0.5876985192298889\n",
      "Train Epoch 4/10 [39680/60000 (66%)] | Loss: 0.4340934455394745\n",
      "Train Epoch 4/10 [40320/60000 (67%)] | Loss: 0.5541578531265259\n",
      "Train Epoch 4/10 [40960/60000 (68%)] | Loss: 0.41881445050239563\n",
      "Train Epoch 4/10 [41600/60000 (69%)] | Loss: 0.4186020493507385\n",
      "Train Epoch 4/10 [42240/60000 (70%)] | Loss: 0.3113732933998108\n",
      "Train Epoch 4/10 [42880/60000 (71%)] | Loss: 0.35661545395851135\n",
      "Train Epoch 4/10 [43520/60000 (73%)] | Loss: 0.4647868573665619\n",
      "Train Epoch 4/10 [44160/60000 (74%)] | Loss: 0.42162975668907166\n",
      "Train Epoch 4/10 [44800/60000 (75%)] | Loss: 0.3430805504322052\n",
      "Train Epoch 4/10 [45440/60000 (76%)] | Loss: 0.3855365812778473\n",
      "Train Epoch 4/10 [46080/60000 (77%)] | Loss: 0.541930079460144\n",
      "Train Epoch 4/10 [46720/60000 (78%)] | Loss: 0.3307497501373291\n",
      "Train Epoch 4/10 [47360/60000 (79%)] | Loss: 0.35428738594055176\n",
      "Train Epoch 4/10 [48000/60000 (80%)] | Loss: 0.394182950258255\n",
      "Train Epoch 4/10 [48640/60000 (81%)] | Loss: 0.46636638045310974\n",
      "Train Epoch 4/10 [49280/60000 (82%)] | Loss: 0.37126922607421875\n",
      "Train Epoch 4/10 [49920/60000 (83%)] | Loss: 0.4176958203315735\n",
      "Train Epoch 4/10 [50560/60000 (84%)] | Loss: 0.2638961374759674\n",
      "Train Epoch 4/10 [51200/60000 (85%)] | Loss: 0.5300022959709167\n",
      "Train Epoch 4/10 [51840/60000 (86%)] | Loss: 0.36268603801727295\n",
      "Train Epoch 4/10 [52480/60000 (87%)] | Loss: 0.29402297735214233\n",
      "Train Epoch 4/10 [53120/60000 (89%)] | Loss: 0.43124282360076904\n",
      "Train Epoch 4/10 [53760/60000 (90%)] | Loss: 0.356228232383728\n",
      "Train Epoch 4/10 [54400/60000 (91%)] | Loss: 0.4901646673679352\n",
      "Train Epoch 4/10 [55040/60000 (92%)] | Loss: 0.37712475657463074\n",
      "Train Epoch 4/10 [55680/60000 (93%)] | Loss: 0.5808247327804565\n",
      "Train Epoch 4/10 [56320/60000 (94%)] | Loss: 0.3743726909160614\n",
      "Train Epoch 4/10 [56960/60000 (95%)] | Loss: 0.28379249572753906\n",
      "Train Epoch 4/10 [57600/60000 (96%)] | Loss: 0.3165952265262604\n",
      "Train Epoch 4/10 [58240/60000 (97%)] | Loss: 0.26042306423187256\n",
      "Train Epoch 4/10 [58880/60000 (98%)] | Loss: 0.5096067786216736\n",
      "Train Epoch 4/10 [59520/60000 (99%)] | Loss: 0.5957820415496826\n",
      "\n",
      "Train Acc.: [53184/60000 (89%)]\n",
      "Test Acc.:  [ 8971/10000 (90%)]\n",
      "\n",
      "Train Epoch 5/10 [    0/60000 ( 0%)] | Loss: 0.5108333230018616\n",
      "Train Epoch 5/10 [  640/60000 ( 1%)] | Loss: 0.5886368155479431\n",
      "Train Epoch 5/10 [ 1280/60000 ( 2%)] | Loss: 0.7191989421844482\n",
      "Train Epoch 5/10 [ 1920/60000 ( 3%)] | Loss: 0.4732324779033661\n",
      "Train Epoch 5/10 [ 2560/60000 ( 4%)] | Loss: 0.3661796748638153\n",
      "Train Epoch 5/10 [ 3200/60000 ( 5%)] | Loss: 0.206370010972023\n",
      "Train Epoch 5/10 [ 3840/60000 ( 6%)] | Loss: 0.18377165496349335\n",
      "Train Epoch 5/10 [ 4480/60000 ( 7%)] | Loss: 0.33021923899650574\n",
      "Train Epoch 5/10 [ 5120/60000 ( 9%)] | Loss: 0.3923097848892212\n",
      "Train Epoch 5/10 [ 5760/60000 (10%)] | Loss: 0.3955004811286926\n",
      "Train Epoch 5/10 [ 6400/60000 (11%)] | Loss: 0.3146911859512329\n",
      "Train Epoch 5/10 [ 7040/60000 (12%)] | Loss: 0.4472964107990265\n",
      "Train Epoch 5/10 [ 7680/60000 (13%)] | Loss: 0.5392988920211792\n",
      "Train Epoch 5/10 [ 8320/60000 (14%)] | Loss: 0.4354942739009857\n",
      "Train Epoch 5/10 [ 8960/60000 (15%)] | Loss: 0.3486312925815582\n",
      "Train Epoch 5/10 [ 9600/60000 (16%)] | Loss: 0.4130714237689972\n",
      "Train Epoch 5/10 [10240/60000 (17%)] | Loss: 0.3037491738796234\n",
      "Train Epoch 5/10 [10880/60000 (18%)] | Loss: 0.15961873531341553\n",
      "Train Epoch 5/10 [11520/60000 (19%)] | Loss: 0.4873441755771637\n",
      "Train Epoch 5/10 [12160/60000 (20%)] | Loss: 0.33650487661361694\n",
      "Train Epoch 5/10 [12800/60000 (21%)] | Loss: 0.41335949301719666\n",
      "Train Epoch 5/10 [13440/60000 (22%)] | Loss: 0.4855242669582367\n",
      "Train Epoch 5/10 [14080/60000 (23%)] | Loss: 0.27901315689086914\n",
      "Train Epoch 5/10 [14720/60000 (25%)] | Loss: 0.5583105683326721\n",
      "Train Epoch 5/10 [15360/60000 (26%)] | Loss: 0.4435192346572876\n",
      "Train Epoch 5/10 [16000/60000 (27%)] | Loss: 0.4033290147781372\n",
      "Train Epoch 5/10 [16640/60000 (28%)] | Loss: 0.4274863600730896\n",
      "Train Epoch 5/10 [17280/60000 (29%)] | Loss: 0.5351539850234985\n",
      "Train Epoch 5/10 [17920/60000 (30%)] | Loss: 0.5637060403823853\n",
      "Train Epoch 5/10 [18560/60000 (31%)] | Loss: 0.3139444589614868\n",
      "Train Epoch 5/10 [19200/60000 (32%)] | Loss: 0.3331819176673889\n",
      "Train Epoch 5/10 [19840/60000 (33%)] | Loss: 0.4160042107105255\n",
      "Train Epoch 5/10 [20480/60000 (34%)] | Loss: 0.564763069152832\n",
      "Train Epoch 5/10 [21120/60000 (35%)] | Loss: 0.5795910954475403\n",
      "Train Epoch 5/10 [21760/60000 (36%)] | Loss: 0.6071431636810303\n",
      "Train Epoch 5/10 [22400/60000 (37%)] | Loss: 0.3835447132587433\n",
      "Train Epoch 5/10 [23040/60000 (38%)] | Loss: 0.2754508852958679\n",
      "Train Epoch 5/10 [23680/60000 (39%)] | Loss: 0.2840019464492798\n",
      "Train Epoch 5/10 [24320/60000 (41%)] | Loss: 0.521353542804718\n",
      "Train Epoch 5/10 [24960/60000 (42%)] | Loss: 0.37702932953834534\n",
      "Train Epoch 5/10 [25600/60000 (43%)] | Loss: 0.5443907380104065\n",
      "Train Epoch 5/10 [26240/60000 (44%)] | Loss: 0.44994622468948364\n",
      "Train Epoch 5/10 [26880/60000 (45%)] | Loss: 0.30612659454345703\n",
      "Train Epoch 5/10 [27520/60000 (46%)] | Loss: 0.7513713836669922\n",
      "Train Epoch 5/10 [28160/60000 (47%)] | Loss: 0.3373347520828247\n",
      "Train Epoch 5/10 [28800/60000 (48%)] | Loss: 0.19691435992717743\n",
      "Train Epoch 5/10 [29440/60000 (49%)] | Loss: 0.4423547685146332\n",
      "Train Epoch 5/10 [30080/60000 (50%)] | Loss: 0.4295802116394043\n",
      "Train Epoch 5/10 [30720/60000 (51%)] | Loss: 0.4832344949245453\n",
      "Train Epoch 5/10 [31360/60000 (52%)] | Loss: 0.2742244005203247\n",
      "Train Epoch 5/10 [32000/60000 (53%)] | Loss: 0.23517261445522308\n",
      "Train Epoch 5/10 [32640/60000 (54%)] | Loss: 0.3356306552886963\n",
      "Train Epoch 5/10 [33280/60000 (55%)] | Loss: 0.2634730339050293\n",
      "Train Epoch 5/10 [33920/60000 (57%)] | Loss: 0.30383992195129395\n",
      "Train Epoch 5/10 [34560/60000 (58%)] | Loss: 0.35089361667633057\n",
      "Train Epoch 5/10 [35200/60000 (59%)] | Loss: 0.5096836686134338\n",
      "Train Epoch 5/10 [35840/60000 (60%)] | Loss: 0.25039491057395935\n",
      "Train Epoch 5/10 [36480/60000 (61%)] | Loss: 0.4712934195995331\n",
      "Train Epoch 5/10 [37120/60000 (62%)] | Loss: 0.5539480447769165\n",
      "Train Epoch 5/10 [37760/60000 (63%)] | Loss: 0.4717628061771393\n",
      "Train Epoch 5/10 [38400/60000 (64%)] | Loss: 0.37349560856819153\n",
      "Train Epoch 5/10 [39040/60000 (65%)] | Loss: 0.3499301075935364\n",
      "Train Epoch 5/10 [39680/60000 (66%)] | Loss: 0.2907963991165161\n",
      "Train Epoch 5/10 [40320/60000 (67%)] | Loss: 0.446881502866745\n",
      "Train Epoch 5/10 [40960/60000 (68%)] | Loss: 0.44718435406684875\n",
      "Train Epoch 5/10 [41600/60000 (69%)] | Loss: 0.3115020990371704\n",
      "Train Epoch 5/10 [42240/60000 (70%)] | Loss: 0.2502646744251251\n",
      "Train Epoch 5/10 [42880/60000 (71%)] | Loss: 0.37308135628700256\n",
      "Train Epoch 5/10 [43520/60000 (73%)] | Loss: 0.28178197145462036\n",
      "Train Epoch 5/10 [44160/60000 (74%)] | Loss: 0.23225310444831848\n",
      "Train Epoch 5/10 [44800/60000 (75%)] | Loss: 0.46286725997924805\n",
      "Train Epoch 5/10 [45440/60000 (76%)] | Loss: 0.6804822683334351\n",
      "Train Epoch 5/10 [46080/60000 (77%)] | Loss: 0.505601704120636\n",
      "Train Epoch 5/10 [46720/60000 (78%)] | Loss: 0.4378663897514343\n",
      "Train Epoch 5/10 [47360/60000 (79%)] | Loss: 0.4040221571922302\n",
      "Train Epoch 5/10 [48000/60000 (80%)] | Loss: 0.3943790793418884\n",
      "Train Epoch 5/10 [48640/60000 (81%)] | Loss: 0.494947224855423\n",
      "Train Epoch 5/10 [49280/60000 (82%)] | Loss: 0.2797397971153259\n",
      "Train Epoch 5/10 [49920/60000 (83%)] | Loss: 0.45517584681510925\n",
      "Train Epoch 5/10 [50560/60000 (84%)] | Loss: 0.5632355809211731\n",
      "Train Epoch 5/10 [51200/60000 (85%)] | Loss: 0.314647376537323\n",
      "Train Epoch 5/10 [51840/60000 (86%)] | Loss: 0.25103527307510376\n",
      "Train Epoch 5/10 [52480/60000 (87%)] | Loss: 0.3756638169288635\n",
      "Train Epoch 5/10 [53120/60000 (89%)] | Loss: 0.1486433893442154\n",
      "Train Epoch 5/10 [53760/60000 (90%)] | Loss: 0.5262848138809204\n",
      "Train Epoch 5/10 [54400/60000 (91%)] | Loss: 0.6800556778907776\n",
      "Train Epoch 5/10 [55040/60000 (92%)] | Loss: 0.39495229721069336\n",
      "Train Epoch 5/10 [55680/60000 (93%)] | Loss: 0.22622449696063995\n",
      "Train Epoch 5/10 [56320/60000 (94%)] | Loss: 0.20412768423557281\n",
      "Train Epoch 5/10 [56960/60000 (95%)] | Loss: 0.4717946946620941\n",
      "Train Epoch 5/10 [57600/60000 (96%)] | Loss: 0.5515700578689575\n",
      "Train Epoch 5/10 [58240/60000 (97%)] | Loss: 0.22164110839366913\n",
      "Train Epoch 5/10 [58880/60000 (98%)] | Loss: 0.2328019142150879\n",
      "Train Epoch 5/10 [59520/60000 (99%)] | Loss: 0.4576641917228699\n",
      "\n",
      "Train Acc.: [53624/60000 (89%)]\n",
      "Test Acc.:  [ 9028/10000 (90%)]\n",
      "\n",
      "Train Epoch 6/10 [    0/60000 ( 0%)] | Loss: 0.1600838303565979\n",
      "Train Epoch 6/10 [  640/60000 ( 1%)] | Loss: 0.2729320526123047\n",
      "Train Epoch 6/10 [ 1280/60000 ( 2%)] | Loss: 0.45562300086021423\n",
      "Train Epoch 6/10 [ 1920/60000 ( 3%)] | Loss: 0.5261925458908081\n",
      "Train Epoch 6/10 [ 2560/60000 ( 4%)] | Loss: 0.5652944445610046\n",
      "Train Epoch 6/10 [ 3200/60000 ( 5%)] | Loss: 0.4873925447463989\n",
      "Train Epoch 6/10 [ 3840/60000 ( 6%)] | Loss: 0.5258944034576416\n",
      "Train Epoch 6/10 [ 4480/60000 ( 7%)] | Loss: 0.24550791084766388\n",
      "Train Epoch 6/10 [ 5120/60000 ( 9%)] | Loss: 0.45584774017333984\n",
      "Train Epoch 6/10 [ 5760/60000 (10%)] | Loss: 0.336954802274704\n",
      "Train Epoch 6/10 [ 6400/60000 (11%)] | Loss: 0.42048853635787964\n",
      "Train Epoch 6/10 [ 7040/60000 (12%)] | Loss: 0.6275937557220459\n",
      "Train Epoch 6/10 [ 7680/60000 (13%)] | Loss: 0.19006946682929993\n",
      "Train Epoch 6/10 [ 8320/60000 (14%)] | Loss: 0.43448305130004883\n",
      "Train Epoch 6/10 [ 8960/60000 (15%)] | Loss: 0.5133433938026428\n",
      "Train Epoch 6/10 [ 9600/60000 (16%)] | Loss: 0.395420104265213\n",
      "Train Epoch 6/10 [10240/60000 (17%)] | Loss: 0.30231717228889465\n",
      "Train Epoch 6/10 [10880/60000 (18%)] | Loss: 0.7333042621612549\n",
      "Train Epoch 6/10 [11520/60000 (19%)] | Loss: 0.2405220866203308\n",
      "Train Epoch 6/10 [12160/60000 (20%)] | Loss: 0.32938551902770996\n",
      "Train Epoch 6/10 [12800/60000 (21%)] | Loss: 0.5671366453170776\n",
      "Train Epoch 6/10 [13440/60000 (22%)] | Loss: 0.16419629752635956\n",
      "Train Epoch 6/10 [14080/60000 (23%)] | Loss: 0.20821966230869293\n",
      "Train Epoch 6/10 [14720/60000 (25%)] | Loss: 0.4788316786289215\n",
      "Train Epoch 6/10 [15360/60000 (26%)] | Loss: 0.3170892000198364\n",
      "Train Epoch 6/10 [16000/60000 (27%)] | Loss: 0.3574490547180176\n",
      "Train Epoch 6/10 [16640/60000 (28%)] | Loss: 0.3606266677379608\n",
      "Train Epoch 6/10 [17280/60000 (29%)] | Loss: 0.41115880012512207\n",
      "Train Epoch 6/10 [17920/60000 (30%)] | Loss: 0.2682673931121826\n",
      "Train Epoch 6/10 [18560/60000 (31%)] | Loss: 0.3116297125816345\n",
      "Train Epoch 6/10 [19200/60000 (32%)] | Loss: 0.22070585191249847\n",
      "Train Epoch 6/10 [19840/60000 (33%)] | Loss: 0.3459998369216919\n",
      "Train Epoch 6/10 [20480/60000 (34%)] | Loss: 0.2506345510482788\n",
      "Train Epoch 6/10 [21120/60000 (35%)] | Loss: 0.46043869853019714\n",
      "Train Epoch 6/10 [21760/60000 (36%)] | Loss: 0.3077353537082672\n",
      "Train Epoch 6/10 [22400/60000 (37%)] | Loss: 0.8413352966308594\n",
      "Train Epoch 6/10 [23040/60000 (38%)] | Loss: 0.46057841181755066\n",
      "Train Epoch 6/10 [23680/60000 (39%)] | Loss: 0.21124109625816345\n",
      "Train Epoch 6/10 [24320/60000 (41%)] | Loss: 0.22952240705490112\n",
      "Train Epoch 6/10 [24960/60000 (42%)] | Loss: 0.3726232051849365\n",
      "Train Epoch 6/10 [25600/60000 (43%)] | Loss: 0.3356430232524872\n",
      "Train Epoch 6/10 [26240/60000 (44%)] | Loss: 0.15279385447502136\n",
      "Train Epoch 6/10 [26880/60000 (45%)] | Loss: 0.5057929158210754\n",
      "Train Epoch 6/10 [27520/60000 (46%)] | Loss: 0.38734009861946106\n",
      "Train Epoch 6/10 [28160/60000 (47%)] | Loss: 0.3846057057380676\n",
      "Train Epoch 6/10 [28800/60000 (48%)] | Loss: 0.388601154088974\n",
      "Train Epoch 6/10 [29440/60000 (49%)] | Loss: 0.35330918431282043\n",
      "Train Epoch 6/10 [30080/60000 (50%)] | Loss: 0.4589415490627289\n",
      "Train Epoch 6/10 [30720/60000 (51%)] | Loss: 0.6828821897506714\n",
      "Train Epoch 6/10 [31360/60000 (52%)] | Loss: 0.33679941296577454\n",
      "Train Epoch 6/10 [32000/60000 (53%)] | Loss: 0.46382808685302734\n",
      "Train Epoch 6/10 [32640/60000 (54%)] | Loss: 0.33544713258743286\n",
      "Train Epoch 6/10 [33280/60000 (55%)] | Loss: 0.4802100360393524\n",
      "Train Epoch 6/10 [33920/60000 (57%)] | Loss: 0.18689726293087006\n",
      "Train Epoch 6/10 [34560/60000 (58%)] | Loss: 0.35612183809280396\n",
      "Train Epoch 6/10 [35200/60000 (59%)] | Loss: 0.357869029045105\n",
      "Train Epoch 6/10 [35840/60000 (60%)] | Loss: 0.736964225769043\n",
      "Train Epoch 6/10 [36480/60000 (61%)] | Loss: 0.5413323044776917\n",
      "Train Epoch 6/10 [37120/60000 (62%)] | Loss: 0.36954963207244873\n",
      "Train Epoch 6/10 [37760/60000 (63%)] | Loss: 0.24689047038555145\n",
      "Train Epoch 6/10 [38400/60000 (64%)] | Loss: 0.25929945707321167\n",
      "Train Epoch 6/10 [39040/60000 (65%)] | Loss: 0.21722260117530823\n",
      "Train Epoch 6/10 [39680/60000 (66%)] | Loss: 0.5184414982795715\n",
      "Train Epoch 6/10 [40320/60000 (67%)] | Loss: 0.42539551854133606\n",
      "Train Epoch 6/10 [40960/60000 (68%)] | Loss: 0.40123748779296875\n",
      "Train Epoch 6/10 [41600/60000 (69%)] | Loss: 0.33077946305274963\n",
      "Train Epoch 6/10 [42240/60000 (70%)] | Loss: 0.4153348505496979\n",
      "Train Epoch 6/10 [42880/60000 (71%)] | Loss: 0.22116267681121826\n",
      "Train Epoch 6/10 [43520/60000 (73%)] | Loss: 0.42138680815696716\n",
      "Train Epoch 6/10 [44160/60000 (74%)] | Loss: 0.3494279384613037\n",
      "Train Epoch 6/10 [44800/60000 (75%)] | Loss: 0.29483872652053833\n",
      "Train Epoch 6/10 [45440/60000 (76%)] | Loss: 0.20333674550056458\n",
      "Train Epoch 6/10 [46080/60000 (77%)] | Loss: 0.5889981389045715\n",
      "Train Epoch 6/10 [46720/60000 (78%)] | Loss: 0.366794228553772\n",
      "Train Epoch 6/10 [47360/60000 (79%)] | Loss: 0.3157001733779907\n",
      "Train Epoch 6/10 [48000/60000 (80%)] | Loss: 0.48412954807281494\n",
      "Train Epoch 6/10 [48640/60000 (81%)] | Loss: 0.3305666744709015\n",
      "Train Epoch 6/10 [49280/60000 (82%)] | Loss: 0.31319135427474976\n",
      "Train Epoch 6/10 [49920/60000 (83%)] | Loss: 0.533036470413208\n",
      "Train Epoch 6/10 [50560/60000 (84%)] | Loss: 0.2313632071018219\n",
      "Train Epoch 6/10 [51200/60000 (85%)] | Loss: 0.5344167947769165\n",
      "Train Epoch 6/10 [51840/60000 (86%)] | Loss: 0.17997492849826813\n",
      "Train Epoch 6/10 [52480/60000 (87%)] | Loss: 0.3967536687850952\n",
      "Train Epoch 6/10 [53120/60000 (89%)] | Loss: 0.4009655714035034\n",
      "Train Epoch 6/10 [53760/60000 (90%)] | Loss: 0.24926446378231049\n",
      "Train Epoch 6/10 [54400/60000 (91%)] | Loss: 0.20344725251197815\n",
      "Train Epoch 6/10 [55040/60000 (92%)] | Loss: 0.6039544939994812\n",
      "Train Epoch 6/10 [55680/60000 (93%)] | Loss: 0.3666795790195465\n",
      "Train Epoch 6/10 [56320/60000 (94%)] | Loss: 0.31331974267959595\n",
      "Train Epoch 6/10 [56960/60000 (95%)] | Loss: 0.3010646402835846\n",
      "Train Epoch 6/10 [57600/60000 (96%)] | Loss: 0.3352817893028259\n",
      "Train Epoch 6/10 [58240/60000 (97%)] | Loss: 0.2054191529750824\n",
      "Train Epoch 6/10 [58880/60000 (98%)] | Loss: 0.3633086085319519\n",
      "Train Epoch 6/10 [59520/60000 (99%)] | Loss: 0.3232622742652893\n",
      "\n",
      "Train Acc.: [53991/60000 (90%)]\n",
      "Test Acc.:  [ 9051/10000 (91%)]\n",
      "\n",
      "Train Epoch 7/10 [    0/60000 ( 0%)] | Loss: 0.36837688088417053\n",
      "Train Epoch 7/10 [  640/60000 ( 1%)] | Loss: 0.32279160618782043\n",
      "Train Epoch 7/10 [ 1280/60000 ( 2%)] | Loss: 0.3464796245098114\n",
      "Train Epoch 7/10 [ 1920/60000 ( 3%)] | Loss: 0.5018696188926697\n",
      "Train Epoch 7/10 [ 2560/60000 ( 4%)] | Loss: 0.3222709000110626\n",
      "Train Epoch 7/10 [ 3200/60000 ( 5%)] | Loss: 0.49264559149742126\n",
      "Train Epoch 7/10 [ 3840/60000 ( 6%)] | Loss: 0.32534515857696533\n",
      "Train Epoch 7/10 [ 4480/60000 ( 7%)] | Loss: 0.5930151343345642\n",
      "Train Epoch 7/10 [ 5120/60000 ( 9%)] | Loss: 0.4181927442550659\n",
      "Train Epoch 7/10 [ 5760/60000 (10%)] | Loss: 0.31828442215919495\n",
      "Train Epoch 7/10 [ 6400/60000 (11%)] | Loss: 0.5663304328918457\n",
      "Train Epoch 7/10 [ 7040/60000 (12%)] | Loss: 0.4988367557525635\n",
      "Train Epoch 7/10 [ 7680/60000 (13%)] | Loss: 0.3802109658718109\n",
      "Train Epoch 7/10 [ 8320/60000 (14%)] | Loss: 0.5698722004890442\n",
      "Train Epoch 7/10 [ 8960/60000 (15%)] | Loss: 0.6636025309562683\n",
      "Train Epoch 7/10 [ 9600/60000 (16%)] | Loss: 0.31098657846450806\n",
      "Train Epoch 7/10 [10240/60000 (17%)] | Loss: 0.3065876364707947\n",
      "Train Epoch 7/10 [10880/60000 (18%)] | Loss: 0.6391168236732483\n",
      "Train Epoch 7/10 [11520/60000 (19%)] | Loss: 0.16361308097839355\n",
      "Train Epoch 7/10 [12160/60000 (20%)] | Loss: 0.33726149797439575\n",
      "Train Epoch 7/10 [12800/60000 (21%)] | Loss: 0.3537047803401947\n",
      "Train Epoch 7/10 [13440/60000 (22%)] | Loss: 0.2449338734149933\n",
      "Train Epoch 7/10 [14080/60000 (23%)] | Loss: 0.25023484230041504\n",
      "Train Epoch 7/10 [14720/60000 (25%)] | Loss: 0.4790119528770447\n",
      "Train Epoch 7/10 [15360/60000 (26%)] | Loss: 0.2001800388097763\n",
      "Train Epoch 7/10 [16000/60000 (27%)] | Loss: 0.23818686604499817\n",
      "Train Epoch 7/10 [16640/60000 (28%)] | Loss: 0.3620847165584564\n",
      "Train Epoch 7/10 [17280/60000 (29%)] | Loss: 0.2581770718097687\n",
      "Train Epoch 7/10 [17920/60000 (30%)] | Loss: 0.48565053939819336\n",
      "Train Epoch 7/10 [18560/60000 (31%)] | Loss: 0.47724074125289917\n",
      "Train Epoch 7/10 [19200/60000 (32%)] | Loss: 0.5837244391441345\n",
      "Train Epoch 7/10 [19840/60000 (33%)] | Loss: 0.22927412390708923\n",
      "Train Epoch 7/10 [20480/60000 (34%)] | Loss: 0.22667644917964935\n",
      "Train Epoch 7/10 [21120/60000 (35%)] | Loss: 0.2151961475610733\n",
      "Train Epoch 7/10 [21760/60000 (36%)] | Loss: 0.4965079724788666\n",
      "Train Epoch 7/10 [22400/60000 (37%)] | Loss: 0.5297394394874573\n",
      "Train Epoch 7/10 [23040/60000 (38%)] | Loss: 0.19851386547088623\n",
      "Train Epoch 7/10 [23680/60000 (39%)] | Loss: 0.22129510343074799\n",
      "Train Epoch 7/10 [24320/60000 (41%)] | Loss: 0.35889968276023865\n",
      "Train Epoch 7/10 [24960/60000 (42%)] | Loss: 0.39927467703819275\n",
      "Train Epoch 7/10 [25600/60000 (43%)] | Loss: 0.7056695222854614\n",
      "Train Epoch 7/10 [26240/60000 (44%)] | Loss: 0.5607516169548035\n",
      "Train Epoch 7/10 [26880/60000 (45%)] | Loss: 0.3355529010295868\n",
      "Train Epoch 7/10 [27520/60000 (46%)] | Loss: 0.2884256839752197\n",
      "Train Epoch 7/10 [28160/60000 (47%)] | Loss: 0.4948887228965759\n",
      "Train Epoch 7/10 [28800/60000 (48%)] | Loss: 0.5751563906669617\n",
      "Train Epoch 7/10 [29440/60000 (49%)] | Loss: 0.31875231862068176\n",
      "Train Epoch 7/10 [30080/60000 (50%)] | Loss: 0.39401277899742126\n",
      "Train Epoch 7/10 [30720/60000 (51%)] | Loss: 0.24757519364356995\n",
      "Train Epoch 7/10 [31360/60000 (52%)] | Loss: 0.22870980203151703\n",
      "Train Epoch 7/10 [32000/60000 (53%)] | Loss: 0.6220517158508301\n",
      "Train Epoch 7/10 [32640/60000 (54%)] | Loss: 0.4579072892665863\n",
      "Train Epoch 7/10 [33280/60000 (55%)] | Loss: 0.2896379828453064\n",
      "Train Epoch 7/10 [33920/60000 (57%)] | Loss: 0.2731073796749115\n",
      "Train Epoch 7/10 [34560/60000 (58%)] | Loss: 0.2537817060947418\n",
      "Train Epoch 7/10 [35200/60000 (59%)] | Loss: 0.4412846863269806\n",
      "Train Epoch 7/10 [35840/60000 (60%)] | Loss: 0.20322470366954803\n",
      "Train Epoch 7/10 [36480/60000 (61%)] | Loss: 0.5267682671546936\n",
      "Train Epoch 7/10 [37120/60000 (62%)] | Loss: 0.7311179041862488\n",
      "Train Epoch 7/10 [37760/60000 (63%)] | Loss: 0.3012007474899292\n",
      "Train Epoch 7/10 [38400/60000 (64%)] | Loss: 0.12809136509895325\n",
      "Train Epoch 7/10 [39040/60000 (65%)] | Loss: 0.3046024441719055\n",
      "Train Epoch 7/10 [39680/60000 (66%)] | Loss: 0.2800220251083374\n",
      "Train Epoch 7/10 [40320/60000 (67%)] | Loss: 0.47930899262428284\n",
      "Train Epoch 7/10 [40960/60000 (68%)] | Loss: 0.25102463364601135\n",
      "Train Epoch 7/10 [41600/60000 (69%)] | Loss: 0.25159507989883423\n",
      "Train Epoch 7/10 [42240/60000 (70%)] | Loss: 0.3734719455242157\n",
      "Train Epoch 7/10 [42880/60000 (71%)] | Loss: 0.44950947165489197\n",
      "Train Epoch 7/10 [43520/60000 (73%)] | Loss: 0.30220603942871094\n",
      "Train Epoch 7/10 [44160/60000 (74%)] | Loss: 0.4069990813732147\n",
      "Train Epoch 7/10 [44800/60000 (75%)] | Loss: 0.25980299711227417\n",
      "Train Epoch 7/10 [45440/60000 (76%)] | Loss: 0.18346711993217468\n",
      "Train Epoch 7/10 [46080/60000 (77%)] | Loss: 0.30995023250579834\n",
      "Train Epoch 7/10 [46720/60000 (78%)] | Loss: 0.5517884492874146\n",
      "Train Epoch 7/10 [47360/60000 (79%)] | Loss: 0.3756422996520996\n",
      "Train Epoch 7/10 [48000/60000 (80%)] | Loss: 0.2300911843776703\n",
      "Train Epoch 7/10 [48640/60000 (81%)] | Loss: 0.1672481745481491\n",
      "Train Epoch 7/10 [49280/60000 (82%)] | Loss: 0.32458731532096863\n",
      "Train Epoch 7/10 [49920/60000 (83%)] | Loss: 0.3673195540904999\n",
      "Train Epoch 7/10 [50560/60000 (84%)] | Loss: 0.40428054332733154\n",
      "Train Epoch 7/10 [51200/60000 (85%)] | Loss: 0.5219536423683167\n",
      "Train Epoch 7/10 [51840/60000 (86%)] | Loss: 0.4711628258228302\n",
      "Train Epoch 7/10 [52480/60000 (87%)] | Loss: 0.4262481927871704\n",
      "Train Epoch 7/10 [53120/60000 (89%)] | Loss: 0.45723477005958557\n",
      "Train Epoch 7/10 [53760/60000 (90%)] | Loss: 0.46339890360832214\n",
      "Train Epoch 7/10 [54400/60000 (91%)] | Loss: 0.213637575507164\n",
      "Train Epoch 7/10 [55040/60000 (92%)] | Loss: 0.3734312057495117\n",
      "Train Epoch 7/10 [55680/60000 (93%)] | Loss: 0.1809375286102295\n",
      "Train Epoch 7/10 [56320/60000 (94%)] | Loss: 0.4230270981788635\n",
      "Train Epoch 7/10 [56960/60000 (95%)] | Loss: 0.20014049112796783\n",
      "Train Epoch 7/10 [57600/60000 (96%)] | Loss: 0.5180298089981079\n",
      "Train Epoch 7/10 [58240/60000 (97%)] | Loss: 0.36268413066864014\n",
      "Train Epoch 7/10 [58880/60000 (98%)] | Loss: 0.33427417278289795\n",
      "Train Epoch 7/10 [59520/60000 (99%)] | Loss: 0.24986083805561066\n",
      "\n",
      "Train Acc.: [54280/60000 (90%)]\n",
      "Test Acc.:  [ 9104/10000 (91%)]\n",
      "\n",
      "Train Epoch 8/10 [    0/60000 ( 0%)] | Loss: 0.2740330696105957\n",
      "Train Epoch 8/10 [  640/60000 ( 1%)] | Loss: 0.27903223037719727\n",
      "Train Epoch 8/10 [ 1280/60000 ( 2%)] | Loss: 0.2364037036895752\n",
      "Train Epoch 8/10 [ 1920/60000 ( 3%)] | Loss: 0.30201902985572815\n",
      "Train Epoch 8/10 [ 2560/60000 ( 4%)] | Loss: 0.33143603801727295\n",
      "Train Epoch 8/10 [ 3200/60000 ( 5%)] | Loss: 0.19665423035621643\n",
      "Train Epoch 8/10 [ 3840/60000 ( 6%)] | Loss: 0.5817335844039917\n",
      "Train Epoch 8/10 [ 4480/60000 ( 7%)] | Loss: 0.4271763265132904\n",
      "Train Epoch 8/10 [ 5120/60000 ( 9%)] | Loss: 0.1774953305721283\n",
      "Train Epoch 8/10 [ 5760/60000 (10%)] | Loss: 0.30548325181007385\n",
      "Train Epoch 8/10 [ 6400/60000 (11%)] | Loss: 0.2219553142786026\n",
      "Train Epoch 8/10 [ 7040/60000 (12%)] | Loss: 0.32418549060821533\n",
      "Train Epoch 8/10 [ 7680/60000 (13%)] | Loss: 0.30789387226104736\n",
      "Train Epoch 8/10 [ 8320/60000 (14%)] | Loss: 0.526041567325592\n",
      "Train Epoch 8/10 [ 8960/60000 (15%)] | Loss: 0.3391551375389099\n",
      "Train Epoch 8/10 [ 9600/60000 (16%)] | Loss: 0.32098525762557983\n",
      "Train Epoch 8/10 [10240/60000 (17%)] | Loss: 0.53852778673172\n",
      "Train Epoch 8/10 [10880/60000 (18%)] | Loss: 0.20197893679141998\n",
      "Train Epoch 8/10 [11520/60000 (19%)] | Loss: 0.3447801470756531\n",
      "Train Epoch 8/10 [12160/60000 (20%)] | Loss: 0.3663330078125\n",
      "Train Epoch 8/10 [12800/60000 (21%)] | Loss: 0.32871881127357483\n",
      "Train Epoch 8/10 [13440/60000 (22%)] | Loss: 0.11520066857337952\n",
      "Train Epoch 8/10 [14080/60000 (23%)] | Loss: 0.25796809792518616\n",
      "Train Epoch 8/10 [14720/60000 (25%)] | Loss: 0.21946604549884796\n",
      "Train Epoch 8/10 [15360/60000 (26%)] | Loss: 0.31910383701324463\n",
      "Train Epoch 8/10 [16000/60000 (27%)] | Loss: 0.43600529432296753\n",
      "Train Epoch 8/10 [16640/60000 (28%)] | Loss: 0.37457701563835144\n",
      "Train Epoch 8/10 [17280/60000 (29%)] | Loss: 0.1540347933769226\n",
      "Train Epoch 8/10 [17920/60000 (30%)] | Loss: 0.1778070479631424\n",
      "Train Epoch 8/10 [18560/60000 (31%)] | Loss: 0.3439515233039856\n",
      "Train Epoch 8/10 [19200/60000 (32%)] | Loss: 0.3173234164714813\n",
      "Train Epoch 8/10 [19840/60000 (33%)] | Loss: 0.5454114675521851\n",
      "Train Epoch 8/10 [20480/60000 (34%)] | Loss: 0.24480898678302765\n",
      "Train Epoch 8/10 [21120/60000 (35%)] | Loss: 0.42298728227615356\n",
      "Train Epoch 8/10 [21760/60000 (36%)] | Loss: 0.279959112405777\n",
      "Train Epoch 8/10 [22400/60000 (37%)] | Loss: 0.37669289112091064\n",
      "Train Epoch 8/10 [23040/60000 (38%)] | Loss: 0.41663217544555664\n",
      "Train Epoch 8/10 [23680/60000 (39%)] | Loss: 0.2160840928554535\n",
      "Train Epoch 8/10 [24320/60000 (41%)] | Loss: 0.26355013251304626\n",
      "Train Epoch 8/10 [24960/60000 (42%)] | Loss: 0.22326624393463135\n",
      "Train Epoch 8/10 [25600/60000 (43%)] | Loss: 0.26541873812675476\n",
      "Train Epoch 8/10 [26240/60000 (44%)] | Loss: 0.4417494833469391\n",
      "Train Epoch 8/10 [26880/60000 (45%)] | Loss: 0.194016695022583\n",
      "Train Epoch 8/10 [27520/60000 (46%)] | Loss: 0.4082655906677246\n",
      "Train Epoch 8/10 [28160/60000 (47%)] | Loss: 0.27195459604263306\n",
      "Train Epoch 8/10 [28800/60000 (48%)] | Loss: 0.25116151571273804\n",
      "Train Epoch 8/10 [29440/60000 (49%)] | Loss: 0.31750625371932983\n",
      "Train Epoch 8/10 [30080/60000 (50%)] | Loss: 0.3274978995323181\n",
      "Train Epoch 8/10 [30720/60000 (51%)] | Loss: 0.353959321975708\n",
      "Train Epoch 8/10 [31360/60000 (52%)] | Loss: 0.3821934759616852\n",
      "Train Epoch 8/10 [32000/60000 (53%)] | Loss: 0.2815280556678772\n",
      "Train Epoch 8/10 [32640/60000 (54%)] | Loss: 0.3274007737636566\n",
      "Train Epoch 8/10 [33280/60000 (55%)] | Loss: 0.40369337797164917\n",
      "Train Epoch 8/10 [33920/60000 (57%)] | Loss: 0.09961168467998505\n",
      "Train Epoch 8/10 [34560/60000 (58%)] | Loss: 0.7530323266983032\n",
      "Train Epoch 8/10 [35200/60000 (59%)] | Loss: 0.36792701482772827\n",
      "Train Epoch 8/10 [35840/60000 (60%)] | Loss: 0.25159940123558044\n",
      "Train Epoch 8/10 [36480/60000 (61%)] | Loss: 0.2317814975976944\n",
      "Train Epoch 8/10 [37120/60000 (62%)] | Loss: 0.2983141243457794\n",
      "Train Epoch 8/10 [37760/60000 (63%)] | Loss: 0.3070172071456909\n",
      "Train Epoch 8/10 [38400/60000 (64%)] | Loss: 0.31977197527885437\n",
      "Train Epoch 8/10 [39040/60000 (65%)] | Loss: 0.5964052081108093\n",
      "Train Epoch 8/10 [39680/60000 (66%)] | Loss: 0.4022824168205261\n",
      "Train Epoch 8/10 [40320/60000 (67%)] | Loss: 0.21183450520038605\n",
      "Train Epoch 8/10 [40960/60000 (68%)] | Loss: 0.16027554869651794\n",
      "Train Epoch 8/10 [41600/60000 (69%)] | Loss: 0.3837553560733795\n",
      "Train Epoch 8/10 [42240/60000 (70%)] | Loss: 0.19209979474544525\n",
      "Train Epoch 8/10 [42880/60000 (71%)] | Loss: 0.6226925253868103\n",
      "Train Epoch 8/10 [43520/60000 (73%)] | Loss: 0.47962072491645813\n",
      "Train Epoch 8/10 [44160/60000 (74%)] | Loss: 0.15045249462127686\n",
      "Train Epoch 8/10 [44800/60000 (75%)] | Loss: 0.2880130410194397\n",
      "Train Epoch 8/10 [45440/60000 (76%)] | Loss: 0.1389114409685135\n",
      "Train Epoch 8/10 [46080/60000 (77%)] | Loss: 0.3563247323036194\n",
      "Train Epoch 8/10 [46720/60000 (78%)] | Loss: 0.2065662145614624\n",
      "Train Epoch 8/10 [47360/60000 (79%)] | Loss: 0.4078832268714905\n",
      "Train Epoch 8/10 [48000/60000 (80%)] | Loss: 0.28177952766418457\n",
      "Train Epoch 8/10 [48640/60000 (81%)] | Loss: 0.19930677115917206\n",
      "Train Epoch 8/10 [49280/60000 (82%)] | Loss: 0.20858745276927948\n",
      "Train Epoch 8/10 [49920/60000 (83%)] | Loss: 0.2066117376089096\n",
      "Train Epoch 8/10 [50560/60000 (84%)] | Loss: 0.47092944383621216\n",
      "Train Epoch 8/10 [51200/60000 (85%)] | Loss: 0.29463058710098267\n",
      "Train Epoch 8/10 [51840/60000 (86%)] | Loss: 0.39928901195526123\n",
      "Train Epoch 8/10 [52480/60000 (87%)] | Loss: 0.4591169059276581\n",
      "Train Epoch 8/10 [53120/60000 (89%)] | Loss: 0.29686713218688965\n",
      "Train Epoch 8/10 [53760/60000 (90%)] | Loss: 0.2256351262331009\n",
      "Train Epoch 8/10 [54400/60000 (91%)] | Loss: 0.35829958319664\n",
      "Train Epoch 8/10 [55040/60000 (92%)] | Loss: 0.4671022295951843\n",
      "Train Epoch 8/10 [55680/60000 (93%)] | Loss: 0.2570260763168335\n",
      "Train Epoch 8/10 [56320/60000 (94%)] | Loss: 0.3325416147708893\n",
      "Train Epoch 8/10 [56960/60000 (95%)] | Loss: 0.3601301908493042\n",
      "Train Epoch 8/10 [57600/60000 (96%)] | Loss: 0.7162222266197205\n",
      "Train Epoch 8/10 [58240/60000 (97%)] | Loss: 0.1663193702697754\n",
      "Train Epoch 8/10 [58880/60000 (98%)] | Loss: 0.3287680447101593\n",
      "Train Epoch 8/10 [59520/60000 (99%)] | Loss: 0.34793344140052795\n",
      "\n",
      "Train Acc.: [54491/60000 (91%)]\n",
      "Test Acc.:  [ 9124/10000 (91%)]\n",
      "\n",
      "Train Epoch 9/10 [    0/60000 ( 0%)] | Loss: 0.665881335735321\n",
      "Train Epoch 9/10 [  640/60000 ( 1%)] | Loss: 0.24059157073497772\n",
      "Train Epoch 9/10 [ 1280/60000 ( 2%)] | Loss: 0.13831402361392975\n",
      "Train Epoch 9/10 [ 1920/60000 ( 3%)] | Loss: 0.3034645617008209\n",
      "Train Epoch 9/10 [ 2560/60000 ( 4%)] | Loss: 0.15164531767368317\n",
      "Train Epoch 9/10 [ 3200/60000 ( 5%)] | Loss: 0.41647249460220337\n",
      "Train Epoch 9/10 [ 3840/60000 ( 6%)] | Loss: 0.27976560592651367\n",
      "Train Epoch 9/10 [ 4480/60000 ( 7%)] | Loss: 0.5376684069633484\n",
      "Train Epoch 9/10 [ 5120/60000 ( 9%)] | Loss: 0.20911268889904022\n",
      "Train Epoch 9/10 [ 5760/60000 (10%)] | Loss: 0.21931128203868866\n",
      "Train Epoch 9/10 [ 6400/60000 (11%)] | Loss: 0.2631685137748718\n",
      "Train Epoch 9/10 [ 7040/60000 (12%)] | Loss: 0.4579949378967285\n",
      "Train Epoch 9/10 [ 7680/60000 (13%)] | Loss: 0.4099058210849762\n",
      "Train Epoch 9/10 [ 8320/60000 (14%)] | Loss: 0.29313376545906067\n",
      "Train Epoch 9/10 [ 8960/60000 (15%)] | Loss: 0.19374161958694458\n",
      "Train Epoch 9/10 [ 9600/60000 (16%)] | Loss: 0.391986608505249\n",
      "Train Epoch 9/10 [10240/60000 (17%)] | Loss: 0.31102195382118225\n",
      "Train Epoch 9/10 [10880/60000 (18%)] | Loss: 0.4419863224029541\n",
      "Train Epoch 9/10 [11520/60000 (19%)] | Loss: 0.5171866416931152\n",
      "Train Epoch 9/10 [12160/60000 (20%)] | Loss: 0.44424185156822205\n",
      "Train Epoch 9/10 [12800/60000 (21%)] | Loss: 0.20118612051010132\n",
      "Train Epoch 9/10 [13440/60000 (22%)] | Loss: 0.2641368508338928\n",
      "Train Epoch 9/10 [14080/60000 (23%)] | Loss: 0.22535470128059387\n",
      "Train Epoch 9/10 [14720/60000 (25%)] | Loss: 0.4461371898651123\n",
      "Train Epoch 9/10 [15360/60000 (26%)] | Loss: 0.25118163228034973\n",
      "Train Epoch 9/10 [16000/60000 (27%)] | Loss: 0.21210119128227234\n",
      "Train Epoch 9/10 [16640/60000 (28%)] | Loss: 0.4935372471809387\n",
      "Train Epoch 9/10 [17280/60000 (29%)] | Loss: 0.29065990447998047\n",
      "Train Epoch 9/10 [17920/60000 (30%)] | Loss: 0.1978600025177002\n",
      "Train Epoch 9/10 [18560/60000 (31%)] | Loss: 0.3366263806819916\n",
      "Train Epoch 9/10 [19200/60000 (32%)] | Loss: 0.1131281852722168\n",
      "Train Epoch 9/10 [19840/60000 (33%)] | Loss: 0.403626948595047\n",
      "Train Epoch 9/10 [20480/60000 (34%)] | Loss: 0.6103208065032959\n",
      "Train Epoch 9/10 [21120/60000 (35%)] | Loss: 0.33531683683395386\n",
      "Train Epoch 9/10 [21760/60000 (36%)] | Loss: 0.1989942193031311\n",
      "Train Epoch 9/10 [22400/60000 (37%)] | Loss: 0.3213169574737549\n",
      "Train Epoch 9/10 [23040/60000 (38%)] | Loss: 0.24933724105358124\n",
      "Train Epoch 9/10 [23680/60000 (39%)] | Loss: 0.23441338539123535\n",
      "Train Epoch 9/10 [24320/60000 (41%)] | Loss: 0.3573891222476959\n",
      "Train Epoch 9/10 [24960/60000 (42%)] | Loss: 0.40832969546318054\n",
      "Train Epoch 9/10 [25600/60000 (43%)] | Loss: 0.20448586344718933\n",
      "Train Epoch 9/10 [26240/60000 (44%)] | Loss: 0.26056423783302307\n",
      "Train Epoch 9/10 [26880/60000 (45%)] | Loss: 0.48581546545028687\n",
      "Train Epoch 9/10 [27520/60000 (46%)] | Loss: 0.3799748122692108\n",
      "Train Epoch 9/10 [28160/60000 (47%)] | Loss: 0.35506629943847656\n",
      "Train Epoch 9/10 [28800/60000 (48%)] | Loss: 0.17270317673683167\n",
      "Train Epoch 9/10 [29440/60000 (49%)] | Loss: 0.31534507870674133\n",
      "Train Epoch 9/10 [30080/60000 (50%)] | Loss: 0.4043498635292053\n",
      "Train Epoch 9/10 [30720/60000 (51%)] | Loss: 0.2031046450138092\n",
      "Train Epoch 9/10 [31360/60000 (52%)] | Loss: 0.37154874205589294\n",
      "Train Epoch 9/10 [32000/60000 (53%)] | Loss: 0.30301719903945923\n",
      "Train Epoch 9/10 [32640/60000 (54%)] | Loss: 0.3100587725639343\n",
      "Train Epoch 9/10 [33280/60000 (55%)] | Loss: 0.3614969551563263\n",
      "Train Epoch 9/10 [33920/60000 (57%)] | Loss: 0.29586362838745117\n",
      "Train Epoch 9/10 [34560/60000 (58%)] | Loss: 0.16045033931732178\n",
      "Train Epoch 9/10 [35200/60000 (59%)] | Loss: 0.2926887571811676\n",
      "Train Epoch 9/10 [35840/60000 (60%)] | Loss: 0.295334130525589\n",
      "Train Epoch 9/10 [36480/60000 (61%)] | Loss: 0.4935406744480133\n",
      "Train Epoch 9/10 [37120/60000 (62%)] | Loss: 0.16483673453330994\n",
      "Train Epoch 9/10 [37760/60000 (63%)] | Loss: 0.29198458790779114\n",
      "Train Epoch 9/10 [38400/60000 (64%)] | Loss: 0.25988200306892395\n",
      "Train Epoch 9/10 [39040/60000 (65%)] | Loss: 0.6895376443862915\n",
      "Train Epoch 9/10 [39680/60000 (66%)] | Loss: 0.26234954595565796\n",
      "Train Epoch 9/10 [40320/60000 (67%)] | Loss: 0.29543569684028625\n",
      "Train Epoch 9/10 [40960/60000 (68%)] | Loss: 0.41543012857437134\n",
      "Train Epoch 9/10 [41600/60000 (69%)] | Loss: 0.13179612159729004\n",
      "Train Epoch 9/10 [42240/60000 (70%)] | Loss: 0.40632835030555725\n",
      "Train Epoch 9/10 [42880/60000 (71%)] | Loss: 0.3744664788246155\n",
      "Train Epoch 9/10 [43520/60000 (73%)] | Loss: 0.2935755252838135\n",
      "Train Epoch 9/10 [44160/60000 (74%)] | Loss: 0.3028034269809723\n",
      "Train Epoch 9/10 [44800/60000 (75%)] | Loss: 0.5314041972160339\n",
      "Train Epoch 9/10 [45440/60000 (76%)] | Loss: 0.486481249332428\n",
      "Train Epoch 9/10 [46080/60000 (77%)] | Loss: 0.30433979630470276\n",
      "Train Epoch 9/10 [46720/60000 (78%)] | Loss: 0.6366056799888611\n",
      "Train Epoch 9/10 [47360/60000 (79%)] | Loss: 0.20133711397647858\n",
      "Train Epoch 9/10 [48000/60000 (80%)] | Loss: 0.2564298212528229\n",
      "Train Epoch 9/10 [48640/60000 (81%)] | Loss: 0.28412777185440063\n",
      "Train Epoch 9/10 [49280/60000 (82%)] | Loss: 0.3928634226322174\n",
      "Train Epoch 9/10 [49920/60000 (83%)] | Loss: 0.33062002062797546\n",
      "Train Epoch 9/10 [50560/60000 (84%)] | Loss: 0.17994868755340576\n",
      "Train Epoch 9/10 [51200/60000 (85%)] | Loss: 0.3262384831905365\n",
      "Train Epoch 9/10 [51840/60000 (86%)] | Loss: 0.33322495222091675\n",
      "Train Epoch 9/10 [52480/60000 (87%)] | Loss: 0.23225432634353638\n",
      "Train Epoch 9/10 [53120/60000 (89%)] | Loss: 0.35263845324516296\n",
      "Train Epoch 9/10 [53760/60000 (90%)] | Loss: 0.42202088236808777\n",
      "Train Epoch 9/10 [54400/60000 (91%)] | Loss: 0.23548178374767303\n",
      "Train Epoch 9/10 [55040/60000 (92%)] | Loss: 0.34471219778060913\n",
      "Train Epoch 9/10 [55680/60000 (93%)] | Loss: 0.1855444461107254\n",
      "Train Epoch 9/10 [56320/60000 (94%)] | Loss: 0.29204294085502625\n",
      "Train Epoch 9/10 [56960/60000 (95%)] | Loss: 0.21613404154777527\n",
      "Train Epoch 9/10 [57600/60000 (96%)] | Loss: 0.3490591049194336\n",
      "Train Epoch 9/10 [58240/60000 (97%)] | Loss: 0.16604220867156982\n",
      "Train Epoch 9/10 [58880/60000 (98%)] | Loss: 0.6641895771026611\n",
      "Train Epoch 9/10 [59520/60000 (99%)] | Loss: 0.5246356129646301\n",
      "\n",
      "Train Acc.: [54663/60000 (91%)]\n",
      "Test Acc.:  [ 9162/10000 (92%)]\n",
      "\n",
      "Train Epoch 10/10 [    0/60000 ( 0%)] | Loss: 0.355791836977005\n",
      "Train Epoch 10/10 [  640/60000 ( 1%)] | Loss: 0.15631113946437836\n",
      "Train Epoch 10/10 [ 1280/60000 ( 2%)] | Loss: 0.3874046504497528\n",
      "Train Epoch 10/10 [ 1920/60000 ( 3%)] | Loss: 0.4333420693874359\n",
      "Train Epoch 10/10 [ 2560/60000 ( 4%)] | Loss: 0.31139346957206726\n",
      "Train Epoch 10/10 [ 3200/60000 ( 5%)] | Loss: 0.33464762568473816\n",
      "Train Epoch 10/10 [ 3840/60000 ( 6%)] | Loss: 0.35773035883903503\n",
      "Train Epoch 10/10 [ 4480/60000 ( 7%)] | Loss: 0.31383663415908813\n",
      "Train Epoch 10/10 [ 5120/60000 ( 9%)] | Loss: 0.21735435724258423\n",
      "Train Epoch 10/10 [ 5760/60000 (10%)] | Loss: 0.16571012139320374\n",
      "Train Epoch 10/10 [ 6400/60000 (11%)] | Loss: 0.21394194662570953\n",
      "Train Epoch 10/10 [ 7040/60000 (12%)] | Loss: 0.28203532099723816\n",
      "Train Epoch 10/10 [ 7680/60000 (13%)] | Loss: 0.25704583525657654\n",
      "Train Epoch 10/10 [ 8320/60000 (14%)] | Loss: 0.28114309906959534\n",
      "Train Epoch 10/10 [ 8960/60000 (15%)] | Loss: 0.3447945713996887\n",
      "Train Epoch 10/10 [ 9600/60000 (16%)] | Loss: 0.3811579942703247\n",
      "Train Epoch 10/10 [10240/60000 (17%)] | Loss: 0.2880193591117859\n",
      "Train Epoch 10/10 [10880/60000 (18%)] | Loss: 0.31988856196403503\n",
      "Train Epoch 10/10 [11520/60000 (19%)] | Loss: 0.5243869423866272\n",
      "Train Epoch 10/10 [12160/60000 (20%)] | Loss: 0.24815590679645538\n",
      "Train Epoch 10/10 [12800/60000 (21%)] | Loss: 0.3314962685108185\n",
      "Train Epoch 10/10 [13440/60000 (22%)] | Loss: 0.3698839843273163\n",
      "Train Epoch 10/10 [14080/60000 (23%)] | Loss: 0.5475669503211975\n",
      "Train Epoch 10/10 [14720/60000 (25%)] | Loss: 0.36677086353302\n",
      "Train Epoch 10/10 [15360/60000 (26%)] | Loss: 0.1836373209953308\n",
      "Train Epoch 10/10 [16000/60000 (27%)] | Loss: 0.24394240975379944\n",
      "Train Epoch 10/10 [16640/60000 (28%)] | Loss: 0.2613159120082855\n",
      "Train Epoch 10/10 [17280/60000 (29%)] | Loss: 0.5123331546783447\n",
      "Train Epoch 10/10 [17920/60000 (30%)] | Loss: 0.33192408084869385\n",
      "Train Epoch 10/10 [18560/60000 (31%)] | Loss: 0.23689298331737518\n",
      "Train Epoch 10/10 [19200/60000 (32%)] | Loss: 0.3690604269504547\n",
      "Train Epoch 10/10 [19840/60000 (33%)] | Loss: 0.4750779867172241\n",
      "Train Epoch 10/10 [20480/60000 (34%)] | Loss: 0.2639992833137512\n",
      "Train Epoch 10/10 [21120/60000 (35%)] | Loss: 0.3607427775859833\n",
      "Train Epoch 10/10 [21760/60000 (36%)] | Loss: 0.2534322142601013\n",
      "Train Epoch 10/10 [22400/60000 (37%)] | Loss: 0.2883265018463135\n",
      "Train Epoch 10/10 [23040/60000 (38%)] | Loss: 0.2809542715549469\n",
      "Train Epoch 10/10 [23680/60000 (39%)] | Loss: 0.5252693295478821\n",
      "Train Epoch 10/10 [24320/60000 (41%)] | Loss: 0.498663067817688\n",
      "Train Epoch 10/10 [24960/60000 (42%)] | Loss: 0.30141669511795044\n",
      "Train Epoch 10/10 [25600/60000 (43%)] | Loss: 0.28527840971946716\n",
      "Train Epoch 10/10 [26240/60000 (44%)] | Loss: 0.3834496736526489\n",
      "Train Epoch 10/10 [26880/60000 (45%)] | Loss: 0.170413538813591\n",
      "Train Epoch 10/10 [27520/60000 (46%)] | Loss: 0.2579460144042969\n",
      "Train Epoch 10/10 [28160/60000 (47%)] | Loss: 0.26113349199295044\n",
      "Train Epoch 10/10 [28800/60000 (48%)] | Loss: 0.18701551854610443\n",
      "Train Epoch 10/10 [29440/60000 (49%)] | Loss: 0.3845561444759369\n",
      "Train Epoch 10/10 [30080/60000 (50%)] | Loss: 0.36499959230422974\n",
      "Train Epoch 10/10 [30720/60000 (51%)] | Loss: 0.3815516531467438\n",
      "Train Epoch 10/10 [31360/60000 (52%)] | Loss: 0.5175091028213501\n",
      "Train Epoch 10/10 [32000/60000 (53%)] | Loss: 0.435820609331131\n",
      "Train Epoch 10/10 [32640/60000 (54%)] | Loss: 0.3182900846004486\n",
      "Train Epoch 10/10 [33280/60000 (55%)] | Loss: 0.4621867835521698\n",
      "Train Epoch 10/10 [33920/60000 (57%)] | Loss: 0.283115029335022\n",
      "Train Epoch 10/10 [34560/60000 (58%)] | Loss: 0.39709118008613586\n",
      "Train Epoch 10/10 [35200/60000 (59%)] | Loss: 0.17172902822494507\n",
      "Train Epoch 10/10 [35840/60000 (60%)] | Loss: 0.43949171900749207\n",
      "Train Epoch 10/10 [36480/60000 (61%)] | Loss: 0.12526068091392517\n",
      "Train Epoch 10/10 [37120/60000 (62%)] | Loss: 0.2697523236274719\n",
      "Train Epoch 10/10 [37760/60000 (63%)] | Loss: 0.4510633051395416\n",
      "Train Epoch 10/10 [38400/60000 (64%)] | Loss: 0.21970166265964508\n",
      "Train Epoch 10/10 [39040/60000 (65%)] | Loss: 0.0912347212433815\n",
      "Train Epoch 10/10 [39680/60000 (66%)] | Loss: 0.4966018795967102\n",
      "Train Epoch 10/10 [40320/60000 (67%)] | Loss: 0.24931861460208893\n",
      "Train Epoch 10/10 [40960/60000 (68%)] | Loss: 0.2363840937614441\n",
      "Train Epoch 10/10 [41600/60000 (69%)] | Loss: 0.38864007592201233\n",
      "Train Epoch 10/10 [42240/60000 (70%)] | Loss: 0.32902246713638306\n",
      "Train Epoch 10/10 [42880/60000 (71%)] | Loss: 0.40396848320961\n",
      "Train Epoch 10/10 [43520/60000 (73%)] | Loss: 0.40006428956985474\n",
      "Train Epoch 10/10 [44160/60000 (74%)] | Loss: 0.30764925479888916\n",
      "Train Epoch 10/10 [44800/60000 (75%)] | Loss: 0.28274697065353394\n",
      "Train Epoch 10/10 [45440/60000 (76%)] | Loss: 0.15120011568069458\n",
      "Train Epoch 10/10 [46080/60000 (77%)] | Loss: 0.3075807988643646\n",
      "Train Epoch 10/10 [46720/60000 (78%)] | Loss: 0.2453569620847702\n",
      "Train Epoch 10/10 [47360/60000 (79%)] | Loss: 0.3913078010082245\n",
      "Train Epoch 10/10 [48000/60000 (80%)] | Loss: 0.1886211782693863\n",
      "Train Epoch 10/10 [48640/60000 (81%)] | Loss: 0.17900708317756653\n",
      "Train Epoch 10/10 [49280/60000 (82%)] | Loss: 0.4065435230731964\n",
      "Train Epoch 10/10 [49920/60000 (83%)] | Loss: 0.5708508491516113\n",
      "Train Epoch 10/10 [50560/60000 (84%)] | Loss: 0.21865880489349365\n",
      "Train Epoch 10/10 [51200/60000 (85%)] | Loss: 0.12148778140544891\n",
      "Train Epoch 10/10 [51840/60000 (86%)] | Loss: 0.6028045415878296\n",
      "Train Epoch 10/10 [52480/60000 (87%)] | Loss: 0.20624276995658875\n",
      "Train Epoch 10/10 [53120/60000 (89%)] | Loss: 0.5588324666023254\n",
      "Train Epoch 10/10 [53760/60000 (90%)] | Loss: 0.3118753433227539\n",
      "Train Epoch 10/10 [54400/60000 (91%)] | Loss: 0.45940083265304565\n",
      "Train Epoch 10/10 [55040/60000 (92%)] | Loss: 0.32915735244750977\n",
      "Train Epoch 10/10 [55680/60000 (93%)] | Loss: 0.2286854237318039\n",
      "Train Epoch 10/10 [56320/60000 (94%)] | Loss: 0.26807963848114014\n",
      "Train Epoch 10/10 [56960/60000 (95%)] | Loss: 0.23493072390556335\n",
      "Train Epoch 10/10 [57600/60000 (96%)] | Loss: 0.17124035954475403\n",
      "Train Epoch 10/10 [58240/60000 (97%)] | Loss: 0.19378481805324554\n",
      "Train Epoch 10/10 [58880/60000 (98%)] | Loss: 0.29955345392227173\n",
      "Train Epoch 10/10 [59520/60000 (99%)] | Loss: 0.26409175992012024\n",
      "\n",
      "Train Acc.: [54818/60000 (91%)]\n",
      "Test Acc.:  [ 9179/10000 (92%)]\n",
      "\n"
     ]
    }
   ],
   "source": [
    "# Design model\n",
    "n_samples = len(mnist_train_dataset)\n",
    "n_test_samples = len(mnist_test_dataset)\n",
    "n_features = (\n",
    "    mnist_train_dataset.train_data.shape[1]*mnist_train_dataset.train_data.shape[2]\n",
    ")\n",
    "n_classes = mnist_train_dataset.targets.unique().shape[0]\n",
    "model = NeuralNet(n_features, 512, 2, n_classes)\n",
    "\n",
    "# Construct Loss and Optimizer\n",
    "loss = nn.CrossEntropyLoss()\n",
    "optimizer = torch.optim.Adam(model.parameters(), lr=lr)\n",
    "\n",
    "train_losses = []\n",
    "# test_losses = []\n",
    "\n",
    "for epoch in range(num_epochs):\n",
    "    train_acc = 0\n",
    "    test_acc = 0\n",
    "    for batch_idx, (X_train, y_train) in enumerate(train_dataloader):\n",
    "        # Forward pass\n",
    "        y_hat = model(X_train)\n",
    "\n",
    "        pred = torch.max(y_hat.data, 1)[1]\n",
    "        batch_corr = (pred==y_train).sum()\n",
    "        train_acc += batch_corr\n",
    "\n",
    "        # Loss computation\n",
    "        J = loss(y_hat, y_train)\n",
    "\n",
    "        # Backward pass\n",
    "        J.backward()\n",
    "\n",
    "        # Update parameters\n",
    "        optimizer.step()\n",
    "\n",
    "        # Zero grad\n",
    "        optimizer.zero_grad()\n",
    "\n",
    "        # Print train loss\n",
    "        if batch_idx % 20 == 0:\n",
    "            print('Train Epoch {}/{} [{:>5}/{} ({:>2.0f}%)] | Loss: {}'.format(\n",
    "                epoch+1, num_epochs, batch_idx * batch_size, n_samples, \n",
    "                100*batch_idx / len(train_dataloader), J))\n",
    "            train_losses.append(J)\n",
    "\n",
    "    with torch.no_grad():\n",
    "        for batch_idx, (X_test, y_test) in enumerate(test_dataloader):\n",
    "            # Forward pass\n",
    "            y_val = model(X_test)\n",
    "\n",
    "            pred = torch.max(y_val.data, 1)[1]\n",
    "            batch_corr = (pred==y_test).sum()\n",
    "            test_acc += batch_corr\n",
    "\n",
    "    print('\\nTrain Acc.: [{:>5}/{} ({:>2.0f}%)]'.format(train_acc, n_samples, 100 * train_acc / n_samples))\n",
    "    print('Test Acc.:  [{:>5}/{} ({:>2.0f}%)]\\n'.format(test_acc, n_test_samples, 100 * test_acc / n_test_samples))"
   ]
  },
  {
   "cell_type": "markdown",
   "metadata": {},
   "source": [
    "That's great! Our model had an accuracy of $92\\%$ on test set, and we were capable of implementing a flexible MLP and training it in an elegant and easy way."
   ]
  },
  {
   "cell_type": "markdown",
   "metadata": {},
   "source": [
    "---"
   ]
  },
  {
   "cell_type": "markdown",
   "metadata": {},
   "source": [
    "## 1.13: Convolutional Neural Networks (CNNs)"
   ]
  },
  {
   "cell_type": "markdown",
   "metadata": {},
   "source": [
    "Convolutional Neural Networks (shortened as CNNs) are a special family of neural networks. Its singularity comes from the namesake operation applied in it - convolution. In short, a CNN is a neural network composed of some specific building blocks represented in layers. Those layers are as described:\n",
    "\n",
    "**1. Convolution Layers:** This is the basic feature of CNNs. In this context, convolution is an operation of linearly combining the inputs from each of these layers with their respectives filters/kernels. Generally, conv. layers are followed by activations ones, and these two layers combined are often called as Convolution Layer. In this tutorial, we're using the latter definition for conv. layers (Convolution + Activation). Convolution operation is represented on [1] gif.\n",
    "\n",
    "**2. Pooling Layers:** Mainly, conv. layers are also followed by Pooling layers. Pooling is used to reduce dimensionality and keep the most important informations in a feature map. A Max Pooling operation is represented on [2] gif.\n",
    "\n",
    "**3. Fully-Connected Layer:** After stacking a large (and deep) number of conv. and pooling layers, we stack a few fully-connected layers on top of this stack. Given the features learned from conv. and pooling layers, the fully-connected layer will classify our input object in our task's classes.\n",
    "\n",
    "Figure [3] shows a complete Conv. Network architecture with those foundational blocks.\n",
    "\n",
    "With this brief review, let's build a Conv. Network with two conv. layers, two fully-connected layers, and with arbitrary convolutional hyperparameters. Also, it'll be trained on CIFAR-10*.\n",
    "\n",
    "*CIFAR-10 is a well-known dataset with 60.000 images of 10 (balanced) classes. Dataset is splitted in 50.000 training images and 10.000 test images. As with MNIST, Pytorch already has an API in order to download CIFAR-10 dataset, which we'll see later. For more details, please check out the dataset website: https://www.cs.toronto.edu/~kriz/cifar.html\n",
    "\n",
    "**OBS.:** This tutorial's intention isn't to go further into details about CNNs, but to be able to construct a CNN model with Pytorch. Please, check out this link for additional informations: https://cezannec.github.io/Convolutional_Neural_Networks/"
   ]
  },
  {
   "cell_type": "code",
   "execution_count": 54,
   "metadata": {},
   "outputs": [
    {
     "data": {
      "image/gif": "[encoded data removed]",
      "text/plain": [
       "<IPython.core.display.Image object>"
      ]
     },
     "execution_count": 54,
     "metadata": {},
     "output_type": "execute_result"
    }
   ],
   "source": [
    "Image(filename=\"assets/images/no_padding_no_strides.gif\")"
   ]
  },
  {
   "cell_type": "markdown",
   "metadata": {},
   "source": [
    "[1]: Convolution operation. In this example, a $4x4$ input matrix (lighter blue) is convoluted by a $3x3$ filter/kernel (darker blue, passing through the input) resulting in a $2x2$ convolution output.\n",
    "\n",
    "Source: Vincent Dumoulin, Francesco Visin. \"A guide to convolution arithmetic for deep learning\". https://github.com/vdumoulin/conv_arithmetic."
   ]
  },
  {
   "cell_type": "markdown",
   "metadata": {},
   "source": [
    "The convolution layer output's size is computed using the following equation:\n",
    "\n",
    "$$n_{OUT}^{H} = \\dfrac{n_{IN}^{H} + 2p - f_{H}}{s} + 1$$\n",
    "\n",
    "$$n_{OUT}^{W} = \\dfrac{n_{IN}^{W} + 2p - f_{W}}{s} + 1$$\n",
    "\n",
    "Where $n_{OUT}^{*}$ is the corresponding output size, $p$ and $s$ stands, respectively, for the padding and stride, and $f_{*}$ is the filter size w.r.t. dimension ($* \\in \\{H, W\\}$, in 2D conv.). In the above example, we have $n_{IN}^{H} = n_{IN}^{W} = 4, p = 0, s = 1$, and $f_{H} = f_{W} = 3$ (i.e., $3x3$ kernel). Using the presented equations we have $n_{OUT}^{H} = n_{OUT}^{W} = 2$."
   ]
  },
  {
   "cell_type": "code",
   "execution_count": 55,
   "metadata": {},
   "outputs": [
    {
     "data": {
      "image/gif": "[encoded data removed]",
      "text/plain": [
       "<IPython.core.display.Image object>"
      ]
     },
     "execution_count": 55,
     "metadata": {},
     "output_type": "execute_result"
    }
   ],
   "source": [
    "Image(filename=\"assets/images/max_pool.gif\")"
   ]
  },
  {
   "cell_type": "markdown",
   "metadata": {},
   "source": [
    "[2]: Max Pooling operation. In this example, a $4x4$ input matrix is pooled by a $2x2$ filter/kernel (red, passing through the input) resulting in a $2x2$ pooling output, due to a stride of 2 ($s = 2$).\n",
    "\n",
    "Source: _Quora_. \"What is pooling in a deep architecture?\". Accessed 15 November 2021, https://qr.ae/pGlY4X."
   ]
  },
  {
   "cell_type": "code",
   "execution_count": 56,
   "metadata": {},
   "outputs": [
    {
     "data": {
      "image/png": "[encoded data removed]",
      "text/plain": [
       "<IPython.core.display.Image object>"
      ]
     },
     "execution_count": 56,
     "metadata": {
      "image/png": {
       "height": 750,
       "width": 705
      }
     },
     "output_type": "execute_result"
    }
   ],
   "source": [
    "Image(filename=\"assets/images/conv_architecture.png\", height=750, width=705)"
   ]
  },
  {
   "cell_type": "markdown",
   "metadata": {},
   "source": [
    "[3]: CNN general architecture. \n",
    "\n",
    "Source: _MathWorks_. \"What is a Convolutional Neural Network? 3 things you need to know\". Accessed 14 November 2021, https://www.mathworks.com/discovery/convolutional-neural-network-matlab.html."
   ]
  },
  {
   "cell_type": "code",
   "execution_count": 57,
   "metadata": {},
   "outputs": [],
   "source": [
    "class ConvNet(nn.Module):\n",
    "\n",
    "    def __init__(self, hparams):\n",
    "        super().__init__()\n",
    "\n",
    "        n_C_prev, n_H_prev, n_W_prev = 3, 32, 32\n",
    "        n_C, f, stride, pad = [hparams[key] for key in list(hparams.keys())[:4]]\n",
    "        n_H, n_W = int((n_H_prev + 2*pad - f)/stride + 1), int((n_W_prev + 2*pad - f)/stride + 1)\n",
    "\n",
    "        pool_mode, f_pool, stride_pool = [hparams[key] for key in list(hparams.keys())[4:7]]\n",
    "        n_H, n_W = int((n_H - f_pool)/stride_pool + 1), int((n_W - f_pool)/stride_pool + 1)\n",
    "\n",
    "        self.conv1 = nn.Conv2d(in_channels=n_C_prev, out_channels=n_C, kernel_size=(f, f), stride=stride, padding=pad)\n",
    "        if pool_mode == 'mean':\n",
    "            self.pool1 = nn.MaxPool2d(kernel_size=f_pool, stride=stride_pool)\n",
    "        elif pool_mode == 'avg':\n",
    "            self.pool1 = nn.AvgPool2d(kernel_size=f_pool, stride=stride_pool)\n",
    "\n",
    "        n_C_prev, n_H_prev, n_W_prev = n_C, n_H, n_W\n",
    "        n_C, f, stride, pad = [hparams[key] for key in list(hparams.keys())[7:11]]\n",
    "        n_H, n_W = int((n_H_prev + 2*pad - f)/stride + 1), int((n_W_prev + 2*pad - f)/stride + 1)\n",
    "\n",
    "        pool_mode, f_pool, stride_pool = [hparams[key] for key in list(hparams.keys())[11:]]\n",
    "        n_H, n_W = int((n_H - f_pool)/stride_pool + 1), int((n_W - f_pool)/stride_pool + 1)\n",
    "\n",
    "        self.conv2 = nn.Conv2d(in_channels=n_C_prev, out_channels=n_C, kernel_size=(f, f), stride=stride, padding=pad)\n",
    "        if pool_mode == 'mean':\n",
    "            self.pool2 = nn.MaxPool2d(kernel_size=f_pool, stride=stride_pool)\n",
    "        elif pool_mode == 'avg':\n",
    "            self.pool2 = nn.AvgPool2d(kernel_size=f_pool, stride=stride_pool)\n",
    "\n",
    "        self.fc1 = nn.Linear(in_features=n_C*n_H*n_W, out_features=256)\n",
    "        self.fc2 = nn.Linear(in_features=256, out_features=128)\n",
    "        self.output = nn.Linear(in_features=128, out_features=10)\n",
    "\n",
    "    def forward(self, X):\n",
    "        out = nn.ReLU()(self.conv1(X))\n",
    "        out = self.pool1(out)\n",
    "\n",
    "        out = nn.ReLU()(self.conv2(out))\n",
    "        out = self.pool2(out)\n",
    "\n",
    "        out = nn.Flatten()(out)\n",
    "        out = nn.ReLU()(self.fc1(out))\n",
    "        out = nn.ReLU()(self.fc2(out))\n",
    "        output = self.output(out)\n",
    "\n",
    "        return output"
   ]
  },
  {
   "cell_type": "code",
   "execution_count": 58,
   "metadata": {},
   "outputs": [],
   "source": [
    "# Define hyperparameters\n",
    "lr=0.001\n",
    "num_epochs= 10\n",
    "batch_size = 32"
   ]
  },
  {
   "cell_type": "code",
   "execution_count": 59,
   "metadata": {},
   "outputs": [
    {
     "name": "stdout",
     "output_type": "stream",
     "text": [
      "Files already downloaded and verified\n",
      "Files already downloaded and verified\n"
     ]
    }
   ],
   "source": [
    "composed = torchvision.transforms.Compose([torchvision.transforms.ToTensor(), torchvision.transforms.Normalize((0.5, 0.5, 0.5), (0.5, 0.5, 0.5))])\n",
    "train_dataset = torchvision.datasets.CIFAR10(root='./data', train=True, transform=composed, download=True)\n",
    "train_dataloader = DataLoader(dataset=train_dataset, batch_size=batch_size, shuffle=True)\n",
    "\n",
    "test_dataset = torchvision.datasets.CIFAR10(root='./data', train=False, transform=composed, download=True)\n",
    "test_dataloader = DataLoader(dataset=test_dataset, batch_size=batch_size, shuffle=False)"
   ]
  },
  {
   "cell_type": "code",
   "execution_count": 60,
   "metadata": {},
   "outputs": [],
   "source": [
    "examples = enumerate(train_dataloader)\n",
    "batch_idx, (example_features, example_targets) = next(examples)"
   ]
  },
  {
   "cell_type": "code",
   "execution_count": 61,
   "metadata": {},
   "outputs": [
    {
     "data": {
      "image/png": "[encoded data removed]",
      "text/plain": [
       "<Figure size 432x288 with 4 Axes>"
      ]
     },
     "metadata": {},
     "output_type": "display_data"
    }
   ],
   "source": [
    "classes_dict = {\n",
    "    0: 'Airplane',\n",
    "    1: 'Automobile',\n",
    "    2: 'Bird',\n",
    "    3: 'Cat',\n",
    "    4: 'Deer',\n",
    "    5: 'Dog',\n",
    "    6: 'Frog',\n",
    "    7: 'Horse',\n",
    "    8: 'Ship',\n",
    "    9: 'Truck'\n",
    "}\n",
    "\n",
    "fig = plt.figure()\n",
    "\n",
    "for i in range(4):\n",
    "    plt.subplot(2, 2, i+1)\n",
    "    plt.tight_layout()\n",
    "    plt.imshow(example_features[i].transpose(0, 1).transpose(1, 2)*0.5 + 0.5)\n",
    "    plt.title(r'{label}'.format(label=classes_dict[example_targets[i].item()]))\n",
    "    plt.xticks([])\n",
    "    plt.yticks([])\n",
    "fig.show()"
   ]
  },
  {
   "cell_type": "code",
   "execution_count": 62,
   "metadata": {},
   "outputs": [],
   "source": [
    "# CNN hyperparameters\n",
    "hparams = {\n",
    "    'num_f_1': 32,\n",
    "    'f_1': 3,\n",
    "    'stride_1': 1,\n",
    "    'pad_1': 0,\n",
    "    'pool_1': 'mean',\n",
    "    'f_pool_1': 2,\n",
    "    'stride_pool_1': 1,\n",
    "    'num_f_2': 32,\n",
    "    'f_2': 3,\n",
    "    'stride_2': 1,\n",
    "    'pad_2': 0,\n",
    "    'pool_2': 'mean',\n",
    "    'f_pool_2': 2,\n",
    "    'stride_pool_2': 1\n",
    "}"
   ]
  },
  {
   "cell_type": "code",
   "execution_count": 63,
   "metadata": {
    "scrolled": true,
    "tags": []
   },
   "outputs": [
    {
     "name": "stdout",
     "output_type": "stream",
     "text": [
      "Train Epoch 1/10 [    0/50000 ( 0%)] | Loss: 2.3191065788269043\n",
      "Train Epoch 1/10 [  480/50000 ( 1%)] | Loss: 1.942647099494934\n",
      "Train Epoch 1/10 [  960/50000 ( 2%)] | Loss: 1.7126705646514893\n",
      "Train Epoch 1/10 [ 1440/50000 ( 3%)] | Loss: 1.901122808456421\n",
      "Train Epoch 1/10 [ 1920/50000 ( 4%)] | Loss: 1.9328888654708862\n",
      "Train Epoch 1/10 [ 2400/50000 ( 5%)] | Loss: 1.833506464958191\n",
      "Train Epoch 1/10 [ 2880/50000 ( 6%)] | Loss: 1.8580889701843262\n",
      "Train Epoch 1/10 [ 3360/50000 ( 7%)] | Loss: 1.5525792837142944\n",
      "Train Epoch 1/10 [ 3840/50000 ( 8%)] | Loss: 1.166783094406128\n",
      "Train Epoch 1/10 [ 4320/50000 ( 9%)] | Loss: 1.8180694580078125\n",
      "Train Epoch 1/10 [ 4800/50000 (10%)] | Loss: 1.4279563426971436\n",
      "Train Epoch 1/10 [ 5280/50000 (11%)] | Loss: 1.4502825736999512\n",
      "Train Epoch 1/10 [ 5760/50000 (12%)] | Loss: 1.2149431705474854\n",
      "Train Epoch 1/10 [ 6240/50000 (12%)] | Loss: 1.5712099075317383\n",
      "Train Epoch 1/10 [ 6720/50000 (13%)] | Loss: 1.8890180587768555\n",
      "Train Epoch 1/10 [ 7200/50000 (14%)] | Loss: 1.4848542213439941\n",
      "Train Epoch 1/10 [ 7680/50000 (15%)] | Loss: 1.5337506532669067\n",
      "Train Epoch 1/10 [ 8160/50000 (16%)] | Loss: 1.2571899890899658\n",
      "Train Epoch 1/10 [ 8640/50000 (17%)] | Loss: 1.1131657361984253\n",
      "Train Epoch 1/10 [ 9120/50000 (18%)] | Loss: 1.5069334506988525\n",
      "Train Epoch 1/10 [ 9600/50000 (19%)] | Loss: 1.2152258157730103\n",
      "Train Epoch 1/10 [10080/50000 (20%)] | Loss: 1.7300630807876587\n",
      "Train Epoch 1/10 [10560/50000 (21%)] | Loss: 1.2161688804626465\n",
      "Train Epoch 1/10 [11040/50000 (22%)] | Loss: 1.2576892375946045\n",
      "Train Epoch 1/10 [11520/50000 (23%)] | Loss: 1.6077396869659424\n",
      "Train Epoch 1/10 [12000/50000 (24%)] | Loss: 1.4648232460021973\n",
      "Train Epoch 1/10 [12480/50000 (25%)] | Loss: 1.540015697479248\n",
      "Train Epoch 1/10 [12960/50000 (26%)] | Loss: 1.2590227127075195\n",
      "Train Epoch 1/10 [13440/50000 (27%)] | Loss: 1.0590945482254028\n",
      "Train Epoch 1/10 [13920/50000 (28%)] | Loss: 1.2289550304412842\n",
      "Train Epoch 1/10 [14400/50000 (29%)] | Loss: 1.4511332511901855\n",
      "Train Epoch 1/10 [14880/50000 (30%)] | Loss: 1.4327424764633179\n",
      "Train Epoch 1/10 [15360/50000 (31%)] | Loss: 1.3559738397598267\n",
      "Train Epoch 1/10 [15840/50000 (32%)] | Loss: 1.405563235282898\n",
      "Train Epoch 1/10 [16320/50000 (33%)] | Loss: 1.4020850658416748\n",
      "Train Epoch 1/10 [16800/50000 (34%)] | Loss: 1.125203251838684\n",
      "Train Epoch 1/10 [17280/50000 (35%)] | Loss: 1.239074945449829\n",
      "Train Epoch 1/10 [17760/50000 (36%)] | Loss: 1.5799545049667358\n",
      "Train Epoch 1/10 [18240/50000 (36%)] | Loss: 1.3086307048797607\n",
      "Train Epoch 1/10 [18720/50000 (37%)] | Loss: 1.1316404342651367\n",
      "Train Epoch 1/10 [19200/50000 (38%)] | Loss: 1.1382198333740234\n",
      "Train Epoch 1/10 [19680/50000 (39%)] | Loss: 1.396765947341919\n",
      "Train Epoch 1/10 [20160/50000 (40%)] | Loss: 1.3947778940200806\n",
      "Train Epoch 1/10 [20640/50000 (41%)] | Loss: 1.442848563194275\n",
      "Train Epoch 1/10 [21120/50000 (42%)] | Loss: 1.2324610948562622\n",
      "Train Epoch 1/10 [21600/50000 (43%)] | Loss: 1.4292895793914795\n",
      "Train Epoch 1/10 [22080/50000 (44%)] | Loss: 1.299367904663086\n",
      "Train Epoch 1/10 [22560/50000 (45%)] | Loss: 1.4157652854919434\n",
      "Train Epoch 1/10 [23040/50000 (46%)] | Loss: 0.7065137624740601\n",
      "Train Epoch 1/10 [23520/50000 (47%)] | Loss: 1.0911380052566528\n",
      "Train Epoch 1/10 [24000/50000 (48%)] | Loss: 1.5074162483215332\n",
      "Train Epoch 1/10 [24480/50000 (49%)] | Loss: 0.7455459833145142\n",
      "Train Epoch 1/10 [24960/50000 (50%)] | Loss: 1.0318472385406494\n",
      "Train Epoch 1/10 [25440/50000 (51%)] | Loss: 1.2695364952087402\n",
      "Train Epoch 1/10 [25920/50000 (52%)] | Loss: 1.0891594886779785\n",
      "Train Epoch 1/10 [26400/50000 (53%)] | Loss: 1.1586171388626099\n",
      "Train Epoch 1/10 [26880/50000 (54%)] | Loss: 1.151803731918335\n",
      "Train Epoch 1/10 [27360/50000 (55%)] | Loss: 1.3163814544677734\n",
      "Train Epoch 1/10 [27840/50000 (56%)] | Loss: 1.1149446964263916\n",
      "Train Epoch 1/10 [28320/50000 (57%)] | Loss: 0.8487063646316528\n",
      "Train Epoch 1/10 [28800/50000 (58%)] | Loss: 1.2254313230514526\n",
      "Train Epoch 1/10 [29280/50000 (59%)] | Loss: 1.090350866317749\n",
      "Train Epoch 1/10 [29760/50000 (60%)] | Loss: 1.3961281776428223\n",
      "Train Epoch 1/10 [30240/50000 (60%)] | Loss: 1.435877799987793\n",
      "Train Epoch 1/10 [30720/50000 (61%)] | Loss: 0.8883266448974609\n",
      "Train Epoch 1/10 [31200/50000 (62%)] | Loss: 1.0090690851211548\n",
      "Train Epoch 1/10 [31680/50000 (63%)] | Loss: 1.074406385421753\n",
      "Train Epoch 1/10 [32160/50000 (64%)] | Loss: 0.7278481721878052\n",
      "Train Epoch 1/10 [32640/50000 (65%)] | Loss: 1.430612325668335\n",
      "Train Epoch 1/10 [33120/50000 (66%)] | Loss: 1.2664527893066406\n",
      "Train Epoch 1/10 [33600/50000 (67%)] | Loss: 1.2104568481445312\n",
      "Train Epoch 1/10 [34080/50000 (68%)] | Loss: 1.0343317985534668\n",
      "Train Epoch 1/10 [34560/50000 (69%)] | Loss: 1.298137903213501\n",
      "Train Epoch 1/10 [35040/50000 (70%)] | Loss: 1.1307374238967896\n",
      "Train Epoch 1/10 [35520/50000 (71%)] | Loss: 1.4753785133361816\n",
      "Train Epoch 1/10 [36000/50000 (72%)] | Loss: 0.9106965065002441\n",
      "Train Epoch 1/10 [36480/50000 (73%)] | Loss: 1.5850131511688232\n",
      "Train Epoch 1/10 [36960/50000 (74%)] | Loss: 1.2466856241226196\n",
      "Train Epoch 1/10 [37440/50000 (75%)] | Loss: 1.137394905090332\n",
      "Train Epoch 1/10 [37920/50000 (76%)] | Loss: 1.3238458633422852\n",
      "Train Epoch 1/10 [38400/50000 (77%)] | Loss: 1.5063437223434448\n",
      "Train Epoch 1/10 [38880/50000 (78%)] | Loss: 1.116106390953064\n",
      "Train Epoch 1/10 [39360/50000 (79%)] | Loss: 1.2365481853485107\n",
      "Train Epoch 1/10 [39840/50000 (80%)] | Loss: 1.0720913410186768\n",
      "Train Epoch 1/10 [40320/50000 (81%)] | Loss: 0.9942936301231384\n",
      "Train Epoch 1/10 [40800/50000 (82%)] | Loss: 1.2529877424240112\n",
      "Train Epoch 1/10 [41280/50000 (83%)] | Loss: 1.2253504991531372\n",
      "Train Epoch 1/10 [41760/50000 (83%)] | Loss: 0.8601694703102112\n",
      "Train Epoch 1/10 [42240/50000 (84%)] | Loss: 1.1858106851577759\n",
      "Train Epoch 1/10 [42720/50000 (85%)] | Loss: 1.3080605268478394\n",
      "Train Epoch 1/10 [43200/50000 (86%)] | Loss: 1.3824241161346436\n",
      "Train Epoch 1/10 [43680/50000 (87%)] | Loss: 1.2383846044540405\n",
      "Train Epoch 1/10 [44160/50000 (88%)] | Loss: 0.9880428314208984\n",
      "Train Epoch 1/10 [44640/50000 (89%)] | Loss: 1.0573641061782837\n",
      "Train Epoch 1/10 [45120/50000 (90%)] | Loss: 1.185774803161621\n",
      "Train Epoch 1/10 [45600/50000 (91%)] | Loss: 1.294478416442871\n",
      "Train Epoch 1/10 [46080/50000 (92%)] | Loss: 1.1632035970687866\n",
      "Train Epoch 1/10 [46560/50000 (93%)] | Loss: 1.3027909994125366\n",
      "Train Epoch 1/10 [47040/50000 (94%)] | Loss: 0.8589540719985962\n",
      "Train Epoch 1/10 [47520/50000 (95%)] | Loss: 1.0948810577392578\n",
      "Train Epoch 1/10 [48000/50000 (96%)] | Loss: 1.0457340478897095\n",
      "Train Epoch 1/10 [48480/50000 (97%)] | Loss: 0.9001815319061279\n",
      "Train Epoch 1/10 [48960/50000 (98%)] | Loss: 1.0422711372375488\n",
      "Train Epoch 1/10 [49440/50000 (99%)] | Loss: 1.116180181503296\n",
      "Train Epoch 1/10 [49920/50000 (100%)] | Loss: 1.087754249572754\n",
      "\n",
      "Train Acc.: [27189/50000 (54%)]\n",
      "Test Acc.:  [ 6348/10000 (63%)]\n",
      "\n",
      "Train Epoch 2/10 [    0/50000 ( 0%)] | Loss: 0.8777183890342712\n",
      "Train Epoch 2/10 [  480/50000 ( 1%)] | Loss: 1.0964959859848022\n",
      "Train Epoch 2/10 [  960/50000 ( 2%)] | Loss: 1.137585997581482\n",
      "Train Epoch 2/10 [ 1440/50000 ( 3%)] | Loss: 0.7446256279945374\n",
      "Train Epoch 2/10 [ 1920/50000 ( 4%)] | Loss: 0.8450912833213806\n",
      "Train Epoch 2/10 [ 2400/50000 ( 5%)] | Loss: 0.7884940505027771\n",
      "Train Epoch 2/10 [ 2880/50000 ( 6%)] | Loss: 0.9406505227088928\n",
      "Train Epoch 2/10 [ 3360/50000 ( 7%)] | Loss: 0.687826931476593\n",
      "Train Epoch 2/10 [ 3840/50000 ( 8%)] | Loss: 0.8339109420776367\n",
      "Train Epoch 2/10 [ 4320/50000 ( 9%)] | Loss: 0.9379178881645203\n",
      "Train Epoch 2/10 [ 4800/50000 (10%)] | Loss: 0.8850738406181335\n",
      "Train Epoch 2/10 [ 5280/50000 (11%)] | Loss: 1.217160940170288\n",
      "Train Epoch 2/10 [ 5760/50000 (12%)] | Loss: 0.8776559233665466\n",
      "Train Epoch 2/10 [ 6240/50000 (12%)] | Loss: 1.3970932960510254\n",
      "Train Epoch 2/10 [ 6720/50000 (13%)] | Loss: 0.9664702415466309\n",
      "Train Epoch 2/10 [ 7200/50000 (14%)] | Loss: 1.2539876699447632\n",
      "Train Epoch 2/10 [ 7680/50000 (15%)] | Loss: 1.2375322580337524\n",
      "Train Epoch 2/10 [ 8160/50000 (16%)] | Loss: 0.8702918887138367\n",
      "Train Epoch 2/10 [ 8640/50000 (17%)] | Loss: 0.6248824000358582\n",
      "Train Epoch 2/10 [ 9120/50000 (18%)] | Loss: 0.8584697842597961\n",
      "Train Epoch 2/10 [ 9600/50000 (19%)] | Loss: 0.6013817191123962\n",
      "Train Epoch 2/10 [10080/50000 (20%)] | Loss: 0.9318767786026001\n",
      "Train Epoch 2/10 [10560/50000 (21%)] | Loss: 0.8961368799209595\n",
      "Train Epoch 2/10 [11040/50000 (22%)] | Loss: 1.0401058197021484\n",
      "Train Epoch 2/10 [11520/50000 (23%)] | Loss: 0.8298243284225464\n",
      "Train Epoch 2/10 [12000/50000 (24%)] | Loss: 0.8337493538856506\n",
      "Train Epoch 2/10 [12480/50000 (25%)] | Loss: 0.9518954753875732\n",
      "Train Epoch 2/10 [12960/50000 (26%)] | Loss: 0.9797663688659668\n",
      "Train Epoch 2/10 [13440/50000 (27%)] | Loss: 0.8112508654594421\n",
      "Train Epoch 2/10 [13920/50000 (28%)] | Loss: 0.6976101398468018\n",
      "Train Epoch 2/10 [14400/50000 (29%)] | Loss: 0.5226112604141235\n",
      "Train Epoch 2/10 [14880/50000 (30%)] | Loss: 0.7849413156509399\n",
      "Train Epoch 2/10 [15360/50000 (31%)] | Loss: 0.9231438636779785\n",
      "Train Epoch 2/10 [15840/50000 (32%)] | Loss: 0.9819781184196472\n",
      "Train Epoch 2/10 [16320/50000 (33%)] | Loss: 0.963369607925415\n",
      "Train Epoch 2/10 [16800/50000 (34%)] | Loss: 0.7751839756965637\n",
      "Train Epoch 2/10 [17280/50000 (35%)] | Loss: 0.6335757970809937\n",
      "Train Epoch 2/10 [17760/50000 (36%)] | Loss: 0.7433122396469116\n",
      "Train Epoch 2/10 [18240/50000 (36%)] | Loss: 0.7503732442855835\n",
      "Train Epoch 2/10 [18720/50000 (37%)] | Loss: 0.779914379119873\n",
      "Train Epoch 2/10 [19200/50000 (38%)] | Loss: 0.8216080665588379\n",
      "Train Epoch 2/10 [19680/50000 (39%)] | Loss: 0.6051755547523499\n",
      "Train Epoch 2/10 [20160/50000 (40%)] | Loss: 0.8007861971855164\n",
      "Train Epoch 2/10 [20640/50000 (41%)] | Loss: 1.2458192110061646\n",
      "Train Epoch 2/10 [21120/50000 (42%)] | Loss: 1.063602089881897\n",
      "Train Epoch 2/10 [21600/50000 (43%)] | Loss: 0.9233981966972351\n",
      "Train Epoch 2/10 [22080/50000 (44%)] | Loss: 0.9508963227272034\n",
      "Train Epoch 2/10 [22560/50000 (45%)] | Loss: 0.816082239151001\n",
      "Train Epoch 2/10 [23040/50000 (46%)] | Loss: 0.6265425086021423\n",
      "Train Epoch 2/10 [23520/50000 (47%)] | Loss: 0.9978012442588806\n",
      "Train Epoch 2/10 [24000/50000 (48%)] | Loss: 1.4222490787506104\n",
      "Train Epoch 2/10 [24480/50000 (49%)] | Loss: 0.5174402594566345\n",
      "Train Epoch 2/10 [24960/50000 (50%)] | Loss: 0.8146920800209045\n",
      "Train Epoch 2/10 [25440/50000 (51%)] | Loss: 0.94759202003479\n",
      "Train Epoch 2/10 [25920/50000 (52%)] | Loss: 0.9438628554344177\n",
      "Train Epoch 2/10 [26400/50000 (53%)] | Loss: 0.7132036089897156\n",
      "Train Epoch 2/10 [26880/50000 (54%)] | Loss: 0.9189898371696472\n",
      "Train Epoch 2/10 [27360/50000 (55%)] | Loss: 0.7925319075584412\n",
      "Train Epoch 2/10 [27840/50000 (56%)] | Loss: 0.45570191740989685\n",
      "Train Epoch 2/10 [28320/50000 (57%)] | Loss: 0.7019644975662231\n",
      "Train Epoch 2/10 [28800/50000 (58%)] | Loss: 0.9830412268638611\n",
      "Train Epoch 2/10 [29280/50000 (59%)] | Loss: 0.7884028553962708\n",
      "Train Epoch 2/10 [29760/50000 (60%)] | Loss: 1.1775164604187012\n",
      "Train Epoch 2/10 [30240/50000 (60%)] | Loss: 0.7899354100227356\n",
      "Train Epoch 2/10 [30720/50000 (61%)] | Loss: 0.5833824276924133\n",
      "Train Epoch 2/10 [31200/50000 (62%)] | Loss: 1.095576524734497\n",
      "Train Epoch 2/10 [31680/50000 (63%)] | Loss: 0.6767255067825317\n",
      "Train Epoch 2/10 [32160/50000 (64%)] | Loss: 1.0629611015319824\n",
      "Train Epoch 2/10 [32640/50000 (65%)] | Loss: 1.0948524475097656\n",
      "Train Epoch 2/10 [33120/50000 (66%)] | Loss: 0.6027469038963318\n",
      "Train Epoch 2/10 [33600/50000 (67%)] | Loss: 0.86528080701828\n",
      "Train Epoch 2/10 [34080/50000 (68%)] | Loss: 0.6644331216812134\n",
      "Train Epoch 2/10 [34560/50000 (69%)] | Loss: 0.6431809663772583\n",
      "Train Epoch 2/10 [35040/50000 (70%)] | Loss: 1.131568193435669\n",
      "Train Epoch 2/10 [35520/50000 (71%)] | Loss: 0.8628246784210205\n",
      "Train Epoch 2/10 [36000/50000 (72%)] | Loss: 0.6600887179374695\n",
      "Train Epoch 2/10 [36480/50000 (73%)] | Loss: 0.9043964743614197\n",
      "Train Epoch 2/10 [36960/50000 (74%)] | Loss: 1.1303247213363647\n",
      "Train Epoch 2/10 [37440/50000 (75%)] | Loss: 0.854278028011322\n",
      "Train Epoch 2/10 [37920/50000 (76%)] | Loss: 1.1542391777038574\n",
      "Train Epoch 2/10 [38400/50000 (77%)] | Loss: 0.9160922765731812\n",
      "Train Epoch 2/10 [38880/50000 (78%)] | Loss: 0.7032179236412048\n",
      "Train Epoch 2/10 [39360/50000 (79%)] | Loss: 0.7754156589508057\n",
      "Train Epoch 2/10 [39840/50000 (80%)] | Loss: 0.74954754114151\n",
      "Train Epoch 2/10 [40320/50000 (81%)] | Loss: 0.9979403614997864\n",
      "Train Epoch 2/10 [40800/50000 (82%)] | Loss: 0.8936686515808105\n",
      "Train Epoch 2/10 [41280/50000 (83%)] | Loss: 1.0614086389541626\n",
      "Train Epoch 2/10 [41760/50000 (83%)] | Loss: 0.8203242421150208\n",
      "Train Epoch 2/10 [42240/50000 (84%)] | Loss: 1.0100635290145874\n",
      "Train Epoch 2/10 [42720/50000 (85%)] | Loss: 0.5210910439491272\n",
      "Train Epoch 2/10 [43200/50000 (86%)] | Loss: 0.8611646890640259\n",
      "Train Epoch 2/10 [43680/50000 (87%)] | Loss: 0.5435274839401245\n",
      "Train Epoch 2/10 [44160/50000 (88%)] | Loss: 0.7403132915496826\n",
      "Train Epoch 2/10 [44640/50000 (89%)] | Loss: 0.987144947052002\n",
      "Train Epoch 2/10 [45120/50000 (90%)] | Loss: 0.8530282378196716\n",
      "Train Epoch 2/10 [45600/50000 (91%)] | Loss: 1.1371747255325317\n",
      "Train Epoch 2/10 [46080/50000 (92%)] | Loss: 1.0410866737365723\n",
      "Train Epoch 2/10 [46560/50000 (93%)] | Loss: 0.9544776678085327\n",
      "Train Epoch 2/10 [47040/50000 (94%)] | Loss: 0.7964863777160645\n",
      "Train Epoch 2/10 [47520/50000 (95%)] | Loss: 0.7479579448699951\n",
      "Train Epoch 2/10 [48000/50000 (96%)] | Loss: 0.8760864734649658\n",
      "Train Epoch 2/10 [48480/50000 (97%)] | Loss: 0.9637810587882996\n",
      "Train Epoch 2/10 [48960/50000 (98%)] | Loss: 0.6192187070846558\n",
      "Train Epoch 2/10 [49440/50000 (99%)] | Loss: 1.0600340366363525\n",
      "Train Epoch 2/10 [49920/50000 (100%)] | Loss: 1.0996674299240112\n",
      "\n",
      "Train Acc.: [34390/50000 (69%)]\n",
      "Test Acc.:  [ 6947/10000 (69%)]\n",
      "\n",
      "Train Epoch 3/10 [    0/50000 ( 0%)] | Loss: 0.6690054535865784\n",
      "Train Epoch 3/10 [  480/50000 ( 1%)] | Loss: 0.6755666136741638\n",
      "Train Epoch 3/10 [  960/50000 ( 2%)] | Loss: 0.6521100401878357\n",
      "Train Epoch 3/10 [ 1440/50000 ( 3%)] | Loss: 0.3986676037311554\n",
      "Train Epoch 3/10 [ 1920/50000 ( 4%)] | Loss: 0.7412440776824951\n",
      "Train Epoch 3/10 [ 2400/50000 ( 5%)] | Loss: 0.5237441658973694\n",
      "Train Epoch 3/10 [ 2880/50000 ( 6%)] | Loss: 0.9063838124275208\n",
      "Train Epoch 3/10 [ 3360/50000 ( 7%)] | Loss: 0.7153139114379883\n",
      "Train Epoch 3/10 [ 3840/50000 ( 8%)] | Loss: 0.5114927291870117\n",
      "Train Epoch 3/10 [ 4320/50000 ( 9%)] | Loss: 1.0435459613800049\n",
      "Train Epoch 3/10 [ 4800/50000 (10%)] | Loss: 0.8084264993667603\n",
      "Train Epoch 3/10 [ 5280/50000 (11%)] | Loss: 0.45758041739463806\n",
      "Train Epoch 3/10 [ 5760/50000 (12%)] | Loss: 0.6722859740257263\n",
      "Train Epoch 3/10 [ 6240/50000 (12%)] | Loss: 0.6778908967971802\n",
      "Train Epoch 3/10 [ 6720/50000 (13%)] | Loss: 0.5128690004348755\n",
      "Train Epoch 3/10 [ 7200/50000 (14%)] | Loss: 0.9142491221427917\n",
      "Train Epoch 3/10 [ 7680/50000 (15%)] | Loss: 0.4473531246185303\n",
      "Train Epoch 3/10 [ 8160/50000 (16%)] | Loss: 0.5656993389129639\n",
      "Train Epoch 3/10 [ 8640/50000 (17%)] | Loss: 0.823157787322998\n",
      "Train Epoch 3/10 [ 9120/50000 (18%)] | Loss: 0.4925815761089325\n",
      "Train Epoch 3/10 [ 9600/50000 (19%)] | Loss: 0.934667706489563\n",
      "Train Epoch 3/10 [10080/50000 (20%)] | Loss: 0.495981901884079\n",
      "Train Epoch 3/10 [10560/50000 (21%)] | Loss: 0.7869494557380676\n",
      "Train Epoch 3/10 [11040/50000 (22%)] | Loss: 0.45945897698402405\n",
      "Train Epoch 3/10 [11520/50000 (23%)] | Loss: 0.4431905746459961\n",
      "Train Epoch 3/10 [12000/50000 (24%)] | Loss: 0.6220088601112366\n",
      "Train Epoch 3/10 [12480/50000 (25%)] | Loss: 0.48992493748664856\n",
      "Train Epoch 3/10 [12960/50000 (26%)] | Loss: 0.4479926824569702\n",
      "Train Epoch 3/10 [13440/50000 (27%)] | Loss: 0.6075712442398071\n",
      "Train Epoch 3/10 [13920/50000 (28%)] | Loss: 0.9207972288131714\n",
      "Train Epoch 3/10 [14400/50000 (29%)] | Loss: 0.8490316867828369\n",
      "Train Epoch 3/10 [14880/50000 (30%)] | Loss: 0.8048707246780396\n",
      "Train Epoch 3/10 [15360/50000 (31%)] | Loss: 1.0619430541992188\n",
      "Train Epoch 3/10 [15840/50000 (32%)] | Loss: 0.6199071407318115\n",
      "Train Epoch 3/10 [16320/50000 (33%)] | Loss: 0.6985432505607605\n",
      "Train Epoch 3/10 [16800/50000 (34%)] | Loss: 0.8133770227432251\n",
      "Train Epoch 3/10 [17280/50000 (35%)] | Loss: 0.6709818243980408\n",
      "Train Epoch 3/10 [17760/50000 (36%)] | Loss: 0.4735119342803955\n",
      "Train Epoch 3/10 [18240/50000 (36%)] | Loss: 0.8404767513275146\n",
      "Train Epoch 3/10 [18720/50000 (37%)] | Loss: 0.544222354888916\n",
      "Train Epoch 3/10 [19200/50000 (38%)] | Loss: 0.9454385042190552\n",
      "Train Epoch 3/10 [19680/50000 (39%)] | Loss: 0.6330993175506592\n",
      "Train Epoch 3/10 [20160/50000 (40%)] | Loss: 0.5050354599952698\n",
      "Train Epoch 3/10 [20640/50000 (41%)] | Loss: 0.8604821562767029\n",
      "Train Epoch 3/10 [21120/50000 (42%)] | Loss: 0.5070539712905884\n",
      "Train Epoch 3/10 [21600/50000 (43%)] | Loss: 0.5020655393600464\n",
      "Train Epoch 3/10 [22080/50000 (44%)] | Loss: 0.7298437356948853\n",
      "Train Epoch 3/10 [22560/50000 (45%)] | Loss: 0.8226343393325806\n",
      "Train Epoch 3/10 [23040/50000 (46%)] | Loss: 0.742698609828949\n",
      "Train Epoch 3/10 [23520/50000 (47%)] | Loss: 0.5622647404670715\n",
      "Train Epoch 3/10 [24000/50000 (48%)] | Loss: 0.7281718850135803\n",
      "Train Epoch 3/10 [24480/50000 (49%)] | Loss: 0.6475667357444763\n",
      "Train Epoch 3/10 [24960/50000 (50%)] | Loss: 0.5513279438018799\n",
      "Train Epoch 3/10 [25440/50000 (51%)] | Loss: 0.7636402249336243\n",
      "Train Epoch 3/10 [25920/50000 (52%)] | Loss: 0.7664310336112976\n",
      "Train Epoch 3/10 [26400/50000 (53%)] | Loss: 0.6478607654571533\n",
      "Train Epoch 3/10 [26880/50000 (54%)] | Loss: 0.7489407658576965\n",
      "Train Epoch 3/10 [27360/50000 (55%)] | Loss: 0.7990821599960327\n",
      "Train Epoch 3/10 [27840/50000 (56%)] | Loss: 0.4968143403530121\n",
      "Train Epoch 3/10 [28320/50000 (57%)] | Loss: 0.48492592573165894\n",
      "Train Epoch 3/10 [28800/50000 (58%)] | Loss: 0.42536666989326477\n",
      "Train Epoch 3/10 [29280/50000 (59%)] | Loss: 0.7317944765090942\n",
      "Train Epoch 3/10 [29760/50000 (60%)] | Loss: 1.0077924728393555\n",
      "Train Epoch 3/10 [30240/50000 (60%)] | Loss: 0.36082473397254944\n",
      "Train Epoch 3/10 [30720/50000 (61%)] | Loss: 0.7203660607337952\n",
      "Train Epoch 3/10 [31200/50000 (62%)] | Loss: 0.7296732664108276\n",
      "Train Epoch 3/10 [31680/50000 (63%)] | Loss: 0.4069072902202606\n",
      "Train Epoch 3/10 [32160/50000 (64%)] | Loss: 0.9527639746665955\n",
      "Train Epoch 3/10 [32640/50000 (65%)] | Loss: 0.5476314425468445\n",
      "Train Epoch 3/10 [33120/50000 (66%)] | Loss: 0.678546130657196\n",
      "Train Epoch 3/10 [33600/50000 (67%)] | Loss: 0.8211598992347717\n",
      "Train Epoch 3/10 [34080/50000 (68%)] | Loss: 0.7222092151641846\n",
      "Train Epoch 3/10 [34560/50000 (69%)] | Loss: 0.8175191879272461\n",
      "Train Epoch 3/10 [35040/50000 (70%)] | Loss: 0.6470279097557068\n",
      "Train Epoch 3/10 [35520/50000 (71%)] | Loss: 0.7541446685791016\n",
      "Train Epoch 3/10 [36000/50000 (72%)] | Loss: 0.7500550150871277\n",
      "Train Epoch 3/10 [36480/50000 (73%)] | Loss: 0.8411552906036377\n",
      "Train Epoch 3/10 [36960/50000 (74%)] | Loss: 0.5491930246353149\n",
      "Train Epoch 3/10 [37440/50000 (75%)] | Loss: 0.9266546964645386\n",
      "Train Epoch 3/10 [37920/50000 (76%)] | Loss: 1.2125200033187866\n",
      "Train Epoch 3/10 [38400/50000 (77%)] | Loss: 0.8746753334999084\n",
      "Train Epoch 3/10 [38880/50000 (78%)] | Loss: 0.4683757722377777\n",
      "Train Epoch 3/10 [39360/50000 (79%)] | Loss: 0.6412585973739624\n",
      "Train Epoch 3/10 [39840/50000 (80%)] | Loss: 0.6235542297363281\n",
      "Train Epoch 3/10 [40320/50000 (81%)] | Loss: 0.56963050365448\n",
      "Train Epoch 3/10 [40800/50000 (82%)] | Loss: 0.7524447441101074\n",
      "Train Epoch 3/10 [41280/50000 (83%)] | Loss: 1.0808978080749512\n",
      "Train Epoch 3/10 [41760/50000 (83%)] | Loss: 0.7451894879341125\n",
      "Train Epoch 3/10 [42240/50000 (84%)] | Loss: 0.6405181884765625\n",
      "Train Epoch 3/10 [42720/50000 (85%)] | Loss: 0.6199615001678467\n",
      "Train Epoch 3/10 [43200/50000 (86%)] | Loss: 0.6761490106582642\n",
      "Train Epoch 3/10 [43680/50000 (87%)] | Loss: 0.6815081834793091\n",
      "Train Epoch 3/10 [44160/50000 (88%)] | Loss: 0.5891202688217163\n",
      "Train Epoch 3/10 [44640/50000 (89%)] | Loss: 0.912591814994812\n",
      "Train Epoch 3/10 [45120/50000 (90%)] | Loss: 0.5629109740257263\n",
      "Train Epoch 3/10 [45600/50000 (91%)] | Loss: 1.0122874975204468\n",
      "Train Epoch 3/10 [46080/50000 (92%)] | Loss: 0.8006095290184021\n",
      "Train Epoch 3/10 [46560/50000 (93%)] | Loss: 0.6065359115600586\n",
      "Train Epoch 3/10 [47040/50000 (94%)] | Loss: 0.8657148480415344\n",
      "Train Epoch 3/10 [47520/50000 (95%)] | Loss: 0.9889569878578186\n",
      "Train Epoch 3/10 [48000/50000 (96%)] | Loss: 0.8081444501876831\n",
      "Train Epoch 3/10 [48480/50000 (97%)] | Loss: 0.7265874743461609\n",
      "Train Epoch 3/10 [48960/50000 (98%)] | Loss: 0.7644010186195374\n",
      "Train Epoch 3/10 [49440/50000 (99%)] | Loss: 0.4615364670753479\n",
      "Train Epoch 3/10 [49920/50000 (100%)] | Loss: 0.7344253063201904\n",
      "\n",
      "Train Acc.: [38105/50000 (76%)]\n",
      "Test Acc.:  [ 6955/10000 (70%)]\n",
      "\n",
      "Train Epoch 4/10 [    0/50000 ( 0%)] | Loss: 0.49949517846107483\n",
      "Train Epoch 4/10 [  480/50000 ( 1%)] | Loss: 0.7846999764442444\n",
      "Train Epoch 4/10 [  960/50000 ( 2%)] | Loss: 0.6944350004196167\n",
      "Train Epoch 4/10 [ 1440/50000 ( 3%)] | Loss: 0.4549606740474701\n",
      "Train Epoch 4/10 [ 1920/50000 ( 4%)] | Loss: 0.5339995622634888\n",
      "Train Epoch 4/10 [ 2400/50000 ( 5%)] | Loss: 0.36112627387046814\n",
      "Train Epoch 4/10 [ 2880/50000 ( 6%)] | Loss: 0.5969365239143372\n",
      "Train Epoch 4/10 [ 3360/50000 ( 7%)] | Loss: 0.44588515162467957\n",
      "Train Epoch 4/10 [ 3840/50000 ( 8%)] | Loss: 0.43235674500465393\n",
      "Train Epoch 4/10 [ 4320/50000 ( 9%)] | Loss: 0.4639334976673126\n",
      "Train Epoch 4/10 [ 4800/50000 (10%)] | Loss: 0.25940021872520447\n",
      "Train Epoch 4/10 [ 5280/50000 (11%)] | Loss: 0.29152145981788635\n",
      "Train Epoch 4/10 [ 5760/50000 (12%)] | Loss: 0.42848965525627136\n",
      "Train Epoch 4/10 [ 6240/50000 (12%)] | Loss: 0.27472272515296936\n",
      "Train Epoch 4/10 [ 6720/50000 (13%)] | Loss: 0.3828165829181671\n",
      "Train Epoch 4/10 [ 7200/50000 (14%)] | Loss: 0.6449776887893677\n",
      "Train Epoch 4/10 [ 7680/50000 (15%)] | Loss: 0.4869937300682068\n",
      "Train Epoch 4/10 [ 8160/50000 (16%)] | Loss: 0.3448779881000519\n",
      "Train Epoch 4/10 [ 8640/50000 (17%)] | Loss: 0.7379960417747498\n",
      "Train Epoch 4/10 [ 9120/50000 (18%)] | Loss: 0.38447415828704834\n",
      "Train Epoch 4/10 [ 9600/50000 (19%)] | Loss: 0.48354265093803406\n",
      "Train Epoch 4/10 [10080/50000 (20%)] | Loss: 0.40050727128982544\n",
      "Train Epoch 4/10 [10560/50000 (21%)] | Loss: 0.6180357336997986\n",
      "Train Epoch 4/10 [11040/50000 (22%)] | Loss: 0.2209695428609848\n",
      "Train Epoch 4/10 [11520/50000 (23%)] | Loss: 0.3279966413974762\n",
      "Train Epoch 4/10 [12000/50000 (24%)] | Loss: 0.463037371635437\n",
      "Train Epoch 4/10 [12480/50000 (25%)] | Loss: 0.2685289680957794\n",
      "Train Epoch 4/10 [12960/50000 (26%)] | Loss: 0.3581143021583557\n",
      "Train Epoch 4/10 [13440/50000 (27%)] | Loss: 0.8516807556152344\n",
      "Train Epoch 4/10 [13920/50000 (28%)] | Loss: 0.7012288570404053\n",
      "Train Epoch 4/10 [14400/50000 (29%)] | Loss: 0.6231039762496948\n",
      "Train Epoch 4/10 [14880/50000 (30%)] | Loss: 0.7160296440124512\n",
      "Train Epoch 4/10 [15360/50000 (31%)] | Loss: 0.41942715644836426\n",
      "Train Epoch 4/10 [15840/50000 (32%)] | Loss: 0.29660648107528687\n",
      "Train Epoch 4/10 [16320/50000 (33%)] | Loss: 0.21991583704948425\n",
      "Train Epoch 4/10 [16800/50000 (34%)] | Loss: 0.26585447788238525\n",
      "Train Epoch 4/10 [17280/50000 (35%)] | Loss: 0.7796834111213684\n",
      "Train Epoch 4/10 [17760/50000 (36%)] | Loss: 0.6475013494491577\n",
      "Train Epoch 4/10 [18240/50000 (36%)] | Loss: 0.47326231002807617\n",
      "Train Epoch 4/10 [18720/50000 (37%)] | Loss: 0.6596760153770447\n",
      "Train Epoch 4/10 [19200/50000 (38%)] | Loss: 0.5136126279830933\n",
      "Train Epoch 4/10 [19680/50000 (39%)] | Loss: 0.49272704124450684\n",
      "Train Epoch 4/10 [20160/50000 (40%)] | Loss: 0.7011222839355469\n",
      "Train Epoch 4/10 [20640/50000 (41%)] | Loss: 0.6520841121673584\n",
      "Train Epoch 4/10 [21120/50000 (42%)] | Loss: 0.5134929418563843\n",
      "Train Epoch 4/10 [21600/50000 (43%)] | Loss: 0.4423178732395172\n",
      "Train Epoch 4/10 [22080/50000 (44%)] | Loss: 0.6896271705627441\n",
      "Train Epoch 4/10 [22560/50000 (45%)] | Loss: 0.36528894305229187\n",
      "Train Epoch 4/10 [23040/50000 (46%)] | Loss: 0.5123409628868103\n",
      "Train Epoch 4/10 [23520/50000 (47%)] | Loss: 0.3698023855686188\n",
      "Train Epoch 4/10 [24000/50000 (48%)] | Loss: 0.3611948490142822\n",
      "Train Epoch 4/10 [24480/50000 (49%)] | Loss: 0.6870157718658447\n",
      "Train Epoch 4/10 [24960/50000 (50%)] | Loss: 0.41413211822509766\n",
      "Train Epoch 4/10 [25440/50000 (51%)] | Loss: 0.39334040880203247\n",
      "Train Epoch 4/10 [25920/50000 (52%)] | Loss: 0.6383087038993835\n",
      "Train Epoch 4/10 [26400/50000 (53%)] | Loss: 0.5494776964187622\n",
      "Train Epoch 4/10 [26880/50000 (54%)] | Loss: 0.26448699831962585\n",
      "Train Epoch 4/10 [27360/50000 (55%)] | Loss: 0.5191137790679932\n",
      "Train Epoch 4/10 [27840/50000 (56%)] | Loss: 0.6559211015701294\n",
      "Train Epoch 4/10 [28320/50000 (57%)] | Loss: 0.529496431350708\n",
      "Train Epoch 4/10 [28800/50000 (58%)] | Loss: 0.5401414632797241\n",
      "Train Epoch 4/10 [29280/50000 (59%)] | Loss: 0.43132540583610535\n",
      "Train Epoch 4/10 [29760/50000 (60%)] | Loss: 0.9345018863677979\n",
      "Train Epoch 4/10 [30240/50000 (60%)] | Loss: 0.5659404993057251\n",
      "Train Epoch 4/10 [30720/50000 (61%)] | Loss: 0.567827045917511\n",
      "Train Epoch 4/10 [31200/50000 (62%)] | Loss: 0.4065887928009033\n",
      "Train Epoch 4/10 [31680/50000 (63%)] | Loss: 0.5016945004463196\n",
      "Train Epoch 4/10 [32160/50000 (64%)] | Loss: 0.6434922814369202\n",
      "Train Epoch 4/10 [32640/50000 (65%)] | Loss: 0.3459940254688263\n",
      "Train Epoch 4/10 [33120/50000 (66%)] | Loss: 0.5976624488830566\n",
      "Train Epoch 4/10 [33600/50000 (67%)] | Loss: 0.6447157859802246\n",
      "Train Epoch 4/10 [34080/50000 (68%)] | Loss: 0.3739011287689209\n",
      "Train Epoch 4/10 [34560/50000 (69%)] | Loss: 0.593409538269043\n",
      "Train Epoch 4/10 [35040/50000 (70%)] | Loss: 0.4018212854862213\n",
      "Train Epoch 4/10 [35520/50000 (71%)] | Loss: 0.422465443611145\n",
      "Train Epoch 4/10 [36000/50000 (72%)] | Loss: 0.5269440412521362\n",
      "Train Epoch 4/10 [36480/50000 (73%)] | Loss: 0.6940189599990845\n",
      "Train Epoch 4/10 [36960/50000 (74%)] | Loss: 0.8509999513626099\n",
      "Train Epoch 4/10 [37440/50000 (75%)] | Loss: 0.32426339387893677\n",
      "Train Epoch 4/10 [37920/50000 (76%)] | Loss: 0.6723148226737976\n",
      "Train Epoch 4/10 [38400/50000 (77%)] | Loss: 0.4752390682697296\n",
      "Train Epoch 4/10 [38880/50000 (78%)] | Loss: 0.5248271226882935\n",
      "Train Epoch 4/10 [39360/50000 (79%)] | Loss: 0.602689802646637\n",
      "Train Epoch 4/10 [39840/50000 (80%)] | Loss: 0.5772927403450012\n",
      "Train Epoch 4/10 [40320/50000 (81%)] | Loss: 0.7845515608787537\n",
      "Train Epoch 4/10 [40800/50000 (82%)] | Loss: 0.534804105758667\n",
      "Train Epoch 4/10 [41280/50000 (83%)] | Loss: 0.6767386794090271\n",
      "Train Epoch 4/10 [41760/50000 (83%)] | Loss: 0.35209763050079346\n",
      "Train Epoch 4/10 [42240/50000 (84%)] | Loss: 0.41347211599349976\n",
      "Train Epoch 4/10 [42720/50000 (85%)] | Loss: 0.6931959390640259\n",
      "Train Epoch 4/10 [43200/50000 (86%)] | Loss: 0.4337448477745056\n",
      "Train Epoch 4/10 [43680/50000 (87%)] | Loss: 0.7121790051460266\n",
      "Train Epoch 4/10 [44160/50000 (88%)] | Loss: 0.627679169178009\n",
      "Train Epoch 4/10 [44640/50000 (89%)] | Loss: 0.8034889101982117\n",
      "Train Epoch 4/10 [45120/50000 (90%)] | Loss: 0.45444580912590027\n",
      "Train Epoch 4/10 [45600/50000 (91%)] | Loss: 0.541598379611969\n",
      "Train Epoch 4/10 [46080/50000 (92%)] | Loss: 0.25218117237091064\n",
      "Train Epoch 4/10 [46560/50000 (93%)] | Loss: 1.0254905223846436\n",
      "Train Epoch 4/10 [47040/50000 (94%)] | Loss: 0.45303866267204285\n",
      "Train Epoch 4/10 [47520/50000 (95%)] | Loss: 0.36276721954345703\n",
      "Train Epoch 4/10 [48000/50000 (96%)] | Loss: 0.46571359038352966\n",
      "Train Epoch 4/10 [48480/50000 (97%)] | Loss: 0.44432711601257324\n",
      "Train Epoch 4/10 [48960/50000 (98%)] | Loss: 0.7043397426605225\n",
      "Train Epoch 4/10 [49440/50000 (99%)] | Loss: 0.4197944700717926\n",
      "Train Epoch 4/10 [49920/50000 (100%)] | Loss: 0.2688554525375366\n",
      "\n",
      "Train Acc.: [40992/50000 (82%)]\n",
      "Test Acc.:  [ 7094/10000 (71%)]\n",
      "\n",
      "Train Epoch 5/10 [    0/50000 ( 0%)] | Loss: 0.18963941931724548\n",
      "Train Epoch 5/10 [  480/50000 ( 1%)] | Loss: 0.2424505352973938\n",
      "Train Epoch 5/10 [  960/50000 ( 2%)] | Loss: 0.2265378087759018\n",
      "Train Epoch 5/10 [ 1440/50000 ( 3%)] | Loss: 0.13522344827651978\n",
      "Train Epoch 5/10 [ 1920/50000 ( 4%)] | Loss: 0.31978070735931396\n",
      "Train Epoch 5/10 [ 2400/50000 ( 5%)] | Loss: 0.10418493300676346\n",
      "Train Epoch 5/10 [ 2880/50000 ( 6%)] | Loss: 0.2241850197315216\n",
      "Train Epoch 5/10 [ 3360/50000 ( 7%)] | Loss: 0.7883343696594238\n",
      "Train Epoch 5/10 [ 3840/50000 ( 8%)] | Loss: 0.24741531908512115\n",
      "Train Epoch 5/10 [ 4320/50000 ( 9%)] | Loss: 0.34629979729652405\n",
      "Train Epoch 5/10 [ 4800/50000 (10%)] | Loss: 0.3471444845199585\n",
      "Train Epoch 5/10 [ 5280/50000 (11%)] | Loss: 0.3687993884086609\n",
      "Train Epoch 5/10 [ 5760/50000 (12%)] | Loss: 0.1291504204273224\n",
      "Train Epoch 5/10 [ 6240/50000 (12%)] | Loss: 0.23276278376579285\n",
      "Train Epoch 5/10 [ 6720/50000 (13%)] | Loss: 0.39485985040664673\n",
      "Train Epoch 5/10 [ 7200/50000 (14%)] | Loss: 0.37503913044929504\n",
      "Train Epoch 5/10 [ 7680/50000 (15%)] | Loss: 0.46142011880874634\n",
      "Train Epoch 5/10 [ 8160/50000 (16%)] | Loss: 0.3254486322402954\n",
      "Train Epoch 5/10 [ 8640/50000 (17%)] | Loss: 0.25173458456993103\n",
      "Train Epoch 5/10 [ 9120/50000 (18%)] | Loss: 0.5659831762313843\n",
      "Train Epoch 5/10 [ 9600/50000 (19%)] | Loss: 0.3092416822910309\n",
      "Train Epoch 5/10 [10080/50000 (20%)] | Loss: 0.2957519590854645\n",
      "Train Epoch 5/10 [10560/50000 (21%)] | Loss: 0.14925169944763184\n",
      "Train Epoch 5/10 [11040/50000 (22%)] | Loss: 0.3033845126628876\n",
      "Train Epoch 5/10 [11520/50000 (23%)] | Loss: 0.3283671736717224\n",
      "Train Epoch 5/10 [12000/50000 (24%)] | Loss: 0.4809591472148895\n",
      "Train Epoch 5/10 [12480/50000 (25%)] | Loss: 0.2815666198730469\n",
      "Train Epoch 5/10 [12960/50000 (26%)] | Loss: 0.49081048369407654\n",
      "Train Epoch 5/10 [13440/50000 (27%)] | Loss: 0.28391239047050476\n",
      "Train Epoch 5/10 [13920/50000 (28%)] | Loss: 0.3429180383682251\n",
      "Train Epoch 5/10 [14400/50000 (29%)] | Loss: 0.3358541429042816\n",
      "Train Epoch 5/10 [14880/50000 (30%)] | Loss: 0.465122789144516\n",
      "Train Epoch 5/10 [15360/50000 (31%)] | Loss: 0.23548178374767303\n",
      "Train Epoch 5/10 [15840/50000 (32%)] | Loss: 0.32661280035972595\n",
      "Train Epoch 5/10 [16320/50000 (33%)] | Loss: 0.35864952206611633\n",
      "Train Epoch 5/10 [16800/50000 (34%)] | Loss: 0.22243481874465942\n",
      "Train Epoch 5/10 [17280/50000 (35%)] | Loss: 0.22562754154205322\n",
      "Train Epoch 5/10 [17760/50000 (36%)] | Loss: 0.3285865783691406\n",
      "Train Epoch 5/10 [18240/50000 (36%)] | Loss: 0.31649675965309143\n",
      "Train Epoch 5/10 [18720/50000 (37%)] | Loss: 0.5119163393974304\n",
      "Train Epoch 5/10 [19200/50000 (38%)] | Loss: 0.3002684712409973\n",
      "Train Epoch 5/10 [19680/50000 (39%)] | Loss: 0.36061105132102966\n",
      "Train Epoch 5/10 [20160/50000 (40%)] | Loss: 0.29920005798339844\n",
      "Train Epoch 5/10 [20640/50000 (41%)] | Loss: 0.31755656003952026\n",
      "Train Epoch 5/10 [21120/50000 (42%)] | Loss: 0.14163313806056976\n",
      "Train Epoch 5/10 [21600/50000 (43%)] | Loss: 0.24484063684940338\n",
      "Train Epoch 5/10 [22080/50000 (44%)] | Loss: 0.2927416265010834\n",
      "Train Epoch 5/10 [22560/50000 (45%)] | Loss: 0.34708207845687866\n",
      "Train Epoch 5/10 [23040/50000 (46%)] | Loss: 0.42861929535865784\n",
      "Train Epoch 5/10 [23520/50000 (47%)] | Loss: 0.2157628834247589\n",
      "Train Epoch 5/10 [24000/50000 (48%)] | Loss: 0.18301399052143097\n",
      "Train Epoch 5/10 [24480/50000 (49%)] | Loss: 0.3537040650844574\n",
      "Train Epoch 5/10 [24960/50000 (50%)] | Loss: 0.1997542679309845\n",
      "Train Epoch 5/10 [25440/50000 (51%)] | Loss: 0.36509475111961365\n",
      "Train Epoch 5/10 [25920/50000 (52%)] | Loss: 0.23003311455249786\n",
      "Train Epoch 5/10 [26400/50000 (53%)] | Loss: 0.29420989751815796\n",
      "Train Epoch 5/10 [26880/50000 (54%)] | Loss: 0.1821722388267517\n",
      "Train Epoch 5/10 [27360/50000 (55%)] | Loss: 0.4038340151309967\n",
      "Train Epoch 5/10 [27840/50000 (56%)] | Loss: 0.5468905568122864\n",
      "Train Epoch 5/10 [28320/50000 (57%)] | Loss: 0.3048810362815857\n",
      "Train Epoch 5/10 [28800/50000 (58%)] | Loss: 0.18525852262973785\n",
      "Train Epoch 5/10 [29280/50000 (59%)] | Loss: 0.27192261815071106\n",
      "Train Epoch 5/10 [29760/50000 (60%)] | Loss: 0.47804132103919983\n",
      "Train Epoch 5/10 [30240/50000 (60%)] | Loss: 0.3608672022819519\n",
      "Train Epoch 5/10 [30720/50000 (61%)] | Loss: 0.447392076253891\n",
      "Train Epoch 5/10 [31200/50000 (62%)] | Loss: 0.22196343541145325\n",
      "Train Epoch 5/10 [31680/50000 (63%)] | Loss: 0.3451308310031891\n",
      "Train Epoch 5/10 [32160/50000 (64%)] | Loss: 0.44276970624923706\n",
      "Train Epoch 5/10 [32640/50000 (65%)] | Loss: 0.32185083627700806\n",
      "Train Epoch 5/10 [33120/50000 (66%)] | Loss: 0.3815801441669464\n",
      "Train Epoch 5/10 [33600/50000 (67%)] | Loss: 0.4571830630302429\n",
      "Train Epoch 5/10 [34080/50000 (68%)] | Loss: 0.4973895847797394\n",
      "Train Epoch 5/10 [34560/50000 (69%)] | Loss: 0.3991788923740387\n",
      "Train Epoch 5/10 [35040/50000 (70%)] | Loss: 0.3522476255893707\n",
      "Train Epoch 5/10 [35520/50000 (71%)] | Loss: 0.4515584111213684\n",
      "Train Epoch 5/10 [36000/50000 (72%)] | Loss: 0.728330135345459\n",
      "Train Epoch 5/10 [36480/50000 (73%)] | Loss: 0.38453689217567444\n",
      "Train Epoch 5/10 [36960/50000 (74%)] | Loss: 0.30837520956993103\n",
      "Train Epoch 5/10 [37440/50000 (75%)] | Loss: 0.37233710289001465\n",
      "Train Epoch 5/10 [37920/50000 (76%)] | Loss: 0.44769957661628723\n",
      "Train Epoch 5/10 [38400/50000 (77%)] | Loss: 0.3400511145591736\n",
      "Train Epoch 5/10 [38880/50000 (78%)] | Loss: 0.54889976978302\n",
      "Train Epoch 5/10 [39360/50000 (79%)] | Loss: 0.6604335308074951\n",
      "Train Epoch 5/10 [39840/50000 (80%)] | Loss: 0.4122050404548645\n",
      "Train Epoch 5/10 [40320/50000 (81%)] | Loss: 0.14746253192424774\n",
      "Train Epoch 5/10 [40800/50000 (82%)] | Loss: 0.22831077873706818\n",
      "Train Epoch 5/10 [41280/50000 (83%)] | Loss: 0.6944674253463745\n",
      "Train Epoch 5/10 [41760/50000 (83%)] | Loss: 0.26790735125541687\n",
      "Train Epoch 5/10 [42240/50000 (84%)] | Loss: 0.2861992120742798\n",
      "Train Epoch 5/10 [42720/50000 (85%)] | Loss: 0.5527042150497437\n",
      "Train Epoch 5/10 [43200/50000 (86%)] | Loss: 0.3435886800289154\n",
      "Train Epoch 5/10 [43680/50000 (87%)] | Loss: 0.7947595119476318\n",
      "Train Epoch 5/10 [44160/50000 (88%)] | Loss: 0.4773425757884979\n",
      "Train Epoch 5/10 [44640/50000 (89%)] | Loss: 0.5101258158683777\n",
      "Train Epoch 5/10 [45120/50000 (90%)] | Loss: 0.42559903860092163\n",
      "Train Epoch 5/10 [45600/50000 (91%)] | Loss: 0.3868308365345001\n",
      "Train Epoch 5/10 [46080/50000 (92%)] | Loss: 0.33036643266677856\n",
      "Train Epoch 5/10 [46560/50000 (93%)] | Loss: 0.5309545397758484\n",
      "Train Epoch 5/10 [47040/50000 (94%)] | Loss: 0.2312157154083252\n",
      "Train Epoch 5/10 [47520/50000 (95%)] | Loss: 0.5792648792266846\n",
      "Train Epoch 5/10 [48000/50000 (96%)] | Loss: 0.21693125367164612\n",
      "Train Epoch 5/10 [48480/50000 (97%)] | Loss: 0.46324512362480164\n",
      "Train Epoch 5/10 [48960/50000 (98%)] | Loss: 0.4642650783061981\n",
      "Train Epoch 5/10 [49440/50000 (99%)] | Loss: 0.554064929485321\n",
      "Train Epoch 5/10 [49920/50000 (100%)] | Loss: 0.21904374659061432\n",
      "\n",
      "Train Acc.: [43842/50000 (88%)]\n",
      "Test Acc.:  [ 6879/10000 (69%)]\n",
      "\n",
      "Train Epoch 6/10 [    0/50000 ( 0%)] | Loss: 0.36245325207710266\n",
      "Train Epoch 6/10 [  480/50000 ( 1%)] | Loss: 0.15217231214046478\n",
      "Train Epoch 6/10 [  960/50000 ( 2%)] | Loss: 0.1823997050523758\n",
      "Train Epoch 6/10 [ 1440/50000 ( 3%)] | Loss: 0.10808441042900085\n",
      "Train Epoch 6/10 [ 1920/50000 ( 4%)] | Loss: 0.05975771322846413\n",
      "Train Epoch 6/10 [ 2400/50000 ( 5%)] | Loss: 0.13691438734531403\n",
      "Train Epoch 6/10 [ 2880/50000 ( 6%)] | Loss: 0.1604337841272354\n",
      "Train Epoch 6/10 [ 3360/50000 ( 7%)] | Loss: 0.1986360102891922\n",
      "Train Epoch 6/10 [ 3840/50000 ( 8%)] | Loss: 0.1226106584072113\n",
      "Train Epoch 6/10 [ 4320/50000 ( 9%)] | Loss: 0.163983553647995\n",
      "Train Epoch 6/10 [ 4800/50000 (10%)] | Loss: 0.35146501660346985\n",
      "Train Epoch 6/10 [ 5280/50000 (11%)] | Loss: 0.5279005169868469\n",
      "Train Epoch 6/10 [ 5760/50000 (12%)] | Loss: 0.13406464457511902\n",
      "Train Epoch 6/10 [ 6240/50000 (12%)] | Loss: 0.19377052783966064\n",
      "Train Epoch 6/10 [ 6720/50000 (13%)] | Loss: 0.15784375369548798\n",
      "Train Epoch 6/10 [ 7200/50000 (14%)] | Loss: 0.12960213422775269\n",
      "Train Epoch 6/10 [ 7680/50000 (15%)] | Loss: 0.039638370275497437\n",
      "Train Epoch 6/10 [ 8160/50000 (16%)] | Loss: 0.125631645321846\n",
      "Train Epoch 6/10 [ 8640/50000 (17%)] | Loss: 0.2532276511192322\n",
      "Train Epoch 6/10 [ 9120/50000 (18%)] | Loss: 0.1924045979976654\n",
      "Train Epoch 6/10 [ 9600/50000 (19%)] | Loss: 0.19646283984184265\n",
      "Train Epoch 6/10 [10080/50000 (20%)] | Loss: 0.072983518242836\n",
      "Train Epoch 6/10 [10560/50000 (21%)] | Loss: 0.49732378125190735\n",
      "Train Epoch 6/10 [11040/50000 (22%)] | Loss: 0.19870691001415253\n",
      "Train Epoch 6/10 [11520/50000 (23%)] | Loss: 0.22598612308502197\n",
      "Train Epoch 6/10 [12000/50000 (24%)] | Loss: 0.10880101472139359\n",
      "Train Epoch 6/10 [12480/50000 (25%)] | Loss: 0.206403911113739\n",
      "Train Epoch 6/10 [12960/50000 (26%)] | Loss: 0.1279560923576355\n",
      "Train Epoch 6/10 [13440/50000 (27%)] | Loss: 0.13469401001930237\n",
      "Train Epoch 6/10 [13920/50000 (28%)] | Loss: 0.16548806428909302\n",
      "Train Epoch 6/10 [14400/50000 (29%)] | Loss: 0.3750688135623932\n",
      "Train Epoch 6/10 [14880/50000 (30%)] | Loss: 0.07644164562225342\n",
      "Train Epoch 6/10 [15360/50000 (31%)] | Loss: 0.16229228675365448\n",
      "Train Epoch 6/10 [15840/50000 (32%)] | Loss: 0.315743625164032\n",
      "Train Epoch 6/10 [16320/50000 (33%)] | Loss: 0.3454696834087372\n",
      "Train Epoch 6/10 [16800/50000 (34%)] | Loss: 0.19568666815757751\n",
      "Train Epoch 6/10 [17280/50000 (35%)] | Loss: 0.0820387676358223\n",
      "Train Epoch 6/10 [17760/50000 (36%)] | Loss: 0.25406813621520996\n",
      "Train Epoch 6/10 [18240/50000 (36%)] | Loss: 0.19247689843177795\n",
      "Train Epoch 6/10 [18720/50000 (37%)] | Loss: 0.31913459300994873\n",
      "Train Epoch 6/10 [19200/50000 (38%)] | Loss: 0.39970794320106506\n",
      "Train Epoch 6/10 [19680/50000 (39%)] | Loss: 0.24446414411067963\n",
      "Train Epoch 6/10 [20160/50000 (40%)] | Loss: 0.25968852639198303\n",
      "Train Epoch 6/10 [20640/50000 (41%)] | Loss: 0.1209692656993866\n",
      "Train Epoch 6/10 [21120/50000 (42%)] | Loss: 0.30836620926856995\n",
      "Train Epoch 6/10 [21600/50000 (43%)] | Loss: 0.1331336349248886\n",
      "Train Epoch 6/10 [22080/50000 (44%)] | Loss: 0.41372328996658325\n",
      "Train Epoch 6/10 [22560/50000 (45%)] | Loss: 0.12262522429227829\n",
      "Train Epoch 6/10 [23040/50000 (46%)] | Loss: 0.19621212780475616\n",
      "Train Epoch 6/10 [23520/50000 (47%)] | Loss: 0.0989237129688263\n",
      "Train Epoch 6/10 [24000/50000 (48%)] | Loss: 0.32400161027908325\n",
      "Train Epoch 6/10 [24480/50000 (49%)] | Loss: 0.18049585819244385\n",
      "Train Epoch 6/10 [24960/50000 (50%)] | Loss: 0.4092191457748413\n",
      "Train Epoch 6/10 [25440/50000 (51%)] | Loss: 0.13525064289569855\n",
      "Train Epoch 6/10 [25920/50000 (52%)] | Loss: 0.39676347374916077\n",
      "Train Epoch 6/10 [26400/50000 (53%)] | Loss: 0.2814401388168335\n",
      "Train Epoch 6/10 [26880/50000 (54%)] | Loss: 0.3311043381690979\n",
      "Train Epoch 6/10 [27360/50000 (55%)] | Loss: 0.1260051429271698\n",
      "Train Epoch 6/10 [27840/50000 (56%)] | Loss: 0.46963265538215637\n",
      "Train Epoch 6/10 [28320/50000 (57%)] | Loss: 0.2221429944038391\n",
      "Train Epoch 6/10 [28800/50000 (58%)] | Loss: 0.2796023190021515\n",
      "Train Epoch 6/10 [29280/50000 (59%)] | Loss: 0.1616629809141159\n",
      "Train Epoch 6/10 [29760/50000 (60%)] | Loss: 0.2647979259490967\n",
      "Train Epoch 6/10 [30240/50000 (60%)] | Loss: 0.30764350295066833\n",
      "Train Epoch 6/10 [30720/50000 (61%)] | Loss: 0.41504746675491333\n",
      "Train Epoch 6/10 [31200/50000 (62%)] | Loss: 0.34131312370300293\n",
      "Train Epoch 6/10 [31680/50000 (63%)] | Loss: 0.42792877554893494\n",
      "Train Epoch 6/10 [32160/50000 (64%)] | Loss: 0.14852496981620789\n",
      "Train Epoch 6/10 [32640/50000 (65%)] | Loss: 0.19865337014198303\n",
      "Train Epoch 6/10 [33120/50000 (66%)] | Loss: 0.09412524849176407\n",
      "Train Epoch 6/10 [33600/50000 (67%)] | Loss: 0.20120187103748322\n",
      "Train Epoch 6/10 [34080/50000 (68%)] | Loss: 0.33733856678009033\n",
      "Train Epoch 6/10 [34560/50000 (69%)] | Loss: 0.16186994314193726\n",
      "Train Epoch 6/10 [35040/50000 (70%)] | Loss: 0.38176918029785156\n",
      "Train Epoch 6/10 [35520/50000 (71%)] | Loss: 0.12634553015232086\n",
      "Train Epoch 6/10 [36000/50000 (72%)] | Loss: 0.45193415880203247\n",
      "Train Epoch 6/10 [36480/50000 (73%)] | Loss: 0.17986485362052917\n",
      "Train Epoch 6/10 [36960/50000 (74%)] | Loss: 0.42186206579208374\n",
      "Train Epoch 6/10 [37440/50000 (75%)] | Loss: 0.1308826357126236\n",
      "Train Epoch 6/10 [37920/50000 (76%)] | Loss: 0.2641301155090332\n",
      "Train Epoch 6/10 [38400/50000 (77%)] | Loss: 0.4478405714035034\n",
      "Train Epoch 6/10 [38880/50000 (78%)] | Loss: 0.5118119120597839\n",
      "Train Epoch 6/10 [39360/50000 (79%)] | Loss: 0.0793580412864685\n",
      "Train Epoch 6/10 [39840/50000 (80%)] | Loss: 0.39625099301338196\n",
      "Train Epoch 6/10 [40320/50000 (81%)] | Loss: 0.5691366791725159\n",
      "Train Epoch 6/10 [40800/50000 (82%)] | Loss: 0.1242666244506836\n",
      "Train Epoch 6/10 [41280/50000 (83%)] | Loss: 0.5893605947494507\n",
      "Train Epoch 6/10 [41760/50000 (83%)] | Loss: 0.34417277574539185\n",
      "Train Epoch 6/10 [42240/50000 (84%)] | Loss: 0.24871622025966644\n",
      "Train Epoch 6/10 [42720/50000 (85%)] | Loss: 0.4221678674221039\n",
      "Train Epoch 6/10 [43200/50000 (86%)] | Loss: 0.0901913121342659\n",
      "Train Epoch 6/10 [43680/50000 (87%)] | Loss: 0.17254061996936798\n",
      "Train Epoch 6/10 [44160/50000 (88%)] | Loss: 0.16815248131752014\n",
      "Train Epoch 6/10 [44640/50000 (89%)] | Loss: 0.1411389708518982\n",
      "Train Epoch 6/10 [45120/50000 (90%)] | Loss: 0.36433106660842896\n",
      "Train Epoch 6/10 [45600/50000 (91%)] | Loss: 0.08314334601163864\n",
      "Train Epoch 6/10 [46080/50000 (92%)] | Loss: 0.2530369162559509\n",
      "Train Epoch 6/10 [46560/50000 (93%)] | Loss: 0.3988055884838104\n",
      "Train Epoch 6/10 [47040/50000 (94%)] | Loss: 0.25308558344841003\n",
      "Train Epoch 6/10 [47520/50000 (95%)] | Loss: 0.21810869872570038\n",
      "Train Epoch 6/10 [48000/50000 (96%)] | Loss: 0.24290791153907776\n",
      "Train Epoch 6/10 [48480/50000 (97%)] | Loss: 0.4862886667251587\n",
      "Train Epoch 6/10 [48960/50000 (98%)] | Loss: 0.10705184936523438\n",
      "Train Epoch 6/10 [49440/50000 (99%)] | Loss: 0.22315733134746552\n",
      "Train Epoch 6/10 [49920/50000 (100%)] | Loss: 0.3057533800601959\n",
      "\n",
      "Train Acc.: [45572/50000 (91%)]\n",
      "Test Acc.:  [ 6962/10000 (70%)]\n",
      "\n",
      "Train Epoch 7/10 [    0/50000 ( 0%)] | Loss: 0.22816723585128784\n",
      "Train Epoch 7/10 [  480/50000 ( 1%)] | Loss: 0.02088283561170101\n",
      "Train Epoch 7/10 [  960/50000 ( 2%)] | Loss: 0.14164325594902039\n",
      "Train Epoch 7/10 [ 1440/50000 ( 3%)] | Loss: 0.09007474035024643\n",
      "Train Epoch 7/10 [ 1920/50000 ( 4%)] | Loss: 0.12054087966680527\n",
      "Train Epoch 7/10 [ 2400/50000 ( 5%)] | Loss: 0.2790282666683197\n",
      "Train Epoch 7/10 [ 2880/50000 ( 6%)] | Loss: 0.1075597032904625\n",
      "Train Epoch 7/10 [ 3360/50000 ( 7%)] | Loss: 0.035857632756233215\n",
      "Train Epoch 7/10 [ 3840/50000 ( 8%)] | Loss: 0.07391536235809326\n",
      "Train Epoch 7/10 [ 4320/50000 ( 9%)] | Loss: 0.04409411922097206\n",
      "Train Epoch 7/10 [ 4800/50000 (10%)] | Loss: 0.20918618142604828\n",
      "Train Epoch 7/10 [ 5280/50000 (11%)] | Loss: 0.09441595524549484\n",
      "Train Epoch 7/10 [ 5760/50000 (12%)] | Loss: 0.20367778837680817\n",
      "Train Epoch 7/10 [ 6240/50000 (12%)] | Loss: 0.20439676940441132\n",
      "Train Epoch 7/10 [ 6720/50000 (13%)] | Loss: 0.21354907751083374\n",
      "Train Epoch 7/10 [ 7200/50000 (14%)] | Loss: 0.1441783457994461\n",
      "Train Epoch 7/10 [ 7680/50000 (15%)] | Loss: 0.12887854874134064\n",
      "Train Epoch 7/10 [ 8160/50000 (16%)] | Loss: 0.07313203066587448\n",
      "Train Epoch 7/10 [ 8640/50000 (17%)] | Loss: 0.04230785742402077\n",
      "Train Epoch 7/10 [ 9120/50000 (18%)] | Loss: 0.2890775501728058\n",
      "Train Epoch 7/10 [ 9600/50000 (19%)] | Loss: 0.0715850219130516\n",
      "Train Epoch 7/10 [10080/50000 (20%)] | Loss: 0.26941806077957153\n",
      "Train Epoch 7/10 [10560/50000 (21%)] | Loss: 0.028845863416790962\n",
      "Train Epoch 7/10 [11040/50000 (22%)] | Loss: 0.10087034851312637\n",
      "Train Epoch 7/10 [11520/50000 (23%)] | Loss: 0.21380095183849335\n",
      "Train Epoch 7/10 [12000/50000 (24%)] | Loss: 0.14660616219043732\n",
      "Train Epoch 7/10 [12480/50000 (25%)] | Loss: 0.1681915819644928\n",
      "Train Epoch 7/10 [12960/50000 (26%)] | Loss: 0.2746846079826355\n",
      "Train Epoch 7/10 [13440/50000 (27%)] | Loss: 0.597482442855835\n",
      "Train Epoch 7/10 [13920/50000 (28%)] | Loss: 0.1965053528547287\n",
      "Train Epoch 7/10 [14400/50000 (29%)] | Loss: 0.07704237103462219\n",
      "Train Epoch 7/10 [14880/50000 (30%)] | Loss: 0.12949030101299286\n",
      "Train Epoch 7/10 [15360/50000 (31%)] | Loss: 0.33742040395736694\n",
      "Train Epoch 7/10 [15840/50000 (32%)] | Loss: 0.2791648805141449\n",
      "Train Epoch 7/10 [16320/50000 (33%)] | Loss: 0.17141631245613098\n",
      "Train Epoch 7/10 [16800/50000 (34%)] | Loss: 0.22941823303699493\n",
      "Train Epoch 7/10 [17280/50000 (35%)] | Loss: 0.4160974323749542\n",
      "Train Epoch 7/10 [17760/50000 (36%)] | Loss: 0.12024194747209549\n",
      "Train Epoch 7/10 [18240/50000 (36%)] | Loss: 0.25255537033081055\n",
      "Train Epoch 7/10 [18720/50000 (37%)] | Loss: 0.432800829410553\n",
      "Train Epoch 7/10 [19200/50000 (38%)] | Loss: 0.03862787410616875\n",
      "Train Epoch 7/10 [19680/50000 (39%)] | Loss: 0.14635109901428223\n",
      "Train Epoch 7/10 [20160/50000 (40%)] | Loss: 0.19955213367938995\n",
      "Train Epoch 7/10 [20640/50000 (41%)] | Loss: 0.2793586254119873\n",
      "Train Epoch 7/10 [21120/50000 (42%)] | Loss: 0.28279560804367065\n",
      "Train Epoch 7/10 [21600/50000 (43%)] | Loss: 0.1934903860092163\n",
      "Train Epoch 7/10 [22080/50000 (44%)] | Loss: 0.11137948930263519\n",
      "Train Epoch 7/10 [22560/50000 (45%)] | Loss: 0.21620486676692963\n",
      "Train Epoch 7/10 [23040/50000 (46%)] | Loss: 0.27214786410331726\n",
      "Train Epoch 7/10 [23520/50000 (47%)] | Loss: 0.02281622216105461\n",
      "Train Epoch 7/10 [24000/50000 (48%)] | Loss: 0.027950065210461617\n",
      "Train Epoch 7/10 [24480/50000 (49%)] | Loss: 0.02361556887626648\n",
      "Train Epoch 7/10 [24960/50000 (50%)] | Loss: 0.20762741565704346\n",
      "Train Epoch 7/10 [25440/50000 (51%)] | Loss: 0.18708810210227966\n",
      "Train Epoch 7/10 [25920/50000 (52%)] | Loss: 0.18888458609580994\n",
      "Train Epoch 7/10 [26400/50000 (53%)] | Loss: 0.38298749923706055\n",
      "Train Epoch 7/10 [26880/50000 (54%)] | Loss: 0.02571631595492363\n",
      "Train Epoch 7/10 [27360/50000 (55%)] | Loss: 0.4047306776046753\n",
      "Train Epoch 7/10 [27840/50000 (56%)] | Loss: 0.0357942134141922\n",
      "Train Epoch 7/10 [28320/50000 (57%)] | Loss: 0.09577280282974243\n",
      "Train Epoch 7/10 [28800/50000 (58%)] | Loss: 0.3385660648345947\n",
      "Train Epoch 7/10 [29280/50000 (59%)] | Loss: 0.36734718084335327\n",
      "Train Epoch 7/10 [29760/50000 (60%)] | Loss: 0.22394882142543793\n",
      "Train Epoch 7/10 [30240/50000 (60%)] | Loss: 0.4231705963611603\n",
      "Train Epoch 7/10 [30720/50000 (61%)] | Loss: 0.27971208095550537\n",
      "Train Epoch 7/10 [31200/50000 (62%)] | Loss: 0.215820774435997\n",
      "Train Epoch 7/10 [31680/50000 (63%)] | Loss: 0.14982947707176208\n",
      "Train Epoch 7/10 [32160/50000 (64%)] | Loss: 0.3352685272693634\n",
      "Train Epoch 7/10 [32640/50000 (65%)] | Loss: 0.29429304599761963\n",
      "Train Epoch 7/10 [33120/50000 (66%)] | Loss: 0.3078773319721222\n",
      "Train Epoch 7/10 [33600/50000 (67%)] | Loss: 0.18172083795070648\n",
      "Train Epoch 7/10 [34080/50000 (68%)] | Loss: 0.1421641856431961\n",
      "Train Epoch 7/10 [34560/50000 (69%)] | Loss: 0.31159675121307373\n",
      "Train Epoch 7/10 [35040/50000 (70%)] | Loss: 0.2427782118320465\n",
      "Train Epoch 7/10 [35520/50000 (71%)] | Loss: 0.3541221618652344\n",
      "Train Epoch 7/10 [36000/50000 (72%)] | Loss: 0.13646328449249268\n",
      "Train Epoch 7/10 [36480/50000 (73%)] | Loss: 0.030667349696159363\n",
      "Train Epoch 7/10 [36960/50000 (74%)] | Loss: 0.4021071493625641\n",
      "Train Epoch 7/10 [37440/50000 (75%)] | Loss: 0.11327584087848663\n",
      "Train Epoch 7/10 [37920/50000 (76%)] | Loss: 0.24482108652591705\n",
      "Train Epoch 7/10 [38400/50000 (77%)] | Loss: 0.18215955793857574\n",
      "Train Epoch 7/10 [38880/50000 (78%)] | Loss: 0.09397497773170471\n",
      "Train Epoch 7/10 [39360/50000 (79%)] | Loss: 0.18653085827827454\n",
      "Train Epoch 7/10 [39840/50000 (80%)] | Loss: 0.20845165848731995\n",
      "Train Epoch 7/10 [40320/50000 (81%)] | Loss: 0.13059264421463013\n",
      "Train Epoch 7/10 [40800/50000 (82%)] | Loss: 0.3843167722225189\n",
      "Train Epoch 7/10 [41280/50000 (83%)] | Loss: 0.5214647054672241\n",
      "Train Epoch 7/10 [41760/50000 (83%)] | Loss: 0.11914951354265213\n",
      "Train Epoch 7/10 [42240/50000 (84%)] | Loss: 0.13015562295913696\n",
      "Train Epoch 7/10 [42720/50000 (85%)] | Loss: 0.13447962701320648\n",
      "Train Epoch 7/10 [43200/50000 (86%)] | Loss: 0.08254189789295197\n",
      "Train Epoch 7/10 [43680/50000 (87%)] | Loss: 0.3123619854450226\n",
      "Train Epoch 7/10 [44160/50000 (88%)] | Loss: 0.34195709228515625\n",
      "Train Epoch 7/10 [44640/50000 (89%)] | Loss: 0.08908553421497345\n",
      "Train Epoch 7/10 [45120/50000 (90%)] | Loss: 0.5152122378349304\n",
      "Train Epoch 7/10 [45600/50000 (91%)] | Loss: 0.3608209788799286\n",
      "Train Epoch 7/10 [46080/50000 (92%)] | Loss: 0.17503970861434937\n",
      "Train Epoch 7/10 [46560/50000 (93%)] | Loss: 0.31763598322868347\n",
      "Train Epoch 7/10 [47040/50000 (94%)] | Loss: 0.09784629195928574\n",
      "Train Epoch 7/10 [47520/50000 (95%)] | Loss: 0.1763438582420349\n",
      "Train Epoch 7/10 [48000/50000 (96%)] | Loss: 0.15122030675411224\n",
      "Train Epoch 7/10 [48480/50000 (97%)] | Loss: 0.5273012518882751\n",
      "Train Epoch 7/10 [48960/50000 (98%)] | Loss: 0.22282636165618896\n",
      "Train Epoch 7/10 [49440/50000 (99%)] | Loss: 0.4393155872821808\n",
      "Train Epoch 7/10 [49920/50000 (100%)] | Loss: 0.4094827175140381\n",
      "\n",
      "Train Acc.: [46776/50000 (94%)]\n",
      "Test Acc.:  [ 6799/10000 (68%)]\n",
      "\n",
      "Train Epoch 8/10 [    0/50000 ( 0%)] | Loss: 0.10362553596496582\n",
      "Train Epoch 8/10 [  480/50000 ( 1%)] | Loss: 0.0919000655412674\n",
      "Train Epoch 8/10 [  960/50000 ( 2%)] | Loss: 0.03215409070253372\n",
      "Train Epoch 8/10 [ 1440/50000 ( 3%)] | Loss: 0.09067180007696152\n",
      "Train Epoch 8/10 [ 1920/50000 ( 4%)] | Loss: 0.11961418390274048\n",
      "Train Epoch 8/10 [ 2400/50000 ( 5%)] | Loss: 0.0723055750131607\n",
      "Train Epoch 8/10 [ 2880/50000 ( 6%)] | Loss: 0.12485135346651077\n",
      "Train Epoch 8/10 [ 3360/50000 ( 7%)] | Loss: 0.08886121213436127\n",
      "Train Epoch 8/10 [ 3840/50000 ( 8%)] | Loss: 0.022270195186138153\n",
      "Train Epoch 8/10 [ 4320/50000 ( 9%)] | Loss: 0.0790722519159317\n",
      "Train Epoch 8/10 [ 4800/50000 (10%)] | Loss: 0.04657566547393799\n",
      "Train Epoch 8/10 [ 5280/50000 (11%)] | Loss: 0.036684516817331314\n",
      "Train Epoch 8/10 [ 5760/50000 (12%)] | Loss: 0.04928087815642357\n",
      "Train Epoch 8/10 [ 6240/50000 (12%)] | Loss: 0.19556379318237305\n",
      "Train Epoch 8/10 [ 6720/50000 (13%)] | Loss: 0.10439465194940567\n",
      "Train Epoch 8/10 [ 7200/50000 (14%)] | Loss: 0.03127044439315796\n",
      "Train Epoch 8/10 [ 7680/50000 (15%)] | Loss: 0.1712127923965454\n",
      "Train Epoch 8/10 [ 8160/50000 (16%)] | Loss: 0.09204333275556564\n",
      "Train Epoch 8/10 [ 8640/50000 (17%)] | Loss: 0.1752994805574417\n",
      "Train Epoch 8/10 [ 9120/50000 (18%)] | Loss: 0.08449722826480865\n",
      "Train Epoch 8/10 [ 9600/50000 (19%)] | Loss: 0.07918136566877365\n",
      "Train Epoch 8/10 [10080/50000 (20%)] | Loss: 0.018947001546621323\n",
      "Train Epoch 8/10 [10560/50000 (21%)] | Loss: 0.09452883154153824\n",
      "Train Epoch 8/10 [11040/50000 (22%)] | Loss: 0.057794298976659775\n",
      "Train Epoch 8/10 [11520/50000 (23%)] | Loss: 0.09864556789398193\n",
      "Train Epoch 8/10 [12000/50000 (24%)] | Loss: 0.10593967884778976\n",
      "Train Epoch 8/10 [12480/50000 (25%)] | Loss: 0.06844519823789597\n",
      "Train Epoch 8/10 [12960/50000 (26%)] | Loss: 0.1409512460231781\n",
      "Train Epoch 8/10 [13440/50000 (27%)] | Loss: 0.1417228877544403\n",
      "Train Epoch 8/10 [13920/50000 (28%)] | Loss: 0.1342286467552185\n",
      "Train Epoch 8/10 [14400/50000 (29%)] | Loss: 0.14284615218639374\n",
      "Train Epoch 8/10 [14880/50000 (30%)] | Loss: 0.15125387907028198\n",
      "Train Epoch 8/10 [15360/50000 (31%)] | Loss: 0.05510606989264488\n",
      "Train Epoch 8/10 [15840/50000 (32%)] | Loss: 0.281134694814682\n",
      "Train Epoch 8/10 [16320/50000 (33%)] | Loss: 0.15089087188243866\n",
      "Train Epoch 8/10 [16800/50000 (34%)] | Loss: 0.1889040172100067\n",
      "Train Epoch 8/10 [17280/50000 (35%)] | Loss: 0.14540386199951172\n",
      "Train Epoch 8/10 [17760/50000 (36%)] | Loss: 0.060020990669727325\n",
      "Train Epoch 8/10 [18240/50000 (36%)] | Loss: 0.09368175268173218\n",
      "Train Epoch 8/10 [18720/50000 (37%)] | Loss: 0.15043316781520844\n",
      "Train Epoch 8/10 [19200/50000 (38%)] | Loss: 0.05165095254778862\n",
      "Train Epoch 8/10 [19680/50000 (39%)] | Loss: 0.13258595764636993\n",
      "Train Epoch 8/10 [20160/50000 (40%)] | Loss: 0.04475822672247887\n",
      "Train Epoch 8/10 [20640/50000 (41%)] | Loss: 0.03760118409991264\n",
      "Train Epoch 8/10 [21120/50000 (42%)] | Loss: 0.12943798303604126\n",
      "Train Epoch 8/10 [21600/50000 (43%)] | Loss: 0.10333837568759918\n",
      "Train Epoch 8/10 [22080/50000 (44%)] | Loss: 0.25510743260383606\n",
      "Train Epoch 8/10 [22560/50000 (45%)] | Loss: 0.17891405522823334\n",
      "Train Epoch 8/10 [23040/50000 (46%)] | Loss: 0.04053432121872902\n",
      "Train Epoch 8/10 [23520/50000 (47%)] | Loss: 0.12530769407749176\n",
      "Train Epoch 8/10 [24000/50000 (48%)] | Loss: 0.1328900009393692\n",
      "Train Epoch 8/10 [24480/50000 (49%)] | Loss: 0.12048149853944778\n",
      "Train Epoch 8/10 [24960/50000 (50%)] | Loss: 0.09032957255840302\n",
      "Train Epoch 8/10 [25440/50000 (51%)] | Loss: 0.3216320872306824\n",
      "Train Epoch 8/10 [25920/50000 (52%)] | Loss: 0.18661180138587952\n",
      "Train Epoch 8/10 [26400/50000 (53%)] | Loss: 0.26445046067237854\n",
      "Train Epoch 8/10 [26880/50000 (54%)] | Loss: 0.0571267269551754\n",
      "Train Epoch 8/10 [27360/50000 (55%)] | Loss: 0.09958554059267044\n",
      "Train Epoch 8/10 [27840/50000 (56%)] | Loss: 0.09572732448577881\n",
      "Train Epoch 8/10 [28320/50000 (57%)] | Loss: 0.1493004858493805\n",
      "Train Epoch 8/10 [28800/50000 (58%)] | Loss: 0.07000786066055298\n",
      "Train Epoch 8/10 [29280/50000 (59%)] | Loss: 0.09181024134159088\n",
      "Train Epoch 8/10 [29760/50000 (60%)] | Loss: 0.031904980540275574\n",
      "Train Epoch 8/10 [30240/50000 (60%)] | Loss: 0.06925168633460999\n",
      "Train Epoch 8/10 [30720/50000 (61%)] | Loss: 0.11864668130874634\n",
      "Train Epoch 8/10 [31200/50000 (62%)] | Loss: 0.12046083062887192\n",
      "Train Epoch 8/10 [31680/50000 (63%)] | Loss: 0.29611936211586\n",
      "Train Epoch 8/10 [32160/50000 (64%)] | Loss: 0.009348146617412567\n",
      "Train Epoch 8/10 [32640/50000 (65%)] | Loss: 0.09393253922462463\n",
      "Train Epoch 8/10 [33120/50000 (66%)] | Loss: 0.011241937056183815\n",
      "Train Epoch 8/10 [33600/50000 (67%)] | Loss: 0.19712631404399872\n",
      "Train Epoch 8/10 [34080/50000 (68%)] | Loss: 0.06694035977125168\n",
      "Train Epoch 8/10 [34560/50000 (69%)] | Loss: 0.41802775859832764\n",
      "Train Epoch 8/10 [35040/50000 (70%)] | Loss: 0.026415321975946426\n",
      "Train Epoch 8/10 [35520/50000 (71%)] | Loss: 0.03991289436817169\n",
      "Train Epoch 8/10 [36000/50000 (72%)] | Loss: 0.02594583109021187\n",
      "Train Epoch 8/10 [36480/50000 (73%)] | Loss: 0.2765143811702728\n",
      "Train Epoch 8/10 [36960/50000 (74%)] | Loss: 0.3807719349861145\n",
      "Train Epoch 8/10 [37440/50000 (75%)] | Loss: 0.1299886703491211\n",
      "Train Epoch 8/10 [37920/50000 (76%)] | Loss: 0.04976002871990204\n",
      "Train Epoch 8/10 [38400/50000 (77%)] | Loss: 0.18669463694095612\n",
      "Train Epoch 8/10 [38880/50000 (78%)] | Loss: 0.19098085165023804\n",
      "Train Epoch 8/10 [39360/50000 (79%)] | Loss: 0.1536155343055725\n",
      "Train Epoch 8/10 [39840/50000 (80%)] | Loss: 0.05425810441374779\n",
      "Train Epoch 8/10 [40320/50000 (81%)] | Loss: 0.12625956535339355\n",
      "Train Epoch 8/10 [40800/50000 (82%)] | Loss: 0.12476921081542969\n",
      "Train Epoch 8/10 [41280/50000 (83%)] | Loss: 0.12601079046726227\n",
      "Train Epoch 8/10 [41760/50000 (83%)] | Loss: 0.03093905933201313\n",
      "Train Epoch 8/10 [42240/50000 (84%)] | Loss: 0.04513302072882652\n",
      "Train Epoch 8/10 [42720/50000 (85%)] | Loss: 0.3177441358566284\n",
      "Train Epoch 8/10 [43200/50000 (86%)] | Loss: 0.027872540056705475\n",
      "Train Epoch 8/10 [43680/50000 (87%)] | Loss: 0.06590931862592697\n",
      "Train Epoch 8/10 [44160/50000 (88%)] | Loss: 0.03532599285244942\n",
      "Train Epoch 8/10 [44640/50000 (89%)] | Loss: 0.030413025990128517\n",
      "Train Epoch 8/10 [45120/50000 (90%)] | Loss: 0.03984116017818451\n",
      "Train Epoch 8/10 [45600/50000 (91%)] | Loss: 0.4309335947036743\n",
      "Train Epoch 8/10 [46080/50000 (92%)] | Loss: 0.18500418961048126\n",
      "Train Epoch 8/10 [46560/50000 (93%)] | Loss: 0.05373543128371239\n",
      "Train Epoch 8/10 [47040/50000 (94%)] | Loss: 0.2605230212211609\n",
      "Train Epoch 8/10 [47520/50000 (95%)] | Loss: 0.056487325578927994\n",
      "Train Epoch 8/10 [48000/50000 (96%)] | Loss: 0.08234699070453644\n",
      "Train Epoch 8/10 [48480/50000 (97%)] | Loss: 0.2635518014431\n",
      "Train Epoch 8/10 [48960/50000 (98%)] | Loss: 0.05576394498348236\n",
      "Train Epoch 8/10 [49440/50000 (99%)] | Loss: 0.06502452492713928\n",
      "Train Epoch 8/10 [49920/50000 (100%)] | Loss: 0.09859681129455566\n",
      "\n",
      "Train Acc.: [47543/50000 (95%)]\n",
      "Test Acc.:  [ 6805/10000 (68%)]\n",
      "\n",
      "Train Epoch 9/10 [    0/50000 ( 0%)] | Loss: 0.23427172005176544\n",
      "Train Epoch 9/10 [  480/50000 ( 1%)] | Loss: 0.42351627349853516\n",
      "Train Epoch 9/10 [  960/50000 ( 2%)] | Loss: 0.06611558049917221\n",
      "Train Epoch 9/10 [ 1440/50000 ( 3%)] | Loss: 0.24900606274604797\n",
      "Train Epoch 9/10 [ 1920/50000 ( 4%)] | Loss: 0.35500064492225647\n",
      "Train Epoch 9/10 [ 2400/50000 ( 5%)] | Loss: 0.04961714521050453\n",
      "Train Epoch 9/10 [ 2880/50000 ( 6%)] | Loss: 0.025060951709747314\n",
      "Train Epoch 9/10 [ 3360/50000 ( 7%)] | Loss: 0.04252072051167488\n",
      "Train Epoch 9/10 [ 3840/50000 ( 8%)] | Loss: 0.05286461487412453\n",
      "Train Epoch 9/10 [ 4320/50000 ( 9%)] | Loss: 0.0377332903444767\n",
      "Train Epoch 9/10 [ 4800/50000 (10%)] | Loss: 0.0673019140958786\n",
      "Train Epoch 9/10 [ 5280/50000 (11%)] | Loss: 0.11447040736675262\n",
      "Train Epoch 9/10 [ 5760/50000 (12%)] | Loss: 0.09532658755779266\n",
      "Train Epoch 9/10 [ 6240/50000 (12%)] | Loss: 0.15984173119068146\n",
      "Train Epoch 9/10 [ 6720/50000 (13%)] | Loss: 0.008415523916482925\n",
      "Train Epoch 9/10 [ 7200/50000 (14%)] | Loss: 0.01548751164227724\n",
      "Train Epoch 9/10 [ 7680/50000 (15%)] | Loss: 0.020018024370074272\n",
      "Train Epoch 9/10 [ 8160/50000 (16%)] | Loss: 0.06448234617710114\n",
      "Train Epoch 9/10 [ 8640/50000 (17%)] | Loss: 0.02218436636030674\n",
      "Train Epoch 9/10 [ 9120/50000 (18%)] | Loss: 0.016117636114358902\n",
      "Train Epoch 9/10 [ 9600/50000 (19%)] | Loss: 0.02721770852804184\n",
      "Train Epoch 9/10 [10080/50000 (20%)] | Loss: 0.21707332134246826\n",
      "Train Epoch 9/10 [10560/50000 (21%)] | Loss: 0.11525288224220276\n",
      "Train Epoch 9/10 [11040/50000 (22%)] | Loss: 0.17470742762088776\n",
      "Train Epoch 9/10 [11520/50000 (23%)] | Loss: 0.15859997272491455\n",
      "Train Epoch 9/10 [12000/50000 (24%)] | Loss: 0.008641178719699383\n",
      "Train Epoch 9/10 [12480/50000 (25%)] | Loss: 0.1008981317281723\n",
      "Train Epoch 9/10 [12960/50000 (26%)] | Loss: 0.03258407860994339\n",
      "Train Epoch 9/10 [13440/50000 (27%)] | Loss: 0.07535038888454437\n",
      "Train Epoch 9/10 [13920/50000 (28%)] | Loss: 0.0351070910692215\n",
      "Train Epoch 9/10 [14400/50000 (29%)] | Loss: 0.23139576613903046\n",
      "Train Epoch 9/10 [14880/50000 (30%)] | Loss: 0.12526684999465942\n",
      "Train Epoch 9/10 [15360/50000 (31%)] | Loss: 0.07015299052000046\n",
      "Train Epoch 9/10 [15840/50000 (32%)] | Loss: 0.22119387984275818\n",
      "Train Epoch 9/10 [16320/50000 (33%)] | Loss: 0.017723867669701576\n",
      "Train Epoch 9/10 [16800/50000 (34%)] | Loss: 0.10660724341869354\n",
      "Train Epoch 9/10 [17280/50000 (35%)] | Loss: 0.07361543923616409\n",
      "Train Epoch 9/10 [17760/50000 (36%)] | Loss: 0.15703658759593964\n",
      "Train Epoch 9/10 [18240/50000 (36%)] | Loss: 0.04860575124621391\n",
      "Train Epoch 9/10 [18720/50000 (37%)] | Loss: 0.1193123385310173\n",
      "Train Epoch 9/10 [19200/50000 (38%)] | Loss: 0.2112669050693512\n",
      "Train Epoch 9/10 [19680/50000 (39%)] | Loss: 0.4546857476234436\n",
      "Train Epoch 9/10 [20160/50000 (40%)] | Loss: 0.09061866998672485\n",
      "Train Epoch 9/10 [20640/50000 (41%)] | Loss: 0.038562119007110596\n",
      "Train Epoch 9/10 [21120/50000 (42%)] | Loss: 0.12260058522224426\n",
      "Train Epoch 9/10 [21600/50000 (43%)] | Loss: 0.033244356513023376\n",
      "Train Epoch 9/10 [22080/50000 (44%)] | Loss: 0.03485403582453728\n",
      "Train Epoch 9/10 [22560/50000 (45%)] | Loss: 0.6747491955757141\n",
      "Train Epoch 9/10 [23040/50000 (46%)] | Loss: 0.06444717198610306\n",
      "Train Epoch 9/10 [23520/50000 (47%)] | Loss: 0.2159278243780136\n",
      "Train Epoch 9/10 [24000/50000 (48%)] | Loss: 0.02268010377883911\n",
      "Train Epoch 9/10 [24480/50000 (49%)] | Loss: 0.16063377261161804\n",
      "Train Epoch 9/10 [24960/50000 (50%)] | Loss: 0.16916148364543915\n",
      "Train Epoch 9/10 [25440/50000 (51%)] | Loss: 0.10715416073799133\n",
      "Train Epoch 9/10 [25920/50000 (52%)] | Loss: 0.014282969757914543\n",
      "Train Epoch 9/10 [26400/50000 (53%)] | Loss: 0.08317544311285019\n",
      "Train Epoch 9/10 [26880/50000 (54%)] | Loss: 0.12862366437911987\n",
      "Train Epoch 9/10 [27360/50000 (55%)] | Loss: 0.16813214123249054\n",
      "Train Epoch 9/10 [27840/50000 (56%)] | Loss: 0.07712890952825546\n",
      "Train Epoch 9/10 [28320/50000 (57%)] | Loss: 0.06582805514335632\n",
      "Train Epoch 9/10 [28800/50000 (58%)] | Loss: 0.19080930948257446\n",
      "Train Epoch 9/10 [29280/50000 (59%)] | Loss: 0.36968696117401123\n",
      "Train Epoch 9/10 [29760/50000 (60%)] | Loss: 0.052700940519571304\n",
      "Train Epoch 9/10 [30240/50000 (60%)] | Loss: 0.009292099624872208\n",
      "Train Epoch 9/10 [30720/50000 (61%)] | Loss: 0.02386065572500229\n",
      "Train Epoch 9/10 [31200/50000 (62%)] | Loss: 0.16041934490203857\n",
      "Train Epoch 9/10 [31680/50000 (63%)] | Loss: 0.17197008430957794\n",
      "Train Epoch 9/10 [32160/50000 (64%)] | Loss: 0.1487797051668167\n",
      "Train Epoch 9/10 [32640/50000 (65%)] | Loss: 0.1437043398618698\n",
      "Train Epoch 9/10 [33120/50000 (66%)] | Loss: 0.45012611150741577\n",
      "Train Epoch 9/10 [33600/50000 (67%)] | Loss: 0.2456369400024414\n",
      "Train Epoch 9/10 [34080/50000 (68%)] | Loss: 0.23361383378505707\n",
      "Train Epoch 9/10 [34560/50000 (69%)] | Loss: 0.033555760979652405\n",
      "Train Epoch 9/10 [35040/50000 (70%)] | Loss: 0.06899189949035645\n",
      "Train Epoch 9/10 [35520/50000 (71%)] | Loss: 0.051739562302827835\n",
      "Train Epoch 9/10 [36000/50000 (72%)] | Loss: 0.09521942585706711\n",
      "Train Epoch 9/10 [36480/50000 (73%)] | Loss: 0.047136228531599045\n",
      "Train Epoch 9/10 [36960/50000 (74%)] | Loss: 0.05610765144228935\n",
      "Train Epoch 9/10 [37440/50000 (75%)] | Loss: 0.1004125326871872\n",
      "Train Epoch 9/10 [37920/50000 (76%)] | Loss: 0.18737946450710297\n",
      "Train Epoch 9/10 [38400/50000 (77%)] | Loss: 0.13315632939338684\n",
      "Train Epoch 9/10 [38880/50000 (78%)] | Loss: 0.143502339720726\n",
      "Train Epoch 9/10 [39360/50000 (79%)] | Loss: 0.05861811339855194\n",
      "Train Epoch 9/10 [39840/50000 (80%)] | Loss: 0.0974612832069397\n",
      "Train Epoch 9/10 [40320/50000 (81%)] | Loss: 0.0738912895321846\n",
      "Train Epoch 9/10 [40800/50000 (82%)] | Loss: 0.047627393156290054\n",
      "Train Epoch 9/10 [41280/50000 (83%)] | Loss: 0.09701405465602875\n",
      "Train Epoch 9/10 [41760/50000 (83%)] | Loss: 0.23614974319934845\n",
      "Train Epoch 9/10 [42240/50000 (84%)] | Loss: 0.07733455300331116\n",
      "Train Epoch 9/10 [42720/50000 (85%)] | Loss: 0.09176258742809296\n",
      "Train Epoch 9/10 [43200/50000 (86%)] | Loss: 0.04723275080323219\n",
      "Train Epoch 9/10 [43680/50000 (87%)] | Loss: 0.22937259078025818\n",
      "Train Epoch 9/10 [44160/50000 (88%)] | Loss: 0.05900145694613457\n",
      "Train Epoch 9/10 [44640/50000 (89%)] | Loss: 0.11081688851118088\n",
      "Train Epoch 9/10 [45120/50000 (90%)] | Loss: 0.2180292308330536\n",
      "Train Epoch 9/10 [45600/50000 (91%)] | Loss: 0.04133818298578262\n",
      "Train Epoch 9/10 [46080/50000 (92%)] | Loss: 0.22924816608428955\n",
      "Train Epoch 9/10 [46560/50000 (93%)] | Loss: 0.21321167051792145\n",
      "Train Epoch 9/10 [47040/50000 (94%)] | Loss: 0.11009112745523453\n",
      "Train Epoch 9/10 [47520/50000 (95%)] | Loss: 0.07612180709838867\n",
      "Train Epoch 9/10 [48000/50000 (96%)] | Loss: 0.015698354691267014\n",
      "Train Epoch 9/10 [48480/50000 (97%)] | Loss: 0.13206209242343903\n",
      "Train Epoch 9/10 [48960/50000 (98%)] | Loss: 0.097316674888134\n",
      "Train Epoch 9/10 [49440/50000 (99%)] | Loss: 0.17434193193912506\n",
      "Train Epoch 9/10 [49920/50000 (100%)] | Loss: 0.2823551893234253\n",
      "\n",
      "Train Acc.: [47905/50000 (96%)]\n",
      "Test Acc.:  [ 6814/10000 (68%)]\n",
      "\n",
      "Train Epoch 10/10 [    0/50000 ( 0%)] | Loss: 0.052458640187978745\n",
      "Train Epoch 10/10 [  480/50000 ( 1%)] | Loss: 0.060331616550683975\n",
      "Train Epoch 10/10 [  960/50000 ( 2%)] | Loss: 0.005602756515145302\n",
      "Train Epoch 10/10 [ 1440/50000 ( 3%)] | Loss: 0.02528611198067665\n",
      "Train Epoch 10/10 [ 1920/50000 ( 4%)] | Loss: 0.04782423377037048\n",
      "Train Epoch 10/10 [ 2400/50000 ( 5%)] | Loss: 0.010158375836908817\n",
      "Train Epoch 10/10 [ 2880/50000 ( 6%)] | Loss: 0.016331937164068222\n",
      "Train Epoch 10/10 [ 3360/50000 ( 7%)] | Loss: 0.0601717084646225\n",
      "Train Epoch 10/10 [ 3840/50000 ( 8%)] | Loss: 0.09345466643571854\n",
      "Train Epoch 10/10 [ 4320/50000 ( 9%)] | Loss: 0.2197301685810089\n",
      "Train Epoch 10/10 [ 4800/50000 (10%)] | Loss: 0.01165575347840786\n",
      "Train Epoch 10/10 [ 5280/50000 (11%)] | Loss: 0.04847661405801773\n",
      "Train Epoch 10/10 [ 5760/50000 (12%)] | Loss: 0.02748466469347477\n",
      "Train Epoch 10/10 [ 6240/50000 (12%)] | Loss: 0.2924036383628845\n",
      "Train Epoch 10/10 [ 6720/50000 (13%)] | Loss: 0.06329615414142609\n",
      "Train Epoch 10/10 [ 7200/50000 (14%)] | Loss: 0.05275093764066696\n",
      "Train Epoch 10/10 [ 7680/50000 (15%)] | Loss: 0.07213126122951508\n",
      "Train Epoch 10/10 [ 8160/50000 (16%)] | Loss: 0.030718600377440453\n",
      "Train Epoch 10/10 [ 8640/50000 (17%)] | Loss: 0.016173439100384712\n",
      "Train Epoch 10/10 [ 9120/50000 (18%)] | Loss: 0.11483317613601685\n",
      "Train Epoch 10/10 [ 9600/50000 (19%)] | Loss: 0.010306445881724358\n",
      "Train Epoch 10/10 [10080/50000 (20%)] | Loss: 0.09544537216424942\n",
      "Train Epoch 10/10 [10560/50000 (21%)] | Loss: 0.45028382539749146\n",
      "Train Epoch 10/10 [11040/50000 (22%)] | Loss: 0.014225022867321968\n",
      "Train Epoch 10/10 [11520/50000 (23%)] | Loss: 0.007788002956658602\n",
      "Train Epoch 10/10 [12000/50000 (24%)] | Loss: 0.41829341650009155\n",
      "Train Epoch 10/10 [12480/50000 (25%)] | Loss: 0.13907870650291443\n",
      "Train Epoch 10/10 [12960/50000 (26%)] | Loss: 0.1530398726463318\n",
      "Train Epoch 10/10 [13440/50000 (27%)] | Loss: 0.22675122320652008\n",
      "Train Epoch 10/10 [13920/50000 (28%)] | Loss: 0.157459557056427\n",
      "Train Epoch 10/10 [14400/50000 (29%)] | Loss: 0.07583750784397125\n",
      "Train Epoch 10/10 [14880/50000 (30%)] | Loss: 0.17650817334651947\n",
      "Train Epoch 10/10 [15360/50000 (31%)] | Loss: 0.025534097105264664\n",
      "Train Epoch 10/10 [15840/50000 (32%)] | Loss: 0.18361271917819977\n",
      "Train Epoch 10/10 [16320/50000 (33%)] | Loss: 0.09793118387460709\n",
      "Train Epoch 10/10 [16800/50000 (34%)] | Loss: 0.2918417751789093\n",
      "Train Epoch 10/10 [17280/50000 (35%)] | Loss: 0.07417922466993332\n",
      "Train Epoch 10/10 [17760/50000 (36%)] | Loss: 0.0706479623913765\n",
      "Train Epoch 10/10 [18240/50000 (36%)] | Loss: 0.08519169688224792\n",
      "Train Epoch 10/10 [18720/50000 (37%)] | Loss: 0.034199781715869904\n",
      "Train Epoch 10/10 [19200/50000 (38%)] | Loss: 0.019752774387598038\n",
      "Train Epoch 10/10 [19680/50000 (39%)] | Loss: 0.02542956732213497\n",
      "Train Epoch 10/10 [20160/50000 (40%)] | Loss: 0.03296789154410362\n",
      "Train Epoch 10/10 [20640/50000 (41%)] | Loss: 0.15058526396751404\n",
      "Train Epoch 10/10 [21120/50000 (42%)] | Loss: 0.1643642783164978\n",
      "Train Epoch 10/10 [21600/50000 (43%)] | Loss: 0.0771976113319397\n",
      "Train Epoch 10/10 [22080/50000 (44%)] | Loss: 0.06352914869785309\n",
      "Train Epoch 10/10 [22560/50000 (45%)] | Loss: 0.22095516324043274\n",
      "Train Epoch 10/10 [23040/50000 (46%)] | Loss: 0.12413927912712097\n",
      "Train Epoch 10/10 [23520/50000 (47%)] | Loss: 0.18813839554786682\n",
      "Train Epoch 10/10 [24000/50000 (48%)] | Loss: 0.16123290359973907\n",
      "Train Epoch 10/10 [24480/50000 (49%)] | Loss: 0.020836438983678818\n",
      "Train Epoch 10/10 [24960/50000 (50%)] | Loss: 0.012749056331813335\n",
      "Train Epoch 10/10 [25440/50000 (51%)] | Loss: 0.019109396263957024\n",
      "Train Epoch 10/10 [25920/50000 (52%)] | Loss: 0.15323777496814728\n",
      "Train Epoch 10/10 [26400/50000 (53%)] | Loss: 0.019572483375668526\n",
      "Train Epoch 10/10 [26880/50000 (54%)] | Loss: 0.05583570525050163\n",
      "Train Epoch 10/10 [27360/50000 (55%)] | Loss: 0.05177659913897514\n",
      "Train Epoch 10/10 [27840/50000 (56%)] | Loss: 0.06897309422492981\n",
      "Train Epoch 10/10 [28320/50000 (57%)] | Loss: 0.0867595225572586\n",
      "Train Epoch 10/10 [28800/50000 (58%)] | Loss: 0.07331983000040054\n",
      "Train Epoch 10/10 [29280/50000 (59%)] | Loss: 0.02790447510778904\n",
      "Train Epoch 10/10 [29760/50000 (60%)] | Loss: 0.022992683574557304\n",
      "Train Epoch 10/10 [30240/50000 (60%)] | Loss: 0.03502063453197479\n",
      "Train Epoch 10/10 [30720/50000 (61%)] | Loss: 0.01144121028482914\n",
      "Train Epoch 10/10 [31200/50000 (62%)] | Loss: 0.08716873824596405\n",
      "Train Epoch 10/10 [31680/50000 (63%)] | Loss: 0.11177101731300354\n",
      "Train Epoch 10/10 [32160/50000 (64%)] | Loss: 0.15493066608905792\n",
      "Train Epoch 10/10 [32640/50000 (65%)] | Loss: 0.02880067192018032\n",
      "Train Epoch 10/10 [33120/50000 (66%)] | Loss: 0.24119225144386292\n",
      "Train Epoch 10/10 [33600/50000 (67%)] | Loss: 0.04835625737905502\n",
      "Train Epoch 10/10 [34080/50000 (68%)] | Loss: 0.10108886659145355\n",
      "Train Epoch 10/10 [34560/50000 (69%)] | Loss: 0.07617029547691345\n",
      "Train Epoch 10/10 [35040/50000 (70%)] | Loss: 0.1807641088962555\n",
      "Train Epoch 10/10 [35520/50000 (71%)] | Loss: 0.03918119892477989\n",
      "Train Epoch 10/10 [36000/50000 (72%)] | Loss: 0.07489395886659622\n",
      "Train Epoch 10/10 [36480/50000 (73%)] | Loss: 0.15424008667469025\n",
      "Train Epoch 10/10 [36960/50000 (74%)] | Loss: 0.03148537874221802\n",
      "Train Epoch 10/10 [37440/50000 (75%)] | Loss: 0.20264054834842682\n",
      "Train Epoch 10/10 [37920/50000 (76%)] | Loss: 0.22610574960708618\n",
      "Train Epoch 10/10 [38400/50000 (77%)] | Loss: 0.17290689051151276\n",
      "Train Epoch 10/10 [38880/50000 (78%)] | Loss: 0.10786732286214828\n",
      "Train Epoch 10/10 [39360/50000 (79%)] | Loss: 0.12562233209609985\n",
      "Train Epoch 10/10 [39840/50000 (80%)] | Loss: 0.030039027333259583\n",
      "Train Epoch 10/10 [40320/50000 (81%)] | Loss: 0.15152129530906677\n",
      "Train Epoch 10/10 [40800/50000 (82%)] | Loss: 0.13827840983867645\n",
      "Train Epoch 10/10 [41280/50000 (83%)] | Loss: 0.034295547753572464\n",
      "Train Epoch 10/10 [41760/50000 (83%)] | Loss: 0.02895810827612877\n",
      "Train Epoch 10/10 [42240/50000 (84%)] | Loss: 0.019255395978689194\n",
      "Train Epoch 10/10 [42720/50000 (85%)] | Loss: 0.0490325465798378\n",
      "Train Epoch 10/10 [43200/50000 (86%)] | Loss: 0.09063170850276947\n",
      "Train Epoch 10/10 [43680/50000 (87%)] | Loss: 0.2896892726421356\n",
      "Train Epoch 10/10 [44160/50000 (88%)] | Loss: 0.19593776762485504\n",
      "Train Epoch 10/10 [44640/50000 (89%)] | Loss: 0.023187855258584023\n",
      "Train Epoch 10/10 [45120/50000 (90%)] | Loss: 0.14111480116844177\n",
      "Train Epoch 10/10 [45600/50000 (91%)] | Loss: 0.15750154852867126\n",
      "Train Epoch 10/10 [46080/50000 (92%)] | Loss: 0.17742030322551727\n",
      "Train Epoch 10/10 [46560/50000 (93%)] | Loss: 0.0887923538684845\n",
      "Train Epoch 10/10 [47040/50000 (94%)] | Loss: 0.21885760128498077\n",
      "Train Epoch 10/10 [47520/50000 (95%)] | Loss: 0.3101886212825775\n",
      "Train Epoch 10/10 [48000/50000 (96%)] | Loss: 0.14038532972335815\n",
      "Train Epoch 10/10 [48480/50000 (97%)] | Loss: 0.19649429619312286\n",
      "Train Epoch 10/10 [48960/50000 (98%)] | Loss: 0.12949295341968536\n",
      "Train Epoch 10/10 [49440/50000 (99%)] | Loss: 0.17268100380897522\n",
      "Train Epoch 10/10 [49920/50000 (100%)] | Loss: 0.01029416173696518\n",
      "\n",
      "Train Acc.: [48217/50000 (96%)]\n",
      "Test Acc.:  [ 6856/10000 (69%)]\n",
      "\n"
     ]
    }
   ],
   "source": [
    "# Configure device\n",
    "device = torch.device('cuda' if torch.cuda.is_available() else 'cpu')\n",
    "\n",
    "# Design model\n",
    "n_samples = len(train_dataset)\n",
    "n_test_samples = len(test_dataset)\n",
    "model = ConvNet(hparams).to(device)\n",
    "\n",
    "# Construct Loss and Optimizer\n",
    "loss = nn.CrossEntropyLoss()\n",
    "optimizer = torch.optim.Adam(model.parameters(), lr=lr)\n",
    "\n",
    "train_losses = []\n",
    "# test_losses = []\n",
    "\n",
    "for epoch in range(num_epochs):\n",
    "    train_acc = 0\n",
    "    test_acc = 0\n",
    "    for batch_idx, (X_train, y_train) in enumerate(train_dataloader):\n",
    "        # Sending to GPU\n",
    "        X_train = X_train.to(device)\n",
    "        y_train = y_train.to(device)\n",
    "\n",
    "        # Forward pass\n",
    "        y_hat = model(X_train)\n",
    "\n",
    "        pred = torch.max(y_hat.data, 1)[1]\n",
    "        batch_corr = (pred==y_train).sum()\n",
    "        train_acc += batch_corr\n",
    "\n",
    "        # Loss computation\n",
    "        J = loss(y_hat, y_train)\n",
    "        train_losses.append(J)\n",
    "\n",
    "        # Backward pass\n",
    "        J.backward()\n",
    "\n",
    "        # Update parameters\n",
    "        optimizer.step()\n",
    "\n",
    "        # Zero grad\n",
    "        optimizer.zero_grad()\n",
    "\n",
    "        # Print train loss\n",
    "        if batch_idx % int(n_samples/(100*batch_size)) == 0:\n",
    "            print('Train Epoch {}/{} [{:>5}/{} ({:>2.0f}%)] | Loss: {}'.format(\n",
    "                epoch+1, num_epochs, batch_idx * batch_size, n_samples, \n",
    "                100*batch_idx / len(train_dataloader), J))\n",
    "            # train_losses.append(J)\n",
    "\n",
    "    with torch.no_grad():\n",
    "        for batch_idx, (X_test, y_test) in enumerate(test_dataloader):\n",
    "            # Sending to GPU\n",
    "            X_test = X_test.to(device)\n",
    "            y_test = y_test.to(device)\n",
    "\n",
    "            # Forward pass\n",
    "            y_val = model(X_test)\n",
    "\n",
    "            pred = torch.max(y_val.data, 1)[1]\n",
    "            batch_corr = (pred==y_test).sum()\n",
    "            test_acc += batch_corr\n",
    "\n",
    "    print('\\nTrain Acc.: [{:>5}/{} ({:>2.0f}%)]'.format(train_acc, n_samples, 100 * train_acc / n_samples))\n",
    "    print('Test Acc.:  [{:>5}/{} ({:>2.0f}%)]\\n'.format(test_acc, n_test_samples, 100 * test_acc / n_test_samples))"
   ]
  },
  {
   "cell_type": "markdown",
   "metadata": {},
   "source": [
    "---"
   ]
  },
  {
   "cell_type": "markdown",
   "metadata": {},
   "source": [
    "## 1.14: Transfer Learning"
   ]
  },
  {
   "cell_type": "markdown",
   "metadata": {},
   "source": [
    "---"
   ]
  }
 ],
 "metadata": {
  "kernelspec": {
   "display_name": "Python 3",
   "language": "python",
   "name": "python3"
  },
  "language_info": {
   "codemirror_mode": {
    "name": "ipython",
    "version": 3
   },
   "file_extension": ".py",
   "mimetype": "text/x-python",
   "name": "python",
   "nbconvert_exporter": "python",
   "pygments_lexer": "ipython3",
   "version": "3.8.12"
  }
 },
 "nbformat": 4,
 "nbformat_minor": 4
}
