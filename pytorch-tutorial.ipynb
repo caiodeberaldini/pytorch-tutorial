{
 "cells": [
  {
   "cell_type": "code",
   "execution_count": 1,
   "metadata": {},
   "outputs": [],
   "source": [
    "import torch\n",
    "import torchvision\n",
    "\n",
    "import numpy as np\n",
    "import pandas as pd\n",
    "import torch.nn as nn\n",
    "import matplotlib.pyplot as plt\n",
    "\n",
    "from sklearn import datasets\n",
    "from utils import displayMathHelper\n",
    "from torch.utils.data import Dataset, DataLoader\n",
    "from IPython.display import Image, display, Math"
   ]
  },
  {
   "cell_type": "markdown",
   "metadata": {},
   "source": [
    "# 1: Basics"
   ]
  },
  {
   "cell_type": "markdown",
   "metadata": {},
   "source": [
    "## 1.1: Tensors"
   ]
  },
  {
   "cell_type": "code",
   "execution_count": 2,
   "metadata": {},
   "outputs": [],
   "source": [
    "# Creating tensors, operating it and particularities\n",
    "\n",
    "## Empty tensor\n",
    "x = torch.empty(1) # 1-D empty tensor\n",
    "x = torch.empty(2, 1) # 2-D empty tensor\n",
    "# x = torch.empty(n-dimensional tensor) # n-D empty tensor\n",
    "\n",
    "## Zeros tensor\n",
    "x = torch.zeros(1) # 1-D zeros tensor\n",
    "\n",
    "## Ones tensor\n",
    "x = torch.ones(1) # 1-D ones tensor\n",
    "\n",
    "## Defining type\n",
    "x = torch.ones(2,2, dtype=torch.float16)\n",
    "# print(x.dtype)\n",
    "\n",
    "## Retrieving tensor size\n",
    "# print(x.size())\n",
    "\n",
    "## Creating tensor \"from scratch\"\n",
    "x = torch.tensor([[2.5, 5], [1.7, 8]])\n",
    "\n",
    "## Operations\n",
    "x = torch.rand(2, 2)\n",
    "y = torch.rand(2, 2)\n",
    "\n",
    "### Arithmetic\n",
    "z = x+y # Element-wise addition\n",
    "z = torch.add(x,y) # Same result\n",
    "y.add_(x) # Inplace element-wise addition; functions if \"_\" before its name make inplace ops\n",
    "\n",
    "z = x-y # Element-wise subtraction\n",
    "z = torch.sub(x, y) # Analogous as above\n",
    "y.sub_(x) # Analogous as above\n",
    "\n",
    "z = x*y # Element-wise multiplication\n",
    "z = torch.mul(x, y) # Analogous as above\n",
    "y.mul_(x) # Analogous as above\n",
    "\n",
    "z = x / y # Element-wise division\n",
    "z = torch.div(x, y) # Analogous as above\n",
    "y.div_(x) # Analogous as above\n",
    "\n",
    "### Slicing\n",
    "z = x[:, 1]\n",
    "z = x[1, 1]\n",
    "\n",
    "### Reshaping\n",
    "z = x.view(4)\n",
    "z = x.view(-1, 2)\n",
    "\n",
    "### Casting to numpy arrays\n",
    "z = x.numpy()\n",
    "\n",
    "### Casting from numpy arrays to pytorch tensors\n",
    "z = np.array([[1, 3.4], [5, 8.9]])\n",
    "w = torch.from_numpy(z)\n",
    "\n",
    "### Working on GPU\n",
    "# if torch.cuda_is_available():\n",
    "#     gpu = torch.device(\"cuda\")\n",
    "#     x = torch.ones(1, 2, device=gpu) # Tensor allocated on GPU\n",
    "#     y = torch.ones(5) # Tensor allocated on CPU\n",
    "#     y = y.to(gpu) # Sending tensor instantiated on CPU to GPU\n",
    "\n",
    "### Observation\n",
    "#################################################################################\n",
    "#    When dealing with tensors which you need to compute their gradients        #\n",
    "#    (e.g in optimization), Pytorch requires defining it explicitly.            #\n",
    "#################################################################################\n",
    "# x = torch.ones(4, requires_grad=True) # requires_grad argument is False by default"
   ]
  },
  {
   "cell_type": "markdown",
   "metadata": {},
   "source": [
    "---"
   ]
  },
  {
   "cell_type": "markdown",
   "metadata": {},
   "source": [
    "## 1.2: Autograd"
   ]
  },
  {
   "cell_type": "markdown",
   "metadata": {},
   "source": [
    "Autograd's package: used to ease the calculation of gradients. Its principle is based on Automatic Differentiation (autodiff)\n",
    "which is a general method for automatically computing the derivative of a value. For more details, I highly recommend checking out\n",
    "Prof. Roger Grosse lecture's slides¹ about the technique and the following medium post² about Pytorch's implementation of it.\n",
    "\n",
    "1: https://www.cs.toronto.edu/~rgrosse/courses/csc321_2018/slides/lec10.pdf <br>\n",
    "2: https://mustafaghali11.medium.com/how-pytorch-backward-function-works-55669b3b7c62"
   ]
  },
  {
   "cell_type": "code",
   "execution_count": 3,
   "metadata": {},
   "outputs": [],
   "source": [
    "# First, let's create an input tensor\n",
    "x = torch.rand(3, requires_grad=True) # Remember that it's necessary to enable requires_grad property\n",
    "\n",
    "# After creating the input tensor, let's define\n",
    "# an operation over this tensor.\n",
    "y = 3*x+2 # Creates the computational graph"
   ]
  },
  {
   "cell_type": "markdown",
   "metadata": {},
   "source": [
    "**Computational graph created after operating over the tensor:**"
   ]
  },
  {
   "cell_type": "code",
   "execution_count": 4,
   "metadata": {},
   "outputs": [
    {
     "data": {
      "image/png": "[encoded data removed]",
      "text/plain": [
       "<IPython.core.display.Image object>"
      ]
     },
     "execution_count": 4,
     "metadata": {},
     "output_type": "execute_result"
    }
   ],
   "source": [
    "Image(filename=\"assets/images/compt_graph.png\")"
   ]
  },
  {
   "cell_type": "code",
   "execution_count": 5,
   "metadata": {},
   "outputs": [
    {
     "name": "stdout",
     "output_type": "stream",
     "text": [
      "X: tensor([0.9714, 0.6340, 0.5424], requires_grad=True)\n",
      "Y: tensor([4.9141, 3.9019, 3.6271], grad_fn=<AddBackward0>)\n"
     ]
    }
   ],
   "source": [
    "print(\"X:\", x)\n",
    "print(\"Y:\", y)"
   ]
  },
  {
   "cell_type": "markdown",
   "metadata": {},
   "source": [
    "As seen, tensor X has requires_grad property set as **True** and tensor Y has the last operation over X (addition) as its gradient function. \n",
    "In the next example, Z is a tensor computed multiplying Y by itself and your grad. function is the multiplication op."
   ]
  },
  {
   "cell_type": "code",
   "execution_count": 6,
   "metadata": {},
   "outputs": [
    {
     "name": "stdout",
     "output_type": "stream",
     "text": [
      "tensor([24.1480, 15.2246, 13.1559], grad_fn=<MulBackward0>)\n"
     ]
    }
   ],
   "source": [
    "z = y*y\n",
    "print(z)"
   ]
  },
  {
   "cell_type": "markdown",
   "metadata": {},
   "source": [
    "For the sake of understanding, let's simplify assuming that our output tensor is 1-dimensional."
   ]
  },
  {
   "cell_type": "code",
   "execution_count": 7,
   "metadata": {},
   "outputs": [
    {
     "name": "stdout",
     "output_type": "stream",
     "text": [
      "tensor(17.5095, grad_fn=<MeanBackward0>)\n"
     ]
    }
   ],
   "source": [
    "z = z.mean()\n",
    "print(z)"
   ]
  },
  {
   "cell_type": "markdown",
   "metadata": {},
   "source": [
    "So, in order to compute Z gradient w.r.t. X, we call the Z backward() function and X grad property."
   ]
  },
  {
   "cell_type": "code",
   "execution_count": 8,
   "metadata": {},
   "outputs": [
    {
     "name": "stdout",
     "output_type": "stream",
     "text": [
      "tensor([9.8281, 7.8037, 7.2542]) \n",
      "Three gradients of Z w.r.t. X, because X is a 3-D tensor\n"
     ]
    }
   ],
   "source": [
    "z.backward()\n",
    "print(x.grad, '\\nThree gradients of Z w.r.t. X, because X is a 3-D tensor')"
   ]
  },
  {
   "cell_type": "markdown",
   "metadata": {},
   "source": [
    "On the other hand, if we have a multi-dimensional output tensor, we need to specify a gradient vector as an argument of backward() function\n",
    "towards the correct execution. In this sense, it's used a 'ones' tensor as the gradient vector in the Jacobian-vector Product - which is\n",
    "a way for computing partial derivatives, used inside autograd. For more details, please check the references in the head of this section."
   ]
  },
  {
   "cell_type": "code",
   "execution_count": 9,
   "metadata": {},
   "outputs": [
    {
     "name": "stdout",
     "output_type": "stream",
     "text": [
      "tensor([39.3125, 31.2149, 29.0168])\n"
     ]
    }
   ],
   "source": [
    "y = 3*x+2\n",
    "z = y*y\n",
    "size = list(z.size())\n",
    "init_grad_vec = torch.ones(size)\n",
    "\n",
    "z.backward(init_grad_vec)\n",
    "print(x.grad)"
   ]
  },
  {
   "cell_type": "markdown",
   "metadata": {},
   "source": [
    "Though Pytorch allocate every gradient of a specific variable, sometimes it's essential to reset our gradients."
   ]
  },
  {
   "cell_type": "code",
   "execution_count": 10,
   "metadata": {},
   "outputs": [
    {
     "name": "stdout",
     "output_type": "stream",
     "text": [
      "Step 1 gradient vector: tensor([68.7969, 54.6261, 50.7794])\n",
      "Step 2 gradient vector: tensor([98.2813, 78.0373, 72.5420])\n",
      "Step 3 gradient vector: tensor([127.7657, 101.4485,  94.3046])\n"
     ]
    }
   ],
   "source": [
    "for i in range(3):\n",
    "    y = 3*x + 2\n",
    "    z = y*y\n",
    "\n",
    "    z.backward(init_grad_vec)\n",
    "    print(\"Step {} gradient vector: {}\".format(i+1, x.grad))\n",
    "\n",
    "_ = x.grad.zero_()"
   ]
  },
  {
   "cell_type": "code",
   "execution_count": 11,
   "metadata": {},
   "outputs": [
    {
     "name": "stdout",
     "output_type": "stream",
     "text": [
      "Step 1 gradient vector: tensor([29.4844, 23.4112, 21.7626])\n",
      "Step 2 gradient vector: tensor([29.4844, 23.4112, 21.7626])\n",
      "Step 3 gradient vector: tensor([29.4844, 23.4112, 21.7626])\n"
     ]
    }
   ],
   "source": [
    "for i in range(3):\n",
    "    y = 3*x + 2\n",
    "    z = y*y\n",
    "\n",
    "    z.backward(init_grad_vec)\n",
    "    print(\"Step {} gradient vector: {}\".format(i+1, x.grad))\n",
    "    \n",
    "    _ = x.grad.zero_()"
   ]
  },
  {
   "cell_type": "markdown",
   "metadata": {},
   "source": [
    "Sometimes during training we might want to stop tracking variables from the gradient perspective. There are three ways to do so.\n",
    "(As seen below, none of tensors have the property requires_grad in it)"
   ]
  },
  {
   "cell_type": "code",
   "execution_count": 12,
   "metadata": {},
   "outputs": [],
   "source": [
    "# First way\n",
    "x.requires_grad_(False)\n",
    "# print(x)\n",
    "\n",
    "# Second way\n",
    "x.detach()\n",
    "# print(x)\n",
    "\n",
    "# Third way\n",
    "with torch.no_grad():\n",
    "    y = x + 2\n",
    "#     print(y)"
   ]
  },
  {
   "cell_type": "markdown",
   "metadata": {},
   "source": [
    "---"
   ]
  },
  {
   "cell_type": "markdown",
   "metadata": {},
   "source": [
    "## 1.3: Backpropagation"
   ]
  },
  {
   "cell_type": "markdown",
   "metadata": {},
   "source": [
    "Backpropagation is an algorithm used to compute gradients of functions w.r.t. parameters that appears previously \n",
    "to the function computation, and them is backpropagated to which one of them."
   ]
  },
  {
   "cell_type": "markdown",
   "metadata": {},
   "source": [
    "Let's suppose we have a first degree function (w/o linear coefficient, i.e. $y = f(x) = {\\theta}x$). Suppose our parameter $\\theta = 5$.\n",
    "In our computational graph Pytorch's framework, such operation should be seen as follows:"
   ]
  },
  {
   "cell_type": "code",
   "execution_count": 13,
   "metadata": {},
   "outputs": [
    {
     "data": {
      "image/png": "[encoded data removed]",
      "text/plain": [
       "<IPython.core.display.Image object>"
      ]
     },
     "execution_count": 13,
     "metadata": {},
     "output_type": "execute_result"
    }
   ],
   "source": [
    "Image(filename=\"assets/images/bprop_ex_compt_graph_1.png\")"
   ]
  },
  {
   "cell_type": "markdown",
   "metadata": {},
   "source": [
    "Here we have a multiplication operation and the attribution of this result in Y variable (an identity). In the background,\n",
    "the result of the first operation is seen as an intermediate variable - here called Z -, and them it's attributed to Y, completing\n",
    "the forward pass stage. Given that, to compute the gradient of Y w.r.t. X it's necessary to operate using the chain rule of calculus,\n",
    "in order to compute the gradient of Y w.r.t the intermediate variable Z."
   ]
  },
  {
   "cell_type": "markdown",
   "metadata": {},
   "source": [
    "---"
   ]
  },
  {
   "cell_type": "markdown",
   "metadata": {},
   "source": [
    "Briefly, the chain rule assures (not restricted to a 2-step computation. In fact, it's valid, in general, for n-steps):"
   ]
  },
  {
   "cell_type": "markdown",
   "metadata": {},
   "source": [
    "\n",
    "\n",
    "$\\dfrac{dy}{dz}*\\dfrac{dz}{dx} = \\dfrac{dy}{dx}$"
   ]
  },
  {
   "cell_type": "markdown",
   "metadata": {},
   "source": [
    "---"
   ]
  },
  {
   "cell_type": "markdown",
   "metadata": {},
   "source": [
    "The complete computation graph with the forward and backward pass is depicted below:"
   ]
  },
  {
   "cell_type": "code",
   "execution_count": 14,
   "metadata": {},
   "outputs": [
    {
     "data": {
      "image/png": "[encoded data removed]",
      "text/plain": [
       "<IPython.core.display.Image object>"
      ]
     },
     "execution_count": 14,
     "metadata": {},
     "output_type": "execute_result"
    }
   ],
   "source": [
    "Image(filename=\"assets/images/bprop_ex_compt_graph_2.png\")"
   ]
  },
  {
   "cell_type": "markdown",
   "metadata": {},
   "source": [
    "The Pytorch implementation of the backpropagation is as simple as follows:"
   ]
  },
  {
   "cell_type": "code",
   "execution_count": 15,
   "metadata": {},
   "outputs": [
    {
     "name": "stdout",
     "output_type": "stream",
     "text": [
      "dy/dx = 5 (as expected!)\n"
     ]
    }
   ],
   "source": [
    "# Instantiate data point\n",
    "x = torch.tensor([4], dtype=torch.float32, requires_grad=True)\n",
    "\n",
    "# Computational graph\n",
    "y = 5*x # dy/dx = 5\n",
    "\n",
    "# Backward pass\n",
    "y.backward()\n",
    "dy = x.grad\n",
    "\n",
    "print(f'dy/dx = {int(dy.item())} (as expected!)')"
   ]
  },
  {
   "cell_type": "markdown",
   "metadata": {},
   "source": [
    "---"
   ]
  },
  {
   "cell_type": "markdown",
   "metadata": {},
   "source": [
    "## 1.4: Gradient Descent Algorithm"
   ]
  },
  {
   "cell_type": "markdown",
   "metadata": {},
   "source": [
    "Toward to wrap all of these concepts and enable the algorithm to learn the paremeters' values, the gradient descent algorithm\n",
    "this task*. This algorithm can be divided in four steps:\n",
    "\n",
    "* Forward pass\n",
    "* Loss computation\n",
    "* Backward pass\n",
    "* Update parameters\n",
    "\n",
    "The only which wasn't introduced is the loss computation. In short, since the learning is being supervised, i.e. it's known a priori the correct\n",
    "output's value, one way to compute 'how much' the approximation function being learned is 'wrong' is computing the error between its\n",
    "output and the correct value. Here, the loss function used is the well-known Mean Squared Error (MSE)**. \n",
    "\n",
    "\\* The purpose here isn't to explain all the details of gradient descent algorithm.\n",
    "\n",
    "\\** In the examples below the problem is a regression one."
   ]
  },
  {
   "cell_type": "markdown",
   "metadata": {},
   "source": [
    "First, let's code it from scratch, using Numpy:"
   ]
  },
  {
   "cell_type": "code",
   "execution_count": 16,
   "metadata": {},
   "outputs": [
    {
     "data": {
      "text/latex": [
       "$\\displaystyle \\ \\ 20th \\ iter. \\ Error (J): 1.383 \\ | \\ Parameter \\ (\\theta): 4.554$"
      ],
      "text/plain": [
       "<IPython.core.display.Math object>"
      ]
     },
     "metadata": {},
     "output_type": "display_data"
    },
    {
     "data": {
      "text/latex": [
       "$\\displaystyle \\ \\ 40th \\ iter. \\ Error (J): 0.013 \\ | \\ Parameter \\ (\\theta): 4.957$"
      ],
      "text/plain": [
       "<IPython.core.display.Math object>"
      ]
     },
     "metadata": {},
     "output_type": "display_data"
    },
    {
     "data": {
      "text/latex": [
       "$\\displaystyle \\ \\ 60th \\ iter. \\ Error (J): 0.000 \\ | \\ Parameter \\ (\\theta): 4.996$"
      ],
      "text/plain": [
       "<IPython.core.display.Math object>"
      ]
     },
     "metadata": {},
     "output_type": "display_data"
    },
    {
     "data": {
      "text/latex": [
       "$\\displaystyle \\ \\ 80th \\ iter. \\ Error (J): 0.000 \\ | \\ Parameter \\ (\\theta): 5.000$"
      ],
      "text/plain": [
       "<IPython.core.display.Math object>"
      ]
     },
     "metadata": {},
     "output_type": "display_data"
    },
    {
     "data": {
      "text/latex": [
       "$\\displaystyle 100th \\ iter. \\ Error (J): 0.000 \\ | \\ Parameter \\ (\\theta): 5.000$"
      ],
      "text/plain": [
       "<IPython.core.display.Math object>"
      ]
     },
     "metadata": {},
     "output_type": "display_data"
    }
   ],
   "source": [
    "# Set data points\n",
    "X = np.array([1, 2, 3, 4, 5], dtype=np.float32)\n",
    "y = np.array([5, 10, 15, 20, 25], dtype=np.float32)\n",
    "\n",
    "# Randomly initialize parameter\n",
    "theta = np.random.randn(1)\n",
    "\n",
    "# Define hyperparameters\n",
    "lr = 0.01\n",
    "num_iters = 100\n",
    "\n",
    "for i in range(1, num_iters+1):\n",
    "    # Forward pass\n",
    "    y_hat = theta*X\n",
    "\n",
    "    # Loss computation\n",
    "    J = np.mean((y_hat - y)**2) / 2\n",
    "\n",
    "    # Backward pass\n",
    "    dJ = np.mean(X*(y_hat - y)) # This is the derivative of the loss function w.r.t. the parameter theta\n",
    "\n",
    "    # Update parameter\n",
    "    theta = theta - lr*dJ\n",
    "\n",
    "    # Print loss function\n",
    "    if i % 20 == 0:\n",
    "        space_str = displayMathHelper(num_iters, i)\n",
    "        display(Math(r'{space}{i}th \\ iter. \\ Error (J): {J:.3f} \\ | \\ Parameter \\ (\\theta): {theta:.3f}'.format(space=space_str, i=i, J=J, theta=theta[0])))"
   ]
  },
  {
   "cell_type": "markdown",
   "metadata": {},
   "source": [
    "Now with Pytorch's Autograd (untill gradient computation):"
   ]
  },
  {
   "cell_type": "code",
   "execution_count": 17,
   "metadata": {},
   "outputs": [
    {
     "data": {
      "text/latex": [
       "$\\displaystyle \\ \\ 20th \\ iter. \\ Error (J): 1.233 \\ | \\ Parameter \\ (\\theta): 4.579$"
      ],
      "text/plain": [
       "<IPython.core.display.Math object>"
      ]
     },
     "metadata": {},
     "output_type": "display_data"
    },
    {
     "data": {
      "text/latex": [
       "$\\displaystyle \\ \\ 40th \\ iter. \\ Error (J): 0.012 \\ | \\ Parameter \\ (\\theta): 4.959$"
      ],
      "text/plain": [
       "<IPython.core.display.Math object>"
      ]
     },
     "metadata": {},
     "output_type": "display_data"
    },
    {
     "data": {
      "text/latex": [
       "$\\displaystyle \\ \\ 60th \\ iter. \\ Error (J): 0.000 \\ | \\ Parameter \\ (\\theta): 4.996$"
      ],
      "text/plain": [
       "<IPython.core.display.Math object>"
      ]
     },
     "metadata": {},
     "output_type": "display_data"
    },
    {
     "data": {
      "text/latex": [
       "$\\displaystyle \\ \\ 80th \\ iter. \\ Error (J): 0.000 \\ | \\ Parameter \\ (\\theta): 5.000$"
      ],
      "text/plain": [
       "<IPython.core.display.Math object>"
      ]
     },
     "metadata": {},
     "output_type": "display_data"
    },
    {
     "data": {
      "text/latex": [
       "$\\displaystyle 100th \\ iter. \\ Error (J): 0.000 \\ | \\ Parameter \\ (\\theta): 5.000$"
      ],
      "text/plain": [
       "<IPython.core.display.Math object>"
      ]
     },
     "metadata": {},
     "output_type": "display_data"
    }
   ],
   "source": [
    "# Set data points\n",
    "x = torch.tensor([1, 2, 3, 4, 5], dtype=torch.float32)\n",
    "y = torch.tensor([5, 10, 15, 20, 25], dtype=torch.float32)\n",
    "\n",
    "# Randomly initialize parameter\n",
    "theta = torch.rand(1, requires_grad=True)\n",
    "\n",
    "# Define hyperparameters\n",
    "lr = 0.01\n",
    "num_iters = 100\n",
    "\n",
    "for i in range(1, num_iters+1):\n",
    "    # Forward pass\n",
    "    y_hat = theta*x\n",
    "\n",
    "    # Loss computation\n",
    "    J = torch.mean((y_hat - y)**2 / 2)\n",
    "\n",
    "    # Backward pass\n",
    "    J.backward() # dJ/dtheta\n",
    "\n",
    "    # Update parameter\n",
    "    ## Remember that we don't want to track this operation in our computational graph. Given that\n",
    "    ## we should wrap our update operation inside the torch.no_grad(), as explained before.\n",
    "    with torch.no_grad():\n",
    "        theta -= lr*theta.grad\n",
    "\n",
    "    # Zero theta gradients\n",
    "    theta.grad.zero_()\n",
    "\n",
    "    # Print loss function and theta updating\n",
    "    if i % 20 == 0:\n",
    "        space_str = displayMathHelper(num_iters, i)\n",
    "        display(Math(r'{space}{i}th \\ iter. \\ Error (J): {J:.3f} \\ | \\ Parameter \\ (\\theta): {theta:.3f}'.format(space=space_str, i=i, J=J, theta=theta[0])))"
   ]
  },
  {
   "cell_type": "markdown",
   "metadata": {},
   "source": [
    "---"
   ]
  },
  {
   "cell_type": "markdown",
   "metadata": {},
   "source": [
    "## 1.5: Training Pipeline"
   ]
  },
  {
   "cell_type": "markdown",
   "metadata": {},
   "source": [
    "Previously, we implemented our training in two ways: (i) all from scratch; (ii) from scratch mixed with Pytorch's autograd package. \n",
    "Now we'll write all the training pipeline with Pytorch. First, let's recap how we trained our linear regression model mixing\n",
    "from scratch with autograd:"
   ]
  },
  {
   "cell_type": "code",
   "execution_count": 18,
   "metadata": {},
   "outputs": [
    {
     "data": {
      "text/latex": [
       "$\\displaystyle \\ \\ 20th \\ iter. \\ Error \\ (J): 1.107 \\ | \\ Parameter \\ (\\theta): 4.601$"
      ],
      "text/plain": [
       "<IPython.core.display.Math object>"
      ]
     },
     "metadata": {},
     "output_type": "display_data"
    },
    {
     "data": {
      "text/latex": [
       "$\\displaystyle \\ \\ 40th \\ iter. \\ Error \\ (J): 0.010 \\ | \\ Parameter \\ (\\theta): 4.961$"
      ],
      "text/plain": [
       "<IPython.core.display.Math object>"
      ]
     },
     "metadata": {},
     "output_type": "display_data"
    },
    {
     "data": {
      "text/latex": [
       "$\\displaystyle \\ \\ 60th \\ iter. \\ Error \\ (J): 0.000 \\ | \\ Parameter \\ (\\theta): 4.996$"
      ],
      "text/plain": [
       "<IPython.core.display.Math object>"
      ]
     },
     "metadata": {},
     "output_type": "display_data"
    },
    {
     "data": {
      "text/latex": [
       "$\\displaystyle \\ \\ 80th \\ iter. \\ Error \\ (J): 0.000 \\ | \\ Parameter \\ (\\theta): 5.000$"
      ],
      "text/plain": [
       "<IPython.core.display.Math object>"
      ]
     },
     "metadata": {},
     "output_type": "display_data"
    },
    {
     "data": {
      "text/latex": [
       "$\\displaystyle 100th \\ iter. \\ Error \\ (J): 0.000 \\ | \\ Parameter \\ (\\theta): 5.000$"
      ],
      "text/plain": [
       "<IPython.core.display.Math object>"
      ]
     },
     "metadata": {},
     "output_type": "display_data"
    }
   ],
   "source": [
    "# Set data points\n",
    "x = torch.tensor([1, 2, 3, 4, 5], dtype=torch.float32)\n",
    "y = torch.tensor([5, 10, 15, 20, 25], dtype=torch.float32)\n",
    "\n",
    "# Randomly initialize parameter\n",
    "theta = torch.rand(1, requires_grad=True)\n",
    "\n",
    "# Define hyperparameters\n",
    "lr = 0.01\n",
    "num_iters = 100\n",
    "\n",
    "for i in range(1, num_iters+1):\n",
    "    # Forward pass\n",
    "    y_hat = theta*x\n",
    "\n",
    "    # Loss computation\n",
    "    J = torch.mean((y_hat - y)**2 / 2)\n",
    "\n",
    "    # Backward pass\n",
    "    J.backward() # dJ/dtheta\n",
    "\n",
    "    # Update parameter\n",
    "    ## Remember that we don't want to track this operation in our computational graph. Given that\n",
    "    ## we should wrap our update operation inside the torch.no_grad(), as explained before.\n",
    "    with torch.no_grad():\n",
    "        theta -= lr*theta.grad\n",
    "\n",
    "    # Zero theta gradients\n",
    "    theta.grad.zero_()\n",
    "\n",
    "    # Print loss function and theta updating\n",
    "    if i % 20 == 0:\n",
    "        space_str = displayMathHelper(num_iters, i)\n",
    "        display(Math(r'{space}{i}th \\ iter. \\ Error \\ (J): {J:.3f} \\ | \\ Parameter \\ (\\theta): {theta:.3f}'.format(space=space_str, i=i, J=J, theta=theta[0])))"
   ]
  },
  {
   "cell_type": "markdown",
   "metadata": {},
   "source": [
    "As stated above, now we'll implement a linear regression in a fully-Pytorch version. For that, we need to add some steps:\n",
    "\n",
    "1. The model needs to be fed with a matrix whose lines are related to examples and columns to features. In our 1-D example, we need to reshape our covariates and target variables to be a column vector.\n",
    "2. The instance of the model object (in our case, a linear one).\n",
    "3. In order to compute loss and gradients, we need to specify which loss object we want (for a linear regression, good old MSE) and which optimizer. For that example, we use stochastic gradient descent optimizer.\n",
    "\n",
    "Implementation is as follows:"
   ]
  },
  {
   "cell_type": "code",
   "execution_count": 19,
   "metadata": {},
   "outputs": [
    {
     "data": {
      "text/latex": [
       "$\\displaystyle \\ \\ 400th \\ iter. \\ Error (J): 0.002 \\ | \\ Parameter \\ (\\theta): 4.973$"
      ],
      "text/plain": [
       "<IPython.core.display.Math object>"
      ]
     },
     "metadata": {},
     "output_type": "display_data"
    },
    {
     "data": {
      "text/latex": [
       "$\\displaystyle \\ \\ 800th \\ iter. \\ Error (J): 0.000 \\ | \\ Parameter \\ (\\theta): 4.993$"
      ],
      "text/plain": [
       "<IPython.core.display.Math object>"
      ]
     },
     "metadata": {},
     "output_type": "display_data"
    },
    {
     "data": {
      "text/latex": [
       "$\\displaystyle 1200th \\ iter. \\ Error (J): 0.000 \\ | \\ Parameter \\ (\\theta): 4.998$"
      ],
      "text/plain": [
       "<IPython.core.display.Math object>"
      ]
     },
     "metadata": {},
     "output_type": "display_data"
    },
    {
     "data": {
      "text/latex": [
       "$\\displaystyle 1600th \\ iter. \\ Error (J): 0.000 \\ | \\ Parameter \\ (\\theta): 5.000$"
      ],
      "text/plain": [
       "<IPython.core.display.Math object>"
      ]
     },
     "metadata": {},
     "output_type": "display_data"
    },
    {
     "data": {
      "text/latex": [
       "$\\displaystyle 2000th \\ iter. \\ Error (J): 0.000 \\ | \\ Parameter \\ (\\theta): 5.000$"
      ],
      "text/plain": [
       "<IPython.core.display.Math object>"
      ]
     },
     "metadata": {},
     "output_type": "display_data"
    }
   ],
   "source": [
    "# Set data points\n",
    "X = torch.tensor([1, 2, 3, 4, 5], dtype=torch.float32)\n",
    "y = torch.tensor([5, 10, 15, 20, 25], dtype=torch.float32)\n",
    "\n",
    "## Reshaping as column vectors\n",
    "X = X.view(X.shape[0], 1)\n",
    "y = y.view(y.shape[0], 1)\n",
    "\n",
    "# Design model\n",
    "n_samples, n_features = X.shape\n",
    "model = nn.Linear(in_features=n_features, out_features=n_features)\n",
    "\n",
    "# Define hyperparameters\n",
    "lr = 0.01\n",
    "num_iters = 2000\n",
    "\n",
    "# Construct Loss and Optimizer\n",
    "loss = nn.MSELoss()\n",
    "optimizer = torch.optim.SGD(model.parameters(), lr=lr) # Obs.: model.parameters() is a generator object of torch.nn.parameter which has requires_grad set True\n",
    "\n",
    "final_iter_magnitude = np.floor(np.log10(num_iters)).astype(np.int32)\n",
    "for i in range(1, num_iters+1):\n",
    "    # Forward pass\n",
    "    y_hat = model(X)\n",
    "\n",
    "    # Loss computation\n",
    "    J = loss(y_hat, y)\n",
    "\n",
    "    # Backward pass\n",
    "    J.backward() # dJ/dtheta\n",
    "\n",
    "    # Update parameter\n",
    "    optimizer.step()\n",
    "\n",
    "    # Zero theta gradients\n",
    "    optimizer.zero_grad()\n",
    "\n",
    "    # Print loss function and theta updating\n",
    "    if i % 400 == 0:\n",
    "        theta, b = model.parameters()\n",
    "\n",
    "        space_str = displayMathHelper(num_iters, i)\n",
    "        display(Math(r'{space}{i}th \\ iter. \\ Error (J): {J:.3f} \\ | \\ Parameter \\ (\\theta): {theta:.3f}'.format(space=space_str, i=i, J=J, theta=theta.item())))"
   ]
  },
  {
   "cell_type": "markdown",
   "metadata": {},
   "source": [
    "---"
   ]
  },
  {
   "cell_type": "markdown",
   "metadata": {},
   "source": [
    "## 1.6: Linear Regression"
   ]
  },
  {
   "cell_type": "markdown",
   "metadata": {},
   "source": [
    "In this section we'll use the acquired knowledge about how to implement a linear regression fully with Pytorch to a toy dataset. Let's load the dataset:"
   ]
  },
  {
   "cell_type": "code",
   "execution_count": 20,
   "metadata": {},
   "outputs": [],
   "source": [
    "# Loading data\n",
    "X_numpy, y_numpy = datasets.make_regression(n_samples=100, n_features=1,\n",
    "                                            noise=15, random_state=1)\n",
    "\n",
    "## Transform Numpy vectors to Pytorch tensors\n",
    "X = torch.from_numpy(X_numpy.astype(np.float32))\n",
    "y = torch.from_numpy(y_numpy.astype(np.float32))\n",
    "\n",
    "## Reshaping as column vectors\n",
    "X = X.view(X.shape[0], 1)\n",
    "y = y.view(y.shape[0], 1)"
   ]
  },
  {
   "cell_type": "markdown",
   "metadata": {},
   "source": [
    "Then, we follow the steps followed before:\n",
    "\n",
    "* Design model (a linear one for that problem)\n",
    "* Construct loss function and optimizer\n",
    "* Forward pass\n",
    "* Backward pass\n",
    "* Update parameters\n",
    "\n",
    "In order to visualize results, it is plotted data points scatter with the line learned."
   ]
  },
  {
   "cell_type": "code",
   "execution_count": 21,
   "metadata": {},
   "outputs": [
    {
     "data": {
      "text/latex": [
       "$\\displaystyle \\ \\ 200th \\ iter. \\ Error (J): 197.114 \\ | \\ Parameter \\ (\\theta): 78.534$"
      ],
      "text/plain": [
       "<IPython.core.display.Math object>"
      ]
     },
     "metadata": {},
     "output_type": "display_data"
    },
    {
     "data": {
      "text/latex": [
       "$\\displaystyle \\ \\ 400th \\ iter. \\ Error (J): 187.089 \\ | \\ Parameter \\ (\\theta): 81.887$"
      ],
      "text/plain": [
       "<IPython.core.display.Math object>"
      ]
     },
     "metadata": {},
     "output_type": "display_data"
    },
    {
     "data": {
      "text/latex": [
       "$\\displaystyle \\ \\ 600th \\ iter. \\ Error (J): 187.069 \\ | \\ Parameter \\ (\\theta): 82.034$"
      ],
      "text/plain": [
       "<IPython.core.display.Math object>"
      ]
     },
     "metadata": {},
     "output_type": "display_data"
    },
    {
     "data": {
      "text/latex": [
       "$\\displaystyle \\ \\ 800th \\ iter. \\ Error (J): 187.069 \\ | \\ Parameter \\ (\\theta): 82.041$"
      ],
      "text/plain": [
       "<IPython.core.display.Math object>"
      ]
     },
     "metadata": {},
     "output_type": "display_data"
    },
    {
     "data": {
      "text/latex": [
       "$\\displaystyle 1000th \\ iter. \\ Error (J): 187.069 \\ | \\ Parameter \\ (\\theta): 82.041$"
      ],
      "text/plain": [
       "<IPython.core.display.Math object>"
      ]
     },
     "metadata": {},
     "output_type": "display_data"
    }
   ],
   "source": [
    "# Design model\n",
    "n_samples, n_features = X.shape\n",
    "model = nn.Linear(in_features=n_features, out_features=n_features)\n",
    "\n",
    "# Define hyperparameters\n",
    "lr = 0.01\n",
    "num_iters = 1000\n",
    "\n",
    "# Construct Loss and Optimizer\n",
    "loss = nn.MSELoss()\n",
    "optimizer = torch.optim.SGD(model.parameters(), lr=lr)\n",
    "\n",
    "for i in range(1, num_iters+1):\n",
    "    # Forward pass\n",
    "    y_hat = model(X)\n",
    "\n",
    "    # Loss computation\n",
    "    J = loss(y_hat, y)\n",
    "\n",
    "    # Backward pass\n",
    "    J.backward() # dJ/dtheta\n",
    "\n",
    "    # Update parameter\n",
    "    optimizer.step()\n",
    "\n",
    "    # Zero theta gradients\n",
    "    optimizer.zero_grad()\n",
    "\n",
    "    # Print loss function and theta updating\n",
    "    if i % 200 == 0:\n",
    "        theta, b = model.parameters()\n",
    "\n",
    "        space_str = displayMathHelper(num_iters, i)\n",
    "        display(Math(r'{space}{i}th \\ iter. \\ Error (J): {J:.3f} \\ | \\ Parameter \\ (\\theta): {theta:.3f}'.format(space=space_str, i=i, J=J, theta=theta.item())))"
   ]
  },
  {
   "cell_type": "code",
   "execution_count": 22,
   "metadata": {},
   "outputs": [
    {
     "data": {
      "image/png": "[encoded data removed]",
      "text/plain": [
       "<Figure size 576x576 with 1 Axes>"
      ]
     },
     "metadata": {
      "needs_background": "light"
     },
     "output_type": "display_data"
    }
   ],
   "source": [
    "predicted = model(X).detach().numpy() # We don't want that op. on computational graph.\n",
    "\n",
    "fig, axs = plt.subplots(1, 1, figsize=(8,8))\n",
    "axs.plot(X_numpy, y_numpy, 'ro', label=\"Original Data\")\n",
    "axs.plot(X_numpy, predicted, 'b', label=\"Line Learned\")\n",
    "axs.legend(loc=\"upper left\")\n",
    "plt.show()"
   ]
  },
  {
   "cell_type": "markdown",
   "metadata": {},
   "source": [
    "---"
   ]
  },
  {
   "cell_type": "markdown",
   "metadata": {},
   "source": [
    "## 1.7: Logistic Regression"
   ]
  },
  {
   "cell_type": "markdown",
   "metadata": {},
   "source": [
    "Previously, we learned how to implement a linear model in the context of a linear regression problem fully with Pytorch. In this section we'll learn to implement the Logistic Regression classification algorithm.\n",
    "\n",
    "First of all, there isn't an implemented interface on Pytorch as in the case of our linear model. Given that, we'll need to build our own Logistic Regression class. In summary, Logistic Regression is a model used in classification tasks that has two-steps:\n",
    "\n",
    "* First, it's applied a linear transformation of the same kind it's done in linear regression (z = A*x + b).\n",
    "* Second, a non-linear limited function is applied in order to constraint the output value. In our model, we'll use the logistic function (also known as sigmoid function).\n",
    "\n",
    "With this in mind, let's create our Logistic Regression class:"
   ]
  },
  {
   "cell_type": "code",
   "execution_count": 23,
   "metadata": {},
   "outputs": [],
   "source": [
    "class LogRegression(nn.Module): # Inherit torch.nn.Module. This enable us to access methods, attributes and other classes that inherit this parent class.\n",
    "\n",
    "    def __init__(self, n_features, n_classes):\n",
    "        super().__init__()\n",
    "        self.Linear = nn.Linear(in_features=n_features, out_features=n_classes)\n",
    "\n",
    "    def forward(self, x):\n",
    "        predicted = torch.sigmoid(self.Linear(x))\n",
    "        return predicted"
   ]
  },
  {
   "cell_type": "markdown",
   "metadata": {},
   "source": [
    "After constructing the class, let's generate and load our toy dataset:"
   ]
  },
  {
   "cell_type": "code",
   "execution_count": 24,
   "metadata": {},
   "outputs": [],
   "source": [
    "# Loading and transforming data. \n",
    "\n",
    "## Don't care too much about the data itself. Nevertheless, have in mind that our data is generated \n",
    "## with few constraints (e.g., it's a 100 examples size, it has 2 features and 3 classes as possible values \n",
    "## to target variable).\n",
    "X_numpy, y_numpy = datasets.make_classification(n_samples=100, n_features=2, \n",
    "                                                n_redundant=0, n_classes=3,\n",
    "                                                n_clusters_per_class=1, random_state=1)\n",
    "\n",
    "X = torch.from_numpy(X_numpy.astype(np.float32))\n",
    "y = torch.from_numpy(y_numpy)\n",
    "y = y.type(torch.long)"
   ]
  },
  {
   "cell_type": "markdown",
   "metadata": {},
   "source": [
    "Training pipeline follows the same steps as before:\n",
    "\n",
    "* Design model\n",
    "* Construct loss function and optimizer\n",
    "* Forward pass\n",
    "* Backward pass\n",
    "* Update parameters"
   ]
  },
  {
   "cell_type": "code",
   "execution_count": 25,
   "metadata": {},
   "outputs": [
    {
     "data": {
      "text/latex": [
       "$\\displaystyle \\ \\  200th \\ iter. \\ Error \\ (J): 0.768 \\ | \\ Parameters: (\\theta_1): 1.440, \\ (\\theta_2): 1.238 $"
      ],
      "text/plain": [
       "<IPython.core.display.Math object>"
      ]
     },
     "metadata": {},
     "output_type": "display_data"
    },
    {
     "data": {
      "text/latex": [
       "$\\displaystyle \\ \\  400th \\ iter. \\ Error \\ (J): 0.685 \\ | \\ Parameters: (\\theta_1): 2.406, \\ (\\theta_2): 1.129 $"
      ],
      "text/plain": [
       "<IPython.core.display.Math object>"
      ]
     },
     "metadata": {},
     "output_type": "display_data"
    },
    {
     "data": {
      "text/latex": [
       "$\\displaystyle \\ \\  600th \\ iter. \\ Error \\ (J): 0.653 \\ | \\ Parameters: (\\theta_1): 3.094, \\ (\\theta_2): 0.887 $"
      ],
      "text/plain": [
       "<IPython.core.display.Math object>"
      ]
     },
     "metadata": {},
     "output_type": "display_data"
    },
    {
     "data": {
      "text/latex": [
       "$\\displaystyle \\ \\  800th \\ iter. \\ Error \\ (J): 0.635 \\ | \\ Parameters: (\\theta_1): 3.635, \\ (\\theta_2): 0.633 $"
      ],
      "text/plain": [
       "<IPython.core.display.Math object>"
      ]
     },
     "metadata": {},
     "output_type": "display_data"
    },
    {
     "data": {
      "text/latex": [
       "$\\displaystyle 1000th \\ iter. \\ Error \\ (J): 0.625 \\ | \\ Parameters: (\\theta_1): 4.089, \\ (\\theta_2): 0.388 $"
      ],
      "text/plain": [
       "<IPython.core.display.Math object>"
      ]
     },
     "metadata": {},
     "output_type": "display_data"
    }
   ],
   "source": [
    "# Design model\n",
    "n_samples, n_features = X.shape\n",
    "n_classes = y.unique().shape[0]\n",
    "model = LogRegression(n_features, n_classes)\n",
    "\n",
    "# Define hyperparameters\n",
    "lr=0.01\n",
    "num_iters=1000\n",
    "\n",
    "# Construct Loss and Optimizer\n",
    "loss = nn.CrossEntropyLoss() # Since we're tackling a classification task, loss function needs to fit adequately.\n",
    "optimizer = torch.optim.Adam(model.parameters(), lr=lr)\n",
    "\n",
    "for i in range(1, num_iters+1):\n",
    "    # Forward pass\n",
    "    y_hat = model(X)\n",
    "\n",
    "    # Loss computation\n",
    "    J = loss(y_hat ,y)\n",
    "\n",
    "    # Backward pass\n",
    "    J.backward()\n",
    "\n",
    "    # Update parameters\n",
    "    optimizer.step()\n",
    "\n",
    "    # Zero grad\n",
    "    optimizer.zero_grad()\n",
    "\n",
    "    # Print loss and weights\n",
    "    if i % 200 == 0:\n",
    "        theta, b = model.parameters()\n",
    "        theta1 = theta[0][0].item()\n",
    "        theta2 = theta[0][1].item()\n",
    "\n",
    "        space_str = displayMathHelper(num_iters, i)\n",
    "        display(\n",
    "            Math(\n",
    "                r'{space}{i:4}th \\ iter. \\ Error \\ (J): {J:.3f} \\ | \\ Parameters: (\\theta_1): {theta1:.3f}, \\ (\\theta_2): {theta2:.3f} '.format(\n",
    "                    space=space_str, i=i, J=J,\n",
    "                    theta1=theta1,\n",
    "                    theta2=theta2\n",
    "                )\n",
    "            )\n",
    "        )"
   ]
  },
  {
   "cell_type": "markdown",
   "metadata": {},
   "source": [
    "In order to visualize results, it is plotted model prediction and it's decision boundary (represented by it's non-linear function) beside with original data points."
   ]
  },
  {
   "cell_type": "code",
   "execution_count": 26,
   "metadata": {},
   "outputs": [
    {
     "data": {
      "image/png": "[encoded data removed]",
      "text/plain": [
       "<Figure size 1440x576 with 2 Axes>"
      ]
     },
     "metadata": {
      "needs_background": "light"
     },
     "output_type": "display_data"
    }
   ],
   "source": [
    "h = 0.02\n",
    "\n",
    "x_min, x_max = X[:, 0].min().item() - 0.5, X[:, 0].max().item() + 0.5\n",
    "y_min, y_max = X[:, 1].min().item() - 0.5, X[:, 1].max().item() + 0.5\n",
    "\n",
    "xx, yy = np.meshgrid(np.arange(x_min, x_max, h),\n",
    "                     np.arange(y_min, y_max, h))\n",
    "\n",
    "grid_agg = np.c_[xx.ravel(), yy.ravel()]\n",
    "grid_agg = torch.from_numpy(grid_agg.astype(np.float32))\n",
    "\n",
    "Z = model(grid_agg).detach()\n",
    "Z = torch.argmax(Z, 1, keepdim=True)\n",
    "Z = np.reshape(Z.numpy(), xx.shape)\n",
    "\n",
    "cm = plt.cm.Pastel1\n",
    "\n",
    "predicted = model(X).detach()\n",
    "predicted = torch.argmax(predicted, 1, keepdim=True)\n",
    "predicted = predicted.view(n_samples)\n",
    "\n",
    "corr_fst_class_idx = y_numpy==0\n",
    "corr_snd_class_idx = y_numpy==1\n",
    "corr_trd_class_idx = y_numpy==2\n",
    "\n",
    "fst_class_idx = predicted==0\n",
    "snd_class_idx = predicted==1\n",
    "trd_class_idx = predicted==2\n",
    "\n",
    "fig, axs = plt.subplots(1, 2, figsize=(20,8))\n",
    "axs[0].plot(X_numpy[fst_class_idx, 0], X_numpy[fst_class_idx, 1], 'ro', label='Class 1')\n",
    "axs[0].plot(X_numpy[snd_class_idx, 0], X_numpy[snd_class_idx, 1], 'bo', label='Class 2')\n",
    "axs[0].plot(X_numpy[trd_class_idx, 0], X_numpy[trd_class_idx, 1], 'go', label='Class 3')\n",
    "axs[0].contourf(xx, yy, Z, cmap=cm, alpha=0.7)\n",
    "axs[0].legend(loc=\"upper left\")\n",
    "axs[0].set_title(\"Predicted (w/ Decision Boundary)\")\n",
    "\n",
    "axs[1].plot(X_numpy[corr_fst_class_idx, 0], X_numpy[corr_fst_class_idx, 1], 'ro', label='Class 1')\n",
    "axs[1].plot(X_numpy[corr_snd_class_idx, 0], X_numpy[corr_snd_class_idx, 1], 'bo', label='Class 2')\n",
    "axs[1].plot(X_numpy[corr_trd_class_idx, 0], X_numpy[corr_trd_class_idx, 1], 'go', label='Class 3')\n",
    "axs[1].legend(loc=\"upper left\")\n",
    "axs[1].set_title(\"Original Data\")\n",
    "\n",
    "plt.show()"
   ]
  },
  {
   "cell_type": "markdown",
   "metadata": {},
   "source": [
    "---"
   ]
  },
  {
   "cell_type": "markdown",
   "metadata": {},
   "source": [
    "## 1.8: Dataset and Dataloader"
   ]
  },
  {
   "cell_type": "markdown",
   "metadata": {},
   "source": [
    "Earlier we've managed with hand-crafted and/or toy datasets in our examples. Though, nowadays it's pretty common to deal with large datasets (in the order of millions of examples, hundreds or thousands of features and classes). In this scenario, even with state-of-the-art hardware it's recommended to save memory, paralellize computation, and make efficient use of resources. Given that, it'd be nice to come up with an implementation to ease the process of loading larger datasets. That's exactly what Pytorch's Dataset and DataLoader classes are made for.\n",
    "\n",
    "First, let's create a subclass of Dataset for the Wine Quality dataset (which is in './data/winequality-red.csv' directory, in case you want to take a look). To do so, we need three methods: (i) initialization, (ii) a getter to fetch samples by its index, and (iii) a method to return the number of samples (dataset length):"
   ]
  },
  {
   "cell_type": "code",
   "execution_count": 27,
   "metadata": {},
   "outputs": [],
   "source": [
    "class WineDataset(Dataset):\n",
    "\n",
    "    def __init__(self, file_path):\n",
    "        dataset = np.loadtxt(file_path, delimiter=\",\", dtype=np.float32, skiprows=1)\n",
    "        self.X = torch.from_numpy(dataset[:, 1:])\n",
    "        self.y = torch.from_numpy(dataset[:, 0]).view(self.X.shape[0], 1) # We want to have a label column vector\n",
    "        self.n_samples = self.X.shape[0]\n",
    "\n",
    "    def __getitem__(self, index):\n",
    "        return self.X[index], self.y[index]\n",
    "\n",
    "    def __len__(self):\n",
    "        return self.n_samples"
   ]
  },
  {
   "cell_type": "code",
   "execution_count": 28,
   "metadata": {},
   "outputs": [],
   "source": [
    "path = './data/winequality-red.csv'\n",
    "wine_dataset = WineDataset(path)"
   ]
  },
  {
   "cell_type": "markdown",
   "metadata": {},
   "source": [
    "Afterward, we can use Pytorch's DataLoader class in order to efficiently load our dataset object aiming to optimize our model's training. In this case, we'll exploit mini-batch technique."
   ]
  },
  {
   "cell_type": "markdown",
   "metadata": {},
   "source": [
    "[Quick reminder] Here is an explanation of some of the concepts used below:\n",
    "\n",
    "* **Epoch**: Number of times training on the entire dataset\n",
    "* **Iteration or Batch**: Number of batchs/forward and backward passes (optimization is done in each batch instead of the entire data)\n",
    "* **Batch Size**: Number of samples in each batch\n",
    "\n",
    "For instace, given a dataset of 1600 samples, if the batch size is 4, then the number of batchs is 400 ($\\dfrac{1600}{4}$ = 400). \n",
    "\n",
    "The image below illustrates a dataset divided in 4 batchs. On this example, each epoch we are training (forward, backward passing, and updating parameters) on each batch, running through all the dataset in this way, but using just an amount of computing power and memory, since it's only allocated a batch per step of training."
   ]
  },
  {
   "cell_type": "code",
   "execution_count": 29,
   "metadata": {},
   "outputs": [
    {
     "data": {
      "image/png": "[encoded data removed]",
      "text/plain": [
       "<IPython.core.display.Image object>"
      ]
     },
     "execution_count": 29,
     "metadata": {},
     "output_type": "execute_result"
    }
   ],
   "source": [
    "Image(filename=\"assets/images/mini-batch.png\")"
   ]
  },
  {
   "cell_type": "code",
   "execution_count": 30,
   "metadata": {},
   "outputs": [],
   "source": [
    "# It's choosen a batch size (i.e., numbers of samples per batch) of 4, and separate this process in 2 (number of workers = 2)\n",
    "wine_dataloader = DataLoader(dataset=wine_dataset, batch_size=4, shuffle=True, num_workers=2)"
   ]
  },
  {
   "cell_type": "code",
   "execution_count": 31,
   "metadata": {},
   "outputs": [
    {
     "name": "stdout",
     "output_type": "stream",
     "text": [
      "Epoch 1/2 | Batch  50/400 | Batch shape torch.Size([4, 11])\n",
      "Epoch 1/2 | Batch 100/400 | Batch shape torch.Size([4, 11])\n",
      "Epoch 1/2 | Batch 150/400 | Batch shape torch.Size([4, 11])\n",
      "Epoch 1/2 | Batch 200/400 | Batch shape torch.Size([4, 11])\n",
      "Epoch 1/2 | Batch 250/400 | Batch shape torch.Size([4, 11])\n",
      "Epoch 1/2 | Batch 300/400 | Batch shape torch.Size([4, 11])\n",
      "Epoch 1/2 | Batch 350/400 | Batch shape torch.Size([4, 11])\n",
      "Epoch 1/2 | Batch 400/400 | Batch shape torch.Size([3, 11])\n",
      "Epoch 2/2 | Batch  50/400 | Batch shape torch.Size([4, 11])\n",
      "Epoch 2/2 | Batch 100/400 | Batch shape torch.Size([4, 11])\n",
      "Epoch 2/2 | Batch 150/400 | Batch shape torch.Size([4, 11])\n",
      "Epoch 2/2 | Batch 200/400 | Batch shape torch.Size([4, 11])\n",
      "Epoch 2/2 | Batch 250/400 | Batch shape torch.Size([4, 11])\n",
      "Epoch 2/2 | Batch 300/400 | Batch shape torch.Size([4, 11])\n",
      "Epoch 2/2 | Batch 350/400 | Batch shape torch.Size([4, 11])\n",
      "Epoch 2/2 | Batch 400/400 | Batch shape torch.Size([3, 11])\n"
     ]
    }
   ],
   "source": [
    "n_epochs = 2\n",
    "n_samples = len(wine_dataset)\n",
    "n_iters = len(wine_dataloader)\n",
    "\n",
    "for epoch in range(n_epochs):\n",
    "    for i, (X, y) in enumerate(wine_dataloader):\n",
    "        if (i+1) % 50 == 0:\n",
    "            print(\n",
    "                r'Epoch {epoch}/{n_epochs} | Batch {i:3}/{n_iters:} | Batch shape {X_shape}'.format(\n",
    "                    epoch=epoch+1, i=i+1,                                                                      \n",
    "                    n_epochs=n_epochs, n_iters=n_iters,                                                                                \n",
    "                    X_shape=X.shape)\n",
    "            )"
   ]
  },
  {
   "cell_type": "markdown",
   "metadata": {},
   "source": [
    "---"
   ]
  },
  {
   "cell_type": "markdown",
   "metadata": {},
   "source": [
    "## 1.9: Dataset Transforms"
   ]
  },
  {
   "cell_type": "markdown",
   "metadata": {},
   "source": [
    "Transforms are built-in transformations applied to datasets, wheter its datatype is a tensor, a ndarray or a PIL image.\n",
    "\n",
    "A few examples of transformations are:\n",
    "\n",
    "    Images\n",
    "    -------\n",
    "    Pad, CenterCrop, GrayScale, RandomAffine, Resize, Scale.\n",
    "\n",
    "    Tensors\n",
    "    -------\n",
    "    LinearTransformation, Normalize, RandomErasing\n",
    "\n",
    "    Conversions\n",
    "    -----------\n",
    "    ToPILImage: tensor -> ndarray\n",
    "    ToTensor:   ndarray -> tensor\n",
    "\n",
    "    Generic\n",
    "    -------\n",
    "    Lambda function\n",
    "\n",
    "    Custom\n",
    "    ------\n",
    "    Write your own class\n",
    "\n",
    "    Compose\n",
    "    -------\n",
    "    Design a list of transformations:\n",
    "        composed = torchvision.transforms.Compose(\n",
    "            [Rescale(256),\n",
    "            RandomCrop(128)]\n",
    "        )\n",
    "\n",
    "For more details, a complete list of all built-in transform functions is available at: https://pytorch.org/vision/stable/transforms.html"
   ]
  },
  {
   "cell_type": "markdown",
   "metadata": {},
   "source": [
    "Let's use our own custom class dataset implemented before in order to make two transformations:\n",
    "\n",
    "1. Transform from ndarray to tensor\n",
    "2. Exponentiate our data"
   ]
  },
  {
   "cell_type": "code",
   "execution_count": 32,
   "metadata": {},
   "outputs": [],
   "source": [
    "# Custom WineDataset class\n",
    "class WineDataset(Dataset):\n",
    "\n",
    "    def __init__(self, file_path, transform):\n",
    "        dataset = np.loadtxt(file_path, delimiter=\",\", dtype=np.float32, skiprows=1)\n",
    "        self.X = dataset[:, 1:]\n",
    "        self.y = dataset[:, [0]]\n",
    "        self.n_samples = self.X.shape[0]\n",
    "        self.transform = transform\n",
    "\n",
    "    def __getitem__(self, index):\n",
    "        sample = self.X[index], self.y[index]\n",
    "\n",
    "        if self.transform:\n",
    "            sample = self.transform(sample)\n",
    "\n",
    "        return sample\n",
    "\n",
    "    def __len__(self):\n",
    "        return self.n_samples"
   ]
  },
  {
   "cell_type": "code",
   "execution_count": 33,
   "metadata": {},
   "outputs": [],
   "source": [
    "# Transform classes\n",
    "\n",
    "class ToTensor:\n",
    "    ''' \n",
    "    Transform ndarray data into tensor\n",
    "    '''\n",
    "\n",
    "    def __call__(self, sample):\n",
    "        inputs, labels = sample\n",
    "        sample = torch.from_numpy(inputs), torch.from_numpy(labels) \n",
    "\n",
    "        return sample\n",
    "\n",
    "class PowTransform:\n",
    "    ''' \n",
    "     Raise inputs to a power 'n'\n",
    "    '''\n",
    "\n",
    "    def __init__(self, n):\n",
    "        self.power = n\n",
    "\n",
    "    def __call__(self, sample):\n",
    "        inputs, labels = sample\n",
    "        sample = inputs.pow(self.power), labels\n",
    "\n",
    "        return sample"
   ]
  },
  {
   "cell_type": "code",
   "execution_count": 34,
   "metadata": {},
   "outputs": [],
   "source": [
    "path = './data/winequality-red.csv'\n",
    "composed = torchvision.transforms.Compose([ToTensor(), PowTransform(2)])"
   ]
  },
  {
   "cell_type": "code",
   "execution_count": 35,
   "metadata": {},
   "outputs": [
    {
     "name": "stdout",
     "output_type": "stream",
     "text": [
      "<class 'numpy.ndarray'> <class 'numpy.ndarray'>\n",
      "[ 7.4     0.7     0.      1.9     0.076  11.     34.      0.9978  3.51\n",
      "  0.56    9.4   ]\n"
     ]
    }
   ],
   "source": [
    "# Without transformation\n",
    "wine_dataset = WineDataset(file_path=path, transform=None)\n",
    "\n",
    "first_data = wine_dataset[0]\n",
    "features, labels = first_data\n",
    "\n",
    "print(type(features), type(labels))\n",
    "print(features)"
   ]
  },
  {
   "cell_type": "code",
   "execution_count": 36,
   "metadata": {},
   "outputs": [
    {
     "name": "stdout",
     "output_type": "stream",
     "text": [
      "<class 'torch.Tensor'> <class 'torch.Tensor'>\n",
      "tensor([5.4760e+01, 4.9000e-01, 0.0000e+00, 3.6100e+00, 5.7760e-03, 1.2100e+02,\n",
      "        1.1560e+03, 9.9560e-01, 1.2320e+01, 3.1360e-01, 8.8360e+01])\n"
     ]
    }
   ],
   "source": [
    "# With transformation\n",
    "wine_dataset = WineDataset(file_path=path, transform=composed)\n",
    "\n",
    "first_data = wine_dataset[0]\n",
    "features, labels = first_data\n",
    "\n",
    "print(type(features), type(labels))\n",
    "print(features)"
   ]
  },
  {
   "cell_type": "markdown",
   "metadata": {},
   "source": [
    "---"
   ]
  },
  {
   "cell_type": "markdown",
   "metadata": {},
   "source": [
    "## 1.10: Softmax & Cross-Entropy"
   ]
  },
  {
   "cell_type": "markdown",
   "metadata": {},
   "source": [
    "Softmax and Cross-Entropy are two frequently used functions in the field and, in particular, in neural network models. Let's dive into the math and intuition behind these functions:"
   ]
  },
  {
   "cell_type": "markdown",
   "metadata": {},
   "source": [
    "### 1. Softmax"
   ]
  },
  {
   "cell_type": "markdown",
   "metadata": {},
   "source": [
    "Softmax formula is represented below:\n",
    "\n",
    "$$S(Y_i) = \\dfrac{e^{Y_i}}{\\sum_{j} e^{Y_j}}$$\n",
    "\n",
    "What this function does is normalize all $Y_i$ values to keep them between $[0,1]$. In other words, it transforms real values to probability values, making sure that it respects Kolmogorov axioms (Probability Theory axioms). In our case, we use it in order to pick up the class with the greatest probability in our model's prediction. As an example, take a look in the image below. In a 3-classes classification problem, for that particular fiction observation, our model would choose the first one (with almost $80\\%$ probability that this is observation's class)."
   ]
  },
  {
   "cell_type": "code",
   "execution_count": 37,
   "metadata": {},
   "outputs": [
    {
     "data": {
      "image/png": "[encoded data removed]",
      "text/plain": [
       "<IPython.core.display.Image object>"
      ]
     },
     "execution_count": 37,
     "metadata": {},
     "output_type": "execute_result"
    }
   ],
   "source": [
    "Image(filename=\"assets/images/softmax_ex.png\")"
   ]
  },
  {
   "cell_type": "markdown",
   "metadata": {},
   "source": [
    "As we've done before, let's implement Softmax function in two ways: (i) from scratch; (ii) with Pytorch."
   ]
  },
  {
   "cell_type": "code",
   "execution_count": 38,
   "metadata": {},
   "outputs": [
    {
     "name": "stdout",
     "output_type": "stream",
     "text": [
      "Probabilities: [0.79 0.02 0.19] (as expected!)\n"
     ]
    }
   ],
   "source": [
    "# Softmax function from scratch\n",
    "def softmax(logits):\n",
    "    return np.exp(logits)/np.sum(np.exp(logits))\n",
    "\n",
    "logits = np.array([4, 0.1, 2.6])\n",
    "y_hat = softmax(logits)\n",
    "\n",
    "print('Probabilities:', np.round(y_hat, 2), '(as expected!)')"
   ]
  },
  {
   "cell_type": "code",
   "execution_count": 39,
   "metadata": {},
   "outputs": [
    {
     "name": "stdout",
     "output_type": "stream",
     "text": [
      "Probabilities: [0.79 0.02 0.19] (as expected!)\n"
     ]
    }
   ],
   "source": [
    "# Softmax function with Pytorch\n",
    "logits = torch.tensor([4, 0.1, 2.6])\n",
    "y_hat = torch.softmax(logits, dim=0)\n",
    "\n",
    "print('Probabilities:', np.round(y_hat.numpy(), 2), '(as expected!)')"
   ]
  },
  {
   "cell_type": "markdown",
   "metadata": {},
   "source": [
    "### 2. Cross-Entropy"
   ]
  },
  {
   "cell_type": "markdown",
   "metadata": {},
   "source": [
    "As stated above, Cross-Entropy is another famous function used in the field. In this case, it's used as the loss function which we want to optimize in classification problems. Its formula is represented below:\n",
    "\n",
    "$$H(\\hat{Y}, Y) = -\\dfrac{1}{N}\\sum_{i}^{N}Y_{i}log(\\hat{Y_{i}})$$\n",
    "\n",
    "Cross-Entropy is a measure of the difference between two probability distributions of two random variables (or functions). Intuitively, if the probability distribution of our model's prediction is similar to that of the real label, them cross-entropy will have a small value. Otherwise, i.e. the two probability distributions are different, cross-entropy is high. Examples are shown below:\n",
    "\n",
    "1)\n",
    "$\n",
    "{Y = [1, 0, 0] \\\\ \\hat{Y_{1}} = [0.79, 0.02, 0.19]} H_{1}(\\hat{Y_{1}}, Y) = 0.24\n",
    "$\n",
    "\n",
    "2)\n",
    "$\n",
    "{Y = [1, 0, 0] \\\\ \\hat{Y_{2}} = [0.19, 0.02, 0.79]} H_{2}(\\hat{Y_{2}}, Y) = 1.66\n",
    "$\n",
    "\n",
    "**Obs. (1):** To compute cross-entropy, labels must be one-hot encoded (just like it is in the example) and predictions must be probabilities (i.e., it must be transformed by softmax).\n",
    "\n",
    "**Obs. (2):** Pytorch's Cross-Entropy interface (_torch.nn.CrossEntropyLoss()_) ease things a little bit. Our label vector doesn't need to be one-hot encoded, so label values are just the class value. Also, it internally applies softmax to the prediction vector. Thus we need to pass the logits vector. This observation is **paramount** because when we start coding our neural networks in the future we'll need to remind that Pytorch's Cross-Entropy Loss already pass results in a Softmax layer, therefore we don't need to add this layer again. Nonetheless, in the case the intended task is a binary classification, Pytorch's Binary Cross-Entropy Loss (_torch.nn.BCELoss()_) will require a Sigmoid function layer in the end of the neural network. Please keep that in mind!"
   ]
  },
  {
   "cell_type": "code",
   "execution_count": 40,
   "metadata": {},
   "outputs": [
    {
     "data": {
      "text/latex": [
       "$\\displaystyle H_1 = 0.24 \\ | \\ H_2 = 1.66 \\ (as \\ expected!)$"
      ],
      "text/plain": [
       "<IPython.core.display.Math object>"
      ]
     },
     "metadata": {},
     "output_type": "display_data"
    }
   ],
   "source": [
    "# Cross-Entropy function from scratch\n",
    "def cross_entropy(y, y_hat):\n",
    "    N = 1\n",
    "    return -np.sum(y*np.log(y_hat))/N\n",
    "\n",
    "y = np.array([1, 0, 0])\n",
    "y_hat_1 = np.array([0.79, 0.02, 0.19])\n",
    "y_hat_2 = np.array([0.19, 0.02, 0.79])\n",
    "\n",
    "CE_1 = cross_entropy(y, y_hat_1)\n",
    "CE_2 = cross_entropy(y, y_hat_2)\n",
    "\n",
    "display(Math(r'H_1 = {ce_1:.2f} \\ | \\ H_2 = {ce_2:.2f} \\ (as \\ expected!)'.format(ce_1=CE_1, ce_2=CE_2)))"
   ]
  },
  {
   "cell_type": "code",
   "execution_count": 41,
   "metadata": {},
   "outputs": [
    {
     "data": {
      "text/latex": [
       "$\\displaystyle H_1 = 0.24 \\ | \\ H_2 = 1.64 \\ (as \\ expected!)$"
      ],
      "text/plain": [
       "<IPython.core.display.Math object>"
      ]
     },
     "metadata": {},
     "output_type": "display_data"
    }
   ],
   "source": [
    "# Cross-Entropy function with Pytorch\n",
    "y = torch.tensor([0]) # Only one label in a 3-classes classification problem.\n",
    "y_hat_1 = torch.tensor([[4, 0.1, 2.6]])\n",
    "y_hat_2 = torch.tensor([[2.6, 0.1, 4]])\n",
    "\n",
    "loss = nn.CrossEntropyLoss()\n",
    "CE_1 = loss(y_hat_1, y)\n",
    "CE_2 = loss(y_hat_2, y)\n",
    "\n",
    "display(Math(r'H_1 = {ce_1:.2f} \\ | \\ H_2 = {ce_2:.2f} \\ (as \\ expected!)'.format(ce_1=CE_1, ce_2=CE_2)))"
   ]
  },
  {
   "cell_type": "markdown",
   "metadata": {},
   "source": [
    "---"
   ]
  },
  {
   "cell_type": "markdown",
   "metadata": {},
   "source": [
    "## 1.11: Activation Functions"
   ]
  },
  {
   "cell_type": "markdown",
   "metadata": {},
   "source": [
    "Activation functions are important features of neural networks because they allow them to **model non-linear relations** present in the data. An analogy often used is that of the all-or-none principle that control our nerve cells' response given a stimulus and the intuition behind activation functions on artificial neural networks (yet, this comparison is quite questionable).\n",
    "\n",
    "Next, we're going to see some of the activation functions implemented in Pytorch and their idiosyncrasies:"
   ]
  },
  {
   "cell_type": "markdown",
   "metadata": {},
   "source": [
    "### 1. Step Function"
   ]
  },
  {
   "cell_type": "markdown",
   "metadata": {},
   "source": [
    "This is the most simple activation function. It's described as follows:\n",
    "\n",
    "$$f(x) = \\left\\{\n",
    "\\begin{array}{ll}\n",
    "    1,  & x \\geq a \\\\\n",
    "    0,  & x < a\\\\\n",
    "\\end{array}\n",
    "\\right.\n",
    "$$\n",
    "\n",
    "That means whenever the neuron value is greater than a value ($a$, in this case), then it activates.\n",
    "\n",
    "**Obs.:** This function is hardly ever used.\n",
    "\n",
    "Below, it's a graphic representation of that function:"
   ]
  },
  {
   "cell_type": "code",
   "execution_count": 42,
   "metadata": {},
   "outputs": [
    {
     "data": {
      "image/png": "[encoded data removed]",
      "text/plain": [
       "<Figure size 576x576 with 1 Axes>"
      ]
     },
     "metadata": {
      "needs_background": "light"
     },
     "output_type": "display_data"
    }
   ],
   "source": [
    "X = np.linspace(-2, 4, 1000, dtype=np.float64)\n",
    "X = torch.from_numpy(X)\n",
    "inputs = X\n",
    "values = torch.tensor([1], dtype=torch.float64)\n",
    "\n",
    "a = 1\n",
    "step = torch.heaviside(inputs-a, values) # Pytorch's step function\n",
    "step = step.numpy()\n",
    "\n",
    "fig, axs = plt.subplots(1, 1, figsize=(8,8))\n",
    "axs.plot(inputs, step, 'b-', label=\"Step\")\n",
    "axs.legend(loc=\"upper left\")\n",
    "axs.set_ylim([-2, 3])\n",
    "plt.grid()\n",
    "plt.show()"
   ]
  },
  {
   "cell_type": "markdown",
   "metadata": {},
   "source": [
    "### 2. Logistic"
   ]
  },
  {
   "cell_type": "markdown",
   "metadata": {},
   "source": [
    "Logistic function, also kwon as sigmoid, is an activation function that outputs a probability value and is usually used in the last layer of a binary classification problem. It's formula is represented below:\n",
    "\n",
    "$$f(x) = \\dfrac{1}{1+e^{-x}}$$\n",
    "\n",
    "Graphically, logistic function is as follows:"
   ]
  },
  {
   "cell_type": "code",
   "execution_count": 43,
   "metadata": {},
   "outputs": [
    {
     "data": {
      "image/png": "[encoded data removed]",
      "text/plain": [
       "<Figure size 576x576 with 1 Axes>"
      ]
     },
     "metadata": {
      "needs_background": "light"
     },
     "output_type": "display_data"
    }
   ],
   "source": [
    "X = np.linspace(-15, 15, 1000, dtype=np.float64)\n",
    "X = torch.from_numpy(X)\n",
    "\n",
    "logistic = nn.Sigmoid() # Pytorch's logistic function (also known as just sigmoid)\n",
    "logits = logistic(X)\n",
    "logits = logits.numpy()\n",
    "\n",
    "fig, axs = plt.subplots(1, 1, figsize=(8,8))\n",
    "axs.plot(X, logits, 'b-', label=\"Logistic\")\n",
    "axs.legend(loc=\"upper left\")\n",
    "axs.set_xlim([-16, 16])\n",
    "plt.grid()\n",
    "plt.show()"
   ]
  },
  {
   "cell_type": "markdown",
   "metadata": {},
   "source": [
    "### 3. Tanh"
   ]
  },
  {
   "cell_type": "markdown",
   "metadata": {},
   "source": [
    "Tanh is another function from the sigmoid family. Nonetheless, instead of having its output value between $[0,1]$, it's scaled and shifted in order to be between $[-1,1]$. The formula and plot is represented below:\n",
    "\n",
    "$$f(x) = \\dfrac{2}{1 + e^{-2x}} - 1$$"
   ]
  },
  {
   "cell_type": "code",
   "execution_count": 44,
   "metadata": {},
   "outputs": [
    {
     "data": {
      "image/png": "[encoded data removed]",
      "text/plain": [
       "<Figure size 576x576 with 1 Axes>"
      ]
     },
     "metadata": {
      "needs_background": "light"
     },
     "output_type": "display_data"
    }
   ],
   "source": [
    "X = np.linspace(-15, 15, 1000, dtype=np.float64)\n",
    "X = torch.from_numpy(X)\n",
    "\n",
    "sigmoid_tanh = nn.Tanh() # Pytorch's tanh function\n",
    "tanh = sigmoid_tanh(X)\n",
    "tanh = tanh.numpy()\n",
    "\n",
    "fig, axs = plt.subplots(1, 1, figsize=(8,8))\n",
    "axs.plot(X, tanh, 'b-', label=\"Tanh\")\n",
    "axs.legend(loc=\"upper left\")\n",
    "axs.set_xlim([-16, 16])\n",
    "plt.grid()\n",
    "plt.show()"
   ]
  },
  {
   "cell_type": "markdown",
   "metadata": {},
   "source": [
    "### 4. ReLU"
   ]
  },
  {
   "cell_type": "markdown",
   "metadata": {},
   "source": [
    "Probably the most popular activation function (and the best candidate if you're in doubt which one to use), ReLU outputs $0$ in the case input is **negative**, and is the idendity ($f(x) = x$) otherwise. ReLU formula is below:\n",
    "\n",
    "$$f(x) = max(0, x)$$\n",
    "\n",
    "Next, it's presented ReLU graphically:"
   ]
  },
  {
   "cell_type": "code",
   "execution_count": 45,
   "metadata": {},
   "outputs": [
    {
     "data": {
      "image/png": "[encoded data removed]",
      "text/plain": [
       "<Figure size 576x576 with 1 Axes>"
      ]
     },
     "metadata": {
      "needs_background": "light"
     },
     "output_type": "display_data"
    }
   ],
   "source": [
    "X = np.linspace(-15, 15, 1000, dtype=np.float64)\n",
    "X = torch.from_numpy(X)\n",
    "\n",
    "relu_func = nn.ReLU() # Pytorch's ReLU function\n",
    "relu = relu_func(X)\n",
    "relu = relu.numpy()\n",
    "\n",
    "fig, axs = plt.subplots(1, 1, figsize=(8,8))\n",
    "axs.plot(X, relu, 'b-', label=\"ReLU\")\n",
    "axs.legend(loc=\"upper left\")\n",
    "axs.set_xlim([-16, 16])\n",
    "plt.grid()\n",
    "plt.show()"
   ]
  },
  {
   "cell_type": "markdown",
   "metadata": {},
   "source": [
    "### 5. Leaky ReLU"
   ]
  },
  {
   "cell_type": "markdown",
   "metadata": {},
   "source": [
    "Leaky ReLU is a variation of ReLU function, but it's not $0$ for negative input values. What this function seeks to improve is what is called vanishing gradient problem, which is the result of a null gradient value, due to null activation. To addres this problem, it's used a small term ($\\alpha$) (in the order of $0.01$) for negative input values, and so the gradient does not vanish. Leaky ReLU formula and its plot is as follows:\n",
    "\n",
    "$$f(x) = \\left\\{\n",
    "\\begin{array}{ll}\n",
    "    x,  & x \\geq 0 \\\\\n",
    "    {\\alpha}x,  & x < 0\\\\\n",
    "\\end{array}\n",
    "\\right.\n",
    "$$"
   ]
  },
  {
   "cell_type": "code",
   "execution_count": 46,
   "metadata": {},
   "outputs": [
    {
     "data": {
      "image/png": "[encoded data removed]",
      "text/plain": [
       "<Figure size 576x576 with 1 Axes>"
      ]
     },
     "metadata": {
      "needs_background": "light"
     },
     "output_type": "display_data"
    }
   ],
   "source": [
    "X = np.linspace(-15, 15, 1000, dtype=np.float64)\n",
    "X = torch.from_numpy(X)\n",
    "\n",
    "leaky_relu_func = nn.LeakyReLU(negative_slope=0.02) # Pytorch's LeakyReLU function\n",
    "leaky_relu = leaky_relu_func(X)\n",
    "leaky_relu = leaky_relu.numpy()\n",
    "\n",
    "fig, axs = plt.subplots(1, 1, figsize=(8,8))\n",
    "axs.plot(X, leaky_relu, 'b-', label=\"Leaky ReLU\")\n",
    "axs.legend(loc=\"upper left\")\n",
    "axs.set_xlim([-16, 16])\n",
    "plt.grid()\n",
    "plt.show()"
   ]
  },
  {
   "cell_type": "markdown",
   "metadata": {},
   "source": [
    "### 6. Softmax"
   ]
  },
  {
   "cell_type": "markdown",
   "metadata": {},
   "source": [
    "Softmax formula is represented below:\n",
    "\n",
    "$$S(Y_i) = \\dfrac{e^{Y_i}}{\\sum_{j} e^{Y_j}}$$\n",
    "\n",
    "What this function does is normalize all $Y_i$ values to keep them between $[0,1]$. In other words, it transforms real values to probability values, making sure that it respects Kolmogorov axioms (Probability Theory axioms). In our case, we use it in order to pick up the class with the greatest probability in our model's prediction. As an example, take a look in the image below. In a 3-classes classification problem, for that particular fiction observation, our model would choose the first one (with almost $80\\%$ probability that this is observation's class)."
   ]
  },
  {
   "cell_type": "code",
   "execution_count": 47,
   "metadata": {},
   "outputs": [
    {
     "data": {
      "image/png": "[encoded data removed]",
      "text/plain": [
       "<IPython.core.display.Image object>"
      ]
     },
     "execution_count": 47,
     "metadata": {},
     "output_type": "execute_result"
    }
   ],
   "source": [
    "Image(filename=\"assets/images/softmax_ex.png\")"
   ]
  },
  {
   "cell_type": "code",
   "execution_count": 48,
   "metadata": {},
   "outputs": [
    {
     "name": "stdout",
     "output_type": "stream",
     "text": [
      "Probabilities: [0.79 0.02 0.19] (as expected!)\n"
     ]
    }
   ],
   "source": [
    "logits = torch.tensor([4, 0.1, 2.6])\n",
    "y_hat = torch.softmax(logits, dim=0) # Pytorch's softmax function\n",
    "\n",
    "print('Probabilities:', np.round(y_hat.numpy(), 2), '(as expected!)')"
   ]
  },
  {
   "cell_type": "markdown",
   "metadata": {},
   "source": [
    "---"
   ]
  },
  {
   "cell_type": "markdown",
   "metadata": {},
   "source": [
    "## 1.12: Feedforward Neural Networks"
   ]
  },
  {
   "cell_type": "markdown",
   "metadata": {},
   "source": []
  },
  {
   "cell_type": "code",
   "execution_count": 49,
   "metadata": {},
   "outputs": [],
   "source": [
    "class NeuralNet(nn.Module):\n",
    "\n",
    "    def __init__(self, in_units, hid_units, hid_layers, out_units):\n",
    "        super().__init__()\n",
    "        self.num_in_units = in_units\n",
    "        self.num_hid_layers = hid_layers\n",
    "\n",
    "        self.hidden_layers = [nn.Linear(in_features=in_units, out_features=hid_units)]\n",
    "        self.act_functions = [nn.ReLU()]\n",
    "\n",
    "        for l in range(1, hid_layers):\n",
    "            self.hidden_layers.append(nn.Linear(in_features=hid_units, out_features=hid_units))\n",
    "            self.act_functions.append(nn.ReLU())\n",
    "\n",
    "        self.output_layer = nn.Linear(in_features=hid_units, out_features=out_units)\n",
    "\n",
    "    def forward(self, x):\n",
    "        x = x.view(-1, self.num_in_units)\n",
    "        out = self.hidden_layers[0](x)\n",
    "        out = self.act_functions[0](out)\n",
    "\n",
    "        for l in range(1, self.num_hid_layers):\n",
    "            out = self.hidden_layers[l](out)\n",
    "            out = self.act_functions[l](out)\n",
    "\n",
    "        prediction = self.output_layer(out)\n",
    "\n",
    "        return prediction"
   ]
  },
  {
   "cell_type": "code",
   "execution_count": null,
   "metadata": {},
   "outputs": [],
   "source": [
    "# Define hyperparameters\n",
    "lr=0.001\n",
    "num_epochs=10\n",
    "batch_size = 64\n",
    "torch.manual_seed(42)\n",
    "\n",
    "# Loading and transforming data\n",
    "composed = torchvision.transforms.Compose([torchvision.transforms.ToTensor(), torchvision.transforms.Normalize([0.1307], [0.3081])])\n",
    "# composed = torchvision.transforms.Compose([torchvision.transforms.ToTensor()])\n",
    "mnist_train_dataset = torchvision.datasets.MNIST(root='./data', train=True, download=True, transform=composed)\n",
    "train_dataloader = DataLoader(dataset=mnist_train_dataset, batch_size=batch_size, shuffle=True)\n",
    "\n",
    "mnist_test_dataset = torchvision.datasets.MNIST(root='./data', train=False, download=True, transform=composed)\n",
    "test_dataloader = DataLoader(dataset=mnist_test_dataset, batch_size=batch_size, shuffle=True)"
   ]
  },
  {
   "cell_type": "code",
   "execution_count": 51,
   "metadata": {},
   "outputs": [
    {
     "data": {
      "image/png": "[encoded data removed]",
      "text/plain": [
       "<Figure size 432x288 with 6 Axes>"
      ]
     },
     "metadata": {},
     "output_type": "display_data"
    }
   ],
   "source": [
    "examples = enumerate(train_dataloader)\n",
    "batch_idx, (example_features, example_targets) = next(examples)\n",
    "\n",
    "fig = plt.figure()\n",
    "\n",
    "for i in range(6):\n",
    "    plt.subplot(2, 3, i+1)\n",
    "    plt.tight_layout()\n",
    "    plt.imshow(example_features[i][0], cmap='gray')\n",
    "    plt.title(r'Ground Truth: {label}'.format(label=example_targets[i]))\n",
    "    plt.xticks([])\n",
    "    plt.yticks([])\n",
    "fig.show()"
   ]
  },
  {
   "cell_type": "code",
   "execution_count": 52,
   "metadata": {
    "scrolled": true
   },
   "outputs": [
    {
     "name": "stderr",
     "output_type": "stream",
     "text": [
      "/home/caio/miniconda3/envs/GNENV/lib/python3.7/site-packages/torchvision/datasets/mnist.py:62: UserWarning: train_data has been renamed data\n",
      "  warnings.warn(\"train_data has been renamed data\")\n"
     ]
    },
    {
     "name": "stdout",
     "output_type": "stream",
     "text": [
      "Train Epoch 1 [    0/60000 ( 0%)] | Loss: 2.311711311340332\n",
      "Train Epoch 1 [  640/60000 ( 1%)] | Loss: 2.2749290466308594\n",
      "Train Epoch 1 [ 1280/60000 ( 2%)] | Loss: 2.2491490840911865\n",
      "Train Epoch 1 [ 1920/60000 ( 3%)] | Loss: 2.2630879878997803\n",
      "Train Epoch 1 [ 2560/60000 ( 4%)] | Loss: 2.216179132461548\n",
      "Train Epoch 1 [ 3200/60000 ( 5%)] | Loss: 2.2108724117279053\n",
      "Train Epoch 1 [ 3840/60000 ( 6%)] | Loss: 2.181013584136963\n",
      "Train Epoch 1 [ 4480/60000 ( 7%)] | Loss: 2.145498037338257\n",
      "Train Epoch 1 [ 5120/60000 ( 9%)] | Loss: 2.129136562347412\n",
      "Train Epoch 1 [ 5760/60000 (10%)] | Loss: 2.1076879501342773\n",
      "Train Epoch 1 [ 6400/60000 (11%)] | Loss: 2.1037516593933105\n",
      "Train Epoch 1 [ 7040/60000 (12%)] | Loss: 2.0438315868377686\n",
      "Train Epoch 1 [ 7680/60000 (13%)] | Loss: 2.0545883178710938\n",
      "Train Epoch 1 [ 8320/60000 (14%)] | Loss: 2.053534984588623\n",
      "Train Epoch 1 [ 8960/60000 (15%)] | Loss: 1.9853512048721313\n",
      "Train Epoch 1 [ 9600/60000 (16%)] | Loss: 2.0020673274993896\n",
      "Train Epoch 1 [10240/60000 (17%)] | Loss: 1.9541701078414917\n",
      "Train Epoch 1 [10880/60000 (18%)] | Loss: 1.9601672887802124\n",
      "Train Epoch 1 [11520/60000 (19%)] | Loss: 1.9284257888793945\n",
      "Train Epoch 1 [12160/60000 (20%)] | Loss: 1.9731340408325195\n",
      "Train Epoch 1 [12800/60000 (21%)] | Loss: 1.9249855279922485\n",
      "Train Epoch 1 [13440/60000 (22%)] | Loss: 1.926218032836914\n",
      "Train Epoch 1 [14080/60000 (23%)] | Loss: 1.838710069656372\n",
      "Train Epoch 1 [14720/60000 (25%)] | Loss: 1.8563392162322998\n",
      "Train Epoch 1 [15360/60000 (26%)] | Loss: 1.8052306175231934\n",
      "Train Epoch 1 [16000/60000 (27%)] | Loss: 1.8618638515472412\n",
      "Train Epoch 1 [16640/60000 (28%)] | Loss: 1.7705937623977661\n",
      "Train Epoch 1 [17280/60000 (29%)] | Loss: 1.838937520980835\n",
      "Train Epoch 1 [17920/60000 (30%)] | Loss: 1.7982172966003418\n",
      "Train Epoch 1 [18560/60000 (31%)] | Loss: 1.7479159832000732\n",
      "Train Epoch 1 [19200/60000 (32%)] | Loss: 1.7405482530593872\n",
      "Train Epoch 1 [19840/60000 (33%)] | Loss: 1.7698971033096313\n",
      "Train Epoch 1 [20480/60000 (34%)] | Loss: 1.7029759883880615\n",
      "Train Epoch 1 [21120/60000 (35%)] | Loss: 1.6923023462295532\n",
      "Train Epoch 1 [21760/60000 (36%)] | Loss: 1.6175175905227661\n",
      "Train Epoch 1 [22400/60000 (37%)] | Loss: 1.7170054912567139\n",
      "Train Epoch 1 [23040/60000 (38%)] | Loss: 1.6182503700256348\n",
      "Train Epoch 1 [23680/60000 (39%)] | Loss: 1.6747446060180664\n",
      "Train Epoch 1 [24320/60000 (41%)] | Loss: 1.6481550931930542\n",
      "Train Epoch 1 [24960/60000 (42%)] | Loss: 1.5469001531600952\n",
      "Train Epoch 1 [25600/60000 (43%)] | Loss: 1.702877402305603\n",
      "Train Epoch 1 [26240/60000 (44%)] | Loss: 1.606301188468933\n",
      "Train Epoch 1 [26880/60000 (45%)] | Loss: 1.5883731842041016\n",
      "Train Epoch 1 [27520/60000 (46%)] | Loss: 1.5405924320220947\n",
      "Train Epoch 1 [28160/60000 (47%)] | Loss: 1.5832635164260864\n",
      "Train Epoch 1 [28800/60000 (48%)] | Loss: 1.6374324560165405\n",
      "Train Epoch 1 [29440/60000 (49%)] | Loss: 1.5052518844604492\n",
      "Train Epoch 1 [30080/60000 (50%)] | Loss: 1.527644395828247\n",
      "Train Epoch 1 [30720/60000 (51%)] | Loss: 1.5001578330993652\n",
      "Train Epoch 1 [31360/60000 (52%)] | Loss: 1.4893548488616943\n",
      "Train Epoch 1 [32000/60000 (53%)] | Loss: 1.5101540088653564\n",
      "Train Epoch 1 [32640/60000 (54%)] | Loss: 1.4810396432876587\n",
      "Train Epoch 1 [33280/60000 (55%)] | Loss: 1.5301657915115356\n",
      "Train Epoch 1 [33920/60000 (57%)] | Loss: 1.4542627334594727\n",
      "Train Epoch 1 [34560/60000 (58%)] | Loss: 1.4610199928283691\n",
      "Train Epoch 1 [35200/60000 (59%)] | Loss: 1.3763525485992432\n",
      "Train Epoch 1 [35840/60000 (60%)] | Loss: 1.6107239723205566\n",
      "Train Epoch 1 [36480/60000 (61%)] | Loss: 1.3947594165802002\n",
      "Train Epoch 1 [37120/60000 (62%)] | Loss: 1.3998295068740845\n",
      "Train Epoch 1 [37760/60000 (63%)] | Loss: 1.528331995010376\n",
      "Train Epoch 1 [38400/60000 (64%)] | Loss: 1.3367702960968018\n",
      "Train Epoch 1 [39040/60000 (65%)] | Loss: 1.3464233875274658\n",
      "Train Epoch 1 [39680/60000 (66%)] | Loss: 1.4183443784713745\n",
      "Train Epoch 1 [40320/60000 (67%)] | Loss: 1.377665638923645\n",
      "Train Epoch 1 [40960/60000 (68%)] | Loss: 1.3857834339141846\n",
      "Train Epoch 1 [41600/60000 (69%)] | Loss: 1.4019190073013306\n",
      "Train Epoch 1 [42240/60000 (70%)] | Loss: 1.3721203804016113\n",
      "Train Epoch 1 [42880/60000 (71%)] | Loss: 1.3624616861343384\n",
      "Train Epoch 1 [43520/60000 (72%)] | Loss: 1.2945060729980469\n",
      "Train Epoch 1 [44160/60000 (74%)] | Loss: 1.3708254098892212\n",
      "Train Epoch 1 [44800/60000 (75%)] | Loss: 1.3071650266647339\n",
      "Train Epoch 1 [45440/60000 (76%)] | Loss: 1.2999249696731567\n",
      "Train Epoch 1 [46080/60000 (77%)] | Loss: 1.2946053743362427\n",
      "Train Epoch 1 [46720/60000 (78%)] | Loss: 1.3616997003555298\n",
      "Train Epoch 1 [47360/60000 (79%)] | Loss: 1.3752537965774536\n",
      "Train Epoch 1 [48000/60000 (80%)] | Loss: 1.3795076608657837\n",
      "Train Epoch 1 [48640/60000 (81%)] | Loss: 1.3435275554656982\n",
      "Train Epoch 1 [49280/60000 (82%)] | Loss: 1.3446838855743408\n",
      "Train Epoch 1 [49920/60000 (83%)] | Loss: 1.215716004371643\n",
      "Train Epoch 1 [50560/60000 (84%)] | Loss: 1.3382059335708618\n",
      "Train Epoch 1 [51200/60000 (85%)] | Loss: 1.3777546882629395\n",
      "Train Epoch 1 [51840/60000 (86%)] | Loss: 1.2273950576782227\n",
      "Train Epoch 1 [52480/60000 (87%)] | Loss: 1.2467963695526123\n",
      "Train Epoch 1 [53120/60000 (88%)] | Loss: 1.1603974103927612\n",
      "Train Epoch 1 [53760/60000 (90%)] | Loss: 1.2929311990737915\n",
      "Train Epoch 1 [54400/60000 (91%)] | Loss: 1.2011576890945435\n",
      "Train Epoch 1 [55040/60000 (92%)] | Loss: 1.2829368114471436\n",
      "Train Epoch 1 [55680/60000 (93%)] | Loss: 1.234300136566162\n",
      "Train Epoch 1 [56320/60000 (94%)] | Loss: 1.2376930713653564\n",
      "Train Epoch 1 [56960/60000 (95%)] | Loss: 1.2422853708267212\n",
      "Train Epoch 1 [57600/60000 (96%)] | Loss: 1.1135156154632568\n",
      "Train Epoch 1 [58240/60000 (97%)] | Loss: 1.1320310831069946\n",
      "Train Epoch 1 [58880/60000 (98%)] | Loss: 1.1638844013214111\n",
      "Train Epoch 1 [59520/60000 (99%)] | Loss: 1.2271071672439575\n",
      "\n",
      "Train Acc.: [39280/60000 (65%)]\n",
      "Test Acc.: [ 7407/10000 (74%)]\n",
      "\n",
      "Train Epoch 2 [    0/60000 ( 0%)] | Loss: 1.1275542974472046\n",
      "Train Epoch 2 [  640/60000 ( 1%)] | Loss: 1.1591311693191528\n",
      "Train Epoch 2 [ 1280/60000 ( 2%)] | Loss: 1.159267783164978\n",
      "Train Epoch 2 [ 1920/60000 ( 3%)] | Loss: 1.1801048517227173\n",
      "Train Epoch 2 [ 2560/60000 ( 4%)] | Loss: 1.2495133876800537\n",
      "Train Epoch 2 [ 3200/60000 ( 5%)] | Loss: 1.2466585636138916\n",
      "Train Epoch 2 [ 3840/60000 ( 6%)] | Loss: 1.277941107749939\n",
      "Train Epoch 2 [ 4480/60000 ( 7%)] | Loss: 1.0647780895233154\n",
      "Train Epoch 2 [ 5120/60000 ( 9%)] | Loss: 1.2071082592010498\n",
      "Train Epoch 2 [ 5760/60000 (10%)] | Loss: 1.0625280141830444\n",
      "Train Epoch 2 [ 6400/60000 (11%)] | Loss: 1.2568894624710083\n",
      "Train Epoch 2 [ 7040/60000 (12%)] | Loss: 1.1747517585754395\n",
      "Train Epoch 2 [ 7680/60000 (13%)] | Loss: 1.1887747049331665\n",
      "Train Epoch 2 [ 8320/60000 (14%)] | Loss: 1.073814868927002\n",
      "Train Epoch 2 [ 8960/60000 (15%)] | Loss: 1.0805883407592773\n",
      "Train Epoch 2 [ 9600/60000 (16%)] | Loss: 1.0653125047683716\n",
      "Train Epoch 2 [10240/60000 (17%)] | Loss: 1.0522089004516602\n",
      "Train Epoch 2 [10880/60000 (18%)] | Loss: 1.2325433492660522\n",
      "Train Epoch 2 [11520/60000 (19%)] | Loss: 1.1641466617584229\n",
      "Train Epoch 2 [12160/60000 (20%)] | Loss: 1.1202630996704102\n",
      "Train Epoch 2 [12800/60000 (21%)] | Loss: 1.0509679317474365\n",
      "Train Epoch 2 [13440/60000 (22%)] | Loss: 1.18926203250885\n",
      "Train Epoch 2 [14080/60000 (23%)] | Loss: 1.0767698287963867\n",
      "Train Epoch 2 [14720/60000 (25%)] | Loss: 1.1316925287246704\n",
      "Train Epoch 2 [15360/60000 (26%)] | Loss: 1.1418852806091309\n",
      "Train Epoch 2 [16000/60000 (27%)] | Loss: 1.0952664613723755\n",
      "Train Epoch 2 [16640/60000 (28%)] | Loss: 1.0490041971206665\n",
      "Train Epoch 2 [17280/60000 (29%)] | Loss: 1.1602898836135864\n",
      "Train Epoch 2 [17920/60000 (30%)] | Loss: 1.1359972953796387\n",
      "Train Epoch 2 [18560/60000 (31%)] | Loss: 1.0306599140167236\n",
      "Train Epoch 2 [19200/60000 (32%)] | Loss: 1.1108624935150146\n",
      "Train Epoch 2 [19840/60000 (33%)] | Loss: 1.1168649196624756\n",
      "Train Epoch 2 [20480/60000 (34%)] | Loss: 1.0080190896987915\n",
      "Train Epoch 2 [21120/60000 (35%)] | Loss: 1.0672963857650757\n",
      "Train Epoch 2 [21760/60000 (36%)] | Loss: 0.9618314504623413\n",
      "Train Epoch 2 [22400/60000 (37%)] | Loss: 1.1677862405776978\n",
      "Train Epoch 2 [23040/60000 (38%)] | Loss: 1.1726739406585693\n",
      "Train Epoch 2 [23680/60000 (39%)] | Loss: 1.2412059307098389\n",
      "Train Epoch 2 [24320/60000 (41%)] | Loss: 1.016408085823059\n",
      "Train Epoch 2 [24960/60000 (42%)] | Loss: 0.9859827756881714\n",
      "Train Epoch 2 [25600/60000 (43%)] | Loss: 1.189827561378479\n",
      "Train Epoch 2 [26240/60000 (44%)] | Loss: 1.0752341747283936\n",
      "Train Epoch 2 [26880/60000 (45%)] | Loss: 1.1234458684921265\n",
      "Train Epoch 2 [27520/60000 (46%)] | Loss: 0.8986840844154358\n",
      "Train Epoch 2 [28160/60000 (47%)] | Loss: 0.9520465731620789\n",
      "Train Epoch 2 [28800/60000 (48%)] | Loss: 0.9271270036697388\n",
      "Train Epoch 2 [29440/60000 (49%)] | Loss: 1.036203384399414\n",
      "Train Epoch 2 [30080/60000 (50%)] | Loss: 1.0381104946136475\n",
      "Train Epoch 2 [30720/60000 (51%)] | Loss: 1.0534948110580444\n",
      "Train Epoch 2 [31360/60000 (52%)] | Loss: 1.0036346912384033\n",
      "Train Epoch 2 [32000/60000 (53%)] | Loss: 0.897175133228302\n",
      "Train Epoch 2 [32640/60000 (54%)] | Loss: 1.0220280885696411\n",
      "Train Epoch 2 [33280/60000 (55%)] | Loss: 0.8359223008155823\n",
      "Train Epoch 2 [33920/60000 (57%)] | Loss: 1.0168001651763916\n",
      "Train Epoch 2 [34560/60000 (58%)] | Loss: 1.1099146604537964\n",
      "Train Epoch 2 [35200/60000 (59%)] | Loss: 0.9963054656982422\n",
      "Train Epoch 2 [35840/60000 (60%)] | Loss: 1.056843638420105\n",
      "Train Epoch 2 [36480/60000 (61%)] | Loss: 0.9738297462463379\n",
      "Train Epoch 2 [37120/60000 (62%)] | Loss: 0.8775219917297363\n",
      "Train Epoch 2 [37760/60000 (63%)] | Loss: 1.0357428789138794\n",
      "Train Epoch 2 [38400/60000 (64%)] | Loss: 1.1038072109222412\n",
      "Train Epoch 2 [39040/60000 (65%)] | Loss: 0.9192724227905273\n",
      "Train Epoch 2 [39680/60000 (66%)] | Loss: 1.070443868637085\n",
      "Train Epoch 2 [40320/60000 (67%)] | Loss: 0.9469838738441467\n",
      "Train Epoch 2 [40960/60000 (68%)] | Loss: 0.9137950539588928\n",
      "Train Epoch 2 [41600/60000 (69%)] | Loss: 0.9105521440505981\n",
      "Train Epoch 2 [42240/60000 (70%)] | Loss: 0.96202152967453\n",
      "Train Epoch 2 [42880/60000 (71%)] | Loss: 1.0391665697097778\n",
      "Train Epoch 2 [43520/60000 (72%)] | Loss: 0.9699084758758545\n",
      "Train Epoch 2 [44160/60000 (74%)] | Loss: 1.1153351068496704\n",
      "Train Epoch 2 [44800/60000 (75%)] | Loss: 1.0658377408981323\n",
      "Train Epoch 2 [45440/60000 (76%)] | Loss: 1.157702922821045\n",
      "Train Epoch 2 [46080/60000 (77%)] | Loss: 1.0474430322647095\n",
      "Train Epoch 2 [46720/60000 (78%)] | Loss: 0.9136720299720764\n",
      "Train Epoch 2 [47360/60000 (79%)] | Loss: 0.8747234344482422\n",
      "Train Epoch 2 [48000/60000 (80%)] | Loss: 1.0989468097686768\n",
      "Train Epoch 2 [48640/60000 (81%)] | Loss: 0.8159899115562439\n",
      "Train Epoch 2 [49280/60000 (82%)] | Loss: 0.9057151675224304\n",
      "Train Epoch 2 [49920/60000 (83%)] | Loss: 0.8335192799568176\n",
      "Train Epoch 2 [50560/60000 (84%)] | Loss: 0.9614040851593018\n",
      "Train Epoch 2 [51200/60000 (85%)] | Loss: 0.9457159638404846\n",
      "Train Epoch 2 [51840/60000 (86%)] | Loss: 0.9339980483055115\n",
      "Train Epoch 2 [52480/60000 (87%)] | Loss: 0.7940883636474609\n",
      "Train Epoch 2 [53120/60000 (88%)] | Loss: 0.9487952589988708\n",
      "Train Epoch 2 [53760/60000 (90%)] | Loss: 0.9450685977935791\n",
      "Train Epoch 2 [54400/60000 (91%)] | Loss: 0.8948076963424683\n",
      "Train Epoch 2 [55040/60000 (92%)] | Loss: 0.8661633133888245\n",
      "Train Epoch 2 [55680/60000 (93%)] | Loss: 1.01056969165802\n",
      "Train Epoch 2 [56320/60000 (94%)] | Loss: 0.8357599973678589\n",
      "Train Epoch 2 [56960/60000 (95%)] | Loss: 0.9729571342468262\n",
      "Train Epoch 2 [57600/60000 (96%)] | Loss: 0.9790453910827637\n",
      "Train Epoch 2 [58240/60000 (97%)] | Loss: 1.0439802408218384\n",
      "Train Epoch 2 [58880/60000 (98%)] | Loss: 0.9067721962928772\n",
      "Train Epoch 2 [59520/60000 (99%)] | Loss: 1.0457758903503418\n",
      "\n",
      "Train Acc.: [44953/60000 (75%)]\n",
      "Test Acc.: [ 7732/10000 (77%)]\n",
      "\n",
      "Train Epoch 3 [    0/60000 ( 0%)] | Loss: 0.8961049318313599\n",
      "Train Epoch 3 [  640/60000 ( 1%)] | Loss: 0.8269208073616028\n",
      "Train Epoch 3 [ 1280/60000 ( 2%)] | Loss: 0.8554506301879883\n",
      "Train Epoch 3 [ 1920/60000 ( 3%)] | Loss: 0.8691331148147583\n",
      "Train Epoch 3 [ 2560/60000 ( 4%)] | Loss: 0.8616825938224792\n",
      "Train Epoch 3 [ 3200/60000 ( 5%)] | Loss: 0.979200541973114\n",
      "Train Epoch 3 [ 3840/60000 ( 6%)] | Loss: 0.9621565937995911\n",
      "Train Epoch 3 [ 4480/60000 ( 7%)] | Loss: 0.888530969619751\n",
      "Train Epoch 3 [ 5120/60000 ( 9%)] | Loss: 0.9097104668617249\n",
      "Train Epoch 3 [ 5760/60000 (10%)] | Loss: 1.097217321395874\n",
      "Train Epoch 3 [ 6400/60000 (11%)] | Loss: 0.7895282506942749\n",
      "Train Epoch 3 [ 7040/60000 (12%)] | Loss: 0.8704555034637451\n",
      "Train Epoch 3 [ 7680/60000 (13%)] | Loss: 0.9595692753791809\n",
      "Train Epoch 3 [ 8320/60000 (14%)] | Loss: 0.7882763147354126\n",
      "Train Epoch 3 [ 8960/60000 (15%)] | Loss: 0.7734732031822205\n",
      "Train Epoch 3 [ 9600/60000 (16%)] | Loss: 0.8985167145729065\n",
      "Train Epoch 3 [10240/60000 (17%)] | Loss: 0.847182035446167\n",
      "Train Epoch 3 [10880/60000 (18%)] | Loss: 0.8183711767196655\n",
      "Train Epoch 3 [11520/60000 (19%)] | Loss: 0.9296754598617554\n",
      "Train Epoch 3 [12160/60000 (20%)] | Loss: 0.8194804191589355\n",
      "Train Epoch 3 [12800/60000 (21%)] | Loss: 0.9704181551933289\n",
      "Train Epoch 3 [13440/60000 (22%)] | Loss: 0.8449262976646423\n",
      "Train Epoch 3 [14080/60000 (23%)] | Loss: 0.8509323000907898\n",
      "Train Epoch 3 [14720/60000 (25%)] | Loss: 1.0088237524032593\n",
      "Train Epoch 3 [15360/60000 (26%)] | Loss: 0.936998188495636\n",
      "Train Epoch 3 [16000/60000 (27%)] | Loss: 0.767269492149353\n",
      "Train Epoch 3 [16640/60000 (28%)] | Loss: 0.8517611026763916\n",
      "Train Epoch 3 [17280/60000 (29%)] | Loss: 0.8999595046043396\n",
      "Train Epoch 3 [17920/60000 (30%)] | Loss: 0.7005301117897034\n",
      "Train Epoch 3 [18560/60000 (31%)] | Loss: 0.8917573690414429\n",
      "Train Epoch 3 [19200/60000 (32%)] | Loss: 0.924402117729187\n",
      "Train Epoch 3 [19840/60000 (33%)] | Loss: 0.6892343759536743\n",
      "Train Epoch 3 [20480/60000 (34%)] | Loss: 0.8784759044647217\n",
      "Train Epoch 3 [21120/60000 (35%)] | Loss: 0.7784464359283447\n",
      "Train Epoch 3 [21760/60000 (36%)] | Loss: 0.7144700288772583\n",
      "Train Epoch 3 [22400/60000 (37%)] | Loss: 0.7128986120223999\n",
      "Train Epoch 3 [23040/60000 (38%)] | Loss: 0.8701341152191162\n",
      "Train Epoch 3 [23680/60000 (39%)] | Loss: 0.9191827178001404\n",
      "Train Epoch 3 [24320/60000 (41%)] | Loss: 0.8612638115882874\n",
      "Train Epoch 3 [24960/60000 (42%)] | Loss: 0.7733093500137329\n",
      "Train Epoch 3 [25600/60000 (43%)] | Loss: 0.8670255541801453\n",
      "Train Epoch 3 [26240/60000 (44%)] | Loss: 1.0566538572311401\n",
      "Train Epoch 3 [26880/60000 (45%)] | Loss: 0.8920714855194092\n",
      "Train Epoch 3 [27520/60000 (46%)] | Loss: 0.7975561022758484\n",
      "Train Epoch 3 [28160/60000 (47%)] | Loss: 0.9133673906326294\n",
      "Train Epoch 3 [28800/60000 (48%)] | Loss: 0.9632466435432434\n",
      "Train Epoch 3 [29440/60000 (49%)] | Loss: 0.688234806060791\n",
      "Train Epoch 3 [30080/60000 (50%)] | Loss: 1.1077476739883423\n",
      "Train Epoch 3 [30720/60000 (51%)] | Loss: 0.8494182229042053\n",
      "Train Epoch 3 [31360/60000 (52%)] | Loss: 0.946138858795166\n",
      "Train Epoch 3 [32000/60000 (53%)] | Loss: 0.901518702507019\n",
      "Train Epoch 3 [32640/60000 (54%)] | Loss: 0.8468245267868042\n",
      "Train Epoch 3 [33280/60000 (55%)] | Loss: 0.8918454647064209\n",
      "Train Epoch 3 [33920/60000 (57%)] | Loss: 0.8428231477737427\n",
      "Train Epoch 3 [34560/60000 (58%)] | Loss: 0.6370590329170227\n",
      "Train Epoch 3 [35200/60000 (59%)] | Loss: 0.8848124742507935\n",
      "Train Epoch 3 [35840/60000 (60%)] | Loss: 0.9746895432472229\n",
      "Train Epoch 3 [36480/60000 (61%)] | Loss: 0.6789855360984802\n",
      "Train Epoch 3 [37120/60000 (62%)] | Loss: 0.700554609298706\n",
      "Train Epoch 3 [37760/60000 (63%)] | Loss: 0.8482199311256409\n",
      "Train Epoch 3 [38400/60000 (64%)] | Loss: 0.7349873185157776\n",
      "Train Epoch 3 [39040/60000 (65%)] | Loss: 0.8220475316047668\n",
      "Train Epoch 3 [39680/60000 (66%)] | Loss: 0.9058418273925781\n",
      "Train Epoch 3 [40320/60000 (67%)] | Loss: 0.7502041459083557\n",
      "Train Epoch 3 [40960/60000 (68%)] | Loss: 0.7883601784706116\n",
      "Train Epoch 3 [41600/60000 (69%)] | Loss: 0.9856443405151367\n",
      "Train Epoch 3 [42240/60000 (70%)] | Loss: 0.8213766813278198\n",
      "Train Epoch 3 [42880/60000 (71%)] | Loss: 0.9106312394142151\n",
      "Train Epoch 3 [43520/60000 (72%)] | Loss: 0.8264544606208801\n",
      "Train Epoch 3 [44160/60000 (74%)] | Loss: 0.7968668937683105\n",
      "Train Epoch 3 [44800/60000 (75%)] | Loss: 0.7007772326469421\n",
      "Train Epoch 3 [45440/60000 (76%)] | Loss: 1.041368007659912\n",
      "Train Epoch 3 [46080/60000 (77%)] | Loss: 0.7780207991600037\n",
      "Train Epoch 3 [46720/60000 (78%)] | Loss: 0.7488436102867126\n",
      "Train Epoch 3 [47360/60000 (79%)] | Loss: 0.6506970524787903\n",
      "Train Epoch 3 [48000/60000 (80%)] | Loss: 0.8353936076164246\n",
      "Train Epoch 3 [48640/60000 (81%)] | Loss: 0.9777271747589111\n",
      "Train Epoch 3 [49280/60000 (82%)] | Loss: 0.9937785267829895\n",
      "Train Epoch 3 [49920/60000 (83%)] | Loss: 0.6814174652099609\n",
      "Train Epoch 3 [50560/60000 (84%)] | Loss: 0.7534776329994202\n",
      "Train Epoch 3 [51200/60000 (85%)] | Loss: 0.7351932525634766\n",
      "Train Epoch 3 [51840/60000 (86%)] | Loss: 0.7248935103416443\n",
      "Train Epoch 3 [52480/60000 (87%)] | Loss: 0.6674737930297852\n",
      "Train Epoch 3 [53120/60000 (88%)] | Loss: 0.748748242855072\n",
      "Train Epoch 3 [53760/60000 (90%)] | Loss: 0.8978420495986938\n",
      "Train Epoch 3 [54400/60000 (91%)] | Loss: 0.6350690722465515\n",
      "Train Epoch 3 [55040/60000 (92%)] | Loss: 0.9825968146324158\n",
      "Train Epoch 3 [55680/60000 (93%)] | Loss: 0.9536629915237427\n",
      "Train Epoch 3 [56320/60000 (94%)] | Loss: 0.802886962890625\n",
      "Train Epoch 3 [56960/60000 (95%)] | Loss: 0.5893898606300354\n",
      "Train Epoch 3 [57600/60000 (96%)] | Loss: 0.844013512134552\n",
      "Train Epoch 3 [58240/60000 (97%)] | Loss: 0.8358538150787354\n",
      "Train Epoch 3 [58880/60000 (98%)] | Loss: 0.8623381853103638\n",
      "Train Epoch 3 [59520/60000 (99%)] | Loss: 0.8105266094207764\n",
      "\n",
      "Train Acc.: [46353/60000 (77%)]\n",
      "Test Acc.: [ 7883/10000 (79%)]\n",
      "\n",
      "Train Epoch 4 [    0/60000 ( 0%)] | Loss: 0.664379358291626\n",
      "Train Epoch 4 [  640/60000 ( 1%)] | Loss: 0.6637917757034302\n",
      "Train Epoch 4 [ 1280/60000 ( 2%)] | Loss: 0.7911552786827087\n",
      "Train Epoch 4 [ 1920/60000 ( 3%)] | Loss: 0.8068634271621704\n",
      "Train Epoch 4 [ 2560/60000 ( 4%)] | Loss: 0.6705711483955383\n",
      "Train Epoch 4 [ 3200/60000 ( 5%)] | Loss: 0.7861514091491699\n",
      "Train Epoch 4 [ 3840/60000 ( 6%)] | Loss: 0.6816903948783875\n",
      "Train Epoch 4 [ 4480/60000 ( 7%)] | Loss: 0.6845719814300537\n",
      "Train Epoch 4 [ 5120/60000 ( 9%)] | Loss: 0.7726060152053833\n",
      "Train Epoch 4 [ 5760/60000 (10%)] | Loss: 0.8781619668006897\n",
      "Train Epoch 4 [ 6400/60000 (11%)] | Loss: 0.7615940570831299\n",
      "Train Epoch 4 [ 7040/60000 (12%)] | Loss: 0.8093162775039673\n",
      "Train Epoch 4 [ 7680/60000 (13%)] | Loss: 1.0016621351242065\n",
      "Train Epoch 4 [ 8320/60000 (14%)] | Loss: 0.8921034336090088\n",
      "Train Epoch 4 [ 8960/60000 (15%)] | Loss: 0.9263775944709778\n",
      "Train Epoch 4 [ 9600/60000 (16%)] | Loss: 0.8377437591552734\n",
      "Train Epoch 4 [10240/60000 (17%)] | Loss: 0.7038445472717285\n",
      "Train Epoch 4 [10880/60000 (18%)] | Loss: 0.8079432249069214\n",
      "Train Epoch 4 [11520/60000 (19%)] | Loss: 0.8497316837310791\n",
      "Train Epoch 4 [12160/60000 (20%)] | Loss: 0.7538918852806091\n",
      "Train Epoch 4 [12800/60000 (21%)] | Loss: 0.875313401222229\n",
      "Train Epoch 4 [13440/60000 (22%)] | Loss: 0.7120412588119507\n",
      "Train Epoch 4 [14080/60000 (23%)] | Loss: 0.8038970232009888\n",
      "Train Epoch 4 [14720/60000 (25%)] | Loss: 0.8339869976043701\n",
      "Train Epoch 4 [15360/60000 (26%)] | Loss: 1.0350048542022705\n",
      "Train Epoch 4 [16000/60000 (27%)] | Loss: 0.80763840675354\n",
      "Train Epoch 4 [16640/60000 (28%)] | Loss: 0.7902811169624329\n",
      "Train Epoch 4 [17280/60000 (29%)] | Loss: 0.7201457619667053\n",
      "Train Epoch 4 [17920/60000 (30%)] | Loss: 0.817521333694458\n",
      "Train Epoch 4 [18560/60000 (31%)] | Loss: 0.9191827178001404\n",
      "Train Epoch 4 [19200/60000 (32%)] | Loss: 0.8855377435684204\n",
      "Train Epoch 4 [19840/60000 (33%)] | Loss: 0.7034928798675537\n",
      "Train Epoch 4 [20480/60000 (34%)] | Loss: 0.803347110748291\n",
      "Train Epoch 4 [21120/60000 (35%)] | Loss: 0.8719615936279297\n",
      "Train Epoch 4 [21760/60000 (36%)] | Loss: 0.7651598453521729\n",
      "Train Epoch 4 [22400/60000 (37%)] | Loss: 0.9062771797180176\n",
      "Train Epoch 4 [23040/60000 (38%)] | Loss: 0.7444263696670532\n",
      "Train Epoch 4 [23680/60000 (39%)] | Loss: 0.7310669422149658\n",
      "Train Epoch 4 [24320/60000 (41%)] | Loss: 0.6080988049507141\n",
      "Train Epoch 4 [24960/60000 (42%)] | Loss: 0.994850218296051\n",
      "Train Epoch 4 [25600/60000 (43%)] | Loss: 0.7227882742881775\n",
      "Train Epoch 4 [26240/60000 (44%)] | Loss: 0.7516431212425232\n",
      "Train Epoch 4 [26880/60000 (45%)] | Loss: 0.7203620672225952\n",
      "Train Epoch 4 [27520/60000 (46%)] | Loss: 0.7488756775856018\n",
      "Train Epoch 4 [28160/60000 (47%)] | Loss: 0.7819468975067139\n",
      "Train Epoch 4 [28800/60000 (48%)] | Loss: 0.7746093273162842\n",
      "Train Epoch 4 [29440/60000 (49%)] | Loss: 0.7826613783836365\n",
      "Train Epoch 4 [30080/60000 (50%)] | Loss: 0.7481501698493958\n",
      "Train Epoch 4 [30720/60000 (51%)] | Loss: 0.8069937825202942\n",
      "Train Epoch 4 [31360/60000 (52%)] | Loss: 0.6826130151748657\n",
      "Train Epoch 4 [32000/60000 (53%)] | Loss: 0.8602718710899353\n",
      "Train Epoch 4 [32640/60000 (54%)] | Loss: 0.6561652421951294\n",
      "Train Epoch 4 [33280/60000 (55%)] | Loss: 0.5332114100456238\n",
      "Train Epoch 4 [33920/60000 (57%)] | Loss: 0.7972000241279602\n",
      "Train Epoch 4 [34560/60000 (58%)] | Loss: 0.6219868659973145\n",
      "Train Epoch 4 [35200/60000 (59%)] | Loss: 0.8932863473892212\n",
      "Train Epoch 4 [35840/60000 (60%)] | Loss: 0.8927566409111023\n",
      "Train Epoch 4 [36480/60000 (61%)] | Loss: 0.8368127346038818\n",
      "Train Epoch 4 [37120/60000 (62%)] | Loss: 0.686142086982727\n",
      "Train Epoch 4 [37760/60000 (63%)] | Loss: 0.704613208770752\n",
      "Train Epoch 4 [38400/60000 (64%)] | Loss: 0.7261607646942139\n",
      "Train Epoch 4 [39040/60000 (65%)] | Loss: 1.0500259399414062\n",
      "Train Epoch 4 [39680/60000 (66%)] | Loss: 0.7362161874771118\n",
      "Train Epoch 4 [40320/60000 (67%)] | Loss: 0.6918225288391113\n",
      "Train Epoch 4 [40960/60000 (68%)] | Loss: 0.7425468564033508\n",
      "Train Epoch 4 [41600/60000 (69%)] | Loss: 0.8783818483352661\n",
      "Train Epoch 4 [42240/60000 (70%)] | Loss: 0.8631994724273682\n",
      "Train Epoch 4 [42880/60000 (71%)] | Loss: 0.712575376033783\n",
      "Train Epoch 4 [43520/60000 (72%)] | Loss: 0.5541340112686157\n",
      "Train Epoch 4 [44160/60000 (74%)] | Loss: 0.7792978286743164\n",
      "Train Epoch 4 [44800/60000 (75%)] | Loss: 0.8353855609893799\n",
      "Train Epoch 4 [45440/60000 (76%)] | Loss: 0.7429913282394409\n",
      "Train Epoch 4 [46080/60000 (77%)] | Loss: 0.831892192363739\n",
      "Train Epoch 4 [46720/60000 (78%)] | Loss: 0.7185066342353821\n",
      "Train Epoch 4 [47360/60000 (79%)] | Loss: 0.6047264933586121\n",
      "Train Epoch 4 [48000/60000 (80%)] | Loss: 0.7359933853149414\n",
      "Train Epoch 4 [48640/60000 (81%)] | Loss: 0.6392159461975098\n",
      "Train Epoch 4 [49280/60000 (82%)] | Loss: 0.7487667798995972\n",
      "Train Epoch 4 [49920/60000 (83%)] | Loss: 0.7802682518959045\n",
      "Train Epoch 4 [50560/60000 (84%)] | Loss: 0.7441563606262207\n",
      "Train Epoch 4 [51200/60000 (85%)] | Loss: 0.8910836577415466\n",
      "Train Epoch 4 [51840/60000 (86%)] | Loss: 0.936923623085022\n",
      "Train Epoch 4 [52480/60000 (87%)] | Loss: 0.8280956745147705\n",
      "Train Epoch 4 [53120/60000 (88%)] | Loss: 0.8545751571655273\n",
      "Train Epoch 4 [53760/60000 (90%)] | Loss: 0.6941865086555481\n",
      "Train Epoch 4 [54400/60000 (91%)] | Loss: 0.6348613500595093\n",
      "Train Epoch 4 [55040/60000 (92%)] | Loss: 0.9316480755805969\n",
      "Train Epoch 4 [55680/60000 (93%)] | Loss: 0.7104299664497375\n",
      "Train Epoch 4 [56320/60000 (94%)] | Loss: 0.8212059140205383\n",
      "Train Epoch 4 [56960/60000 (95%)] | Loss: 0.8171470761299133\n",
      "Train Epoch 4 [57600/60000 (96%)] | Loss: 0.706998348236084\n",
      "Train Epoch 4 [58240/60000 (97%)] | Loss: 0.7371106147766113\n",
      "Train Epoch 4 [58880/60000 (98%)] | Loss: 0.8464133143424988\n",
      "Train Epoch 4 [59520/60000 (99%)] | Loss: 0.724402904510498\n",
      "\n",
      "Train Acc.: [47175/60000 (79%)]\n",
      "Test Acc.: [ 8005/10000 (80%)]\n",
      "\n",
      "Train Epoch 5 [    0/60000 ( 0%)] | Loss: 0.8052056431770325\n",
      "Train Epoch 5 [  640/60000 ( 1%)] | Loss: 0.7329728603363037\n",
      "Train Epoch 5 [ 1280/60000 ( 2%)] | Loss: 0.7266302704811096\n",
      "Train Epoch 5 [ 1920/60000 ( 3%)] | Loss: 0.8405327796936035\n",
      "Train Epoch 5 [ 2560/60000 ( 4%)] | Loss: 0.5596919059753418\n",
      "Train Epoch 5 [ 3200/60000 ( 5%)] | Loss: 0.8329891562461853\n",
      "Train Epoch 5 [ 3840/60000 ( 6%)] | Loss: 0.8505328893661499\n",
      "Train Epoch 5 [ 4480/60000 ( 7%)] | Loss: 0.7272517085075378\n",
      "Train Epoch 5 [ 5120/60000 ( 9%)] | Loss: 0.8794451355934143\n",
      "Train Epoch 5 [ 5760/60000 (10%)] | Loss: 0.6736875772476196\n",
      "Train Epoch 5 [ 6400/60000 (11%)] | Loss: 0.543005645275116\n",
      "Train Epoch 5 [ 7040/60000 (12%)] | Loss: 0.765216588973999\n",
      "Train Epoch 5 [ 7680/60000 (13%)] | Loss: 0.6684035658836365\n",
      "Train Epoch 5 [ 8320/60000 (14%)] | Loss: 0.6151038408279419\n",
      "Train Epoch 5 [ 8960/60000 (15%)] | Loss: 0.6568629145622253\n",
      "Train Epoch 5 [ 9600/60000 (16%)] | Loss: 0.9073330760002136\n",
      "Train Epoch 5 [10240/60000 (17%)] | Loss: 0.6584921479225159\n",
      "Train Epoch 5 [10880/60000 (18%)] | Loss: 0.8070045113563538\n",
      "Train Epoch 5 [11520/60000 (19%)] | Loss: 0.7887270450592041\n",
      "Train Epoch 5 [12160/60000 (20%)] | Loss: 0.9445586204528809\n",
      "Train Epoch 5 [12800/60000 (21%)] | Loss: 0.848783552646637\n",
      "Train Epoch 5 [13440/60000 (22%)] | Loss: 0.7773250341415405\n",
      "Train Epoch 5 [14080/60000 (23%)] | Loss: 0.6346619129180908\n",
      "Train Epoch 5 [14720/60000 (25%)] | Loss: 0.743091344833374\n",
      "Train Epoch 5 [15360/60000 (26%)] | Loss: 0.7483729720115662\n",
      "Train Epoch 5 [16000/60000 (27%)] | Loss: 0.6304150223731995\n",
      "Train Epoch 5 [16640/60000 (28%)] | Loss: 0.7629267573356628\n",
      "Train Epoch 5 [17280/60000 (29%)] | Loss: 0.6065642237663269\n",
      "Train Epoch 5 [17920/60000 (30%)] | Loss: 0.6111822724342346\n",
      "Train Epoch 5 [18560/60000 (31%)] | Loss: 0.6475080251693726\n",
      "Train Epoch 5 [19200/60000 (32%)] | Loss: 0.592252790927887\n",
      "Train Epoch 5 [19840/60000 (33%)] | Loss: 0.5319355130195618\n",
      "Train Epoch 5 [20480/60000 (34%)] | Loss: 0.9304691553115845\n",
      "Train Epoch 5 [21120/60000 (35%)] | Loss: 0.7675850987434387\n",
      "Train Epoch 5 [21760/60000 (36%)] | Loss: 0.7055315971374512\n",
      "Train Epoch 5 [22400/60000 (37%)] | Loss: 0.658735454082489\n",
      "Train Epoch 5 [23040/60000 (38%)] | Loss: 0.7198094129562378\n",
      "Train Epoch 5 [23680/60000 (39%)] | Loss: 0.7300388216972351\n",
      "Train Epoch 5 [24320/60000 (41%)] | Loss: 0.7650408744812012\n",
      "Train Epoch 5 [24960/60000 (42%)] | Loss: 0.7829320430755615\n",
      "Train Epoch 5 [25600/60000 (43%)] | Loss: 0.4405061602592468\n",
      "Train Epoch 5 [26240/60000 (44%)] | Loss: 0.7464008927345276\n",
      "Train Epoch 5 [26880/60000 (45%)] | Loss: 0.7127564549446106\n",
      "Train Epoch 5 [27520/60000 (46%)] | Loss: 0.7869489789009094\n",
      "Train Epoch 5 [28160/60000 (47%)] | Loss: 0.5234746932983398\n",
      "Train Epoch 5 [28800/60000 (48%)] | Loss: 0.770260214805603\n",
      "Train Epoch 5 [29440/60000 (49%)] | Loss: 0.6779807806015015\n",
      "Train Epoch 5 [30080/60000 (50%)] | Loss: 0.6716601848602295\n",
      "Train Epoch 5 [30720/60000 (51%)] | Loss: 0.4315899610519409\n",
      "Train Epoch 5 [31360/60000 (52%)] | Loss: 0.621538519859314\n",
      "Train Epoch 5 [32000/60000 (53%)] | Loss: 0.5916187167167664\n",
      "Train Epoch 5 [32640/60000 (54%)] | Loss: 0.6583446860313416\n",
      "Train Epoch 5 [33280/60000 (55%)] | Loss: 0.7403738498687744\n",
      "Train Epoch 5 [33920/60000 (57%)] | Loss: 0.7497338056564331\n",
      "Train Epoch 5 [34560/60000 (58%)] | Loss: 0.6661514043807983\n",
      "Train Epoch 5 [35200/60000 (59%)] | Loss: 0.6065835356712341\n",
      "Train Epoch 5 [35840/60000 (60%)] | Loss: 0.7904939651489258\n",
      "Train Epoch 5 [36480/60000 (61%)] | Loss: 0.5540590286254883\n",
      "Train Epoch 5 [37120/60000 (62%)] | Loss: 0.6615378260612488\n",
      "Train Epoch 5 [37760/60000 (63%)] | Loss: 0.7598093748092651\n",
      "Train Epoch 5 [38400/60000 (64%)] | Loss: 0.6354494094848633\n",
      "Train Epoch 5 [39040/60000 (65%)] | Loss: 0.632434070110321\n",
      "Train Epoch 5 [39680/60000 (66%)] | Loss: 0.6726923584938049\n",
      "Train Epoch 5 [40320/60000 (67%)] | Loss: 0.7684009671211243\n",
      "Train Epoch 5 [40960/60000 (68%)] | Loss: 0.5685957074165344\n",
      "Train Epoch 5 [41600/60000 (69%)] | Loss: 0.5866250395774841\n",
      "Train Epoch 5 [42240/60000 (70%)] | Loss: 0.6261087656021118\n",
      "Train Epoch 5 [42880/60000 (71%)] | Loss: 0.5911981463432312\n",
      "Train Epoch 5 [43520/60000 (72%)] | Loss: 0.5129443407058716\n",
      "Train Epoch 5 [44160/60000 (74%)] | Loss: 0.6965000629425049\n",
      "Train Epoch 5 [44800/60000 (75%)] | Loss: 0.9185082912445068\n",
      "Train Epoch 5 [45440/60000 (76%)] | Loss: 0.7713872194290161\n",
      "Train Epoch 5 [46080/60000 (77%)] | Loss: 0.7316258549690247\n",
      "Train Epoch 5 [46720/60000 (78%)] | Loss: 0.8744570016860962\n",
      "Train Epoch 5 [47360/60000 (79%)] | Loss: 0.7860749959945679\n",
      "Train Epoch 5 [48000/60000 (80%)] | Loss: 0.6634946465492249\n",
      "Train Epoch 5 [48640/60000 (81%)] | Loss: 0.7056403160095215\n",
      "Train Epoch 5 [49280/60000 (82%)] | Loss: 0.71337890625\n",
      "Train Epoch 5 [49920/60000 (83%)] | Loss: 0.6749013066291809\n",
      "Train Epoch 5 [50560/60000 (84%)] | Loss: 0.814849853515625\n",
      "Train Epoch 5 [51200/60000 (85%)] | Loss: 0.6832053065299988\n",
      "Train Epoch 5 [51840/60000 (86%)] | Loss: 0.8180627226829529\n",
      "Train Epoch 5 [52480/60000 (87%)] | Loss: 0.5955420136451721\n",
      "Train Epoch 5 [53120/60000 (88%)] | Loss: 0.6074336767196655\n",
      "Train Epoch 5 [53760/60000 (90%)] | Loss: 0.8734740614891052\n",
      "Train Epoch 5 [54400/60000 (91%)] | Loss: 0.6937759518623352\n",
      "Train Epoch 5 [55040/60000 (92%)] | Loss: 0.6738564968109131\n",
      "Train Epoch 5 [55680/60000 (93%)] | Loss: 0.7952851057052612\n",
      "Train Epoch 5 [56320/60000 (94%)] | Loss: 0.5995919704437256\n",
      "Train Epoch 5 [56960/60000 (95%)] | Loss: 0.7743119597434998\n",
      "Train Epoch 5 [57600/60000 (96%)] | Loss: 0.7548648715019226\n",
      "Train Epoch 5 [58240/60000 (97%)] | Loss: 0.6302365064620972\n",
      "Train Epoch 5 [58880/60000 (98%)] | Loss: 0.8327611684799194\n",
      "Train Epoch 5 [59520/60000 (99%)] | Loss: 0.8116960525512695\n",
      "\n",
      "Train Acc.: [47882/60000 (80%)]\n",
      "Test Acc.: [ 8109/10000 (81%)]\n",
      "\n",
      "Train Epoch 6 [    0/60000 ( 0%)] | Loss: 0.8408437371253967\n",
      "Train Epoch 6 [  640/60000 ( 1%)] | Loss: 0.746167778968811\n",
      "Train Epoch 6 [ 1280/60000 ( 2%)] | Loss: 0.7504622340202332\n",
      "Train Epoch 6 [ 1920/60000 ( 3%)] | Loss: 0.7456799745559692\n",
      "Train Epoch 6 [ 2560/60000 ( 4%)] | Loss: 0.6554983258247375\n",
      "Train Epoch 6 [ 3200/60000 ( 5%)] | Loss: 0.7138280272483826\n",
      "Train Epoch 6 [ 3840/60000 ( 6%)] | Loss: 0.6659613847732544\n",
      "Train Epoch 6 [ 4480/60000 ( 7%)] | Loss: 0.6661681532859802\n",
      "Train Epoch 6 [ 5120/60000 ( 9%)] | Loss: 0.5705651044845581\n",
      "Train Epoch 6 [ 5760/60000 (10%)] | Loss: 0.605780839920044\n",
      "Train Epoch 6 [ 6400/60000 (11%)] | Loss: 0.5987838506698608\n",
      "Train Epoch 6 [ 7040/60000 (12%)] | Loss: 0.7437400221824646\n",
      "Train Epoch 6 [ 7680/60000 (13%)] | Loss: 0.8058148622512817\n",
      "Train Epoch 6 [ 8320/60000 (14%)] | Loss: 0.8132204413414001\n",
      "Train Epoch 6 [ 8960/60000 (15%)] | Loss: 0.6811869740486145\n",
      "Train Epoch 6 [ 9600/60000 (16%)] | Loss: 0.5783536434173584\n",
      "Train Epoch 6 [10240/60000 (17%)] | Loss: 0.7895790338516235\n",
      "Train Epoch 6 [10880/60000 (18%)] | Loss: 0.651316225528717\n",
      "Train Epoch 6 [11520/60000 (19%)] | Loss: 0.6009560227394104\n",
      "Train Epoch 6 [12160/60000 (20%)] | Loss: 0.6193176507949829\n",
      "Train Epoch 6 [12800/60000 (21%)] | Loss: 0.6286160945892334\n",
      "Train Epoch 6 [13440/60000 (22%)] | Loss: 0.8867495656013489\n",
      "Train Epoch 6 [14080/60000 (23%)] | Loss: 0.6927096247673035\n",
      "Train Epoch 6 [14720/60000 (25%)] | Loss: 0.48959875106811523\n",
      "Train Epoch 6 [15360/60000 (26%)] | Loss: 0.5514765977859497\n",
      "Train Epoch 6 [16000/60000 (27%)] | Loss: 0.7516608238220215\n",
      "Train Epoch 6 [16640/60000 (28%)] | Loss: 0.6950553059577942\n",
      "Train Epoch 6 [17280/60000 (29%)] | Loss: 0.6483398675918579\n",
      "Train Epoch 6 [17920/60000 (30%)] | Loss: 0.6880971789360046\n",
      "Train Epoch 6 [18560/60000 (31%)] | Loss: 0.718860924243927\n",
      "Train Epoch 6 [19200/60000 (32%)] | Loss: 0.6597288250923157\n",
      "Train Epoch 6 [19840/60000 (33%)] | Loss: 0.7897137999534607\n",
      "Train Epoch 6 [20480/60000 (34%)] | Loss: 0.8916042447090149\n",
      "Train Epoch 6 [21120/60000 (35%)] | Loss: 0.6329180002212524\n",
      "Train Epoch 6 [21760/60000 (36%)] | Loss: 0.5968758463859558\n",
      "Train Epoch 6 [22400/60000 (37%)] | Loss: 0.6019195318222046\n",
      "Train Epoch 6 [23040/60000 (38%)] | Loss: 0.5541937351226807\n",
      "Train Epoch 6 [23680/60000 (39%)] | Loss: 0.7769495248794556\n",
      "Train Epoch 6 [24320/60000 (41%)] | Loss: 0.7380102276802063\n",
      "Train Epoch 6 [24960/60000 (42%)] | Loss: 0.6307803988456726\n",
      "Train Epoch 6 [25600/60000 (43%)] | Loss: 0.770673394203186\n",
      "Train Epoch 6 [26240/60000 (44%)] | Loss: 0.7601864337921143\n",
      "Train Epoch 6 [26880/60000 (45%)] | Loss: 0.6184464693069458\n",
      "Train Epoch 6 [27520/60000 (46%)] | Loss: 0.6348298788070679\n",
      "Train Epoch 6 [28160/60000 (47%)] | Loss: 0.6339203715324402\n",
      "Train Epoch 6 [28800/60000 (48%)] | Loss: 0.581764280796051\n",
      "Train Epoch 6 [29440/60000 (49%)] | Loss: 0.8259136080741882\n",
      "Train Epoch 6 [30080/60000 (50%)] | Loss: 0.7787531018257141\n",
      "Train Epoch 6 [30720/60000 (51%)] | Loss: 0.6056036949157715\n",
      "Train Epoch 6 [31360/60000 (52%)] | Loss: 0.5784372091293335\n",
      "Train Epoch 6 [32000/60000 (53%)] | Loss: 0.60877925157547\n",
      "Train Epoch 6 [32640/60000 (54%)] | Loss: 0.5589299201965332\n",
      "Train Epoch 6 [33280/60000 (55%)] | Loss: 0.6991051435470581\n",
      "Train Epoch 6 [33920/60000 (57%)] | Loss: 0.6647515296936035\n",
      "Train Epoch 6 [34560/60000 (58%)] | Loss: 0.605949342250824\n",
      "Train Epoch 6 [35200/60000 (59%)] | Loss: 0.713074803352356\n",
      "Train Epoch 6 [35840/60000 (60%)] | Loss: 0.6238800287246704\n",
      "Train Epoch 6 [36480/60000 (61%)] | Loss: 0.6554463505744934\n",
      "Train Epoch 6 [37120/60000 (62%)] | Loss: 0.6427299976348877\n",
      "Train Epoch 6 [37760/60000 (63%)] | Loss: 0.5595810413360596\n",
      "Train Epoch 6 [38400/60000 (64%)] | Loss: 0.6450376510620117\n",
      "Train Epoch 6 [39040/60000 (65%)] | Loss: 0.6852344870567322\n",
      "Train Epoch 6 [39680/60000 (66%)] | Loss: 0.6363013982772827\n",
      "Train Epoch 6 [40320/60000 (67%)] | Loss: 0.666437566280365\n",
      "Train Epoch 6 [40960/60000 (68%)] | Loss: 0.8459820747375488\n",
      "Train Epoch 6 [41600/60000 (69%)] | Loss: 0.9371830821037292\n",
      "Train Epoch 6 [42240/60000 (70%)] | Loss: 0.6417015194892883\n",
      "Train Epoch 6 [42880/60000 (71%)] | Loss: 0.6947788596153259\n",
      "Train Epoch 6 [43520/60000 (72%)] | Loss: 0.7313748598098755\n",
      "Train Epoch 6 [44160/60000 (74%)] | Loss: 0.7084326148033142\n",
      "Train Epoch 6 [44800/60000 (75%)] | Loss: 0.7396915555000305\n",
      "Train Epoch 6 [45440/60000 (76%)] | Loss: 0.5711370706558228\n",
      "Train Epoch 6 [46080/60000 (77%)] | Loss: 0.6719557642936707\n",
      "Train Epoch 6 [46720/60000 (78%)] | Loss: 0.6015841364860535\n",
      "Train Epoch 6 [47360/60000 (79%)] | Loss: 0.5670761466026306\n",
      "Train Epoch 6 [48000/60000 (80%)] | Loss: 0.5515580177307129\n",
      "Train Epoch 6 [48640/60000 (81%)] | Loss: 0.6799964308738708\n",
      "Train Epoch 6 [49280/60000 (82%)] | Loss: 0.762002170085907\n",
      "Train Epoch 6 [49920/60000 (83%)] | Loss: 0.6452578902244568\n",
      "Train Epoch 6 [50560/60000 (84%)] | Loss: 0.44882264733314514\n",
      "Train Epoch 6 [51200/60000 (85%)] | Loss: 0.6217434406280518\n",
      "Train Epoch 6 [51840/60000 (86%)] | Loss: 0.6686378121376038\n",
      "Train Epoch 6 [52480/60000 (87%)] | Loss: 0.6064990758895874\n",
      "Train Epoch 6 [53120/60000 (88%)] | Loss: 0.779374897480011\n",
      "Train Epoch 6 [53760/60000 (90%)] | Loss: 0.7592183351516724\n",
      "Train Epoch 6 [54400/60000 (91%)] | Loss: 0.5461472272872925\n",
      "Train Epoch 6 [55040/60000 (92%)] | Loss: 0.594247043132782\n",
      "Train Epoch 6 [55680/60000 (93%)] | Loss: 0.6676306128501892\n",
      "Train Epoch 6 [56320/60000 (94%)] | Loss: 0.7626210451126099\n",
      "Train Epoch 6 [56960/60000 (95%)] | Loss: 0.6149584054946899\n",
      "Train Epoch 6 [57600/60000 (96%)] | Loss: 0.6779463291168213\n",
      "Train Epoch 6 [58240/60000 (97%)] | Loss: 0.8595846891403198\n",
      "Train Epoch 6 [58880/60000 (98%)] | Loss: 0.8509238362312317\n",
      "Train Epoch 6 [59520/60000 (99%)] | Loss: 0.7338516116142273\n",
      "\n",
      "Train Acc.: [48318/60000 (81%)]\n",
      "Test Acc.: [ 8153/10000 (82%)]\n",
      "\n",
      "Train Epoch 7 [    0/60000 ( 0%)] | Loss: 0.6765891313552856\n",
      "Train Epoch 7 [  640/60000 ( 1%)] | Loss: 0.7307352423667908\n",
      "Train Epoch 7 [ 1280/60000 ( 2%)] | Loss: 0.6944034695625305\n",
      "Train Epoch 7 [ 1920/60000 ( 3%)] | Loss: 0.7749699950218201\n",
      "Train Epoch 7 [ 2560/60000 ( 4%)] | Loss: 0.498883455991745\n",
      "Train Epoch 7 [ 3200/60000 ( 5%)] | Loss: 0.7995473146438599\n",
      "Train Epoch 7 [ 3840/60000 ( 6%)] | Loss: 0.6317241191864014\n",
      "Train Epoch 7 [ 4480/60000 ( 7%)] | Loss: 0.5630803108215332\n",
      "Train Epoch 7 [ 5120/60000 ( 9%)] | Loss: 0.7230284214019775\n",
      "Train Epoch 7 [ 5760/60000 (10%)] | Loss: 0.5758253335952759\n",
      "Train Epoch 7 [ 6400/60000 (11%)] | Loss: 0.7689833641052246\n",
      "Train Epoch 7 [ 7040/60000 (12%)] | Loss: 0.4746210277080536\n",
      "Train Epoch 7 [ 7680/60000 (13%)] | Loss: 0.6093884110450745\n",
      "Train Epoch 7 [ 8320/60000 (14%)] | Loss: 0.6113418340682983\n",
      "Train Epoch 7 [ 8960/60000 (15%)] | Loss: 0.5207533836364746\n",
      "Train Epoch 7 [ 9600/60000 (16%)] | Loss: 0.6888078451156616\n",
      "Train Epoch 7 [10240/60000 (17%)] | Loss: 0.6311246752738953\n",
      "Train Epoch 7 [10880/60000 (18%)] | Loss: 0.5295740365982056\n",
      "Train Epoch 7 [11520/60000 (19%)] | Loss: 0.5903732776641846\n",
      "Train Epoch 7 [12160/60000 (20%)] | Loss: 0.6016989946365356\n",
      "Train Epoch 7 [12800/60000 (21%)] | Loss: 0.46085938811302185\n",
      "Train Epoch 7 [13440/60000 (22%)] | Loss: 0.6402637958526611\n",
      "Train Epoch 7 [14080/60000 (23%)] | Loss: 0.5787258744239807\n",
      "Train Epoch 7 [14720/60000 (25%)] | Loss: 0.5548315644264221\n",
      "Train Epoch 7 [15360/60000 (26%)] | Loss: 0.7008795738220215\n",
      "Train Epoch 7 [16000/60000 (27%)] | Loss: 0.5548442006111145\n",
      "Train Epoch 7 [16640/60000 (28%)] | Loss: 0.49129387736320496\n",
      "Train Epoch 7 [17280/60000 (29%)] | Loss: 0.6470600366592407\n",
      "Train Epoch 7 [17920/60000 (30%)] | Loss: 0.6462997794151306\n",
      "Train Epoch 7 [18560/60000 (31%)] | Loss: 0.5690388679504395\n",
      "Train Epoch 7 [19200/60000 (32%)] | Loss: 0.8333489894866943\n",
      "Train Epoch 7 [19840/60000 (33%)] | Loss: 0.8733907341957092\n",
      "Train Epoch 7 [20480/60000 (34%)] | Loss: 0.7073212265968323\n",
      "Train Epoch 7 [21120/60000 (35%)] | Loss: 0.7000686526298523\n",
      "Train Epoch 7 [21760/60000 (36%)] | Loss: 0.6260172724723816\n",
      "Train Epoch 7 [22400/60000 (37%)] | Loss: 0.6345829367637634\n",
      "Train Epoch 7 [23040/60000 (38%)] | Loss: 0.5951836109161377\n",
      "Train Epoch 7 [23680/60000 (39%)] | Loss: 0.6773388385772705\n",
      "Train Epoch 7 [24320/60000 (41%)] | Loss: 0.5692809820175171\n",
      "Train Epoch 7 [24960/60000 (42%)] | Loss: 0.5580571889877319\n",
      "Train Epoch 7 [25600/60000 (43%)] | Loss: 0.6239284873008728\n",
      "Train Epoch 7 [26240/60000 (44%)] | Loss: 0.6694364547729492\n",
      "Train Epoch 7 [26880/60000 (45%)] | Loss: 0.9156218767166138\n",
      "Train Epoch 7 [27520/60000 (46%)] | Loss: 0.6125819683074951\n",
      "Train Epoch 7 [28160/60000 (47%)] | Loss: 0.6372111439704895\n",
      "Train Epoch 7 [28800/60000 (48%)] | Loss: 0.7601079344749451\n",
      "Train Epoch 7 [29440/60000 (49%)] | Loss: 0.6530119180679321\n",
      "Train Epoch 7 [30080/60000 (50%)] | Loss: 0.6697776317596436\n",
      "Train Epoch 7 [30720/60000 (51%)] | Loss: 0.5900094509124756\n",
      "Train Epoch 7 [31360/60000 (52%)] | Loss: 0.7473604679107666\n",
      "Train Epoch 7 [32000/60000 (53%)] | Loss: 0.584445595741272\n",
      "Train Epoch 7 [32640/60000 (54%)] | Loss: 0.646523654460907\n",
      "Train Epoch 7 [33280/60000 (55%)] | Loss: 0.7387505173683167\n",
      "Train Epoch 7 [33920/60000 (57%)] | Loss: 0.4654602110385895\n",
      "Train Epoch 7 [34560/60000 (58%)] | Loss: 0.4745383560657501\n",
      "Train Epoch 7 [35200/60000 (59%)] | Loss: 0.7441819310188293\n",
      "Train Epoch 7 [35840/60000 (60%)] | Loss: 0.5595550537109375\n",
      "Train Epoch 7 [36480/60000 (61%)] | Loss: 0.8499855995178223\n",
      "Train Epoch 7 [37120/60000 (62%)] | Loss: 0.7279978394508362\n",
      "Train Epoch 7 [37760/60000 (63%)] | Loss: 0.8545005917549133\n",
      "Train Epoch 7 [38400/60000 (64%)] | Loss: 0.6424014568328857\n",
      "Train Epoch 7 [39040/60000 (65%)] | Loss: 0.6480063199996948\n",
      "Train Epoch 7 [39680/60000 (66%)] | Loss: 0.679120659828186\n",
      "Train Epoch 7 [40320/60000 (67%)] | Loss: 0.629716694355011\n",
      "Train Epoch 7 [40960/60000 (68%)] | Loss: 0.5076102614402771\n",
      "Train Epoch 7 [41600/60000 (69%)] | Loss: 0.6160502433776855\n",
      "Train Epoch 7 [42240/60000 (70%)] | Loss: 0.7023682594299316\n",
      "Train Epoch 7 [42880/60000 (71%)] | Loss: 0.7704765796661377\n",
      "Train Epoch 7 [43520/60000 (72%)] | Loss: 0.6431268453598022\n",
      "Train Epoch 7 [44160/60000 (74%)] | Loss: 0.6151515245437622\n",
      "Train Epoch 7 [44800/60000 (75%)] | Loss: 0.4960159957408905\n",
      "Train Epoch 7 [45440/60000 (76%)] | Loss: 0.8721084594726562\n",
      "Train Epoch 7 [46080/60000 (77%)] | Loss: 0.736684262752533\n",
      "Train Epoch 7 [46720/60000 (78%)] | Loss: 0.7052316069602966\n",
      "Train Epoch 7 [47360/60000 (79%)] | Loss: 0.6992037296295166\n",
      "Train Epoch 7 [48000/60000 (80%)] | Loss: 0.6573213338851929\n",
      "Train Epoch 7 [48640/60000 (81%)] | Loss: 0.7254310250282288\n",
      "Train Epoch 7 [49280/60000 (82%)] | Loss: 0.7121701240539551\n",
      "Train Epoch 7 [49920/60000 (83%)] | Loss: 0.6881502866744995\n",
      "Train Epoch 7 [50560/60000 (84%)] | Loss: 0.6787249445915222\n",
      "Train Epoch 7 [51200/60000 (85%)] | Loss: 0.4614044427871704\n",
      "Train Epoch 7 [51840/60000 (86%)] | Loss: 1.0039409399032593\n",
      "Train Epoch 7 [52480/60000 (87%)] | Loss: 0.5717827081680298\n",
      "Train Epoch 7 [53120/60000 (88%)] | Loss: 0.6165220737457275\n",
      "Train Epoch 7 [53760/60000 (90%)] | Loss: 0.5180631279945374\n",
      "Train Epoch 7 [54400/60000 (91%)] | Loss: 0.718191385269165\n",
      "Train Epoch 7 [55040/60000 (92%)] | Loss: 0.47694894671440125\n",
      "Train Epoch 7 [55680/60000 (93%)] | Loss: 0.632383406162262\n",
      "Train Epoch 7 [56320/60000 (94%)] | Loss: 0.5455058813095093\n",
      "Train Epoch 7 [56960/60000 (95%)] | Loss: 0.7020002603530884\n",
      "Train Epoch 7 [57600/60000 (96%)] | Loss: 0.6626375317573547\n",
      "Train Epoch 7 [58240/60000 (97%)] | Loss: 0.6230449080467224\n",
      "Train Epoch 7 [58880/60000 (98%)] | Loss: 0.6963971257209778\n",
      "Train Epoch 7 [59520/60000 (99%)] | Loss: 0.7273613810539246\n",
      "\n",
      "Train Acc.: [48668/60000 (81%)]\n",
      "Test Acc.: [ 8209/10000 (82%)]\n",
      "\n",
      "Train Epoch 8 [    0/60000 ( 0%)] | Loss: 0.6350915431976318\n",
      "Train Epoch 8 [  640/60000 ( 1%)] | Loss: 0.5465039014816284\n",
      "Train Epoch 8 [ 1280/60000 ( 2%)] | Loss: 0.5812954902648926\n",
      "Train Epoch 8 [ 1920/60000 ( 3%)] | Loss: 0.5585803985595703\n",
      "Train Epoch 8 [ 2560/60000 ( 4%)] | Loss: 0.6668078303337097\n",
      "Train Epoch 8 [ 3200/60000 ( 5%)] | Loss: 0.8395438194274902\n",
      "Train Epoch 8 [ 3840/60000 ( 6%)] | Loss: 0.6545432209968567\n",
      "Train Epoch 8 [ 4480/60000 ( 7%)] | Loss: 0.6935656070709229\n",
      "Train Epoch 8 [ 5120/60000 ( 9%)] | Loss: 0.4118115305900574\n",
      "Train Epoch 8 [ 5760/60000 (10%)] | Loss: 0.5423682928085327\n",
      "Train Epoch 8 [ 6400/60000 (11%)] | Loss: 0.7374309301376343\n",
      "Train Epoch 8 [ 7040/60000 (12%)] | Loss: 0.49370262026786804\n",
      "Train Epoch 8 [ 7680/60000 (13%)] | Loss: 0.7297922372817993\n",
      "Train Epoch 8 [ 8320/60000 (14%)] | Loss: 0.8005596995353699\n",
      "Train Epoch 8 [ 8960/60000 (15%)] | Loss: 0.619077742099762\n",
      "Train Epoch 8 [ 9600/60000 (16%)] | Loss: 0.6475025415420532\n",
      "Train Epoch 8 [10240/60000 (17%)] | Loss: 0.5680744647979736\n",
      "Train Epoch 8 [10880/60000 (18%)] | Loss: 0.3826214373111725\n",
      "Train Epoch 8 [11520/60000 (19%)] | Loss: 0.4793822765350342\n",
      "Train Epoch 8 [12160/60000 (20%)] | Loss: 0.6649157404899597\n",
      "Train Epoch 8 [12800/60000 (21%)] | Loss: 0.47604233026504517\n",
      "Train Epoch 8 [13440/60000 (22%)] | Loss: 0.6154136061668396\n",
      "Train Epoch 8 [14080/60000 (23%)] | Loss: 0.41822537779808044\n",
      "Train Epoch 8 [14720/60000 (25%)] | Loss: 0.6854590773582458\n",
      "Train Epoch 8 [15360/60000 (26%)] | Loss: 0.7512739896774292\n",
      "Train Epoch 8 [16000/60000 (27%)] | Loss: 0.6102081537246704\n",
      "Train Epoch 8 [16640/60000 (28%)] | Loss: 0.6408233642578125\n",
      "Train Epoch 8 [17280/60000 (29%)] | Loss: 0.531566321849823\n",
      "Train Epoch 8 [17920/60000 (30%)] | Loss: 0.6214628219604492\n",
      "Train Epoch 8 [18560/60000 (31%)] | Loss: 0.7110041379928589\n",
      "Train Epoch 8 [19200/60000 (32%)] | Loss: 0.7102733254432678\n",
      "Train Epoch 8 [19840/60000 (33%)] | Loss: 0.8305366635322571\n",
      "Train Epoch 8 [20480/60000 (34%)] | Loss: 0.7144452333450317\n",
      "Train Epoch 8 [21120/60000 (35%)] | Loss: 0.5002689957618713\n",
      "Train Epoch 8 [21760/60000 (36%)] | Loss: 0.6523178219795227\n",
      "Train Epoch 8 [22400/60000 (37%)] | Loss: 0.5815604329109192\n",
      "Train Epoch 8 [23040/60000 (38%)] | Loss: 0.6952483057975769\n",
      "Train Epoch 8 [23680/60000 (39%)] | Loss: 0.7424812912940979\n",
      "Train Epoch 8 [24320/60000 (41%)] | Loss: 0.4728351831436157\n",
      "Train Epoch 8 [24960/60000 (42%)] | Loss: 0.48050835728645325\n",
      "Train Epoch 8 [25600/60000 (43%)] | Loss: 0.7788223028182983\n",
      "Train Epoch 8 [26240/60000 (44%)] | Loss: 0.7053975462913513\n",
      "Train Epoch 8 [26880/60000 (45%)] | Loss: 0.7231565713882446\n",
      "Train Epoch 8 [27520/60000 (46%)] | Loss: 0.5876898169517517\n",
      "Train Epoch 8 [28160/60000 (47%)] | Loss: 0.8640506863594055\n",
      "Train Epoch 8 [28800/60000 (48%)] | Loss: 0.6012048721313477\n",
      "Train Epoch 8 [29440/60000 (49%)] | Loss: 0.6828684210777283\n",
      "Train Epoch 8 [30080/60000 (50%)] | Loss: 0.7366898655891418\n",
      "Train Epoch 8 [30720/60000 (51%)] | Loss: 0.659734308719635\n",
      "Train Epoch 8 [31360/60000 (52%)] | Loss: 0.5604875683784485\n",
      "Train Epoch 8 [32000/60000 (53%)] | Loss: 0.6967308521270752\n",
      "Train Epoch 8 [32640/60000 (54%)] | Loss: 0.5746746063232422\n",
      "Train Epoch 8 [33280/60000 (55%)] | Loss: 0.7535431385040283\n",
      "Train Epoch 8 [33920/60000 (57%)] | Loss: 0.5470630526542664\n",
      "Train Epoch 8 [34560/60000 (58%)] | Loss: 0.606521725654602\n",
      "Train Epoch 8 [35200/60000 (59%)] | Loss: 0.5933532118797302\n",
      "Train Epoch 8 [35840/60000 (60%)] | Loss: 0.8328704237937927\n",
      "Train Epoch 8 [36480/60000 (61%)] | Loss: 0.584229052066803\n",
      "Train Epoch 8 [37120/60000 (62%)] | Loss: 0.4114777743816376\n",
      "Train Epoch 8 [37760/60000 (63%)] | Loss: 0.5846114754676819\n",
      "Train Epoch 8 [38400/60000 (64%)] | Loss: 0.7833139300346375\n",
      "Train Epoch 8 [39040/60000 (65%)] | Loss: 0.6828017830848694\n",
      "Train Epoch 8 [39680/60000 (66%)] | Loss: 0.5484350323677063\n",
      "Train Epoch 8 [40320/60000 (67%)] | Loss: 0.4432131350040436\n",
      "Train Epoch 8 [40960/60000 (68%)] | Loss: 0.6570035815238953\n",
      "Train Epoch 8 [41600/60000 (69%)] | Loss: 0.7220165133476257\n",
      "Train Epoch 8 [42240/60000 (70%)] | Loss: 0.7710248827934265\n",
      "Train Epoch 8 [42880/60000 (71%)] | Loss: 0.5005875825881958\n",
      "Train Epoch 8 [43520/60000 (72%)] | Loss: 0.7124427556991577\n",
      "Train Epoch 8 [44160/60000 (74%)] | Loss: 0.45808354020118713\n",
      "Train Epoch 8 [44800/60000 (75%)] | Loss: 0.950863242149353\n",
      "Train Epoch 8 [45440/60000 (76%)] | Loss: 0.5796715617179871\n",
      "Train Epoch 8 [46080/60000 (77%)] | Loss: 0.5987225770950317\n",
      "Train Epoch 8 [46720/60000 (78%)] | Loss: 0.5226010680198669\n",
      "Train Epoch 8 [47360/60000 (79%)] | Loss: 0.7541940212249756\n",
      "Train Epoch 8 [48000/60000 (80%)] | Loss: 0.6513658761978149\n",
      "Train Epoch 8 [48640/60000 (81%)] | Loss: 0.6169847249984741\n",
      "Train Epoch 8 [49280/60000 (82%)] | Loss: 0.7107473611831665\n",
      "Train Epoch 8 [49920/60000 (83%)] | Loss: 0.4573027491569519\n",
      "Train Epoch 8 [50560/60000 (84%)] | Loss: 0.5468599200248718\n",
      "Train Epoch 8 [51200/60000 (85%)] | Loss: 0.6618986129760742\n",
      "Train Epoch 8 [51840/60000 (86%)] | Loss: 0.5568157434463501\n",
      "Train Epoch 8 [52480/60000 (87%)] | Loss: 0.49333301186561584\n",
      "Train Epoch 8 [53120/60000 (88%)] | Loss: 0.5744656324386597\n",
      "Train Epoch 8 [53760/60000 (90%)] | Loss: 0.9119692444801331\n",
      "Train Epoch 8 [54400/60000 (91%)] | Loss: 0.6819858551025391\n",
      "Train Epoch 8 [55040/60000 (92%)] | Loss: 0.627665102481842\n",
      "Train Epoch 8 [55680/60000 (93%)] | Loss: 0.7011460661888123\n",
      "Train Epoch 8 [56320/60000 (94%)] | Loss: 0.7021695375442505\n",
      "Train Epoch 8 [56960/60000 (95%)] | Loss: 0.777186930179596\n",
      "Train Epoch 8 [57600/60000 (96%)] | Loss: 0.581778883934021\n",
      "Train Epoch 8 [58240/60000 (97%)] | Loss: 0.4863760471343994\n",
      "Train Epoch 8 [58880/60000 (98%)] | Loss: 0.5988723039627075\n",
      "Train Epoch 8 [59520/60000 (99%)] | Loss: 0.59348464012146\n",
      "\n",
      "Train Acc.: [48931/60000 (82%)]\n",
      "Test Acc.: [ 8239/10000 (82%)]\n",
      "\n",
      "Train Epoch 9 [    0/60000 ( 0%)] | Loss: 0.3938958942890167\n",
      "Train Epoch 9 [  640/60000 ( 1%)] | Loss: 0.5513746738433838\n",
      "Train Epoch 9 [ 1280/60000 ( 2%)] | Loss: 0.4615820050239563\n",
      "Train Epoch 9 [ 1920/60000 ( 3%)] | Loss: 0.44192400574684143\n",
      "Train Epoch 9 [ 2560/60000 ( 4%)] | Loss: 0.5135112404823303\n",
      "Train Epoch 9 [ 3200/60000 ( 5%)] | Loss: 0.7151435017585754\n",
      "Train Epoch 9 [ 3840/60000 ( 6%)] | Loss: 0.7998674511909485\n",
      "Train Epoch 9 [ 4480/60000 ( 7%)] | Loss: 0.6823133230209351\n",
      "Train Epoch 9 [ 5120/60000 ( 9%)] | Loss: 0.6176889538764954\n",
      "Train Epoch 9 [ 5760/60000 (10%)] | Loss: 0.6155648827552795\n",
      "Train Epoch 9 [ 6400/60000 (11%)] | Loss: 0.4863055944442749\n",
      "Train Epoch 9 [ 7040/60000 (12%)] | Loss: 0.5308982729911804\n",
      "Train Epoch 9 [ 7680/60000 (13%)] | Loss: 0.6832703948020935\n",
      "Train Epoch 9 [ 8320/60000 (14%)] | Loss: 0.45021164417266846\n",
      "Train Epoch 9 [ 8960/60000 (15%)] | Loss: 0.5766820311546326\n",
      "Train Epoch 9 [ 9600/60000 (16%)] | Loss: 0.587805986404419\n",
      "Train Epoch 9 [10240/60000 (17%)] | Loss: 0.6349563002586365\n",
      "Train Epoch 9 [10880/60000 (18%)] | Loss: 0.6274397373199463\n",
      "Train Epoch 9 [11520/60000 (19%)] | Loss: 0.5900976657867432\n",
      "Train Epoch 9 [12160/60000 (20%)] | Loss: 0.6520538926124573\n",
      "Train Epoch 9 [12800/60000 (21%)] | Loss: 0.7066619396209717\n",
      "Train Epoch 9 [13440/60000 (22%)] | Loss: 0.6113887429237366\n",
      "Train Epoch 9 [14080/60000 (23%)] | Loss: 0.5347475409507751\n",
      "Train Epoch 9 [14720/60000 (25%)] | Loss: 0.6275447607040405\n",
      "Train Epoch 9 [15360/60000 (26%)] | Loss: 0.4987015724182129\n",
      "Train Epoch 9 [16000/60000 (27%)] | Loss: 0.4842160642147064\n",
      "Train Epoch 9 [16640/60000 (28%)] | Loss: 0.7177836894989014\n",
      "Train Epoch 9 [17280/60000 (29%)] | Loss: 0.5873323082923889\n",
      "Train Epoch 9 [17920/60000 (30%)] | Loss: 0.4868693947792053\n",
      "Train Epoch 9 [18560/60000 (31%)] | Loss: 0.4988287687301636\n",
      "Train Epoch 9 [19200/60000 (32%)] | Loss: 0.6209101676940918\n",
      "Train Epoch 9 [19840/60000 (33%)] | Loss: 0.7661006450653076\n",
      "Train Epoch 9 [20480/60000 (34%)] | Loss: 0.6005090475082397\n",
      "Train Epoch 9 [21120/60000 (35%)] | Loss: 0.5618295669555664\n",
      "Train Epoch 9 [21760/60000 (36%)] | Loss: 0.48938262462615967\n",
      "Train Epoch 9 [22400/60000 (37%)] | Loss: 0.6343676447868347\n",
      "Train Epoch 9 [23040/60000 (38%)] | Loss: 0.6608214378356934\n",
      "Train Epoch 9 [23680/60000 (39%)] | Loss: 0.7208148837089539\n",
      "Train Epoch 9 [24320/60000 (41%)] | Loss: 0.592948853969574\n",
      "Train Epoch 9 [24960/60000 (42%)] | Loss: 0.6707565784454346\n",
      "Train Epoch 9 [25600/60000 (43%)] | Loss: 0.5271430611610413\n",
      "Train Epoch 9 [26240/60000 (44%)] | Loss: 0.6866194009780884\n",
      "Train Epoch 9 [26880/60000 (45%)] | Loss: 0.5038571357727051\n",
      "Train Epoch 9 [27520/60000 (46%)] | Loss: 0.5450665354728699\n",
      "Train Epoch 9 [28160/60000 (47%)] | Loss: 0.6323354244232178\n",
      "Train Epoch 9 [28800/60000 (48%)] | Loss: 0.4223887026309967\n",
      "Train Epoch 9 [29440/60000 (49%)] | Loss: 0.7444312572479248\n",
      "Train Epoch 9 [30080/60000 (50%)] | Loss: 0.5884319543838501\n",
      "Train Epoch 9 [30720/60000 (51%)] | Loss: 0.8629615902900696\n",
      "Train Epoch 9 [31360/60000 (52%)] | Loss: 0.5823971033096313\n",
      "Train Epoch 9 [32000/60000 (53%)] | Loss: 0.7990056276321411\n",
      "Train Epoch 9 [32640/60000 (54%)] | Loss: 0.5104265809059143\n",
      "Train Epoch 9 [33280/60000 (55%)] | Loss: 0.44172564148902893\n",
      "Train Epoch 9 [33920/60000 (57%)] | Loss: 0.5617086887359619\n",
      "Train Epoch 9 [34560/60000 (58%)] | Loss: 0.4439622759819031\n",
      "Train Epoch 9 [35200/60000 (59%)] | Loss: 0.4620057940483093\n",
      "Train Epoch 9 [35840/60000 (60%)] | Loss: 0.5946930646896362\n",
      "Train Epoch 9 [36480/60000 (61%)] | Loss: 0.7325759530067444\n",
      "Train Epoch 9 [37120/60000 (62%)] | Loss: 0.5347798466682434\n",
      "Train Epoch 9 [37760/60000 (63%)] | Loss: 0.4975817799568176\n",
      "Train Epoch 9 [38400/60000 (64%)] | Loss: 0.6435710787773132\n",
      "Train Epoch 9 [39040/60000 (65%)] | Loss: 0.6435020565986633\n",
      "Train Epoch 9 [39680/60000 (66%)] | Loss: 0.41780808568000793\n",
      "Train Epoch 9 [40320/60000 (67%)] | Loss: 0.6242477297782898\n",
      "Train Epoch 9 [40960/60000 (68%)] | Loss: 0.7331125736236572\n",
      "Train Epoch 9 [41600/60000 (69%)] | Loss: 0.5514275431632996\n",
      "Train Epoch 9 [42240/60000 (70%)] | Loss: 0.7188794612884521\n",
      "Train Epoch 9 [42880/60000 (71%)] | Loss: 0.6010039448738098\n",
      "Train Epoch 9 [43520/60000 (72%)] | Loss: 0.8424183130264282\n",
      "Train Epoch 9 [44160/60000 (74%)] | Loss: 0.6912473440170288\n",
      "Train Epoch 9 [44800/60000 (75%)] | Loss: 0.5621986985206604\n",
      "Train Epoch 9 [45440/60000 (76%)] | Loss: 0.6209219694137573\n",
      "Train Epoch 9 [46080/60000 (77%)] | Loss: 0.4578317105770111\n",
      "Train Epoch 9 [46720/60000 (78%)] | Loss: 0.6607531309127808\n",
      "Train Epoch 9 [47360/60000 (79%)] | Loss: 0.7115312218666077\n",
      "Train Epoch 9 [48000/60000 (80%)] | Loss: 0.6065384745597839\n",
      "Train Epoch 9 [48640/60000 (81%)] | Loss: 0.6098307967185974\n",
      "Train Epoch 9 [49280/60000 (82%)] | Loss: 0.8240343332290649\n",
      "Train Epoch 9 [49920/60000 (83%)] | Loss: 0.5399185419082642\n",
      "Train Epoch 9 [50560/60000 (84%)] | Loss: 0.7893980145454407\n",
      "Train Epoch 9 [51200/60000 (85%)] | Loss: 0.5186922550201416\n",
      "Train Epoch 9 [51840/60000 (86%)] | Loss: 0.5972452759742737\n",
      "Train Epoch 9 [52480/60000 (87%)] | Loss: 0.5820731520652771\n",
      "Train Epoch 9 [53120/60000 (88%)] | Loss: 0.520683765411377\n",
      "Train Epoch 9 [53760/60000 (90%)] | Loss: 0.7244642376899719\n",
      "Train Epoch 9 [54400/60000 (91%)] | Loss: 0.6984077095985413\n",
      "Train Epoch 9 [55040/60000 (92%)] | Loss: 0.6457695960998535\n",
      "Train Epoch 9 [55680/60000 (93%)] | Loss: 0.6352980732917786\n",
      "Train Epoch 9 [56320/60000 (94%)] | Loss: 0.6975148320198059\n",
      "Train Epoch 9 [56960/60000 (95%)] | Loss: 0.7641412019729614\n",
      "Train Epoch 9 [57600/60000 (96%)] | Loss: 0.6568049788475037\n",
      "Train Epoch 9 [58240/60000 (97%)] | Loss: 0.6879119873046875\n",
      "Train Epoch 9 [58880/60000 (98%)] | Loss: 0.5912175178527832\n",
      "Train Epoch 9 [59520/60000 (99%)] | Loss: 0.6121577620506287\n",
      "\n",
      "Train Acc.: [49169/60000 (82%)]\n",
      "Test Acc.: [ 8281/10000 (83%)]\n",
      "\n",
      "Train Epoch 10 [    0/60000 ( 0%)] | Loss: 0.5367880463600159\n",
      "Train Epoch 10 [  640/60000 ( 1%)] | Loss: 0.5864474773406982\n",
      "Train Epoch 10 [ 1280/60000 ( 2%)] | Loss: 0.7180456519126892\n",
      "Train Epoch 10 [ 1920/60000 ( 3%)] | Loss: 0.5126463174819946\n",
      "Train Epoch 10 [ 2560/60000 ( 4%)] | Loss: 0.7613352537155151\n",
      "Train Epoch 10 [ 3200/60000 ( 5%)] | Loss: 0.7583283185958862\n",
      "Train Epoch 10 [ 3840/60000 ( 6%)] | Loss: 0.5526658296585083\n",
      "Train Epoch 10 [ 4480/60000 ( 7%)] | Loss: 0.484652042388916\n",
      "Train Epoch 10 [ 5120/60000 ( 9%)] | Loss: 0.49070510268211365\n",
      "Train Epoch 10 [ 5760/60000 (10%)] | Loss: 0.554818868637085\n",
      "Train Epoch 10 [ 6400/60000 (11%)] | Loss: 0.5562705397605896\n",
      "Train Epoch 10 [ 7040/60000 (12%)] | Loss: 0.7433286309242249\n",
      "Train Epoch 10 [ 7680/60000 (13%)] | Loss: 0.5652579665184021\n",
      "Train Epoch 10 [ 8320/60000 (14%)] | Loss: 0.698442280292511\n",
      "Train Epoch 10 [ 8960/60000 (15%)] | Loss: 0.6889696717262268\n",
      "Train Epoch 10 [ 9600/60000 (16%)] | Loss: 0.6023893356323242\n",
      "Train Epoch 10 [10240/60000 (17%)] | Loss: 0.604236900806427\n",
      "Train Epoch 10 [10880/60000 (18%)] | Loss: 0.6004025936126709\n",
      "Train Epoch 10 [11520/60000 (19%)] | Loss: 0.5966112017631531\n",
      "Train Epoch 10 [12160/60000 (20%)] | Loss: 0.6889429688453674\n",
      "Train Epoch 10 [12800/60000 (21%)] | Loss: 0.6627945899963379\n",
      "Train Epoch 10 [13440/60000 (22%)] | Loss: 0.529766857624054\n",
      "Train Epoch 10 [14080/60000 (23%)] | Loss: 0.6067399382591248\n",
      "Train Epoch 10 [14720/60000 (25%)] | Loss: 0.5942009091377258\n",
      "Train Epoch 10 [15360/60000 (26%)] | Loss: 0.47178420424461365\n",
      "Train Epoch 10 [16000/60000 (27%)] | Loss: 0.5780807733535767\n",
      "Train Epoch 10 [16640/60000 (28%)] | Loss: 0.622906506061554\n",
      "Train Epoch 10 [17280/60000 (29%)] | Loss: 0.4907139539718628\n",
      "Train Epoch 10 [17920/60000 (30%)] | Loss: 0.5541150569915771\n",
      "Train Epoch 10 [18560/60000 (31%)] | Loss: 0.7631766200065613\n",
      "Train Epoch 10 [19200/60000 (32%)] | Loss: 0.46709898114204407\n",
      "Train Epoch 10 [19840/60000 (33%)] | Loss: 0.44677263498306274\n",
      "Train Epoch 10 [20480/60000 (34%)] | Loss: 0.8104192018508911\n",
      "Train Epoch 10 [21120/60000 (35%)] | Loss: 0.5719583630561829\n",
      "Train Epoch 10 [21760/60000 (36%)] | Loss: 0.7585922479629517\n",
      "Train Epoch 10 [22400/60000 (37%)] | Loss: 0.7667705416679382\n",
      "Train Epoch 10 [23040/60000 (38%)] | Loss: 0.8153911232948303\n",
      "Train Epoch 10 [23680/60000 (39%)] | Loss: 0.6405208706855774\n",
      "Train Epoch 10 [24320/60000 (41%)] | Loss: 0.5314316749572754\n",
      "Train Epoch 10 [24960/60000 (42%)] | Loss: 0.6922550797462463\n",
      "Train Epoch 10 [25600/60000 (43%)] | Loss: 0.6735111474990845\n",
      "Train Epoch 10 [26240/60000 (44%)] | Loss: 0.7216372489929199\n",
      "Train Epoch 10 [26880/60000 (45%)] | Loss: 0.6160342693328857\n",
      "Train Epoch 10 [27520/60000 (46%)] | Loss: 0.7936550378799438\n",
      "Train Epoch 10 [28160/60000 (47%)] | Loss: 0.6151425242424011\n",
      "Train Epoch 10 [28800/60000 (48%)] | Loss: 0.5295149683952332\n",
      "Train Epoch 10 [29440/60000 (49%)] | Loss: 0.6628149747848511\n",
      "Train Epoch 10 [30080/60000 (50%)] | Loss: 0.5474182367324829\n",
      "Train Epoch 10 [30720/60000 (51%)] | Loss: 0.5437774062156677\n",
      "Train Epoch 10 [31360/60000 (52%)] | Loss: 0.5439333319664001\n",
      "Train Epoch 10 [32000/60000 (53%)] | Loss: 0.7467899322509766\n",
      "Train Epoch 10 [32640/60000 (54%)] | Loss: 0.5731435418128967\n",
      "Train Epoch 10 [33280/60000 (55%)] | Loss: 0.44905829429626465\n",
      "Train Epoch 10 [33920/60000 (57%)] | Loss: 0.7554147839546204\n",
      "Train Epoch 10 [34560/60000 (58%)] | Loss: 0.7002047896385193\n",
      "Train Epoch 10 [35200/60000 (59%)] | Loss: 0.5466840267181396\n",
      "Train Epoch 10 [35840/60000 (60%)] | Loss: 0.4873063564300537\n",
      "Train Epoch 10 [36480/60000 (61%)] | Loss: 0.6492420434951782\n",
      "Train Epoch 10 [37120/60000 (62%)] | Loss: 0.6587071418762207\n",
      "Train Epoch 10 [37760/60000 (63%)] | Loss: 0.578904926776886\n",
      "Train Epoch 10 [38400/60000 (64%)] | Loss: 0.5938961505889893\n",
      "Train Epoch 10 [39040/60000 (65%)] | Loss: 0.6325002312660217\n",
      "Train Epoch 10 [39680/60000 (66%)] | Loss: 0.6193810105323792\n",
      "Train Epoch 10 [40320/60000 (67%)] | Loss: 0.4877927601337433\n",
      "Train Epoch 10 [40960/60000 (68%)] | Loss: 0.4929543733596802\n",
      "Train Epoch 10 [41600/60000 (69%)] | Loss: 0.4534747302532196\n",
      "Train Epoch 10 [42240/60000 (70%)] | Loss: 0.4516349136829376\n",
      "Train Epoch 10 [42880/60000 (71%)] | Loss: 0.7047621607780457\n",
      "Train Epoch 10 [43520/60000 (72%)] | Loss: 0.667485773563385\n",
      "Train Epoch 10 [44160/60000 (74%)] | Loss: 0.734049916267395\n",
      "Train Epoch 10 [44800/60000 (75%)] | Loss: 0.4896669089794159\n",
      "Train Epoch 10 [45440/60000 (76%)] | Loss: 0.6269165873527527\n",
      "Train Epoch 10 [46080/60000 (77%)] | Loss: 0.49635782837867737\n",
      "Train Epoch 10 [46720/60000 (78%)] | Loss: 0.6370530724525452\n",
      "Train Epoch 10 [47360/60000 (79%)] | Loss: 0.5188486576080322\n",
      "Train Epoch 10 [48000/60000 (80%)] | Loss: 0.7927321791648865\n",
      "Train Epoch 10 [48640/60000 (81%)] | Loss: 0.5258261561393738\n",
      "Train Epoch 10 [49280/60000 (82%)] | Loss: 0.48656871914863586\n",
      "Train Epoch 10 [49920/60000 (83%)] | Loss: 0.6449181437492371\n",
      "Train Epoch 10 [50560/60000 (84%)] | Loss: 0.5406584143638611\n",
      "Train Epoch 10 [51200/60000 (85%)] | Loss: 0.7714813947677612\n",
      "Train Epoch 10 [51840/60000 (86%)] | Loss: 0.5084467530250549\n",
      "Train Epoch 10 [52480/60000 (87%)] | Loss: 0.6479823589324951\n",
      "Train Epoch 10 [53120/60000 (88%)] | Loss: 0.4980029761791229\n",
      "Train Epoch 10 [53760/60000 (90%)] | Loss: 0.6071701049804688\n",
      "Train Epoch 10 [54400/60000 (91%)] | Loss: 0.448141485452652\n",
      "Train Epoch 10 [55040/60000 (92%)] | Loss: 0.5876416563987732\n",
      "Train Epoch 10 [55680/60000 (93%)] | Loss: 0.6099721789360046\n",
      "Train Epoch 10 [56320/60000 (94%)] | Loss: 0.7680044770240784\n",
      "Train Epoch 10 [56960/60000 (95%)] | Loss: 0.6618853211402893\n",
      "Train Epoch 10 [57600/60000 (96%)] | Loss: 0.7971283793449402\n",
      "Train Epoch 10 [58240/60000 (97%)] | Loss: 0.46309998631477356\n",
      "Train Epoch 10 [58880/60000 (98%)] | Loss: 0.7431948184967041\n",
      "Train Epoch 10 [59520/60000 (99%)] | Loss: 0.49127939343452454\n",
      "\n",
      "Train Acc.: [49364/60000 (82%)]\n",
      "Test Acc.: [ 8317/10000 (83%)]\n",
      "\n"
     ]
    }
   ],
   "source": [
    "# Design model\n",
    "n_test_samples = len(mnist_test_dataset)\n",
    "n_samples = len(mnist_train_dataset)\n",
    "n_features = (\n",
    "    mnist_train_dataset.train_data.shape[1]*mnist_train_dataset.train_data.shape[2]\n",
    ")\n",
    "n_classes = mnist_train_dataset.targets.unique().shape[0]\n",
    "model = NeuralNet(n_features, 120, 2, n_classes)\n",
    "\n",
    "# Construct Loss and Optimizer\n",
    "loss = nn.CrossEntropyLoss()\n",
    "optimizer = torch.optim.Adam(model.parameters(), lr=lr)\n",
    "\n",
    "train_losses = []\n",
    "# test_losses = []\n",
    "\n",
    "for epoch in range(num_epochs):\n",
    "    train_acc = 0\n",
    "    test_acc = 0\n",
    "    for batch_idx, (X_train, y_train) in enumerate(train_dataloader):\n",
    "        # Forward pass\n",
    "        y_hat = model(X_train)\n",
    "\n",
    "        pred = torch.max(y_hat.data, 1)[1]\n",
    "        batch_corr = (pred==y_train).sum()\n",
    "        train_acc += batch_corr\n",
    "\n",
    "        # Loss computation\n",
    "        J = loss(y_hat, y_train)\n",
    "\n",
    "        # Backward pass\n",
    "        J.backward()\n",
    "\n",
    "        # Update parameters\n",
    "        optimizer.step()\n",
    "\n",
    "        # Zero grad\n",
    "        optimizer.zero_grad()\n",
    "\n",
    "        # Print train loss\n",
    "        if batch_idx % 10 == 0:\n",
    "            print('Train Epoch {} [{:>5}/{} ({:>2.0f}%)] | Loss: {}'.format(\n",
    "                epoch+1, batch_idx * batch_size, n_samples, \n",
    "                100*batch_idx / len(train_dataloader), J))\n",
    "            train_losses.append(J)\n",
    "\n",
    "    with torch.no_grad():\n",
    "        for batch_idx, (X_test, y_test) in enumerate(test_dataloader):\n",
    "            # Forward pass\n",
    "            y_val = model(X_test)\n",
    "\n",
    "            pred = torch.max(y_val.data, 1)[1]\n",
    "            batch_corr = (pred==y_test).sum()\n",
    "            test_acc += batch_corr\n",
    "\n",
    "    print('\\nTrain Acc.: [{:>5}/{} ({:>2.0f}%)]'.format(train_acc, n_samples, 100 * train_acc / n_samples))\n",
    "    print('Test Acc.: [{:>5}/{} ({:>2.0f}%)]\\n'.format(test_acc, n_test_samples, 100 * test_acc / n_test_samples))"
   ]
  },
  {
   "cell_type": "code",
   "execution_count": 53,
   "metadata": {},
   "outputs": [
    {
     "data": {
      "image/png": "[encoded data removed]",
      "text/plain": [
       "<Figure size 576x576 with 1 Axes>"
      ]
     },
     "metadata": {
      "needs_background": "light"
     },
     "output_type": "display_data"
    }
   ],
   "source": [
    "idx = list(range(len(train_losses)))\n",
    "\n",
    "fig = plt.figure(figsize=(8,8))\n",
    "plt.plot(idx, train_losses, 'b-')\n",
    "fig.show()"
   ]
  },
  {
   "cell_type": "markdown",
   "metadata": {},
   "source": [
    "---"
   ]
  }
 ],
 "metadata": {
  "kernelspec": {
   "display_name": "Python 3",
   "language": "python",
   "name": "python3"
  },
  "language_info": {
   "codemirror_mode": {
    "name": "ipython",
    "version": 3
   },
   "file_extension": ".py",
   "mimetype": "text/x-python",
   "name": "python",
   "nbconvert_exporter": "python",
   "pygments_lexer": "ipython3",
   "version": "3.7.6"
  }
 },
 "nbformat": 4,
 "nbformat_minor": 4
}
