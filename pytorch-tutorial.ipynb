{
 "cells": [
  {
   "cell_type": "code",
   "execution_count": 1,
   "metadata": {},
   "outputs": [],
   "source": [
    "import torch\n",
    "import torchvision\n",
    "\n",
    "import numpy as np\n",
    "import pandas as pd\n",
    "import torch.nn as nn\n",
    "import matplotlib.pyplot as plt\n",
    "\n",
    "from sklearn import datasets\n",
    "from utils import displayMathHelper\n",
    "from torch.utils.data import Dataset, DataLoader\n",
    "from IPython.display import Image, display, Math"
   ]
  },
  {
   "cell_type": "markdown",
   "metadata": {},
   "source": [
    "# 1: Basics"
   ]
  },
  {
   "cell_type": "markdown",
   "metadata": {},
   "source": [
    "## 1.1: Tensors"
   ]
  },
  {
   "cell_type": "code",
   "execution_count": 2,
   "metadata": {},
   "outputs": [],
   "source": [
    "# Creating tensors, operating it and particularities\n",
    "\n",
    "## Empty tensor\n",
    "x = torch.empty(1) # 1-D empty tensor\n",
    "x = torch.empty(2, 1) # 2-D empty tensor\n",
    "# x = torch.empty(n-dimensional tensor) # n-D empty tensor\n",
    "\n",
    "## Zeros tensor\n",
    "x = torch.zeros(1) # 1-D zeros tensor\n",
    "\n",
    "## Ones tensor\n",
    "x = torch.ones(1) # 1-D ones tensor\n",
    "\n",
    "## Defining type\n",
    "x = torch.ones(2,2, dtype=torch.float16)\n",
    "# print(x.dtype)\n",
    "\n",
    "## Retrieving tensor size\n",
    "# print(x.size())\n",
    "\n",
    "## Creating tensor \"from scratch\"\n",
    "x = torch.tensor([[2.5, 5], [1.7, 8]])\n",
    "\n",
    "## Operations\n",
    "x = torch.rand(2, 2)\n",
    "y = torch.rand(2, 2)\n",
    "\n",
    "### Arithmetic\n",
    "z = x+y # Element-wise addition\n",
    "z = torch.add(x,y) # Same result\n",
    "y.add_(x) # Inplace element-wise addition; functions if \"_\" before its name make inplace ops\n",
    "\n",
    "z = x-y # Element-wise subtraction\n",
    "z = torch.sub(x, y) # Analogous as above\n",
    "y.sub_(x) # Analogous as above\n",
    "\n",
    "z = x*y # Element-wise multiplication\n",
    "z = torch.mul(x, y) # Analogous as above\n",
    "y.mul_(x) # Analogous as above\n",
    "\n",
    "z = x / y # Element-wise division\n",
    "z = torch.div(x, y) # Analogous as above\n",
    "y.div_(x) # Analogous as above\n",
    "\n",
    "### Slicing\n",
    "z = x[:, 1]\n",
    "z = x[1, 1]\n",
    "\n",
    "### Reshaping\n",
    "z = x.view(4)\n",
    "z = x.view(-1, 2)\n",
    "\n",
    "### Casting to numpy arrays\n",
    "z = x.numpy()\n",
    "\n",
    "### Casting from numpy arrays to pytorch tensors\n",
    "z = np.array([[1, 3.4], [5, 8.9]])\n",
    "w = torch.from_numpy(z)\n",
    "\n",
    "### Working on GPU\n",
    "# if torch.cuda_is_available():\n",
    "#     gpu = torch.device(\"cuda\")\n",
    "#     x = torch.ones(1, 2, device=gpu) # Tensor allocated on GPU\n",
    "#     y = torch.ones(5) # Tensor allocated on CPU\n",
    "#     y = y.to(gpu) # Sending tensor instantiated on CPU to GPU\n",
    "\n",
    "### Observation\n",
    "#################################################################################\n",
    "#    When dealing with tensors which you need to compute their gradients        #\n",
    "#    (e.g in optimization), Pytorch requires defining it explicitly.            #\n",
    "#################################################################################\n",
    "# x = torch.ones(4, requires_grad=True) # requires_grad argument is False by default"
   ]
  },
  {
   "cell_type": "markdown",
   "metadata": {},
   "source": [
    "---"
   ]
  },
  {
   "cell_type": "markdown",
   "metadata": {},
   "source": [
    "## 1.2: Autograd"
   ]
  },
  {
   "cell_type": "markdown",
   "metadata": {},
   "source": [
    "Autograd's package: used to ease the calculation of gradients. Its principle is based on Automatic Differentiation (autodiff)\n",
    "which is a general method for automatically computing the derivative of a value. For more details, I highly recommend checking out\n",
    "Prof. Roger Grosse lecture's slides¹ about the technique and the following medium post² about Pytorch's implementation of it.\n",
    "\n",
    "1: https://www.cs.toronto.edu/~rgrosse/courses/csc321_2018/slides/lec10.pdf <br>\n",
    "2: https://mustafaghali11.medium.com/how-pytorch-backward-function-works-55669b3b7c62"
   ]
  },
  {
   "cell_type": "code",
   "execution_count": 3,
   "metadata": {},
   "outputs": [],
   "source": [
    "# First, let's create an input tensor\n",
    "x = torch.rand(3, requires_grad=True) # Remember that it's necessary to enable requires_grad property\n",
    "\n",
    "# After creating the input tensor, let's define\n",
    "# an operation over this tensor.\n",
    "y = 3*x+2 # Creates the computational graph"
   ]
  },
  {
   "cell_type": "markdown",
   "metadata": {},
   "source": [
    "**Computational graph created after operating over the tensor:**"
   ]
  },
  {
   "cell_type": "code",
   "execution_count": 4,
   "metadata": {},
   "outputs": [
    {
     "data": {
      "image/png": "[encoded data removed]",
      "text/plain": [
       "<IPython.core.display.Image object>"
      ]
     },
     "execution_count": 4,
     "metadata": {},
     "output_type": "execute_result"
    }
   ],
   "source": [
    "Image(filename=\"assets/images/compt_graph.png\")"
   ]
  },
  {
   "cell_type": "code",
   "execution_count": 5,
   "metadata": {},
   "outputs": [
    {
     "name": "stdout",
     "output_type": "stream",
     "text": [
      "X: tensor([0.1841, 0.1727, 0.9740], requires_grad=True)\n",
      "Y: tensor([2.5523, 2.5180, 4.9219], grad_fn=<AddBackward0>)\n"
     ]
    }
   ],
   "source": [
    "print(\"X:\", x)\n",
    "print(\"Y:\", y)"
   ]
  },
  {
   "cell_type": "markdown",
   "metadata": {},
   "source": [
    "As seen, tensor X has requires_grad property set as **True** and tensor Y has the last operation over X (addition) as its gradient function. \n",
    "In the next example, Z is a tensor computed multiplying Y by itself and your grad. function is the multiplication op."
   ]
  },
  {
   "cell_type": "code",
   "execution_count": 6,
   "metadata": {},
   "outputs": [
    {
     "name": "stdout",
     "output_type": "stream",
     "text": [
      "tensor([ 6.5141,  6.3403, 24.2249], grad_fn=<MulBackward0>)\n"
     ]
    }
   ],
   "source": [
    "z = y*y\n",
    "print(z)"
   ]
  },
  {
   "cell_type": "markdown",
   "metadata": {},
   "source": [
    "For the sake of understanding, let's simplify assuming that our output tensor is 1-dimensional."
   ]
  },
  {
   "cell_type": "code",
   "execution_count": 7,
   "metadata": {},
   "outputs": [
    {
     "name": "stdout",
     "output_type": "stream",
     "text": [
      "tensor(12.3598, grad_fn=<MeanBackward0>)\n"
     ]
    }
   ],
   "source": [
    "z = z.mean()\n",
    "print(z)"
   ]
  },
  {
   "cell_type": "markdown",
   "metadata": {},
   "source": [
    "So, in order to compute Z gradient w.r.t. X, we call the Z backward() function and X grad property."
   ]
  },
  {
   "cell_type": "code",
   "execution_count": 8,
   "metadata": {},
   "outputs": [
    {
     "name": "stdout",
     "output_type": "stream",
     "text": [
      "tensor([5.1045, 5.0360, 9.8438]) \n",
      "Three gradients of Z w.r.t. X, because X is a 3-D tensor\n"
     ]
    }
   ],
   "source": [
    "z.backward()\n",
    "print(x.grad, '\\nThree gradients of Z w.r.t. X, because X is a 3-D tensor')"
   ]
  },
  {
   "cell_type": "markdown",
   "metadata": {},
   "source": [
    "On the other hand, if we have a multi-dimensional output tensor, we need to specify a gradient vector as an argument of backward() function\n",
    "towards the correct execution. In this sense, it's used a 'ones' tensor as the gradient vector in the Jacobian-vector Product - which is\n",
    "a way for computing partial derivatives, used inside autograd. For more details, please check the references in the head of this section."
   ]
  },
  {
   "cell_type": "code",
   "execution_count": 9,
   "metadata": {},
   "outputs": [
    {
     "name": "stdout",
     "output_type": "stream",
     "text": [
      "tensor([20.4181, 20.1440, 39.3751])\n"
     ]
    }
   ],
   "source": [
    "y = 3*x+2\n",
    "z = y*y\n",
    "size = list(z.size())\n",
    "init_grad_vec = torch.ones(size)\n",
    "\n",
    "z.backward(init_grad_vec)\n",
    "print(x.grad)"
   ]
  },
  {
   "cell_type": "markdown",
   "metadata": {},
   "source": [
    "Though Pytorch allocate every gradient of a specific variable, sometimes it's essential to reset our gradients."
   ]
  },
  {
   "cell_type": "code",
   "execution_count": 10,
   "metadata": {},
   "outputs": [
    {
     "name": "stdout",
     "output_type": "stream",
     "text": [
      "Step 1 gradient vector: tensor([35.7317, 35.2520, 68.9064])\n",
      "Step 2 gradient vector: tensor([51.0453, 50.3600, 98.4377])\n",
      "Step 3 gradient vector: tensor([ 66.3589,  65.4680, 127.9690])\n"
     ]
    }
   ],
   "source": [
    "for i in range(3):\n",
    "    y = 3*x + 2\n",
    "    z = y*y\n",
    "\n",
    "    z.backward(init_grad_vec)\n",
    "    print(\"Step {} gradient vector: {}\".format(i+1, x.grad))\n",
    "\n",
    "_ = x.grad.zero_()"
   ]
  },
  {
   "cell_type": "code",
   "execution_count": 11,
   "metadata": {},
   "outputs": [
    {
     "name": "stdout",
     "output_type": "stream",
     "text": [
      "Step 1 gradient vector: tensor([15.3136, 15.1080, 29.5313])\n",
      "Step 2 gradient vector: tensor([15.3136, 15.1080, 29.5313])\n",
      "Step 3 gradient vector: tensor([15.3136, 15.1080, 29.5313])\n"
     ]
    }
   ],
   "source": [
    "for i in range(3):\n",
    "    y = 3*x + 2\n",
    "    z = y*y\n",
    "\n",
    "    z.backward(init_grad_vec)\n",
    "    print(\"Step {} gradient vector: {}\".format(i+1, x.grad))\n",
    "    \n",
    "    _ = x.grad.zero_()"
   ]
  },
  {
   "cell_type": "markdown",
   "metadata": {},
   "source": [
    "Sometimes during training we might want to stop tracking variables from the gradient perspective. There are three ways to do so.\n",
    "(As seen below, none of tensors have the property requires_grad in it)"
   ]
  },
  {
   "cell_type": "code",
   "execution_count": 12,
   "metadata": {},
   "outputs": [],
   "source": [
    "# First way\n",
    "x.requires_grad_(False)\n",
    "# print(x)\n",
    "\n",
    "# Second way\n",
    "x.detach()\n",
    "# print(x)\n",
    "\n",
    "# Third way\n",
    "with torch.no_grad():\n",
    "    y = x + 2\n",
    "#     print(y)"
   ]
  },
  {
   "cell_type": "markdown",
   "metadata": {},
   "source": [
    "---"
   ]
  },
  {
   "cell_type": "markdown",
   "metadata": {},
   "source": [
    "## 1.3: Backpropagation"
   ]
  },
  {
   "cell_type": "markdown",
   "metadata": {},
   "source": [
    "Backpropagation is an algorithm used to compute gradients of functions w.r.t. parameters that appears previously \n",
    "to the function computation, and them is backpropagated to which one of them."
   ]
  },
  {
   "cell_type": "markdown",
   "metadata": {},
   "source": [
    "Let's suppose we have a first degree function (w/o linear coefficient, i.e. $y = f(x) = {\\theta}x$). Suppose our parameter $\\theta = 5$.\n",
    "In our computational graph Pytorch's framework, such operation should be seen as follows:"
   ]
  },
  {
   "cell_type": "code",
   "execution_count": 13,
   "metadata": {},
   "outputs": [
    {
     "data": {
      "image/png": "[encoded data removed]",
      "text/plain": [
       "<IPython.core.display.Image object>"
      ]
     },
     "execution_count": 13,
     "metadata": {},
     "output_type": "execute_result"
    }
   ],
   "source": [
    "Image(filename=\"assets/images/bprop_ex_compt_graph_1.png\")"
   ]
  },
  {
   "cell_type": "markdown",
   "metadata": {},
   "source": [
    "Here we have a multiplication operation and the attribution of this result in Y variable (an identity). In the background,\n",
    "the result of the first operation is seen as an intermediate variable - here called Z -, and them it's attributed to Y, completing\n",
    "the forward pass stage. Given that, to compute the gradient of Y w.r.t. X it's necessary to operate using the chain rule of calculus,\n",
    "in order to compute the gradient of Y w.r.t the intermediate variable Z."
   ]
  },
  {
   "cell_type": "markdown",
   "metadata": {},
   "source": [
    "---"
   ]
  },
  {
   "cell_type": "markdown",
   "metadata": {},
   "source": [
    "Briefly, the chain rule assures (not restricted to a 2-step computation. In fact, it's valid, in general, for n-steps):"
   ]
  },
  {
   "cell_type": "markdown",
   "metadata": {},
   "source": [
    "\n",
    "\n",
    "$\\dfrac{dy}{dz}*\\dfrac{dz}{dx} = \\dfrac{dy}{dx}$"
   ]
  },
  {
   "cell_type": "markdown",
   "metadata": {},
   "source": [
    "---"
   ]
  },
  {
   "cell_type": "markdown",
   "metadata": {},
   "source": [
    "The complete computation graph with the forward and backward pass is depicted below:"
   ]
  },
  {
   "cell_type": "code",
   "execution_count": 14,
   "metadata": {},
   "outputs": [
    {
     "data": {
      "image/png": "[encoded data removed]",
      "text/plain": [
       "<IPython.core.display.Image object>"
      ]
     },
     "execution_count": 14,
     "metadata": {},
     "output_type": "execute_result"
    }
   ],
   "source": [
    "Image(filename=\"assets/images/bprop_ex_compt_graph_2.png\")"
   ]
  },
  {
   "cell_type": "markdown",
   "metadata": {},
   "source": [
    "The Pytorch implementation of the backpropagation is as simple as follows:"
   ]
  },
  {
   "cell_type": "code",
   "execution_count": 15,
   "metadata": {},
   "outputs": [
    {
     "name": "stdout",
     "output_type": "stream",
     "text": [
      "dy/dx = 5 (as expected!)\n"
     ]
    }
   ],
   "source": [
    "# Instantiate data point\n",
    "x = torch.tensor([4], dtype=torch.float32, requires_grad=True)\n",
    "\n",
    "# Computational graph\n",
    "y = 5*x # dy/dx = 5\n",
    "\n",
    "# Backward pass\n",
    "y.backward()\n",
    "dy = x.grad\n",
    "\n",
    "print(f'dy/dx = {int(dy.item())} (as expected!)')"
   ]
  },
  {
   "cell_type": "markdown",
   "metadata": {},
   "source": [
    "---"
   ]
  },
  {
   "cell_type": "markdown",
   "metadata": {},
   "source": [
    "## 1.4: Gradient Descent Algorithm"
   ]
  },
  {
   "cell_type": "markdown",
   "metadata": {},
   "source": [
    "Toward to wrap all of these concepts and enable the algorithm to learn the paremeters' values, the gradient descent algorithm\n",
    "this task*. This algorithm can be divided in four steps:\n",
    "\n",
    "* Forward pass\n",
    "* Loss computation\n",
    "* Backward pass\n",
    "* Update parameters\n",
    "\n",
    "The only which wasn't introduced is the loss computation. In short, since the learning is being supervised, i.e. it's known a priori the correct\n",
    "output's value, one way to compute 'how much' the approximation function being learned is 'wrong' is computing the error between its\n",
    "output and the correct value. Here, the loss function used is the well-known Mean Squared Error (MSE)**. \n",
    "\n",
    "\\* The purpose here isn't to explain all the details of gradient descent algorithm.\n",
    "\n",
    "\\** In the examples below the problem is a regression one."
   ]
  },
  {
   "cell_type": "markdown",
   "metadata": {},
   "source": [
    "First, let's code it from scratch, using Numpy:"
   ]
  },
  {
   "cell_type": "code",
   "execution_count": 16,
   "metadata": {},
   "outputs": [
    {
     "data": {
      "text/latex": [
       "$\\displaystyle \\ \\ 20th \\ iter. \\ Error (J): 2.810 \\ | \\ Parameter \\ (\\theta): 4.364$"
      ],
      "text/plain": [
       "<IPython.core.display.Math object>"
      ]
     },
     "metadata": {},
     "output_type": "display_data"
    },
    {
     "data": {
      "text/latex": [
       "$\\displaystyle \\ \\ 40th \\ iter. \\ Error (J): 0.027 \\ | \\ Parameter \\ (\\theta): 4.938$"
      ],
      "text/plain": [
       "<IPython.core.display.Math object>"
      ]
     },
     "metadata": {},
     "output_type": "display_data"
    },
    {
     "data": {
      "text/latex": [
       "$\\displaystyle \\ \\ 60th \\ iter. \\ Error (J): 0.000 \\ | \\ Parameter \\ (\\theta): 4.994$"
      ],
      "text/plain": [
       "<IPython.core.display.Math object>"
      ]
     },
     "metadata": {},
     "output_type": "display_data"
    },
    {
     "data": {
      "text/latex": [
       "$\\displaystyle \\ \\ 80th \\ iter. \\ Error (J): 0.000 \\ | \\ Parameter \\ (\\theta): 4.999$"
      ],
      "text/plain": [
       "<IPython.core.display.Math object>"
      ]
     },
     "metadata": {},
     "output_type": "display_data"
    },
    {
     "data": {
      "text/latex": [
       "$\\displaystyle 100th \\ iter. \\ Error (J): 0.000 \\ | \\ Parameter \\ (\\theta): 5.000$"
      ],
      "text/plain": [
       "<IPython.core.display.Math object>"
      ]
     },
     "metadata": {},
     "output_type": "display_data"
    }
   ],
   "source": [
    "# Set data points\n",
    "X = np.array([1, 2, 3, 4, 5], dtype=np.float32)\n",
    "y = np.array([5, 10, 15, 20, 25], dtype=np.float32)\n",
    "\n",
    "# Randomly initialize parameter\n",
    "theta = np.random.randn(1)\n",
    "\n",
    "# Define hyperparameters\n",
    "lr = 0.01\n",
    "num_iters = 100\n",
    "\n",
    "for i in range(1, num_iters+1):\n",
    "    # Forward pass\n",
    "    y_hat = theta*X\n",
    "\n",
    "    # Loss computation\n",
    "    J = np.mean((y_hat - y)**2) / 2\n",
    "\n",
    "    # Backward pass\n",
    "    dJ = np.mean(X*(y_hat - y)) # This is the derivative of the loss function w.r.t. the parameter theta\n",
    "\n",
    "    # Update parameter\n",
    "    theta = theta - lr*dJ\n",
    "\n",
    "    # Print loss function\n",
    "    if i % 20 == 0:\n",
    "        space_str = displayMathHelper(num_iters, i)\n",
    "        display(Math(r'{space}{i}th \\ iter. \\ Error (J): {J:.3f} \\ | \\ Parameter \\ (\\theta): {theta:.3f}'.format(space=space_str, i=i, J=J, theta=theta[0])))"
   ]
  },
  {
   "cell_type": "markdown",
   "metadata": {},
   "source": [
    "Now with Pytorch's Autograd (untill gradient computation):"
   ]
  },
  {
   "cell_type": "code",
   "execution_count": 17,
   "metadata": {},
   "outputs": [
    {
     "data": {
      "text/latex": [
       "$\\displaystyle \\ \\ 20th \\ iter. \\ Error (J): 1.458 \\ | \\ Parameter \\ (\\theta): 4.542$"
      ],
      "text/plain": [
       "<IPython.core.display.Math object>"
      ]
     },
     "metadata": {},
     "output_type": "display_data"
    },
    {
     "data": {
      "text/latex": [
       "$\\displaystyle \\ \\ 40th \\ iter. \\ Error (J): 0.014 \\ | \\ Parameter \\ (\\theta): 4.955$"
      ],
      "text/plain": [
       "<IPython.core.display.Math object>"
      ]
     },
     "metadata": {},
     "output_type": "display_data"
    },
    {
     "data": {
      "text/latex": [
       "$\\displaystyle \\ \\ 60th \\ iter. \\ Error (J): 0.000 \\ | \\ Parameter \\ (\\theta): 4.996$"
      ],
      "text/plain": [
       "<IPython.core.display.Math object>"
      ]
     },
     "metadata": {},
     "output_type": "display_data"
    },
    {
     "data": {
      "text/latex": [
       "$\\displaystyle \\ \\ 80th \\ iter. \\ Error (J): 0.000 \\ | \\ Parameter \\ (\\theta): 5.000$"
      ],
      "text/plain": [
       "<IPython.core.display.Math object>"
      ]
     },
     "metadata": {},
     "output_type": "display_data"
    },
    {
     "data": {
      "text/latex": [
       "$\\displaystyle 100th \\ iter. \\ Error (J): 0.000 \\ | \\ Parameter \\ (\\theta): 5.000$"
      ],
      "text/plain": [
       "<IPython.core.display.Math object>"
      ]
     },
     "metadata": {},
     "output_type": "display_data"
    }
   ],
   "source": [
    "# Set data points\n",
    "x = torch.tensor([1, 2, 3, 4, 5], dtype=torch.float32)\n",
    "y = torch.tensor([5, 10, 15, 20, 25], dtype=torch.float32)\n",
    "\n",
    "# Randomly initialize parameter\n",
    "theta = torch.rand(1, requires_grad=True)\n",
    "\n",
    "# Define hyperparameters\n",
    "lr = 0.01\n",
    "num_iters = 100\n",
    "\n",
    "for i in range(1, num_iters+1):\n",
    "    # Forward pass\n",
    "    y_hat = theta*x\n",
    "\n",
    "    # Loss computation\n",
    "    J = torch.mean((y_hat - y)**2 / 2)\n",
    "\n",
    "    # Backward pass\n",
    "    J.backward() # dJ/dtheta\n",
    "\n",
    "    # Update parameter\n",
    "    ## Remember that we don't want to track this operation in our computational graph. Given that\n",
    "    ## we should wrap our update operation inside the torch.no_grad(), as explained before.\n",
    "    with torch.no_grad():\n",
    "        theta -= lr*theta.grad\n",
    "\n",
    "    # Zero theta gradients\n",
    "    theta.grad.zero_()\n",
    "\n",
    "    # Print loss function and theta updating\n",
    "    if i % 20 == 0:\n",
    "        space_str = displayMathHelper(num_iters, i)\n",
    "        display(Math(r'{space}{i}th \\ iter. \\ Error (J): {J:.3f} \\ | \\ Parameter \\ (\\theta): {theta:.3f}'.format(space=space_str, i=i, J=J, theta=theta[0])))"
   ]
  },
  {
   "cell_type": "markdown",
   "metadata": {},
   "source": [
    "---"
   ]
  },
  {
   "cell_type": "markdown",
   "metadata": {},
   "source": [
    "## 1.5: Training Pipeline"
   ]
  },
  {
   "cell_type": "markdown",
   "metadata": {},
   "source": [
    "Previously, we implemented our training in two ways: (i) all from scratch; (ii) from scratch mixed with Pytorch's autograd package. \n",
    "Now we'll write all the training pipeline with Pytorch. First, let's recap how we trained our linear regression model mixing\n",
    "from scratch with autograd:"
   ]
  },
  {
   "cell_type": "code",
   "execution_count": 18,
   "metadata": {},
   "outputs": [
    {
     "data": {
      "text/latex": [
       "$\\displaystyle \\ \\ 20th \\ iter. \\ Error \\ (J): 1.392 \\ | \\ Parameter \\ (\\theta): 4.552$"
      ],
      "text/plain": [
       "<IPython.core.display.Math object>"
      ]
     },
     "metadata": {},
     "output_type": "display_data"
    },
    {
     "data": {
      "text/latex": [
       "$\\displaystyle \\ \\ 40th \\ iter. \\ Error \\ (J): 0.013 \\ | \\ Parameter \\ (\\theta): 4.956$"
      ],
      "text/plain": [
       "<IPython.core.display.Math object>"
      ]
     },
     "metadata": {},
     "output_type": "display_data"
    },
    {
     "data": {
      "text/latex": [
       "$\\displaystyle \\ \\ 60th \\ iter. \\ Error \\ (J): 0.000 \\ | \\ Parameter \\ (\\theta): 4.996$"
      ],
      "text/plain": [
       "<IPython.core.display.Math object>"
      ]
     },
     "metadata": {},
     "output_type": "display_data"
    },
    {
     "data": {
      "text/latex": [
       "$\\displaystyle \\ \\ 80th \\ iter. \\ Error \\ (J): 0.000 \\ | \\ Parameter \\ (\\theta): 5.000$"
      ],
      "text/plain": [
       "<IPython.core.display.Math object>"
      ]
     },
     "metadata": {},
     "output_type": "display_data"
    },
    {
     "data": {
      "text/latex": [
       "$\\displaystyle 100th \\ iter. \\ Error \\ (J): 0.000 \\ | \\ Parameter \\ (\\theta): 5.000$"
      ],
      "text/plain": [
       "<IPython.core.display.Math object>"
      ]
     },
     "metadata": {},
     "output_type": "display_data"
    }
   ],
   "source": [
    "# Set data points\n",
    "x = torch.tensor([1, 2, 3, 4, 5], dtype=torch.float32)\n",
    "y = torch.tensor([5, 10, 15, 20, 25], dtype=torch.float32)\n",
    "\n",
    "# Randomly initialize parameter\n",
    "theta = torch.rand(1, requires_grad=True)\n",
    "\n",
    "# Define hyperparameters\n",
    "lr = 0.01\n",
    "num_iters = 100\n",
    "\n",
    "for i in range(1, num_iters+1):\n",
    "    # Forward pass\n",
    "    y_hat = theta*x\n",
    "\n",
    "    # Loss computation\n",
    "    J = torch.mean((y_hat - y)**2 / 2)\n",
    "\n",
    "    # Backward pass\n",
    "    J.backward() # dJ/dtheta\n",
    "\n",
    "    # Update parameter\n",
    "    ## Remember that we don't want to track this operation in our computational graph. Given that\n",
    "    ## we should wrap our update operation inside the torch.no_grad(), as explained before.\n",
    "    with torch.no_grad():\n",
    "        theta -= lr*theta.grad\n",
    "\n",
    "    # Zero theta gradients\n",
    "    theta.grad.zero_()\n",
    "\n",
    "    # Print loss function and theta updating\n",
    "    if i % 20 == 0:\n",
    "        space_str = displayMathHelper(num_iters, i)\n",
    "        display(Math(r'{space}{i}th \\ iter. \\ Error \\ (J): {J:.3f} \\ | \\ Parameter \\ (\\theta): {theta:.3f}'.format(space=space_str, i=i, J=J, theta=theta[0])))"
   ]
  },
  {
   "cell_type": "markdown",
   "metadata": {},
   "source": [
    "As stated above, now we'll implement a linear regression in a fully-Pytorch version. For that, we need to add some steps:\n",
    "\n",
    "1. The model needs to be fed with a matrix whose lines are related to examples and columns to features. In our 1-D example, we need to reshape our covariates and target variables to be a column vector.\n",
    "2. The instance of the model object (in our case, a linear one).\n",
    "3. In order to compute loss and gradients, we need to specify which loss object we want (for a linear regression, good old MSE) and which optimizer. For that example, we use stochastic gradient descent optimizer.\n",
    "\n",
    "Implementation is as follows:"
   ]
  },
  {
   "cell_type": "code",
   "execution_count": 19,
   "metadata": {},
   "outputs": [
    {
     "data": {
      "text/latex": [
       "$\\displaystyle \\ \\ 400th \\ iter. \\ Error (J): 0.050 \\ | \\ Parameter \\ (\\theta): 4.855$"
      ],
      "text/plain": [
       "<IPython.core.display.Math object>"
      ]
     },
     "metadata": {},
     "output_type": "display_data"
    },
    {
     "data": {
      "text/latex": [
       "$\\displaystyle \\ \\ 800th \\ iter. \\ Error (J): 0.003 \\ | \\ Parameter \\ (\\theta): 4.963$"
      ],
      "text/plain": [
       "<IPython.core.display.Math object>"
      ]
     },
     "metadata": {},
     "output_type": "display_data"
    },
    {
     "data": {
      "text/latex": [
       "$\\displaystyle 1200th \\ iter. \\ Error (J): 0.000 \\ | \\ Parameter \\ (\\theta): 4.990$"
      ],
      "text/plain": [
       "<IPython.core.display.Math object>"
      ]
     },
     "metadata": {},
     "output_type": "display_data"
    },
    {
     "data": {
      "text/latex": [
       "$\\displaystyle 1600th \\ iter. \\ Error (J): 0.000 \\ | \\ Parameter \\ (\\theta): 4.998$"
      ],
      "text/plain": [
       "<IPython.core.display.Math object>"
      ]
     },
     "metadata": {},
     "output_type": "display_data"
    },
    {
     "data": {
      "text/latex": [
       "$\\displaystyle 2000th \\ iter. \\ Error (J): 0.000 \\ | \\ Parameter \\ (\\theta): 4.999$"
      ],
      "text/plain": [
       "<IPython.core.display.Math object>"
      ]
     },
     "metadata": {},
     "output_type": "display_data"
    }
   ],
   "source": [
    "# Set data points\n",
    "X = torch.tensor([1, 2, 3, 4, 5], dtype=torch.float32)\n",
    "y = torch.tensor([5, 10, 15, 20, 25], dtype=torch.float32)\n",
    "\n",
    "## Reshaping as column vectors\n",
    "X = X.view(X.shape[0], 1)\n",
    "y = y.view(y.shape[0], 1)\n",
    "\n",
    "# Design model\n",
    "n_samples, n_features = X.shape\n",
    "model = nn.Linear(in_features=n_features, out_features=n_features)\n",
    "\n",
    "# Define hyperparameters\n",
    "lr = 0.01\n",
    "num_iters = 2000\n",
    "\n",
    "# Construct Loss and Optimizer\n",
    "loss = nn.MSELoss()\n",
    "optimizer = torch.optim.SGD(model.parameters(), lr=lr) # Obs.: model.parameters() is a generator object of torch.nn.parameter which has requires_grad set True\n",
    "\n",
    "final_iter_magnitude = np.floor(np.log10(num_iters)).astype(np.int32)\n",
    "for i in range(1, num_iters+1):\n",
    "    # Forward pass\n",
    "    y_hat = model(X)\n",
    "\n",
    "    # Loss computation\n",
    "    J = loss(y_hat, y)\n",
    "\n",
    "    # Backward pass\n",
    "    J.backward() # dJ/dtheta\n",
    "\n",
    "    # Update parameter\n",
    "    optimizer.step()\n",
    "\n",
    "    # Zero theta gradients\n",
    "    optimizer.zero_grad()\n",
    "\n",
    "    # Print loss function and theta updating\n",
    "    if i % 400 == 0:\n",
    "        theta, b = model.parameters()\n",
    "\n",
    "        space_str = displayMathHelper(num_iters, i)\n",
    "        display(Math(r'{space}{i}th \\ iter. \\ Error (J): {J:.3f} \\ | \\ Parameter \\ (\\theta): {theta:.3f}'.format(space=space_str, i=i, J=J, theta=theta.item())))"
   ]
  },
  {
   "cell_type": "markdown",
   "metadata": {},
   "source": [
    "---"
   ]
  },
  {
   "cell_type": "markdown",
   "metadata": {},
   "source": [
    "## 1.6: Linear Regression"
   ]
  },
  {
   "cell_type": "markdown",
   "metadata": {},
   "source": [
    "In this section we'll use the acquired knowledge about how to implement a linear regression fully with Pytorch to a toy dataset. Let's load the dataset:"
   ]
  },
  {
   "cell_type": "code",
   "execution_count": 20,
   "metadata": {},
   "outputs": [],
   "source": [
    "# Loading data\n",
    "X_numpy, y_numpy = datasets.make_regression(n_samples=100, n_features=1,\n",
    "                                            noise=15, random_state=1)\n",
    "\n",
    "## Transform Numpy vectors to Pytorch tensors\n",
    "X = torch.from_numpy(X_numpy.astype(np.float32))\n",
    "y = torch.from_numpy(y_numpy.astype(np.float32))\n",
    "\n",
    "## Reshaping as column vectors\n",
    "X = X.view(X.shape[0], 1)\n",
    "y = y.view(y.shape[0], 1)"
   ]
  },
  {
   "cell_type": "markdown",
   "metadata": {},
   "source": [
    "Then, we follow the steps followed before:\n",
    "\n",
    "* Design model (a linear one for that problem)\n",
    "* Construct loss function and optimizer\n",
    "* Forward pass\n",
    "* Backward pass\n",
    "* Update parameters\n",
    "\n",
    "In order to visualize results, it is plotted data points scatter with the line learned."
   ]
  },
  {
   "cell_type": "code",
   "execution_count": 21,
   "metadata": {},
   "outputs": [
    {
     "data": {
      "text/latex": [
       "$\\displaystyle \\ \\ 200th \\ iter. \\ Error (J): 196.898 \\ | \\ Parameter \\ (\\theta): 78.572$"
      ],
      "text/plain": [
       "<IPython.core.display.Math object>"
      ]
     },
     "metadata": {},
     "output_type": "display_data"
    },
    {
     "data": {
      "text/latex": [
       "$\\displaystyle \\ \\ 400th \\ iter. \\ Error (J): 187.089 \\ | \\ Parameter \\ (\\theta): 81.889$"
      ],
      "text/plain": [
       "<IPython.core.display.Math object>"
      ]
     },
     "metadata": {},
     "output_type": "display_data"
    },
    {
     "data": {
      "text/latex": [
       "$\\displaystyle \\ \\ 600th \\ iter. \\ Error (J): 187.069 \\ | \\ Parameter \\ (\\theta): 82.034$"
      ],
      "text/plain": [
       "<IPython.core.display.Math object>"
      ]
     },
     "metadata": {},
     "output_type": "display_data"
    },
    {
     "data": {
      "text/latex": [
       "$\\displaystyle \\ \\ 800th \\ iter. \\ Error (J): 187.069 \\ | \\ Parameter \\ (\\theta): 82.041$"
      ],
      "text/plain": [
       "<IPython.core.display.Math object>"
      ]
     },
     "metadata": {},
     "output_type": "display_data"
    },
    {
     "data": {
      "text/latex": [
       "$\\displaystyle 1000th \\ iter. \\ Error (J): 187.069 \\ | \\ Parameter \\ (\\theta): 82.041$"
      ],
      "text/plain": [
       "<IPython.core.display.Math object>"
      ]
     },
     "metadata": {},
     "output_type": "display_data"
    }
   ],
   "source": [
    "# Design model\n",
    "n_samples, n_features = X.shape\n",
    "model = nn.Linear(in_features=n_features, out_features=n_features)\n",
    "\n",
    "# Define hyperparameters\n",
    "lr = 0.01\n",
    "num_iters = 1000\n",
    "\n",
    "# Construct Loss and Optimizer\n",
    "loss = nn.MSELoss()\n",
    "optimizer = torch.optim.SGD(model.parameters(), lr=lr)\n",
    "\n",
    "for i in range(1, num_iters+1):\n",
    "    # Forward pass\n",
    "    y_hat = model(X)\n",
    "\n",
    "    # Loss computation\n",
    "    J = loss(y_hat, y)\n",
    "\n",
    "    # Backward pass\n",
    "    J.backward() # dJ/dtheta\n",
    "\n",
    "    # Update parameter\n",
    "    optimizer.step()\n",
    "\n",
    "    # Zero theta gradients\n",
    "    optimizer.zero_grad()\n",
    "\n",
    "    # Print loss function and theta updating\n",
    "    if i % 200 == 0:\n",
    "        theta, b = model.parameters()\n",
    "\n",
    "        space_str = displayMathHelper(num_iters, i)\n",
    "        display(Math(r'{space}{i}th \\ iter. \\ Error (J): {J:.3f} \\ | \\ Parameter \\ (\\theta): {theta:.3f}'.format(space=space_str, i=i, J=J, theta=theta.item())))"
   ]
  },
  {
   "cell_type": "code",
   "execution_count": 22,
   "metadata": {},
   "outputs": [
    {
     "data": {
      "image/png": "[encoded data removed]",
      "text/plain": [
       "<Figure size 576x576 with 1 Axes>"
      ]
     },
     "metadata": {
      "needs_background": "light"
     },
     "output_type": "display_data"
    }
   ],
   "source": [
    "predicted = model(X).detach().numpy() # We don't want that op. on computational graph.\n",
    "\n",
    "fig, axs = plt.subplots(1, 1, figsize=(8,8))\n",
    "axs.plot(X_numpy, y_numpy, 'ro', label=\"Original Data\")\n",
    "axs.plot(X_numpy, predicted, 'b', label=\"Line Learned\")\n",
    "axs.legend(loc=\"upper left\")\n",
    "plt.show()"
   ]
  },
  {
   "cell_type": "markdown",
   "metadata": {},
   "source": [
    "---"
   ]
  },
  {
   "cell_type": "markdown",
   "metadata": {},
   "source": [
    "## 1.7: Logistic Regression"
   ]
  },
  {
   "cell_type": "markdown",
   "metadata": {},
   "source": [
    "Previously, we learned how to implement a linear model in the context of a linear regression problem fully with Pytorch. In this section we'll learn to implement the Logistic Regression classification algorithm.\n",
    "\n",
    "First of all, there isn't an implemented interface on Pytorch as in the case of our linear model. Given that, we'll need to build our own Logistic Regression class. In summary, Logistic Regression is a model used in classification tasks that has two-steps:\n",
    "\n",
    "* First, it's applied a linear transformation of the same kind it's done in linear regression (z = A*x + b).\n",
    "* Second, a non-linear limited function is applied in order to constraint the output value. In our model, we'll use the logistic function (also known as sigmoid function).\n",
    "\n",
    "With this in mind, let's create our Logistic Regression class:"
   ]
  },
  {
   "cell_type": "code",
   "execution_count": 23,
   "metadata": {},
   "outputs": [],
   "source": [
    "class LogRegression(nn.Module): # Inherit torch.nn.Module. This enable us to access methods, attributes and other classes that inherit this parent class.\n",
    "\n",
    "    def __init__(self, n_features, n_classes):\n",
    "        super().__init__()\n",
    "        self.Linear = nn.Linear(in_features=n_features, out_features=n_classes)\n",
    "\n",
    "    def forward(self, x):\n",
    "        predicted = torch.sigmoid(self.Linear(x))\n",
    "        return predicted"
   ]
  },
  {
   "cell_type": "markdown",
   "metadata": {},
   "source": [
    "After constructing the class, let's generate and load our toy dataset:"
   ]
  },
  {
   "cell_type": "code",
   "execution_count": 24,
   "metadata": {},
   "outputs": [],
   "source": [
    "# Loading and transforming data. \n",
    "\n",
    "## Don't care too much about the data itself. Nevertheless, have in mind that our data is generated \n",
    "## with few constraints (e.g., it's a 100 examples size, it has 2 features and 3 classes as possible values \n",
    "## to target variable).\n",
    "X_numpy, y_numpy = datasets.make_classification(n_samples=100, n_features=2, \n",
    "                                                n_redundant=0, n_classes=3,\n",
    "                                                n_clusters_per_class=1, random_state=1)\n",
    "\n",
    "X = torch.from_numpy(X_numpy.astype(np.float32))\n",
    "y = torch.from_numpy(y_numpy)\n",
    "y = y.type(torch.long)"
   ]
  },
  {
   "cell_type": "markdown",
   "metadata": {},
   "source": [
    "Training pipeline follows the same steps as before:\n",
    "\n",
    "* Design model\n",
    "* Construct loss function and optimizer\n",
    "* Forward pass\n",
    "* Backward pass\n",
    "* Update parameters"
   ]
  },
  {
   "cell_type": "code",
   "execution_count": 25,
   "metadata": {},
   "outputs": [
    {
     "data": {
      "text/latex": [
       "$\\displaystyle \\ \\  200th \\ iter. \\ Error \\ (J): 0.786 \\ | \\ Parameters: (\\theta_1): 1.085, \\ (\\theta_2): 1.244 $"
      ],
      "text/plain": [
       "<IPython.core.display.Math object>"
      ]
     },
     "metadata": {},
     "output_type": "display_data"
    },
    {
     "data": {
      "text/latex": [
       "$\\displaystyle \\ \\  400th \\ iter. \\ Error \\ (J): 0.690 \\ | \\ Parameters: (\\theta_1): 2.142, \\ (\\theta_2): 1.224 $"
      ],
      "text/plain": [
       "<IPython.core.display.Math object>"
      ]
     },
     "metadata": {},
     "output_type": "display_data"
    },
    {
     "data": {
      "text/latex": [
       "$\\displaystyle \\ \\  600th \\ iter. \\ Error \\ (J): 0.654 \\ | \\ Parameters: (\\theta_1): 2.872, \\ (\\theta_2): 1.048 $"
      ],
      "text/plain": [
       "<IPython.core.display.Math object>"
      ]
     },
     "metadata": {},
     "output_type": "display_data"
    },
    {
     "data": {
      "text/latex": [
       "$\\displaystyle \\ \\  800th \\ iter. \\ Error \\ (J): 0.636 \\ | \\ Parameters: (\\theta_1): 3.431, \\ (\\theta_2): 0.838 $"
      ],
      "text/plain": [
       "<IPython.core.display.Math object>"
      ]
     },
     "metadata": {},
     "output_type": "display_data"
    },
    {
     "data": {
      "text/latex": [
       "$\\displaystyle 1000th \\ iter. \\ Error \\ (J): 0.625 \\ | \\ Parameters: (\\theta_1): 3.892, \\ (\\theta_2): 0.619 $"
      ],
      "text/plain": [
       "<IPython.core.display.Math object>"
      ]
     },
     "metadata": {},
     "output_type": "display_data"
    }
   ],
   "source": [
    "# Design model\n",
    "n_samples, n_features = X.shape\n",
    "n_classes = y.unique().shape[0]\n",
    "model = LogRegression(n_features, n_classes)\n",
    "\n",
    "# Define hyperparameters\n",
    "lr=0.01\n",
    "num_iters=1000\n",
    "\n",
    "# Construct Loss and Optimizer\n",
    "loss = nn.CrossEntropyLoss() # Since we're tackling a classification task, loss function needs to fit adequately.\n",
    "optimizer = torch.optim.Adam(model.parameters(), lr=lr)\n",
    "\n",
    "for i in range(1, num_iters+1):\n",
    "    # Forward pass\n",
    "    y_hat = model(X)\n",
    "\n",
    "    # Loss computation\n",
    "    J = loss(y_hat ,y)\n",
    "\n",
    "    # Backward pass\n",
    "    J.backward()\n",
    "\n",
    "    # Update parameters\n",
    "    optimizer.step()\n",
    "\n",
    "    # Zero grad\n",
    "    optimizer.zero_grad()\n",
    "\n",
    "    # Print loss and weights\n",
    "    if i % 200 == 0:\n",
    "        theta, b = model.parameters()\n",
    "        theta1 = theta[0][0].item()\n",
    "        theta2 = theta[0][1].item()\n",
    "\n",
    "        space_str = displayMathHelper(num_iters, i)\n",
    "        display(\n",
    "            Math(\n",
    "                r'{space}{i:4}th \\ iter. \\ Error \\ (J): {J:.3f} \\ | \\ Parameters: (\\theta_1): {theta1:.3f}, \\ (\\theta_2): {theta2:.3f} '.format(\n",
    "                    space=space_str, i=i, J=J,\n",
    "                    theta1=theta1,\n",
    "                    theta2=theta2\n",
    "                )\n",
    "            )\n",
    "        )"
   ]
  },
  {
   "cell_type": "markdown",
   "metadata": {},
   "source": [
    "In order to visualize results, it is plotted model prediction and it's decision boundary (represented by it's non-linear function) beside with original data points."
   ]
  },
  {
   "cell_type": "code",
   "execution_count": 26,
   "metadata": {},
   "outputs": [
    {
     "data": {
      "image/png": "[encoded data removed]",
      "text/plain": [
       "<Figure size 1440x576 with 2 Axes>"
      ]
     },
     "metadata": {
      "needs_background": "light"
     },
     "output_type": "display_data"
    }
   ],
   "source": [
    "h = 0.02\n",
    "\n",
    "x_min, x_max = X[:, 0].min().item() - 0.5, X[:, 0].max().item() + 0.5\n",
    "y_min, y_max = X[:, 1].min().item() - 0.5, X[:, 1].max().item() + 0.5\n",
    "\n",
    "xx, yy = np.meshgrid(np.arange(x_min, x_max, h),\n",
    "                     np.arange(y_min, y_max, h))\n",
    "\n",
    "grid_agg = np.c_[xx.ravel(), yy.ravel()]\n",
    "grid_agg = torch.from_numpy(grid_agg.astype(np.float32))\n",
    "\n",
    "Z = model(grid_agg).detach()\n",
    "Z = torch.argmax(Z, 1, keepdim=True)\n",
    "Z = np.reshape(Z.numpy(), xx.shape)\n",
    "\n",
    "cm = plt.cm.Pastel1\n",
    "\n",
    "predicted = model(X).detach()\n",
    "predicted = torch.argmax(predicted, 1, keepdim=True)\n",
    "predicted = predicted.view(n_samples)\n",
    "\n",
    "corr_fst_class_idx = y_numpy==0\n",
    "corr_snd_class_idx = y_numpy==1\n",
    "corr_trd_class_idx = y_numpy==2\n",
    "\n",
    "fst_class_idx = predicted==0\n",
    "snd_class_idx = predicted==1\n",
    "trd_class_idx = predicted==2\n",
    "\n",
    "fig, axs = plt.subplots(1, 2, figsize=(20,8))\n",
    "axs[0].plot(X_numpy[fst_class_idx, 0], X_numpy[fst_class_idx, 1], 'ro', label='Class 1')\n",
    "axs[0].plot(X_numpy[snd_class_idx, 0], X_numpy[snd_class_idx, 1], 'bo', label='Class 2')\n",
    "axs[0].plot(X_numpy[trd_class_idx, 0], X_numpy[trd_class_idx, 1], 'go', label='Class 3')\n",
    "axs[0].contourf(xx, yy, Z, cmap=cm, alpha=0.7)\n",
    "axs[0].legend(loc=\"upper left\")\n",
    "axs[0].set_title(\"Predicted (w/ Decision Boundary)\")\n",
    "\n",
    "axs[1].plot(X_numpy[corr_fst_class_idx, 0], X_numpy[corr_fst_class_idx, 1], 'ro', label='Class 1')\n",
    "axs[1].plot(X_numpy[corr_snd_class_idx, 0], X_numpy[corr_snd_class_idx, 1], 'bo', label='Class 2')\n",
    "axs[1].plot(X_numpy[corr_trd_class_idx, 0], X_numpy[corr_trd_class_idx, 1], 'go', label='Class 3')\n",
    "axs[1].legend(loc=\"upper left\")\n",
    "axs[1].set_title(\"Original Data\")\n",
    "\n",
    "plt.show()"
   ]
  },
  {
   "cell_type": "markdown",
   "metadata": {},
   "source": [
    "---"
   ]
  },
  {
   "cell_type": "markdown",
   "metadata": {},
   "source": [
    "## 1.8: Dataset and Dataloader"
   ]
  },
  {
   "cell_type": "markdown",
   "metadata": {},
   "source": [
    "Earlier we've managed with hand-crafted and/or toy datasets in our examples. Though, nowadays it's pretty common to deal with large datasets (in the order of millions of examples, hundreds or thousands of features and classes). In this scenario, even with state-of-the-art hardware it's recommended to save memory, paralellize computation, and make efficient use of resources. Given that, it'd be nice to come up with an implementation to ease the process of loading larger datasets. That's exactly what Pytorch's Dataset and DataLoader classes are made for.\n",
    "\n",
    "First, let's create a subclass of Dataset for the Wine Quality dataset (which is in './data/winequality-red.csv' directory, in case you want to take a look). To do so, we need three methods: (i) initialization, (ii) a getter to fetch samples by its index, and (iii) a method to return the number of samples (dataset length):"
   ]
  },
  {
   "cell_type": "code",
   "execution_count": 27,
   "metadata": {},
   "outputs": [],
   "source": [
    "class WineDataset(Dataset):\n",
    "\n",
    "    def __init__(self, file_path):\n",
    "        dataset = np.loadtxt(file_path, delimiter=\",\", dtype=np.float32, skiprows=1)\n",
    "        self.X = torch.from_numpy(dataset[:, 1:])\n",
    "        self.y = torch.from_numpy(dataset[:, 0]).view(self.X.shape[0], 1) # We want to have a label column vector\n",
    "        self.n_samples = self.X.shape[0]\n",
    "\n",
    "    def __getitem__(self, index):\n",
    "        return self.X[index], self.y[index]\n",
    "\n",
    "    def __len__(self):\n",
    "        return self.n_samples"
   ]
  },
  {
   "cell_type": "code",
   "execution_count": 28,
   "metadata": {},
   "outputs": [],
   "source": [
    "path = './data/winequality-red.csv'\n",
    "wine_dataset = WineDataset(path)"
   ]
  },
  {
   "cell_type": "markdown",
   "metadata": {},
   "source": [
    "Afterward, we can use Pytorch's DataLoader class in order to efficiently load our dataset object aiming to optimize our model's training. In this case, we'll exploit mini-batch technique."
   ]
  },
  {
   "cell_type": "markdown",
   "metadata": {},
   "source": [
    "[Quick reminder] Here is an explanation of some of the concepts used below:\n",
    "\n",
    "* **Epoch**: Number of times training on the entire dataset\n",
    "* **Iteration or Batch**: Number of batchs/forward and backward passes (optimization is done in each batch instead of the entire data)\n",
    "* **Batch Size**: Number of samples in each batch\n",
    "\n",
    "For instace, given a dataset of 1600 samples, if the batch size is 4, then the number of batchs is 400 ($\\dfrac{1600}{4}$ = 400). \n",
    "\n",
    "The image below illustrates a dataset divided in 4 batchs. On this example, each epoch we are training (forward, backward passing, and updating parameters) on each batch, running through all the dataset in this way, but using just an amount of computing power and memory, since it's only allocated a batch per step of training."
   ]
  },
  {
   "cell_type": "code",
   "execution_count": 29,
   "metadata": {},
   "outputs": [
    {
     "data": {
      "image/png": "[encoded data removed]",
      "text/plain": [
       "<IPython.core.display.Image object>"
      ]
     },
     "execution_count": 29,
     "metadata": {},
     "output_type": "execute_result"
    }
   ],
   "source": [
    "Image(filename=\"assets/images/mini-batch.png\")"
   ]
  },
  {
   "cell_type": "code",
   "execution_count": 30,
   "metadata": {},
   "outputs": [],
   "source": [
    "# It's choosen a batch size (i.e., numbers of samples per batch) of 4, and separate this process in 2 (number of workers = 2)\n",
    "wine_dataloader = DataLoader(dataset=wine_dataset, batch_size=4, shuffle=True, num_workers=2)"
   ]
  },
  {
   "cell_type": "code",
   "execution_count": 31,
   "metadata": {},
   "outputs": [
    {
     "name": "stdout",
     "output_type": "stream",
     "text": [
      "Epoch 1/2 | Batch  50/400 | Batch shape torch.Size([4, 11])\n",
      "Epoch 1/2 | Batch 100/400 | Batch shape torch.Size([4, 11])\n",
      "Epoch 1/2 | Batch 150/400 | Batch shape torch.Size([4, 11])\n",
      "Epoch 1/2 | Batch 200/400 | Batch shape torch.Size([4, 11])\n",
      "Epoch 1/2 | Batch 250/400 | Batch shape torch.Size([4, 11])\n",
      "Epoch 1/2 | Batch 300/400 | Batch shape torch.Size([4, 11])\n",
      "Epoch 1/2 | Batch 350/400 | Batch shape torch.Size([4, 11])\n",
      "Epoch 1/2 | Batch 400/400 | Batch shape torch.Size([3, 11])\n",
      "Epoch 2/2 | Batch  50/400 | Batch shape torch.Size([4, 11])\n",
      "Epoch 2/2 | Batch 100/400 | Batch shape torch.Size([4, 11])\n",
      "Epoch 2/2 | Batch 150/400 | Batch shape torch.Size([4, 11])\n",
      "Epoch 2/2 | Batch 200/400 | Batch shape torch.Size([4, 11])\n",
      "Epoch 2/2 | Batch 250/400 | Batch shape torch.Size([4, 11])\n",
      "Epoch 2/2 | Batch 300/400 | Batch shape torch.Size([4, 11])\n",
      "Epoch 2/2 | Batch 350/400 | Batch shape torch.Size([4, 11])\n",
      "Epoch 2/2 | Batch 400/400 | Batch shape torch.Size([3, 11])\n"
     ]
    }
   ],
   "source": [
    "n_epochs = 2\n",
    "n_samples = len(wine_dataset)\n",
    "n_iters = len(wine_dataloader)\n",
    "\n",
    "for epoch in range(n_epochs):\n",
    "    for i, (X, y) in enumerate(wine_dataloader):\n",
    "        if (i+1) % 50 == 0:\n",
    "            print(\n",
    "                r'Epoch {epoch}/{n_epochs} | Batch {i:3}/{n_iters:} | Batch shape {X_shape}'.format(\n",
    "                    epoch=epoch+1, i=i+1,                                                                      \n",
    "                    n_epochs=n_epochs, n_iters=n_iters,                                                                                \n",
    "                    X_shape=X.shape)\n",
    "            )"
   ]
  },
  {
   "cell_type": "markdown",
   "metadata": {},
   "source": [
    "---"
   ]
  },
  {
   "cell_type": "markdown",
   "metadata": {},
   "source": [
    "## 1.9: Dataset Transforms"
   ]
  },
  {
   "cell_type": "markdown",
   "metadata": {},
   "source": [
    "Transforms are built-in transformations applied to datasets, wheter its datatype is a tensor, a ndarray or a PIL image.\n",
    "\n",
    "A few examples of transformations are:\n",
    "\n",
    "    Images\n",
    "    -------\n",
    "    Pad, CenterCrop, GrayScale, RandomAffine, Resize, Scale.\n",
    "\n",
    "    Tensors\n",
    "    -------\n",
    "    LinearTransformation, Normalize, RandomErasing\n",
    "\n",
    "    Conversions\n",
    "    -----------\n",
    "    ToPILImage: tensor -> ndarray\n",
    "    ToTensor:   ndarray -> tensor\n",
    "\n",
    "    Generic\n",
    "    -------\n",
    "    Lambda function\n",
    "\n",
    "    Custom\n",
    "    ------\n",
    "    Write your own class\n",
    "\n",
    "    Compose\n",
    "    -------\n",
    "    Design a list of transformations:\n",
    "        composed = torchvision.transforms.Compose(\n",
    "            [Rescale(256),\n",
    "            RandomCrop(128)]\n",
    "        )\n",
    "\n",
    "For more details, a complete list of all built-in transform functions is available at: https://pytorch.org/vision/stable/transforms.html"
   ]
  },
  {
   "cell_type": "markdown",
   "metadata": {},
   "source": [
    "Let's use our own custom class dataset implemented before in order to make two transformations:\n",
    "\n",
    "1. Transform from ndarray to tensor\n",
    "2. Exponentiate our data"
   ]
  },
  {
   "cell_type": "code",
   "execution_count": 32,
   "metadata": {},
   "outputs": [],
   "source": [
    "# Custom WineDataset class\n",
    "class WineDataset(Dataset):\n",
    "\n",
    "    def __init__(self, file_path, transform):\n",
    "        dataset = np.loadtxt(file_path, delimiter=\",\", dtype=np.float32, skiprows=1)\n",
    "        self.X = dataset[:, 1:]\n",
    "        self.y = dataset[:, [0]]\n",
    "        self.n_samples = self.X.shape[0]\n",
    "        self.transform = transform\n",
    "\n",
    "    def __getitem__(self, index):\n",
    "        sample = self.X[index], self.y[index]\n",
    "\n",
    "        if self.transform:\n",
    "            sample = self.transform(sample)\n",
    "\n",
    "        return sample\n",
    "\n",
    "    def __len__(self):\n",
    "        return self.n_samples"
   ]
  },
  {
   "cell_type": "code",
   "execution_count": 33,
   "metadata": {},
   "outputs": [],
   "source": [
    "# Transform classes\n",
    "\n",
    "class ToTensor:\n",
    "    ''' \n",
    "    Transform ndarray data into tensor\n",
    "    '''\n",
    "\n",
    "    def __call__(self, sample):\n",
    "        inputs, labels = sample\n",
    "        sample = torch.from_numpy(inputs), torch.from_numpy(labels) \n",
    "\n",
    "        return sample\n",
    "\n",
    "class PowTransform:\n",
    "    ''' \n",
    "     Raise inputs to a power 'n'\n",
    "    '''\n",
    "\n",
    "    def __init__(self, n):\n",
    "        self.power = n\n",
    "\n",
    "    def __call__(self, sample):\n",
    "        inputs, labels = sample\n",
    "        sample = inputs.pow(self.power), labels\n",
    "\n",
    "        return sample"
   ]
  },
  {
   "cell_type": "code",
   "execution_count": 34,
   "metadata": {},
   "outputs": [],
   "source": [
    "path = './data/winequality-red.csv'\n",
    "composed = torchvision.transforms.Compose([ToTensor(), PowTransform(2)])"
   ]
  },
  {
   "cell_type": "code",
   "execution_count": 35,
   "metadata": {},
   "outputs": [
    {
     "name": "stdout",
     "output_type": "stream",
     "text": [
      "<class 'numpy.ndarray'> <class 'numpy.ndarray'>\n",
      "[ 7.4     0.7     0.      1.9     0.076  11.     34.      0.9978  3.51\n",
      "  0.56    9.4   ]\n"
     ]
    }
   ],
   "source": [
    "# Without transformation\n",
    "wine_dataset = WineDataset(file_path=path, transform=None)\n",
    "\n",
    "first_data = wine_dataset[0]\n",
    "features, labels = first_data\n",
    "\n",
    "print(type(features), type(labels))\n",
    "print(features)"
   ]
  },
  {
   "cell_type": "code",
   "execution_count": 36,
   "metadata": {},
   "outputs": [
    {
     "name": "stdout",
     "output_type": "stream",
     "text": [
      "<class 'torch.Tensor'> <class 'torch.Tensor'>\n",
      "tensor([5.4760e+01, 4.9000e-01, 0.0000e+00, 3.6100e+00, 5.7760e-03, 1.2100e+02,\n",
      "        1.1560e+03, 9.9560e-01, 1.2320e+01, 3.1360e-01, 8.8360e+01])\n"
     ]
    }
   ],
   "source": [
    "# With transformation\n",
    "wine_dataset = WineDataset(file_path=path, transform=composed)\n",
    "\n",
    "first_data = wine_dataset[0]\n",
    "features, labels = first_data\n",
    "\n",
    "print(type(features), type(labels))\n",
    "print(features)"
   ]
  },
  {
   "cell_type": "markdown",
   "metadata": {},
   "source": [
    "---"
   ]
  },
  {
   "cell_type": "markdown",
   "metadata": {},
   "source": [
    "## 1.10: Softmax & Cross-Entropy"
   ]
  },
  {
   "cell_type": "markdown",
   "metadata": {},
   "source": [
    "Softmax and Cross-Entropy are two frequently used functions in the field and, in particular, in neural network models. Let's dive into the math and intuition behind these functions:"
   ]
  },
  {
   "cell_type": "markdown",
   "metadata": {},
   "source": [
    "### 1. Softmax"
   ]
  },
  {
   "cell_type": "markdown",
   "metadata": {},
   "source": [
    "Softmax formula is represented below:\n",
    "\n",
    "$$S(Y_i) = \\dfrac{e^{Y_i}}{\\sum_{j} e^{Y_j}}$$\n",
    "\n",
    "What this function does is normalize all $Y_i$ values to keep them between $[0,1]$. In other words, it transforms real values to probability values, making sure that it respects Kolmogorov axioms (Probability Theory axioms). In our case, we use it in order to pick up the class with the greatest probability in our model's prediction. As an example, take a look in the image below. In a 3-classes classification problem, for that particular fiction observation, our model would choose the first one (with almost $80\\%$ probability that this is observation's class)."
   ]
  },
  {
   "cell_type": "code",
   "execution_count": 37,
   "metadata": {},
   "outputs": [
    {
     "data": {
      "image/png": "[encoded data removed]",
      "text/plain": [
       "<IPython.core.display.Image object>"
      ]
     },
     "execution_count": 37,
     "metadata": {},
     "output_type": "execute_result"
    }
   ],
   "source": [
    "Image(filename=\"assets/images/softmax_ex.png\")"
   ]
  },
  {
   "cell_type": "markdown",
   "metadata": {},
   "source": [
    "As we've done before, let's implement Softmax function in two ways: (i) from scratch; (ii) with Pytorch."
   ]
  },
  {
   "cell_type": "code",
   "execution_count": 38,
   "metadata": {},
   "outputs": [
    {
     "name": "stdout",
     "output_type": "stream",
     "text": [
      "Probabilities: [0.79 0.02 0.19] (as expected!)\n"
     ]
    }
   ],
   "source": [
    "# Softmax function from scratch\n",
    "def softmax(logits):\n",
    "    return np.exp(logits)/np.sum(np.exp(logits))\n",
    "\n",
    "logits = np.array([4, 0.1, 2.6])\n",
    "y_hat = softmax(logits)\n",
    "\n",
    "print('Probabilities:', np.round(y_hat, 2), '(as expected!)')"
   ]
  },
  {
   "cell_type": "code",
   "execution_count": 39,
   "metadata": {},
   "outputs": [
    {
     "name": "stdout",
     "output_type": "stream",
     "text": [
      "Probabilities: [0.79 0.02 0.19] (as expected!)\n"
     ]
    }
   ],
   "source": [
    "# Softmax function with Pytorch\n",
    "logits = torch.tensor([4, 0.1, 2.6])\n",
    "y_hat = torch.softmax(logits, dim=0)\n",
    "\n",
    "print('Probabilities:', np.round(y_hat.numpy(), 2), '(as expected!)')"
   ]
  },
  {
   "cell_type": "markdown",
   "metadata": {},
   "source": [
    "### 2. Cross-Entropy"
   ]
  },
  {
   "cell_type": "markdown",
   "metadata": {},
   "source": [
    "As stated above, Cross-Entropy is another famous function used in the field. In this case, it's used as the loss function which we want to optimize in classification problems. Its formula is represented below:\n",
    "\n",
    "$$H(\\hat{Y}, Y) = -\\dfrac{1}{N}\\sum_{i}^{N}Y_{i}log(\\hat{Y_{i}})$$\n",
    "\n",
    "Cross-Entropy is a measure of the difference between two probability distributions of two random variables (or functions). Intuitively, if the probability distribution of our model's prediction is similar to that of the real label, them cross-entropy will have a small value. Otherwise, i.e. the two probability distributions are different, cross-entropy is high. Examples are shown below:\n",
    "\n",
    "1)\n",
    "$\n",
    "{Y = [1, 0, 0] \\\\ \\hat{Y_{1}} = [0.79, 0.02, 0.19]} H_{1}(\\hat{Y_{1}}, Y) = 0.24\n",
    "$\n",
    "\n",
    "2)\n",
    "$\n",
    "{Y = [1, 0, 0] \\\\ \\hat{Y_{2}} = [0.19, 0.02, 0.79]} H_{2}(\\hat{Y_{2}}, Y) = 1.66\n",
    "$\n",
    "\n",
    "**Obs. (1):** To compute cross-entropy, labels must be one-hot encoded (just like it is in the example) and predictions must be probabilities (i.e., it must be transformed by softmax).\n",
    "\n",
    "**Obs. (2):** Pytorch's Cross-Entropy interface (_torch.nn.CrossEntropyLoss()_) ease things a little bit. Our label vector doesn't need to be one-hot encoded, so label values are just the class value. Also, it internally applies softmax to the prediction vector. Thus we need to pass the logits vector. This observation is **paramount** because when we start coding our neural networks in the future we'll need to remind that Pytorch's Cross-Entropy Loss already pass results in a Softmax layer, therefore we don't need to add this layer again. Nonetheless, in the case the intended task is a binary classification, Pytorch's Binary Cross-Entropy Loss (_torch.nn.BCELoss()_) will require a Sigmoid function layer in the end of the neural network. Please keep that in mind!"
   ]
  },
  {
   "cell_type": "code",
   "execution_count": 40,
   "metadata": {},
   "outputs": [
    {
     "data": {
      "text/latex": [
       "$\\displaystyle H_1 = 0.24 \\ | \\ H_2 = 1.66 \\ (as \\ expected!)$"
      ],
      "text/plain": [
       "<IPython.core.display.Math object>"
      ]
     },
     "metadata": {},
     "output_type": "display_data"
    }
   ],
   "source": [
    "# Cross-Entropy function from scratch\n",
    "def cross_entropy(y, y_hat):\n",
    "    N = 1\n",
    "    return -np.sum(y*np.log(y_hat))/N\n",
    "\n",
    "y = np.array([1, 0, 0])\n",
    "y_hat_1 = np.array([0.79, 0.02, 0.19])\n",
    "y_hat_2 = np.array([0.19, 0.02, 0.79])\n",
    "\n",
    "CE_1 = cross_entropy(y, y_hat_1)\n",
    "CE_2 = cross_entropy(y, y_hat_2)\n",
    "\n",
    "display(Math(r'H_1 = {ce_1:.2f} \\ | \\ H_2 = {ce_2:.2f} \\ (as \\ expected!)'.format(ce_1=CE_1, ce_2=CE_2)))"
   ]
  },
  {
   "cell_type": "code",
   "execution_count": 41,
   "metadata": {},
   "outputs": [
    {
     "data": {
      "text/latex": [
       "$\\displaystyle H_1 = 0.24 \\ | \\ H_2 = 1.64 \\ (as \\ expected!)$"
      ],
      "text/plain": [
       "<IPython.core.display.Math object>"
      ]
     },
     "metadata": {},
     "output_type": "display_data"
    }
   ],
   "source": [
    "# Cross-Entropy function with Pytorch\n",
    "y = torch.tensor([0]) # Only one label in a 3-classes classification problem.\n",
    "y_hat_1 = torch.tensor([[4, 0.1, 2.6]])\n",
    "y_hat_2 = torch.tensor([[2.6, 0.1, 4]])\n",
    "\n",
    "loss = nn.CrossEntropyLoss()\n",
    "CE_1 = loss(y_hat_1, y)\n",
    "CE_2 = loss(y_hat_2, y)\n",
    "\n",
    "display(Math(r'H_1 = {ce_1:.2f} \\ | \\ H_2 = {ce_2:.2f} \\ (as \\ expected!)'.format(ce_1=CE_1, ce_2=CE_2)))"
   ]
  },
  {
   "cell_type": "markdown",
   "metadata": {},
   "source": [
    "---"
   ]
  },
  {
   "cell_type": "markdown",
   "metadata": {},
   "source": [
    "## 1.11: Activation Functions"
   ]
  },
  {
   "cell_type": "markdown",
   "metadata": {},
   "source": [
    "Activation functions are important features of neural networks because they allow them to **model non-linear relations** present in the data. An analogy often used is that of the all-or-none principle that control our nerve cells' response given a stimulus and the intuition behind activation functions on artificial neural networks (yet, this comparison is quite questionable).\n",
    "\n",
    "Next, we're going to see some of the activation functions implemented in Pytorch and their idiosyncrasies:"
   ]
  },
  {
   "cell_type": "markdown",
   "metadata": {},
   "source": [
    "### 1. Step Function"
   ]
  },
  {
   "cell_type": "markdown",
   "metadata": {},
   "source": [
    "This is the most simple activation function. It's described as follows:\n",
    "\n",
    "$$f(x) = \\left\\{\n",
    "\\begin{array}{ll}\n",
    "    1,  & x \\geq a \\\\\n",
    "    0,  & x < a\\\\\n",
    "\\end{array}\n",
    "\\right.\n",
    "$$\n",
    "\n",
    "That means whenever the neuron value is greater than a value ($a$, in this case), then it activates.\n",
    "\n",
    "**Obs.:** This function is hardly ever used.\n",
    "\n",
    "Below, it's a graphic representation of that function:"
   ]
  },
  {
   "cell_type": "code",
   "execution_count": 42,
   "metadata": {},
   "outputs": [
    {
     "data": {
      "image/png": "[encoded data removed]",
      "text/plain": [
       "<Figure size 576x576 with 1 Axes>"
      ]
     },
     "metadata": {
      "needs_background": "light"
     },
     "output_type": "display_data"
    }
   ],
   "source": [
    "X = np.linspace(-2, 4, 1000, dtype=np.float64)\n",
    "X = torch.from_numpy(X)\n",
    "inputs = X\n",
    "values = torch.tensor([1], dtype=torch.float64)\n",
    "\n",
    "a = 1\n",
    "step = torch.heaviside(inputs-a, values) # Pytorch's step function\n",
    "step = step.numpy()\n",
    "\n",
    "fig, axs = plt.subplots(1, 1, figsize=(8,8))\n",
    "axs.plot(inputs, step, 'b-', label=\"Step\")\n",
    "axs.legend(loc=\"upper left\")\n",
    "axs.set_ylim([-2, 3])\n",
    "plt.grid()\n",
    "plt.show()"
   ]
  },
  {
   "cell_type": "markdown",
   "metadata": {},
   "source": [
    "### 2. Logistic"
   ]
  },
  {
   "cell_type": "markdown",
   "metadata": {},
   "source": [
    "Logistic function, also kwon as sigmoid, is an activation function that outputs a probability value and is usually used in the last layer of a binary classification problem. It's formula is represented below:\n",
    "\n",
    "$$f(x) = \\dfrac{1}{1+e^{-x}}$$\n",
    "\n",
    "Graphically, logistic function is as follows:"
   ]
  },
  {
   "cell_type": "code",
   "execution_count": 43,
   "metadata": {},
   "outputs": [
    {
     "data": {
      "image/png": "[encoded data removed]",
      "text/plain": [
       "<Figure size 576x576 with 1 Axes>"
      ]
     },
     "metadata": {
      "needs_background": "light"
     },
     "output_type": "display_data"
    }
   ],
   "source": [
    "X = np.linspace(-15, 15, 1000, dtype=np.float64)\n",
    "X = torch.from_numpy(X)\n",
    "\n",
    "logistic = nn.Sigmoid() # Pytorch's logistic function (also known as just sigmoid)\n",
    "logits = logistic(X)\n",
    "logits = logits.numpy()\n",
    "\n",
    "fig, axs = plt.subplots(1, 1, figsize=(8,8))\n",
    "axs.plot(X, logits, 'b-', label=\"Logistic\")\n",
    "axs.legend(loc=\"upper left\")\n",
    "axs.set_xlim([-16, 16])\n",
    "plt.grid()\n",
    "plt.show()"
   ]
  },
  {
   "cell_type": "markdown",
   "metadata": {},
   "source": [
    "### 3. Tanh"
   ]
  },
  {
   "cell_type": "markdown",
   "metadata": {},
   "source": [
    "Tanh is another function from the sigmoid family. Nonetheless, instead of having its output value between $[0,1]$, it's scaled and shifted in order to be between $[-1,1]$. The formula and plot is represented below:\n",
    "\n",
    "$$f(x) = \\dfrac{2}{1 + e^{-2x}} - 1$$"
   ]
  },
  {
   "cell_type": "code",
   "execution_count": 44,
   "metadata": {},
   "outputs": [
    {
     "data": {
      "image/png": "[encoded data removed]",
      "text/plain": [
       "<Figure size 576x576 with 1 Axes>"
      ]
     },
     "metadata": {
      "needs_background": "light"
     },
     "output_type": "display_data"
    }
   ],
   "source": [
    "X = np.linspace(-15, 15, 1000, dtype=np.float64)\n",
    "X = torch.from_numpy(X)\n",
    "\n",
    "sigmoid_tanh = nn.Tanh() # Pytorch's tanh function\n",
    "tanh = sigmoid_tanh(X)\n",
    "tanh = tanh.numpy()\n",
    "\n",
    "fig, axs = plt.subplots(1, 1, figsize=(8,8))\n",
    "axs.plot(X, tanh, 'b-', label=\"Tanh\")\n",
    "axs.legend(loc=\"upper left\")\n",
    "axs.set_xlim([-16, 16])\n",
    "plt.grid()\n",
    "plt.show()"
   ]
  },
  {
   "cell_type": "markdown",
   "metadata": {},
   "source": [
    "### 4. ReLU"
   ]
  },
  {
   "cell_type": "markdown",
   "metadata": {},
   "source": [
    "Probably the most popular activation function (and the best candidate if you're in doubt which one to use), ReLU outputs $0$ in the case input is **negative**, and is the idendity ($f(x) = x$) otherwise. ReLU formula is below:\n",
    "\n",
    "$$f(x) = max(0, x)$$\n",
    "\n",
    "Next, it's presented ReLU graphically:"
   ]
  },
  {
   "cell_type": "code",
   "execution_count": 45,
   "metadata": {},
   "outputs": [
    {
     "data": {
      "image/png": "[encoded data removed]",
      "text/plain": [
       "<Figure size 576x576 with 1 Axes>"
      ]
     },
     "metadata": {
      "needs_background": "light"
     },
     "output_type": "display_data"
    }
   ],
   "source": [
    "X = np.linspace(-15, 15, 1000, dtype=np.float64)\n",
    "X = torch.from_numpy(X)\n",
    "\n",
    "relu_func = nn.ReLU() # Pytorch's ReLU function\n",
    "relu = relu_func(X)\n",
    "relu = relu.numpy()\n",
    "\n",
    "fig, axs = plt.subplots(1, 1, figsize=(8,8))\n",
    "axs.plot(X, relu, 'b-', label=\"ReLU\")\n",
    "axs.legend(loc=\"upper left\")\n",
    "axs.set_xlim([-16, 16])\n",
    "plt.grid()\n",
    "plt.show()"
   ]
  },
  {
   "cell_type": "markdown",
   "metadata": {},
   "source": [
    "### 5. Leaky ReLU"
   ]
  },
  {
   "cell_type": "markdown",
   "metadata": {},
   "source": [
    "Leaky ReLU is a variation of ReLU function, but it's not $0$ for negative input values. What this function seeks to improve is what is called vanishing gradient problem, which is the result of a null gradient value, due to null activation. To addres this problem, it's used a small term ($\\alpha$) (in the order of $0.01$) for negative input values, and so the gradient does not vanish. Leaky ReLU formula and its plot is as follows:\n",
    "\n",
    "$$f(x) = \\left\\{\n",
    "\\begin{array}{ll}\n",
    "    x,  & x \\geq 0 \\\\\n",
    "    {\\alpha}x,  & x < 0\\\\\n",
    "\\end{array}\n",
    "\\right.\n",
    "$$"
   ]
  },
  {
   "cell_type": "code",
   "execution_count": 46,
   "metadata": {},
   "outputs": [
    {
     "data": {
      "image/png": "[encoded data removed]",
      "text/plain": [
       "<Figure size 576x576 with 1 Axes>"
      ]
     },
     "metadata": {
      "needs_background": "light"
     },
     "output_type": "display_data"
    }
   ],
   "source": [
    "X = np.linspace(-15, 15, 1000, dtype=np.float64)\n",
    "X = torch.from_numpy(X)\n",
    "\n",
    "leaky_relu_func = nn.LeakyReLU(negative_slope=0.02) # Pytorch's LeakyReLU function\n",
    "leaky_relu = leaky_relu_func(X)\n",
    "leaky_relu = leaky_relu.numpy()\n",
    "\n",
    "fig, axs = plt.subplots(1, 1, figsize=(8,8))\n",
    "axs.plot(X, leaky_relu, 'b-', label=\"Leaky ReLU\")\n",
    "axs.legend(loc=\"upper left\")\n",
    "axs.set_xlim([-16, 16])\n",
    "plt.grid()\n",
    "plt.show()"
   ]
  },
  {
   "cell_type": "markdown",
   "metadata": {},
   "source": [
    "### 6. Softmax"
   ]
  },
  {
   "cell_type": "markdown",
   "metadata": {},
   "source": [
    "Softmax formula is represented below:\n",
    "\n",
    "$$S(Y_i) = \\dfrac{e^{Y_i}}{\\sum_{j} e^{Y_j}}$$\n",
    "\n",
    "What this function does is normalize all $Y_i$ values to keep them between $[0,1]$. In other words, it transforms real values to probability values, making sure that it respects Kolmogorov axioms (Probability Theory axioms). In our case, we use it in order to pick up the class with the greatest probability in our model's prediction. As an example, take a look in the image below. In a 3-classes classification problem, for that particular fiction observation, our model would choose the first one (with almost $80\\%$ probability that this is observation's class)."
   ]
  },
  {
   "cell_type": "code",
   "execution_count": 47,
   "metadata": {},
   "outputs": [
    {
     "data": {
      "image/png": "[encoded data removed]",
      "text/plain": [
       "<IPython.core.display.Image object>"
      ]
     },
     "execution_count": 47,
     "metadata": {},
     "output_type": "execute_result"
    }
   ],
   "source": [
    "Image(filename=\"assets/images/softmax_ex.png\")"
   ]
  },
  {
   "cell_type": "code",
   "execution_count": 48,
   "metadata": {},
   "outputs": [
    {
     "name": "stdout",
     "output_type": "stream",
     "text": [
      "Probabilities: [0.79 0.02 0.19] (as expected!)\n"
     ]
    }
   ],
   "source": [
    "logits = torch.tensor([4, 0.1, 2.6])\n",
    "y_hat = torch.softmax(logits, dim=0) # Pytorch's softmax function\n",
    "\n",
    "print('Probabilities:', np.round(y_hat.numpy(), 2), '(as expected!)')"
   ]
  },
  {
   "cell_type": "markdown",
   "metadata": {},
   "source": [
    "---"
   ]
  },
  {
   "cell_type": "markdown",
   "metadata": {},
   "source": [
    "## 1.12: Feedforward Neural Networks"
   ]
  },
  {
   "cell_type": "markdown",
   "metadata": {},
   "source": [
    "We've seen, so far, how to construct and train our models with Pytorch, what are activation and loss functions (and some supported), how to load and transform datasets.\n",
    "\n",
    "In this sense, let's build a Multilayer Perceptron (MLP) with arbitrary numbers of hidden layers and units, and train it on MNIST dataset*.\n",
    "\n",
    "A MLP is a Feedforward Neural Network which has basically three entities:\n",
    "\n",
    "1. Input layer\n",
    "2. Hidden layer\n",
    "3. Output layer\n",
    "\n",
    "From one layer to another, two operations are done: (i) a linear combination between activations from previous layer and currently layer's parameters ($z = X*W + b$); (ii) neurons activation, via an activation function ($\\sigma(z) = f(z)$, for f as an activation function). In our example, we'll create a MLP in which it'll be possible to choose the deepth and size of layers.\n",
    "\n",
    "**\\***MNIST is a dataset of handwritten digits (0-9) images. Pytorch already has an API in order to download MNIST dataset, which we'll see later. For more details, please check out the dataset website: http://yann.lecun.com/exdb/mnist/."
   ]
  },
  {
   "cell_type": "code",
   "execution_count": 49,
   "metadata": {},
   "outputs": [],
   "source": [
    "class NeuralNet(nn.Module):\n",
    "\n",
    "    def __init__(self, in_units, hid_units, hid_layers, out_units):\n",
    "        super().__init__()\n",
    "        self.num_in_units = in_units\n",
    "        self.num_hid_layers = hid_layers\n",
    "\n",
    "        self.hidden_layers = [nn.Linear(in_features=in_units, out_features=hid_units)]\n",
    "        self.act_functions = [nn.ReLU()]\n",
    "\n",
    "        for l in range(1, hid_layers):\n",
    "            self.hidden_layers.append(nn.Linear(in_features=hid_units, out_features=hid_units))\n",
    "            self.act_functions.append(nn.ReLU())\n",
    "\n",
    "        self.output_layer = nn.Linear(in_features=hid_units, out_features=out_units)\n",
    "\n",
    "    def forward(self, x):\n",
    "        x = x.view(-1, self.num_in_units)\n",
    "        out = self.hidden_layers[0](x)\n",
    "        out = self.act_functions[0](out)\n",
    "\n",
    "        for l in range(1, self.num_hid_layers):\n",
    "            out = self.hidden_layers[l](out)\n",
    "            out = self.act_functions[l](out)\n",
    "\n",
    "        prediction = self.output_layer(out)\n",
    "\n",
    "        return prediction"
   ]
  },
  {
   "cell_type": "code",
   "execution_count": 50,
   "metadata": {},
   "outputs": [],
   "source": [
    "# Define hyperparameters\n",
    "lr=0.001\n",
    "num_epochs=10\n",
    "batch_size = 32"
   ]
  },
  {
   "cell_type": "markdown",
   "metadata": {},
   "source": [
    "MNIST dataset contains $60.000$ training examples, and $10.000$ test examples. Here, we're loading it with $torchvision.datasets$ Pytorch's API, and passing it through a transformation from PIL images (original data format) to Pytorch Tensors."
   ]
  },
  {
   "cell_type": "code",
   "execution_count": 51,
   "metadata": {},
   "outputs": [],
   "source": [
    "# Loading and transforming data\n",
    "composed = torchvision.transforms.Compose([torchvision.transforms.ToTensor()])\n",
    "mnist_train_dataset = torchvision.datasets.MNIST(root='./data', train=True, download=True, transform=composed)\n",
    "train_dataloader = DataLoader(dataset=mnist_train_dataset, batch_size=batch_size, shuffle=True)\n",
    "\n",
    "mnist_test_dataset = torchvision.datasets.MNIST(root='./data', train=False, download=True, transform=composed)\n",
    "test_dataloader = DataLoader(dataset=mnist_test_dataset, batch_size=batch_size, shuffle=True)"
   ]
  },
  {
   "cell_type": "markdown",
   "metadata": {},
   "source": [
    "A few examples are shown below in order to understand the data a little bit:"
   ]
  },
  {
   "cell_type": "code",
   "execution_count": 52,
   "metadata": {},
   "outputs": [
    {
     "data": {
      "image/png": "[encoded data removed]",
      "text/plain": [
       "<Figure size 432x288 with 6 Axes>"
      ]
     },
     "metadata": {},
     "output_type": "display_data"
    }
   ],
   "source": [
    "examples = enumerate(train_dataloader)\n",
    "batch_idx, (example_features, example_targets) = next(examples)\n",
    "\n",
    "fig = plt.figure()\n",
    "\n",
    "for i in range(6):\n",
    "    plt.subplot(2, 3, i+1)\n",
    "    plt.tight_layout()\n",
    "    plt.imshow(example_features[i][0], cmap='gray')\n",
    "    plt.title(r'Ground Truth: {label}'.format(label=example_targets[i]))\n",
    "    plt.xticks([])\n",
    "    plt.yticks([])\n",
    "fig.show()"
   ]
  },
  {
   "cell_type": "markdown",
   "metadata": {},
   "source": [
    "Let's train our model and check train and test accuracy, in order to see our classifier performance:"
   ]
  },
  {
   "cell_type": "code",
   "execution_count": 53,
   "metadata": {
    "scrolled": true
   },
   "outputs": [
    {
     "name": "stderr",
     "output_type": "stream",
     "text": [
      "/home/cdeberaldini/miniconda3/envs/torch_env/lib/python3.8/site-packages/torchvision/datasets/mnist.py:62: UserWarning: train_data has been renamed data\n",
      "  warnings.warn(\"train_data has been renamed data\")\n"
     ]
    },
    {
     "name": "stdout",
     "output_type": "stream",
     "text": [
      "Train Epoch 1/10 [    0/60000 ( 0%)] | Loss: 2.321181058883667\n",
      "Train Epoch 1/10 [  640/60000 ( 1%)] | Loss: 2.2616820335388184\n",
      "Train Epoch 1/10 [ 1280/60000 ( 2%)] | Loss: 2.2002062797546387\n",
      "Train Epoch 1/10 [ 1920/60000 ( 3%)] | Loss: 2.1827611923217773\n",
      "Train Epoch 1/10 [ 2560/60000 ( 4%)] | Loss: 2.122008800506592\n",
      "Train Epoch 1/10 [ 3200/60000 ( 5%)] | Loss: 2.1056315898895264\n",
      "Train Epoch 1/10 [ 3840/60000 ( 6%)] | Loss: 2.091399908065796\n",
      "Train Epoch 1/10 [ 4480/60000 ( 7%)] | Loss: 2.0428922176361084\n",
      "Train Epoch 1/10 [ 5120/60000 ( 9%)] | Loss: 1.9476532936096191\n",
      "Train Epoch 1/10 [ 5760/60000 (10%)] | Loss: 1.979560136795044\n",
      "Train Epoch 1/10 [ 6400/60000 (11%)] | Loss: 1.913118600845337\n",
      "Train Epoch 1/10 [ 7040/60000 (12%)] | Loss: 1.8846118450164795\n",
      "Train Epoch 1/10 [ 7680/60000 (13%)] | Loss: 1.8550739288330078\n",
      "Train Epoch 1/10 [ 8320/60000 (14%)] | Loss: 1.7985094785690308\n",
      "Train Epoch 1/10 [ 8960/60000 (15%)] | Loss: 1.7894575595855713\n",
      "Train Epoch 1/10 [ 9600/60000 (16%)] | Loss: 1.7196451425552368\n",
      "Train Epoch 1/10 [10240/60000 (17%)] | Loss: 1.6622802019119263\n",
      "Train Epoch 1/10 [10880/60000 (18%)] | Loss: 1.629937767982483\n",
      "Train Epoch 1/10 [11520/60000 (19%)] | Loss: 1.5928293466567993\n",
      "Train Epoch 1/10 [12160/60000 (20%)] | Loss: 1.7016412019729614\n",
      "Train Epoch 1/10 [12800/60000 (21%)] | Loss: 1.6419548988342285\n",
      "Train Epoch 1/10 [13440/60000 (22%)] | Loss: 1.6123155355453491\n",
      "Train Epoch 1/10 [14080/60000 (23%)] | Loss: 1.5849825143814087\n",
      "Train Epoch 1/10 [14720/60000 (25%)] | Loss: 1.46852445602417\n",
      "Train Epoch 1/10 [15360/60000 (26%)] | Loss: 1.4395158290863037\n",
      "Train Epoch 1/10 [16000/60000 (27%)] | Loss: 1.4207639694213867\n",
      "Train Epoch 1/10 [16640/60000 (28%)] | Loss: 1.4654489755630493\n",
      "Train Epoch 1/10 [17280/60000 (29%)] | Loss: 1.4646408557891846\n",
      "Train Epoch 1/10 [17920/60000 (30%)] | Loss: 1.3159760236740112\n",
      "Train Epoch 1/10 [18560/60000 (31%)] | Loss: 1.3200527429580688\n",
      "Train Epoch 1/10 [19200/60000 (32%)] | Loss: 1.405023455619812\n",
      "Train Epoch 1/10 [19840/60000 (33%)] | Loss: 1.469018816947937\n",
      "Train Epoch 1/10 [20480/60000 (34%)] | Loss: 1.3438434600830078\n",
      "Train Epoch 1/10 [21120/60000 (35%)] | Loss: 1.252934217453003\n",
      "Train Epoch 1/10 [21760/60000 (36%)] | Loss: 1.3569550514221191\n",
      "Train Epoch 1/10 [22400/60000 (37%)] | Loss: 1.0747233629226685\n",
      "Train Epoch 1/10 [23040/60000 (38%)] | Loss: 1.1877762079238892\n",
      "Train Epoch 1/10 [23680/60000 (39%)] | Loss: 1.2084307670593262\n",
      "Train Epoch 1/10 [24320/60000 (41%)] | Loss: 1.3133275508880615\n",
      "Train Epoch 1/10 [24960/60000 (42%)] | Loss: 1.262197494506836\n",
      "Train Epoch 1/10 [25600/60000 (43%)] | Loss: 1.1903586387634277\n",
      "Train Epoch 1/10 [26240/60000 (44%)] | Loss: 1.356969952583313\n",
      "Train Epoch 1/10 [26880/60000 (45%)] | Loss: 1.0765612125396729\n",
      "Train Epoch 1/10 [27520/60000 (46%)] | Loss: 1.2122148275375366\n",
      "Train Epoch 1/10 [28160/60000 (47%)] | Loss: 1.094955563545227\n",
      "Train Epoch 1/10 [28800/60000 (48%)] | Loss: 1.2169725894927979\n",
      "Train Epoch 1/10 [29440/60000 (49%)] | Loss: 1.018294095993042\n",
      "Train Epoch 1/10 [30080/60000 (50%)] | Loss: 1.1350772380828857\n",
      "Train Epoch 1/10 [30720/60000 (51%)] | Loss: 1.112810730934143\n",
      "Train Epoch 1/10 [31360/60000 (52%)] | Loss: 1.1643959283828735\n",
      "Train Epoch 1/10 [32000/60000 (53%)] | Loss: 1.002545952796936\n",
      "Train Epoch 1/10 [32640/60000 (54%)] | Loss: 0.9859299063682556\n",
      "Train Epoch 1/10 [33280/60000 (55%)] | Loss: 0.9960053563117981\n",
      "Train Epoch 1/10 [33920/60000 (57%)] | Loss: 0.947013795375824\n",
      "Train Epoch 1/10 [34560/60000 (58%)] | Loss: 1.0649089813232422\n",
      "Train Epoch 1/10 [35200/60000 (59%)] | Loss: 0.8789716362953186\n",
      "Train Epoch 1/10 [35840/60000 (60%)] | Loss: 1.0839321613311768\n",
      "Train Epoch 1/10 [36480/60000 (61%)] | Loss: 1.0938888788223267\n",
      "Train Epoch 1/10 [37120/60000 (62%)] | Loss: 1.039227843284607\n",
      "Train Epoch 1/10 [37760/60000 (63%)] | Loss: 0.9573338031768799\n",
      "Train Epoch 1/10 [38400/60000 (64%)] | Loss: 0.8385051488876343\n",
      "Train Epoch 1/10 [39040/60000 (65%)] | Loss: 1.0734056234359741\n",
      "Train Epoch 1/10 [39680/60000 (66%)] | Loss: 0.91301029920578\n",
      "Train Epoch 1/10 [40320/60000 (67%)] | Loss: 0.9939501285552979\n",
      "Train Epoch 1/10 [40960/60000 (68%)] | Loss: 1.1207859516143799\n",
      "Train Epoch 1/10 [41600/60000 (69%)] | Loss: 0.9085568189620972\n",
      "Train Epoch 1/10 [42240/60000 (70%)] | Loss: 1.21707284450531\n",
      "Train Epoch 1/10 [42880/60000 (71%)] | Loss: 0.7973167896270752\n",
      "Train Epoch 1/10 [43520/60000 (73%)] | Loss: 1.2234294414520264\n",
      "Train Epoch 1/10 [44160/60000 (74%)] | Loss: 0.9489121437072754\n",
      "Train Epoch 1/10 [44800/60000 (75%)] | Loss: 0.9012110829353333\n",
      "Train Epoch 1/10 [45440/60000 (76%)] | Loss: 1.040648102760315\n",
      "Train Epoch 1/10 [46080/60000 (77%)] | Loss: 0.859030544757843\n",
      "Train Epoch 1/10 [46720/60000 (78%)] | Loss: 0.9536139965057373\n",
      "Train Epoch 1/10 [47360/60000 (79%)] | Loss: 0.8355450630187988\n",
      "Train Epoch 1/10 [48000/60000 (80%)] | Loss: 0.7807236313819885\n",
      "Train Epoch 1/10 [48640/60000 (81%)] | Loss: 0.8942615389823914\n",
      "Train Epoch 1/10 [49280/60000 (82%)] | Loss: 0.7732222676277161\n",
      "Train Epoch 1/10 [49920/60000 (83%)] | Loss: 0.913159191608429\n",
      "Train Epoch 1/10 [50560/60000 (84%)] | Loss: 0.9358768463134766\n",
      "Train Epoch 1/10 [51200/60000 (85%)] | Loss: 0.7593075633049011\n",
      "Train Epoch 1/10 [51840/60000 (86%)] | Loss: 0.6207586526870728\n",
      "Train Epoch 1/10 [52480/60000 (87%)] | Loss: 0.7687707543373108\n",
      "Train Epoch 1/10 [53120/60000 (89%)] | Loss: 0.842012345790863\n",
      "Train Epoch 1/10 [53760/60000 (90%)] | Loss: 0.811045229434967\n",
      "Train Epoch 1/10 [54400/60000 (91%)] | Loss: 0.7104470133781433\n",
      "Train Epoch 1/10 [55040/60000 (92%)] | Loss: 0.8403107523918152\n",
      "Train Epoch 1/10 [55680/60000 (93%)] | Loss: 0.7015339732170105\n",
      "Train Epoch 1/10 [56320/60000 (94%)] | Loss: 0.9485202431678772\n",
      "Train Epoch 1/10 [56960/60000 (95%)] | Loss: 0.8050478100776672\n",
      "Train Epoch 1/10 [57600/60000 (96%)] | Loss: 0.7694236636161804\n",
      "Train Epoch 1/10 [58240/60000 (97%)] | Loss: 0.9191827774047852\n",
      "Train Epoch 1/10 [58880/60000 (98%)] | Loss: 0.9373458623886108\n",
      "Train Epoch 1/10 [59520/60000 (99%)] | Loss: 0.75971919298172\n",
      "\n",
      "Train Acc.: [46636/60000 (78%)]\n",
      "Test Acc.:  [ 8488/10000 (85%)]\n",
      "\n",
      "Train Epoch 2/10 [    0/60000 ( 0%)] | Loss: 0.9081882238388062\n",
      "Train Epoch 2/10 [  640/60000 ( 1%)] | Loss: 0.7937084436416626\n",
      "Train Epoch 2/10 [ 1280/60000 ( 2%)] | Loss: 0.7270110845565796\n",
      "Train Epoch 2/10 [ 1920/60000 ( 3%)] | Loss: 0.9003710150718689\n",
      "Train Epoch 2/10 [ 2560/60000 ( 4%)] | Loss: 0.6464895009994507\n",
      "Train Epoch 2/10 [ 3200/60000 ( 5%)] | Loss: 0.6852769255638123\n",
      "Train Epoch 2/10 [ 3840/60000 ( 6%)] | Loss: 0.7980502843856812\n",
      "Train Epoch 2/10 [ 4480/60000 ( 7%)] | Loss: 0.6495605111122131\n",
      "Train Epoch 2/10 [ 5120/60000 ( 9%)] | Loss: 0.5487790703773499\n",
      "Train Epoch 2/10 [ 5760/60000 (10%)] | Loss: 0.812552273273468\n",
      "Train Epoch 2/10 [ 6400/60000 (11%)] | Loss: 0.6383282542228699\n",
      "Train Epoch 2/10 [ 7040/60000 (12%)] | Loss: 0.6171144247055054\n",
      "Train Epoch 2/10 [ 7680/60000 (13%)] | Loss: 0.5687718391418457\n",
      "Train Epoch 2/10 [ 8320/60000 (14%)] | Loss: 0.6674677729606628\n",
      "Train Epoch 2/10 [ 8960/60000 (15%)] | Loss: 0.8399060368537903\n",
      "Train Epoch 2/10 [ 9600/60000 (16%)] | Loss: 0.5918487906455994\n",
      "Train Epoch 2/10 [10240/60000 (17%)] | Loss: 0.6719427704811096\n",
      "Train Epoch 2/10 [10880/60000 (18%)] | Loss: 0.5491113066673279\n",
      "Train Epoch 2/10 [11520/60000 (19%)] | Loss: 0.7003511190414429\n",
      "Train Epoch 2/10 [12160/60000 (20%)] | Loss: 0.9512119293212891\n",
      "Train Epoch 2/10 [12800/60000 (21%)] | Loss: 0.6067507863044739\n",
      "Train Epoch 2/10 [13440/60000 (22%)] | Loss: 0.616972029209137\n",
      "Train Epoch 2/10 [14080/60000 (23%)] | Loss: 0.763552188873291\n",
      "Train Epoch 2/10 [14720/60000 (25%)] | Loss: 0.6811676621437073\n",
      "Train Epoch 2/10 [15360/60000 (26%)] | Loss: 0.6120710968971252\n",
      "Train Epoch 2/10 [16000/60000 (27%)] | Loss: 0.617313027381897\n",
      "Train Epoch 2/10 [16640/60000 (28%)] | Loss: 0.5092009902000427\n",
      "Train Epoch 2/10 [17280/60000 (29%)] | Loss: 0.6657323837280273\n",
      "Train Epoch 2/10 [17920/60000 (30%)] | Loss: 0.6025928854942322\n",
      "Train Epoch 2/10 [18560/60000 (31%)] | Loss: 0.48384737968444824\n",
      "Train Epoch 2/10 [19200/60000 (32%)] | Loss: 0.825893759727478\n",
      "Train Epoch 2/10 [19840/60000 (33%)] | Loss: 0.7650037407875061\n",
      "Train Epoch 2/10 [20480/60000 (34%)] | Loss: 0.751379132270813\n",
      "Train Epoch 2/10 [21120/60000 (35%)] | Loss: 0.6121390461921692\n",
      "Train Epoch 2/10 [21760/60000 (36%)] | Loss: 0.7772765159606934\n",
      "Train Epoch 2/10 [22400/60000 (37%)] | Loss: 0.7690879106521606\n",
      "Train Epoch 2/10 [23040/60000 (38%)] | Loss: 0.4987320601940155\n",
      "Train Epoch 2/10 [23680/60000 (39%)] | Loss: 0.5832926034927368\n",
      "Train Epoch 2/10 [24320/60000 (41%)] | Loss: 0.4677456319332123\n",
      "Train Epoch 2/10 [24960/60000 (42%)] | Loss: 0.7412331700325012\n",
      "Train Epoch 2/10 [25600/60000 (43%)] | Loss: 1.0858368873596191\n",
      "Train Epoch 2/10 [26240/60000 (44%)] | Loss: 0.7770793437957764\n",
      "Train Epoch 2/10 [26880/60000 (45%)] | Loss: 0.47924718260765076\n",
      "Train Epoch 2/10 [27520/60000 (46%)] | Loss: 0.638684868812561\n",
      "Train Epoch 2/10 [28160/60000 (47%)] | Loss: 0.96860271692276\n",
      "Train Epoch 2/10 [28800/60000 (48%)] | Loss: 0.5444806218147278\n",
      "Train Epoch 2/10 [29440/60000 (49%)] | Loss: 0.6386186480522156\n",
      "Train Epoch 2/10 [30080/60000 (50%)] | Loss: 0.8030175566673279\n",
      "Train Epoch 2/10 [30720/60000 (51%)] | Loss: 0.5370592474937439\n",
      "Train Epoch 2/10 [31360/60000 (52%)] | Loss: 0.6299024224281311\n",
      "Train Epoch 2/10 [32000/60000 (53%)] | Loss: 0.789494514465332\n",
      "Train Epoch 2/10 [32640/60000 (54%)] | Loss: 0.6105950474739075\n",
      "Train Epoch 2/10 [33280/60000 (55%)] | Loss: 0.5636888742446899\n",
      "Train Epoch 2/10 [33920/60000 (57%)] | Loss: 0.5635746717453003\n",
      "Train Epoch 2/10 [34560/60000 (58%)] | Loss: 0.5581275224685669\n",
      "Train Epoch 2/10 [35200/60000 (59%)] | Loss: 0.5965893864631653\n",
      "Train Epoch 2/10 [35840/60000 (60%)] | Loss: 0.7292405962944031\n",
      "Train Epoch 2/10 [36480/60000 (61%)] | Loss: 0.44927170872688293\n",
      "Train Epoch 2/10 [37120/60000 (62%)] | Loss: 0.4522535800933838\n",
      "Train Epoch 2/10 [37760/60000 (63%)] | Loss: 0.5078978538513184\n",
      "Train Epoch 2/10 [38400/60000 (64%)] | Loss: 0.6098759770393372\n",
      "Train Epoch 2/10 [39040/60000 (65%)] | Loss: 0.530507504940033\n",
      "Train Epoch 2/10 [39680/60000 (66%)] | Loss: 0.6950573921203613\n",
      "Train Epoch 2/10 [40320/60000 (67%)] | Loss: 0.45851585268974304\n",
      "Train Epoch 2/10 [40960/60000 (68%)] | Loss: 0.41372111439704895\n",
      "Train Epoch 2/10 [41600/60000 (69%)] | Loss: 0.6114618182182312\n",
      "Train Epoch 2/10 [42240/60000 (70%)] | Loss: 0.6829299926757812\n",
      "Train Epoch 2/10 [42880/60000 (71%)] | Loss: 0.5844289064407349\n",
      "Train Epoch 2/10 [43520/60000 (73%)] | Loss: 0.6970968842506409\n",
      "Train Epoch 2/10 [44160/60000 (74%)] | Loss: 0.7827755212783813\n",
      "Train Epoch 2/10 [44800/60000 (75%)] | Loss: 0.7524341344833374\n",
      "Train Epoch 2/10 [45440/60000 (76%)] | Loss: 0.558296799659729\n",
      "Train Epoch 2/10 [46080/60000 (77%)] | Loss: 0.6127392649650574\n",
      "Train Epoch 2/10 [46720/60000 (78%)] | Loss: 0.5146624445915222\n",
      "Train Epoch 2/10 [47360/60000 (79%)] | Loss: 0.5309402346611023\n",
      "Train Epoch 2/10 [48000/60000 (80%)] | Loss: 0.7520476579666138\n",
      "Train Epoch 2/10 [48640/60000 (81%)] | Loss: 0.7634011507034302\n",
      "Train Epoch 2/10 [49280/60000 (82%)] | Loss: 0.4510091543197632\n",
      "Train Epoch 2/10 [49920/60000 (83%)] | Loss: 0.7295373678207397\n",
      "Train Epoch 2/10 [50560/60000 (84%)] | Loss: 0.6165468692779541\n",
      "Train Epoch 2/10 [51200/60000 (85%)] | Loss: 0.6518879532814026\n",
      "Train Epoch 2/10 [51840/60000 (86%)] | Loss: 0.729849636554718\n",
      "Train Epoch 2/10 [52480/60000 (87%)] | Loss: 0.543201208114624\n",
      "Train Epoch 2/10 [53120/60000 (89%)] | Loss: 0.6600381731987\n",
      "Train Epoch 2/10 [53760/60000 (90%)] | Loss: 0.4710448384284973\n",
      "Train Epoch 2/10 [54400/60000 (91%)] | Loss: 0.5507442951202393\n",
      "Train Epoch 2/10 [55040/60000 (92%)] | Loss: 0.5453045964241028\n",
      "Train Epoch 2/10 [55680/60000 (93%)] | Loss: 0.44125935435295105\n",
      "Train Epoch 2/10 [56320/60000 (94%)] | Loss: 0.5871865749359131\n",
      "Train Epoch 2/10 [56960/60000 (95%)] | Loss: 0.7194215059280396\n",
      "Train Epoch 2/10 [57600/60000 (96%)] | Loss: 0.5039775371551514\n",
      "Train Epoch 2/10 [58240/60000 (97%)] | Loss: 0.3889848291873932\n",
      "Train Epoch 2/10 [58880/60000 (98%)] | Loss: 0.2950904369354248\n",
      "Train Epoch 2/10 [59520/60000 (99%)] | Loss: 0.5515425205230713\n",
      "\n",
      "Train Acc.: [51238/60000 (85%)]\n",
      "Test Acc.:  [ 8753/10000 (88%)]\n",
      "\n",
      "Train Epoch 3/10 [    0/60000 ( 0%)] | Loss: 0.6593751907348633\n",
      "Train Epoch 3/10 [  640/60000 ( 1%)] | Loss: 0.65973961353302\n",
      "Train Epoch 3/10 [ 1280/60000 ( 2%)] | Loss: 0.5445753335952759\n",
      "Train Epoch 3/10 [ 1920/60000 ( 3%)] | Loss: 0.5175315141677856\n",
      "Train Epoch 3/10 [ 2560/60000 ( 4%)] | Loss: 0.4746806025505066\n",
      "Train Epoch 3/10 [ 3200/60000 ( 5%)] | Loss: 0.6181976199150085\n",
      "Train Epoch 3/10 [ 3840/60000 ( 6%)] | Loss: 0.6903175115585327\n",
      "Train Epoch 3/10 [ 4480/60000 ( 7%)] | Loss: 0.5993309020996094\n",
      "Train Epoch 3/10 [ 5120/60000 ( 9%)] | Loss: 0.5103231072425842\n",
      "Train Epoch 3/10 [ 5760/60000 (10%)] | Loss: 0.46974483132362366\n",
      "Train Epoch 3/10 [ 6400/60000 (11%)] | Loss: 0.46451786160469055\n",
      "Train Epoch 3/10 [ 7040/60000 (12%)] | Loss: 0.5501617193222046\n",
      "Train Epoch 3/10 [ 7680/60000 (13%)] | Loss: 0.5311331152915955\n",
      "Train Epoch 3/10 [ 8320/60000 (14%)] | Loss: 0.5007283687591553\n",
      "Train Epoch 3/10 [ 8960/60000 (15%)] | Loss: 0.6621698141098022\n",
      "Train Epoch 3/10 [ 9600/60000 (16%)] | Loss: 0.48708516359329224\n",
      "Train Epoch 3/10 [10240/60000 (17%)] | Loss: 0.38851532340049744\n",
      "Train Epoch 3/10 [10880/60000 (18%)] | Loss: 0.4128793776035309\n",
      "Train Epoch 3/10 [11520/60000 (19%)] | Loss: 0.7337650656700134\n",
      "Train Epoch 3/10 [12160/60000 (20%)] | Loss: 0.447534441947937\n",
      "Train Epoch 3/10 [12800/60000 (21%)] | Loss: 0.46379563212394714\n",
      "Train Epoch 3/10 [13440/60000 (22%)] | Loss: 0.6911528706550598\n",
      "Train Epoch 3/10 [14080/60000 (23%)] | Loss: 0.39601460099220276\n",
      "Train Epoch 3/10 [14720/60000 (25%)] | Loss: 0.8624505996704102\n",
      "Train Epoch 3/10 [15360/60000 (26%)] | Loss: 0.6558883786201477\n",
      "Train Epoch 3/10 [16000/60000 (27%)] | Loss: 0.7172784209251404\n",
      "Train Epoch 3/10 [16640/60000 (28%)] | Loss: 0.4352962374687195\n",
      "Train Epoch 3/10 [17280/60000 (29%)] | Loss: 0.4761148989200592\n",
      "Train Epoch 3/10 [17920/60000 (30%)] | Loss: 0.31900572776794434\n",
      "Train Epoch 3/10 [18560/60000 (31%)] | Loss: 0.5074011087417603\n",
      "Train Epoch 3/10 [19200/60000 (32%)] | Loss: 0.45778512954711914\n",
      "Train Epoch 3/10 [19840/60000 (33%)] | Loss: 0.6241512298583984\n",
      "Train Epoch 3/10 [20480/60000 (34%)] | Loss: 0.25656968355178833\n",
      "Train Epoch 3/10 [21120/60000 (35%)] | Loss: 0.5543184280395508\n",
      "Train Epoch 3/10 [21760/60000 (36%)] | Loss: 0.5798850655555725\n",
      "Train Epoch 3/10 [22400/60000 (37%)] | Loss: 0.524143636226654\n",
      "Train Epoch 3/10 [23040/60000 (38%)] | Loss: 0.5690563321113586\n",
      "Train Epoch 3/10 [23680/60000 (39%)] | Loss: 0.6575502157211304\n",
      "Train Epoch 3/10 [24320/60000 (41%)] | Loss: 0.773236870765686\n",
      "Train Epoch 3/10 [24960/60000 (42%)] | Loss: 0.356558620929718\n",
      "Train Epoch 3/10 [25600/60000 (43%)] | Loss: 0.23328952491283417\n",
      "Train Epoch 3/10 [26240/60000 (44%)] | Loss: 0.4666741192340851\n",
      "Train Epoch 3/10 [26880/60000 (45%)] | Loss: 0.4755578935146332\n",
      "Train Epoch 3/10 [27520/60000 (46%)] | Loss: 0.42784905433654785\n",
      "Train Epoch 3/10 [28160/60000 (47%)] | Loss: 0.22561275959014893\n",
      "Train Epoch 3/10 [28800/60000 (48%)] | Loss: 0.5133236050605774\n",
      "Train Epoch 3/10 [29440/60000 (49%)] | Loss: 0.5226656198501587\n",
      "Train Epoch 3/10 [30080/60000 (50%)] | Loss: 0.687355637550354\n",
      "Train Epoch 3/10 [30720/60000 (51%)] | Loss: 0.5573811531066895\n",
      "Train Epoch 3/10 [31360/60000 (52%)] | Loss: 0.3545401990413666\n",
      "Train Epoch 3/10 [32000/60000 (53%)] | Loss: 0.7248237729072571\n",
      "Train Epoch 3/10 [32640/60000 (54%)] | Loss: 0.43037763237953186\n",
      "Train Epoch 3/10 [33280/60000 (55%)] | Loss: 0.6001933217048645\n",
      "Train Epoch 3/10 [33920/60000 (57%)] | Loss: 0.5553770661354065\n",
      "Train Epoch 3/10 [34560/60000 (58%)] | Loss: 0.34421491622924805\n",
      "Train Epoch 3/10 [35200/60000 (59%)] | Loss: 0.5848338007926941\n",
      "Train Epoch 3/10 [35840/60000 (60%)] | Loss: 0.5389194488525391\n",
      "Train Epoch 3/10 [36480/60000 (61%)] | Loss: 0.5462616086006165\n",
      "Train Epoch 3/10 [37120/60000 (62%)] | Loss: 0.6391347646713257\n",
      "Train Epoch 3/10 [37760/60000 (63%)] | Loss: 0.3768223524093628\n",
      "Train Epoch 3/10 [38400/60000 (64%)] | Loss: 0.39554357528686523\n",
      "Train Epoch 3/10 [39040/60000 (65%)] | Loss: 0.455986350774765\n",
      "Train Epoch 3/10 [39680/60000 (66%)] | Loss: 0.6880863904953003\n",
      "Train Epoch 3/10 [40320/60000 (67%)] | Loss: 0.5431505441665649\n",
      "Train Epoch 3/10 [40960/60000 (68%)] | Loss: 0.5118365287780762\n",
      "Train Epoch 3/10 [41600/60000 (69%)] | Loss: 0.4854834973812103\n",
      "Train Epoch 3/10 [42240/60000 (70%)] | Loss: 0.6319579482078552\n",
      "Train Epoch 3/10 [42880/60000 (71%)] | Loss: 0.40159422159194946\n",
      "Train Epoch 3/10 [43520/60000 (73%)] | Loss: 0.3410996198654175\n",
      "Train Epoch 3/10 [44160/60000 (74%)] | Loss: 0.40567928552627563\n",
      "Train Epoch 3/10 [44800/60000 (75%)] | Loss: 0.3539588153362274\n",
      "Train Epoch 3/10 [45440/60000 (76%)] | Loss: 0.373223215341568\n",
      "Train Epoch 3/10 [46080/60000 (77%)] | Loss: 0.4213438928127289\n",
      "Train Epoch 3/10 [46720/60000 (78%)] | Loss: 0.5267131328582764\n",
      "Train Epoch 3/10 [47360/60000 (79%)] | Loss: 0.42007434368133545\n",
      "Train Epoch 3/10 [48000/60000 (80%)] | Loss: 0.48356306552886963\n",
      "Train Epoch 3/10 [48640/60000 (81%)] | Loss: 0.5018756985664368\n",
      "Train Epoch 3/10 [49280/60000 (82%)] | Loss: 0.582355797290802\n",
      "Train Epoch 3/10 [49920/60000 (83%)] | Loss: 0.4931069016456604\n",
      "Train Epoch 3/10 [50560/60000 (84%)] | Loss: 0.6173779964447021\n",
      "Train Epoch 3/10 [51200/60000 (85%)] | Loss: 0.7571290135383606\n",
      "Train Epoch 3/10 [51840/60000 (86%)] | Loss: 0.4262704849243164\n",
      "Train Epoch 3/10 [52480/60000 (87%)] | Loss: 0.48733919858932495\n",
      "Train Epoch 3/10 [53120/60000 (89%)] | Loss: 0.38717731833457947\n",
      "Train Epoch 3/10 [53760/60000 (90%)] | Loss: 0.7399361729621887\n",
      "Train Epoch 3/10 [54400/60000 (91%)] | Loss: 0.5483057498931885\n",
      "Train Epoch 3/10 [55040/60000 (92%)] | Loss: 0.45821285247802734\n",
      "Train Epoch 3/10 [55680/60000 (93%)] | Loss: 0.46546703577041626\n",
      "Train Epoch 3/10 [56320/60000 (94%)] | Loss: 0.5945142507553101\n",
      "Train Epoch 3/10 [56960/60000 (95%)] | Loss: 0.6300333142280579\n",
      "Train Epoch 3/10 [57600/60000 (96%)] | Loss: 0.41927167773246765\n",
      "Train Epoch 3/10 [58240/60000 (97%)] | Loss: 0.4107978940010071\n",
      "Train Epoch 3/10 [58880/60000 (98%)] | Loss: 0.7451916933059692\n",
      "Train Epoch 3/10 [59520/60000 (99%)] | Loss: 0.4863893389701843\n",
      "\n",
      "Train Acc.: [52436/60000 (87%)]\n",
      "Test Acc.:  [ 8872/10000 (89%)]\n",
      "\n",
      "Train Epoch 4/10 [    0/60000 ( 0%)] | Loss: 0.4505070447921753\n",
      "Train Epoch 4/10 [  640/60000 ( 1%)] | Loss: 0.3648306131362915\n",
      "Train Epoch 4/10 [ 1280/60000 ( 2%)] | Loss: 0.3083042502403259\n",
      "Train Epoch 4/10 [ 1920/60000 ( 3%)] | Loss: 0.4640478789806366\n",
      "Train Epoch 4/10 [ 2560/60000 ( 4%)] | Loss: 0.5221112370491028\n",
      "Train Epoch 4/10 [ 3200/60000 ( 5%)] | Loss: 0.5046985745429993\n",
      "Train Epoch 4/10 [ 3840/60000 ( 6%)] | Loss: 0.6755437850952148\n",
      "Train Epoch 4/10 [ 4480/60000 ( 7%)] | Loss: 0.37317878007888794\n",
      "Train Epoch 4/10 [ 5120/60000 ( 9%)] | Loss: 0.5872552990913391\n",
      "Train Epoch 4/10 [ 5760/60000 (10%)] | Loss: 0.5029618740081787\n",
      "Train Epoch 4/10 [ 6400/60000 (11%)] | Loss: 0.48910027742385864\n",
      "Train Epoch 4/10 [ 7040/60000 (12%)] | Loss: 0.5160719752311707\n",
      "Train Epoch 4/10 [ 7680/60000 (13%)] | Loss: 0.5949058532714844\n",
      "Train Epoch 4/10 [ 8320/60000 (14%)] | Loss: 0.4205043613910675\n",
      "Train Epoch 4/10 [ 8960/60000 (15%)] | Loss: 0.4144648015499115\n",
      "Train Epoch 4/10 [ 9600/60000 (16%)] | Loss: 0.38693541288375854\n",
      "Train Epoch 4/10 [10240/60000 (17%)] | Loss: 0.3176584243774414\n",
      "Train Epoch 4/10 [10880/60000 (18%)] | Loss: 0.3466622829437256\n",
      "Train Epoch 4/10 [11520/60000 (19%)] | Loss: 0.6095581650733948\n",
      "Train Epoch 4/10 [12160/60000 (20%)] | Loss: 0.36780914664268494\n",
      "Train Epoch 4/10 [12800/60000 (21%)] | Loss: 0.4263512194156647\n",
      "Train Epoch 4/10 [13440/60000 (22%)] | Loss: 0.2896955609321594\n",
      "Train Epoch 4/10 [14080/60000 (23%)] | Loss: 0.6085342168807983\n",
      "Train Epoch 4/10 [14720/60000 (25%)] | Loss: 0.2617482841014862\n",
      "Train Epoch 4/10 [15360/60000 (26%)] | Loss: 0.5634271502494812\n",
      "Train Epoch 4/10 [16000/60000 (27%)] | Loss: 0.4811937212944031\n",
      "Train Epoch 4/10 [16640/60000 (28%)] | Loss: 0.33320480585098267\n",
      "Train Epoch 4/10 [17280/60000 (29%)] | Loss: 0.48845547437667847\n",
      "Train Epoch 4/10 [17920/60000 (30%)] | Loss: 0.411503404378891\n",
      "Train Epoch 4/10 [18560/60000 (31%)] | Loss: 0.4940851628780365\n",
      "Train Epoch 4/10 [19200/60000 (32%)] | Loss: 0.20359081029891968\n",
      "Train Epoch 4/10 [19840/60000 (33%)] | Loss: 0.5461946725845337\n",
      "Train Epoch 4/10 [20480/60000 (34%)] | Loss: 0.44091007113456726\n",
      "Train Epoch 4/10 [21120/60000 (35%)] | Loss: 0.49161115288734436\n",
      "Train Epoch 4/10 [21760/60000 (36%)] | Loss: 0.3537052273750305\n",
      "Train Epoch 4/10 [22400/60000 (37%)] | Loss: 0.351104736328125\n",
      "Train Epoch 4/10 [23040/60000 (38%)] | Loss: 0.3857938051223755\n",
      "Train Epoch 4/10 [23680/60000 (39%)] | Loss: 0.4074833393096924\n",
      "Train Epoch 4/10 [24320/60000 (41%)] | Loss: 0.38295677304267883\n",
      "Train Epoch 4/10 [24960/60000 (42%)] | Loss: 0.3485584259033203\n",
      "Train Epoch 4/10 [25600/60000 (43%)] | Loss: 0.49637067317962646\n",
      "Train Epoch 4/10 [26240/60000 (44%)] | Loss: 0.32165226340293884\n",
      "Train Epoch 4/10 [26880/60000 (45%)] | Loss: 0.4366495907306671\n",
      "Train Epoch 4/10 [27520/60000 (46%)] | Loss: 0.5402097702026367\n",
      "Train Epoch 4/10 [28160/60000 (47%)] | Loss: 0.5039021968841553\n",
      "Train Epoch 4/10 [28800/60000 (48%)] | Loss: 0.4551863670349121\n",
      "Train Epoch 4/10 [29440/60000 (49%)] | Loss: 0.3828519880771637\n",
      "Train Epoch 4/10 [30080/60000 (50%)] | Loss: 0.3991870880126953\n",
      "Train Epoch 4/10 [30720/60000 (51%)] | Loss: 0.31479519605636597\n",
      "Train Epoch 4/10 [31360/60000 (52%)] | Loss: 0.7777807116508484\n",
      "Train Epoch 4/10 [32000/60000 (53%)] | Loss: 0.5603318810462952\n",
      "Train Epoch 4/10 [32640/60000 (54%)] | Loss: 0.42331188917160034\n",
      "Train Epoch 4/10 [33280/60000 (55%)] | Loss: 0.501501202583313\n",
      "Train Epoch 4/10 [33920/60000 (57%)] | Loss: 0.24924910068511963\n",
      "Train Epoch 4/10 [34560/60000 (58%)] | Loss: 0.3248683512210846\n",
      "Train Epoch 4/10 [35200/60000 (59%)] | Loss: 0.24502483010292053\n",
      "Train Epoch 4/10 [35840/60000 (60%)] | Loss: 0.4305250644683838\n",
      "Train Epoch 4/10 [36480/60000 (61%)] | Loss: 0.22620876133441925\n",
      "Train Epoch 4/10 [37120/60000 (62%)] | Loss: 0.3393453061580658\n",
      "Train Epoch 4/10 [37760/60000 (63%)] | Loss: 0.2307647168636322\n",
      "Train Epoch 4/10 [38400/60000 (64%)] | Loss: 0.2900119423866272\n",
      "Train Epoch 4/10 [39040/60000 (65%)] | Loss: 0.49280551075935364\n",
      "Train Epoch 4/10 [39680/60000 (66%)] | Loss: 0.45010146498680115\n",
      "Train Epoch 4/10 [40320/60000 (67%)] | Loss: 0.34117838740348816\n",
      "Train Epoch 4/10 [40960/60000 (68%)] | Loss: 0.3949958086013794\n",
      "Train Epoch 4/10 [41600/60000 (69%)] | Loss: 0.2405768483877182\n",
      "Train Epoch 4/10 [42240/60000 (70%)] | Loss: 0.4238177537918091\n",
      "Train Epoch 4/10 [42880/60000 (71%)] | Loss: 0.4986828565597534\n",
      "Train Epoch 4/10 [43520/60000 (73%)] | Loss: 0.29071447253227234\n",
      "Train Epoch 4/10 [44160/60000 (74%)] | Loss: 0.35762494802474976\n",
      "Train Epoch 4/10 [44800/60000 (75%)] | Loss: 0.3876897394657135\n",
      "Train Epoch 4/10 [45440/60000 (76%)] | Loss: 0.3124482035636902\n",
      "Train Epoch 4/10 [46080/60000 (77%)] | Loss: 0.5778762698173523\n",
      "Train Epoch 4/10 [46720/60000 (78%)] | Loss: 0.4172641634941101\n",
      "Train Epoch 4/10 [47360/60000 (79%)] | Loss: 0.5206069350242615\n",
      "Train Epoch 4/10 [48000/60000 (80%)] | Loss: 0.5423803329467773\n",
      "Train Epoch 4/10 [48640/60000 (81%)] | Loss: 0.6469963788986206\n",
      "Train Epoch 4/10 [49280/60000 (82%)] | Loss: 0.36145755648612976\n",
      "Train Epoch 4/10 [49920/60000 (83%)] | Loss: 0.2604464590549469\n",
      "Train Epoch 4/10 [50560/60000 (84%)] | Loss: 0.32132071256637573\n",
      "Train Epoch 4/10 [51200/60000 (85%)] | Loss: 0.3533400893211365\n",
      "Train Epoch 4/10 [51840/60000 (86%)] | Loss: 0.7349756956100464\n",
      "Train Epoch 4/10 [52480/60000 (87%)] | Loss: 0.47337737679481506\n",
      "Train Epoch 4/10 [53120/60000 (89%)] | Loss: 0.498807817697525\n",
      "Train Epoch 4/10 [53760/60000 (90%)] | Loss: 0.4936065375804901\n",
      "Train Epoch 4/10 [54400/60000 (91%)] | Loss: 0.5105215311050415\n",
      "Train Epoch 4/10 [55040/60000 (92%)] | Loss: 0.26311343908309937\n",
      "Train Epoch 4/10 [55680/60000 (93%)] | Loss: 0.513253927230835\n",
      "Train Epoch 4/10 [56320/60000 (94%)] | Loss: 0.20405185222625732\n",
      "Train Epoch 4/10 [56960/60000 (95%)] | Loss: 0.4486182928085327\n",
      "Train Epoch 4/10 [57600/60000 (96%)] | Loss: 0.6291414499282837\n",
      "Train Epoch 4/10 [58240/60000 (97%)] | Loss: 0.3569943308830261\n",
      "Train Epoch 4/10 [58880/60000 (98%)] | Loss: 0.3271189332008362\n",
      "Train Epoch 4/10 [59520/60000 (99%)] | Loss: 0.5447232723236084\n",
      "\n",
      "Train Acc.: [53149/60000 (89%)]\n",
      "Test Acc.:  [ 8939/10000 (89%)]\n",
      "\n",
      "Train Epoch 5/10 [    0/60000 ( 0%)] | Loss: 0.4929518699645996\n",
      "Train Epoch 5/10 [  640/60000 ( 1%)] | Loss: 0.35371124744415283\n",
      "Train Epoch 5/10 [ 1280/60000 ( 2%)] | Loss: 0.4049837291240692\n",
      "Train Epoch 5/10 [ 1920/60000 ( 3%)] | Loss: 0.41467639803886414\n",
      "Train Epoch 5/10 [ 2560/60000 ( 4%)] | Loss: 0.40864384174346924\n",
      "Train Epoch 5/10 [ 3200/60000 ( 5%)] | Loss: 0.6401323676109314\n",
      "Train Epoch 5/10 [ 3840/60000 ( 6%)] | Loss: 0.4845040440559387\n",
      "Train Epoch 5/10 [ 4480/60000 ( 7%)] | Loss: 0.15564318001270294\n",
      "Train Epoch 5/10 [ 5120/60000 ( 9%)] | Loss: 0.5121996998786926\n",
      "Train Epoch 5/10 [ 5760/60000 (10%)] | Loss: 0.18461525440216064\n",
      "Train Epoch 5/10 [ 6400/60000 (11%)] | Loss: 0.5748218297958374\n",
      "Train Epoch 5/10 [ 7040/60000 (12%)] | Loss: 0.402076780796051\n",
      "Train Epoch 5/10 [ 7680/60000 (13%)] | Loss: 0.5190345644950867\n",
      "Train Epoch 5/10 [ 8320/60000 (14%)] | Loss: 0.3168075978755951\n",
      "Train Epoch 5/10 [ 8960/60000 (15%)] | Loss: 0.4939909875392914\n",
      "Train Epoch 5/10 [ 9600/60000 (16%)] | Loss: 0.4176832437515259\n",
      "Train Epoch 5/10 [10240/60000 (17%)] | Loss: 0.35788124799728394\n",
      "Train Epoch 5/10 [10880/60000 (18%)] | Loss: 0.49634984135627747\n",
      "Train Epoch 5/10 [11520/60000 (19%)] | Loss: 0.4906803369522095\n",
      "Train Epoch 5/10 [12160/60000 (20%)] | Loss: 0.6170420050621033\n",
      "Train Epoch 5/10 [12800/60000 (21%)] | Loss: 0.45647135376930237\n",
      "Train Epoch 5/10 [13440/60000 (22%)] | Loss: 0.3466724455356598\n",
      "Train Epoch 5/10 [14080/60000 (23%)] | Loss: 0.562157154083252\n",
      "Train Epoch 5/10 [14720/60000 (25%)] | Loss: 0.22974051535129547\n",
      "Train Epoch 5/10 [15360/60000 (26%)] | Loss: 0.4169589579105377\n",
      "Train Epoch 5/10 [16000/60000 (27%)] | Loss: 0.4182313084602356\n",
      "Train Epoch 5/10 [16640/60000 (28%)] | Loss: 0.30083420872688293\n",
      "Train Epoch 5/10 [17280/60000 (29%)] | Loss: 0.4772157669067383\n",
      "Train Epoch 5/10 [17920/60000 (30%)] | Loss: 0.24866895377635956\n",
      "Train Epoch 5/10 [18560/60000 (31%)] | Loss: 0.25472310185432434\n",
      "Train Epoch 5/10 [19200/60000 (32%)] | Loss: 0.3238358199596405\n",
      "Train Epoch 5/10 [19840/60000 (33%)] | Loss: 0.3102015554904938\n",
      "Train Epoch 5/10 [20480/60000 (34%)] | Loss: 0.26317858695983887\n",
      "Train Epoch 5/10 [21120/60000 (35%)] | Loss: 0.38421517610549927\n",
      "Train Epoch 5/10 [21760/60000 (36%)] | Loss: 0.3601720333099365\n",
      "Train Epoch 5/10 [22400/60000 (37%)] | Loss: 0.44744372367858887\n",
      "Train Epoch 5/10 [23040/60000 (38%)] | Loss: 0.7717076539993286\n",
      "Train Epoch 5/10 [23680/60000 (39%)] | Loss: 0.3401264548301697\n",
      "Train Epoch 5/10 [24320/60000 (41%)] | Loss: 0.22485880553722382\n",
      "Train Epoch 5/10 [24960/60000 (42%)] | Loss: 0.4505403935909271\n",
      "Train Epoch 5/10 [25600/60000 (43%)] | Loss: 0.3742697834968567\n",
      "Train Epoch 5/10 [26240/60000 (44%)] | Loss: 0.20214051008224487\n",
      "Train Epoch 5/10 [26880/60000 (45%)] | Loss: 0.5396280884742737\n",
      "Train Epoch 5/10 [27520/60000 (46%)] | Loss: 0.7292040586471558\n",
      "Train Epoch 5/10 [28160/60000 (47%)] | Loss: 0.487210750579834\n",
      "Train Epoch 5/10 [28800/60000 (48%)] | Loss: 0.3440802991390228\n",
      "Train Epoch 5/10 [29440/60000 (49%)] | Loss: 0.4175533950328827\n",
      "Train Epoch 5/10 [30080/60000 (50%)] | Loss: 0.5304108262062073\n",
      "Train Epoch 5/10 [30720/60000 (51%)] | Loss: 0.44450390338897705\n",
      "Train Epoch 5/10 [31360/60000 (52%)] | Loss: 0.34366393089294434\n",
      "Train Epoch 5/10 [32000/60000 (53%)] | Loss: 0.3228566646575928\n",
      "Train Epoch 5/10 [32640/60000 (54%)] | Loss: 0.2529556453227997\n",
      "Train Epoch 5/10 [33280/60000 (55%)] | Loss: 0.4585295021533966\n",
      "Train Epoch 5/10 [33920/60000 (57%)] | Loss: 0.3322363793849945\n",
      "Train Epoch 5/10 [34560/60000 (58%)] | Loss: 0.3800742030143738\n",
      "Train Epoch 5/10 [35200/60000 (59%)] | Loss: 0.3338504433631897\n",
      "Train Epoch 5/10 [35840/60000 (60%)] | Loss: 0.2942911386489868\n",
      "Train Epoch 5/10 [36480/60000 (61%)] | Loss: 0.2707325518131256\n",
      "Train Epoch 5/10 [37120/60000 (62%)] | Loss: 0.32822680473327637\n",
      "Train Epoch 5/10 [37760/60000 (63%)] | Loss: 0.5983167886734009\n",
      "Train Epoch 5/10 [38400/60000 (64%)] | Loss: 0.3473697006702423\n",
      "Train Epoch 5/10 [39040/60000 (65%)] | Loss: 0.48308101296424866\n",
      "Train Epoch 5/10 [39680/60000 (66%)] | Loss: 0.5808842182159424\n",
      "Train Epoch 5/10 [40320/60000 (67%)] | Loss: 0.393621027469635\n",
      "Train Epoch 5/10 [40960/60000 (68%)] | Loss: 0.672377347946167\n",
      "Train Epoch 5/10 [41600/60000 (69%)] | Loss: 0.5977750420570374\n",
      "Train Epoch 5/10 [42240/60000 (70%)] | Loss: 0.4757882058620453\n",
      "Train Epoch 5/10 [42880/60000 (71%)] | Loss: 0.40712717175483704\n",
      "Train Epoch 5/10 [43520/60000 (73%)] | Loss: 0.5276567935943604\n",
      "Train Epoch 5/10 [44160/60000 (74%)] | Loss: 0.251155823469162\n",
      "Train Epoch 5/10 [44800/60000 (75%)] | Loss: 0.43714308738708496\n",
      "Train Epoch 5/10 [45440/60000 (76%)] | Loss: 0.44507578015327454\n",
      "Train Epoch 5/10 [46080/60000 (77%)] | Loss: 0.2527720630168915\n",
      "Train Epoch 5/10 [46720/60000 (78%)] | Loss: 0.27644190192222595\n",
      "Train Epoch 5/10 [47360/60000 (79%)] | Loss: 0.31638434529304504\n",
      "Train Epoch 5/10 [48000/60000 (80%)] | Loss: 0.13568232953548431\n",
      "Train Epoch 5/10 [48640/60000 (81%)] | Loss: 0.4418798089027405\n",
      "Train Epoch 5/10 [49280/60000 (82%)] | Loss: 0.6233110427856445\n",
      "Train Epoch 5/10 [49920/60000 (83%)] | Loss: 0.2033306360244751\n",
      "Train Epoch 5/10 [50560/60000 (84%)] | Loss: 0.5293808579444885\n",
      "Train Epoch 5/10 [51200/60000 (85%)] | Loss: 0.6955176591873169\n",
      "Train Epoch 5/10 [51840/60000 (86%)] | Loss: 0.5406560897827148\n",
      "Train Epoch 5/10 [52480/60000 (87%)] | Loss: 0.5750811100006104\n",
      "Train Epoch 5/10 [53120/60000 (89%)] | Loss: 0.3982742130756378\n",
      "Train Epoch 5/10 [53760/60000 (90%)] | Loss: 0.27512088418006897\n",
      "Train Epoch 5/10 [54400/60000 (91%)] | Loss: 0.3675227463245392\n",
      "Train Epoch 5/10 [55040/60000 (92%)] | Loss: 0.4351513385772705\n",
      "Train Epoch 5/10 [55680/60000 (93%)] | Loss: 0.19822831451892853\n",
      "Train Epoch 5/10 [56320/60000 (94%)] | Loss: 0.567725419998169\n",
      "Train Epoch 5/10 [56960/60000 (95%)] | Loss: 0.4537571668624878\n",
      "Train Epoch 5/10 [57600/60000 (96%)] | Loss: 0.30951717495918274\n",
      "Train Epoch 5/10 [58240/60000 (97%)] | Loss: 0.2277248501777649\n",
      "Train Epoch 5/10 [58880/60000 (98%)] | Loss: 0.35651540756225586\n",
      "Train Epoch 5/10 [59520/60000 (99%)] | Loss: 0.3125409483909607\n",
      "\n",
      "Train Acc.: [53567/60000 (89%)]\n",
      "Test Acc.:  [ 8997/10000 (90%)]\n",
      "\n",
      "Train Epoch 6/10 [    0/60000 ( 0%)] | Loss: 0.3746592402458191\n",
      "Train Epoch 6/10 [  640/60000 ( 1%)] | Loss: 0.35062795877456665\n",
      "Train Epoch 6/10 [ 1280/60000 ( 2%)] | Loss: 0.2581060826778412\n",
      "Train Epoch 6/10 [ 1920/60000 ( 3%)] | Loss: 0.4640767276287079\n",
      "Train Epoch 6/10 [ 2560/60000 ( 4%)] | Loss: 0.7002148628234863\n",
      "Train Epoch 6/10 [ 3200/60000 ( 5%)] | Loss: 0.22795672714710236\n",
      "Train Epoch 6/10 [ 3840/60000 ( 6%)] | Loss: 0.2903727889060974\n",
      "Train Epoch 6/10 [ 4480/60000 ( 7%)] | Loss: 0.39709267020225525\n",
      "Train Epoch 6/10 [ 5120/60000 ( 9%)] | Loss: 0.2640077769756317\n",
      "Train Epoch 6/10 [ 5760/60000 (10%)] | Loss: 0.4553142189979553\n",
      "Train Epoch 6/10 [ 6400/60000 (11%)] | Loss: 0.43737220764160156\n",
      "Train Epoch 6/10 [ 7040/60000 (12%)] | Loss: 0.5532473921775818\n",
      "Train Epoch 6/10 [ 7680/60000 (13%)] | Loss: 0.27205708622932434\n",
      "Train Epoch 6/10 [ 8320/60000 (14%)] | Loss: 0.319480836391449\n",
      "Train Epoch 6/10 [ 8960/60000 (15%)] | Loss: 0.4071641266345978\n",
      "Train Epoch 6/10 [ 9600/60000 (16%)] | Loss: 0.4741838574409485\n",
      "Train Epoch 6/10 [10240/60000 (17%)] | Loss: 0.2536419928073883\n",
      "Train Epoch 6/10 [10880/60000 (18%)] | Loss: 0.24858073890209198\n",
      "Train Epoch 6/10 [11520/60000 (19%)] | Loss: 0.4792120158672333\n",
      "Train Epoch 6/10 [12160/60000 (20%)] | Loss: 0.36640265583992004\n",
      "Train Epoch 6/10 [12800/60000 (21%)] | Loss: 0.31654614210128784\n",
      "Train Epoch 6/10 [13440/60000 (22%)] | Loss: 0.328781396150589\n",
      "Train Epoch 6/10 [14080/60000 (23%)] | Loss: 0.22491280734539032\n",
      "Train Epoch 6/10 [14720/60000 (25%)] | Loss: 0.20189988613128662\n",
      "Train Epoch 6/10 [15360/60000 (26%)] | Loss: 0.18858633935451508\n",
      "Train Epoch 6/10 [16000/60000 (27%)] | Loss: 0.1655600368976593\n",
      "Train Epoch 6/10 [16640/60000 (28%)] | Loss: 0.33923283219337463\n",
      "Train Epoch 6/10 [17280/60000 (29%)] | Loss: 0.26567092537879944\n",
      "Train Epoch 6/10 [17920/60000 (30%)] | Loss: 0.2079295963048935\n",
      "Train Epoch 6/10 [18560/60000 (31%)] | Loss: 0.35917478799819946\n",
      "Train Epoch 6/10 [19200/60000 (32%)] | Loss: 0.15748368203639984\n",
      "Train Epoch 6/10 [19840/60000 (33%)] | Loss: 0.294011652469635\n",
      "Train Epoch 6/10 [20480/60000 (34%)] | Loss: 0.4124593436717987\n",
      "Train Epoch 6/10 [21120/60000 (35%)] | Loss: 0.3598627746105194\n",
      "Train Epoch 6/10 [21760/60000 (36%)] | Loss: 0.4270124137401581\n",
      "Train Epoch 6/10 [22400/60000 (37%)] | Loss: 0.3489413857460022\n",
      "Train Epoch 6/10 [23040/60000 (38%)] | Loss: 0.22083520889282227\n",
      "Train Epoch 6/10 [23680/60000 (39%)] | Loss: 0.26979440450668335\n",
      "Train Epoch 6/10 [24320/60000 (41%)] | Loss: 0.32463663816452026\n",
      "Train Epoch 6/10 [24960/60000 (42%)] | Loss: 0.3274560272693634\n",
      "Train Epoch 6/10 [25600/60000 (43%)] | Loss: 0.49958324432373047\n",
      "Train Epoch 6/10 [26240/60000 (44%)] | Loss: 0.2660483121871948\n",
      "Train Epoch 6/10 [26880/60000 (45%)] | Loss: 0.535018265247345\n",
      "Train Epoch 6/10 [27520/60000 (46%)] | Loss: 0.17658498883247375\n",
      "Train Epoch 6/10 [28160/60000 (47%)] | Loss: 0.35584557056427\n",
      "Train Epoch 6/10 [28800/60000 (48%)] | Loss: 0.5584313273429871\n",
      "Train Epoch 6/10 [29440/60000 (49%)] | Loss: 0.4646604061126709\n",
      "Train Epoch 6/10 [30080/60000 (50%)] | Loss: 0.30460047721862793\n",
      "Train Epoch 6/10 [30720/60000 (51%)] | Loss: 0.2771728038787842\n",
      "Train Epoch 6/10 [31360/60000 (52%)] | Loss: 0.20596657693386078\n",
      "Train Epoch 6/10 [32000/60000 (53%)] | Loss: 0.4117223620414734\n",
      "Train Epoch 6/10 [32640/60000 (54%)] | Loss: 0.3752771019935608\n",
      "Train Epoch 6/10 [33280/60000 (55%)] | Loss: 0.3362099528312683\n",
      "Train Epoch 6/10 [33920/60000 (57%)] | Loss: 0.512041449546814\n",
      "Train Epoch 6/10 [34560/60000 (58%)] | Loss: 0.3770020306110382\n",
      "Train Epoch 6/10 [35200/60000 (59%)] | Loss: 0.18415187299251556\n",
      "Train Epoch 6/10 [35840/60000 (60%)] | Loss: 0.37819719314575195\n",
      "Train Epoch 6/10 [36480/60000 (61%)] | Loss: 0.40137791633605957\n",
      "Train Epoch 6/10 [37120/60000 (62%)] | Loss: 0.3213508129119873\n",
      "Train Epoch 6/10 [37760/60000 (63%)] | Loss: 0.44550684094429016\n",
      "Train Epoch 6/10 [38400/60000 (64%)] | Loss: 0.3225169777870178\n",
      "Train Epoch 6/10 [39040/60000 (65%)] | Loss: 0.3737526834011078\n",
      "Train Epoch 6/10 [39680/60000 (66%)] | Loss: 0.11646223813295364\n",
      "Train Epoch 6/10 [40320/60000 (67%)] | Loss: 0.37137123942375183\n",
      "Train Epoch 6/10 [40960/60000 (68%)] | Loss: 0.38025930523872375\n",
      "Train Epoch 6/10 [41600/60000 (69%)] | Loss: 0.33726441860198975\n",
      "Train Epoch 6/10 [42240/60000 (70%)] | Loss: 0.2890790104866028\n",
      "Train Epoch 6/10 [42880/60000 (71%)] | Loss: 0.2934894859790802\n",
      "Train Epoch 6/10 [43520/60000 (73%)] | Loss: 0.2132788449525833\n",
      "Train Epoch 6/10 [44160/60000 (74%)] | Loss: 0.6886311769485474\n",
      "Train Epoch 6/10 [44800/60000 (75%)] | Loss: 0.6097971200942993\n",
      "Train Epoch 6/10 [45440/60000 (76%)] | Loss: 0.5759066939353943\n",
      "Train Epoch 6/10 [46080/60000 (77%)] | Loss: 0.4118739664554596\n",
      "Train Epoch 6/10 [46720/60000 (78%)] | Loss: 0.7269096970558167\n",
      "Train Epoch 6/10 [47360/60000 (79%)] | Loss: 0.32755929231643677\n",
      "Train Epoch 6/10 [48000/60000 (80%)] | Loss: 0.2571212351322174\n",
      "Train Epoch 6/10 [48640/60000 (81%)] | Loss: 0.38531821966171265\n",
      "Train Epoch 6/10 [49280/60000 (82%)] | Loss: 0.2416614294052124\n",
      "Train Epoch 6/10 [49920/60000 (83%)] | Loss: 0.44290855526924133\n",
      "Train Epoch 6/10 [50560/60000 (84%)] | Loss: 0.6064207553863525\n",
      "Train Epoch 6/10 [51200/60000 (85%)] | Loss: 0.47375965118408203\n",
      "Train Epoch 6/10 [51840/60000 (86%)] | Loss: 0.5644084811210632\n",
      "Train Epoch 6/10 [52480/60000 (87%)] | Loss: 0.7246661186218262\n",
      "Train Epoch 6/10 [53120/60000 (89%)] | Loss: 0.29526734352111816\n",
      "Train Epoch 6/10 [53760/60000 (90%)] | Loss: 0.20397676527500153\n",
      "Train Epoch 6/10 [54400/60000 (91%)] | Loss: 0.1591649204492569\n",
      "Train Epoch 6/10 [55040/60000 (92%)] | Loss: 0.270821750164032\n",
      "Train Epoch 6/10 [55680/60000 (93%)] | Loss: 0.4577065706253052\n",
      "Train Epoch 6/10 [56320/60000 (94%)] | Loss: 0.4330874979496002\n",
      "Train Epoch 6/10 [56960/60000 (95%)] | Loss: 0.4826622009277344\n",
      "Train Epoch 6/10 [57600/60000 (96%)] | Loss: 0.2541005611419678\n",
      "Train Epoch 6/10 [58240/60000 (97%)] | Loss: 0.3504621088504791\n",
      "Train Epoch 6/10 [58880/60000 (98%)] | Loss: 0.21561327576637268\n",
      "Train Epoch 6/10 [59520/60000 (99%)] | Loss: 0.20135222375392914\n",
      "\n",
      "Train Acc.: [53903/60000 (90%)]\n",
      "Test Acc.:  [ 9045/10000 (90%)]\n",
      "\n",
      "Train Epoch 7/10 [    0/60000 ( 0%)] | Loss: 0.29236510396003723\n",
      "Train Epoch 7/10 [  640/60000 ( 1%)] | Loss: 0.3376866579055786\n",
      "Train Epoch 7/10 [ 1280/60000 ( 2%)] | Loss: 0.3407127857208252\n",
      "Train Epoch 7/10 [ 1920/60000 ( 3%)] | Loss: 0.27355921268463135\n",
      "Train Epoch 7/10 [ 2560/60000 ( 4%)] | Loss: 0.2853177785873413\n",
      "Train Epoch 7/10 [ 3200/60000 ( 5%)] | Loss: 0.23084229230880737\n",
      "Train Epoch 7/10 [ 3840/60000 ( 6%)] | Loss: 0.7630104422569275\n",
      "Train Epoch 7/10 [ 4480/60000 ( 7%)] | Loss: 0.3870076537132263\n",
      "Train Epoch 7/10 [ 5120/60000 ( 9%)] | Loss: 0.34931856393814087\n",
      "Train Epoch 7/10 [ 5760/60000 (10%)] | Loss: 0.45073553919792175\n",
      "Train Epoch 7/10 [ 6400/60000 (11%)] | Loss: 0.24971097707748413\n",
      "Train Epoch 7/10 [ 7040/60000 (12%)] | Loss: 0.18605035543441772\n",
      "Train Epoch 7/10 [ 7680/60000 (13%)] | Loss: 0.3778485953807831\n",
      "Train Epoch 7/10 [ 8320/60000 (14%)] | Loss: 0.6094796657562256\n",
      "Train Epoch 7/10 [ 8960/60000 (15%)] | Loss: 0.21327997744083405\n",
      "Train Epoch 7/10 [ 9600/60000 (16%)] | Loss: 0.4035020172595978\n",
      "Train Epoch 7/10 [10240/60000 (17%)] | Loss: 0.3647674322128296\n",
      "Train Epoch 7/10 [10880/60000 (18%)] | Loss: 0.2675441801548004\n",
      "Train Epoch 7/10 [11520/60000 (19%)] | Loss: 0.49808409810066223\n",
      "Train Epoch 7/10 [12160/60000 (20%)] | Loss: 0.4311952292919159\n",
      "Train Epoch 7/10 [12800/60000 (21%)] | Loss: 0.6853963136672974\n",
      "Train Epoch 7/10 [13440/60000 (22%)] | Loss: 0.3628856837749481\n",
      "Train Epoch 7/10 [14080/60000 (23%)] | Loss: 0.25729769468307495\n",
      "Train Epoch 7/10 [14720/60000 (25%)] | Loss: 0.22876682877540588\n",
      "Train Epoch 7/10 [15360/60000 (26%)] | Loss: 0.495195597410202\n",
      "Train Epoch 7/10 [16000/60000 (27%)] | Loss: 0.1659785807132721\n",
      "Train Epoch 7/10 [16640/60000 (28%)] | Loss: 0.26077741384506226\n",
      "Train Epoch 7/10 [17280/60000 (29%)] | Loss: 0.44016948342323303\n",
      "Train Epoch 7/10 [17920/60000 (30%)] | Loss: 0.3373124599456787\n",
      "Train Epoch 7/10 [18560/60000 (31%)] | Loss: 0.17000116407871246\n",
      "Train Epoch 7/10 [19200/60000 (32%)] | Loss: 0.25142621994018555\n",
      "Train Epoch 7/10 [19840/60000 (33%)] | Loss: 0.3794673979282379\n",
      "Train Epoch 7/10 [20480/60000 (34%)] | Loss: 0.3796497583389282\n",
      "Train Epoch 7/10 [21120/60000 (35%)] | Loss: 0.5030364990234375\n",
      "Train Epoch 7/10 [21760/60000 (36%)] | Loss: 0.33614736795425415\n",
      "Train Epoch 7/10 [22400/60000 (37%)] | Loss: 0.4142741560935974\n",
      "Train Epoch 7/10 [23040/60000 (38%)] | Loss: 0.2689601480960846\n",
      "Train Epoch 7/10 [23680/60000 (39%)] | Loss: 0.35787978768348694\n",
      "Train Epoch 7/10 [24320/60000 (41%)] | Loss: 0.1791141778230667\n",
      "Train Epoch 7/10 [24960/60000 (42%)] | Loss: 0.3813450336456299\n",
      "Train Epoch 7/10 [25600/60000 (43%)] | Loss: 0.35656481981277466\n",
      "Train Epoch 7/10 [26240/60000 (44%)] | Loss: 0.403422474861145\n",
      "Train Epoch 7/10 [26880/60000 (45%)] | Loss: 0.29793745279312134\n",
      "Train Epoch 7/10 [27520/60000 (46%)] | Loss: 0.5401720404624939\n",
      "Train Epoch 7/10 [28160/60000 (47%)] | Loss: 0.3003818690776825\n",
      "Train Epoch 7/10 [28800/60000 (48%)] | Loss: 0.28462615609169006\n",
      "Train Epoch 7/10 [29440/60000 (49%)] | Loss: 0.38326629996299744\n",
      "Train Epoch 7/10 [30080/60000 (50%)] | Loss: 0.4557836353778839\n",
      "Train Epoch 7/10 [30720/60000 (51%)] | Loss: 0.2651591897010803\n",
      "Train Epoch 7/10 [31360/60000 (52%)] | Loss: 0.391745924949646\n",
      "Train Epoch 7/10 [32000/60000 (53%)] | Loss: 0.41827619075775146\n",
      "Train Epoch 7/10 [32640/60000 (54%)] | Loss: 0.5455176830291748\n",
      "Train Epoch 7/10 [33280/60000 (55%)] | Loss: 0.42818355560302734\n",
      "Train Epoch 7/10 [33920/60000 (57%)] | Loss: 0.2953144311904907\n",
      "Train Epoch 7/10 [34560/60000 (58%)] | Loss: 0.401889830827713\n",
      "Train Epoch 7/10 [35200/60000 (59%)] | Loss: 0.5988912582397461\n",
      "Train Epoch 7/10 [35840/60000 (60%)] | Loss: 0.18498177826404572\n",
      "Train Epoch 7/10 [36480/60000 (61%)] | Loss: 0.32391002774238586\n",
      "Train Epoch 7/10 [37120/60000 (62%)] | Loss: 0.277962863445282\n",
      "Train Epoch 7/10 [37760/60000 (63%)] | Loss: 0.5180040597915649\n",
      "Train Epoch 7/10 [38400/60000 (64%)] | Loss: 0.13627541065216064\n",
      "Train Epoch 7/10 [39040/60000 (65%)] | Loss: 0.2190137803554535\n",
      "Train Epoch 7/10 [39680/60000 (66%)] | Loss: 0.33964911103248596\n",
      "Train Epoch 7/10 [40320/60000 (67%)] | Loss: 0.460971862077713\n",
      "Train Epoch 7/10 [40960/60000 (68%)] | Loss: 0.24383123219013214\n",
      "Train Epoch 7/10 [41600/60000 (69%)] | Loss: 0.494228333234787\n",
      "Train Epoch 7/10 [42240/60000 (70%)] | Loss: 0.3980857729911804\n",
      "Train Epoch 7/10 [42880/60000 (71%)] | Loss: 0.4046975374221802\n",
      "Train Epoch 7/10 [43520/60000 (73%)] | Loss: 0.4604365825653076\n",
      "Train Epoch 7/10 [44160/60000 (74%)] | Loss: 0.26322346925735474\n",
      "Train Epoch 7/10 [44800/60000 (75%)] | Loss: 0.2381027340888977\n",
      "Train Epoch 7/10 [45440/60000 (76%)] | Loss: 0.47534501552581787\n",
      "Train Epoch 7/10 [46080/60000 (77%)] | Loss: 0.2428109347820282\n",
      "Train Epoch 7/10 [46720/60000 (78%)] | Loss: 0.4829777777194977\n",
      "Train Epoch 7/10 [47360/60000 (79%)] | Loss: 0.4011036157608032\n",
      "Train Epoch 7/10 [48000/60000 (80%)] | Loss: 0.1988617181777954\n",
      "Train Epoch 7/10 [48640/60000 (81%)] | Loss: 0.2688743770122528\n",
      "Train Epoch 7/10 [49280/60000 (82%)] | Loss: 0.29058659076690674\n",
      "Train Epoch 7/10 [49920/60000 (83%)] | Loss: 0.39848199486732483\n",
      "Train Epoch 7/10 [50560/60000 (84%)] | Loss: 0.20039193332195282\n",
      "Train Epoch 7/10 [51200/60000 (85%)] | Loss: 0.07670977711677551\n",
      "Train Epoch 7/10 [51840/60000 (86%)] | Loss: 0.22809801995754242\n",
      "Train Epoch 7/10 [52480/60000 (87%)] | Loss: 0.5820123553276062\n",
      "Train Epoch 7/10 [53120/60000 (89%)] | Loss: 0.45661741495132446\n",
      "Train Epoch 7/10 [53760/60000 (90%)] | Loss: 0.467668741941452\n",
      "Train Epoch 7/10 [54400/60000 (91%)] | Loss: 0.32497939467430115\n",
      "Train Epoch 7/10 [55040/60000 (92%)] | Loss: 0.1384161412715912\n",
      "Train Epoch 7/10 [55680/60000 (93%)] | Loss: 0.25258728861808777\n",
      "Train Epoch 7/10 [56320/60000 (94%)] | Loss: 0.19176159799098969\n",
      "Train Epoch 7/10 [56960/60000 (95%)] | Loss: 0.44492095708847046\n",
      "Train Epoch 7/10 [57600/60000 (96%)] | Loss: 0.5581774115562439\n",
      "Train Epoch 7/10 [58240/60000 (97%)] | Loss: 0.3895222544670105\n",
      "Train Epoch 7/10 [58880/60000 (98%)] | Loss: 0.49189043045043945\n",
      "Train Epoch 7/10 [59520/60000 (99%)] | Loss: 0.3129000663757324\n",
      "\n",
      "Train Acc.: [54132/60000 (90%)]\n",
      "Test Acc.:  [ 9069/10000 (91%)]\n",
      "\n",
      "Train Epoch 8/10 [    0/60000 ( 0%)] | Loss: 0.40399327874183655\n",
      "Train Epoch 8/10 [  640/60000 ( 1%)] | Loss: 0.43875834345817566\n",
      "Train Epoch 8/10 [ 1280/60000 ( 2%)] | Loss: 0.21482732892036438\n",
      "Train Epoch 8/10 [ 1920/60000 ( 3%)] | Loss: 0.46655192971229553\n",
      "Train Epoch 8/10 [ 2560/60000 ( 4%)] | Loss: 0.3523819148540497\n",
      "Train Epoch 8/10 [ 3200/60000 ( 5%)] | Loss: 0.40097367763519287\n",
      "Train Epoch 8/10 [ 3840/60000 ( 6%)] | Loss: 0.3126245141029358\n",
      "Train Epoch 8/10 [ 4480/60000 ( 7%)] | Loss: 0.16159482300281525\n",
      "Train Epoch 8/10 [ 5120/60000 ( 9%)] | Loss: 0.48905009031295776\n",
      "Train Epoch 8/10 [ 5760/60000 (10%)] | Loss: 0.4964834451675415\n",
      "Train Epoch 8/10 [ 6400/60000 (11%)] | Loss: 0.5498471260070801\n",
      "Train Epoch 8/10 [ 7040/60000 (12%)] | Loss: 0.17665967345237732\n",
      "Train Epoch 8/10 [ 7680/60000 (13%)] | Loss: 0.43344494700431824\n",
      "Train Epoch 8/10 [ 8320/60000 (14%)] | Loss: 0.34042027592658997\n",
      "Train Epoch 8/10 [ 8960/60000 (15%)] | Loss: 0.2767680883407593\n",
      "Train Epoch 8/10 [ 9600/60000 (16%)] | Loss: 0.34138748049736023\n",
      "Train Epoch 8/10 [10240/60000 (17%)] | Loss: 0.1360224485397339\n",
      "Train Epoch 8/10 [10880/60000 (18%)] | Loss: 0.41061636805534363\n",
      "Train Epoch 8/10 [11520/60000 (19%)] | Loss: 0.38144218921661377\n",
      "Train Epoch 8/10 [12160/60000 (20%)] | Loss: 0.19990409910678864\n",
      "Train Epoch 8/10 [12800/60000 (21%)] | Loss: 0.23808224499225616\n",
      "Train Epoch 8/10 [13440/60000 (22%)] | Loss: 0.3467825949192047\n",
      "Train Epoch 8/10 [14080/60000 (23%)] | Loss: 0.6513709425926208\n",
      "Train Epoch 8/10 [14720/60000 (25%)] | Loss: 0.3899458646774292\n",
      "Train Epoch 8/10 [15360/60000 (26%)] | Loss: 0.30794262886047363\n",
      "Train Epoch 8/10 [16000/60000 (27%)] | Loss: 0.21514007449150085\n",
      "Train Epoch 8/10 [16640/60000 (28%)] | Loss: 0.20491202175617218\n",
      "Train Epoch 8/10 [17280/60000 (29%)] | Loss: 0.23874324560165405\n",
      "Train Epoch 8/10 [17920/60000 (30%)] | Loss: 0.30078184604644775\n",
      "Train Epoch 8/10 [18560/60000 (31%)] | Loss: 0.9046565294265747\n",
      "Train Epoch 8/10 [19200/60000 (32%)] | Loss: 0.11084552109241486\n",
      "Train Epoch 8/10 [19840/60000 (33%)] | Loss: 0.19875460863113403\n",
      "Train Epoch 8/10 [20480/60000 (34%)] | Loss: 0.5880370140075684\n",
      "Train Epoch 8/10 [21120/60000 (35%)] | Loss: 0.21931192278862\n",
      "Train Epoch 8/10 [21760/60000 (36%)] | Loss: 0.30814868211746216\n",
      "Train Epoch 8/10 [22400/60000 (37%)] | Loss: 0.3456226587295532\n",
      "Train Epoch 8/10 [23040/60000 (38%)] | Loss: 0.3062869608402252\n",
      "Train Epoch 8/10 [23680/60000 (39%)] | Loss: 0.3586534261703491\n",
      "Train Epoch 8/10 [24320/60000 (41%)] | Loss: 0.20940209925174713\n",
      "Train Epoch 8/10 [24960/60000 (42%)] | Loss: 0.24220071732997894\n",
      "Train Epoch 8/10 [25600/60000 (43%)] | Loss: 0.30506831407546997\n",
      "Train Epoch 8/10 [26240/60000 (44%)] | Loss: 0.233427494764328\n",
      "Train Epoch 8/10 [26880/60000 (45%)] | Loss: 0.20290882885456085\n",
      "Train Epoch 8/10 [27520/60000 (46%)] | Loss: 0.2895698845386505\n",
      "Train Epoch 8/10 [28160/60000 (47%)] | Loss: 0.41284483671188354\n",
      "Train Epoch 8/10 [28800/60000 (48%)] | Loss: 0.2035655379295349\n",
      "Train Epoch 8/10 [29440/60000 (49%)] | Loss: 0.2936065196990967\n",
      "Train Epoch 8/10 [30080/60000 (50%)] | Loss: 0.32174837589263916\n",
      "Train Epoch 8/10 [30720/60000 (51%)] | Loss: 0.15282507240772247\n",
      "Train Epoch 8/10 [31360/60000 (52%)] | Loss: 0.21495670080184937\n",
      "Train Epoch 8/10 [32000/60000 (53%)] | Loss: 0.3232833743095398\n",
      "Train Epoch 8/10 [32640/60000 (54%)] | Loss: 0.4511321485042572\n",
      "Train Epoch 8/10 [33280/60000 (55%)] | Loss: 0.19763821363449097\n",
      "Train Epoch 8/10 [33920/60000 (57%)] | Loss: 0.1601465940475464\n",
      "Train Epoch 8/10 [34560/60000 (58%)] | Loss: 0.3951936662197113\n",
      "Train Epoch 8/10 [35200/60000 (59%)] | Loss: 0.38733983039855957\n",
      "Train Epoch 8/10 [35840/60000 (60%)] | Loss: 0.25365811586380005\n",
      "Train Epoch 8/10 [36480/60000 (61%)] | Loss: 0.40038764476776123\n",
      "Train Epoch 8/10 [37120/60000 (62%)] | Loss: 0.5756723880767822\n",
      "Train Epoch 8/10 [37760/60000 (63%)] | Loss: 0.2534458041191101\n",
      "Train Epoch 8/10 [38400/60000 (64%)] | Loss: 0.4010806679725647\n",
      "Train Epoch 8/10 [39040/60000 (65%)] | Loss: 0.32785987854003906\n",
      "Train Epoch 8/10 [39680/60000 (66%)] | Loss: 0.3798501789569855\n",
      "Train Epoch 8/10 [40320/60000 (67%)] | Loss: 0.23377300798892975\n",
      "Train Epoch 8/10 [40960/60000 (68%)] | Loss: 0.3980177342891693\n",
      "Train Epoch 8/10 [41600/60000 (69%)] | Loss: 0.3657074570655823\n",
      "Train Epoch 8/10 [42240/60000 (70%)] | Loss: 0.2862245440483093\n",
      "Train Epoch 8/10 [42880/60000 (71%)] | Loss: 0.3860684633255005\n",
      "Train Epoch 8/10 [43520/60000 (73%)] | Loss: 0.1984691172838211\n",
      "Train Epoch 8/10 [44160/60000 (74%)] | Loss: 0.25233879685401917\n",
      "Train Epoch 8/10 [44800/60000 (75%)] | Loss: 0.27855974435806274\n",
      "Train Epoch 8/10 [45440/60000 (76%)] | Loss: 0.3689591884613037\n",
      "Train Epoch 8/10 [46080/60000 (77%)] | Loss: 0.29164353013038635\n",
      "Train Epoch 8/10 [46720/60000 (78%)] | Loss: 0.4778169095516205\n",
      "Train Epoch 8/10 [47360/60000 (79%)] | Loss: 0.4027438163757324\n",
      "Train Epoch 8/10 [48000/60000 (80%)] | Loss: 0.4289640188217163\n",
      "Train Epoch 8/10 [48640/60000 (81%)] | Loss: 0.29044049978256226\n",
      "Train Epoch 8/10 [49280/60000 (82%)] | Loss: 0.31598523259162903\n",
      "Train Epoch 8/10 [49920/60000 (83%)] | Loss: 0.5327767133712769\n",
      "Train Epoch 8/10 [50560/60000 (84%)] | Loss: 0.22153007984161377\n",
      "Train Epoch 8/10 [51200/60000 (85%)] | Loss: 0.5412796139717102\n",
      "Train Epoch 8/10 [51840/60000 (86%)] | Loss: 0.3513396084308624\n",
      "Train Epoch 8/10 [52480/60000 (87%)] | Loss: 0.20139144361019135\n",
      "Train Epoch 8/10 [53120/60000 (89%)] | Loss: 0.3055213987827301\n",
      "Train Epoch 8/10 [53760/60000 (90%)] | Loss: 0.26951345801353455\n",
      "Train Epoch 8/10 [54400/60000 (91%)] | Loss: 0.2814760208129883\n",
      "Train Epoch 8/10 [55040/60000 (92%)] | Loss: 0.5637432336807251\n",
      "Train Epoch 8/10 [55680/60000 (93%)] | Loss: 0.31743863224983215\n",
      "Train Epoch 8/10 [56320/60000 (94%)] | Loss: 0.5818827152252197\n",
      "Train Epoch 8/10 [56960/60000 (95%)] | Loss: 0.2048628032207489\n",
      "Train Epoch 8/10 [57600/60000 (96%)] | Loss: 0.22149470448493958\n",
      "Train Epoch 8/10 [58240/60000 (97%)] | Loss: 0.4754105806350708\n",
      "Train Epoch 8/10 [58880/60000 (98%)] | Loss: 0.32409295439720154\n",
      "Train Epoch 8/10 [59520/60000 (99%)] | Loss: 0.2957286536693573\n",
      "\n",
      "Train Acc.: [54347/60000 (91%)]\n",
      "Test Acc.:  [ 9101/10000 (91%)]\n",
      "\n",
      "Train Epoch 9/10 [    0/60000 ( 0%)] | Loss: 0.36281049251556396\n",
      "Train Epoch 9/10 [  640/60000 ( 1%)] | Loss: 0.23987014591693878\n",
      "Train Epoch 9/10 [ 1280/60000 ( 2%)] | Loss: 0.345858633518219\n",
      "Train Epoch 9/10 [ 1920/60000 ( 3%)] | Loss: 0.26122385263442993\n",
      "Train Epoch 9/10 [ 2560/60000 ( 4%)] | Loss: 0.41511380672454834\n",
      "Train Epoch 9/10 [ 3200/60000 ( 5%)] | Loss: 0.40487751364707947\n",
      "Train Epoch 9/10 [ 3840/60000 ( 6%)] | Loss: 0.23114098608493805\n",
      "Train Epoch 9/10 [ 4480/60000 ( 7%)] | Loss: 0.268461138010025\n",
      "Train Epoch 9/10 [ 5120/60000 ( 9%)] | Loss: 0.3249877691268921\n",
      "Train Epoch 9/10 [ 5760/60000 (10%)] | Loss: 0.30970293283462524\n",
      "Train Epoch 9/10 [ 6400/60000 (11%)] | Loss: 0.221013143658638\n",
      "Train Epoch 9/10 [ 7040/60000 (12%)] | Loss: 0.24401889741420746\n",
      "Train Epoch 9/10 [ 7680/60000 (13%)] | Loss: 0.2827446758747101\n",
      "Train Epoch 9/10 [ 8320/60000 (14%)] | Loss: 0.34861865639686584\n",
      "Train Epoch 9/10 [ 8960/60000 (15%)] | Loss: 0.4534977376461029\n",
      "Train Epoch 9/10 [ 9600/60000 (16%)] | Loss: 0.25984448194503784\n",
      "Train Epoch 9/10 [10240/60000 (17%)] | Loss: 0.3293209969997406\n",
      "Train Epoch 9/10 [10880/60000 (18%)] | Loss: 0.3423469066619873\n",
      "Train Epoch 9/10 [11520/60000 (19%)] | Loss: 0.45707613229751587\n",
      "Train Epoch 9/10 [12160/60000 (20%)] | Loss: 0.8630003929138184\n",
      "Train Epoch 9/10 [12800/60000 (21%)] | Loss: 0.2508206069469452\n",
      "Train Epoch 9/10 [13440/60000 (22%)] | Loss: 0.5759309530258179\n",
      "Train Epoch 9/10 [14080/60000 (23%)] | Loss: 0.24049924314022064\n",
      "Train Epoch 9/10 [14720/60000 (25%)] | Loss: 0.30804532766342163\n",
      "Train Epoch 9/10 [15360/60000 (26%)] | Loss: 0.2818598747253418\n",
      "Train Epoch 9/10 [16000/60000 (27%)] | Loss: 0.35581982135772705\n",
      "Train Epoch 9/10 [16640/60000 (28%)] | Loss: 0.4200685918331146\n",
      "Train Epoch 9/10 [17280/60000 (29%)] | Loss: 0.35966336727142334\n",
      "Train Epoch 9/10 [17920/60000 (30%)] | Loss: 0.2394140511751175\n",
      "Train Epoch 9/10 [18560/60000 (31%)] | Loss: 0.39981329441070557\n",
      "Train Epoch 9/10 [19200/60000 (32%)] | Loss: 0.3706589341163635\n",
      "Train Epoch 9/10 [19840/60000 (33%)] | Loss: 0.23637965321540833\n",
      "Train Epoch 9/10 [20480/60000 (34%)] | Loss: 0.26215168833732605\n",
      "Train Epoch 9/10 [21120/60000 (35%)] | Loss: 0.38391074538230896\n",
      "Train Epoch 9/10 [21760/60000 (36%)] | Loss: 0.26953190565109253\n",
      "Train Epoch 9/10 [22400/60000 (37%)] | Loss: 0.30032721161842346\n",
      "Train Epoch 9/10 [23040/60000 (38%)] | Loss: 0.25227096676826477\n",
      "Train Epoch 9/10 [23680/60000 (39%)] | Loss: 0.17781731486320496\n",
      "Train Epoch 9/10 [24320/60000 (41%)] | Loss: 0.3470005989074707\n",
      "Train Epoch 9/10 [24960/60000 (42%)] | Loss: 0.2959043085575104\n",
      "Train Epoch 9/10 [25600/60000 (43%)] | Loss: 0.24468830227851868\n",
      "Train Epoch 9/10 [26240/60000 (44%)] | Loss: 0.18720370531082153\n",
      "Train Epoch 9/10 [26880/60000 (45%)] | Loss: 0.36814454197883606\n",
      "Train Epoch 9/10 [27520/60000 (46%)] | Loss: 0.19092456996440887\n",
      "Train Epoch 9/10 [28160/60000 (47%)] | Loss: 0.5692671537399292\n",
      "Train Epoch 9/10 [28800/60000 (48%)] | Loss: 0.44463419914245605\n",
      "Train Epoch 9/10 [29440/60000 (49%)] | Loss: 0.18733251094818115\n",
      "Train Epoch 9/10 [30080/60000 (50%)] | Loss: 0.3037830889225006\n",
      "Train Epoch 9/10 [30720/60000 (51%)] | Loss: 0.27639302611351013\n",
      "Train Epoch 9/10 [31360/60000 (52%)] | Loss: 0.375234454870224\n",
      "Train Epoch 9/10 [32000/60000 (53%)] | Loss: 0.25178638100624084\n",
      "Train Epoch 9/10 [32640/60000 (54%)] | Loss: 0.3688538670539856\n",
      "Train Epoch 9/10 [33280/60000 (55%)] | Loss: 0.3424024283885956\n",
      "Train Epoch 9/10 [33920/60000 (57%)] | Loss: 0.4852299690246582\n",
      "Train Epoch 9/10 [34560/60000 (58%)] | Loss: 0.28240180015563965\n",
      "Train Epoch 9/10 [35200/60000 (59%)] | Loss: 0.4104168117046356\n",
      "Train Epoch 9/10 [35840/60000 (60%)] | Loss: 0.1928066611289978\n",
      "Train Epoch 9/10 [36480/60000 (61%)] | Loss: 0.2690580487251282\n",
      "Train Epoch 9/10 [37120/60000 (62%)] | Loss: 0.25130417943000793\n",
      "Train Epoch 9/10 [37760/60000 (63%)] | Loss: 0.23604044318199158\n",
      "Train Epoch 9/10 [38400/60000 (64%)] | Loss: 0.1783747673034668\n",
      "Train Epoch 9/10 [39040/60000 (65%)] | Loss: 0.14327025413513184\n",
      "Train Epoch 9/10 [39680/60000 (66%)] | Loss: 0.18528486788272858\n",
      "Train Epoch 9/10 [40320/60000 (67%)] | Loss: 0.3307713568210602\n",
      "Train Epoch 9/10 [40960/60000 (68%)] | Loss: 0.29433056712150574\n",
      "Train Epoch 9/10 [41600/60000 (69%)] | Loss: 0.2586261034011841\n",
      "Train Epoch 9/10 [42240/60000 (70%)] | Loss: 0.40453484654426575\n",
      "Train Epoch 9/10 [42880/60000 (71%)] | Loss: 0.5610642433166504\n",
      "Train Epoch 9/10 [43520/60000 (73%)] | Loss: 0.21939052641391754\n",
      "Train Epoch 9/10 [44160/60000 (74%)] | Loss: 0.3234654664993286\n",
      "Train Epoch 9/10 [44800/60000 (75%)] | Loss: 0.2799051105976105\n",
      "Train Epoch 9/10 [45440/60000 (76%)] | Loss: 0.18506649136543274\n",
      "Train Epoch 9/10 [46080/60000 (77%)] | Loss: 0.3882286548614502\n",
      "Train Epoch 9/10 [46720/60000 (78%)] | Loss: 0.37160754203796387\n",
      "Train Epoch 9/10 [47360/60000 (79%)] | Loss: 0.513467013835907\n",
      "Train Epoch 9/10 [48000/60000 (80%)] | Loss: 0.3169749677181244\n",
      "Train Epoch 9/10 [48640/60000 (81%)] | Loss: 0.7036181688308716\n",
      "Train Epoch 9/10 [49280/60000 (82%)] | Loss: 0.2807595133781433\n",
      "Train Epoch 9/10 [49920/60000 (83%)] | Loss: 0.12224149703979492\n",
      "Train Epoch 9/10 [50560/60000 (84%)] | Loss: 0.32439371943473816\n",
      "Train Epoch 9/10 [51200/60000 (85%)] | Loss: 0.31619858741760254\n",
      "Train Epoch 9/10 [51840/60000 (86%)] | Loss: 0.1547529101371765\n",
      "Train Epoch 9/10 [52480/60000 (87%)] | Loss: 0.5182304978370667\n",
      "Train Epoch 9/10 [53120/60000 (89%)] | Loss: 0.1805473417043686\n",
      "Train Epoch 9/10 [53760/60000 (90%)] | Loss: 0.1838567852973938\n",
      "Train Epoch 9/10 [54400/60000 (91%)] | Loss: 0.1937842071056366\n",
      "Train Epoch 9/10 [55040/60000 (92%)] | Loss: 0.639902651309967\n",
      "Train Epoch 9/10 [55680/60000 (93%)] | Loss: 0.5961110591888428\n",
      "Train Epoch 9/10 [56320/60000 (94%)] | Loss: 0.23571079969406128\n",
      "Train Epoch 9/10 [56960/60000 (95%)] | Loss: 0.2906562089920044\n",
      "Train Epoch 9/10 [57600/60000 (96%)] | Loss: 0.3759726285934448\n",
      "Train Epoch 9/10 [58240/60000 (97%)] | Loss: 0.6318492293357849\n",
      "Train Epoch 9/10 [58880/60000 (98%)] | Loss: 0.48241597414016724\n",
      "Train Epoch 9/10 [59520/60000 (99%)] | Loss: 0.41374486684799194\n",
      "\n",
      "Train Acc.: [54553/60000 (91%)]\n",
      "Test Acc.:  [ 9114/10000 (91%)]\n",
      "\n",
      "Train Epoch 10/10 [    0/60000 ( 0%)] | Loss: 0.24868905544281006\n",
      "Train Epoch 10/10 [  640/60000 ( 1%)] | Loss: 0.3711111843585968\n",
      "Train Epoch 10/10 [ 1280/60000 ( 2%)] | Loss: 0.30735456943511963\n",
      "Train Epoch 10/10 [ 1920/60000 ( 3%)] | Loss: 0.13745512068271637\n",
      "Train Epoch 10/10 [ 2560/60000 ( 4%)] | Loss: 0.3203620910644531\n",
      "Train Epoch 10/10 [ 3200/60000 ( 5%)] | Loss: 0.41912299394607544\n",
      "Train Epoch 10/10 [ 3840/60000 ( 6%)] | Loss: 0.3368929624557495\n",
      "Train Epoch 10/10 [ 4480/60000 ( 7%)] | Loss: 0.5445398688316345\n",
      "Train Epoch 10/10 [ 5120/60000 ( 9%)] | Loss: 0.3852710723876953\n",
      "Train Epoch 10/10 [ 5760/60000 (10%)] | Loss: 0.27854982018470764\n",
      "Train Epoch 10/10 [ 6400/60000 (11%)] | Loss: 0.44062483310699463\n",
      "Train Epoch 10/10 [ 7040/60000 (12%)] | Loss: 0.13066500425338745\n",
      "Train Epoch 10/10 [ 7680/60000 (13%)] | Loss: 0.2740277945995331\n",
      "Train Epoch 10/10 [ 8320/60000 (14%)] | Loss: 0.3290545344352722\n",
      "Train Epoch 10/10 [ 8960/60000 (15%)] | Loss: 0.7817471027374268\n",
      "Train Epoch 10/10 [ 9600/60000 (16%)] | Loss: 0.2399476021528244\n",
      "Train Epoch 10/10 [10240/60000 (17%)] | Loss: 0.4166043996810913\n",
      "Train Epoch 10/10 [10880/60000 (18%)] | Loss: 0.30121153593063354\n",
      "Train Epoch 10/10 [11520/60000 (19%)] | Loss: 0.3514055907726288\n",
      "Train Epoch 10/10 [12160/60000 (20%)] | Loss: 0.21875031292438507\n",
      "Train Epoch 10/10 [12800/60000 (21%)] | Loss: 0.21596500277519226\n",
      "Train Epoch 10/10 [13440/60000 (22%)] | Loss: 0.20702241361141205\n",
      "Train Epoch 10/10 [14080/60000 (23%)] | Loss: 0.6871927380561829\n",
      "Train Epoch 10/10 [14720/60000 (25%)] | Loss: 0.364225834608078\n",
      "Train Epoch 10/10 [15360/60000 (26%)] | Loss: 0.5451141595840454\n",
      "Train Epoch 10/10 [16000/60000 (27%)] | Loss: 0.19021280109882355\n",
      "Train Epoch 10/10 [16640/60000 (28%)] | Loss: 0.2578096091747284\n",
      "Train Epoch 10/10 [17280/60000 (29%)] | Loss: 0.25492334365844727\n",
      "Train Epoch 10/10 [17920/60000 (30%)] | Loss: 0.34841325879096985\n",
      "Train Epoch 10/10 [18560/60000 (31%)] | Loss: 0.4606705904006958\n",
      "Train Epoch 10/10 [19200/60000 (32%)] | Loss: 0.4238804280757904\n",
      "Train Epoch 10/10 [19840/60000 (33%)] | Loss: 0.22211581468582153\n",
      "Train Epoch 10/10 [20480/60000 (34%)] | Loss: 0.1082371175289154\n",
      "Train Epoch 10/10 [21120/60000 (35%)] | Loss: 0.24334979057312012\n",
      "Train Epoch 10/10 [21760/60000 (36%)] | Loss: 0.2526366412639618\n",
      "Train Epoch 10/10 [22400/60000 (37%)] | Loss: 0.41131117939949036\n",
      "Train Epoch 10/10 [23040/60000 (38%)] | Loss: 0.5154568552970886\n",
      "Train Epoch 10/10 [23680/60000 (39%)] | Loss: 0.5571807026863098\n",
      "Train Epoch 10/10 [24320/60000 (41%)] | Loss: 0.24862515926361084\n",
      "Train Epoch 10/10 [24960/60000 (42%)] | Loss: 0.1611015796661377\n",
      "Train Epoch 10/10 [25600/60000 (43%)] | Loss: 0.3116966187953949\n",
      "Train Epoch 10/10 [26240/60000 (44%)] | Loss: 0.23910775780677795\n",
      "Train Epoch 10/10 [26880/60000 (45%)] | Loss: 0.2839679718017578\n",
      "Train Epoch 10/10 [27520/60000 (46%)] | Loss: 0.2106299251317978\n",
      "Train Epoch 10/10 [28160/60000 (47%)] | Loss: 0.4158667325973511\n",
      "Train Epoch 10/10 [28800/60000 (48%)] | Loss: 0.3747650980949402\n",
      "Train Epoch 10/10 [29440/60000 (49%)] | Loss: 0.3672633171081543\n",
      "Train Epoch 10/10 [30080/60000 (50%)] | Loss: 0.24058234691619873\n",
      "Train Epoch 10/10 [30720/60000 (51%)] | Loss: 0.2645612359046936\n",
      "Train Epoch 10/10 [31360/60000 (52%)] | Loss: 0.506810188293457\n",
      "Train Epoch 10/10 [32000/60000 (53%)] | Loss: 0.2645799517631531\n",
      "Train Epoch 10/10 [32640/60000 (54%)] | Loss: 0.3296853303909302\n",
      "Train Epoch 10/10 [33280/60000 (55%)] | Loss: 0.3896885812282562\n",
      "Train Epoch 10/10 [33920/60000 (57%)] | Loss: 0.6221827864646912\n",
      "Train Epoch 10/10 [34560/60000 (58%)] | Loss: 0.18615393340587616\n",
      "Train Epoch 10/10 [35200/60000 (59%)] | Loss: 0.8000009059906006\n",
      "Train Epoch 10/10 [35840/60000 (60%)] | Loss: 0.19645261764526367\n",
      "Train Epoch 10/10 [36480/60000 (61%)] | Loss: 0.23173630237579346\n",
      "Train Epoch 10/10 [37120/60000 (62%)] | Loss: 0.31265413761138916\n",
      "Train Epoch 10/10 [37760/60000 (63%)] | Loss: 0.2503058612346649\n",
      "Train Epoch 10/10 [38400/60000 (64%)] | Loss: 0.35977014899253845\n",
      "Train Epoch 10/10 [39040/60000 (65%)] | Loss: 0.3741344213485718\n",
      "Train Epoch 10/10 [39680/60000 (66%)] | Loss: 0.27292293310165405\n",
      "Train Epoch 10/10 [40320/60000 (67%)] | Loss: 0.3488210141658783\n",
      "Train Epoch 10/10 [40960/60000 (68%)] | Loss: 0.3120979070663452\n",
      "Train Epoch 10/10 [41600/60000 (69%)] | Loss: 0.3475046753883362\n",
      "Train Epoch 10/10 [42240/60000 (70%)] | Loss: 0.2545054256916046\n",
      "Train Epoch 10/10 [42880/60000 (71%)] | Loss: 0.31706589460372925\n",
      "Train Epoch 10/10 [43520/60000 (73%)] | Loss: 0.21771174669265747\n",
      "Train Epoch 10/10 [44160/60000 (74%)] | Loss: 0.45307809114456177\n",
      "Train Epoch 10/10 [44800/60000 (75%)] | Loss: 0.29967236518859863\n",
      "Train Epoch 10/10 [45440/60000 (76%)] | Loss: 0.24593818187713623\n",
      "Train Epoch 10/10 [46080/60000 (77%)] | Loss: 0.29908180236816406\n",
      "Train Epoch 10/10 [46720/60000 (78%)] | Loss: 0.42131733894348145\n",
      "Train Epoch 10/10 [47360/60000 (79%)] | Loss: 0.34670159220695496\n",
      "Train Epoch 10/10 [48000/60000 (80%)] | Loss: 0.18549437820911407\n",
      "Train Epoch 10/10 [48640/60000 (81%)] | Loss: 0.3803047239780426\n",
      "Train Epoch 10/10 [49280/60000 (82%)] | Loss: 0.41524049639701843\n",
      "Train Epoch 10/10 [49920/60000 (83%)] | Loss: 0.21891213953495026\n",
      "Train Epoch 10/10 [50560/60000 (84%)] | Loss: 0.3641304075717926\n",
      "Train Epoch 10/10 [51200/60000 (85%)] | Loss: 0.16215388476848602\n",
      "Train Epoch 10/10 [51840/60000 (86%)] | Loss: 0.24529136717319489\n",
      "Train Epoch 10/10 [52480/60000 (87%)] | Loss: 0.27795612812042236\n",
      "Train Epoch 10/10 [53120/60000 (89%)] | Loss: 0.26740604639053345\n",
      "Train Epoch 10/10 [53760/60000 (90%)] | Loss: 0.3193400204181671\n",
      "Train Epoch 10/10 [54400/60000 (91%)] | Loss: 0.38760122656822205\n",
      "Train Epoch 10/10 [55040/60000 (92%)] | Loss: 0.15994344651699066\n",
      "Train Epoch 10/10 [55680/60000 (93%)] | Loss: 0.5534510016441345\n",
      "Train Epoch 10/10 [56320/60000 (94%)] | Loss: 0.30697494745254517\n",
      "Train Epoch 10/10 [56960/60000 (95%)] | Loss: 0.10485617816448212\n",
      "Train Epoch 10/10 [57600/60000 (96%)] | Loss: 0.18294797837734222\n",
      "Train Epoch 10/10 [58240/60000 (97%)] | Loss: 0.4110177159309387\n",
      "Train Epoch 10/10 [58880/60000 (98%)] | Loss: 0.3318776786327362\n",
      "Train Epoch 10/10 [59520/60000 (99%)] | Loss: 0.46748483180999756\n",
      "\n",
      "Train Acc.: [54670/60000 (91%)]\n",
      "Test Acc.:  [ 9137/10000 (91%)]\n",
      "\n"
     ]
    }
   ],
   "source": [
    "# Design model\n",
    "n_samples = len(mnist_train_dataset)\n",
    "n_test_samples = len(mnist_test_dataset)\n",
    "n_features = (\n",
    "    mnist_train_dataset.train_data.shape[1]*mnist_train_dataset.train_data.shape[2]\n",
    ")\n",
    "n_classes = mnist_train_dataset.targets.unique().shape[0]\n",
    "model = NeuralNet(n_features, 512, 2, n_classes)\n",
    "\n",
    "# Construct Loss and Optimizer\n",
    "loss = nn.CrossEntropyLoss()\n",
    "optimizer = torch.optim.Adam(model.parameters(), lr=lr)\n",
    "\n",
    "train_losses = []\n",
    "# test_losses = []\n",
    "\n",
    "for epoch in range(num_epochs):\n",
    "    train_acc = 0\n",
    "    test_acc = 0\n",
    "    for batch_idx, (X_train, y_train) in enumerate(train_dataloader):\n",
    "        # Forward pass\n",
    "        y_hat = model(X_train)\n",
    "\n",
    "        pred = torch.max(y_hat.data, 1)[1]\n",
    "        batch_corr = (pred==y_train).sum()\n",
    "        train_acc += batch_corr\n",
    "\n",
    "        # Loss computation\n",
    "        J = loss(y_hat, y_train)\n",
    "\n",
    "        # Backward pass\n",
    "        J.backward()\n",
    "\n",
    "        # Update parameters\n",
    "        optimizer.step()\n",
    "\n",
    "        # Zero grad\n",
    "        optimizer.zero_grad()\n",
    "\n",
    "        # Print train loss\n",
    "        if batch_idx % 20 == 0:\n",
    "            print('Train Epoch {}/{} [{:>5}/{} ({:>2.0f}%)] | Loss: {}'.format(\n",
    "                epoch+1, num_epochs, batch_idx * batch_size, n_samples, \n",
    "                100*batch_idx / len(train_dataloader), J))\n",
    "            train_losses.append(J)\n",
    "\n",
    "    with torch.no_grad():\n",
    "        for batch_idx, (X_test, y_test) in enumerate(test_dataloader):\n",
    "            # Forward pass\n",
    "            y_val = model(X_test)\n",
    "\n",
    "            pred = torch.max(y_val.data, 1)[1]\n",
    "            batch_corr = (pred==y_test).sum()\n",
    "            test_acc += batch_corr\n",
    "\n",
    "    print('\\nTrain Acc.: [{:>5}/{} ({:>2.0f}%)]'.format(train_acc, n_samples, 100 * train_acc / n_samples))\n",
    "    print('Test Acc.:  [{:>5}/{} ({:>2.0f}%)]\\n'.format(test_acc, n_test_samples, 100 * test_acc / n_test_samples))"
   ]
  },
  {
   "cell_type": "markdown",
   "metadata": {},
   "source": [
    "That's great! Our model had an accuracy of $92\\%$ on test set, and we were capable of implementing a flexible MLP and training it in an elegant and easy way."
   ]
  },
  {
   "cell_type": "markdown",
   "metadata": {},
   "source": [
    "---"
   ]
  },
  {
   "cell_type": "markdown",
   "metadata": {},
   "source": [
    "## 1.13: Convolutional Neural Networks (CNNs)"
   ]
  },
  {
   "cell_type": "markdown",
   "metadata": {},
   "source": [
    "Convolutional Neural Networks (shortened as CNNs) are a special family of neural networks. Its singularity comes from the namesake operation applied in it - convolution. In short, a CNN is a neural network composed of some specific building blocks represented in layers. Those layers are as described:\n",
    "\n",
    "**1. Convolution Layers:** This is the basic feature of CNNs. In this context, convolution is an operation of linearly combining the inputs from each of these layers with their respectives filters/kernels.\n",
    "\n",
    "**2. Pooling Layers:**\n",
    "\n",
    "**3. Fully-Connected Layer:**\n",
    "\n",
    "**OBS.:**This tutorial's intention isn't to go further into details about CNNs, but to be able to construct a CNN model with Pytorch.\n",
    "\n",
    "**Links:** https://cezannec.github.io/Convolutional_Neural_Networks/"
   ]
  },
  {
   "cell_type": "code",
   "execution_count": 55,
   "metadata": {},
   "outputs": [
    {
     "data": {
      "image/gif": "[encoded data removed]",
      "text/plain": [
       "<IPython.core.display.Image object>"
      ]
     },
     "execution_count": 55,
     "metadata": {},
     "output_type": "execute_result"
    }
   ],
   "source": [
    "Image(filename=\"assets/images/no_padding_no_strides.gif\")"
   ]
  },
  {
   "cell_type": "markdown",
   "metadata": {},
   "source": [
    "[1]: Convolution operation. In this example, a $4x4$ input matrix (lighter blue) is convoluted by a $3x3$ filter/kernel (darker blue, passing through the input) resulting in a $2x2$ convolution output.\n",
    "\n",
    "Source: Vincent Dumoulin, Francesco Visin. \"A guide to convolution arithmetic for deep learning\". https://github.com/vdumoulin/conv_arithmetic."
   ]
  },
  {
   "cell_type": "code",
   "execution_count": 54,
   "metadata": {},
   "outputs": [
    {
     "data": {
      "image/png": "[encoded data removed]",
      "text/plain": [
       "<IPython.core.display.Image object>"
      ]
     },
     "execution_count": 54,
     "metadata": {
      "image/png": {
       "height": 750,
       "width": 705
      }
     },
     "output_type": "execute_result"
    }
   ],
   "source": [
    "Image(filename=\"assets/images/conv_architecture.png\", height=750, width=705)"
   ]
  },
  {
   "cell_type": "markdown",
   "metadata": {},
   "source": [
    "CNN general architecture. Source: _MathWorks_. \"What is a Convolutional Neural Network? 3 things you need to know\". https://www.mathworks.com/discovery/convolutional-neural-network-matlab.html"
   ]
  },
  {
   "cell_type": "code",
   "execution_count": 2,
   "metadata": {},
   "outputs": [],
   "source": [
    "class ConvNet(nn.Module):\n",
    "\n",
    "    def __init__(self, hparams):\n",
    "        super().__init__()\n",
    "\n",
    "        n_C_prev, n_H_prev, n_W_prev = 3, 32, 32\n",
    "        n_C, f, stride, pad = [hparams[key] for key in list(hparams.keys())[:4]]\n",
    "        n_H, n_W = int((n_H_prev + 2*pad - f)/stride + 1), int((n_W_prev + 2*pad - f)/stride + 1)\n",
    "\n",
    "        pool_mode, f_pool, stride_pool = [hparams[key] for key in list(hparams.keys())[4:7]]\n",
    "        n_H, n_W = int((n_H - f_pool)/stride_pool + 1), int((n_W - f_pool)/stride_pool + 1)\n",
    "\n",
    "        self.conv1 = nn.Conv2d(in_channels=n_C_prev, out_channels=n_C, kernel_size=(f, f), stride=stride, padding=pad)\n",
    "        if pool_mode == 'mean':\n",
    "            self.pool1 = nn.MaxPool2d(kernel_size=f_pool, stride=stride_pool)\n",
    "        elif pool_mode == 'avg':\n",
    "            self.pool1 = nn.AvgPool2d(kernel_size=f_pool, stride=stride_pool)\n",
    "\n",
    "        n_C_prev, n_H_prev, n_W_prev = n_C, n_H, n_W\n",
    "        n_C, f, stride, pad = [hparams[key] for key in list(hparams.keys())[7:11]]\n",
    "        n_H, n_W = int((n_H_prev + 2*pad - f)/stride + 1), int((n_W_prev + 2*pad - f)/stride + 1)\n",
    "\n",
    "        pool_mode, f_pool, stride_pool = [hparams[key] for key in list(hparams.keys())[11:]]\n",
    "        n_H, n_W = int((n_H - f_pool)/stride_pool + 1), int((n_W - f_pool)/stride_pool + 1)\n",
    "\n",
    "        self.conv2 = nn.Conv2d(in_channels=n_C_prev, out_channels=n_C, kernel_size=(f, f), stride=stride, padding=pad)\n",
    "        if pool_mode == 'mean':\n",
    "            self.pool2 = nn.MaxPool2d(kernel_size=f_pool, stride=stride_pool)\n",
    "        elif pool_mode == 'avg':\n",
    "            self.pool2 = nn.AvgPool2d(kernel_size=f_pool, stride=stride_pool)\n",
    "\n",
    "        self.fc1 = nn.Linear(in_features=n_C*n_H*n_W, out_features=256)\n",
    "        self.fc2 = nn.Linear(in_features=256, out_features=128)\n",
    "        self.output = nn.Linear(in_features=128, out_features=10)\n",
    "\n",
    "    def forward(self, X):\n",
    "        out = nn.ReLU()(self.conv1(X))\n",
    "        out = self.pool1(out)\n",
    "\n",
    "        out = nn.ReLU()(self.conv2(out))\n",
    "        out = self.pool2(out)\n",
    "\n",
    "        out = nn.Flatten()(out)\n",
    "        out = nn.ReLU()(self.fc1(out))\n",
    "        out = nn.ReLU()(self.fc2(out))\n",
    "        output = self.output(out)\n",
    "\n",
    "        return output"
   ]
  },
  {
   "cell_type": "code",
   "execution_count": 3,
   "metadata": {},
   "outputs": [],
   "source": [
    "# Define hyperparameters\n",
    "lr=0.001\n",
    "num_epochs= 10\n",
    "batch_size = 32"
   ]
  },
  {
   "cell_type": "code",
   "execution_count": 4,
   "metadata": {},
   "outputs": [
    {
     "name": "stdout",
     "output_type": "stream",
     "text": [
      "Files already downloaded and verified\n",
      "Files already downloaded and verified\n"
     ]
    }
   ],
   "source": [
    "composed = torchvision.transforms.Compose([torchvision.transforms.ToTensor(), torchvision.transforms.Normalize((0.5, 0.5, 0.5), (0.5, 0.5, 0.5))])\n",
    "train_dataset = torchvision.datasets.CIFAR10(root='./data', train=True, transform=composed, download=True)\n",
    "train_dataloader = DataLoader(dataset=train_dataset, batch_size=batch_size, shuffle=True)\n",
    "\n",
    "test_dataset = torchvision.datasets.CIFAR10(root='./data', train=False, transform=composed, download=True)\n",
    "test_dataloader = DataLoader(dataset=test_dataset, batch_size=batch_size, shuffle=False)"
   ]
  },
  {
   "cell_type": "code",
   "execution_count": 5,
   "metadata": {},
   "outputs": [],
   "source": [
    "examples = enumerate(train_dataloader)\n",
    "batch_idx, (example_features, example_targets) = next(examples)"
   ]
  },
  {
   "cell_type": "code",
   "execution_count": 6,
   "metadata": {},
   "outputs": [
    {
     "data": {
      "image/png": "[encoded data removed]",
      "text/plain": [
       "<Figure size 432x288 with 4 Axes>"
      ]
     },
     "metadata": {},
     "output_type": "display_data"
    }
   ],
   "source": [
    "classes_dict = {\n",
    "    0: 'Airplane',\n",
    "    1: 'Automobile',\n",
    "    2: 'Bird',\n",
    "    3: 'Cat',\n",
    "    4: 'Deer',\n",
    "    5: 'Dog',\n",
    "    6: 'Frog',\n",
    "    7: 'Horse',\n",
    "    8: 'Ship',\n",
    "    9: 'Truck'\n",
    "}\n",
    "\n",
    "fig = plt.figure()\n",
    "\n",
    "for i in range(4):\n",
    "    plt.subplot(2, 2, i+1)\n",
    "    plt.tight_layout()\n",
    "    plt.imshow(example_features[i].transpose(0, 1).transpose(1, 2)*0.5 + 0.5)\n",
    "    plt.title(r'{label}'.format(label=classes_dict[example_targets[i].item()]))\n",
    "    plt.xticks([])\n",
    "    plt.yticks([])\n",
    "fig.show()"
   ]
  },
  {
   "cell_type": "code",
   "execution_count": 7,
   "metadata": {},
   "outputs": [],
   "source": [
    "# CNN hyperparameters\n",
    "hparams = {\n",
    "    'num_f_1': 32,\n",
    "    'f_1': 3,\n",
    "    'stride_1': 1,\n",
    "    'pad_1': 0,\n",
    "    'pool_1': 'mean',\n",
    "    'f_pool_1': 2,\n",
    "    'stride_pool_1': 1,\n",
    "    'num_f_2': 32,\n",
    "    'f_2': 3,\n",
    "    'stride_2': 1,\n",
    "    'pad_2': 0,\n",
    "    'pool_2': 'mean',\n",
    "    'f_pool_2': 2,\n",
    "    'stride_pool_2': 1\n",
    "}"
   ]
  },
  {
   "cell_type": "code",
   "execution_count": 8,
   "metadata": {
    "scrolled": true,
    "tags": []
   },
   "outputs": [
    {
     "name": "stdout",
     "output_type": "stream",
     "text": [
      "Train Epoch 1/10 [    0/50000 ( 0%)] | Loss: 2.281947135925293\n",
      "Train Epoch 1/10 [  480/50000 ( 1%)] | Loss: 2.142232894897461\n",
      "Train Epoch 1/10 [  960/50000 ( 2%)] | Loss: 2.217390537261963\n",
      "Train Epoch 1/10 [ 1440/50000 ( 3%)] | Loss: 2.0042974948883057\n",
      "Train Epoch 1/10 [ 1920/50000 ( 4%)] | Loss: 1.6758465766906738\n",
      "Train Epoch 1/10 [ 2400/50000 ( 5%)] | Loss: 1.8273334503173828\n",
      "Train Epoch 1/10 [ 2880/50000 ( 6%)] | Loss: 1.7296514511108398\n",
      "Train Epoch 1/10 [ 3360/50000 ( 7%)] | Loss: 1.644361972808838\n",
      "Train Epoch 1/10 [ 3840/50000 ( 8%)] | Loss: 1.5132498741149902\n",
      "Train Epoch 1/10 [ 4320/50000 ( 9%)] | Loss: 1.6815121173858643\n",
      "Train Epoch 1/10 [ 4800/50000 (10%)] | Loss: 1.6306045055389404\n",
      "Train Epoch 1/10 [ 5280/50000 (11%)] | Loss: 1.8569608926773071\n",
      "Train Epoch 1/10 [ 5760/50000 (12%)] | Loss: 1.7043908834457397\n",
      "Train Epoch 1/10 [ 6240/50000 (12%)] | Loss: 1.8658180236816406\n",
      "Train Epoch 1/10 [ 6720/50000 (13%)] | Loss: 1.6982167959213257\n",
      "Train Epoch 1/10 [ 7200/50000 (14%)] | Loss: 1.6350128650665283\n",
      "Train Epoch 1/10 [ 7680/50000 (15%)] | Loss: 1.6604113578796387\n",
      "Train Epoch 1/10 [ 8160/50000 (16%)] | Loss: 1.1704392433166504\n",
      "Train Epoch 1/10 [ 8640/50000 (17%)] | Loss: 1.4124971628189087\n",
      "Train Epoch 1/10 [ 9120/50000 (18%)] | Loss: 1.2424765825271606\n",
      "Train Epoch 1/10 [ 9600/50000 (19%)] | Loss: 1.720102071762085\n",
      "Train Epoch 1/10 [10080/50000 (20%)] | Loss: 1.22041916847229\n",
      "Train Epoch 1/10 [10560/50000 (21%)] | Loss: 1.5592185258865356\n",
      "Train Epoch 1/10 [11040/50000 (22%)] | Loss: 1.5982977151870728\n",
      "Train Epoch 1/10 [11520/50000 (23%)] | Loss: 1.6102135181427002\n",
      "Train Epoch 1/10 [12000/50000 (24%)] | Loss: 1.529888391494751\n",
      "Train Epoch 1/10 [12480/50000 (25%)] | Loss: 1.473994493484497\n",
      "Train Epoch 1/10 [12960/50000 (26%)] | Loss: 1.5192625522613525\n",
      "Train Epoch 1/10 [13440/50000 (27%)] | Loss: 1.1518306732177734\n",
      "Train Epoch 1/10 [13920/50000 (28%)] | Loss: 1.4589512348175049\n",
      "Train Epoch 1/10 [14400/50000 (29%)] | Loss: 1.7077066898345947\n",
      "Train Epoch 1/10 [14880/50000 (30%)] | Loss: 1.5490649938583374\n",
      "Train Epoch 1/10 [15360/50000 (31%)] | Loss: 1.6025924682617188\n",
      "Train Epoch 1/10 [15840/50000 (32%)] | Loss: 1.3712900876998901\n",
      "Train Epoch 1/10 [16320/50000 (33%)] | Loss: 1.0931758880615234\n",
      "Train Epoch 1/10 [16800/50000 (34%)] | Loss: 1.1221864223480225\n",
      "Train Epoch 1/10 [17280/50000 (35%)] | Loss: 1.3866206407546997\n",
      "Train Epoch 1/10 [17760/50000 (36%)] | Loss: 1.5071557760238647\n",
      "Train Epoch 1/10 [18240/50000 (36%)] | Loss: 1.5258979797363281\n",
      "Train Epoch 1/10 [18720/50000 (37%)] | Loss: 1.1933799982070923\n",
      "Train Epoch 1/10 [19200/50000 (38%)] | Loss: 1.5934035778045654\n",
      "Train Epoch 1/10 [19680/50000 (39%)] | Loss: 1.3043038845062256\n",
      "Train Epoch 1/10 [20160/50000 (40%)] | Loss: 1.2892100811004639\n",
      "Train Epoch 1/10 [20640/50000 (41%)] | Loss: 1.9124289751052856\n",
      "Train Epoch 1/10 [21120/50000 (42%)] | Loss: 1.3752129077911377\n",
      "Train Epoch 1/10 [21600/50000 (43%)] | Loss: 0.9312555193901062\n",
      "Train Epoch 1/10 [22080/50000 (44%)] | Loss: 1.0776807069778442\n",
      "Train Epoch 1/10 [22560/50000 (45%)] | Loss: 1.611877202987671\n",
      "Train Epoch 1/10 [23040/50000 (46%)] | Loss: 1.2331254482269287\n",
      "Train Epoch 1/10 [23520/50000 (47%)] | Loss: 1.2927167415618896\n",
      "Train Epoch 1/10 [24000/50000 (48%)] | Loss: 1.0874918699264526\n",
      "Train Epoch 1/10 [24480/50000 (49%)] | Loss: 1.1771644353866577\n",
      "Train Epoch 1/10 [24960/50000 (50%)] | Loss: 1.407482624053955\n",
      "Train Epoch 1/10 [25440/50000 (51%)] | Loss: 1.172728419303894\n",
      "Train Epoch 1/10 [25920/50000 (52%)] | Loss: 1.8960020542144775\n",
      "Train Epoch 1/10 [26400/50000 (53%)] | Loss: 1.147794485092163\n",
      "Train Epoch 1/10 [26880/50000 (54%)] | Loss: 1.0919945240020752\n",
      "Train Epoch 1/10 [27360/50000 (55%)] | Loss: 1.0779379606246948\n",
      "Train Epoch 1/10 [27840/50000 (56%)] | Loss: 1.421172857284546\n",
      "Train Epoch 1/10 [28320/50000 (57%)] | Loss: 1.6606736183166504\n",
      "Train Epoch 1/10 [28800/50000 (58%)] | Loss: 1.1511516571044922\n",
      "Train Epoch 1/10 [29280/50000 (59%)] | Loss: 1.4591379165649414\n",
      "Train Epoch 1/10 [29760/50000 (60%)] | Loss: 1.2401081323623657\n",
      "Train Epoch 1/10 [30240/50000 (60%)] | Loss: 1.2808719873428345\n",
      "Train Epoch 1/10 [30720/50000 (61%)] | Loss: 1.4401614665985107\n",
      "Train Epoch 1/10 [31200/50000 (62%)] | Loss: 1.1852978467941284\n",
      "Train Epoch 1/10 [31680/50000 (63%)] | Loss: 1.3148057460784912\n",
      "Train Epoch 1/10 [32160/50000 (64%)] | Loss: 1.1349233388900757\n",
      "Train Epoch 1/10 [32640/50000 (65%)] | Loss: 0.9960974454879761\n",
      "Train Epoch 1/10 [33120/50000 (66%)] | Loss: 1.5282050371170044\n",
      "Train Epoch 1/10 [33600/50000 (67%)] | Loss: 1.3392038345336914\n",
      "Train Epoch 1/10 [34080/50000 (68%)] | Loss: 0.9438440203666687\n",
      "Train Epoch 1/10 [34560/50000 (69%)] | Loss: 1.2241570949554443\n",
      "Train Epoch 1/10 [35040/50000 (70%)] | Loss: 0.9661445617675781\n",
      "Train Epoch 1/10 [35520/50000 (71%)] | Loss: 1.7134370803833008\n",
      "Train Epoch 1/10 [36000/50000 (72%)] | Loss: 0.9966551065444946\n",
      "Train Epoch 1/10 [36480/50000 (73%)] | Loss: 1.1839584112167358\n",
      "Train Epoch 1/10 [36960/50000 (74%)] | Loss: 1.158272385597229\n",
      "Train Epoch 1/10 [37440/50000 (75%)] | Loss: 1.0827131271362305\n",
      "Train Epoch 1/10 [37920/50000 (76%)] | Loss: 1.1943014860153198\n",
      "Train Epoch 1/10 [38400/50000 (77%)] | Loss: 1.0205788612365723\n",
      "Train Epoch 1/10 [38880/50000 (78%)] | Loss: 1.251223087310791\n",
      "Train Epoch 1/10 [39360/50000 (79%)] | Loss: 1.1915669441223145\n",
      "Train Epoch 1/10 [39840/50000 (80%)] | Loss: 1.2978545427322388\n",
      "Train Epoch 1/10 [40320/50000 (81%)] | Loss: 1.4193642139434814\n",
      "Train Epoch 1/10 [40800/50000 (82%)] | Loss: 1.0496913194656372\n",
      "Train Epoch 1/10 [41280/50000 (83%)] | Loss: 1.175866723060608\n",
      "Train Epoch 1/10 [41760/50000 (83%)] | Loss: 1.2613399028778076\n",
      "Train Epoch 1/10 [42240/50000 (84%)] | Loss: 0.941594660282135\n",
      "Train Epoch 1/10 [42720/50000 (85%)] | Loss: 1.2186411619186401\n",
      "Train Epoch 1/10 [43200/50000 (86%)] | Loss: 1.1221036911010742\n",
      "Train Epoch 1/10 [43680/50000 (87%)] | Loss: 0.9894986748695374\n",
      "Train Epoch 1/10 [44160/50000 (88%)] | Loss: 1.1360363960266113\n",
      "Train Epoch 1/10 [44640/50000 (89%)] | Loss: 0.861655592918396\n",
      "Train Epoch 1/10 [45120/50000 (90%)] | Loss: 1.1791038513183594\n",
      "Train Epoch 1/10 [45600/50000 (91%)] | Loss: 0.9330699443817139\n",
      "Train Epoch 1/10 [46080/50000 (92%)] | Loss: 0.9793394804000854\n",
      "Train Epoch 1/10 [46560/50000 (93%)] | Loss: 0.9439060688018799\n",
      "Train Epoch 1/10 [47040/50000 (94%)] | Loss: 1.4003095626831055\n",
      "Train Epoch 1/10 [47520/50000 (95%)] | Loss: 1.1551573276519775\n",
      "Train Epoch 1/10 [48000/50000 (96%)] | Loss: 0.8874149322509766\n",
      "Train Epoch 1/10 [48480/50000 (97%)] | Loss: 1.1495013236999512\n",
      "Train Epoch 1/10 [48960/50000 (98%)] | Loss: 1.2963658571243286\n",
      "Train Epoch 1/10 [49440/50000 (99%)] | Loss: 1.0194803476333618\n",
      "Train Epoch 1/10 [49920/50000 (100%)] | Loss: 1.1710059642791748\n",
      "\n",
      "Train Acc.: [25843/50000 (52%)]\n",
      "Test Acc.:  [ 6125/10000 (61%)]\n",
      "\n",
      "Train Epoch 2/10 [    0/50000 ( 0%)] | Loss: 1.0617493391036987\n",
      "Train Epoch 2/10 [  480/50000 ( 1%)] | Loss: 0.7512480616569519\n",
      "Train Epoch 2/10 [  960/50000 ( 2%)] | Loss: 0.7507762312889099\n",
      "Train Epoch 2/10 [ 1440/50000 ( 3%)] | Loss: 1.2708008289337158\n",
      "Train Epoch 2/10 [ 1920/50000 ( 4%)] | Loss: 0.8926103115081787\n",
      "Train Epoch 2/10 [ 2400/50000 ( 5%)] | Loss: 1.2411669492721558\n",
      "Train Epoch 2/10 [ 2880/50000 ( 6%)] | Loss: 1.3759443759918213\n",
      "Train Epoch 2/10 [ 3360/50000 ( 7%)] | Loss: 0.7457329630851746\n",
      "Train Epoch 2/10 [ 3840/50000 ( 8%)] | Loss: 0.9537192583084106\n",
      "Train Epoch 2/10 [ 4320/50000 ( 9%)] | Loss: 0.955276370048523\n",
      "Train Epoch 2/10 [ 4800/50000 (10%)] | Loss: 1.0780967473983765\n",
      "Train Epoch 2/10 [ 5280/50000 (11%)] | Loss: 1.4844756126403809\n",
      "Train Epoch 2/10 [ 5760/50000 (12%)] | Loss: 1.237910509109497\n",
      "Train Epoch 2/10 [ 6240/50000 (12%)] | Loss: 1.24446702003479\n",
      "Train Epoch 2/10 [ 6720/50000 (13%)] | Loss: 0.9605284333229065\n",
      "Train Epoch 2/10 [ 7200/50000 (14%)] | Loss: 1.463240623474121\n",
      "Train Epoch 2/10 [ 7680/50000 (15%)] | Loss: 1.0857279300689697\n",
      "Train Epoch 2/10 [ 8160/50000 (16%)] | Loss: 0.6921191215515137\n",
      "Train Epoch 2/10 [ 8640/50000 (17%)] | Loss: 0.7400785088539124\n",
      "Train Epoch 2/10 [ 9120/50000 (18%)] | Loss: 0.9544376730918884\n",
      "Train Epoch 2/10 [ 9600/50000 (19%)] | Loss: 0.9020829200744629\n",
      "Train Epoch 2/10 [10080/50000 (20%)] | Loss: 0.8424530625343323\n",
      "Train Epoch 2/10 [10560/50000 (21%)] | Loss: 1.2237980365753174\n",
      "Train Epoch 2/10 [11040/50000 (22%)] | Loss: 0.9804033041000366\n",
      "Train Epoch 2/10 [11520/50000 (23%)] | Loss: 1.072283387184143\n",
      "Train Epoch 2/10 [12000/50000 (24%)] | Loss: 1.0898452997207642\n",
      "Train Epoch 2/10 [12480/50000 (25%)] | Loss: 1.1008877754211426\n",
      "Train Epoch 2/10 [12960/50000 (26%)] | Loss: 0.8714931011199951\n",
      "Train Epoch 2/10 [13440/50000 (27%)] | Loss: 1.0483736991882324\n",
      "Train Epoch 2/10 [13920/50000 (28%)] | Loss: 1.134732961654663\n",
      "Train Epoch 2/10 [14400/50000 (29%)] | Loss: 0.830656886100769\n",
      "Train Epoch 2/10 [14880/50000 (30%)] | Loss: 0.9782738089561462\n",
      "Train Epoch 2/10 [15360/50000 (31%)] | Loss: 0.8884734511375427\n",
      "Train Epoch 2/10 [15840/50000 (32%)] | Loss: 0.6207430362701416\n",
      "Train Epoch 2/10 [16320/50000 (33%)] | Loss: 0.9141572713851929\n",
      "Train Epoch 2/10 [16800/50000 (34%)] | Loss: 1.0714117288589478\n",
      "Train Epoch 2/10 [17280/50000 (35%)] | Loss: 1.0666357278823853\n",
      "Train Epoch 2/10 [17760/50000 (36%)] | Loss: 0.8624894618988037\n",
      "Train Epoch 2/10 [18240/50000 (36%)] | Loss: 1.0410022735595703\n",
      "Train Epoch 2/10 [18720/50000 (37%)] | Loss: 0.9373795986175537\n",
      "Train Epoch 2/10 [19200/50000 (38%)] | Loss: 0.7408992052078247\n",
      "Train Epoch 2/10 [19680/50000 (39%)] | Loss: 1.1154829263687134\n",
      "Train Epoch 2/10 [20160/50000 (40%)] | Loss: 1.1058721542358398\n",
      "Train Epoch 2/10 [20640/50000 (41%)] | Loss: 1.254495620727539\n",
      "Train Epoch 2/10 [21120/50000 (42%)] | Loss: 1.0235872268676758\n",
      "Train Epoch 2/10 [21600/50000 (43%)] | Loss: 0.8307386636734009\n",
      "Train Epoch 2/10 [22080/50000 (44%)] | Loss: 0.6832684278488159\n",
      "Train Epoch 2/10 [22560/50000 (45%)] | Loss: 0.8125414848327637\n",
      "Train Epoch 2/10 [23040/50000 (46%)] | Loss: 1.4304978847503662\n",
      "Train Epoch 2/10 [23520/50000 (47%)] | Loss: 0.7530100345611572\n",
      "Train Epoch 2/10 [24000/50000 (48%)] | Loss: 0.90494304895401\n",
      "Train Epoch 2/10 [24480/50000 (49%)] | Loss: 1.1116359233856201\n",
      "Train Epoch 2/10 [24960/50000 (50%)] | Loss: 0.8782805800437927\n",
      "Train Epoch 2/10 [25440/50000 (51%)] | Loss: 1.4130544662475586\n",
      "Train Epoch 2/10 [25920/50000 (52%)] | Loss: 0.6366829872131348\n",
      "Train Epoch 2/10 [26400/50000 (53%)] | Loss: 0.9144261479377747\n",
      "Train Epoch 2/10 [26880/50000 (54%)] | Loss: 0.6324105262756348\n",
      "Train Epoch 2/10 [27360/50000 (55%)] | Loss: 0.8229944705963135\n",
      "Train Epoch 2/10 [27840/50000 (56%)] | Loss: 1.2292441129684448\n",
      "Train Epoch 2/10 [28320/50000 (57%)] | Loss: 1.0834513902664185\n",
      "Train Epoch 2/10 [28800/50000 (58%)] | Loss: 0.9612924456596375\n",
      "Train Epoch 2/10 [29280/50000 (59%)] | Loss: 0.8659434914588928\n",
      "Train Epoch 2/10 [29760/50000 (60%)] | Loss: 1.123921275138855\n",
      "Train Epoch 2/10 [30240/50000 (60%)] | Loss: 1.0938470363616943\n",
      "Train Epoch 2/10 [30720/50000 (61%)] | Loss: 0.9770652055740356\n",
      "Train Epoch 2/10 [31200/50000 (62%)] | Loss: 0.8636356592178345\n",
      "Train Epoch 2/10 [31680/50000 (63%)] | Loss: 0.9874303340911865\n",
      "Train Epoch 2/10 [32160/50000 (64%)] | Loss: 1.2079203128814697\n",
      "Train Epoch 2/10 [32640/50000 (65%)] | Loss: 0.9896458387374878\n",
      "Train Epoch 2/10 [33120/50000 (66%)] | Loss: 0.7634729146957397\n",
      "Train Epoch 2/10 [33600/50000 (67%)] | Loss: 0.9496749639511108\n",
      "Train Epoch 2/10 [34080/50000 (68%)] | Loss: 1.3437354564666748\n",
      "Train Epoch 2/10 [34560/50000 (69%)] | Loss: 0.823415219783783\n",
      "Train Epoch 2/10 [35040/50000 (70%)] | Loss: 0.8129090070724487\n",
      "Train Epoch 2/10 [35520/50000 (71%)] | Loss: 1.1065386533737183\n",
      "Train Epoch 2/10 [36000/50000 (72%)] | Loss: 1.0733706951141357\n",
      "Train Epoch 2/10 [36480/50000 (73%)] | Loss: 1.0088709592819214\n",
      "Train Epoch 2/10 [36960/50000 (74%)] | Loss: 1.146276593208313\n",
      "Train Epoch 2/10 [37440/50000 (75%)] | Loss: 1.011566162109375\n",
      "Train Epoch 2/10 [37920/50000 (76%)] | Loss: 1.1451002359390259\n",
      "Train Epoch 2/10 [38400/50000 (77%)] | Loss: 0.7566521763801575\n",
      "Train Epoch 2/10 [38880/50000 (78%)] | Loss: 1.2586495876312256\n",
      "Train Epoch 2/10 [39360/50000 (79%)] | Loss: 0.8821544647216797\n",
      "Train Epoch 2/10 [39840/50000 (80%)] | Loss: 0.7978156805038452\n",
      "Train Epoch 2/10 [40320/50000 (81%)] | Loss: 1.1414765119552612\n",
      "Train Epoch 2/10 [40800/50000 (82%)] | Loss: 0.8388941287994385\n",
      "Train Epoch 2/10 [41280/50000 (83%)] | Loss: 0.7617712616920471\n",
      "Train Epoch 2/10 [41760/50000 (83%)] | Loss: 0.8154518604278564\n",
      "Train Epoch 2/10 [42240/50000 (84%)] | Loss: 0.721087634563446\n",
      "Train Epoch 2/10 [42720/50000 (85%)] | Loss: 0.7995505332946777\n",
      "Train Epoch 2/10 [43200/50000 (86%)] | Loss: 0.6993911266326904\n",
      "Train Epoch 2/10 [43680/50000 (87%)] | Loss: 1.0952789783477783\n",
      "Train Epoch 2/10 [44160/50000 (88%)] | Loss: 0.9026474952697754\n",
      "Train Epoch 2/10 [44640/50000 (89%)] | Loss: 1.028407096862793\n",
      "Train Epoch 2/10 [45120/50000 (90%)] | Loss: 0.4681120216846466\n",
      "Train Epoch 2/10 [45600/50000 (91%)] | Loss: 1.2225085496902466\n",
      "Train Epoch 2/10 [46080/50000 (92%)] | Loss: 1.3055537939071655\n",
      "Train Epoch 2/10 [46560/50000 (93%)] | Loss: 1.0264369249343872\n",
      "Train Epoch 2/10 [47040/50000 (94%)] | Loss: 0.6974295377731323\n",
      "Train Epoch 2/10 [47520/50000 (95%)] | Loss: 1.116382360458374\n",
      "Train Epoch 2/10 [48000/50000 (96%)] | Loss: 0.6571156978607178\n",
      "Train Epoch 2/10 [48480/50000 (97%)] | Loss: 0.6474071741104126\n",
      "Train Epoch 2/10 [48960/50000 (98%)] | Loss: 0.9670310020446777\n",
      "Train Epoch 2/10 [49440/50000 (99%)] | Loss: 0.8832547068595886\n",
      "Train Epoch 2/10 [49920/50000 (100%)] | Loss: 0.8888584971427917\n",
      "\n",
      "Train Acc.: [32793/50000 (66%)]\n",
      "Test Acc.:  [ 6577/10000 (66%)]\n",
      "\n",
      "Train Epoch 3/10 [    0/50000 ( 0%)] | Loss: 0.9026983976364136\n",
      "Train Epoch 3/10 [  480/50000 ( 1%)] | Loss: 0.716273844242096\n",
      "Train Epoch 3/10 [  960/50000 ( 2%)] | Loss: 0.9355093836784363\n",
      "Train Epoch 3/10 [ 1440/50000 ( 3%)] | Loss: 0.5564072132110596\n",
      "Train Epoch 3/10 [ 1920/50000 ( 4%)] | Loss: 0.7316763401031494\n",
      "Train Epoch 3/10 [ 2400/50000 ( 5%)] | Loss: 0.754304051399231\n",
      "Train Epoch 3/10 [ 2880/50000 ( 6%)] | Loss: 0.804527759552002\n",
      "Train Epoch 3/10 [ 3360/50000 ( 7%)] | Loss: 1.0384846925735474\n",
      "Train Epoch 3/10 [ 3840/50000 ( 8%)] | Loss: 0.7673259377479553\n",
      "Train Epoch 3/10 [ 4320/50000 ( 9%)] | Loss: 0.6100686192512512\n",
      "Train Epoch 3/10 [ 4800/50000 (10%)] | Loss: 0.7822548151016235\n",
      "Train Epoch 3/10 [ 5280/50000 (11%)] | Loss: 0.806868851184845\n",
      "Train Epoch 3/10 [ 5760/50000 (12%)] | Loss: 0.8763256669044495\n",
      "Train Epoch 3/10 [ 6240/50000 (12%)] | Loss: 0.9079002141952515\n",
      "Train Epoch 3/10 [ 6720/50000 (13%)] | Loss: 0.886638879776001\n",
      "Train Epoch 3/10 [ 7200/50000 (14%)] | Loss: 0.6907182931900024\n",
      "Train Epoch 3/10 [ 7680/50000 (15%)] | Loss: 1.0712798833847046\n",
      "Train Epoch 3/10 [ 8160/50000 (16%)] | Loss: 0.8799242973327637\n",
      "Train Epoch 3/10 [ 8640/50000 (17%)] | Loss: 0.7382717132568359\n",
      "Train Epoch 3/10 [ 9120/50000 (18%)] | Loss: 1.0795351266860962\n",
      "Train Epoch 3/10 [ 9600/50000 (19%)] | Loss: 0.7004767060279846\n",
      "Train Epoch 3/10 [10080/50000 (20%)] | Loss: 0.6632260084152222\n",
      "Train Epoch 3/10 [10560/50000 (21%)] | Loss: 0.894875168800354\n",
      "Train Epoch 3/10 [11040/50000 (22%)] | Loss: 0.9406853318214417\n",
      "Train Epoch 3/10 [11520/50000 (23%)] | Loss: 0.9200582504272461\n",
      "Train Epoch 3/10 [12000/50000 (24%)] | Loss: 0.837630033493042\n",
      "Train Epoch 3/10 [12480/50000 (25%)] | Loss: 1.1522622108459473\n",
      "Train Epoch 3/10 [12960/50000 (26%)] | Loss: 0.6828737258911133\n",
      "Train Epoch 3/10 [13440/50000 (27%)] | Loss: 1.229042410850525\n",
      "Train Epoch 3/10 [13920/50000 (28%)] | Loss: 0.7933924794197083\n",
      "Train Epoch 3/10 [14400/50000 (29%)] | Loss: 1.0169353485107422\n",
      "Train Epoch 3/10 [14880/50000 (30%)] | Loss: 0.8940162062644958\n",
      "Train Epoch 3/10 [15360/50000 (31%)] | Loss: 1.0240130424499512\n",
      "Train Epoch 3/10 [15840/50000 (32%)] | Loss: 0.7462979555130005\n",
      "Train Epoch 3/10 [16320/50000 (33%)] | Loss: 0.6371784806251526\n",
      "Train Epoch 3/10 [16800/50000 (34%)] | Loss: 0.9056515693664551\n",
      "Train Epoch 3/10 [17280/50000 (35%)] | Loss: 0.7685115933418274\n",
      "Train Epoch 3/10 [17760/50000 (36%)] | Loss: 0.6579257249832153\n",
      "Train Epoch 3/10 [18240/50000 (36%)] | Loss: 0.5696671009063721\n",
      "Train Epoch 3/10 [18720/50000 (37%)] | Loss: 0.46960124373435974\n",
      "Train Epoch 3/10 [19200/50000 (38%)] | Loss: 0.7336770296096802\n",
      "Train Epoch 3/10 [19680/50000 (39%)] | Loss: 1.2307157516479492\n",
      "Train Epoch 3/10 [20160/50000 (40%)] | Loss: 0.6626839637756348\n",
      "Train Epoch 3/10 [20640/50000 (41%)] | Loss: 0.7756128907203674\n",
      "Train Epoch 3/10 [21120/50000 (42%)] | Loss: 0.5442653894424438\n",
      "Train Epoch 3/10 [21600/50000 (43%)] | Loss: 1.0203391313552856\n",
      "Train Epoch 3/10 [22080/50000 (44%)] | Loss: 0.6248465180397034\n",
      "Train Epoch 3/10 [22560/50000 (45%)] | Loss: 0.9535430073738098\n",
      "Train Epoch 3/10 [23040/50000 (46%)] | Loss: 0.8042430877685547\n",
      "Train Epoch 3/10 [23520/50000 (47%)] | Loss: 0.6202119588851929\n",
      "Train Epoch 3/10 [24000/50000 (48%)] | Loss: 0.5415125489234924\n",
      "Train Epoch 3/10 [24480/50000 (49%)] | Loss: 0.7071139812469482\n",
      "Train Epoch 3/10 [24960/50000 (50%)] | Loss: 0.8797712326049805\n",
      "Train Epoch 3/10 [25440/50000 (51%)] | Loss: 0.6230047941207886\n",
      "Train Epoch 3/10 [25920/50000 (52%)] | Loss: 0.933548092842102\n",
      "Train Epoch 3/10 [26400/50000 (53%)] | Loss: 1.0417412519454956\n",
      "Train Epoch 3/10 [26880/50000 (54%)] | Loss: 0.7816271781921387\n",
      "Train Epoch 3/10 [27360/50000 (55%)] | Loss: 0.5921204686164856\n",
      "Train Epoch 3/10 [27840/50000 (56%)] | Loss: 0.6949625015258789\n",
      "Train Epoch 3/10 [28320/50000 (57%)] | Loss: 0.6586602330207825\n",
      "Train Epoch 3/10 [28800/50000 (58%)] | Loss: 0.9907062649726868\n",
      "Train Epoch 3/10 [29280/50000 (59%)] | Loss: 0.7235209345817566\n",
      "Train Epoch 3/10 [29760/50000 (60%)] | Loss: 0.9949353933334351\n",
      "Train Epoch 3/10 [30240/50000 (60%)] | Loss: 0.899062991142273\n",
      "Train Epoch 3/10 [30720/50000 (61%)] | Loss: 0.5642370581626892\n",
      "Train Epoch 3/10 [31200/50000 (62%)] | Loss: 0.4848823845386505\n",
      "Train Epoch 3/10 [31680/50000 (63%)] | Loss: 0.8011950850486755\n",
      "Train Epoch 3/10 [32160/50000 (64%)] | Loss: 0.39906299114227295\n",
      "Train Epoch 3/10 [32640/50000 (65%)] | Loss: 0.4433111548423767\n",
      "Train Epoch 3/10 [33120/50000 (66%)] | Loss: 1.0553144216537476\n",
      "Train Epoch 3/10 [33600/50000 (67%)] | Loss: 0.7728450894355774\n",
      "Train Epoch 3/10 [34080/50000 (68%)] | Loss: 0.9687749147415161\n",
      "Train Epoch 3/10 [34560/50000 (69%)] | Loss: 0.8082128167152405\n",
      "Train Epoch 3/10 [35040/50000 (70%)] | Loss: 0.5913677215576172\n",
      "Train Epoch 3/10 [35520/50000 (71%)] | Loss: 0.7321818470954895\n",
      "Train Epoch 3/10 [36000/50000 (72%)] | Loss: 0.6671086549758911\n",
      "Train Epoch 3/10 [36480/50000 (73%)] | Loss: 0.982616662979126\n",
      "Train Epoch 3/10 [36960/50000 (74%)] | Loss: 0.7443327903747559\n",
      "Train Epoch 3/10 [37440/50000 (75%)] | Loss: 0.4434015154838562\n",
      "Train Epoch 3/10 [37920/50000 (76%)] | Loss: 0.7334845662117004\n",
      "Train Epoch 3/10 [38400/50000 (77%)] | Loss: 0.608996570110321\n",
      "Train Epoch 3/10 [38880/50000 (78%)] | Loss: 0.6568276286125183\n",
      "Train Epoch 3/10 [39360/50000 (79%)] | Loss: 0.6116407513618469\n",
      "Train Epoch 3/10 [39840/50000 (80%)] | Loss: 0.7239997386932373\n",
      "Train Epoch 3/10 [40320/50000 (81%)] | Loss: 0.7899850010871887\n",
      "Train Epoch 3/10 [40800/50000 (82%)] | Loss: 1.0414081811904907\n",
      "Train Epoch 3/10 [41280/50000 (83%)] | Loss: 0.9296246767044067\n",
      "Train Epoch 3/10 [41760/50000 (83%)] | Loss: 1.191174030303955\n",
      "Train Epoch 3/10 [42240/50000 (84%)] | Loss: 0.8255155086517334\n",
      "Train Epoch 3/10 [42720/50000 (85%)] | Loss: 0.9115944504737854\n",
      "Train Epoch 3/10 [43200/50000 (86%)] | Loss: 0.8605929613113403\n",
      "Train Epoch 3/10 [43680/50000 (87%)] | Loss: 0.7259582877159119\n",
      "Train Epoch 3/10 [44160/50000 (88%)] | Loss: 0.8628507852554321\n",
      "Train Epoch 3/10 [44640/50000 (89%)] | Loss: 0.6332804560661316\n",
      "Train Epoch 3/10 [45120/50000 (90%)] | Loss: 0.5573708415031433\n",
      "Train Epoch 3/10 [45600/50000 (91%)] | Loss: 0.6453486084938049\n",
      "Train Epoch 3/10 [46080/50000 (92%)] | Loss: 0.7286536693572998\n",
      "Train Epoch 3/10 [46560/50000 (93%)] | Loss: 0.756752073764801\n",
      "Train Epoch 3/10 [47040/50000 (94%)] | Loss: 0.7081885933876038\n",
      "Train Epoch 3/10 [47520/50000 (95%)] | Loss: 0.6117900013923645\n",
      "Train Epoch 3/10 [48000/50000 (96%)] | Loss: 0.9106201529502869\n",
      "Train Epoch 3/10 [48480/50000 (97%)] | Loss: 0.8371423482894897\n",
      "Train Epoch 3/10 [48960/50000 (98%)] | Loss: 0.7312949895858765\n",
      "Train Epoch 3/10 [49440/50000 (99%)] | Loss: 0.8070917129516602\n",
      "Train Epoch 3/10 [49920/50000 (100%)] | Loss: 0.7678771615028381\n",
      "\n",
      "Train Acc.: [36105/50000 (72%)]\n",
      "Test Acc.:  [ 6657/10000 (67%)]\n",
      "\n",
      "Train Epoch 4/10 [    0/50000 ( 0%)] | Loss: 0.4619807004928589\n",
      "Train Epoch 4/10 [  480/50000 ( 1%)] | Loss: 0.526006281375885\n",
      "Train Epoch 4/10 [  960/50000 ( 2%)] | Loss: 0.6370843052864075\n",
      "Train Epoch 4/10 [ 1440/50000 ( 3%)] | Loss: 0.7071228623390198\n",
      "Train Epoch 4/10 [ 1920/50000 ( 4%)] | Loss: 0.6946733593940735\n",
      "Train Epoch 4/10 [ 2400/50000 ( 5%)] | Loss: 0.46646636724472046\n",
      "Train Epoch 4/10 [ 2880/50000 ( 6%)] | Loss: 0.9544028639793396\n",
      "Train Epoch 4/10 [ 3360/50000 ( 7%)] | Loss: 0.6491642594337463\n",
      "Train Epoch 4/10 [ 3840/50000 ( 8%)] | Loss: 0.7677993774414062\n",
      "Train Epoch 4/10 [ 4320/50000 ( 9%)] | Loss: 0.5082136392593384\n",
      "Train Epoch 4/10 [ 4800/50000 (10%)] | Loss: 0.7071110606193542\n",
      "Train Epoch 4/10 [ 5280/50000 (11%)] | Loss: 0.4908698797225952\n",
      "Train Epoch 4/10 [ 5760/50000 (12%)] | Loss: 0.947403609752655\n",
      "Train Epoch 4/10 [ 6240/50000 (12%)] | Loss: 0.5183129906654358\n",
      "Train Epoch 4/10 [ 6720/50000 (13%)] | Loss: 0.4489530920982361\n",
      "Train Epoch 4/10 [ 7200/50000 (14%)] | Loss: 0.7780322432518005\n",
      "Train Epoch 4/10 [ 7680/50000 (15%)] | Loss: 0.50247722864151\n",
      "Train Epoch 4/10 [ 8160/50000 (16%)] | Loss: 0.5077377557754517\n",
      "Train Epoch 4/10 [ 8640/50000 (17%)] | Loss: 0.39348891377449036\n",
      "Train Epoch 4/10 [ 9120/50000 (18%)] | Loss: 0.4445854425430298\n",
      "Train Epoch 4/10 [ 9600/50000 (19%)] | Loss: 0.3846210837364197\n",
      "Train Epoch 4/10 [10080/50000 (20%)] | Loss: 0.4889742136001587\n",
      "Train Epoch 4/10 [10560/50000 (21%)] | Loss: 0.37283387780189514\n",
      "Train Epoch 4/10 [11040/50000 (22%)] | Loss: 0.661186158657074\n",
      "Train Epoch 4/10 [11520/50000 (23%)] | Loss: 0.5044797658920288\n",
      "Train Epoch 4/10 [12000/50000 (24%)] | Loss: 0.4852626621723175\n",
      "Train Epoch 4/10 [12480/50000 (25%)] | Loss: 0.34280064702033997\n",
      "Train Epoch 4/10 [12960/50000 (26%)] | Loss: 0.470673143863678\n",
      "Train Epoch 4/10 [13440/50000 (27%)] | Loss: 0.5096311569213867\n",
      "Train Epoch 4/10 [13920/50000 (28%)] | Loss: 0.6209978461265564\n",
      "Train Epoch 4/10 [14400/50000 (29%)] | Loss: 0.616011381149292\n",
      "Train Epoch 4/10 [14880/50000 (30%)] | Loss: 0.7555818557739258\n",
      "Train Epoch 4/10 [15360/50000 (31%)] | Loss: 0.6780833005905151\n",
      "Train Epoch 4/10 [15840/50000 (32%)] | Loss: 0.6390795707702637\n",
      "Train Epoch 4/10 [16320/50000 (33%)] | Loss: 0.2538512349128723\n",
      "Train Epoch 4/10 [16800/50000 (34%)] | Loss: 0.5623221397399902\n",
      "Train Epoch 4/10 [17280/50000 (35%)] | Loss: 0.6089147925376892\n",
      "Train Epoch 4/10 [17760/50000 (36%)] | Loss: 0.8917024731636047\n",
      "Train Epoch 4/10 [18240/50000 (36%)] | Loss: 0.5900282859802246\n",
      "Train Epoch 4/10 [18720/50000 (37%)] | Loss: 0.5311670303344727\n",
      "Train Epoch 4/10 [19200/50000 (38%)] | Loss: 0.6554135084152222\n",
      "Train Epoch 4/10 [19680/50000 (39%)] | Loss: 0.7958660125732422\n",
      "Train Epoch 4/10 [20160/50000 (40%)] | Loss: 0.6808733940124512\n",
      "Train Epoch 4/10 [20640/50000 (41%)] | Loss: 0.49842801690101624\n",
      "Train Epoch 4/10 [21120/50000 (42%)] | Loss: 0.6978270411491394\n",
      "Train Epoch 4/10 [21600/50000 (43%)] | Loss: 0.5579370856285095\n",
      "Train Epoch 4/10 [22080/50000 (44%)] | Loss: 0.5269224643707275\n",
      "Train Epoch 4/10 [22560/50000 (45%)] | Loss: 0.7286105751991272\n",
      "Train Epoch 4/10 [23040/50000 (46%)] | Loss: 0.7038732767105103\n",
      "Train Epoch 4/10 [23520/50000 (47%)] | Loss: 0.8797975182533264\n",
      "Train Epoch 4/10 [24000/50000 (48%)] | Loss: 0.8102563619613647\n",
      "Train Epoch 4/10 [24480/50000 (49%)] | Loss: 0.6706072688102722\n",
      "Train Epoch 4/10 [24960/50000 (50%)] | Loss: 0.5009194612503052\n",
      "Train Epoch 4/10 [25440/50000 (51%)] | Loss: 0.8573800921440125\n",
      "Train Epoch 4/10 [25920/50000 (52%)] | Loss: 0.6766603589057922\n",
      "Train Epoch 4/10 [26400/50000 (53%)] | Loss: 0.7474625706672668\n",
      "Train Epoch 4/10 [26880/50000 (54%)] | Loss: 0.6958299875259399\n",
      "Train Epoch 4/10 [27360/50000 (55%)] | Loss: 0.6636114716529846\n",
      "Train Epoch 4/10 [27840/50000 (56%)] | Loss: 0.46553269028663635\n",
      "Train Epoch 4/10 [28320/50000 (57%)] | Loss: 0.48398250341415405\n",
      "Train Epoch 4/10 [28800/50000 (58%)] | Loss: 0.5485913753509521\n",
      "Train Epoch 4/10 [29280/50000 (59%)] | Loss: 0.44196227192878723\n",
      "Train Epoch 4/10 [29760/50000 (60%)] | Loss: 0.4892434775829315\n",
      "Train Epoch 4/10 [30240/50000 (60%)] | Loss: 0.5282685160636902\n",
      "Train Epoch 4/10 [30720/50000 (61%)] | Loss: 0.6097064018249512\n",
      "Train Epoch 4/10 [31200/50000 (62%)] | Loss: 0.6639155149459839\n",
      "Train Epoch 4/10 [31680/50000 (63%)] | Loss: 0.5468164086341858\n",
      "Train Epoch 4/10 [32160/50000 (64%)] | Loss: 0.4464246928691864\n",
      "Train Epoch 4/10 [32640/50000 (65%)] | Loss: 0.6781206130981445\n",
      "Train Epoch 4/10 [33120/50000 (66%)] | Loss: 0.4984509348869324\n",
      "Train Epoch 4/10 [33600/50000 (67%)] | Loss: 0.650906503200531\n",
      "Train Epoch 4/10 [34080/50000 (68%)] | Loss: 0.544191837310791\n",
      "Train Epoch 4/10 [34560/50000 (69%)] | Loss: 0.578825056552887\n",
      "Train Epoch 4/10 [35040/50000 (70%)] | Loss: 0.6884140968322754\n",
      "Train Epoch 4/10 [35520/50000 (71%)] | Loss: 0.7748286128044128\n",
      "Train Epoch 4/10 [36000/50000 (72%)] | Loss: 0.5241798162460327\n",
      "Train Epoch 4/10 [36480/50000 (73%)] | Loss: 0.4445051848888397\n",
      "Train Epoch 4/10 [36960/50000 (74%)] | Loss: 0.6548993587493896\n",
      "Train Epoch 4/10 [37440/50000 (75%)] | Loss: 0.5070269703865051\n",
      "Train Epoch 4/10 [37920/50000 (76%)] | Loss: 0.9458984136581421\n",
      "Train Epoch 4/10 [38400/50000 (77%)] | Loss: 0.5447054505348206\n",
      "Train Epoch 4/10 [38880/50000 (78%)] | Loss: 0.8785306811332703\n",
      "Train Epoch 4/10 [39360/50000 (79%)] | Loss: 0.6777861714363098\n",
      "Train Epoch 4/10 [39840/50000 (80%)] | Loss: 0.996952474117279\n",
      "Train Epoch 4/10 [40320/50000 (81%)] | Loss: 0.41066277027130127\n",
      "Train Epoch 4/10 [40800/50000 (82%)] | Loss: 0.39172494411468506\n",
      "Train Epoch 4/10 [41280/50000 (83%)] | Loss: 0.9597768187522888\n",
      "Train Epoch 4/10 [41760/50000 (83%)] | Loss: 0.6561706066131592\n",
      "Train Epoch 4/10 [42240/50000 (84%)] | Loss: 0.25089728832244873\n",
      "Train Epoch 4/10 [42720/50000 (85%)] | Loss: 0.3894307613372803\n",
      "Train Epoch 4/10 [43200/50000 (86%)] | Loss: 0.9860820174217224\n",
      "Train Epoch 4/10 [43680/50000 (87%)] | Loss: 0.832309365272522\n",
      "Train Epoch 4/10 [44160/50000 (88%)] | Loss: 0.5527228116989136\n",
      "Train Epoch 4/10 [44640/50000 (89%)] | Loss: 0.7789798378944397\n",
      "Train Epoch 4/10 [45120/50000 (90%)] | Loss: 0.2485257238149643\n",
      "Train Epoch 4/10 [45600/50000 (91%)] | Loss: 0.37603485584259033\n",
      "Train Epoch 4/10 [46080/50000 (92%)] | Loss: 0.6693859696388245\n",
      "Train Epoch 4/10 [46560/50000 (93%)] | Loss: 0.99607914686203\n",
      "Train Epoch 4/10 [47040/50000 (94%)] | Loss: 0.7716308236122131\n",
      "Train Epoch 4/10 [47520/50000 (95%)] | Loss: 1.021691918373108\n",
      "Train Epoch 4/10 [48000/50000 (96%)] | Loss: 0.5022677779197693\n",
      "Train Epoch 4/10 [48480/50000 (97%)] | Loss: 0.55754154920578\n",
      "Train Epoch 4/10 [48960/50000 (98%)] | Loss: 0.37888285517692566\n",
      "Train Epoch 4/10 [49440/50000 (99%)] | Loss: 0.7364965677261353\n",
      "Train Epoch 4/10 [49920/50000 (100%)] | Loss: 0.4964286983013153\n",
      "\n",
      "Train Acc.: [38733/50000 (77%)]\n",
      "Test Acc.:  [ 6692/10000 (67%)]\n",
      "\n",
      "Train Epoch 5/10 [    0/50000 ( 0%)] | Loss: 0.5337854027748108\n",
      "Train Epoch 5/10 [  480/50000 ( 1%)] | Loss: 0.7723038792610168\n",
      "Train Epoch 5/10 [  960/50000 ( 2%)] | Loss: 0.5163329839706421\n",
      "Train Epoch 5/10 [ 1440/50000 ( 3%)] | Loss: 0.4671563506126404\n",
      "Train Epoch 5/10 [ 1920/50000 ( 4%)] | Loss: 0.7762720584869385\n",
      "Train Epoch 5/10 [ 2400/50000 ( 5%)] | Loss: 0.4014027714729309\n",
      "Train Epoch 5/10 [ 2880/50000 ( 6%)] | Loss: 0.2730247676372528\n",
      "Train Epoch 5/10 [ 3360/50000 ( 7%)] | Loss: 0.5342935919761658\n",
      "Train Epoch 5/10 [ 3840/50000 ( 8%)] | Loss: 0.39478448033332825\n",
      "Train Epoch 5/10 [ 4320/50000 ( 9%)] | Loss: 0.42949074506759644\n",
      "Train Epoch 5/10 [ 4800/50000 (10%)] | Loss: 0.31615954637527466\n",
      "Train Epoch 5/10 [ 5280/50000 (11%)] | Loss: 0.2866472005844116\n",
      "Train Epoch 5/10 [ 5760/50000 (12%)] | Loss: 0.582384467124939\n",
      "Train Epoch 5/10 [ 6240/50000 (12%)] | Loss: 0.4385596215724945\n",
      "Train Epoch 5/10 [ 6720/50000 (13%)] | Loss: 0.7296717762947083\n",
      "Train Epoch 5/10 [ 7200/50000 (14%)] | Loss: 0.18123415112495422\n",
      "Train Epoch 5/10 [ 7680/50000 (15%)] | Loss: 0.4524182975292206\n",
      "Train Epoch 5/10 [ 8160/50000 (16%)] | Loss: 0.18544842302799225\n",
      "Train Epoch 5/10 [ 8640/50000 (17%)] | Loss: 0.6462066173553467\n",
      "Train Epoch 5/10 [ 9120/50000 (18%)] | Loss: 0.3598654866218567\n",
      "Train Epoch 5/10 [ 9600/50000 (19%)] | Loss: 0.21257135272026062\n",
      "Train Epoch 5/10 [10080/50000 (20%)] | Loss: 0.45004212856292725\n",
      "Train Epoch 5/10 [10560/50000 (21%)] | Loss: 0.4067870080471039\n",
      "Train Epoch 5/10 [11040/50000 (22%)] | Loss: 0.5846177935600281\n",
      "Train Epoch 5/10 [11520/50000 (23%)] | Loss: 0.4591221213340759\n",
      "Train Epoch 5/10 [12000/50000 (24%)] | Loss: 0.3242264688014984\n",
      "Train Epoch 5/10 [12480/50000 (25%)] | Loss: 0.2809616029262543\n",
      "Train Epoch 5/10 [12960/50000 (26%)] | Loss: 0.5854020714759827\n",
      "Train Epoch 5/10 [13440/50000 (27%)] | Loss: 0.4362591505050659\n",
      "Train Epoch 5/10 [13920/50000 (28%)] | Loss: 0.42949309945106506\n",
      "Train Epoch 5/10 [14400/50000 (29%)] | Loss: 0.719957172870636\n",
      "Train Epoch 5/10 [14880/50000 (30%)] | Loss: 0.3574713170528412\n",
      "Train Epoch 5/10 [15360/50000 (31%)] | Loss: 0.657659113407135\n",
      "Train Epoch 5/10 [15840/50000 (32%)] | Loss: 0.7184338569641113\n",
      "Train Epoch 5/10 [16320/50000 (33%)] | Loss: 0.326305627822876\n",
      "Train Epoch 5/10 [16800/50000 (34%)] | Loss: 0.44378742575645447\n",
      "Train Epoch 5/10 [17280/50000 (35%)] | Loss: 0.5298871994018555\n",
      "Train Epoch 5/10 [17760/50000 (36%)] | Loss: 0.6452495455741882\n",
      "Train Epoch 5/10 [18240/50000 (36%)] | Loss: 0.3838469386100769\n",
      "Train Epoch 5/10 [18720/50000 (37%)] | Loss: 0.5059958696365356\n",
      "Train Epoch 5/10 [19200/50000 (38%)] | Loss: 0.4643440246582031\n",
      "Train Epoch 5/10 [19680/50000 (39%)] | Loss: 0.5366497039794922\n",
      "Train Epoch 5/10 [20160/50000 (40%)] | Loss: 0.57748943567276\n",
      "Train Epoch 5/10 [20640/50000 (41%)] | Loss: 0.37782543897628784\n",
      "Train Epoch 5/10 [21120/50000 (42%)] | Loss: 0.6718571186065674\n",
      "Train Epoch 5/10 [21600/50000 (43%)] | Loss: 0.6788583993911743\n",
      "Train Epoch 5/10 [22080/50000 (44%)] | Loss: 0.5317818522453308\n",
      "Train Epoch 5/10 [22560/50000 (45%)] | Loss: 0.2822290062904358\n",
      "Train Epoch 5/10 [23040/50000 (46%)] | Loss: 0.2554332911968231\n",
      "Train Epoch 5/10 [23520/50000 (47%)] | Loss: 0.44387224316596985\n",
      "Train Epoch 5/10 [24000/50000 (48%)] | Loss: 0.310457319021225\n",
      "Train Epoch 5/10 [24480/50000 (49%)] | Loss: 0.5904691815376282\n",
      "Train Epoch 5/10 [24960/50000 (50%)] | Loss: 0.4988577365875244\n",
      "Train Epoch 5/10 [25440/50000 (51%)] | Loss: 0.4009656012058258\n",
      "Train Epoch 5/10 [25920/50000 (52%)] | Loss: 0.4963143467903137\n",
      "Train Epoch 5/10 [26400/50000 (53%)] | Loss: 0.47952139377593994\n",
      "Train Epoch 5/10 [26880/50000 (54%)] | Loss: 0.3515588939189911\n",
      "Train Epoch 5/10 [27360/50000 (55%)] | Loss: 0.48803475499153137\n",
      "Train Epoch 5/10 [27840/50000 (56%)] | Loss: 0.37769755721092224\n",
      "Train Epoch 5/10 [28320/50000 (57%)] | Loss: 0.30256912112236023\n",
      "Train Epoch 5/10 [28800/50000 (58%)] | Loss: 0.5866793990135193\n",
      "Train Epoch 5/10 [29280/50000 (59%)] | Loss: 0.5712881088256836\n",
      "Train Epoch 5/10 [29760/50000 (60%)] | Loss: 0.4009426236152649\n",
      "Train Epoch 5/10 [30240/50000 (60%)] | Loss: 0.5533018112182617\n",
      "Train Epoch 5/10 [30720/50000 (61%)] | Loss: 0.46831849217414856\n",
      "Train Epoch 5/10 [31200/50000 (62%)] | Loss: 0.536879301071167\n",
      "Train Epoch 5/10 [31680/50000 (63%)] | Loss: 0.34494438767433167\n",
      "Train Epoch 5/10 [32160/50000 (64%)] | Loss: 0.4853779971599579\n",
      "Train Epoch 5/10 [32640/50000 (65%)] | Loss: 0.5306647419929504\n",
      "Train Epoch 5/10 [33120/50000 (66%)] | Loss: 0.3900921940803528\n",
      "Train Epoch 5/10 [33600/50000 (67%)] | Loss: 0.22963525354862213\n",
      "Train Epoch 5/10 [34080/50000 (68%)] | Loss: 0.5922657251358032\n",
      "Train Epoch 5/10 [34560/50000 (69%)] | Loss: 0.750458836555481\n",
      "Train Epoch 5/10 [35040/50000 (70%)] | Loss: 0.5336884260177612\n",
      "Train Epoch 5/10 [35520/50000 (71%)] | Loss: 0.413647323846817\n",
      "Train Epoch 5/10 [36000/50000 (72%)] | Loss: 0.6344259977340698\n",
      "Train Epoch 5/10 [36480/50000 (73%)] | Loss: 0.7436551451683044\n",
      "Train Epoch 5/10 [36960/50000 (74%)] | Loss: 0.45967915654182434\n",
      "Train Epoch 5/10 [37440/50000 (75%)] | Loss: 0.4718143343925476\n",
      "Train Epoch 5/10 [37920/50000 (76%)] | Loss: 0.5435757040977478\n",
      "Train Epoch 5/10 [38400/50000 (77%)] | Loss: 0.5093569755554199\n",
      "Train Epoch 5/10 [38880/50000 (78%)] | Loss: 0.802952229976654\n",
      "Train Epoch 5/10 [39360/50000 (79%)] | Loss: 0.6516405940055847\n",
      "Train Epoch 5/10 [39840/50000 (80%)] | Loss: 0.45336273312568665\n",
      "Train Epoch 5/10 [40320/50000 (81%)] | Loss: 0.6680539846420288\n",
      "Train Epoch 5/10 [40800/50000 (82%)] | Loss: 0.3614538908004761\n",
      "Train Epoch 5/10 [41280/50000 (83%)] | Loss: 0.46762242913246155\n",
      "Train Epoch 5/10 [41760/50000 (83%)] | Loss: 0.4784928560256958\n",
      "Train Epoch 5/10 [42240/50000 (84%)] | Loss: 0.49635621905326843\n",
      "Train Epoch 5/10 [42720/50000 (85%)] | Loss: 0.33514994382858276\n",
      "Train Epoch 5/10 [43200/50000 (86%)] | Loss: 0.5679218173027039\n",
      "Train Epoch 5/10 [43680/50000 (87%)] | Loss: 0.7640089392662048\n",
      "Train Epoch 5/10 [44160/50000 (88%)] | Loss: 0.3415136933326721\n",
      "Train Epoch 5/10 [44640/50000 (89%)] | Loss: 0.713295578956604\n",
      "Train Epoch 5/10 [45120/50000 (90%)] | Loss: 0.4544198215007782\n",
      "Train Epoch 5/10 [45600/50000 (91%)] | Loss: 0.5264387726783752\n",
      "Train Epoch 5/10 [46080/50000 (92%)] | Loss: 0.5371637940406799\n",
      "Train Epoch 5/10 [46560/50000 (93%)] | Loss: 0.6120901703834534\n",
      "Train Epoch 5/10 [47040/50000 (94%)] | Loss: 0.40404006838798523\n",
      "Train Epoch 5/10 [47520/50000 (95%)] | Loss: 0.5437049865722656\n",
      "Train Epoch 5/10 [48000/50000 (96%)] | Loss: 0.24689017236232758\n",
      "Train Epoch 5/10 [48480/50000 (97%)] | Loss: 0.9153476357460022\n",
      "Train Epoch 5/10 [48960/50000 (98%)] | Loss: 0.876596987247467\n",
      "Train Epoch 5/10 [49440/50000 (99%)] | Loss: 0.3931458592414856\n",
      "Train Epoch 5/10 [49920/50000 (100%)] | Loss: 0.36648163199424744\n",
      "\n",
      "Train Acc.: [41207/50000 (82%)]\n",
      "Test Acc.:  [ 6779/10000 (68%)]\n",
      "\n",
      "Train Epoch 6/10 [    0/50000 ( 0%)] | Loss: 0.19129043817520142\n",
      "Train Epoch 6/10 [  480/50000 ( 1%)] | Loss: 0.3742569088935852\n",
      "Train Epoch 6/10 [  960/50000 ( 2%)] | Loss: 0.3021809458732605\n",
      "Train Epoch 6/10 [ 1440/50000 ( 3%)] | Loss: 0.3950355350971222\n",
      "Train Epoch 6/10 [ 1920/50000 ( 4%)] | Loss: 0.32653436064720154\n",
      "Train Epoch 6/10 [ 2400/50000 ( 5%)] | Loss: 0.2028156965970993\n",
      "Train Epoch 6/10 [ 2880/50000 ( 6%)] | Loss: 0.28136736154556274\n",
      "Train Epoch 6/10 [ 3360/50000 ( 7%)] | Loss: 0.4248553514480591\n",
      "Train Epoch 6/10 [ 3840/50000 ( 8%)] | Loss: 0.2571314573287964\n",
      "Train Epoch 6/10 [ 4320/50000 ( 9%)] | Loss: 0.22396229207515717\n",
      "Train Epoch 6/10 [ 4800/50000 (10%)] | Loss: 0.5281327366828918\n",
      "Train Epoch 6/10 [ 5280/50000 (11%)] | Loss: 0.4684469699859619\n",
      "Train Epoch 6/10 [ 5760/50000 (12%)] | Loss: 0.32296568155288696\n",
      "Train Epoch 6/10 [ 6240/50000 (12%)] | Loss: 0.3153827488422394\n",
      "Train Epoch 6/10 [ 6720/50000 (13%)] | Loss: 0.5317721366882324\n",
      "Train Epoch 6/10 [ 7200/50000 (14%)] | Loss: 0.5009932518005371\n",
      "Train Epoch 6/10 [ 7680/50000 (15%)] | Loss: 0.1685657501220703\n",
      "Train Epoch 6/10 [ 8160/50000 (16%)] | Loss: 0.21902422606945038\n",
      "Train Epoch 6/10 [ 8640/50000 (17%)] | Loss: 0.28492429852485657\n",
      "Train Epoch 6/10 [ 9120/50000 (18%)] | Loss: 0.2697261571884155\n",
      "Train Epoch 6/10 [ 9600/50000 (19%)] | Loss: 0.29006093740463257\n",
      "Train Epoch 6/10 [10080/50000 (20%)] | Loss: 0.41407084465026855\n",
      "Train Epoch 6/10 [10560/50000 (21%)] | Loss: 0.1878209412097931\n",
      "Train Epoch 6/10 [11040/50000 (22%)] | Loss: 0.27286162972450256\n",
      "Train Epoch 6/10 [11520/50000 (23%)] | Loss: 0.3671693503856659\n",
      "Train Epoch 6/10 [12000/50000 (24%)] | Loss: 0.5015844702720642\n",
      "Train Epoch 6/10 [12480/50000 (25%)] | Loss: 0.48287108540534973\n",
      "Train Epoch 6/10 [12960/50000 (26%)] | Loss: 0.14964738488197327\n",
      "Train Epoch 6/10 [13440/50000 (27%)] | Loss: 0.3719731569290161\n",
      "Train Epoch 6/10 [13920/50000 (28%)] | Loss: 0.401079386472702\n",
      "Train Epoch 6/10 [14400/50000 (29%)] | Loss: 0.20867919921875\n",
      "Train Epoch 6/10 [14880/50000 (30%)] | Loss: 0.1423274278640747\n",
      "Train Epoch 6/10 [15360/50000 (31%)] | Loss: 0.589809775352478\n",
      "Train Epoch 6/10 [15840/50000 (32%)] | Loss: 0.32520607113838196\n",
      "Train Epoch 6/10 [16320/50000 (33%)] | Loss: 0.3400740623474121\n",
      "Train Epoch 6/10 [16800/50000 (34%)] | Loss: 0.23990775644779205\n",
      "Train Epoch 6/10 [17280/50000 (35%)] | Loss: 0.27377399802207947\n",
      "Train Epoch 6/10 [17760/50000 (36%)] | Loss: 0.3412870168685913\n",
      "Train Epoch 6/10 [18240/50000 (36%)] | Loss: 0.5152997970581055\n",
      "Train Epoch 6/10 [18720/50000 (37%)] | Loss: 0.17794008553028107\n",
      "Train Epoch 6/10 [19200/50000 (38%)] | Loss: 0.5579732060432434\n",
      "Train Epoch 6/10 [19680/50000 (39%)] | Loss: 0.23488087952136993\n",
      "Train Epoch 6/10 [20160/50000 (40%)] | Loss: 0.36802738904953003\n",
      "Train Epoch 6/10 [20640/50000 (41%)] | Loss: 0.5697974562644958\n",
      "Train Epoch 6/10 [21120/50000 (42%)] | Loss: 0.55295729637146\n",
      "Train Epoch 6/10 [21600/50000 (43%)] | Loss: 0.4619904160499573\n",
      "Train Epoch 6/10 [22080/50000 (44%)] | Loss: 0.2809232771396637\n",
      "Train Epoch 6/10 [22560/50000 (45%)] | Loss: 0.30746370553970337\n",
      "Train Epoch 6/10 [23040/50000 (46%)] | Loss: 0.373847633600235\n",
      "Train Epoch 6/10 [23520/50000 (47%)] | Loss: 0.567245602607727\n",
      "Train Epoch 6/10 [24000/50000 (48%)] | Loss: 0.3351247310638428\n",
      "Train Epoch 6/10 [24480/50000 (49%)] | Loss: 0.18042486906051636\n",
      "Train Epoch 6/10 [24960/50000 (50%)] | Loss: 0.4475627839565277\n",
      "Train Epoch 6/10 [25440/50000 (51%)] | Loss: 0.27996835112571716\n",
      "Train Epoch 6/10 [25920/50000 (52%)] | Loss: 0.3926898241043091\n",
      "Train Epoch 6/10 [26400/50000 (53%)] | Loss: 0.299605131149292\n",
      "Train Epoch 6/10 [26880/50000 (54%)] | Loss: 0.2735726237297058\n",
      "Train Epoch 6/10 [27360/50000 (55%)] | Loss: 0.35435643792152405\n",
      "Train Epoch 6/10 [27840/50000 (56%)] | Loss: 0.46517154574394226\n",
      "Train Epoch 6/10 [28320/50000 (57%)] | Loss: 0.28561079502105713\n",
      "Train Epoch 6/10 [28800/50000 (58%)] | Loss: 0.36964118480682373\n",
      "Train Epoch 6/10 [29280/50000 (59%)] | Loss: 0.5597646832466125\n",
      "Train Epoch 6/10 [29760/50000 (60%)] | Loss: 0.2697775065898895\n",
      "Train Epoch 6/10 [30240/50000 (60%)] | Loss: 0.35701069235801697\n",
      "Train Epoch 6/10 [30720/50000 (61%)] | Loss: 0.2854236364364624\n",
      "Train Epoch 6/10 [31200/50000 (62%)] | Loss: 0.3965941071510315\n",
      "Train Epoch 6/10 [31680/50000 (63%)] | Loss: 0.23041179776191711\n",
      "Train Epoch 6/10 [32160/50000 (64%)] | Loss: 0.40543821454048157\n",
      "Train Epoch 6/10 [32640/50000 (65%)] | Loss: 0.5668652057647705\n",
      "Train Epoch 6/10 [33120/50000 (66%)] | Loss: 0.4899689853191376\n",
      "Train Epoch 6/10 [33600/50000 (67%)] | Loss: 0.5701593160629272\n",
      "Train Epoch 6/10 [34080/50000 (68%)] | Loss: 0.34372738003730774\n",
      "Train Epoch 6/10 [34560/50000 (69%)] | Loss: 0.3095308542251587\n",
      "Train Epoch 6/10 [35040/50000 (70%)] | Loss: 0.5205516219139099\n",
      "Train Epoch 6/10 [35520/50000 (71%)] | Loss: 0.5199754238128662\n",
      "Train Epoch 6/10 [36000/50000 (72%)] | Loss: 0.4319126307964325\n",
      "Train Epoch 6/10 [36480/50000 (73%)] | Loss: 0.398904025554657\n",
      "Train Epoch 6/10 [36960/50000 (74%)] | Loss: 0.3088163435459137\n",
      "Train Epoch 6/10 [37440/50000 (75%)] | Loss: 0.4304618537425995\n",
      "Train Epoch 6/10 [37920/50000 (76%)] | Loss: 0.3466315269470215\n",
      "Train Epoch 6/10 [38400/50000 (77%)] | Loss: 0.5350606441497803\n",
      "Train Epoch 6/10 [38880/50000 (78%)] | Loss: 0.737363874912262\n",
      "Train Epoch 6/10 [39360/50000 (79%)] | Loss: 0.35514193773269653\n",
      "Train Epoch 6/10 [39840/50000 (80%)] | Loss: 0.21867188811302185\n",
      "Train Epoch 6/10 [40320/50000 (81%)] | Loss: 0.3181080222129822\n",
      "Train Epoch 6/10 [40800/50000 (82%)] | Loss: 0.3326277434825897\n",
      "Train Epoch 6/10 [41280/50000 (83%)] | Loss: 0.2264540046453476\n",
      "Train Epoch 6/10 [41760/50000 (83%)] | Loss: 0.37498417496681213\n",
      "Train Epoch 6/10 [42240/50000 (84%)] | Loss: 0.6152420043945312\n",
      "Train Epoch 6/10 [42720/50000 (85%)] | Loss: 0.2984478771686554\n",
      "Train Epoch 6/10 [43200/50000 (86%)] | Loss: 0.332465261220932\n",
      "Train Epoch 6/10 [43680/50000 (87%)] | Loss: 0.669277012348175\n",
      "Train Epoch 6/10 [44160/50000 (88%)] | Loss: 0.4877999722957611\n",
      "Train Epoch 6/10 [44640/50000 (89%)] | Loss: 0.36581677198410034\n",
      "Train Epoch 6/10 [45120/50000 (90%)] | Loss: 0.55621337890625\n",
      "Train Epoch 6/10 [45600/50000 (91%)] | Loss: 0.407670259475708\n",
      "Train Epoch 6/10 [46080/50000 (92%)] | Loss: 0.4982651174068451\n",
      "Train Epoch 6/10 [46560/50000 (93%)] | Loss: 0.43869146704673767\n",
      "Train Epoch 6/10 [47040/50000 (94%)] | Loss: 0.30073341727256775\n",
      "Train Epoch 6/10 [47520/50000 (95%)] | Loss: 0.5463574528694153\n",
      "Train Epoch 6/10 [48000/50000 (96%)] | Loss: 0.6662415266036987\n",
      "Train Epoch 6/10 [48480/50000 (97%)] | Loss: 0.2992020845413208\n",
      "Train Epoch 6/10 [48960/50000 (98%)] | Loss: 0.612614631652832\n",
      "Train Epoch 6/10 [49440/50000 (99%)] | Loss: 0.7926872968673706\n",
      "Train Epoch 6/10 [49920/50000 (100%)] | Loss: 0.6192798018455505\n",
      "\n",
      "Train Acc.: [43426/50000 (87%)]\n",
      "Test Acc.:  [ 6747/10000 (67%)]\n",
      "\n",
      "Train Epoch 7/10 [    0/50000 ( 0%)] | Loss: 0.11131104826927185\n",
      "Train Epoch 7/10 [  480/50000 ( 1%)] | Loss: 0.43286627531051636\n",
      "Train Epoch 7/10 [  960/50000 ( 2%)] | Loss: 0.1803579479455948\n",
      "Train Epoch 7/10 [ 1440/50000 ( 3%)] | Loss: 0.19822080433368683\n",
      "Train Epoch 7/10 [ 1920/50000 ( 4%)] | Loss: 0.2595459520816803\n",
      "Train Epoch 7/10 [ 2400/50000 ( 5%)] | Loss: 0.08541639894247055\n",
      "Train Epoch 7/10 [ 2880/50000 ( 6%)] | Loss: 0.25154995918273926\n",
      "Train Epoch 7/10 [ 3360/50000 ( 7%)] | Loss: 0.12523046135902405\n",
      "Train Epoch 7/10 [ 3840/50000 ( 8%)] | Loss: 0.21105338633060455\n",
      "Train Epoch 7/10 [ 4320/50000 ( 9%)] | Loss: 0.21011821925640106\n",
      "Train Epoch 7/10 [ 4800/50000 (10%)] | Loss: 0.16256271302700043\n",
      "Train Epoch 7/10 [ 5280/50000 (11%)] | Loss: 0.1179441437125206\n",
      "Train Epoch 7/10 [ 5760/50000 (12%)] | Loss: 0.27497029304504395\n",
      "Train Epoch 7/10 [ 6240/50000 (12%)] | Loss: 0.5011146068572998\n",
      "Train Epoch 7/10 [ 6720/50000 (13%)] | Loss: 0.4589702785015106\n",
      "Train Epoch 7/10 [ 7200/50000 (14%)] | Loss: 0.4581553637981415\n",
      "Train Epoch 7/10 [ 7680/50000 (15%)] | Loss: 0.6675923466682434\n",
      "Train Epoch 7/10 [ 8160/50000 (16%)] | Loss: 0.097528375685215\n",
      "Train Epoch 7/10 [ 8640/50000 (17%)] | Loss: 0.11916514486074448\n",
      "Train Epoch 7/10 [ 9120/50000 (18%)] | Loss: 0.15177017450332642\n",
      "Train Epoch 7/10 [ 9600/50000 (19%)] | Loss: 0.1723884493112564\n",
      "Train Epoch 7/10 [10080/50000 (20%)] | Loss: 0.19757741689682007\n",
      "Train Epoch 7/10 [10560/50000 (21%)] | Loss: 0.23372752964496613\n",
      "Train Epoch 7/10 [11040/50000 (22%)] | Loss: 0.16158469021320343\n",
      "Train Epoch 7/10 [11520/50000 (23%)] | Loss: 0.19773489236831665\n",
      "Train Epoch 7/10 [12000/50000 (24%)] | Loss: 0.20934034883975983\n",
      "Train Epoch 7/10 [12480/50000 (25%)] | Loss: 0.19286362826824188\n",
      "Train Epoch 7/10 [12960/50000 (26%)] | Loss: 0.21961645781993866\n",
      "Train Epoch 7/10 [13440/50000 (27%)] | Loss: 0.27262264490127563\n",
      "Train Epoch 7/10 [13920/50000 (28%)] | Loss: 0.19185872375965118\n",
      "Train Epoch 7/10 [14400/50000 (29%)] | Loss: 0.41117656230926514\n",
      "Train Epoch 7/10 [14880/50000 (30%)] | Loss: 0.3677346110343933\n",
      "Train Epoch 7/10 [15360/50000 (31%)] | Loss: 0.2830903232097626\n",
      "Train Epoch 7/10 [15840/50000 (32%)] | Loss: 0.2764834761619568\n",
      "Train Epoch 7/10 [16320/50000 (33%)] | Loss: 0.28804346919059753\n",
      "Train Epoch 7/10 [16800/50000 (34%)] | Loss: 0.2379513382911682\n",
      "Train Epoch 7/10 [17280/50000 (35%)] | Loss: 0.2571059465408325\n",
      "Train Epoch 7/10 [17760/50000 (36%)] | Loss: 0.1525927037000656\n",
      "Train Epoch 7/10 [18240/50000 (36%)] | Loss: 0.11771084368228912\n",
      "Train Epoch 7/10 [18720/50000 (37%)] | Loss: 0.22058185935020447\n",
      "Train Epoch 7/10 [19200/50000 (38%)] | Loss: 0.4066835343837738\n",
      "Train Epoch 7/10 [19680/50000 (39%)] | Loss: 0.39490094780921936\n",
      "Train Epoch 7/10 [20160/50000 (40%)] | Loss: 0.35583049058914185\n",
      "Train Epoch 7/10 [20640/50000 (41%)] | Loss: 0.20039048790931702\n",
      "Train Epoch 7/10 [21120/50000 (42%)] | Loss: 0.1461937576532364\n",
      "Train Epoch 7/10 [21600/50000 (43%)] | Loss: 0.16138537228107452\n",
      "Train Epoch 7/10 [22080/50000 (44%)] | Loss: 0.2536044716835022\n",
      "Train Epoch 7/10 [22560/50000 (45%)] | Loss: 0.2582480013370514\n",
      "Train Epoch 7/10 [23040/50000 (46%)] | Loss: 0.36529526114463806\n",
      "Train Epoch 7/10 [23520/50000 (47%)] | Loss: 0.29085999727249146\n",
      "Train Epoch 7/10 [24000/50000 (48%)] | Loss: 0.23556675016880035\n",
      "Train Epoch 7/10 [24480/50000 (49%)] | Loss: 0.27934351563453674\n",
      "Train Epoch 7/10 [24960/50000 (50%)] | Loss: 0.2440522015094757\n",
      "Train Epoch 7/10 [25440/50000 (51%)] | Loss: 0.24314041435718536\n",
      "Train Epoch 7/10 [25920/50000 (52%)] | Loss: 0.2868632674217224\n",
      "Train Epoch 7/10 [26400/50000 (53%)] | Loss: 0.7424443960189819\n",
      "Train Epoch 7/10 [26880/50000 (54%)] | Loss: 0.28601938486099243\n",
      "Train Epoch 7/10 [27360/50000 (55%)] | Loss: 0.3538804054260254\n",
      "Train Epoch 7/10 [27840/50000 (56%)] | Loss: 0.3287006914615631\n",
      "Train Epoch 7/10 [28320/50000 (57%)] | Loss: 0.22384051978588104\n",
      "Train Epoch 7/10 [28800/50000 (58%)] | Loss: 0.19370880722999573\n",
      "Train Epoch 7/10 [29280/50000 (59%)] | Loss: 0.44510260224342346\n",
      "Train Epoch 7/10 [29760/50000 (60%)] | Loss: 0.14174705743789673\n",
      "Train Epoch 7/10 [30240/50000 (60%)] | Loss: 0.340133935213089\n",
      "Train Epoch 7/10 [30720/50000 (61%)] | Loss: 0.07275903224945068\n",
      "Train Epoch 7/10 [31200/50000 (62%)] | Loss: 0.4306780993938446\n",
      "Train Epoch 7/10 [31680/50000 (63%)] | Loss: 0.2830609977245331\n",
      "Train Epoch 7/10 [32160/50000 (64%)] | Loss: 0.5019028186798096\n",
      "Train Epoch 7/10 [32640/50000 (65%)] | Loss: 0.4038561284542084\n",
      "Train Epoch 7/10 [33120/50000 (66%)] | Loss: 0.3104662001132965\n",
      "Train Epoch 7/10 [33600/50000 (67%)] | Loss: 0.6690002679824829\n",
      "Train Epoch 7/10 [34080/50000 (68%)] | Loss: 0.4405818283557892\n",
      "Train Epoch 7/10 [34560/50000 (69%)] | Loss: 0.19519773125648499\n",
      "Train Epoch 7/10 [35040/50000 (70%)] | Loss: 0.21821074187755585\n",
      "Train Epoch 7/10 [35520/50000 (71%)] | Loss: 0.4529770314693451\n",
      "Train Epoch 7/10 [36000/50000 (72%)] | Loss: 0.41633322834968567\n",
      "Train Epoch 7/10 [36480/50000 (73%)] | Loss: 0.29943129420280457\n",
      "Train Epoch 7/10 [36960/50000 (74%)] | Loss: 0.3128310441970825\n",
      "Train Epoch 7/10 [37440/50000 (75%)] | Loss: 0.32846763730049133\n",
      "Train Epoch 7/10 [37920/50000 (76%)] | Loss: 0.2113010734319687\n",
      "Train Epoch 7/10 [38400/50000 (77%)] | Loss: 0.12346745282411575\n",
      "Train Epoch 7/10 [38880/50000 (78%)] | Loss: 0.12855616211891174\n",
      "Train Epoch 7/10 [39360/50000 (79%)] | Loss: 0.13857920467853546\n",
      "Train Epoch 7/10 [39840/50000 (80%)] | Loss: 0.28054308891296387\n",
      "Train Epoch 7/10 [40320/50000 (81%)] | Loss: 0.21510261297225952\n",
      "Train Epoch 7/10 [40800/50000 (82%)] | Loss: 0.30475589632987976\n",
      "Train Epoch 7/10 [41280/50000 (83%)] | Loss: 0.5964265465736389\n",
      "Train Epoch 7/10 [41760/50000 (83%)] | Loss: 0.4163200855255127\n",
      "Train Epoch 7/10 [42240/50000 (84%)] | Loss: 0.18804681301116943\n",
      "Train Epoch 7/10 [42720/50000 (85%)] | Loss: 0.22453197836875916\n",
      "Train Epoch 7/10 [43200/50000 (86%)] | Loss: 0.03994440287351608\n",
      "Train Epoch 7/10 [43680/50000 (87%)] | Loss: 0.35276058316230774\n",
      "Train Epoch 7/10 [44160/50000 (88%)] | Loss: 0.11680655181407928\n",
      "Train Epoch 7/10 [44640/50000 (89%)] | Loss: 0.3634694814682007\n",
      "Train Epoch 7/10 [45120/50000 (90%)] | Loss: 0.5268816947937012\n",
      "Train Epoch 7/10 [45600/50000 (91%)] | Loss: 0.3134245276451111\n",
      "Train Epoch 7/10 [46080/50000 (92%)] | Loss: 0.47866982221603394\n",
      "Train Epoch 7/10 [46560/50000 (93%)] | Loss: 0.12565264105796814\n",
      "Train Epoch 7/10 [47040/50000 (94%)] | Loss: 0.14869141578674316\n",
      "Train Epoch 7/10 [47520/50000 (95%)] | Loss: 0.27336156368255615\n",
      "Train Epoch 7/10 [48000/50000 (96%)] | Loss: 0.3858907222747803\n",
      "Train Epoch 7/10 [48480/50000 (97%)] | Loss: 0.40875568985939026\n",
      "Train Epoch 7/10 [48960/50000 (98%)] | Loss: 0.5171281099319458\n",
      "Train Epoch 7/10 [49440/50000 (99%)] | Loss: 0.36468562483787537\n",
      "Train Epoch 7/10 [49920/50000 (100%)] | Loss: 0.32451921701431274\n",
      "\n",
      "Train Acc.: [45088/50000 (90%)]\n",
      "Test Acc.:  [ 6647/10000 (66%)]\n",
      "\n",
      "Train Epoch 8/10 [    0/50000 ( 0%)] | Loss: 0.3363511264324188\n",
      "Train Epoch 8/10 [  480/50000 ( 1%)] | Loss: 0.30772075057029724\n",
      "Train Epoch 8/10 [  960/50000 ( 2%)] | Loss: 0.13468684256076813\n",
      "Train Epoch 8/10 [ 1440/50000 ( 3%)] | Loss: 0.09578782320022583\n",
      "Train Epoch 8/10 [ 1920/50000 ( 4%)] | Loss: 0.13373301923274994\n",
      "Train Epoch 8/10 [ 2400/50000 ( 5%)] | Loss: 0.12799376249313354\n",
      "Train Epoch 8/10 [ 2880/50000 ( 6%)] | Loss: 0.2199791967868805\n",
      "Train Epoch 8/10 [ 3360/50000 ( 7%)] | Loss: 0.062102172523736954\n",
      "Train Epoch 8/10 [ 3840/50000 ( 8%)] | Loss: 0.12688888609409332\n",
      "Train Epoch 8/10 [ 4320/50000 ( 9%)] | Loss: 0.17585667967796326\n",
      "Train Epoch 8/10 [ 4800/50000 (10%)] | Loss: 0.13065436482429504\n",
      "Train Epoch 8/10 [ 5280/50000 (11%)] | Loss: 0.13120782375335693\n",
      "Train Epoch 8/10 [ 5760/50000 (12%)] | Loss: 0.06070806086063385\n",
      "Train Epoch 8/10 [ 6240/50000 (12%)] | Loss: 0.18261781334877014\n",
      "Train Epoch 8/10 [ 6720/50000 (13%)] | Loss: 0.088838130235672\n",
      "Train Epoch 8/10 [ 7200/50000 (14%)] | Loss: 0.13348659873008728\n",
      "Train Epoch 8/10 [ 7680/50000 (15%)] | Loss: 0.2721858322620392\n",
      "Train Epoch 8/10 [ 8160/50000 (16%)] | Loss: 0.21617434918880463\n",
      "Train Epoch 8/10 [ 8640/50000 (17%)] | Loss: 0.3739047348499298\n",
      "Train Epoch 8/10 [ 9120/50000 (18%)] | Loss: 0.24361804127693176\n",
      "Train Epoch 8/10 [ 9600/50000 (19%)] | Loss: 0.15346574783325195\n",
      "Train Epoch 8/10 [10080/50000 (20%)] | Loss: 0.2062826305627823\n",
      "Train Epoch 8/10 [10560/50000 (21%)] | Loss: 0.17982253432273865\n",
      "Train Epoch 8/10 [11040/50000 (22%)] | Loss: 0.2082359790802002\n",
      "Train Epoch 8/10 [11520/50000 (23%)] | Loss: 0.11519046872854233\n",
      "Train Epoch 8/10 [12000/50000 (24%)] | Loss: 0.11867266148328781\n",
      "Train Epoch 8/10 [12480/50000 (25%)] | Loss: 0.24290432035923004\n",
      "Train Epoch 8/10 [12960/50000 (26%)] | Loss: 0.1626354306936264\n",
      "Train Epoch 8/10 [13440/50000 (27%)] | Loss: 0.08870742470026016\n",
      "Train Epoch 8/10 [13920/50000 (28%)] | Loss: 0.48132964968681335\n",
      "Train Epoch 8/10 [14400/50000 (29%)] | Loss: 0.37012749910354614\n",
      "Train Epoch 8/10 [14880/50000 (30%)] | Loss: 0.11523924022912979\n",
      "Train Epoch 8/10 [15360/50000 (31%)] | Loss: 0.1616748571395874\n",
      "Train Epoch 8/10 [15840/50000 (32%)] | Loss: 0.11726634949445724\n",
      "Train Epoch 8/10 [16320/50000 (33%)] | Loss: 0.17721958458423615\n",
      "Train Epoch 8/10 [16800/50000 (34%)] | Loss: 0.2280581146478653\n",
      "Train Epoch 8/10 [17280/50000 (35%)] | Loss: 0.020730124786496162\n",
      "Train Epoch 8/10 [17760/50000 (36%)] | Loss: 0.18906685709953308\n",
      "Train Epoch 8/10 [18240/50000 (36%)] | Loss: 0.10424172133207321\n",
      "Train Epoch 8/10 [18720/50000 (37%)] | Loss: 0.04226244240999222\n",
      "Train Epoch 8/10 [19200/50000 (38%)] | Loss: 0.16415782272815704\n",
      "Train Epoch 8/10 [19680/50000 (39%)] | Loss: 0.10445430874824524\n",
      "Train Epoch 8/10 [20160/50000 (40%)] | Loss: 0.15383441746234894\n",
      "Train Epoch 8/10 [20640/50000 (41%)] | Loss: 0.06373172998428345\n",
      "Train Epoch 8/10 [21120/50000 (42%)] | Loss: 0.13662737607955933\n",
      "Train Epoch 8/10 [21600/50000 (43%)] | Loss: 0.34579601883888245\n",
      "Train Epoch 8/10 [22080/50000 (44%)] | Loss: 0.1637650430202484\n",
      "Train Epoch 8/10 [22560/50000 (45%)] | Loss: 0.20573677122592926\n",
      "Train Epoch 8/10 [23040/50000 (46%)] | Loss: 0.21263475716114044\n",
      "Train Epoch 8/10 [23520/50000 (47%)] | Loss: 0.16459068655967712\n",
      "Train Epoch 8/10 [24000/50000 (48%)] | Loss: 0.0803503468632698\n",
      "Train Epoch 8/10 [24480/50000 (49%)] | Loss: 0.4099311828613281\n",
      "Train Epoch 8/10 [24960/50000 (50%)] | Loss: 0.10290630161762238\n",
      "Train Epoch 8/10 [25440/50000 (51%)] | Loss: 0.129813551902771\n",
      "Train Epoch 8/10 [25920/50000 (52%)] | Loss: 0.3922327160835266\n",
      "Train Epoch 8/10 [26400/50000 (53%)] | Loss: 0.36457347869873047\n",
      "Train Epoch 8/10 [26880/50000 (54%)] | Loss: 0.21446387469768524\n",
      "Train Epoch 8/10 [27360/50000 (55%)] | Loss: 0.38432809710502625\n",
      "Train Epoch 8/10 [27840/50000 (56%)] | Loss: 0.43215861916542053\n",
      "Train Epoch 8/10 [28320/50000 (57%)] | Loss: 0.17259156703948975\n",
      "Train Epoch 8/10 [28800/50000 (58%)] | Loss: 0.12309882044792175\n",
      "Train Epoch 8/10 [29280/50000 (59%)] | Loss: 0.5057651996612549\n",
      "Train Epoch 8/10 [29760/50000 (60%)] | Loss: 0.16532644629478455\n",
      "Train Epoch 8/10 [30240/50000 (60%)] | Loss: 0.12920978665351868\n",
      "Train Epoch 8/10 [30720/50000 (61%)] | Loss: 0.2384956330060959\n",
      "Train Epoch 8/10 [31200/50000 (62%)] | Loss: 0.12773865461349487\n",
      "Train Epoch 8/10 [31680/50000 (63%)] | Loss: 0.13465823233127594\n",
      "Train Epoch 8/10 [32160/50000 (64%)] | Loss: 0.043506186455488205\n",
      "Train Epoch 8/10 [32640/50000 (65%)] | Loss: 0.16670309007167816\n",
      "Train Epoch 8/10 [33120/50000 (66%)] | Loss: 0.11716337502002716\n",
      "Train Epoch 8/10 [33600/50000 (67%)] | Loss: 0.22795644402503967\n",
      "Train Epoch 8/10 [34080/50000 (68%)] | Loss: 0.30252498388290405\n",
      "Train Epoch 8/10 [34560/50000 (69%)] | Loss: 0.16940535604953766\n",
      "Train Epoch 8/10 [35040/50000 (70%)] | Loss: 0.11710740625858307\n",
      "Train Epoch 8/10 [35520/50000 (71%)] | Loss: 0.12063085287809372\n",
      "Train Epoch 8/10 [36000/50000 (72%)] | Loss: 0.018566997721791267\n",
      "Train Epoch 8/10 [36480/50000 (73%)] | Loss: 0.1620393842458725\n",
      "Train Epoch 8/10 [36960/50000 (74%)] | Loss: 0.37874817848205566\n",
      "Train Epoch 8/10 [37440/50000 (75%)] | Loss: 0.4231422245502472\n",
      "Train Epoch 8/10 [37920/50000 (76%)] | Loss: 0.238999143242836\n",
      "Train Epoch 8/10 [38400/50000 (77%)] | Loss: 0.33883336186408997\n",
      "Train Epoch 8/10 [38880/50000 (78%)] | Loss: 0.16834761202335358\n",
      "Train Epoch 8/10 [39360/50000 (79%)] | Loss: 0.2332027703523636\n",
      "Train Epoch 8/10 [39840/50000 (80%)] | Loss: 0.2408786416053772\n",
      "Train Epoch 8/10 [40320/50000 (81%)] | Loss: 0.11096522212028503\n",
      "Train Epoch 8/10 [40800/50000 (82%)] | Loss: 0.3056601881980896\n",
      "Train Epoch 8/10 [41280/50000 (83%)] | Loss: 0.08785215020179749\n",
      "Train Epoch 8/10 [41760/50000 (83%)] | Loss: 0.3295084536075592\n",
      "Train Epoch 8/10 [42240/50000 (84%)] | Loss: 0.2641785740852356\n",
      "Train Epoch 8/10 [42720/50000 (85%)] | Loss: 0.12977837026119232\n",
      "Train Epoch 8/10 [43200/50000 (86%)] | Loss: 0.22098806500434875\n",
      "Train Epoch 8/10 [43680/50000 (87%)] | Loss: 0.24304825067520142\n",
      "Train Epoch 8/10 [44160/50000 (88%)] | Loss: 0.17420536279678345\n",
      "Train Epoch 8/10 [44640/50000 (89%)] | Loss: 0.19419555366039276\n",
      "Train Epoch 8/10 [45120/50000 (90%)] | Loss: 0.1380223035812378\n",
      "Train Epoch 8/10 [45600/50000 (91%)] | Loss: 0.24560190737247467\n",
      "Train Epoch 8/10 [46080/50000 (92%)] | Loss: 0.20323242247104645\n",
      "Train Epoch 8/10 [46560/50000 (93%)] | Loss: 0.23399288952350616\n",
      "Train Epoch 8/10 [47040/50000 (94%)] | Loss: 0.3543529510498047\n",
      "Train Epoch 8/10 [47520/50000 (95%)] | Loss: 0.32969868183135986\n",
      "Train Epoch 8/10 [48000/50000 (96%)] | Loss: 0.1609143316745758\n",
      "Train Epoch 8/10 [48480/50000 (97%)] | Loss: 0.1823459416627884\n",
      "Train Epoch 8/10 [48960/50000 (98%)] | Loss: 0.2370644062757492\n",
      "Train Epoch 8/10 [49440/50000 (99%)] | Loss: 0.35720959305763245\n",
      "Train Epoch 8/10 [49920/50000 (100%)] | Loss: 0.1680179387331009\n",
      "\n",
      "Train Acc.: [46273/50000 (93%)]\n",
      "Test Acc.:  [ 6761/10000 (68%)]\n",
      "\n",
      "Train Epoch 9/10 [    0/50000 ( 0%)] | Loss: 0.08543143421411514\n",
      "Train Epoch 9/10 [  480/50000 ( 1%)] | Loss: 0.08200818300247192\n",
      "Train Epoch 9/10 [  960/50000 ( 2%)] | Loss: 0.04203672707080841\n",
      "Train Epoch 9/10 [ 1440/50000 ( 3%)] | Loss: 0.3816165328025818\n",
      "Train Epoch 9/10 [ 1920/50000 ( 4%)] | Loss: 0.11324302107095718\n",
      "Train Epoch 9/10 [ 2400/50000 ( 5%)] | Loss: 0.15771037340164185\n",
      "Train Epoch 9/10 [ 2880/50000 ( 6%)] | Loss: 0.07917630672454834\n",
      "Train Epoch 9/10 [ 3360/50000 ( 7%)] | Loss: 0.06835995614528656\n",
      "Train Epoch 9/10 [ 3840/50000 ( 8%)] | Loss: 0.014358710497617722\n",
      "Train Epoch 9/10 [ 4320/50000 ( 9%)] | Loss: 0.2297055870294571\n",
      "Train Epoch 9/10 [ 4800/50000 (10%)] | Loss: 0.2679636776447296\n",
      "Train Epoch 9/10 [ 5280/50000 (11%)] | Loss: 0.2146109789609909\n",
      "Train Epoch 9/10 [ 5760/50000 (12%)] | Loss: 0.07206610590219498\n",
      "Train Epoch 9/10 [ 6240/50000 (12%)] | Loss: 0.0663333460688591\n",
      "Train Epoch 9/10 [ 6720/50000 (13%)] | Loss: 0.11946529150009155\n",
      "Train Epoch 9/10 [ 7200/50000 (14%)] | Loss: 0.13209162652492523\n",
      "Train Epoch 9/10 [ 7680/50000 (15%)] | Loss: 0.013555060140788555\n",
      "Train Epoch 9/10 [ 8160/50000 (16%)] | Loss: 0.05658923462033272\n",
      "Train Epoch 9/10 [ 8640/50000 (17%)] | Loss: 0.16453835368156433\n",
      "Train Epoch 9/10 [ 9120/50000 (18%)] | Loss: 0.21199534833431244\n",
      "Train Epoch 9/10 [ 9600/50000 (19%)] | Loss: 0.3076167106628418\n",
      "Train Epoch 9/10 [10080/50000 (20%)] | Loss: 0.17706704139709473\n",
      "Train Epoch 9/10 [10560/50000 (21%)] | Loss: 0.08366895467042923\n",
      "Train Epoch 9/10 [11040/50000 (22%)] | Loss: 0.28636422753334045\n",
      "Train Epoch 9/10 [11520/50000 (23%)] | Loss: 0.05153322592377663\n",
      "Train Epoch 9/10 [12000/50000 (24%)] | Loss: 0.020244017243385315\n",
      "Train Epoch 9/10 [12480/50000 (25%)] | Loss: 0.07894328236579895\n",
      "Train Epoch 9/10 [12960/50000 (26%)] | Loss: 0.13880829513072968\n",
      "Train Epoch 9/10 [13440/50000 (27%)] | Loss: 0.03850281611084938\n",
      "Train Epoch 9/10 [13920/50000 (28%)] | Loss: 0.199296772480011\n",
      "Train Epoch 9/10 [14400/50000 (29%)] | Loss: 0.31957679986953735\n",
      "Train Epoch 9/10 [14880/50000 (30%)] | Loss: 0.16038306057453156\n",
      "Train Epoch 9/10 [15360/50000 (31%)] | Loss: 0.35360854864120483\n",
      "Train Epoch 9/10 [15840/50000 (32%)] | Loss: 0.06886237114667892\n",
      "Train Epoch 9/10 [16320/50000 (33%)] | Loss: 0.10210680961608887\n",
      "Train Epoch 9/10 [16800/50000 (34%)] | Loss: 0.04502945393323898\n",
      "Train Epoch 9/10 [17280/50000 (35%)] | Loss: 0.13199873268604279\n",
      "Train Epoch 9/10 [17760/50000 (36%)] | Loss: 0.028218906372785568\n",
      "Train Epoch 9/10 [18240/50000 (36%)] | Loss: 0.3573443591594696\n",
      "Train Epoch 9/10 [18720/50000 (37%)] | Loss: 0.08377932012081146\n",
      "Train Epoch 9/10 [19200/50000 (38%)] | Loss: 0.176271453499794\n",
      "Train Epoch 9/10 [19680/50000 (39%)] | Loss: 0.11736004799604416\n",
      "Train Epoch 9/10 [20160/50000 (40%)] | Loss: 0.03744577243924141\n",
      "Train Epoch 9/10 [20640/50000 (41%)] | Loss: 0.07654225826263428\n",
      "Train Epoch 9/10 [21120/50000 (42%)] | Loss: 0.12921638786792755\n",
      "Train Epoch 9/10 [21600/50000 (43%)] | Loss: 0.20282655954360962\n",
      "Train Epoch 9/10 [22080/50000 (44%)] | Loss: 0.01590195670723915\n",
      "Train Epoch 9/10 [22560/50000 (45%)] | Loss: 0.28223949670791626\n",
      "Train Epoch 9/10 [23040/50000 (46%)] | Loss: 0.2263459712266922\n",
      "Train Epoch 9/10 [23520/50000 (47%)] | Loss: 0.06883462518453598\n",
      "Train Epoch 9/10 [24000/50000 (48%)] | Loss: 0.18676556646823883\n",
      "Train Epoch 9/10 [24480/50000 (49%)] | Loss: 0.15289217233657837\n",
      "Train Epoch 9/10 [24960/50000 (50%)] | Loss: 0.11033764481544495\n",
      "Train Epoch 9/10 [25440/50000 (51%)] | Loss: 0.4397069811820984\n",
      "Train Epoch 9/10 [25920/50000 (52%)] | Loss: 0.1315966546535492\n",
      "Train Epoch 9/10 [26400/50000 (53%)] | Loss: 0.07002382725477219\n",
      "Train Epoch 9/10 [26880/50000 (54%)] | Loss: 0.047596078366041183\n",
      "Train Epoch 9/10 [27360/50000 (55%)] | Loss: 0.09161033481359482\n",
      "Train Epoch 9/10 [27840/50000 (56%)] | Loss: 0.19480937719345093\n",
      "Train Epoch 9/10 [28320/50000 (57%)] | Loss: 0.18476174771785736\n",
      "Train Epoch 9/10 [28800/50000 (58%)] | Loss: 0.11251699924468994\n",
      "Train Epoch 9/10 [29280/50000 (59%)] | Loss: 0.1902237981557846\n",
      "Train Epoch 9/10 [29760/50000 (60%)] | Loss: 0.15470702946186066\n",
      "Train Epoch 9/10 [30240/50000 (60%)] | Loss: 0.06304062157869339\n",
      "Train Epoch 9/10 [30720/50000 (61%)] | Loss: 0.1834125816822052\n",
      "Train Epoch 9/10 [31200/50000 (62%)] | Loss: 0.10104499757289886\n",
      "Train Epoch 9/10 [31680/50000 (63%)] | Loss: 0.24160265922546387\n",
      "Train Epoch 9/10 [32160/50000 (64%)] | Loss: 0.06342966109514236\n",
      "Train Epoch 9/10 [32640/50000 (65%)] | Loss: 0.10750061273574829\n",
      "Train Epoch 9/10 [33120/50000 (66%)] | Loss: 0.03177060931921005\n",
      "Train Epoch 9/10 [33600/50000 (67%)] | Loss: 0.41898536682128906\n",
      "Train Epoch 9/10 [34080/50000 (68%)] | Loss: 0.23700787127017975\n",
      "Train Epoch 9/10 [34560/50000 (69%)] | Loss: 0.07644935697317123\n",
      "Train Epoch 9/10 [35040/50000 (70%)] | Loss: 0.17011164128780365\n",
      "Train Epoch 9/10 [35520/50000 (71%)] | Loss: 0.10247541964054108\n",
      "Train Epoch 9/10 [36000/50000 (72%)] | Loss: 0.26325318217277527\n",
      "Train Epoch 9/10 [36480/50000 (73%)] | Loss: 0.2156302034854889\n",
      "Train Epoch 9/10 [36960/50000 (74%)] | Loss: 0.10874765366315842\n",
      "Train Epoch 9/10 [37440/50000 (75%)] | Loss: 0.2330864816904068\n",
      "Train Epoch 9/10 [37920/50000 (76%)] | Loss: 0.12347310036420822\n",
      "Train Epoch 9/10 [38400/50000 (77%)] | Loss: 0.10421290248632431\n",
      "Train Epoch 9/10 [38880/50000 (78%)] | Loss: 0.10928817093372345\n",
      "Train Epoch 9/10 [39360/50000 (79%)] | Loss: 0.12725189328193665\n",
      "Train Epoch 9/10 [39840/50000 (80%)] | Loss: 0.007566077169030905\n",
      "Train Epoch 9/10 [40320/50000 (81%)] | Loss: 0.15794898569583893\n",
      "Train Epoch 9/10 [40800/50000 (82%)] | Loss: 0.17163464426994324\n",
      "Train Epoch 9/10 [41280/50000 (83%)] | Loss: 0.15373024344444275\n",
      "Train Epoch 9/10 [41760/50000 (83%)] | Loss: 0.5127796530723572\n",
      "Train Epoch 9/10 [42240/50000 (84%)] | Loss: 0.24885648488998413\n",
      "Train Epoch 9/10 [42720/50000 (85%)] | Loss: 0.46377328038215637\n",
      "Train Epoch 9/10 [43200/50000 (86%)] | Loss: 0.26612555980682373\n",
      "Train Epoch 9/10 [43680/50000 (87%)] | Loss: 0.08996620774269104\n",
      "Train Epoch 9/10 [44160/50000 (88%)] | Loss: 0.24128210544586182\n",
      "Train Epoch 9/10 [44640/50000 (89%)] | Loss: 0.13059058785438538\n",
      "Train Epoch 9/10 [45120/50000 (90%)] | Loss: 0.05259677767753601\n",
      "Train Epoch 9/10 [45600/50000 (91%)] | Loss: 0.3433089554309845\n",
      "Train Epoch 9/10 [46080/50000 (92%)] | Loss: 0.14597246050834656\n",
      "Train Epoch 9/10 [46560/50000 (93%)] | Loss: 0.0906250849366188\n",
      "Train Epoch 9/10 [47040/50000 (94%)] | Loss: 0.10096806287765503\n",
      "Train Epoch 9/10 [47520/50000 (95%)] | Loss: 0.4325874149799347\n",
      "Train Epoch 9/10 [48000/50000 (96%)] | Loss: 0.20126214623451233\n",
      "Train Epoch 9/10 [48480/50000 (97%)] | Loss: 0.46896839141845703\n",
      "Train Epoch 9/10 [48960/50000 (98%)] | Loss: 0.23847690224647522\n",
      "Train Epoch 9/10 [49440/50000 (99%)] | Loss: 0.17298975586891174\n",
      "Train Epoch 9/10 [49920/50000 (100%)] | Loss: 0.10478977113962173\n",
      "\n",
      "Train Acc.: [47068/50000 (94%)]\n",
      "Test Acc.:  [ 6727/10000 (67%)]\n",
      "\n",
      "Train Epoch 10/10 [    0/50000 ( 0%)] | Loss: 0.23284661769866943\n",
      "Train Epoch 10/10 [  480/50000 ( 1%)] | Loss: 0.0417807437479496\n",
      "Train Epoch 10/10 [  960/50000 ( 2%)] | Loss: 0.07216136902570724\n",
      "Train Epoch 10/10 [ 1440/50000 ( 3%)] | Loss: 0.021588146686553955\n",
      "Train Epoch 10/10 [ 1920/50000 ( 4%)] | Loss: 0.03505392000079155\n",
      "Train Epoch 10/10 [ 2400/50000 ( 5%)] | Loss: 0.046153753995895386\n",
      "Train Epoch 10/10 [ 2880/50000 ( 6%)] | Loss: 0.15842577815055847\n",
      "Train Epoch 10/10 [ 3360/50000 ( 7%)] | Loss: 0.1196635439991951\n",
      "Train Epoch 10/10 [ 3840/50000 ( 8%)] | Loss: 0.17693136632442474\n",
      "Train Epoch 10/10 [ 4320/50000 ( 9%)] | Loss: 0.06692101806402206\n",
      "Train Epoch 10/10 [ 4800/50000 (10%)] | Loss: 0.2302226424217224\n",
      "Train Epoch 10/10 [ 5280/50000 (11%)] | Loss: 0.04798046126961708\n",
      "Train Epoch 10/10 [ 5760/50000 (12%)] | Loss: 0.23201453685760498\n",
      "Train Epoch 10/10 [ 6240/50000 (12%)] | Loss: 0.15089969336986542\n",
      "Train Epoch 10/10 [ 6720/50000 (13%)] | Loss: 0.041207727044820786\n",
      "Train Epoch 10/10 [ 7200/50000 (14%)] | Loss: 0.07302772998809814\n",
      "Train Epoch 10/10 [ 7680/50000 (15%)] | Loss: 0.1315799504518509\n",
      "Train Epoch 10/10 [ 8160/50000 (16%)] | Loss: 0.039708610624074936\n",
      "Train Epoch 10/10 [ 8640/50000 (17%)] | Loss: 0.08631402999162674\n",
      "Train Epoch 10/10 [ 9120/50000 (18%)] | Loss: 0.054889924824237823\n",
      "Train Epoch 10/10 [ 9600/50000 (19%)] | Loss: 0.029548872262239456\n",
      "Train Epoch 10/10 [10080/50000 (20%)] | Loss: 0.023450827226042747\n",
      "Train Epoch 10/10 [10560/50000 (21%)] | Loss: 0.08733517676591873\n",
      "Train Epoch 10/10 [11040/50000 (22%)] | Loss: 0.17778576910495758\n",
      "Train Epoch 10/10 [11520/50000 (23%)] | Loss: 0.11802241206169128\n",
      "Train Epoch 10/10 [12000/50000 (24%)] | Loss: 0.12930119037628174\n",
      "Train Epoch 10/10 [12480/50000 (25%)] | Loss: 0.10367743670940399\n",
      "Train Epoch 10/10 [12960/50000 (26%)] | Loss: 0.03751596063375473\n",
      "Train Epoch 10/10 [13440/50000 (27%)] | Loss: 0.052713342010974884\n",
      "Train Epoch 10/10 [13920/50000 (28%)] | Loss: 0.1622464507818222\n",
      "Train Epoch 10/10 [14400/50000 (29%)] | Loss: 0.22276221215724945\n",
      "Train Epoch 10/10 [14880/50000 (30%)] | Loss: 0.06310311704874039\n",
      "Train Epoch 10/10 [15360/50000 (31%)] | Loss: 0.04216931015253067\n",
      "Train Epoch 10/10 [15840/50000 (32%)] | Loss: 0.1893835961818695\n",
      "Train Epoch 10/10 [16320/50000 (33%)] | Loss: 0.08819855749607086\n",
      "Train Epoch 10/10 [16800/50000 (34%)] | Loss: 0.1333407461643219\n",
      "Train Epoch 10/10 [17280/50000 (35%)] | Loss: 0.41918280720710754\n",
      "Train Epoch 10/10 [17760/50000 (36%)] | Loss: 0.06031781807541847\n",
      "Train Epoch 10/10 [18240/50000 (36%)] | Loss: 0.08494237065315247\n",
      "Train Epoch 10/10 [18720/50000 (37%)] | Loss: 0.15182121098041534\n",
      "Train Epoch 10/10 [19200/50000 (38%)] | Loss: 0.13518592715263367\n",
      "Train Epoch 10/10 [19680/50000 (39%)] | Loss: 0.08433153480291367\n",
      "Train Epoch 10/10 [20160/50000 (40%)] | Loss: 0.06600601971149445\n",
      "Train Epoch 10/10 [20640/50000 (41%)] | Loss: 0.06870479881763458\n",
      "Train Epoch 10/10 [21120/50000 (42%)] | Loss: 0.26533934473991394\n",
      "Train Epoch 10/10 [21600/50000 (43%)] | Loss: 0.1491047590970993\n",
      "Train Epoch 10/10 [22080/50000 (44%)] | Loss: 0.05524297431111336\n",
      "Train Epoch 10/10 [22560/50000 (45%)] | Loss: 0.0850849375128746\n",
      "Train Epoch 10/10 [23040/50000 (46%)] | Loss: 0.7329637408256531\n",
      "Train Epoch 10/10 [23520/50000 (47%)] | Loss: 0.19136963784694672\n",
      "Train Epoch 10/10 [24000/50000 (48%)] | Loss: 0.09542545676231384\n",
      "Train Epoch 10/10 [24480/50000 (49%)] | Loss: 0.1835937649011612\n",
      "Train Epoch 10/10 [24960/50000 (50%)] | Loss: 0.07018844038248062\n",
      "Train Epoch 10/10 [25440/50000 (51%)] | Loss: 0.042423222213983536\n",
      "Train Epoch 10/10 [25920/50000 (52%)] | Loss: 0.12685059010982513\n",
      "Train Epoch 10/10 [26400/50000 (53%)] | Loss: 0.12428443878889084\n",
      "Train Epoch 10/10 [26880/50000 (54%)] | Loss: 0.1037643775343895\n",
      "Train Epoch 10/10 [27360/50000 (55%)] | Loss: 0.01541952695697546\n",
      "Train Epoch 10/10 [27840/50000 (56%)] | Loss: 0.3704301714897156\n",
      "Train Epoch 10/10 [28320/50000 (57%)] | Loss: 0.0870758444070816\n",
      "Train Epoch 10/10 [28800/50000 (58%)] | Loss: 0.0653398334980011\n",
      "Train Epoch 10/10 [29280/50000 (59%)] | Loss: 0.03987150639295578\n",
      "Train Epoch 10/10 [29760/50000 (60%)] | Loss: 0.07730376720428467\n",
      "Train Epoch 10/10 [30240/50000 (60%)] | Loss: 0.25815075635910034\n",
      "Train Epoch 10/10 [30720/50000 (61%)] | Loss: 0.1753714233636856\n",
      "Train Epoch 10/10 [31200/50000 (62%)] | Loss: 0.05629279464483261\n",
      "Train Epoch 10/10 [31680/50000 (63%)] | Loss: 0.20572695136070251\n",
      "Train Epoch 10/10 [32160/50000 (64%)] | Loss: 0.11128273606300354\n",
      "Train Epoch 10/10 [32640/50000 (65%)] | Loss: 0.15377362072467804\n",
      "Train Epoch 10/10 [33120/50000 (66%)] | Loss: 0.1328713297843933\n",
      "Train Epoch 10/10 [33600/50000 (67%)] | Loss: 0.5431520938873291\n",
      "Train Epoch 10/10 [34080/50000 (68%)] | Loss: 0.007791704032570124\n",
      "Train Epoch 10/10 [34560/50000 (69%)] | Loss: 0.0746784508228302\n",
      "Train Epoch 10/10 [35040/50000 (70%)] | Loss: 0.2385571300983429\n",
      "Train Epoch 10/10 [35520/50000 (71%)] | Loss: 0.27851933240890503\n",
      "Train Epoch 10/10 [36000/50000 (72%)] | Loss: 0.08072399348020554\n",
      "Train Epoch 10/10 [36480/50000 (73%)] | Loss: 0.30582037568092346\n",
      "Train Epoch 10/10 [36960/50000 (74%)] | Loss: 0.16659140586853027\n",
      "Train Epoch 10/10 [37440/50000 (75%)] | Loss: 0.5930541753768921\n",
      "Train Epoch 10/10 [37920/50000 (76%)] | Loss: 0.5107100009918213\n",
      "Train Epoch 10/10 [38400/50000 (77%)] | Loss: 0.5020676255226135\n",
      "Train Epoch 10/10 [38880/50000 (78%)] | Loss: 0.13348305225372314\n",
      "Train Epoch 10/10 [39360/50000 (79%)] | Loss: 0.13304868340492249\n",
      "Train Epoch 10/10 [39840/50000 (80%)] | Loss: 0.13016799092292786\n",
      "Train Epoch 10/10 [40320/50000 (81%)] | Loss: 0.3433138132095337\n",
      "Train Epoch 10/10 [40800/50000 (82%)] | Loss: 0.15923236310482025\n",
      "Train Epoch 10/10 [41280/50000 (83%)] | Loss: 0.1368994265794754\n",
      "Train Epoch 10/10 [41760/50000 (83%)] | Loss: 0.1862621009349823\n",
      "Train Epoch 10/10 [42240/50000 (84%)] | Loss: 0.31766366958618164\n",
      "Train Epoch 10/10 [42720/50000 (85%)] | Loss: 0.11133559048175812\n",
      "Train Epoch 10/10 [43200/50000 (86%)] | Loss: 0.1774737387895584\n",
      "Train Epoch 10/10 [43680/50000 (87%)] | Loss: 0.15214645862579346\n",
      "Train Epoch 10/10 [44160/50000 (88%)] | Loss: 0.1550631821155548\n",
      "Train Epoch 10/10 [44640/50000 (89%)] | Loss: 0.17905154824256897\n",
      "Train Epoch 10/10 [45120/50000 (90%)] | Loss: 0.1921447515487671\n",
      "Train Epoch 10/10 [45600/50000 (91%)] | Loss: 0.2758076786994934\n",
      "Train Epoch 10/10 [46080/50000 (92%)] | Loss: 0.3970898687839508\n",
      "Train Epoch 10/10 [46560/50000 (93%)] | Loss: 0.1397775262594223\n",
      "Train Epoch 10/10 [47040/50000 (94%)] | Loss: 0.47488173842430115\n",
      "Train Epoch 10/10 [47520/50000 (95%)] | Loss: 0.1003338024020195\n",
      "Train Epoch 10/10 [48000/50000 (96%)] | Loss: 0.06936854124069214\n",
      "Train Epoch 10/10 [48480/50000 (97%)] | Loss: 0.4080727696418762\n",
      "Train Epoch 10/10 [48960/50000 (98%)] | Loss: 0.2342970371246338\n",
      "Train Epoch 10/10 [49440/50000 (99%)] | Loss: 0.5118885040283203\n",
      "Train Epoch 10/10 [49920/50000 (100%)] | Loss: 0.17245043814182281\n",
      "\n",
      "Train Acc.: [47494/50000 (95%)]\n",
      "Test Acc.:  [ 6673/10000 (67%)]\n",
      "\n"
     ]
    }
   ],
   "source": [
    "# Configure device\n",
    "device = torch.device('cuda' if torch.cuda.is_available() else 'cpu')\n",
    "\n",
    "# Design model\n",
    "n_samples = len(train_dataset)\n",
    "n_test_samples = len(test_dataset)\n",
    "model = ConvNet(hparams).to(device)\n",
    "\n",
    "# Construct Loss and Optimizer\n",
    "loss = nn.CrossEntropyLoss()\n",
    "optimizer = torch.optim.Adam(model.parameters(), lr=lr)\n",
    "\n",
    "train_losses = []\n",
    "# test_losses = []\n",
    "\n",
    "for epoch in range(num_epochs):\n",
    "    train_acc = 0\n",
    "    test_acc = 0\n",
    "    for batch_idx, (X_train, y_train) in enumerate(train_dataloader):\n",
    "        # Sending to GPU\n",
    "        X_train = X_train.to(device)\n",
    "        y_train = y_train.to(device)\n",
    "\n",
    "        # Forward pass\n",
    "        y_hat = model(X_train)\n",
    "\n",
    "        pred = torch.max(y_hat.data, 1)[1]\n",
    "        batch_corr = (pred==y_train).sum()\n",
    "        train_acc += batch_corr\n",
    "\n",
    "        # Loss computation\n",
    "        J = loss(y_hat, y_train)\n",
    "        train_losses.append(J)\n",
    "\n",
    "        # Backward pass\n",
    "        J.backward()\n",
    "\n",
    "        # Update parameters\n",
    "        optimizer.step()\n",
    "\n",
    "        # Zero grad\n",
    "        optimizer.zero_grad()\n",
    "\n",
    "        # Print train loss\n",
    "        if batch_idx % int(n_samples/(100*batch_size)) == 0:\n",
    "            print('Train Epoch {}/{} [{:>5}/{} ({:>2.0f}%)] | Loss: {}'.format(\n",
    "                epoch+1, num_epochs, batch_idx * batch_size, n_samples, \n",
    "                100*batch_idx / len(train_dataloader), J))\n",
    "            # train_losses.append(J)\n",
    "\n",
    "    with torch.no_grad():\n",
    "        for batch_idx, (X_test, y_test) in enumerate(test_dataloader):\n",
    "            # Sending to GPU\n",
    "            X_test = X_test.to(device)\n",
    "            y_test = y_test.to(device)\n",
    "\n",
    "            # Forward pass\n",
    "            y_val = model(X_test)\n",
    "\n",
    "            pred = torch.max(y_val.data, 1)[1]\n",
    "            batch_corr = (pred==y_test).sum()\n",
    "            test_acc += batch_corr\n",
    "\n",
    "    print('\\nTrain Acc.: [{:>5}/{} ({:>2.0f}%)]'.format(train_acc, n_samples, 100 * train_acc / n_samples))\n",
    "    print('Test Acc.:  [{:>5}/{} ({:>2.0f}%)]\\n'.format(test_acc, n_test_samples, 100 * test_acc / n_test_samples))"
   ]
  },
  {
   "cell_type": "code",
   "execution_count": null,
   "metadata": {},
   "outputs": [],
   "source": [
    "# losses = [train_losses[i].item() for i in range(len(train_losses))]\n",
    "\n",
    "# fig = plt.figure(figsize=(8, 8))\n",
    "# plt.plot([np.mean(losses[i:i+1000]) for i in range(len(losses))], 'b-')\n",
    "# plt.show()"
   ]
  },
  {
   "cell_type": "markdown",
   "metadata": {},
   "source": [
    "---"
   ]
  }
 ],
 "metadata": {
  "kernelspec": {
   "display_name": "Python 3",
   "language": "python",
   "name": "python3"
  },
  "language_info": {
   "codemirror_mode": {
    "name": "ipython",
    "version": 3
   },
   "file_extension": ".py",
   "mimetype": "text/x-python",
   "name": "python",
   "nbconvert_exporter": "python",
   "pygments_lexer": "ipython3",
   "version": "3.8.12"
  }
 },
 "nbformat": 4,
 "nbformat_minor": 4
}
