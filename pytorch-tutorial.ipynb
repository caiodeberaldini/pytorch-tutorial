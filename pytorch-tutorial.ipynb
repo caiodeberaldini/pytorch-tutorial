{
 "cells": [
  {
   "cell_type": "code",
   "execution_count": 1,
   "metadata": {},
   "outputs": [],
   "source": [
    "import torch\n",
    "import torchvision\n",
    "\n",
    "import numpy as np\n",
    "import pandas as pd\n",
    "import torch.nn as nn\n",
    "import matplotlib.pyplot as plt\n",
    "\n",
    "from sklearn import datasets\n",
    "from utils import displayMathHelper\n",
    "from torch.utils.data import Dataset, DataLoader\n",
    "from IPython.display import Image, display, Math"
   ]
  },
  {
   "cell_type": "markdown",
   "metadata": {},
   "source": [
    "# 1: Basics"
   ]
  },
  {
   "cell_type": "markdown",
   "metadata": {},
   "source": [
    "## 1.1: Tensors"
   ]
  },
  {
   "cell_type": "code",
   "execution_count": 2,
   "metadata": {},
   "outputs": [],
   "source": [
    "# Creating tensors, operating it and particularities\n",
    "\n",
    "## Empty tensor\n",
    "x = torch.empty(1) # 1-D empty tensor\n",
    "x = torch.empty(2, 1) # 2-D empty tensor\n",
    "# x = torch.empty(n-dimensional tensor) # n-D empty tensor\n",
    "\n",
    "## Zeros tensor\n",
    "x = torch.zeros(1) # 1-D zeros tensor\n",
    "\n",
    "## Ones tensor\n",
    "x = torch.ones(1) # 1-D ones tensor\n",
    "\n",
    "## Defining type\n",
    "x = torch.ones(2,2, dtype=torch.float16)\n",
    "# print(x.dtype)\n",
    "\n",
    "## Retrieving tensor size\n",
    "# print(x.size())\n",
    "\n",
    "## Creating tensor \"from scratch\"\n",
    "x = torch.tensor([[2.5, 5], [1.7, 8]])\n",
    "\n",
    "## Operations\n",
    "x = torch.rand(2, 2)\n",
    "y = torch.rand(2, 2)\n",
    "\n",
    "### Arithmetic\n",
    "z = x+y # Element-wise addition\n",
    "z = torch.add(x,y) # Same result\n",
    "y.add_(x) # Inplace element-wise addition; functions if \"_\" before its name make inplace ops\n",
    "\n",
    "z = x-y # Element-wise subtraction\n",
    "z = torch.sub(x, y) # Analogous as above\n",
    "y.sub_(x) # Analogous as above\n",
    "\n",
    "z = x*y # Element-wise multiplication\n",
    "z = torch.mul(x, y) # Analogous as above\n",
    "y.mul_(x) # Analogous as above\n",
    "\n",
    "z = x / y # Element-wise division\n",
    "z = torch.div(x, y) # Analogous as above\n",
    "y.div_(x) # Analogous as above\n",
    "\n",
    "### Slicing\n",
    "z = x[:, 1]\n",
    "z = x[1, 1]\n",
    "\n",
    "### Reshaping\n",
    "z = x.view(4)\n",
    "z = x.view(-1, 2)\n",
    "\n",
    "### Casting to numpy arrays\n",
    "z = x.numpy()\n",
    "\n",
    "### Casting from numpy arrays to pytorch tensors\n",
    "z = np.array([[1, 3.4], [5, 8.9]])\n",
    "w = torch.from_numpy(z)\n",
    "\n",
    "### Working on GPU\n",
    "# if torch.cuda_is_available():\n",
    "#     gpu = torch.device(\"cuda\")\n",
    "#     x = torch.ones(1, 2, device=gpu) # Tensor allocated on GPU\n",
    "#     y = torch.ones(5) # Tensor allocated on CPU\n",
    "#     y = y.to(gpu) # Sending tensor instantiated on CPU to GPU\n",
    "\n",
    "### Observation\n",
    "#################################################################################\n",
    "#    When dealing with tensors which you need to compute their gradients        #\n",
    "#    (e.g in optimization), Pytorch requires defining it explicitly.            #\n",
    "#################################################################################\n",
    "# x = torch.ones(4, requires_grad=True) # requires_grad argument is False by default"
   ]
  },
  {
   "cell_type": "markdown",
   "metadata": {},
   "source": [
    "---"
   ]
  },
  {
   "cell_type": "markdown",
   "metadata": {},
   "source": [
    "## 1.2: Autograd"
   ]
  },
  {
   "cell_type": "markdown",
   "metadata": {},
   "source": [
    "Autograd's package: used to ease the calculation of gradients. Its principle is based on Automatic Differentiation (autodiff)\n",
    "which is a general method for automatically computing the derivative of a value. For more details, I highly recommend checking out\n",
    "Prof. Roger Grosse lecture's slides¹ about the technique and the following medium post² about Pytorch's implementation of it.\n",
    "\n",
    "1: https://www.cs.toronto.edu/~rgrosse/courses/csc321_2018/slides/lec10.pdf <br>\n",
    "2: https://mustafaghali11.medium.com/how-pytorch-backward-function-works-55669b3b7c62"
   ]
  },
  {
   "cell_type": "code",
   "execution_count": 3,
   "metadata": {},
   "outputs": [],
   "source": [
    "# First, let's create an input tensor\n",
    "x = torch.rand(3, requires_grad=True) # Remember that it's necessary to enable requires_grad property\n",
    "\n",
    "# After creating the input tensor, let's define\n",
    "# an operation over this tensor.\n",
    "y = 3*x+2 # Creates the computational graph"
   ]
  },
  {
   "cell_type": "markdown",
   "metadata": {},
   "source": [
    "**Computational graph created after operating over the tensor:**"
   ]
  },
  {
   "cell_type": "code",
   "execution_count": 4,
   "metadata": {},
   "outputs": [
    {
     "data": {
      "image/png": "[encoded data removed]",
      "text/plain": [
       "<IPython.core.display.Image object>"
      ]
     },
     "execution_count": 4,
     "metadata": {},
     "output_type": "execute_result"
    }
   ],
   "source": [
    "Image(filename=\"assets/images/compt_graph.png\")"
   ]
  },
  {
   "cell_type": "code",
   "execution_count": 5,
   "metadata": {},
   "outputs": [
    {
     "name": "stdout",
     "output_type": "stream",
     "text": [
      "X: tensor([0.2189, 0.1947, 0.2409], requires_grad=True)\n",
      "Y: tensor([2.6566, 2.5841, 2.7226], grad_fn=<AddBackward0>)\n"
     ]
    }
   ],
   "source": [
    "print(\"X:\", x)\n",
    "print(\"Y:\", y)"
   ]
  },
  {
   "cell_type": "markdown",
   "metadata": {},
   "source": [
    "As seen, tensor X has requires_grad property set as **True** and tensor Y has the last operation over X (addition) as its gradient function. \n",
    "In the next example, Z is a tensor computed multiplying Y by itself and your grad. function is the multiplication op."
   ]
  },
  {
   "cell_type": "code",
   "execution_count": 6,
   "metadata": {},
   "outputs": [
    {
     "name": "stdout",
     "output_type": "stream",
     "text": [
      "tensor([7.0576, 6.6776, 7.4128], grad_fn=<MulBackward0>)\n"
     ]
    }
   ],
   "source": [
    "z = y*y\n",
    "print(z)"
   ]
  },
  {
   "cell_type": "markdown",
   "metadata": {},
   "source": [
    "For the sake of understanding, let's simplify assuming that our output tensor is 1-dimensional."
   ]
  },
  {
   "cell_type": "code",
   "execution_count": 7,
   "metadata": {},
   "outputs": [
    {
     "name": "stdout",
     "output_type": "stream",
     "text": [
      "tensor(7.0493, grad_fn=<MeanBackward0>)\n"
     ]
    }
   ],
   "source": [
    "z = z.mean()\n",
    "print(z)"
   ]
  },
  {
   "cell_type": "markdown",
   "metadata": {},
   "source": [
    "So, in order to compute Z gradient w.r.t. X, we call the Z backward() function and X grad property."
   ]
  },
  {
   "cell_type": "code",
   "execution_count": 8,
   "metadata": {},
   "outputs": [
    {
     "name": "stdout",
     "output_type": "stream",
     "text": [
      "tensor([5.3132, 5.1682, 5.4453]) \n",
      "Three gradients of Z w.r.t. X, because X is a 3-D tensor\n"
     ]
    }
   ],
   "source": [
    "z.backward()\n",
    "print(x.grad, '\\nThree gradients of Z w.r.t. X, because X is a 3-D tensor')"
   ]
  },
  {
   "cell_type": "markdown",
   "metadata": {},
   "source": [
    "On the other hand, if we have a multi-dimensional output tensor, we need to specify a gradient vector as an argument of backward() function\n",
    "towards the correct execution. In this sense, it's used a 'ones' tensor as the gradient vector in the Jacobian-vector Product - which is\n",
    "a way for computing partial derivatives, used inside autograd. For more details, please check the references in the head of this section."
   ]
  },
  {
   "cell_type": "code",
   "execution_count": 9,
   "metadata": {},
   "outputs": [
    {
     "name": "stdout",
     "output_type": "stream",
     "text": [
      "tensor([21.2529, 20.6729, 21.7812])\n"
     ]
    }
   ],
   "source": [
    "y = 3*x+2\n",
    "z = y*y\n",
    "size = list(z.size())\n",
    "init_grad_vec = torch.ones(size)\n",
    "\n",
    "z.backward(init_grad_vec)\n",
    "print(x.grad)"
   ]
  },
  {
   "cell_type": "markdown",
   "metadata": {},
   "source": [
    "Though Pytorch allocate every gradient of a specific variable, sometimes it's essential to reset our gradients."
   ]
  },
  {
   "cell_type": "code",
   "execution_count": 10,
   "metadata": {},
   "outputs": [
    {
     "name": "stdout",
     "output_type": "stream",
     "text": [
      "Step 1 gradient vector: tensor([37.1926, 36.1775, 38.1170])\n",
      "Step 2 gradient vector: tensor([53.1322, 51.6822, 54.4529])\n",
      "Step 3 gradient vector: tensor([69.0719, 67.1868, 70.7888])\n"
     ]
    }
   ],
   "source": [
    "for i in range(3):\n",
    "    y = 3*x + 2\n",
    "    z = y*y\n",
    "\n",
    "    z.backward(init_grad_vec)\n",
    "    print(\"Step {} gradient vector: {}\".format(i+1, x.grad))\n",
    "\n",
    "_ = x.grad.zero_()"
   ]
  },
  {
   "cell_type": "code",
   "execution_count": 11,
   "metadata": {},
   "outputs": [
    {
     "name": "stdout",
     "output_type": "stream",
     "text": [
      "Step 1 gradient vector: tensor([15.9397, 15.5047, 16.3359])\n",
      "Step 2 gradient vector: tensor([15.9397, 15.5047, 16.3359])\n",
      "Step 3 gradient vector: tensor([15.9397, 15.5047, 16.3359])\n"
     ]
    }
   ],
   "source": [
    "for i in range(3):\n",
    "    y = 3*x + 2\n",
    "    z = y*y\n",
    "\n",
    "    z.backward(init_grad_vec)\n",
    "    print(\"Step {} gradient vector: {}\".format(i+1, x.grad))\n",
    "    \n",
    "    _ = x.grad.zero_()"
   ]
  },
  {
   "cell_type": "markdown",
   "metadata": {},
   "source": [
    "Sometimes during training we might want to stop tracking variables from the gradient perspective. There are three ways to do so.\n",
    "(As seen below, none of tensors have the property requires_grad in it)"
   ]
  },
  {
   "cell_type": "code",
   "execution_count": 12,
   "metadata": {},
   "outputs": [],
   "source": [
    "# First way\n",
    "x.requires_grad_(False)\n",
    "# print(x)\n",
    "\n",
    "# Second way\n",
    "x.detach()\n",
    "# print(x)\n",
    "\n",
    "# Third way\n",
    "with torch.no_grad():\n",
    "    y = x + 2\n",
    "#     print(y)"
   ]
  },
  {
   "cell_type": "markdown",
   "metadata": {},
   "source": [
    "---"
   ]
  },
  {
   "cell_type": "markdown",
   "metadata": {},
   "source": [
    "## 1.3: Backpropagation"
   ]
  },
  {
   "cell_type": "markdown",
   "metadata": {},
   "source": [
    "Backpropagation is an algorithm used to compute gradients of functions w.r.t. parameters that appears previously \n",
    "to the function computation, and them is backpropagated to which one of them."
   ]
  },
  {
   "cell_type": "markdown",
   "metadata": {},
   "source": [
    "Let's suppose we have a first degree function (w/o linear coefficient, i.e. $y = f(x) = {\\theta}x$). Suppose our parameter $\\theta = 5$.\n",
    "In our computational graph Pytorch's framework, such operation should be seen as follows:"
   ]
  },
  {
   "cell_type": "code",
   "execution_count": 13,
   "metadata": {},
   "outputs": [
    {
     "data": {
      "image/png": "[encoded data removed]",
      "text/plain": [
       "<IPython.core.display.Image object>"
      ]
     },
     "execution_count": 13,
     "metadata": {},
     "output_type": "execute_result"
    }
   ],
   "source": [
    "Image(filename=\"assets/images/bprop_ex_compt_graph_1.png\")"
   ]
  },
  {
   "cell_type": "markdown",
   "metadata": {},
   "source": [
    "Here we have a multiplication operation and the attribution of this result in Y variable (an identity). In the background,\n",
    "the result of the first operation is seen as an intermediate variable - here called Z -, and them it's attributed to Y, completing\n",
    "the forward pass stage. Given that, to compute the gradient of Y w.r.t. X it's necessary to operate using the chain rule of calculus,\n",
    "in order to compute the gradient of Y w.r.t the intermediate variable Z."
   ]
  },
  {
   "cell_type": "markdown",
   "metadata": {},
   "source": [
    "---"
   ]
  },
  {
   "cell_type": "markdown",
   "metadata": {},
   "source": [
    "Briefly, the chain rule assures (not restricted to a 2-step computation. In fact, it's valid, in general, for n-steps):"
   ]
  },
  {
   "cell_type": "markdown",
   "metadata": {},
   "source": [
    "\n",
    "\n",
    "$\\dfrac{dy}{dz}*\\dfrac{dz}{dx} = \\dfrac{dy}{dx}$"
   ]
  },
  {
   "cell_type": "markdown",
   "metadata": {},
   "source": [
    "---"
   ]
  },
  {
   "cell_type": "markdown",
   "metadata": {},
   "source": [
    "The complete computation graph with the forward and backward pass is depicted below:"
   ]
  },
  {
   "cell_type": "code",
   "execution_count": 14,
   "metadata": {},
   "outputs": [
    {
     "data": {
      "image/png": "[encoded data removed]",
      "text/plain": [
       "<IPython.core.display.Image object>"
      ]
     },
     "execution_count": 14,
     "metadata": {},
     "output_type": "execute_result"
    }
   ],
   "source": [
    "Image(filename=\"assets/images/bprop_ex_compt_graph_2.png\")"
   ]
  },
  {
   "cell_type": "markdown",
   "metadata": {},
   "source": [
    "The Pytorch implementation of the backpropagation is as simple as follows:"
   ]
  },
  {
   "cell_type": "code",
   "execution_count": 15,
   "metadata": {},
   "outputs": [
    {
     "name": "stdout",
     "output_type": "stream",
     "text": [
      "dy/dx = 5 (as expected!)\n"
     ]
    }
   ],
   "source": [
    "# Instantiate data point\n",
    "x = torch.tensor([4], dtype=torch.float32, requires_grad=True)\n",
    "\n",
    "# Computational graph\n",
    "y = 5*x # dy/dx = 5\n",
    "\n",
    "# Backward pass\n",
    "y.backward()\n",
    "dy = x.grad\n",
    "\n",
    "print(f'dy/dx = {int(dy.item())} (as expected!)')"
   ]
  },
  {
   "cell_type": "markdown",
   "metadata": {},
   "source": [
    "---"
   ]
  },
  {
   "cell_type": "markdown",
   "metadata": {},
   "source": [
    "## 1.4: Gradient Descent Algorithm"
   ]
  },
  {
   "cell_type": "markdown",
   "metadata": {},
   "source": [
    "Toward to wrap all of these concepts and enable the algorithm to learn the paremeters' values, the gradient descent algorithm\n",
    "this task*. This algorithm can be divided in four steps:\n",
    "\n",
    "* Forward pass\n",
    "* Loss computation\n",
    "* Backward pass\n",
    "* Update parameters\n",
    "\n",
    "The only which wasn't introduced is the loss computation. In short, since the learning is being supervised, i.e. it's known a priori the correct\n",
    "output's value, one way to compute 'how much' the approximation function being learned is 'wrong' is computing the error between its\n",
    "output and the correct value. Here, the loss function used is the well-known Mean Squared Error (MSE)**. \n",
    "\n",
    "\\* The purpose here isn't to explain all the details of gradient descent algorithm.\n",
    "\n",
    "\\** In the examples below the problem is a regression one."
   ]
  },
  {
   "cell_type": "markdown",
   "metadata": {},
   "source": [
    "First, let's code it from scratch, using Numpy:"
   ]
  },
  {
   "cell_type": "code",
   "execution_count": 16,
   "metadata": {},
   "outputs": [
    {
     "data": {
      "text/latex": [
       "$\\displaystyle \\ \\ 20th \\ iter. \\ Error (J): 1.054 \\ | \\ Parameter \\ (\\theta): 4.610$"
      ],
      "text/plain": [
       "<IPython.core.display.Math object>"
      ]
     },
     "metadata": {},
     "output_type": "display_data"
    },
    {
     "data": {
      "text/latex": [
       "$\\displaystyle \\ \\ 40th \\ iter. \\ Error (J): 0.010 \\ | \\ Parameter \\ (\\theta): 4.962$"
      ],
      "text/plain": [
       "<IPython.core.display.Math object>"
      ]
     },
     "metadata": {},
     "output_type": "display_data"
    },
    {
     "data": {
      "text/latex": [
       "$\\displaystyle \\ \\ 60th \\ iter. \\ Error (J): 0.000 \\ | \\ Parameter \\ (\\theta): 4.996$"
      ],
      "text/plain": [
       "<IPython.core.display.Math object>"
      ]
     },
     "metadata": {},
     "output_type": "display_data"
    },
    {
     "data": {
      "text/latex": [
       "$\\displaystyle \\ \\ 80th \\ iter. \\ Error (J): 0.000 \\ | \\ Parameter \\ (\\theta): 5.000$"
      ],
      "text/plain": [
       "<IPython.core.display.Math object>"
      ]
     },
     "metadata": {},
     "output_type": "display_data"
    },
    {
     "data": {
      "text/latex": [
       "$\\displaystyle 100th \\ iter. \\ Error (J): 0.000 \\ | \\ Parameter \\ (\\theta): 5.000$"
      ],
      "text/plain": [
       "<IPython.core.display.Math object>"
      ]
     },
     "metadata": {},
     "output_type": "display_data"
    }
   ],
   "source": [
    "# Set data points\n",
    "X = np.array([1, 2, 3, 4, 5], dtype=np.float32)\n",
    "y = np.array([5, 10, 15, 20, 25], dtype=np.float32)\n",
    "\n",
    "# Randomly initialize parameter\n",
    "theta = np.random.randn(1)\n",
    "\n",
    "# Define hyperparameters\n",
    "lr = 0.01\n",
    "num_iters = 100\n",
    "\n",
    "for i in range(1, num_iters+1):\n",
    "    # Forward pass\n",
    "    y_hat = theta*X\n",
    "\n",
    "    # Loss computation\n",
    "    J = np.mean((y_hat - y)**2) / 2\n",
    "\n",
    "    # Backward pass\n",
    "    dJ = np.mean(X*(y_hat - y)) # This is the derivative of the loss function w.r.t. the parameter theta\n",
    "\n",
    "    # Update parameter\n",
    "    theta = theta - lr*dJ\n",
    "\n",
    "    # Print loss function\n",
    "    if i % 20 == 0:\n",
    "        space_str = displayMathHelper(num_iters, i)\n",
    "        display(Math(r'{space}{i}th \\ iter. \\ Error (J): {J:.3f} \\ | \\ Parameter \\ (\\theta): {theta:.3f}'.format(space=space_str, i=i, J=J, theta=theta[0])))"
   ]
  },
  {
   "cell_type": "markdown",
   "metadata": {},
   "source": [
    "Now with Pytorch's Autograd (untill gradient computation):"
   ]
  },
  {
   "cell_type": "code",
   "execution_count": 17,
   "metadata": {},
   "outputs": [
    {
     "data": {
      "text/latex": [
       "$\\displaystyle \\ \\ 20th \\ iter. \\ Error (J): 1.270 \\ | \\ Parameter \\ (\\theta): 4.572$"
      ],
      "text/plain": [
       "<IPython.core.display.Math object>"
      ]
     },
     "metadata": {},
     "output_type": "display_data"
    },
    {
     "data": {
      "text/latex": [
       "$\\displaystyle \\ \\ 40th \\ iter. \\ Error (J): 0.012 \\ | \\ Parameter \\ (\\theta): 4.958$"
      ],
      "text/plain": [
       "<IPython.core.display.Math object>"
      ]
     },
     "metadata": {},
     "output_type": "display_data"
    },
    {
     "data": {
      "text/latex": [
       "$\\displaystyle \\ \\ 60th \\ iter. \\ Error (J): 0.000 \\ | \\ Parameter \\ (\\theta): 4.996$"
      ],
      "text/plain": [
       "<IPython.core.display.Math object>"
      ]
     },
     "metadata": {},
     "output_type": "display_data"
    },
    {
     "data": {
      "text/latex": [
       "$\\displaystyle \\ \\ 80th \\ iter. \\ Error (J): 0.000 \\ | \\ Parameter \\ (\\theta): 5.000$"
      ],
      "text/plain": [
       "<IPython.core.display.Math object>"
      ]
     },
     "metadata": {},
     "output_type": "display_data"
    },
    {
     "data": {
      "text/latex": [
       "$\\displaystyle 100th \\ iter. \\ Error (J): 0.000 \\ | \\ Parameter \\ (\\theta): 5.000$"
      ],
      "text/plain": [
       "<IPython.core.display.Math object>"
      ]
     },
     "metadata": {},
     "output_type": "display_data"
    }
   ],
   "source": [
    "# Set data points\n",
    "x = torch.tensor([1, 2, 3, 4, 5], dtype=torch.float32)\n",
    "y = torch.tensor([5, 10, 15, 20, 25], dtype=torch.float32)\n",
    "\n",
    "# Randomly initialize parameter\n",
    "theta = torch.rand(1, requires_grad=True)\n",
    "\n",
    "# Define hyperparameters\n",
    "lr = 0.01\n",
    "num_iters = 100\n",
    "\n",
    "for i in range(1, num_iters+1):\n",
    "    # Forward pass\n",
    "    y_hat = theta*x\n",
    "\n",
    "    # Loss computation\n",
    "    J = torch.mean((y_hat - y)**2 / 2)\n",
    "\n",
    "    # Backward pass\n",
    "    J.backward() # dJ/dtheta\n",
    "\n",
    "    # Update parameter\n",
    "    ## Remember that we don't want to track this operation in our computational graph. Given that\n",
    "    ## we should wrap our update operation inside the torch.no_grad(), as explained before.\n",
    "    with torch.no_grad():\n",
    "        theta -= lr*theta.grad\n",
    "\n",
    "    # Zero theta gradients\n",
    "    theta.grad.zero_()\n",
    "\n",
    "    # Print loss function and theta updating\n",
    "    if i % 20 == 0:\n",
    "        space_str = displayMathHelper(num_iters, i)\n",
    "        display(Math(r'{space}{i}th \\ iter. \\ Error (J): {J:.3f} \\ | \\ Parameter \\ (\\theta): {theta:.3f}'.format(space=space_str, i=i, J=J, theta=theta[0])))"
   ]
  },
  {
   "cell_type": "markdown",
   "metadata": {},
   "source": [
    "---"
   ]
  },
  {
   "cell_type": "markdown",
   "metadata": {},
   "source": [
    "## 1.5: Training Pipeline"
   ]
  },
  {
   "cell_type": "markdown",
   "metadata": {},
   "source": [
    "Previously, we implemented our training in two ways: (i) all from scratch; (ii) from scratch mixed with Pytorch's autograd package. \n",
    "Now we'll write all the training pipeline with Pytorch. First, let's recap how we trained our linear regression model mixing\n",
    "from scratch with autograd:"
   ]
  },
  {
   "cell_type": "code",
   "execution_count": 18,
   "metadata": {},
   "outputs": [
    {
     "data": {
      "text/latex": [
       "$\\displaystyle \\ \\ 20th \\ iter. \\ Error \\ (J): 1.064 \\ | \\ Parameter \\ (\\theta): 4.609$"
      ],
      "text/plain": [
       "<IPython.core.display.Math object>"
      ]
     },
     "metadata": {},
     "output_type": "display_data"
    },
    {
     "data": {
      "text/latex": [
       "$\\displaystyle \\ \\ 40th \\ iter. \\ Error \\ (J): 0.010 \\ | \\ Parameter \\ (\\theta): 4.962$"
      ],
      "text/plain": [
       "<IPython.core.display.Math object>"
      ]
     },
     "metadata": {},
     "output_type": "display_data"
    },
    {
     "data": {
      "text/latex": [
       "$\\displaystyle \\ \\ 60th \\ iter. \\ Error \\ (J): 0.000 \\ | \\ Parameter \\ (\\theta): 4.996$"
      ],
      "text/plain": [
       "<IPython.core.display.Math object>"
      ]
     },
     "metadata": {},
     "output_type": "display_data"
    },
    {
     "data": {
      "text/latex": [
       "$\\displaystyle \\ \\ 80th \\ iter. \\ Error \\ (J): 0.000 \\ | \\ Parameter \\ (\\theta): 5.000$"
      ],
      "text/plain": [
       "<IPython.core.display.Math object>"
      ]
     },
     "metadata": {},
     "output_type": "display_data"
    },
    {
     "data": {
      "text/latex": [
       "$\\displaystyle 100th \\ iter. \\ Error \\ (J): 0.000 \\ | \\ Parameter \\ (\\theta): 5.000$"
      ],
      "text/plain": [
       "<IPython.core.display.Math object>"
      ]
     },
     "metadata": {},
     "output_type": "display_data"
    }
   ],
   "source": [
    "# Set data points\n",
    "x = torch.tensor([1, 2, 3, 4, 5], dtype=torch.float32)\n",
    "y = torch.tensor([5, 10, 15, 20, 25], dtype=torch.float32)\n",
    "\n",
    "# Randomly initialize parameter\n",
    "theta = torch.rand(1, requires_grad=True)\n",
    "\n",
    "# Define hyperparameters\n",
    "lr = 0.01\n",
    "num_iters = 100\n",
    "\n",
    "for i in range(1, num_iters+1):\n",
    "    # Forward pass\n",
    "    y_hat = theta*x\n",
    "\n",
    "    # Loss computation\n",
    "    J = torch.mean((y_hat - y)**2 / 2)\n",
    "\n",
    "    # Backward pass\n",
    "    J.backward() # dJ/dtheta\n",
    "\n",
    "    # Update parameter\n",
    "    ## Remember that we don't want to track this operation in our computational graph. Given that\n",
    "    ## we should wrap our update operation inside the torch.no_grad(), as explained before.\n",
    "    with torch.no_grad():\n",
    "        theta -= lr*theta.grad\n",
    "\n",
    "    # Zero theta gradients\n",
    "    theta.grad.zero_()\n",
    "\n",
    "    # Print loss function and theta updating\n",
    "    if i % 20 == 0:\n",
    "        space_str = displayMathHelper(num_iters, i)\n",
    "        display(Math(r'{space}{i}th \\ iter. \\ Error \\ (J): {J:.3f} \\ | \\ Parameter \\ (\\theta): {theta:.3f}'.format(space=space_str, i=i, J=J, theta=theta[0])))"
   ]
  },
  {
   "cell_type": "markdown",
   "metadata": {},
   "source": [
    "As stated above, now we'll implement a linear regression in a fully-Pytorch version. For that, we need to add some steps:\n",
    "\n",
    "1. The model needs to be fed with a matrix whose lines are related to examples and columns to features. In our 1-D example, we need to reshape our covariates and target variables to be a column vector.\n",
    "2. The instance of the model object (in our case, a linear one).\n",
    "3. In order to compute loss and gradients, we need to specify which loss object we want (for a linear regression, good old MSE) and which optimizer. For that example, we use stochastic gradient descent optimizer.\n",
    "\n",
    "Implementation is as follows:"
   ]
  },
  {
   "cell_type": "code",
   "execution_count": 19,
   "metadata": {},
   "outputs": [
    {
     "data": {
      "text/latex": [
       "$\\displaystyle \\ \\ 400th \\ iter. \\ Error (J): 0.007 \\ | \\ Parameter \\ (\\theta): 4.945$"
      ],
      "text/plain": [
       "<IPython.core.display.Math object>"
      ]
     },
     "metadata": {},
     "output_type": "display_data"
    },
    {
     "data": {
      "text/latex": [
       "$\\displaystyle \\ \\ 800th \\ iter. \\ Error (J): 0.000 \\ | \\ Parameter \\ (\\theta): 4.986$"
      ],
      "text/plain": [
       "<IPython.core.display.Math object>"
      ]
     },
     "metadata": {},
     "output_type": "display_data"
    },
    {
     "data": {
      "text/latex": [
       "$\\displaystyle 1200th \\ iter. \\ Error (J): 0.000 \\ | \\ Parameter \\ (\\theta): 4.996$"
      ],
      "text/plain": [
       "<IPython.core.display.Math object>"
      ]
     },
     "metadata": {},
     "output_type": "display_data"
    },
    {
     "data": {
      "text/latex": [
       "$\\displaystyle 1600th \\ iter. \\ Error (J): 0.000 \\ | \\ Parameter \\ (\\theta): 4.999$"
      ],
      "text/plain": [
       "<IPython.core.display.Math object>"
      ]
     },
     "metadata": {},
     "output_type": "display_data"
    },
    {
     "data": {
      "text/latex": [
       "$\\displaystyle 2000th \\ iter. \\ Error (J): 0.000 \\ | \\ Parameter \\ (\\theta): 5.000$"
      ],
      "text/plain": [
       "<IPython.core.display.Math object>"
      ]
     },
     "metadata": {},
     "output_type": "display_data"
    }
   ],
   "source": [
    "# Set data points\n",
    "X = torch.tensor([1, 2, 3, 4, 5], dtype=torch.float32)\n",
    "y = torch.tensor([5, 10, 15, 20, 25], dtype=torch.float32)\n",
    "\n",
    "## Reshaping as column vectors\n",
    "X = X.view(X.shape[0], 1)\n",
    "y = y.view(y.shape[0], 1)\n",
    "\n",
    "# Design model\n",
    "n_samples, n_features = X.shape\n",
    "model = nn.Linear(in_features=n_features, out_features=n_features)\n",
    "\n",
    "# Define hyperparameters\n",
    "lr = 0.01\n",
    "num_iters = 2000\n",
    "\n",
    "# Construct Loss and Optimizer\n",
    "loss = nn.MSELoss()\n",
    "optimizer = torch.optim.SGD(model.parameters(), lr=lr) # Obs.: model.parameters() is a generator object of torch.nn.parameter which has requires_grad set True\n",
    "\n",
    "final_iter_magnitude = np.floor(np.log10(num_iters)).astype(np.int32)\n",
    "for i in range(1, num_iters+1):\n",
    "    # Forward pass\n",
    "    y_hat = model(X)\n",
    "\n",
    "    # Loss computation\n",
    "    J = loss(y_hat, y)\n",
    "\n",
    "    # Backward pass\n",
    "    J.backward() # dJ/dtheta\n",
    "\n",
    "    # Update parameter\n",
    "    optimizer.step()\n",
    "\n",
    "    # Zero theta gradients\n",
    "    optimizer.zero_grad()\n",
    "\n",
    "    # Print loss function and theta updating\n",
    "    if i % 400 == 0:\n",
    "        theta, b = model.parameters()\n",
    "\n",
    "        space_str = displayMathHelper(num_iters, i)\n",
    "        display(Math(r'{space}{i}th \\ iter. \\ Error (J): {J:.3f} \\ | \\ Parameter \\ (\\theta): {theta:.3f}'.format(space=space_str, i=i, J=J, theta=theta.item())))"
   ]
  },
  {
   "cell_type": "markdown",
   "metadata": {},
   "source": [
    "---"
   ]
  },
  {
   "cell_type": "markdown",
   "metadata": {},
   "source": [
    "## 1.6: Linear Regression"
   ]
  },
  {
   "cell_type": "markdown",
   "metadata": {},
   "source": [
    "In this section we'll use the acquired knowledge about how to implement a linear regression fully with Pytorch to a toy dataset. Let's load the dataset:"
   ]
  },
  {
   "cell_type": "code",
   "execution_count": 20,
   "metadata": {},
   "outputs": [],
   "source": [
    "# Loading data\n",
    "X_numpy, y_numpy = datasets.make_regression(n_samples=100, n_features=1,\n",
    "                                            noise=15, random_state=1)\n",
    "\n",
    "## Transform Numpy vectors to Pytorch tensors\n",
    "X = torch.from_numpy(X_numpy.astype(np.float32))\n",
    "y = torch.from_numpy(y_numpy.astype(np.float32))\n",
    "\n",
    "## Reshaping as column vectors\n",
    "X = X.view(X.shape[0], 1)\n",
    "y = y.view(y.shape[0], 1)"
   ]
  },
  {
   "cell_type": "markdown",
   "metadata": {},
   "source": [
    "Then, we follow the steps followed before:\n",
    "\n",
    "* Design model (a linear one for that problem)\n",
    "* Construct loss function and optimizer\n",
    "* Forward pass\n",
    "* Backward pass\n",
    "* Update parameters\n",
    "\n",
    "In order to visualize results, it is plotted data points scatter with the line learned."
   ]
  },
  {
   "cell_type": "code",
   "execution_count": 21,
   "metadata": {},
   "outputs": [
    {
     "data": {
      "text/latex": [
       "$\\displaystyle \\ \\ 200th \\ iter. \\ Error (J): 196.883 \\ | \\ Parameter \\ (\\theta): 78.575$"
      ],
      "text/plain": [
       "<IPython.core.display.Math object>"
      ]
     },
     "metadata": {},
     "output_type": "display_data"
    },
    {
     "data": {
      "text/latex": [
       "$\\displaystyle \\ \\ 400th \\ iter. \\ Error (J): 187.089 \\ | \\ Parameter \\ (\\theta): 81.889$"
      ],
      "text/plain": [
       "<IPython.core.display.Math object>"
      ]
     },
     "metadata": {},
     "output_type": "display_data"
    },
    {
     "data": {
      "text/latex": [
       "$\\displaystyle \\ \\ 600th \\ iter. \\ Error (J): 187.069 \\ | \\ Parameter \\ (\\theta): 82.034$"
      ],
      "text/plain": [
       "<IPython.core.display.Math object>"
      ]
     },
     "metadata": {},
     "output_type": "display_data"
    },
    {
     "data": {
      "text/latex": [
       "$\\displaystyle \\ \\ 800th \\ iter. \\ Error (J): 187.069 \\ | \\ Parameter \\ (\\theta): 82.041$"
      ],
      "text/plain": [
       "<IPython.core.display.Math object>"
      ]
     },
     "metadata": {},
     "output_type": "display_data"
    },
    {
     "data": {
      "text/latex": [
       "$\\displaystyle 1000th \\ iter. \\ Error (J): 187.069 \\ | \\ Parameter \\ (\\theta): 82.041$"
      ],
      "text/plain": [
       "<IPython.core.display.Math object>"
      ]
     },
     "metadata": {},
     "output_type": "display_data"
    }
   ],
   "source": [
    "# Design model\n",
    "n_samples, n_features = X.shape\n",
    "model = nn.Linear(in_features=n_features, out_features=n_features)\n",
    "\n",
    "# Define hyperparameters\n",
    "lr = 0.01\n",
    "num_iters = 1000\n",
    "\n",
    "# Construct Loss and Optimizer\n",
    "loss = nn.MSELoss()\n",
    "optimizer = torch.optim.SGD(model.parameters(), lr=lr)\n",
    "\n",
    "for i in range(1, num_iters+1):\n",
    "    # Forward pass\n",
    "    y_hat = model(X)\n",
    "\n",
    "    # Loss computation\n",
    "    J = loss(y_hat, y)\n",
    "\n",
    "    # Backward pass\n",
    "    J.backward() # dJ/dtheta\n",
    "\n",
    "    # Update parameter\n",
    "    optimizer.step()\n",
    "\n",
    "    # Zero theta gradients\n",
    "    optimizer.zero_grad()\n",
    "\n",
    "    # Print loss function and theta updating\n",
    "    if i % 200 == 0:\n",
    "        theta, b = model.parameters()\n",
    "\n",
    "        space_str = displayMathHelper(num_iters, i)\n",
    "        display(Math(r'{space}{i}th \\ iter. \\ Error (J): {J:.3f} \\ | \\ Parameter \\ (\\theta): {theta:.3f}'.format(space=space_str, i=i, J=J, theta=theta.item())))"
   ]
  },
  {
   "cell_type": "code",
   "execution_count": 22,
   "metadata": {},
   "outputs": [
    {
     "data": {
      "image/png": "[encoded data removed]",
      "text/plain": [
       "<Figure size 576x576 with 1 Axes>"
      ]
     },
     "metadata": {
      "needs_background": "light"
     },
     "output_type": "display_data"
    }
   ],
   "source": [
    "predicted = model(X).detach().numpy() # We don't want that op. on computational graph.\n",
    "\n",
    "fig, axs = plt.subplots(1, 1, figsize=(8,8))\n",
    "axs.plot(X_numpy, y_numpy, 'ro', label=\"Original Data\")\n",
    "axs.plot(X_numpy, predicted, 'b', label=\"Line Learned\")\n",
    "axs.legend(loc=\"upper left\")\n",
    "plt.show()"
   ]
  },
  {
   "cell_type": "markdown",
   "metadata": {},
   "source": [
    "---"
   ]
  },
  {
   "cell_type": "markdown",
   "metadata": {},
   "source": [
    "## 1.7: Logistic Regression"
   ]
  },
  {
   "cell_type": "markdown",
   "metadata": {},
   "source": [
    "Previously, we learned how to implement a linear model in the context of a linear regression problem fully with Pytorch. In this section we'll learn to implement the Logistic Regression classification algorithm.\n",
    "\n",
    "First of all, there isn't an implemented interface on Pytorch as in the case of our linear model. Given that, we'll need to build our own Logistic Regression class. In summary, Logistic Regression is a model used in classification tasks that has two-steps:\n",
    "\n",
    "* First, it's applied a linear transformation of the same kind it's done in linear regression (z = A*x + b).\n",
    "* Second, a non-linear limited function is applied in order to constraint the output value. In our model, we'll use the logistic function (also known as sigmoid function).\n",
    "\n",
    "With this in mind, let's create our Logistic Regression class:"
   ]
  },
  {
   "cell_type": "code",
   "execution_count": 23,
   "metadata": {},
   "outputs": [],
   "source": [
    "class LogRegression(nn.Module): # Inherit torch.nn.Module. This enable us to access methods, attributes and other classes that inherit this parent class.\n",
    "\n",
    "    def __init__(self, n_features, n_classes):\n",
    "        super().__init__()\n",
    "        self.Linear = nn.Linear(in_features=n_features, out_features=n_classes)\n",
    "\n",
    "    def forward(self, x):\n",
    "        predicted = torch.sigmoid(self.Linear(x))\n",
    "        return predicted"
   ]
  },
  {
   "cell_type": "markdown",
   "metadata": {},
   "source": [
    "After constructing the class, let's generate and load our toy dataset:"
   ]
  },
  {
   "cell_type": "code",
   "execution_count": 24,
   "metadata": {},
   "outputs": [],
   "source": [
    "# Loading and transforming data. \n",
    "\n",
    "## Don't care too much about the data itself. Nevertheless, have in mind that our data is generated \n",
    "## with few constraints (e.g., it's a 100 examples size, it has 2 features and 3 classes as possible values \n",
    "## to target variable).\n",
    "X_numpy, y_numpy = datasets.make_classification(n_samples=100, n_features=2, \n",
    "                                                n_redundant=0, n_classes=3,\n",
    "                                                n_clusters_per_class=1, random_state=1)\n",
    "\n",
    "X = torch.from_numpy(X_numpy.astype(np.float32))\n",
    "y = torch.from_numpy(y_numpy)\n",
    "y = y.type(torch.long)"
   ]
  },
  {
   "cell_type": "markdown",
   "metadata": {},
   "source": [
    "Training pipeline follows the same steps as before:\n",
    "\n",
    "* Design model\n",
    "* Construct loss function and optimizer\n",
    "* Forward pass\n",
    "* Backward pass\n",
    "* Update parameters"
   ]
  },
  {
   "cell_type": "code",
   "execution_count": 25,
   "metadata": {},
   "outputs": [
    {
     "data": {
      "text/latex": [
       "$\\displaystyle \\ \\  200th \\ iter. \\ Error \\ (J): 0.746 \\ | \\ Parameters: (\\theta_1): 1.582, \\ (\\theta_2): 1.065 $"
      ],
      "text/plain": [
       "<IPython.core.display.Math object>"
      ]
     },
     "metadata": {},
     "output_type": "display_data"
    },
    {
     "data": {
      "text/latex": [
       "$\\displaystyle \\ \\  400th \\ iter. \\ Error \\ (J): 0.674 \\ | \\ Parameters: (\\theta_1): 2.539, \\ (\\theta_2): 0.984 $"
      ],
      "text/plain": [
       "<IPython.core.display.Math object>"
      ]
     },
     "metadata": {},
     "output_type": "display_data"
    },
    {
     "data": {
      "text/latex": [
       "$\\displaystyle \\ \\  600th \\ iter. \\ Error \\ (J): 0.645 \\ | \\ Parameters: (\\theta_1): 3.220, \\ (\\theta_2): 0.758 $"
      ],
      "text/plain": [
       "<IPython.core.display.Math object>"
      ]
     },
     "metadata": {},
     "output_type": "display_data"
    },
    {
     "data": {
      "text/latex": [
       "$\\displaystyle \\ \\  800th \\ iter. \\ Error \\ (J): 0.630 \\ | \\ Parameters: (\\theta_1): 3.760, \\ (\\theta_2): 0.510 $"
      ],
      "text/plain": [
       "<IPython.core.display.Math object>"
      ]
     },
     "metadata": {},
     "output_type": "display_data"
    },
    {
     "data": {
      "text/latex": [
       "$\\displaystyle 1000th \\ iter. \\ Error \\ (J): 0.621 \\ | \\ Parameters: (\\theta_1): 4.216, \\ (\\theta_2): 0.273 $"
      ],
      "text/plain": [
       "<IPython.core.display.Math object>"
      ]
     },
     "metadata": {},
     "output_type": "display_data"
    }
   ],
   "source": [
    "# Design model\n",
    "n_samples, n_features = X.shape\n",
    "n_classes = y.unique().shape[0]\n",
    "model = LogRegression(n_features, n_classes)\n",
    "\n",
    "# Define hyperparameters\n",
    "lr=0.01\n",
    "num_iters=1000\n",
    "\n",
    "# Construct Loss and Optimizer\n",
    "loss = nn.CrossEntropyLoss() # Since we're tackling a classification task, loss function needs to fit adequately.\n",
    "optimizer = torch.optim.Adam(model.parameters(), lr=lr)\n",
    "\n",
    "for i in range(1, num_iters+1):\n",
    "    # Forward pass\n",
    "    y_hat = model(X)\n",
    "\n",
    "    # Loss computation\n",
    "    J = loss(y_hat ,y)\n",
    "\n",
    "    # Backward pass\n",
    "    J.backward()\n",
    "\n",
    "    # Update parameters\n",
    "    optimizer.step()\n",
    "\n",
    "    # Zero grad\n",
    "    optimizer.zero_grad()\n",
    "\n",
    "    # Print loss and weights\n",
    "    if i % 200 == 0:\n",
    "        theta, b = model.parameters()\n",
    "        theta1 = theta[0][0].item()\n",
    "        theta2 = theta[0][1].item()\n",
    "\n",
    "        space_str = displayMathHelper(num_iters, i)\n",
    "        display(\n",
    "            Math(\n",
    "                r'{space}{i:4}th \\ iter. \\ Error \\ (J): {J:.3f} \\ | \\ Parameters: (\\theta_1): {theta1:.3f}, \\ (\\theta_2): {theta2:.3f} '.format(\n",
    "                    space=space_str, i=i, J=J,\n",
    "                    theta1=theta1,\n",
    "                    theta2=theta2\n",
    "                )\n",
    "            )\n",
    "        )"
   ]
  },
  {
   "cell_type": "markdown",
   "metadata": {},
   "source": [
    "In order to visualize results, it is plotted model prediction and it's decision boundary (represented by it's non-linear function) beside with original data points."
   ]
  },
  {
   "cell_type": "code",
   "execution_count": 26,
   "metadata": {},
   "outputs": [
    {
     "data": {
      "image/png": "[encoded data removed]",
      "text/plain": [
       "<Figure size 1440x576 with 2 Axes>"
      ]
     },
     "metadata": {
      "needs_background": "light"
     },
     "output_type": "display_data"
    }
   ],
   "source": [
    "h = 0.02\n",
    "\n",
    "x_min, x_max = X[:, 0].min().item() - 0.5, X[:, 0].max().item() + 0.5\n",
    "y_min, y_max = X[:, 1].min().item() - 0.5, X[:, 1].max().item() + 0.5\n",
    "\n",
    "xx, yy = np.meshgrid(np.arange(x_min, x_max, h),\n",
    "                     np.arange(y_min, y_max, h))\n",
    "\n",
    "grid_agg = np.c_[xx.ravel(), yy.ravel()]\n",
    "grid_agg = torch.from_numpy(grid_agg.astype(np.float32))\n",
    "\n",
    "Z = model(grid_agg).detach()\n",
    "Z = torch.argmax(Z, 1, keepdim=True)\n",
    "Z = np.reshape(Z.numpy(), xx.shape)\n",
    "\n",
    "cm = plt.cm.Pastel1\n",
    "\n",
    "predicted = model(X).detach()\n",
    "predicted = torch.argmax(predicted, 1, keepdim=True)\n",
    "predicted = predicted.view(n_samples)\n",
    "\n",
    "corr_fst_class_idx = y_numpy==0\n",
    "corr_snd_class_idx = y_numpy==1\n",
    "corr_trd_class_idx = y_numpy==2\n",
    "\n",
    "fst_class_idx = predicted==0\n",
    "snd_class_idx = predicted==1\n",
    "trd_class_idx = predicted==2\n",
    "\n",
    "fig, axs = plt.subplots(1, 2, figsize=(20,8))\n",
    "axs[0].plot(X_numpy[fst_class_idx, 0], X_numpy[fst_class_idx, 1], 'ro', label='Class 1')\n",
    "axs[0].plot(X_numpy[snd_class_idx, 0], X_numpy[snd_class_idx, 1], 'bo', label='Class 2')\n",
    "axs[0].plot(X_numpy[trd_class_idx, 0], X_numpy[trd_class_idx, 1], 'go', label='Class 3')\n",
    "axs[0].contourf(xx, yy, Z, cmap=cm, alpha=0.7)\n",
    "axs[0].legend(loc=\"upper left\")\n",
    "axs[0].set_title(\"Predicted (w/ Decision Boundary)\")\n",
    "\n",
    "axs[1].plot(X_numpy[corr_fst_class_idx, 0], X_numpy[corr_fst_class_idx, 1], 'ro', label='Class 1')\n",
    "axs[1].plot(X_numpy[corr_snd_class_idx, 0], X_numpy[corr_snd_class_idx, 1], 'bo', label='Class 2')\n",
    "axs[1].plot(X_numpy[corr_trd_class_idx, 0], X_numpy[corr_trd_class_idx, 1], 'go', label='Class 3')\n",
    "axs[1].legend(loc=\"upper left\")\n",
    "axs[1].set_title(\"Original Data\")\n",
    "\n",
    "plt.show()"
   ]
  },
  {
   "cell_type": "markdown",
   "metadata": {},
   "source": [
    "---"
   ]
  },
  {
   "cell_type": "markdown",
   "metadata": {},
   "source": [
    "## 1.8: Dataset and Dataloader"
   ]
  },
  {
   "cell_type": "markdown",
   "metadata": {},
   "source": [
    "Earlier we've managed with hand-crafted and/or toy datasets in our examples. Though, nowadays it's pretty common to deal with large datasets (in the order of millions of examples, hundreds or thousands of features and classes). In this scenario, even with state-of-the-art hardware it's recommended to save memory, paralellize computation, and make efficient use of resources. Given that, it'd be nice to come up with an implementation to ease the process of loading larger datasets. That's exactly what Pytorch's Dataset and DataLoader classes are made for.\n",
    "\n",
    "First, let's create a subclass of Dataset for the Wine Quality dataset (which is in './data/winequality-red.csv' directory, in case you want to take a look). To do so, we need three methods: (i) initialization, (ii) a getter to fetch samples by its index, and (iii) a method to return the number of samples (dataset length):"
   ]
  },
  {
   "cell_type": "code",
   "execution_count": 27,
   "metadata": {},
   "outputs": [],
   "source": [
    "class WineDataset(Dataset):\n",
    "\n",
    "    def __init__(self, file_path):\n",
    "        dataset = np.loadtxt(file_path, delimiter=\",\", dtype=np.float32, skiprows=1)\n",
    "        self.X = torch.from_numpy(dataset[:, 1:])\n",
    "        self.y = torch.from_numpy(dataset[:, 0]).view(self.X.shape[0], 1) # We want to have a label column vector\n",
    "        self.n_samples = self.X.shape[0]\n",
    "\n",
    "    def __getitem__(self, index):\n",
    "        return self.X[index], self.y[index]\n",
    "\n",
    "    def __len__(self):\n",
    "        return self.n_samples"
   ]
  },
  {
   "cell_type": "code",
   "execution_count": 28,
   "metadata": {},
   "outputs": [],
   "source": [
    "path = './data/winequality-red.csv'\n",
    "wine_dataset = WineDataset(path)"
   ]
  },
  {
   "cell_type": "markdown",
   "metadata": {},
   "source": [
    "Afterward, we can use Pytorch's DataLoader class in order to efficiently load our dataset object aiming to optimize our model's training. In this case, we'll exploit mini-batch technique."
   ]
  },
  {
   "cell_type": "markdown",
   "metadata": {},
   "source": [
    "[Quick reminder] Here is an explanation of some of the concepts used below:\n",
    "\n",
    "* **Epoch**: Number of times training on the entire dataset\n",
    "* **Iteration or Batch**: Number of batchs/forward and backward passes (optimization is done in each batch instead of the entire data)\n",
    "* **Batch Size**: Number of samples in each batch\n",
    "\n",
    "For instace, given a dataset of 1600 samples, if the batch size is 4, then the number of batchs is 400 ($\\dfrac{1600}{4}$ = 400). \n",
    "\n",
    "The image below illustrates a dataset divided in 4 batchs. On this example, each epoch we are training (forward, backward passing, and updating parameters) on each batch, running through all the dataset in this way, but using just an amount of computing power and memory, since it's only allocated a batch per step of training."
   ]
  },
  {
   "cell_type": "code",
   "execution_count": 29,
   "metadata": {},
   "outputs": [
    {
     "data": {
      "image/png": "[encoded data removed]",
      "text/plain": [
       "<IPython.core.display.Image object>"
      ]
     },
     "execution_count": 29,
     "metadata": {},
     "output_type": "execute_result"
    }
   ],
   "source": [
    "Image(filename=\"assets/images/mini-batch.png\")"
   ]
  },
  {
   "cell_type": "code",
   "execution_count": 30,
   "metadata": {},
   "outputs": [],
   "source": [
    "# It's choosen a batch size (i.e., numbers of samples per batch) of 4, and separate this process in 2 (number of workers = 2)\n",
    "wine_dataloader = DataLoader(dataset=wine_dataset, batch_size=4, shuffle=True, num_workers=2)"
   ]
  },
  {
   "cell_type": "code",
   "execution_count": 31,
   "metadata": {},
   "outputs": [
    {
     "name": "stdout",
     "output_type": "stream",
     "text": [
      "Epoch 1/2 | Batch  50/400 | Batch shape torch.Size([4, 11])\n",
      "Epoch 1/2 | Batch 100/400 | Batch shape torch.Size([4, 11])\n",
      "Epoch 1/2 | Batch 150/400 | Batch shape torch.Size([4, 11])\n",
      "Epoch 1/2 | Batch 200/400 | Batch shape torch.Size([4, 11])\n",
      "Epoch 1/2 | Batch 250/400 | Batch shape torch.Size([4, 11])\n",
      "Epoch 1/2 | Batch 300/400 | Batch shape torch.Size([4, 11])\n",
      "Epoch 1/2 | Batch 350/400 | Batch shape torch.Size([4, 11])\n",
      "Epoch 1/2 | Batch 400/400 | Batch shape torch.Size([3, 11])\n",
      "Epoch 2/2 | Batch  50/400 | Batch shape torch.Size([4, 11])\n",
      "Epoch 2/2 | Batch 100/400 | Batch shape torch.Size([4, 11])\n",
      "Epoch 2/2 | Batch 150/400 | Batch shape torch.Size([4, 11])\n",
      "Epoch 2/2 | Batch 200/400 | Batch shape torch.Size([4, 11])\n",
      "Epoch 2/2 | Batch 250/400 | Batch shape torch.Size([4, 11])\n",
      "Epoch 2/2 | Batch 300/400 | Batch shape torch.Size([4, 11])\n",
      "Epoch 2/2 | Batch 350/400 | Batch shape torch.Size([4, 11])\n",
      "Epoch 2/2 | Batch 400/400 | Batch shape torch.Size([3, 11])\n"
     ]
    }
   ],
   "source": [
    "n_epochs = 2\n",
    "n_samples = len(wine_dataset)\n",
    "n_iters = len(wine_dataloader)\n",
    "\n",
    "for epoch in range(n_epochs):\n",
    "    for i, (X, y) in enumerate(wine_dataloader):\n",
    "        if (i+1) % 50 == 0:\n",
    "            print(\n",
    "                r'Epoch {epoch}/{n_epochs} | Batch {i:3}/{n_iters:} | Batch shape {X_shape}'.format(\n",
    "                    epoch=epoch+1, i=i+1,                                                                      \n",
    "                    n_epochs=n_epochs, n_iters=n_iters,                                                                                \n",
    "                    X_shape=X.shape)\n",
    "            )"
   ]
  },
  {
   "cell_type": "markdown",
   "metadata": {},
   "source": [
    "---"
   ]
  },
  {
   "cell_type": "markdown",
   "metadata": {},
   "source": [
    "## 1.9: Dataset Transforms"
   ]
  },
  {
   "cell_type": "markdown",
   "metadata": {},
   "source": [
    "Transforms are built-in transformations applied to datasets, wheter its datatype is a tensor, a ndarray or a PIL image.\n",
    "\n",
    "A few examples of transformations are:\n",
    "\n",
    "    Images\n",
    "    -------\n",
    "    Pad, CenterCrop, GrayScale, RandomAffine, Resize, Scale.\n",
    "\n",
    "    Tensors\n",
    "    -------\n",
    "    LinearTransformation, Normalize, RandomErasing\n",
    "\n",
    "    Conversions\n",
    "    -----------\n",
    "    ToPILImage: tensor -> ndarray\n",
    "    ToTensor:   ndarray -> tensor\n",
    "\n",
    "    Generic\n",
    "    -------\n",
    "    Lambda function\n",
    "\n",
    "    Custom\n",
    "    ------\n",
    "    Write your own class\n",
    "\n",
    "    Compose\n",
    "    -------\n",
    "    Design a list of transformations:\n",
    "        composed = torchvision.transforms.Compose(\n",
    "            [Rescale(256),\n",
    "            RandomCrop(128)]\n",
    "        )\n",
    "\n",
    "For more details, a complete list of all built-in transform functions is available at: https://pytorch.org/vision/stable/transforms.html"
   ]
  },
  {
   "cell_type": "markdown",
   "metadata": {},
   "source": [
    "Let's use our own custom class dataset implemented before in order to make two transformations:\n",
    "\n",
    "1. Transform from ndarray to tensor\n",
    "2. Exponentiate our data"
   ]
  },
  {
   "cell_type": "code",
   "execution_count": 32,
   "metadata": {},
   "outputs": [],
   "source": [
    "# Custom WineDataset class\n",
    "class WineDataset(Dataset):\n",
    "\n",
    "    def __init__(self, file_path, transform):\n",
    "        dataset = np.loadtxt(file_path, delimiter=\",\", dtype=np.float32, skiprows=1)\n",
    "        self.X = dataset[:, 1:]\n",
    "        self.y = dataset[:, [0]]\n",
    "        self.n_samples = self.X.shape[0]\n",
    "        self.transform = transform\n",
    "\n",
    "    def __getitem__(self, index):\n",
    "        sample = self.X[index], self.y[index]\n",
    "\n",
    "        if self.transform:\n",
    "            sample = self.transform(sample)\n",
    "\n",
    "        return sample\n",
    "\n",
    "    def __len__(self):\n",
    "        return self.n_samples"
   ]
  },
  {
   "cell_type": "code",
   "execution_count": 33,
   "metadata": {},
   "outputs": [],
   "source": [
    "# Transform classes\n",
    "\n",
    "class ToTensor:\n",
    "    ''' \n",
    "    Transform ndarray data into tensor\n",
    "    '''\n",
    "\n",
    "    def __call__(self, sample):\n",
    "        inputs, labels = sample\n",
    "        sample = torch.from_numpy(inputs), torch.from_numpy(labels) \n",
    "\n",
    "        return sample\n",
    "\n",
    "class PowTransform:\n",
    "    ''' \n",
    "     Raise inputs to a power 'n'\n",
    "    '''\n",
    "\n",
    "    def __init__(self, n):\n",
    "        self.power = n\n",
    "\n",
    "    def __call__(self, sample):\n",
    "        inputs, labels = sample\n",
    "        sample = inputs.pow(self.power), labels\n",
    "\n",
    "        return sample"
   ]
  },
  {
   "cell_type": "code",
   "execution_count": 34,
   "metadata": {},
   "outputs": [],
   "source": [
    "path = './data/winequality-red.csv'\n",
    "composed = torchvision.transforms.Compose([ToTensor(), PowTransform(2)])"
   ]
  },
  {
   "cell_type": "code",
   "execution_count": 35,
   "metadata": {},
   "outputs": [
    {
     "name": "stdout",
     "output_type": "stream",
     "text": [
      "<class 'numpy.ndarray'> <class 'numpy.ndarray'>\n",
      "[ 7.4     0.7     0.      1.9     0.076  11.     34.      0.9978  3.51\n",
      "  0.56    9.4   ]\n"
     ]
    }
   ],
   "source": [
    "# Without transformation\n",
    "wine_dataset = WineDataset(file_path=path, transform=None)\n",
    "\n",
    "first_data = wine_dataset[0]\n",
    "features, labels = first_data\n",
    "\n",
    "print(type(features), type(labels))\n",
    "print(features)"
   ]
  },
  {
   "cell_type": "code",
   "execution_count": 36,
   "metadata": {},
   "outputs": [
    {
     "name": "stdout",
     "output_type": "stream",
     "text": [
      "<class 'torch.Tensor'> <class 'torch.Tensor'>\n",
      "tensor([5.4760e+01, 4.9000e-01, 0.0000e+00, 3.6100e+00, 5.7760e-03, 1.2100e+02,\n",
      "        1.1560e+03, 9.9560e-01, 1.2320e+01, 3.1360e-01, 8.8360e+01])\n"
     ]
    }
   ],
   "source": [
    "# With transformation\n",
    "wine_dataset = WineDataset(file_path=path, transform=composed)\n",
    "\n",
    "first_data = wine_dataset[0]\n",
    "features, labels = first_data\n",
    "\n",
    "print(type(features), type(labels))\n",
    "print(features)"
   ]
  },
  {
   "cell_type": "markdown",
   "metadata": {},
   "source": [
    "---"
   ]
  },
  {
   "cell_type": "markdown",
   "metadata": {},
   "source": [
    "## 1.10: Softmax & Cross-Entropy"
   ]
  },
  {
   "cell_type": "markdown",
   "metadata": {},
   "source": [
    "Softmax and Cross-Entropy are two frequently used functions in the field and, in particular, in neural network models. Let's dive into the math and intuition behind these functions:"
   ]
  },
  {
   "cell_type": "markdown",
   "metadata": {},
   "source": [
    "### 1. Softmax"
   ]
  },
  {
   "cell_type": "markdown",
   "metadata": {},
   "source": [
    "Softmax formula is represented below:\n",
    "\n",
    "$$S(Y_i) = \\dfrac{e^{Y_i}}{\\sum_{j} e^{Y_j}}$$\n",
    "\n",
    "What this function does is normalize all $Y_i$ values to keep them between $[0,1]$. In other words, it transforms real values to probability values, making sure that it respects Kolmogorov axioms (Probability Theory axioms). In our case, we use it in order to pick up the class with the greatest probability in our model's prediction. As an example, take a look in the image below. In a 3-classes classification problem, for that particular fiction observation, our model would choose the first one (with almost $80\\%$ probability that this is observation's class)."
   ]
  },
  {
   "cell_type": "code",
   "execution_count": 37,
   "metadata": {},
   "outputs": [
    {
     "data": {
      "image/png": "[encoded data removed]",
      "text/plain": [
       "<IPython.core.display.Image object>"
      ]
     },
     "execution_count": 37,
     "metadata": {},
     "output_type": "execute_result"
    }
   ],
   "source": [
    "Image(filename=\"assets/images/softmax_ex.png\")"
   ]
  },
  {
   "cell_type": "markdown",
   "metadata": {},
   "source": [
    "As we've done before, let's implement Softmax function in two ways: (i) from scratch; (ii) with Pytorch."
   ]
  },
  {
   "cell_type": "code",
   "execution_count": 38,
   "metadata": {},
   "outputs": [
    {
     "name": "stdout",
     "output_type": "stream",
     "text": [
      "Probabilities: [0.79 0.02 0.19] (as expected!)\n"
     ]
    }
   ],
   "source": [
    "# Softmax function from scratch\n",
    "def softmax(logits):\n",
    "    return np.exp(logits)/np.sum(np.exp(logits))\n",
    "\n",
    "logits = np.array([4, 0.1, 2.6])\n",
    "y_hat = softmax(logits)\n",
    "\n",
    "print('Probabilities:', np.round(y_hat, 2), '(as expected!)')"
   ]
  },
  {
   "cell_type": "code",
   "execution_count": 39,
   "metadata": {},
   "outputs": [
    {
     "name": "stdout",
     "output_type": "stream",
     "text": [
      "Probabilities: [0.79 0.02 0.19] (as expected!)\n"
     ]
    }
   ],
   "source": [
    "# Softmax function with Pytorch\n",
    "logits = torch.tensor([4, 0.1, 2.6])\n",
    "y_hat = torch.softmax(logits, dim=0)\n",
    "\n",
    "print('Probabilities:', np.round(y_hat.numpy(), 2), '(as expected!)')"
   ]
  },
  {
   "cell_type": "markdown",
   "metadata": {},
   "source": [
    "### 2. Cross-Entropy"
   ]
  },
  {
   "cell_type": "markdown",
   "metadata": {},
   "source": [
    "As stated above, Cross-Entropy is another famous function used in the field. In this case, it's used as the loss function which we want to optimize in classification problems. Its formula is represented below:\n",
    "\n",
    "$$H(\\hat{Y}, Y) = -\\dfrac{1}{N}\\sum_{i}^{N}Y_{i}log(\\hat{Y_{i}})$$\n",
    "\n",
    "Cross-Entropy is a measure of the difference between two probability distributions of two random variables (or functions). Intuitively, if the probability distribution of our model's prediction is similar to that of the real label, them cross-entropy will have a small value. Otherwise, i.e. the two probability distributions are different, cross-entropy is high. Examples are shown below:\n",
    "\n",
    "1)\n",
    "$\n",
    "{Y = [1, 0, 0] \\\\ \\hat{Y_{1}} = [0.79, 0.02, 0.19]} H_{1}(\\hat{Y_{1}}, Y) = 0.24\n",
    "$\n",
    "\n",
    "2)\n",
    "$\n",
    "{Y = [1, 0, 0] \\\\ \\hat{Y_{2}} = [0.19, 0.02, 0.79]} H_{2}(\\hat{Y_{2}}, Y) = 1.66\n",
    "$\n",
    "\n",
    "**Obs. (1):** To compute cross-entropy, labels must be one-hot encoded (just like it is in the example) and predictions must be probabilities (i.e., it must be transformed by softmax).\n",
    "\n",
    "**Obs. (2):** Pytorch's Cross-Entropy interface (_torch.nn.CrossEntropyLoss()_) ease things a little bit. Our label vector doesn't need to be one-hot encoded, so label values are just the class value. Also, it internally applies softmax to the prediction vector. Thus we need to pass the logits vector. This observation is **paramount** because when we start coding our neural networks in the future we'll need to remind that Pytorch's Cross-Entropy Loss already pass results in a Softmax layer, therefore we don't need to add this layer again. Nonetheless, in the case the intended task is a binary classification, Pytorch's Binary Cross-Entropy Loss (_torch.nn.BCELoss()_) will require a Sigmoid function layer in the end of the neural network. Please keep that in mind!"
   ]
  },
  {
   "cell_type": "code",
   "execution_count": 40,
   "metadata": {},
   "outputs": [
    {
     "data": {
      "text/latex": [
       "$\\displaystyle H_1 = 0.24 \\ | \\ H_2 = 1.66 \\ (as \\ expected!)$"
      ],
      "text/plain": [
       "<IPython.core.display.Math object>"
      ]
     },
     "metadata": {},
     "output_type": "display_data"
    }
   ],
   "source": [
    "# Cross-Entropy function from scratch\n",
    "def cross_entropy(y, y_hat):\n",
    "    N = 1\n",
    "    return -np.sum(y*np.log(y_hat))/N\n",
    "\n",
    "y = np.array([1, 0, 0])\n",
    "y_hat_1 = np.array([0.79, 0.02, 0.19])\n",
    "y_hat_2 = np.array([0.19, 0.02, 0.79])\n",
    "\n",
    "CE_1 = cross_entropy(y, y_hat_1)\n",
    "CE_2 = cross_entropy(y, y_hat_2)\n",
    "\n",
    "display(Math(r'H_1 = {ce_1:.2f} \\ | \\ H_2 = {ce_2:.2f} \\ (as \\ expected!)'.format(ce_1=CE_1, ce_2=CE_2)))"
   ]
  },
  {
   "cell_type": "code",
   "execution_count": 41,
   "metadata": {},
   "outputs": [
    {
     "data": {
      "text/latex": [
       "$\\displaystyle H_1 = 0.24 \\ | \\ H_2 = 1.64 \\ (as \\ expected!)$"
      ],
      "text/plain": [
       "<IPython.core.display.Math object>"
      ]
     },
     "metadata": {},
     "output_type": "display_data"
    }
   ],
   "source": [
    "# Cross-Entropy function with Pytorch\n",
    "y = torch.tensor([0]) # Only one label in a 3-classes classification problem.\n",
    "y_hat_1 = torch.tensor([[4, 0.1, 2.6]])\n",
    "y_hat_2 = torch.tensor([[2.6, 0.1, 4]])\n",
    "\n",
    "loss = nn.CrossEntropyLoss()\n",
    "CE_1 = loss(y_hat_1, y)\n",
    "CE_2 = loss(y_hat_2, y)\n",
    "\n",
    "display(Math(r'H_1 = {ce_1:.2f} \\ | \\ H_2 = {ce_2:.2f} \\ (as \\ expected!)'.format(ce_1=CE_1, ce_2=CE_2)))"
   ]
  },
  {
   "cell_type": "markdown",
   "metadata": {},
   "source": [
    "---"
   ]
  },
  {
   "cell_type": "markdown",
   "metadata": {},
   "source": [
    "## 1.11: Activation Functions"
   ]
  },
  {
   "cell_type": "markdown",
   "metadata": {},
   "source": [
    "Activation functions are important features of neural networks because they allow them to **model non-linear relations** present in the data. An analogy often used is that of the all-or-none principle that control our nerve cells' response given a stimulus and the intuition behind activation functions on artificial neural networks (yet, this comparison is quite questionable).\n",
    "\n",
    "Next, we're going to see some of the activation functions implemented in Pytorch and their idiosyncrasies:"
   ]
  },
  {
   "cell_type": "markdown",
   "metadata": {},
   "source": [
    "### 1. Step Function"
   ]
  },
  {
   "cell_type": "markdown",
   "metadata": {},
   "source": [
    "This is the most simple activation function. It's described as follows:\n",
    "\n",
    "$$f(x) = \\left\\{\n",
    "\\begin{array}{ll}\n",
    "    1,  & x \\geq a \\\\\n",
    "    0,  & x < a\\\\\n",
    "\\end{array}\n",
    "\\right.\n",
    "$$\n",
    "\n",
    "That means whenever the neuron value is greater than a value ($a$, in this case), then it activates.\n",
    "\n",
    "**Obs.:** This function is hardly ever used.\n",
    "\n",
    "Below, it's a graphic representation of that function:"
   ]
  },
  {
   "cell_type": "code",
   "execution_count": 42,
   "metadata": {},
   "outputs": [
    {
     "data": {
      "image/png": "[encoded data removed]",
      "text/plain": [
       "<Figure size 576x576 with 1 Axes>"
      ]
     },
     "metadata": {
      "needs_background": "light"
     },
     "output_type": "display_data"
    }
   ],
   "source": [
    "X = np.linspace(-2, 4, 1000, dtype=np.float64)\n",
    "X = torch.from_numpy(X)\n",
    "inputs = X\n",
    "values = torch.tensor([1], dtype=torch.float64)\n",
    "\n",
    "a = 1\n",
    "step = torch.heaviside(inputs-a, values) # Pytorch's step function\n",
    "step = step.numpy()\n",
    "\n",
    "fig, axs = plt.subplots(1, 1, figsize=(8,8))\n",
    "axs.plot(inputs, step, 'b-', label=\"Step\")\n",
    "axs.legend(loc=\"upper left\")\n",
    "axs.set_ylim([-2, 3])\n",
    "plt.grid()\n",
    "plt.show()"
   ]
  },
  {
   "cell_type": "markdown",
   "metadata": {},
   "source": [
    "### 2. Logistic"
   ]
  },
  {
   "cell_type": "markdown",
   "metadata": {},
   "source": [
    "Logistic function, also kwon as sigmoid, is an activation function that outputs a probability value and is usually used in the last layer of a binary classification problem. It's formula is represented below:\n",
    "\n",
    "$$f(x) = \\dfrac{1}{1+e^{-x}}$$\n",
    "\n",
    "Graphically, logistic function is as follows:"
   ]
  },
  {
   "cell_type": "code",
   "execution_count": 43,
   "metadata": {},
   "outputs": [
    {
     "data": {
      "image/png": "[encoded data removed]",
      "text/plain": [
       "<Figure size 576x576 with 1 Axes>"
      ]
     },
     "metadata": {
      "needs_background": "light"
     },
     "output_type": "display_data"
    }
   ],
   "source": [
    "X = np.linspace(-15, 15, 1000, dtype=np.float64)\n",
    "X = torch.from_numpy(X)\n",
    "\n",
    "logistic = nn.Sigmoid() # Pytorch's logistic function (also known as just sigmoid)\n",
    "logits = logistic(X)\n",
    "logits = logits.numpy()\n",
    "\n",
    "fig, axs = plt.subplots(1, 1, figsize=(8,8))\n",
    "axs.plot(X, logits, 'b-', label=\"Logistic\")\n",
    "axs.legend(loc=\"upper left\")\n",
    "axs.set_xlim([-16, 16])\n",
    "plt.grid()\n",
    "plt.show()"
   ]
  },
  {
   "cell_type": "markdown",
   "metadata": {},
   "source": [
    "### 3. Tanh"
   ]
  },
  {
   "cell_type": "markdown",
   "metadata": {},
   "source": [
    "Tanh is another function from the sigmoid family. Nonetheless, instead of having its output value between $[0,1]$, it's scaled and shifted in order to be between $[-1,1]$. The formula and plot is represented below:\n",
    "\n",
    "$$f(x) = \\dfrac{2}{1 + e^{-2x}} - 1$$"
   ]
  },
  {
   "cell_type": "code",
   "execution_count": 44,
   "metadata": {},
   "outputs": [
    {
     "data": {
      "image/png": "[encoded data removed]",
      "text/plain": [
       "<Figure size 576x576 with 1 Axes>"
      ]
     },
     "metadata": {
      "needs_background": "light"
     },
     "output_type": "display_data"
    }
   ],
   "source": [
    "X = np.linspace(-15, 15, 1000, dtype=np.float64)\n",
    "X = torch.from_numpy(X)\n",
    "\n",
    "sigmoid_tanh = nn.Tanh() # Pytorch's tanh function\n",
    "tanh = sigmoid_tanh(X)\n",
    "tanh = tanh.numpy()\n",
    "\n",
    "fig, axs = plt.subplots(1, 1, figsize=(8,8))\n",
    "axs.plot(X, tanh, 'b-', label=\"Tanh\")\n",
    "axs.legend(loc=\"upper left\")\n",
    "axs.set_xlim([-16, 16])\n",
    "plt.grid()\n",
    "plt.show()"
   ]
  },
  {
   "cell_type": "markdown",
   "metadata": {},
   "source": [
    "### 4. ReLU"
   ]
  },
  {
   "cell_type": "markdown",
   "metadata": {},
   "source": [
    "Probably the most popular activation function (and the best candidate if you're in doubt which one to use), ReLU outputs $0$ in the case input is **negative**, and is the idendity ($f(x) = x$) otherwise. ReLU formula is below:\n",
    "\n",
    "$$f(x) = max(0, x)$$\n",
    "\n",
    "Next, it's presented ReLU graphically:"
   ]
  },
  {
   "cell_type": "code",
   "execution_count": 45,
   "metadata": {},
   "outputs": [
    {
     "data": {
      "image/png": "[encoded data removed]",
      "text/plain": [
       "<Figure size 576x576 with 1 Axes>"
      ]
     },
     "metadata": {
      "needs_background": "light"
     },
     "output_type": "display_data"
    }
   ],
   "source": [
    "X = np.linspace(-15, 15, 1000, dtype=np.float64)\n",
    "X = torch.from_numpy(X)\n",
    "\n",
    "relu_func = nn.ReLU() # Pytorch's ReLU function\n",
    "relu = relu_func(X)\n",
    "relu = relu.numpy()\n",
    "\n",
    "fig, axs = plt.subplots(1, 1, figsize=(8,8))\n",
    "axs.plot(X, relu, 'b-', label=\"ReLU\")\n",
    "axs.legend(loc=\"upper left\")\n",
    "axs.set_xlim([-16, 16])\n",
    "plt.grid()\n",
    "plt.show()"
   ]
  },
  {
   "cell_type": "markdown",
   "metadata": {},
   "source": [
    "### 5. Leaky ReLU"
   ]
  },
  {
   "cell_type": "markdown",
   "metadata": {},
   "source": [
    "Leaky ReLU is a variation of ReLU function, but it's not $0$ for negative input values. What this function seeks to improve is what is called vanishing gradient problem, which is the result of a null gradient value, due to null activation. To addres this problem, it's used a small term ($\\alpha$) (in the order of $0.01$) for negative input values, and so the gradient does not vanish. Leaky ReLU formula and its plot is as follows:\n",
    "\n",
    "$$f(x) = \\left\\{\n",
    "\\begin{array}{ll}\n",
    "    x,  & x \\geq 0 \\\\\n",
    "    {\\alpha}x,  & x < 0\\\\\n",
    "\\end{array}\n",
    "\\right.\n",
    "$$"
   ]
  },
  {
   "cell_type": "code",
   "execution_count": 46,
   "metadata": {},
   "outputs": [
    {
     "data": {
      "image/png": "[encoded data removed]",
      "text/plain": [
       "<Figure size 576x576 with 1 Axes>"
      ]
     },
     "metadata": {
      "needs_background": "light"
     },
     "output_type": "display_data"
    }
   ],
   "source": [
    "X = np.linspace(-15, 15, 1000, dtype=np.float64)\n",
    "X = torch.from_numpy(X)\n",
    "\n",
    "leaky_relu_func = nn.LeakyReLU(negative_slope=0.02) # Pytorch's LeakyReLU function\n",
    "leaky_relu = leaky_relu_func(X)\n",
    "leaky_relu = leaky_relu.numpy()\n",
    "\n",
    "fig, axs = plt.subplots(1, 1, figsize=(8,8))\n",
    "axs.plot(X, leaky_relu, 'b-', label=\"Leaky ReLU\")\n",
    "axs.legend(loc=\"upper left\")\n",
    "axs.set_xlim([-16, 16])\n",
    "plt.grid()\n",
    "plt.show()"
   ]
  },
  {
   "cell_type": "markdown",
   "metadata": {},
   "source": [
    "### 6. Softmax"
   ]
  },
  {
   "cell_type": "markdown",
   "metadata": {},
   "source": [
    "Softmax formula is represented below:\n",
    "\n",
    "$$S(Y_i) = \\dfrac{e^{Y_i}}{\\sum_{j} e^{Y_j}}$$\n",
    "\n",
    "What this function does is normalize all $Y_i$ values to keep them between $[0,1]$. In other words, it transforms real values to probability values, making sure that it respects Kolmogorov axioms (Probability Theory axioms). In our case, we use it in order to pick up the class with the greatest probability in our model's prediction. As an example, take a look in the image below. In a 3-classes classification problem, for that particular fiction observation, our model would choose the first one (with almost $80\\%$ probability that this is observation's class)."
   ]
  },
  {
   "cell_type": "code",
   "execution_count": 47,
   "metadata": {},
   "outputs": [
    {
     "data": {
      "image/png": "[encoded data removed]",
      "text/plain": [
       "<IPython.core.display.Image object>"
      ]
     },
     "execution_count": 47,
     "metadata": {},
     "output_type": "execute_result"
    }
   ],
   "source": [
    "Image(filename=\"assets/images/softmax_ex.png\")"
   ]
  },
  {
   "cell_type": "code",
   "execution_count": 48,
   "metadata": {},
   "outputs": [
    {
     "name": "stdout",
     "output_type": "stream",
     "text": [
      "Probabilities: [0.79 0.02 0.19] (as expected!)\n"
     ]
    }
   ],
   "source": [
    "logits = torch.tensor([4, 0.1, 2.6])\n",
    "y_hat = torch.softmax(logits, dim=0) # Pytorch's softmax function\n",
    "\n",
    "print('Probabilities:', np.round(y_hat.numpy(), 2), '(as expected!)')"
   ]
  },
  {
   "cell_type": "markdown",
   "metadata": {},
   "source": [
    "---"
   ]
  },
  {
   "cell_type": "markdown",
   "metadata": {},
   "source": [
    "## 1.12: Feedforward Neural Networks"
   ]
  },
  {
   "cell_type": "markdown",
   "metadata": {},
   "source": []
  },
  {
   "cell_type": "code",
   "execution_count": 49,
   "metadata": {},
   "outputs": [],
   "source": [
    "class NeuralNet(nn.Module):\n",
    "\n",
    "    def __init__(self, in_units, hid_units, hid_layers, out_units):\n",
    "        super().__init__()\n",
    "        self.num_in_units = in_units\n",
    "        self.num_hid_layers = hid_layers\n",
    "\n",
    "        self.hidden_layers = [nn.Linear(in_features=in_units, out_features=hid_units)]\n",
    "        self.act_functions = [nn.ReLU()]\n",
    "\n",
    "        for l in range(1, hid_layers):\n",
    "            self.hidden_layers.append(nn.Linear(in_features=hid_units, out_features=hid_units))\n",
    "            self.act_functions.append(nn.ReLU())\n",
    "\n",
    "        self.output_layer = nn.Linear(in_features=hid_units, out_features=out_units)\n",
    "\n",
    "    def forward(self, x):\n",
    "        x = x.view(-1, self.num_in_units)\n",
    "        out = self.hidden_layers[0](x)\n",
    "        out = self.act_functions[0](out)\n",
    "\n",
    "        for l in range(1, self.num_hid_layers):\n",
    "            out = self.hidden_layers[l](out)\n",
    "            out = self.act_functions[l](out)\n",
    "\n",
    "        prediction = self.output_layer(out)\n",
    "\n",
    "        return prediction"
   ]
  },
  {
   "cell_type": "code",
   "execution_count": 50,
   "metadata": {},
   "outputs": [
    {
     "name": "stderr",
     "output_type": "stream",
     "text": [
      "/home/caio/miniconda3/envs/GNENV/lib/python3.7/site-packages/torchvision/datasets/mnist.py:498: UserWarning: The given NumPy array is not writeable, and PyTorch does not support non-writeable tensors. This means you can write to the underlying (supposedly non-writeable) NumPy array using the tensor. You may want to copy the array to protect its data or make it writeable before converting it to a tensor. This type of warning will be suppressed for the rest of this program. (Triggered internally at  /opt/conda/conda-bld/pytorch_1623448204425/work/torch/csrc/utils/tensor_numpy.cpp:180.)\n",
      "  return torch.from_numpy(parsed.astype(m[2], copy=False)).view(*s)\n"
     ]
    }
   ],
   "source": [
    "# Define hyperparameters\n",
    "lr=0.001\n",
    "num_epochs=10\n",
    "batch_size = 32\n",
    "\n",
    "# Loading and transforming data\n",
    "composed = torchvision.transforms.Compose([torchvision.transforms.ToTensor()])\n",
    "mnist_train_dataset = torchvision.datasets.MNIST(root='./data', train=True, download=True, transform=composed)\n",
    "train_dataloader = DataLoader(dataset=mnist_train_dataset, batch_size=batch_size, shuffle=True)\n",
    "\n",
    "mnist_test_dataset = torchvision.datasets.MNIST(root='./data', train=False, download=True, transform=composed)\n",
    "test_dataloader = DataLoader(dataset=mnist_test_dataset, batch_size=batch_size, shuffle=True)"
   ]
  },
  {
   "cell_type": "code",
   "execution_count": 51,
   "metadata": {},
   "outputs": [
    {
     "data": {
      "image/png": "[encoded data removed]",
      "text/plain": [
       "<Figure size 432x288 with 6 Axes>"
      ]
     },
     "metadata": {},
     "output_type": "display_data"
    }
   ],
   "source": [
    "examples = enumerate(train_dataloader)\n",
    "batch_idx, (example_features, example_targets) = next(examples)\n",
    "\n",
    "fig = plt.figure()\n",
    "\n",
    "for i in range(6):\n",
    "    plt.subplot(2, 3, i+1)\n",
    "    plt.tight_layout()\n",
    "    plt.imshow(example_features[i][0], cmap='gray')\n",
    "    plt.title(r'Ground Truth: {label}'.format(label=example_targets[i]))\n",
    "    plt.xticks([])\n",
    "    plt.yticks([])\n",
    "fig.show()"
   ]
  },
  {
   "cell_type": "code",
   "execution_count": 52,
   "metadata": {
    "scrolled": true
   },
   "outputs": [
    {
     "name": "stderr",
     "output_type": "stream",
     "text": [
      "/home/caio/miniconda3/envs/GNENV/lib/python3.7/site-packages/torchvision/datasets/mnist.py:62: UserWarning: train_data has been renamed data\n",
      "  warnings.warn(\"train_data has been renamed data\")\n"
     ]
    },
    {
     "name": "stdout",
     "output_type": "stream",
     "text": [
      "Train Epoch 1 [    0/60000 ( 0%)] | Loss: 2.3066599369049072\n",
      "Train Epoch 1 [  640/60000 ( 1%)] | Loss: 2.2552988529205322\n",
      "Train Epoch 1 [ 1280/60000 ( 2%)] | Loss: 2.205129623413086\n",
      "Train Epoch 1 [ 1920/60000 ( 3%)] | Loss: 2.1920816898345947\n",
      "Train Epoch 1 [ 2560/60000 ( 4%)] | Loss: 2.1457462310791016\n",
      "Train Epoch 1 [ 3200/60000 ( 5%)] | Loss: 2.1031055450439453\n",
      "Train Epoch 1 [ 3840/60000 ( 6%)] | Loss: 2.068420171737671\n",
      "Train Epoch 1 [ 4480/60000 ( 7%)] | Loss: 1.980412483215332\n",
      "Train Epoch 1 [ 5120/60000 ( 9%)] | Loss: 2.004852056503296\n",
      "Train Epoch 1 [ 5760/60000 (10%)] | Loss: 1.9871265888214111\n",
      "Train Epoch 1 [ 6400/60000 (11%)] | Loss: 1.919310450553894\n",
      "Train Epoch 1 [ 7040/60000 (12%)] | Loss: 1.9201349020004272\n",
      "Train Epoch 1 [ 7680/60000 (13%)] | Loss: 1.9021739959716797\n",
      "Train Epoch 1 [ 8320/60000 (14%)] | Loss: 1.8526681661605835\n",
      "Train Epoch 1 [ 8960/60000 (15%)] | Loss: 1.8692024946212769\n",
      "Train Epoch 1 [ 9600/60000 (16%)] | Loss: 1.8288081884384155\n",
      "Train Epoch 1 [10240/60000 (17%)] | Loss: 1.6753923892974854\n",
      "Train Epoch 1 [10880/60000 (18%)] | Loss: 1.8487526178359985\n",
      "Train Epoch 1 [11520/60000 (19%)] | Loss: 1.7229684591293335\n",
      "Train Epoch 1 [12160/60000 (20%)] | Loss: 1.6746277809143066\n",
      "Train Epoch 1 [12800/60000 (21%)] | Loss: 1.6451565027236938\n",
      "Train Epoch 1 [13440/60000 (22%)] | Loss: 1.506656527519226\n",
      "Train Epoch 1 [14080/60000 (23%)] | Loss: 1.5498056411743164\n",
      "Train Epoch 1 [14720/60000 (25%)] | Loss: 1.6355628967285156\n",
      "Train Epoch 1 [15360/60000 (26%)] | Loss: 1.6102628707885742\n",
      "Train Epoch 1 [16000/60000 (27%)] | Loss: 1.5736721754074097\n",
      "Train Epoch 1 [16640/60000 (28%)] | Loss: 1.4821223020553589\n",
      "Train Epoch 1 [17280/60000 (29%)] | Loss: 1.5552995204925537\n",
      "Train Epoch 1 [17920/60000 (30%)] | Loss: 1.3718291521072388\n",
      "Train Epoch 1 [18560/60000 (31%)] | Loss: 1.4778788089752197\n",
      "Train Epoch 1 [19200/60000 (32%)] | Loss: 1.3300905227661133\n",
      "Train Epoch 1 [19840/60000 (33%)] | Loss: 1.3307822942733765\n",
      "Train Epoch 1 [20480/60000 (34%)] | Loss: 1.3962855339050293\n",
      "Train Epoch 1 [21120/60000 (35%)] | Loss: 1.3612182140350342\n",
      "Train Epoch 1 [21760/60000 (36%)] | Loss: 1.427046775817871\n",
      "Train Epoch 1 [22400/60000 (37%)] | Loss: 1.320934772491455\n",
      "Train Epoch 1 [23040/60000 (38%)] | Loss: 1.4069005250930786\n",
      "Train Epoch 1 [23680/60000 (39%)] | Loss: 1.313301682472229\n",
      "Train Epoch 1 [24320/60000 (41%)] | Loss: 1.1788794994354248\n",
      "Train Epoch 1 [24960/60000 (42%)] | Loss: 1.1560592651367188\n",
      "Train Epoch 1 [25600/60000 (43%)] | Loss: 1.2234324216842651\n",
      "Train Epoch 1 [26240/60000 (44%)] | Loss: 1.3005380630493164\n",
      "Train Epoch 1 [26880/60000 (45%)] | Loss: 1.3215209245681763\n",
      "Train Epoch 1 [27520/60000 (46%)] | Loss: 1.2834275960922241\n",
      "Train Epoch 1 [28160/60000 (47%)] | Loss: 1.1082803010940552\n",
      "Train Epoch 1 [28800/60000 (48%)] | Loss: 0.9131673574447632\n",
      "Train Epoch 1 [29440/60000 (49%)] | Loss: 1.295149803161621\n",
      "Train Epoch 1 [30080/60000 (50%)] | Loss: 1.0512315034866333\n",
      "Train Epoch 1 [30720/60000 (51%)] | Loss: 1.1382914781570435\n",
      "Train Epoch 1 [31360/60000 (52%)] | Loss: 1.1500532627105713\n",
      "Train Epoch 1 [32000/60000 (53%)] | Loss: 1.332128882408142\n",
      "Train Epoch 1 [32640/60000 (54%)] | Loss: 1.2667914628982544\n",
      "Train Epoch 1 [33280/60000 (55%)] | Loss: 1.1787793636322021\n",
      "Train Epoch 1 [33920/60000 (57%)] | Loss: 1.028950572013855\n",
      "Train Epoch 1 [34560/60000 (58%)] | Loss: 1.0637595653533936\n",
      "Train Epoch 1 [35200/60000 (59%)] | Loss: 1.0901833772659302\n",
      "Train Epoch 1 [35840/60000 (60%)] | Loss: 0.8817152976989746\n",
      "Train Epoch 1 [36480/60000 (61%)] | Loss: 1.0795989036560059\n",
      "Train Epoch 1 [37120/60000 (62%)] | Loss: 0.9013864994049072\n",
      "Train Epoch 1 [37760/60000 (63%)] | Loss: 0.9434083104133606\n",
      "Train Epoch 1 [38400/60000 (64%)] | Loss: 0.9704037308692932\n",
      "Train Epoch 1 [39040/60000 (65%)] | Loss: 0.8457044363021851\n",
      "Train Epoch 1 [39680/60000 (66%)] | Loss: 0.9536365270614624\n",
      "Train Epoch 1 [40320/60000 (67%)] | Loss: 1.0116697549819946\n",
      "Train Epoch 1 [40960/60000 (68%)] | Loss: 1.066462755203247\n",
      "Train Epoch 1 [41600/60000 (69%)] | Loss: 0.9139185547828674\n",
      "Train Epoch 1 [42240/60000 (70%)] | Loss: 0.9921316504478455\n",
      "Train Epoch 1 [42880/60000 (71%)] | Loss: 0.8845680952072144\n",
      "Train Epoch 1 [43520/60000 (73%)] | Loss: 0.7742287516593933\n",
      "Train Epoch 1 [44160/60000 (74%)] | Loss: 1.0235772132873535\n",
      "Train Epoch 1 [44800/60000 (75%)] | Loss: 0.9371769428253174\n",
      "Train Epoch 1 [45440/60000 (76%)] | Loss: 0.9035663604736328\n",
      "Train Epoch 1 [46080/60000 (77%)] | Loss: 0.8181886672973633\n",
      "Train Epoch 1 [46720/60000 (78%)] | Loss: 0.9256296753883362\n",
      "Train Epoch 1 [47360/60000 (79%)] | Loss: 0.9034909605979919\n",
      "Train Epoch 1 [48000/60000 (80%)] | Loss: 0.9444466233253479\n",
      "Train Epoch 1 [48640/60000 (81%)] | Loss: 0.7768096327781677\n",
      "Train Epoch 1 [49280/60000 (82%)] | Loss: 0.7993221282958984\n",
      "Train Epoch 1 [49920/60000 (83%)] | Loss: 0.9497920870780945\n",
      "Train Epoch 1 [50560/60000 (84%)] | Loss: 0.7074640393257141\n",
      "Train Epoch 1 [51200/60000 (85%)] | Loss: 0.8577078580856323\n",
      "Train Epoch 1 [51840/60000 (86%)] | Loss: 0.742817223072052\n",
      "Train Epoch 1 [52480/60000 (87%)] | Loss: 0.954626739025116\n",
      "Train Epoch 1 [53120/60000 (89%)] | Loss: 0.6458806991577148\n",
      "Train Epoch 1 [53760/60000 (90%)] | Loss: 0.8791285157203674\n",
      "Train Epoch 1 [54400/60000 (91%)] | Loss: 0.8983757495880127\n",
      "Train Epoch 1 [55040/60000 (92%)] | Loss: 0.6462002992630005\n",
      "Train Epoch 1 [55680/60000 (93%)] | Loss: 0.7371487617492676\n",
      "Train Epoch 1 [56320/60000 (94%)] | Loss: 0.7672372460365295\n",
      "Train Epoch 1 [56960/60000 (95%)] | Loss: 0.899456799030304\n",
      "Train Epoch 1 [57600/60000 (96%)] | Loss: 0.8532090187072754\n",
      "Train Epoch 1 [58240/60000 (97%)] | Loss: 0.7280789613723755\n",
      "Train Epoch 1 [58880/60000 (98%)] | Loss: 0.6597307920455933\n",
      "Train Epoch 1 [59520/60000 (99%)] | Loss: 0.5854154229164124\n",
      "\n",
      "Train Acc.: [46808/60000 (78%)]\n",
      "Test Acc.:  [ 8508/10000 (85%)]\n",
      "\n",
      "Train Epoch 2 [    0/60000 ( 0%)] | Loss: 0.7434605360031128\n",
      "Train Epoch 2 [  640/60000 ( 1%)] | Loss: 0.8607137203216553\n",
      "Train Epoch 2 [ 1280/60000 ( 2%)] | Loss: 0.8182652592658997\n",
      "Train Epoch 2 [ 1920/60000 ( 3%)] | Loss: 0.6884172558784485\n",
      "Train Epoch 2 [ 2560/60000 ( 4%)] | Loss: 0.6150513291358948\n",
      "Train Epoch 2 [ 3200/60000 ( 5%)] | Loss: 0.5952174663543701\n",
      "Train Epoch 2 [ 3840/60000 ( 6%)] | Loss: 0.5842951536178589\n",
      "Train Epoch 2 [ 4480/60000 ( 7%)] | Loss: 0.7485201954841614\n",
      "Train Epoch 2 [ 5120/60000 ( 9%)] | Loss: 0.8477242588996887\n",
      "Train Epoch 2 [ 5760/60000 (10%)] | Loss: 0.7877879738807678\n",
      "Train Epoch 2 [ 6400/60000 (11%)] | Loss: 0.7755423784255981\n",
      "Train Epoch 2 [ 7040/60000 (12%)] | Loss: 0.7524732947349548\n",
      "Train Epoch 2 [ 7680/60000 (13%)] | Loss: 0.774403989315033\n",
      "Train Epoch 2 [ 8320/60000 (14%)] | Loss: 0.6141268610954285\n",
      "Train Epoch 2 [ 8960/60000 (15%)] | Loss: 0.7913317084312439\n",
      "Train Epoch 2 [ 9600/60000 (16%)] | Loss: 0.8835633993148804\n",
      "Train Epoch 2 [10240/60000 (17%)] | Loss: 1.018310308456421\n",
      "Train Epoch 2 [10880/60000 (18%)] | Loss: 0.7769027948379517\n",
      "Train Epoch 2 [11520/60000 (19%)] | Loss: 0.7073057889938354\n",
      "Train Epoch 2 [12160/60000 (20%)] | Loss: 0.736757218837738\n",
      "Train Epoch 2 [12800/60000 (21%)] | Loss: 0.813786506652832\n",
      "Train Epoch 2 [13440/60000 (22%)] | Loss: 0.6717079877853394\n",
      "Train Epoch 2 [14080/60000 (23%)] | Loss: 0.4982530176639557\n",
      "Train Epoch 2 [14720/60000 (25%)] | Loss: 0.5862476825714111\n",
      "Train Epoch 2 [15360/60000 (26%)] | Loss: 0.7502174973487854\n",
      "Train Epoch 2 [16000/60000 (27%)] | Loss: 0.8594862222671509\n",
      "Train Epoch 2 [16640/60000 (28%)] | Loss: 0.5985415577888489\n",
      "Train Epoch 2 [17280/60000 (29%)] | Loss: 0.8559842109680176\n",
      "Train Epoch 2 [17920/60000 (30%)] | Loss: 0.8145036697387695\n",
      "Train Epoch 2 [18560/60000 (31%)] | Loss: 0.7745710015296936\n",
      "Train Epoch 2 [19200/60000 (32%)] | Loss: 0.6317744851112366\n",
      "Train Epoch 2 [19840/60000 (33%)] | Loss: 0.514450192451477\n",
      "Train Epoch 2 [20480/60000 (34%)] | Loss: 0.7060701847076416\n",
      "Train Epoch 2 [21120/60000 (35%)] | Loss: 0.7322573065757751\n",
      "Train Epoch 2 [21760/60000 (36%)] | Loss: 0.7080063223838806\n",
      "Train Epoch 2 [22400/60000 (37%)] | Loss: 0.7120090126991272\n",
      "Train Epoch 2 [23040/60000 (38%)] | Loss: 0.5706325769424438\n",
      "Train Epoch 2 [23680/60000 (39%)] | Loss: 0.7520284056663513\n",
      "Train Epoch 2 [24320/60000 (41%)] | Loss: 0.6760500073432922\n",
      "Train Epoch 2 [24960/60000 (42%)] | Loss: 0.5581010580062866\n",
      "Train Epoch 2 [25600/60000 (43%)] | Loss: 0.7561171650886536\n",
      "Train Epoch 2 [26240/60000 (44%)] | Loss: 0.6889649033546448\n",
      "Train Epoch 2 [26880/60000 (45%)] | Loss: 0.6360470056533813\n",
      "Train Epoch 2 [27520/60000 (46%)] | Loss: 0.6700634956359863\n",
      "Train Epoch 2 [28160/60000 (47%)] | Loss: 0.7388975024223328\n",
      "Train Epoch 2 [28800/60000 (48%)] | Loss: 0.6908343434333801\n",
      "Train Epoch 2 [29440/60000 (49%)] | Loss: 0.5596840381622314\n",
      "Train Epoch 2 [30080/60000 (50%)] | Loss: 0.6675053834915161\n",
      "Train Epoch 2 [30720/60000 (51%)] | Loss: 0.45946046710014343\n",
      "Train Epoch 2 [31360/60000 (52%)] | Loss: 0.8249347805976868\n",
      "Train Epoch 2 [32000/60000 (53%)] | Loss: 0.6632341146469116\n",
      "Train Epoch 2 [32640/60000 (54%)] | Loss: 0.5808451175689697\n",
      "Train Epoch 2 [33280/60000 (55%)] | Loss: 0.5055150389671326\n",
      "Train Epoch 2 [33920/60000 (57%)] | Loss: 0.4712408781051636\n",
      "Train Epoch 2 [34560/60000 (58%)] | Loss: 0.7546085119247437\n",
      "Train Epoch 2 [35200/60000 (59%)] | Loss: 0.5036987066268921\n",
      "Train Epoch 2 [35840/60000 (60%)] | Loss: 0.8154172301292419\n",
      "Train Epoch 2 [36480/60000 (61%)] | Loss: 0.6497836112976074\n",
      "Train Epoch 2 [37120/60000 (62%)] | Loss: 0.2793203592300415\n",
      "Train Epoch 2 [37760/60000 (63%)] | Loss: 0.5670604109764099\n",
      "Train Epoch 2 [38400/60000 (64%)] | Loss: 0.6274818778038025\n",
      "Train Epoch 2 [39040/60000 (65%)] | Loss: 0.754569947719574\n",
      "Train Epoch 2 [39680/60000 (66%)] | Loss: 0.6260308027267456\n",
      "Train Epoch 2 [40320/60000 (67%)] | Loss: 0.7785138487815857\n",
      "Train Epoch 2 [40960/60000 (68%)] | Loss: 0.5332230925559998\n",
      "Train Epoch 2 [41600/60000 (69%)] | Loss: 0.4051420986652374\n",
      "Train Epoch 2 [42240/60000 (70%)] | Loss: 0.578009843826294\n",
      "Train Epoch 2 [42880/60000 (71%)] | Loss: 0.5273293256759644\n",
      "Train Epoch 2 [43520/60000 (73%)] | Loss: 0.5232445597648621\n",
      "Train Epoch 2 [44160/60000 (74%)] | Loss: 0.4790250062942505\n",
      "Train Epoch 2 [44800/60000 (75%)] | Loss: 0.827016294002533\n",
      "Train Epoch 2 [45440/60000 (76%)] | Loss: 0.6111788749694824\n",
      "Train Epoch 2 [46080/60000 (77%)] | Loss: 0.5478759407997131\n",
      "Train Epoch 2 [46720/60000 (78%)] | Loss: 0.49809521436691284\n",
      "Train Epoch 2 [47360/60000 (79%)] | Loss: 0.6172594428062439\n",
      "Train Epoch 2 [48000/60000 (80%)] | Loss: 0.7687824368476868\n",
      "Train Epoch 2 [48640/60000 (81%)] | Loss: 0.4986269772052765\n",
      "Train Epoch 2 [49280/60000 (82%)] | Loss: 0.5324405431747437\n",
      "Train Epoch 2 [49920/60000 (83%)] | Loss: 0.39882636070251465\n",
      "Train Epoch 2 [50560/60000 (84%)] | Loss: 0.566485583782196\n",
      "Train Epoch 2 [51200/60000 (85%)] | Loss: 0.5275317430496216\n",
      "Train Epoch 2 [51840/60000 (86%)] | Loss: 0.9062344431877136\n",
      "Train Epoch 2 [52480/60000 (87%)] | Loss: 0.5922015905380249\n",
      "Train Epoch 2 [53120/60000 (89%)] | Loss: 0.6907834410667419\n",
      "Train Epoch 2 [53760/60000 (90%)] | Loss: 0.5779141783714294\n",
      "Train Epoch 2 [54400/60000 (91%)] | Loss: 0.5524269938468933\n",
      "Train Epoch 2 [55040/60000 (92%)] | Loss: 0.5313195586204529\n",
      "Train Epoch 2 [55680/60000 (93%)] | Loss: 0.711906373500824\n",
      "Train Epoch 2 [56320/60000 (94%)] | Loss: 0.6486636996269226\n",
      "Train Epoch 2 [56960/60000 (95%)] | Loss: 0.46923163533210754\n",
      "Train Epoch 2 [57600/60000 (96%)] | Loss: 0.48882219195365906\n",
      "Train Epoch 2 [58240/60000 (97%)] | Loss: 0.6304654479026794\n",
      "Train Epoch 2 [58880/60000 (98%)] | Loss: 0.563521146774292\n",
      "Train Epoch 2 [59520/60000 (99%)] | Loss: 0.4882034659385681\n",
      "\n",
      "Train Acc.: [51246/60000 (85%)]\n",
      "Test Acc.:  [ 8777/10000 (88%)]\n",
      "\n",
      "Train Epoch 3 [    0/60000 ( 0%)] | Loss: 0.5543844699859619\n",
      "Train Epoch 3 [  640/60000 ( 1%)] | Loss: 0.5199561715126038\n",
      "Train Epoch 3 [ 1280/60000 ( 2%)] | Loss: 0.32898104190826416\n",
      "Train Epoch 3 [ 1920/60000 ( 3%)] | Loss: 0.41444188356399536\n",
      "Train Epoch 3 [ 2560/60000 ( 4%)] | Loss: 0.4743238091468811\n",
      "Train Epoch 3 [ 3200/60000 ( 5%)] | Loss: 0.589481770992279\n",
      "Train Epoch 3 [ 3840/60000 ( 6%)] | Loss: 0.5362977981567383\n",
      "Train Epoch 3 [ 4480/60000 ( 7%)] | Loss: 0.4452139139175415\n",
      "Train Epoch 3 [ 5120/60000 ( 9%)] | Loss: 0.6446142792701721\n",
      "Train Epoch 3 [ 5760/60000 (10%)] | Loss: 0.4582475423812866\n",
      "Train Epoch 3 [ 6400/60000 (11%)] | Loss: 0.47249823808670044\n",
      "Train Epoch 3 [ 7040/60000 (12%)] | Loss: 0.6638402938842773\n",
      "Train Epoch 3 [ 7680/60000 (13%)] | Loss: 0.340548574924469\n",
      "Train Epoch 3 [ 8320/60000 (14%)] | Loss: 0.5403924584388733\n",
      "Train Epoch 3 [ 8960/60000 (15%)] | Loss: 0.26184406876564026\n",
      "Train Epoch 3 [ 9600/60000 (16%)] | Loss: 0.4033866822719574\n",
      "Train Epoch 3 [10240/60000 (17%)] | Loss: 0.48723259568214417\n",
      "Train Epoch 3 [10880/60000 (18%)] | Loss: 0.3823015093803406\n",
      "Train Epoch 3 [11520/60000 (19%)] | Loss: 0.5558812618255615\n",
      "Train Epoch 3 [12160/60000 (20%)] | Loss: 0.32511064410209656\n",
      "Train Epoch 3 [12800/60000 (21%)] | Loss: 0.529934823513031\n",
      "Train Epoch 3 [13440/60000 (22%)] | Loss: 0.9182983040809631\n",
      "Train Epoch 3 [14080/60000 (23%)] | Loss: 0.3996208906173706\n",
      "Train Epoch 3 [14720/60000 (25%)] | Loss: 0.4684186279773712\n",
      "Train Epoch 3 [15360/60000 (26%)] | Loss: 0.5079085230827332\n",
      "Train Epoch 3 [16000/60000 (27%)] | Loss: 0.39632534980773926\n",
      "Train Epoch 3 [16640/60000 (28%)] | Loss: 0.5017687082290649\n",
      "Train Epoch 3 [17280/60000 (29%)] | Loss: 0.5207261443138123\n",
      "Train Epoch 3 [17920/60000 (30%)] | Loss: 0.48229435086250305\n",
      "Train Epoch 3 [18560/60000 (31%)] | Loss: 0.6705824136734009\n",
      "Train Epoch 3 [19200/60000 (32%)] | Loss: 0.529416561126709\n",
      "Train Epoch 3 [19840/60000 (33%)] | Loss: 0.34555989503860474\n",
      "Train Epoch 3 [20480/60000 (34%)] | Loss: 0.6398600935935974\n",
      "Train Epoch 3 [21120/60000 (35%)] | Loss: 0.6754065752029419\n",
      "Train Epoch 3 [21760/60000 (36%)] | Loss: 0.603947639465332\n",
      "Train Epoch 3 [22400/60000 (37%)] | Loss: 0.48979437351226807\n",
      "Train Epoch 3 [23040/60000 (38%)] | Loss: 0.44645240902900696\n",
      "Train Epoch 3 [23680/60000 (39%)] | Loss: 0.7235649824142456\n",
      "Train Epoch 3 [24320/60000 (41%)] | Loss: 0.560280978679657\n",
      "Train Epoch 3 [24960/60000 (42%)] | Loss: 0.5102463364601135\n",
      "Train Epoch 3 [25600/60000 (43%)] | Loss: 0.4651945233345032\n",
      "Train Epoch 3 [26240/60000 (44%)] | Loss: 0.5647408962249756\n",
      "Train Epoch 3 [26880/60000 (45%)] | Loss: 0.5487093329429626\n",
      "Train Epoch 3 [27520/60000 (46%)] | Loss: 0.5444521307945251\n",
      "Train Epoch 3 [28160/60000 (47%)] | Loss: 0.33634480834007263\n",
      "Train Epoch 3 [28800/60000 (48%)] | Loss: 0.42035382986068726\n",
      "Train Epoch 3 [29440/60000 (49%)] | Loss: 0.44621753692626953\n",
      "Train Epoch 3 [30080/60000 (50%)] | Loss: 0.235608771443367\n",
      "Train Epoch 3 [30720/60000 (51%)] | Loss: 0.9963733553886414\n",
      "Train Epoch 3 [31360/60000 (52%)] | Loss: 0.469084233045578\n",
      "Train Epoch 3 [32000/60000 (53%)] | Loss: 0.3734884560108185\n",
      "Train Epoch 3 [32640/60000 (54%)] | Loss: 0.6158790588378906\n",
      "Train Epoch 3 [33280/60000 (55%)] | Loss: 0.339521586894989\n",
      "Train Epoch 3 [33920/60000 (57%)] | Loss: 0.493975430727005\n",
      "Train Epoch 3 [34560/60000 (58%)] | Loss: 0.7900111079216003\n",
      "Train Epoch 3 [35200/60000 (59%)] | Loss: 0.45962995290756226\n",
      "Train Epoch 3 [35840/60000 (60%)] | Loss: 0.4334346055984497\n",
      "Train Epoch 3 [36480/60000 (61%)] | Loss: 0.4786265194416046\n",
      "Train Epoch 3 [37120/60000 (62%)] | Loss: 0.36123907566070557\n",
      "Train Epoch 3 [37760/60000 (63%)] | Loss: 0.31296011805534363\n",
      "Train Epoch 3 [38400/60000 (64%)] | Loss: 0.499218612909317\n",
      "Train Epoch 3 [39040/60000 (65%)] | Loss: 0.366091787815094\n",
      "Train Epoch 3 [39680/60000 (66%)] | Loss: 0.5675020813941956\n",
      "Train Epoch 3 [40320/60000 (67%)] | Loss: 0.4538950026035309\n",
      "Train Epoch 3 [40960/60000 (68%)] | Loss: 0.5698968172073364\n",
      "Train Epoch 3 [41600/60000 (69%)] | Loss: 0.4254048466682434\n",
      "Train Epoch 3 [42240/60000 (70%)] | Loss: 0.491678386926651\n",
      "Train Epoch 3 [42880/60000 (71%)] | Loss: 0.42434054613113403\n",
      "Train Epoch 3 [43520/60000 (73%)] | Loss: 0.502470850944519\n",
      "Train Epoch 3 [44160/60000 (74%)] | Loss: 0.5036202073097229\n",
      "Train Epoch 3 [44800/60000 (75%)] | Loss: 0.3588499128818512\n",
      "Train Epoch 3 [45440/60000 (76%)] | Loss: 0.4534423351287842\n",
      "Train Epoch 3 [46080/60000 (77%)] | Loss: 0.5254703164100647\n",
      "Train Epoch 3 [46720/60000 (78%)] | Loss: 0.47605761885643005\n",
      "Train Epoch 3 [47360/60000 (79%)] | Loss: 0.5973209142684937\n",
      "Train Epoch 3 [48000/60000 (80%)] | Loss: 0.3457777202129364\n",
      "Train Epoch 3 [48640/60000 (81%)] | Loss: 0.5329703688621521\n",
      "Train Epoch 3 [49280/60000 (82%)] | Loss: 0.3647158443927765\n",
      "Train Epoch 3 [49920/60000 (83%)] | Loss: 0.6218028664588928\n",
      "Train Epoch 3 [50560/60000 (84%)] | Loss: 0.6780989766120911\n",
      "Train Epoch 3 [51200/60000 (85%)] | Loss: 0.4500369429588318\n",
      "Train Epoch 3 [51840/60000 (86%)] | Loss: 0.5477519035339355\n",
      "Train Epoch 3 [52480/60000 (87%)] | Loss: 0.342054158449173\n",
      "Train Epoch 3 [53120/60000 (89%)] | Loss: 0.5066129565238953\n",
      "Train Epoch 3 [53760/60000 (90%)] | Loss: 0.5129335522651672\n",
      "Train Epoch 3 [54400/60000 (91%)] | Loss: 0.5772820115089417\n",
      "Train Epoch 3 [55040/60000 (92%)] | Loss: 0.4718772768974304\n",
      "Train Epoch 3 [55680/60000 (93%)] | Loss: 0.4158639907836914\n",
      "Train Epoch 3 [56320/60000 (94%)] | Loss: 0.6420717835426331\n",
      "Train Epoch 3 [56960/60000 (95%)] | Loss: 0.2871599495410919\n",
      "Train Epoch 3 [57600/60000 (96%)] | Loss: 0.4836127758026123\n",
      "Train Epoch 3 [58240/60000 (97%)] | Loss: 0.5169781446456909\n",
      "Train Epoch 3 [58880/60000 (98%)] | Loss: 0.4795852601528168\n",
      "Train Epoch 3 [59520/60000 (99%)] | Loss: 0.3545563220977783\n",
      "\n",
      "Train Acc.: [52455/60000 (87%)]\n",
      "Test Acc.:  [ 8891/10000 (89%)]\n",
      "\n",
      "Train Epoch 4 [    0/60000 ( 0%)] | Loss: 0.35542672872543335\n",
      "Train Epoch 4 [  640/60000 ( 1%)] | Loss: 0.3984537720680237\n",
      "Train Epoch 4 [ 1280/60000 ( 2%)] | Loss: 0.6147835850715637\n",
      "Train Epoch 4 [ 1920/60000 ( 3%)] | Loss: 0.6995642185211182\n",
      "Train Epoch 4 [ 2560/60000 ( 4%)] | Loss: 0.4033223092556\n",
      "Train Epoch 4 [ 3200/60000 ( 5%)] | Loss: 0.5866226553916931\n",
      "Train Epoch 4 [ 3840/60000 ( 6%)] | Loss: 0.43542999029159546\n",
      "Train Epoch 4 [ 4480/60000 ( 7%)] | Loss: 0.5305359363555908\n",
      "Train Epoch 4 [ 5120/60000 ( 9%)] | Loss: 0.5158870220184326\n",
      "Train Epoch 4 [ 5760/60000 (10%)] | Loss: 0.4904705882072449\n",
      "Train Epoch 4 [ 6400/60000 (11%)] | Loss: 0.42758291959762573\n",
      "Train Epoch 4 [ 7040/60000 (12%)] | Loss: 0.3871283233165741\n",
      "Train Epoch 4 [ 7680/60000 (13%)] | Loss: 0.5180664658546448\n",
      "Train Epoch 4 [ 8320/60000 (14%)] | Loss: 0.3733893930912018\n",
      "Train Epoch 4 [ 8960/60000 (15%)] | Loss: 0.3822738230228424\n",
      "Train Epoch 4 [ 9600/60000 (16%)] | Loss: 0.46340224146842957\n",
      "Train Epoch 4 [10240/60000 (17%)] | Loss: 0.4447483718395233\n",
      "Train Epoch 4 [10880/60000 (18%)] | Loss: 0.40881407260894775\n",
      "Train Epoch 4 [11520/60000 (19%)] | Loss: 0.3787400424480438\n",
      "Train Epoch 4 [12160/60000 (20%)] | Loss: 0.6037126183509827\n",
      "Train Epoch 4 [12800/60000 (21%)] | Loss: 0.3561127781867981\n",
      "Train Epoch 4 [13440/60000 (22%)] | Loss: 0.6193589568138123\n",
      "Train Epoch 4 [14080/60000 (23%)] | Loss: 0.6330639123916626\n",
      "Train Epoch 4 [14720/60000 (25%)] | Loss: 0.2324744611978531\n",
      "Train Epoch 4 [15360/60000 (26%)] | Loss: 0.7133270502090454\n",
      "Train Epoch 4 [16000/60000 (27%)] | Loss: 0.4120890498161316\n",
      "Train Epoch 4 [16640/60000 (28%)] | Loss: 0.43936917185783386\n",
      "Train Epoch 4 [17280/60000 (29%)] | Loss: 0.36633190512657166\n",
      "Train Epoch 4 [17920/60000 (30%)] | Loss: 0.5359995365142822\n",
      "Train Epoch 4 [18560/60000 (31%)] | Loss: 0.36990177631378174\n",
      "Train Epoch 4 [19200/60000 (32%)] | Loss: 0.6696769595146179\n",
      "Train Epoch 4 [19840/60000 (33%)] | Loss: 0.5199704170227051\n",
      "Train Epoch 4 [20480/60000 (34%)] | Loss: 0.26811137795448303\n",
      "Train Epoch 4 [21120/60000 (35%)] | Loss: 0.4496973156929016\n",
      "Train Epoch 4 [21760/60000 (36%)] | Loss: 0.3407805562019348\n",
      "Train Epoch 4 [22400/60000 (37%)] | Loss: 0.410259485244751\n",
      "Train Epoch 4 [23040/60000 (38%)] | Loss: 0.5040181875228882\n",
      "Train Epoch 4 [23680/60000 (39%)] | Loss: 0.5737306475639343\n",
      "Train Epoch 4 [24320/60000 (41%)] | Loss: 0.49286651611328125\n",
      "Train Epoch 4 [24960/60000 (42%)] | Loss: 0.6317517757415771\n",
      "Train Epoch 4 [25600/60000 (43%)] | Loss: 0.4314150810241699\n",
      "Train Epoch 4 [26240/60000 (44%)] | Loss: 0.33485040068626404\n",
      "Train Epoch 4 [26880/60000 (45%)] | Loss: 0.45965221524238586\n",
      "Train Epoch 4 [27520/60000 (46%)] | Loss: 0.5051259398460388\n",
      "Train Epoch 4 [28160/60000 (47%)] | Loss: 0.33448708057403564\n",
      "Train Epoch 4 [28800/60000 (48%)] | Loss: 0.5031788945198059\n",
      "Train Epoch 4 [29440/60000 (49%)] | Loss: 0.3302275538444519\n",
      "Train Epoch 4 [30080/60000 (50%)] | Loss: 0.3785788118839264\n",
      "Train Epoch 4 [30720/60000 (51%)] | Loss: 0.4981801211833954\n",
      "Train Epoch 4 [31360/60000 (52%)] | Loss: 0.39203956723213196\n",
      "Train Epoch 4 [32000/60000 (53%)] | Loss: 0.30172690749168396\n",
      "Train Epoch 4 [32640/60000 (54%)] | Loss: 0.2769235670566559\n",
      "Train Epoch 4 [33280/60000 (55%)] | Loss: 0.5263926982879639\n",
      "Train Epoch 4 [33920/60000 (57%)] | Loss: 0.4363239109516144\n",
      "Train Epoch 4 [34560/60000 (58%)] | Loss: 0.4010184109210968\n",
      "Train Epoch 4 [35200/60000 (59%)] | Loss: 0.4857718050479889\n",
      "Train Epoch 4 [35840/60000 (60%)] | Loss: 0.45340266823768616\n",
      "Train Epoch 4 [36480/60000 (61%)] | Loss: 0.2669018507003784\n",
      "Train Epoch 4 [37120/60000 (62%)] | Loss: 0.42308005690574646\n",
      "Train Epoch 4 [37760/60000 (63%)] | Loss: 0.3742363452911377\n",
      "Train Epoch 4 [38400/60000 (64%)] | Loss: 0.44759178161621094\n",
      "Train Epoch 4 [39040/60000 (65%)] | Loss: 0.3939450681209564\n",
      "Train Epoch 4 [39680/60000 (66%)] | Loss: 0.661184549331665\n",
      "Train Epoch 4 [40320/60000 (67%)] | Loss: 0.6023156046867371\n",
      "Train Epoch 4 [40960/60000 (68%)] | Loss: 0.5164124965667725\n",
      "Train Epoch 4 [41600/60000 (69%)] | Loss: 0.3398958146572113\n",
      "Train Epoch 4 [42240/60000 (70%)] | Loss: 0.6852176189422607\n",
      "Train Epoch 4 [42880/60000 (71%)] | Loss: 0.6335237622261047\n",
      "Train Epoch 4 [43520/60000 (73%)] | Loss: 0.4167165160179138\n",
      "Train Epoch 4 [44160/60000 (74%)] | Loss: 0.3680228590965271\n",
      "Train Epoch 4 [44800/60000 (75%)] | Loss: 0.7036316990852356\n",
      "Train Epoch 4 [45440/60000 (76%)] | Loss: 0.35775837302207947\n",
      "Train Epoch 4 [46080/60000 (77%)] | Loss: 0.2598019540309906\n",
      "Train Epoch 4 [46720/60000 (78%)] | Loss: 0.4577481150627136\n",
      "Train Epoch 4 [47360/60000 (79%)] | Loss: 0.3629764914512634\n",
      "Train Epoch 4 [48000/60000 (80%)] | Loss: 0.2750958800315857\n",
      "Train Epoch 4 [48640/60000 (81%)] | Loss: 0.2693246006965637\n",
      "Train Epoch 4 [49280/60000 (82%)] | Loss: 0.4489569067955017\n",
      "Train Epoch 4 [49920/60000 (83%)] | Loss: 0.2576581835746765\n",
      "Train Epoch 4 [50560/60000 (84%)] | Loss: 0.354593962430954\n",
      "Train Epoch 4 [51200/60000 (85%)] | Loss: 0.3838685154914856\n",
      "Train Epoch 4 [51840/60000 (86%)] | Loss: 0.4949929714202881\n",
      "Train Epoch 4 [52480/60000 (87%)] | Loss: 0.38595056533813477\n",
      "Train Epoch 4 [53120/60000 (89%)] | Loss: 0.852114200592041\n",
      "Train Epoch 4 [53760/60000 (90%)] | Loss: 0.38215383887290955\n",
      "Train Epoch 4 [54400/60000 (91%)] | Loss: 0.7091338634490967\n",
      "Train Epoch 4 [55040/60000 (92%)] | Loss: 0.41642075777053833\n",
      "Train Epoch 4 [55680/60000 (93%)] | Loss: 0.4650152325630188\n",
      "Train Epoch 4 [56320/60000 (94%)] | Loss: 0.4927324652671814\n",
      "Train Epoch 4 [56960/60000 (95%)] | Loss: 0.4973388910293579\n",
      "Train Epoch 4 [57600/60000 (96%)] | Loss: 0.44856250286102295\n",
      "Train Epoch 4 [58240/60000 (97%)] | Loss: 0.37838640809059143\n",
      "Train Epoch 4 [58880/60000 (98%)] | Loss: 0.5437615513801575\n",
      "Train Epoch 4 [59520/60000 (99%)] | Loss: 0.44500744342803955\n",
      "\n",
      "Train Acc.: [53167/60000 (89%)]\n",
      "Test Acc.:  [ 8973/10000 (90%)]\n",
      "\n",
      "Train Epoch 5 [    0/60000 ( 0%)] | Loss: 0.308266282081604\n",
      "Train Epoch 5 [  640/60000 ( 1%)] | Loss: 0.28728389739990234\n",
      "Train Epoch 5 [ 1280/60000 ( 2%)] | Loss: 0.32068368792533875\n",
      "Train Epoch 5 [ 1920/60000 ( 3%)] | Loss: 0.6321894526481628\n",
      "Train Epoch 5 [ 2560/60000 ( 4%)] | Loss: 0.49242955446243286\n",
      "Train Epoch 5 [ 3200/60000 ( 5%)] | Loss: 0.3834386467933655\n",
      "Train Epoch 5 [ 3840/60000 ( 6%)] | Loss: 0.6178380250930786\n",
      "Train Epoch 5 [ 4480/60000 ( 7%)] | Loss: 0.5194064378738403\n",
      "Train Epoch 5 [ 5120/60000 ( 9%)] | Loss: 0.5342845916748047\n",
      "Train Epoch 5 [ 5760/60000 (10%)] | Loss: 0.24049896001815796\n",
      "Train Epoch 5 [ 6400/60000 (11%)] | Loss: 0.3451516032218933\n",
      "Train Epoch 5 [ 7040/60000 (12%)] | Loss: 0.44153717160224915\n",
      "Train Epoch 5 [ 7680/60000 (13%)] | Loss: 0.4526774287223816\n",
      "Train Epoch 5 [ 8320/60000 (14%)] | Loss: 0.26804327964782715\n",
      "Train Epoch 5 [ 8960/60000 (15%)] | Loss: 0.3143633306026459\n",
      "Train Epoch 5 [ 9600/60000 (16%)] | Loss: 0.20115739107131958\n",
      "Train Epoch 5 [10240/60000 (17%)] | Loss: 0.4421558976173401\n",
      "Train Epoch 5 [10880/60000 (18%)] | Loss: 0.36239543557167053\n",
      "Train Epoch 5 [11520/60000 (19%)] | Loss: 0.45155471563339233\n",
      "Train Epoch 5 [12160/60000 (20%)] | Loss: 0.586651086807251\n",
      "Train Epoch 5 [12800/60000 (21%)] | Loss: 0.41597503423690796\n",
      "Train Epoch 5 [13440/60000 (22%)] | Loss: 0.5237981677055359\n",
      "Train Epoch 5 [14080/60000 (23%)] | Loss: 0.43456485867500305\n",
      "Train Epoch 5 [14720/60000 (25%)] | Loss: 0.31533682346343994\n",
      "Train Epoch 5 [15360/60000 (26%)] | Loss: 0.33895230293273926\n",
      "Train Epoch 5 [16000/60000 (27%)] | Loss: 0.4015067517757416\n",
      "Train Epoch 5 [16640/60000 (28%)] | Loss: 0.47909456491470337\n",
      "Train Epoch 5 [17280/60000 (29%)] | Loss: 0.34795933961868286\n",
      "Train Epoch 5 [17920/60000 (30%)] | Loss: 0.49461954832077026\n",
      "Train Epoch 5 [18560/60000 (31%)] | Loss: 0.22977215051651\n",
      "Train Epoch 5 [19200/60000 (32%)] | Loss: 0.4020383059978485\n",
      "Train Epoch 5 [19840/60000 (33%)] | Loss: 0.4040534794330597\n",
      "Train Epoch 5 [20480/60000 (34%)] | Loss: 0.2812538146972656\n",
      "Train Epoch 5 [21120/60000 (35%)] | Loss: 0.339389830827713\n",
      "Train Epoch 5 [21760/60000 (36%)] | Loss: 0.4007181227207184\n",
      "Train Epoch 5 [22400/60000 (37%)] | Loss: 0.4003008306026459\n",
      "Train Epoch 5 [23040/60000 (38%)] | Loss: 0.40347614884376526\n",
      "Train Epoch 5 [23680/60000 (39%)] | Loss: 0.5041195750236511\n",
      "Train Epoch 5 [24320/60000 (41%)] | Loss: 0.3781583905220032\n",
      "Train Epoch 5 [24960/60000 (42%)] | Loss: 0.3898979127407074\n",
      "Train Epoch 5 [25600/60000 (43%)] | Loss: 0.31883400678634644\n",
      "Train Epoch 5 [26240/60000 (44%)] | Loss: 0.397186815738678\n",
      "Train Epoch 5 [26880/60000 (45%)] | Loss: 0.34868767857551575\n",
      "Train Epoch 5 [27520/60000 (46%)] | Loss: 0.4314872920513153\n",
      "Train Epoch 5 [28160/60000 (47%)] | Loss: 0.7113997340202332\n",
      "Train Epoch 5 [28800/60000 (48%)] | Loss: 0.36484184861183167\n",
      "Train Epoch 5 [29440/60000 (49%)] | Loss: 0.35025352239608765\n",
      "Train Epoch 5 [30080/60000 (50%)] | Loss: 0.19850346446037292\n",
      "Train Epoch 5 [30720/60000 (51%)] | Loss: 0.5745853781700134\n",
      "Train Epoch 5 [31360/60000 (52%)] | Loss: 0.280071496963501\n",
      "Train Epoch 5 [32000/60000 (53%)] | Loss: 0.2777590751647949\n",
      "Train Epoch 5 [32640/60000 (54%)] | Loss: 0.5933994054794312\n",
      "Train Epoch 5 [33280/60000 (55%)] | Loss: 0.3646911382675171\n",
      "Train Epoch 5 [33920/60000 (57%)] | Loss: 0.31673604249954224\n",
      "Train Epoch 5 [34560/60000 (58%)] | Loss: 0.5096406936645508\n",
      "Train Epoch 5 [35200/60000 (59%)] | Loss: 0.336164653301239\n",
      "Train Epoch 5 [35840/60000 (60%)] | Loss: 0.49714571237564087\n",
      "Train Epoch 5 [36480/60000 (61%)] | Loss: 0.309250146150589\n",
      "Train Epoch 5 [37120/60000 (62%)] | Loss: 0.2904793918132782\n",
      "Train Epoch 5 [37760/60000 (63%)] | Loss: 0.5605047345161438\n",
      "Train Epoch 5 [38400/60000 (64%)] | Loss: 0.4010985791683197\n",
      "Train Epoch 5 [39040/60000 (65%)] | Loss: 0.22908228635787964\n",
      "Train Epoch 5 [39680/60000 (66%)] | Loss: 0.2119038850069046\n",
      "Train Epoch 5 [40320/60000 (67%)] | Loss: 0.5493685007095337\n",
      "Train Epoch 5 [40960/60000 (68%)] | Loss: 0.32170695066452026\n",
      "Train Epoch 5 [41600/60000 (69%)] | Loss: 0.35485073924064636\n",
      "Train Epoch 5 [42240/60000 (70%)] | Loss: 0.35749495029449463\n",
      "Train Epoch 5 [42880/60000 (71%)] | Loss: 0.5904448628425598\n",
      "Train Epoch 5 [43520/60000 (73%)] | Loss: 0.40660199522972107\n",
      "Train Epoch 5 [44160/60000 (74%)] | Loss: 0.2127135992050171\n",
      "Train Epoch 5 [44800/60000 (75%)] | Loss: 0.34671550989151\n",
      "Train Epoch 5 [45440/60000 (76%)] | Loss: 0.28387024998664856\n",
      "Train Epoch 5 [46080/60000 (77%)] | Loss: 0.49546682834625244\n",
      "Train Epoch 5 [46720/60000 (78%)] | Loss: 0.5537451505661011\n",
      "Train Epoch 5 [47360/60000 (79%)] | Loss: 0.3445080518722534\n",
      "Train Epoch 5 [48000/60000 (80%)] | Loss: 0.3382531404495239\n",
      "Train Epoch 5 [48640/60000 (81%)] | Loss: 0.5575422048568726\n",
      "Train Epoch 5 [49280/60000 (82%)] | Loss: 0.29949361085891724\n",
      "Train Epoch 5 [49920/60000 (83%)] | Loss: 0.5189111828804016\n",
      "Train Epoch 5 [50560/60000 (84%)] | Loss: 0.6162353157997131\n",
      "Train Epoch 5 [51200/60000 (85%)] | Loss: 0.3756643831729889\n",
      "Train Epoch 5 [51840/60000 (86%)] | Loss: 0.27106979489326477\n",
      "Train Epoch 5 [52480/60000 (87%)] | Loss: 0.3076697885990143\n",
      "Train Epoch 5 [53120/60000 (89%)] | Loss: 0.3707369863986969\n",
      "Train Epoch 5 [53760/60000 (90%)] | Loss: 0.2533518075942993\n",
      "Train Epoch 5 [54400/60000 (91%)] | Loss: 0.30289798974990845\n",
      "Train Epoch 5 [55040/60000 (92%)] | Loss: 0.29143425822257996\n",
      "Train Epoch 5 [55680/60000 (93%)] | Loss: 0.33414769172668457\n",
      "Train Epoch 5 [56320/60000 (94%)] | Loss: 0.27507057785987854\n",
      "Train Epoch 5 [56960/60000 (95%)] | Loss: 0.3035270869731903\n",
      "Train Epoch 5 [57600/60000 (96%)] | Loss: 0.3030414283275604\n",
      "Train Epoch 5 [58240/60000 (97%)] | Loss: 0.45292335748672485\n",
      "Train Epoch 5 [58880/60000 (98%)] | Loss: 0.29193806648254395\n",
      "Train Epoch 5 [59520/60000 (99%)] | Loss: 0.49839359521865845\n",
      "\n",
      "Train Acc.: [53607/60000 (89%)]\n",
      "Test Acc.:  [ 9017/10000 (90%)]\n",
      "\n",
      "Train Epoch 6 [    0/60000 ( 0%)] | Loss: 0.6585277318954468\n",
      "Train Epoch 6 [  640/60000 ( 1%)] | Loss: 0.24084120988845825\n",
      "Train Epoch 6 [ 1280/60000 ( 2%)] | Loss: 0.42422449588775635\n",
      "Train Epoch 6 [ 1920/60000 ( 3%)] | Loss: 0.21404708921909332\n",
      "Train Epoch 6 [ 2560/60000 ( 4%)] | Loss: 0.23905277252197266\n",
      "Train Epoch 6 [ 3200/60000 ( 5%)] | Loss: 0.43661195039749146\n",
      "Train Epoch 6 [ 3840/60000 ( 6%)] | Loss: 0.21119144558906555\n",
      "Train Epoch 6 [ 4480/60000 ( 7%)] | Loss: 0.3124653697013855\n",
      "Train Epoch 6 [ 5120/60000 ( 9%)] | Loss: 0.4359612762928009\n",
      "Train Epoch 6 [ 5760/60000 (10%)] | Loss: 0.31425365805625916\n",
      "Train Epoch 6 [ 6400/60000 (11%)] | Loss: 0.31841057538986206\n",
      "Train Epoch 6 [ 7040/60000 (12%)] | Loss: 0.2716931104660034\n",
      "Train Epoch 6 [ 7680/60000 (13%)] | Loss: 0.49073705077171326\n",
      "Train Epoch 6 [ 8320/60000 (14%)] | Loss: 0.4079749882221222\n",
      "Train Epoch 6 [ 8960/60000 (15%)] | Loss: 0.3449789881706238\n",
      "Train Epoch 6 [ 9600/60000 (16%)] | Loss: 0.46188342571258545\n",
      "Train Epoch 6 [10240/60000 (17%)] | Loss: 0.4200092554092407\n",
      "Train Epoch 6 [10880/60000 (18%)] | Loss: 0.27385443449020386\n",
      "Train Epoch 6 [11520/60000 (19%)] | Loss: 0.3999095559120178\n",
      "Train Epoch 6 [12160/60000 (20%)] | Loss: 0.3023649752140045\n",
      "Train Epoch 6 [12800/60000 (21%)] | Loss: 0.2856076657772064\n",
      "Train Epoch 6 [13440/60000 (22%)] | Loss: 0.4629465341567993\n",
      "Train Epoch 6 [14080/60000 (23%)] | Loss: 0.4211313724517822\n",
      "Train Epoch 6 [14720/60000 (25%)] | Loss: 0.3060164749622345\n",
      "Train Epoch 6 [15360/60000 (26%)] | Loss: 0.4284992814064026\n",
      "Train Epoch 6 [16000/60000 (27%)] | Loss: 0.29942217469215393\n",
      "Train Epoch 6 [16640/60000 (28%)] | Loss: 0.2602245509624481\n",
      "Train Epoch 6 [17280/60000 (29%)] | Loss: 0.2911887764930725\n",
      "Train Epoch 6 [17920/60000 (30%)] | Loss: 0.34936222434043884\n",
      "Train Epoch 6 [18560/60000 (31%)] | Loss: 0.26533225178718567\n",
      "Train Epoch 6 [19200/60000 (32%)] | Loss: 0.25280025601387024\n",
      "Train Epoch 6 [19840/60000 (33%)] | Loss: 0.2712140381336212\n",
      "Train Epoch 6 [20480/60000 (34%)] | Loss: 0.5501538515090942\n",
      "Train Epoch 6 [21120/60000 (35%)] | Loss: 0.38569891452789307\n",
      "Train Epoch 6 [21760/60000 (36%)] | Loss: 0.27712544798851013\n",
      "Train Epoch 6 [22400/60000 (37%)] | Loss: 0.36056894063949585\n",
      "Train Epoch 6 [23040/60000 (38%)] | Loss: 0.2780154347419739\n",
      "Train Epoch 6 [23680/60000 (39%)] | Loss: 0.29249024391174316\n",
      "Train Epoch 6 [24320/60000 (41%)] | Loss: 0.4053953289985657\n",
      "Train Epoch 6 [24960/60000 (42%)] | Loss: 0.29631507396698\n",
      "Train Epoch 6 [25600/60000 (43%)] | Loss: 0.46635493636131287\n",
      "Train Epoch 6 [26240/60000 (44%)] | Loss: 0.39937692880630493\n",
      "Train Epoch 6 [26880/60000 (45%)] | Loss: 0.5293657183647156\n",
      "Train Epoch 6 [27520/60000 (46%)] | Loss: 0.34948912262916565\n",
      "Train Epoch 6 [28160/60000 (47%)] | Loss: 0.3026370704174042\n",
      "Train Epoch 6 [28800/60000 (48%)] | Loss: 0.33397388458251953\n",
      "Train Epoch 6 [29440/60000 (49%)] | Loss: 0.6835027933120728\n",
      "Train Epoch 6 [30080/60000 (50%)] | Loss: 0.4169631600379944\n",
      "Train Epoch 6 [30720/60000 (51%)] | Loss: 0.3203749358654022\n",
      "Train Epoch 6 [31360/60000 (52%)] | Loss: 0.23501823842525482\n",
      "Train Epoch 6 [32000/60000 (53%)] | Loss: 0.8760941624641418\n",
      "Train Epoch 6 [32640/60000 (54%)] | Loss: 0.23365412652492523\n",
      "Train Epoch 6 [33280/60000 (55%)] | Loss: 0.26201412081718445\n",
      "Train Epoch 6 [33920/60000 (57%)] | Loss: 0.4359113276004791\n",
      "Train Epoch 6 [34560/60000 (58%)] | Loss: 0.4759039878845215\n",
      "Train Epoch 6 [35200/60000 (59%)] | Loss: 0.67905193567276\n",
      "Train Epoch 6 [35840/60000 (60%)] | Loss: 0.3380662798881531\n",
      "Train Epoch 6 [36480/60000 (61%)] | Loss: 0.316253662109375\n",
      "Train Epoch 6 [37120/60000 (62%)] | Loss: 0.5654841065406799\n",
      "Train Epoch 6 [37760/60000 (63%)] | Loss: 0.3185747563838959\n",
      "Train Epoch 6 [38400/60000 (64%)] | Loss: 0.3240378201007843\n",
      "Train Epoch 6 [39040/60000 (65%)] | Loss: 0.5828758478164673\n",
      "Train Epoch 6 [39680/60000 (66%)] | Loss: 0.35197150707244873\n",
      "Train Epoch 6 [40320/60000 (67%)] | Loss: 0.2910129129886627\n",
      "Train Epoch 6 [40960/60000 (68%)] | Loss: 0.2937893271446228\n",
      "Train Epoch 6 [41600/60000 (69%)] | Loss: 0.3744940161705017\n",
      "Train Epoch 6 [42240/60000 (70%)] | Loss: 0.5420371294021606\n",
      "Train Epoch 6 [42880/60000 (71%)] | Loss: 0.32112452387809753\n",
      "Train Epoch 6 [43520/60000 (73%)] | Loss: 0.29646334052085876\n",
      "Train Epoch 6 [44160/60000 (74%)] | Loss: 0.41335102915763855\n",
      "Train Epoch 6 [44800/60000 (75%)] | Loss: 0.37781426310539246\n",
      "Train Epoch 6 [45440/60000 (76%)] | Loss: 0.2952300012111664\n",
      "Train Epoch 6 [46080/60000 (77%)] | Loss: 0.42622610926628113\n",
      "Train Epoch 6 [46720/60000 (78%)] | Loss: 0.4869005084037781\n",
      "Train Epoch 6 [47360/60000 (79%)] | Loss: 0.45548883080482483\n",
      "Train Epoch 6 [48000/60000 (80%)] | Loss: 0.25001055002212524\n",
      "Train Epoch 6 [48640/60000 (81%)] | Loss: 0.27570316195487976\n",
      "Train Epoch 6 [49280/60000 (82%)] | Loss: 0.5344460010528564\n",
      "Train Epoch 6 [49920/60000 (83%)] | Loss: 0.15963733196258545\n",
      "Train Epoch 6 [50560/60000 (84%)] | Loss: 0.11620871722698212\n",
      "Train Epoch 6 [51200/60000 (85%)] | Loss: 0.5018696784973145\n",
      "Train Epoch 6 [51840/60000 (86%)] | Loss: 0.3319357931613922\n",
      "Train Epoch 6 [52480/60000 (87%)] | Loss: 0.3712102174758911\n",
      "Train Epoch 6 [53120/60000 (89%)] | Loss: 0.25291651487350464\n",
      "Train Epoch 6 [53760/60000 (90%)] | Loss: 0.267177551984787\n",
      "Train Epoch 6 [54400/60000 (91%)] | Loss: 0.7286480665206909\n",
      "Train Epoch 6 [55040/60000 (92%)] | Loss: 0.21029800176620483\n",
      "Train Epoch 6 [55680/60000 (93%)] | Loss: 0.17075736820697784\n",
      "Train Epoch 6 [56320/60000 (94%)] | Loss: 0.31303176283836365\n",
      "Train Epoch 6 [56960/60000 (95%)] | Loss: 0.14669169485569\n",
      "Train Epoch 6 [57600/60000 (96%)] | Loss: 0.2143796980381012\n",
      "Train Epoch 6 [58240/60000 (97%)] | Loss: 0.40555721521377563\n",
      "Train Epoch 6 [58880/60000 (98%)] | Loss: 0.2607671022415161\n",
      "Train Epoch 6 [59520/60000 (99%)] | Loss: 0.3969572186470032\n",
      "\n",
      "Train Acc.: [53887/60000 (90%)]\n",
      "Test Acc.:  [ 9060/10000 (91%)]\n",
      "\n",
      "Train Epoch 7 [    0/60000 ( 0%)] | Loss: 0.16725222766399384\n",
      "Train Epoch 7 [  640/60000 ( 1%)] | Loss: 0.36880722641944885\n",
      "Train Epoch 7 [ 1280/60000 ( 2%)] | Loss: 0.34032610058784485\n",
      "Train Epoch 7 [ 1920/60000 ( 3%)] | Loss: 0.3300282955169678\n",
      "Train Epoch 7 [ 2560/60000 ( 4%)] | Loss: 0.23768101632595062\n",
      "Train Epoch 7 [ 3200/60000 ( 5%)] | Loss: 0.20325967669487\n",
      "Train Epoch 7 [ 3840/60000 ( 6%)] | Loss: 0.36122697591781616\n",
      "Train Epoch 7 [ 4480/60000 ( 7%)] | Loss: 0.6177592277526855\n",
      "Train Epoch 7 [ 5120/60000 ( 9%)] | Loss: 0.572094202041626\n",
      "Train Epoch 7 [ 5760/60000 (10%)] | Loss: 0.28707772493362427\n",
      "Train Epoch 7 [ 6400/60000 (11%)] | Loss: 0.3170684576034546\n",
      "Train Epoch 7 [ 7040/60000 (12%)] | Loss: 0.694085955619812\n",
      "Train Epoch 7 [ 7680/60000 (13%)] | Loss: 0.27185705304145813\n",
      "Train Epoch 7 [ 8320/60000 (14%)] | Loss: 0.46268051862716675\n",
      "Train Epoch 7 [ 8960/60000 (15%)] | Loss: 0.47104611992836\n",
      "Train Epoch 7 [ 9600/60000 (16%)] | Loss: 0.3256608247756958\n",
      "Train Epoch 7 [10240/60000 (17%)] | Loss: 0.35045960545539856\n",
      "Train Epoch 7 [10880/60000 (18%)] | Loss: 0.2952660918235779\n",
      "Train Epoch 7 [11520/60000 (19%)] | Loss: 0.27680516242980957\n",
      "Train Epoch 7 [12160/60000 (20%)] | Loss: 0.31630459427833557\n",
      "Train Epoch 7 [12800/60000 (21%)] | Loss: 0.41520726680755615\n",
      "Train Epoch 7 [13440/60000 (22%)] | Loss: 0.3069605231285095\n",
      "Train Epoch 7 [14080/60000 (23%)] | Loss: 0.21412263810634613\n",
      "Train Epoch 7 [14720/60000 (25%)] | Loss: 0.28112417459487915\n",
      "Train Epoch 7 [15360/60000 (26%)] | Loss: 0.5869044065475464\n",
      "Train Epoch 7 [16000/60000 (27%)] | Loss: 0.4692872166633606\n",
      "Train Epoch 7 [16640/60000 (28%)] | Loss: 0.5602296590805054\n",
      "Train Epoch 7 [17280/60000 (29%)] | Loss: 0.31232431530952454\n",
      "Train Epoch 7 [17920/60000 (30%)] | Loss: 0.8290133476257324\n",
      "Train Epoch 7 [18560/60000 (31%)] | Loss: 0.3040112555027008\n",
      "Train Epoch 7 [19200/60000 (32%)] | Loss: 0.8091530203819275\n",
      "Train Epoch 7 [19840/60000 (33%)] | Loss: 0.15930655598640442\n",
      "Train Epoch 7 [20480/60000 (34%)] | Loss: 0.22077742218971252\n",
      "Train Epoch 7 [21120/60000 (35%)] | Loss: 0.34900516271591187\n",
      "Train Epoch 7 [21760/60000 (36%)] | Loss: 0.24913619458675385\n",
      "Train Epoch 7 [22400/60000 (37%)] | Loss: 0.3884783387184143\n",
      "Train Epoch 7 [23040/60000 (38%)] | Loss: 0.3209342062473297\n",
      "Train Epoch 7 [23680/60000 (39%)] | Loss: 0.21782034635543823\n",
      "Train Epoch 7 [24320/60000 (41%)] | Loss: 0.3195760250091553\n",
      "Train Epoch 7 [24960/60000 (42%)] | Loss: 0.39684221148490906\n",
      "Train Epoch 7 [25600/60000 (43%)] | Loss: 0.7460554242134094\n",
      "Train Epoch 7 [26240/60000 (44%)] | Loss: 0.5789998173713684\n",
      "Train Epoch 7 [26880/60000 (45%)] | Loss: 0.38288724422454834\n",
      "Train Epoch 7 [27520/60000 (46%)] | Loss: 0.31845608353614807\n",
      "Train Epoch 7 [28160/60000 (47%)] | Loss: 0.38193562626838684\n",
      "Train Epoch 7 [28800/60000 (48%)] | Loss: 0.6149253845214844\n",
      "Train Epoch 7 [29440/60000 (49%)] | Loss: 0.5023226737976074\n",
      "Train Epoch 7 [30080/60000 (50%)] | Loss: 0.5080928802490234\n",
      "Train Epoch 7 [30720/60000 (51%)] | Loss: 0.2362249195575714\n",
      "Train Epoch 7 [31360/60000 (52%)] | Loss: 0.3139594495296478\n",
      "Train Epoch 7 [32000/60000 (53%)] | Loss: 0.2402571737766266\n",
      "Train Epoch 7 [32640/60000 (54%)] | Loss: 0.1218583956360817\n",
      "Train Epoch 7 [33280/60000 (55%)] | Loss: 0.506736159324646\n",
      "Train Epoch 7 [33920/60000 (57%)] | Loss: 0.3723185062408447\n",
      "Train Epoch 7 [34560/60000 (58%)] | Loss: 0.4038202166557312\n",
      "Train Epoch 7 [35200/60000 (59%)] | Loss: 0.46704551577568054\n",
      "Train Epoch 7 [35840/60000 (60%)] | Loss: 0.3608400523662567\n",
      "Train Epoch 7 [36480/60000 (61%)] | Loss: 0.33574357628822327\n",
      "Train Epoch 7 [37120/60000 (62%)] | Loss: 0.17557641863822937\n",
      "Train Epoch 7 [37760/60000 (63%)] | Loss: 0.2579895555973053\n",
      "Train Epoch 7 [38400/60000 (64%)] | Loss: 0.2246059626340866\n",
      "Train Epoch 7 [39040/60000 (65%)] | Loss: 0.30913251638412476\n",
      "Train Epoch 7 [39680/60000 (66%)] | Loss: 0.5727939009666443\n",
      "Train Epoch 7 [40320/60000 (67%)] | Loss: 0.5004058480262756\n",
      "Train Epoch 7 [40960/60000 (68%)] | Loss: 0.26094016432762146\n",
      "Train Epoch 7 [41600/60000 (69%)] | Loss: 0.4149159789085388\n",
      "Train Epoch 7 [42240/60000 (70%)] | Loss: 0.32229098677635193\n",
      "Train Epoch 7 [42880/60000 (71%)] | Loss: 0.1413937509059906\n",
      "Train Epoch 7 [43520/60000 (73%)] | Loss: 0.27096128463745117\n",
      "Train Epoch 7 [44160/60000 (74%)] | Loss: 0.32195696234703064\n",
      "Train Epoch 7 [44800/60000 (75%)] | Loss: 0.4318474233150482\n",
      "Train Epoch 7 [45440/60000 (76%)] | Loss: 0.5764021873474121\n",
      "Train Epoch 7 [46080/60000 (77%)] | Loss: 0.37914174795150757\n",
      "Train Epoch 7 [46720/60000 (78%)] | Loss: 0.20844420790672302\n",
      "Train Epoch 7 [47360/60000 (79%)] | Loss: 0.20976927876472473\n",
      "Train Epoch 7 [48000/60000 (80%)] | Loss: 0.38354676961898804\n",
      "Train Epoch 7 [48640/60000 (81%)] | Loss: 0.3666881024837494\n",
      "Train Epoch 7 [49280/60000 (82%)] | Loss: 0.2874113619327545\n",
      "Train Epoch 7 [49920/60000 (83%)] | Loss: 0.2553280293941498\n",
      "Train Epoch 7 [50560/60000 (84%)] | Loss: 0.24201753735542297\n",
      "Train Epoch 7 [51200/60000 (85%)] | Loss: 0.35564351081848145\n",
      "Train Epoch 7 [51840/60000 (86%)] | Loss: 0.20782536268234253\n",
      "Train Epoch 7 [52480/60000 (87%)] | Loss: 0.20120474696159363\n",
      "Train Epoch 7 [53120/60000 (89%)] | Loss: 0.27097833156585693\n",
      "Train Epoch 7 [53760/60000 (90%)] | Loss: 0.3982911705970764\n",
      "Train Epoch 7 [54400/60000 (91%)] | Loss: 0.42384594678878784\n",
      "Train Epoch 7 [55040/60000 (92%)] | Loss: 0.4066898822784424\n",
      "Train Epoch 7 [55680/60000 (93%)] | Loss: 0.49149495363235474\n",
      "Train Epoch 7 [56320/60000 (94%)] | Loss: 0.25234460830688477\n",
      "Train Epoch 7 [56960/60000 (95%)] | Loss: 0.34493452310562134\n",
      "Train Epoch 7 [57600/60000 (96%)] | Loss: 0.3664870858192444\n",
      "Train Epoch 7 [58240/60000 (97%)] | Loss: 0.43784454464912415\n",
      "Train Epoch 7 [58880/60000 (98%)] | Loss: 0.35213589668273926\n",
      "Train Epoch 7 [59520/60000 (99%)] | Loss: 0.42863765358924866\n",
      "\n",
      "Train Acc.: [54156/60000 (90%)]\n",
      "Test Acc.:  [ 9098/10000 (91%)]\n",
      "\n",
      "Train Epoch 8 [    0/60000 ( 0%)] | Loss: 0.1961745172739029\n",
      "Train Epoch 8 [  640/60000 ( 1%)] | Loss: 0.581589937210083\n",
      "Train Epoch 8 [ 1280/60000 ( 2%)] | Loss: 0.2032654732465744\n",
      "Train Epoch 8 [ 1920/60000 ( 3%)] | Loss: 0.26252150535583496\n",
      "Train Epoch 8 [ 2560/60000 ( 4%)] | Loss: 0.2086694836616516\n",
      "Train Epoch 8 [ 3200/60000 ( 5%)] | Loss: 0.2710738182067871\n",
      "Train Epoch 8 [ 3840/60000 ( 6%)] | Loss: 0.20160886645317078\n",
      "Train Epoch 8 [ 4480/60000 ( 7%)] | Loss: 0.4474756717681885\n",
      "Train Epoch 8 [ 5120/60000 ( 9%)] | Loss: 0.34618476033210754\n",
      "Train Epoch 8 [ 5760/60000 (10%)] | Loss: 0.6384786367416382\n",
      "Train Epoch 8 [ 6400/60000 (11%)] | Loss: 0.22339501976966858\n",
      "Train Epoch 8 [ 7040/60000 (12%)] | Loss: 0.359329491853714\n",
      "Train Epoch 8 [ 7680/60000 (13%)] | Loss: 0.20991532504558563\n",
      "Train Epoch 8 [ 8320/60000 (14%)] | Loss: 0.26984497904777527\n",
      "Train Epoch 8 [ 8960/60000 (15%)] | Loss: 0.30377718806266785\n",
      "Train Epoch 8 [ 9600/60000 (16%)] | Loss: 0.515882670879364\n",
      "Train Epoch 8 [10240/60000 (17%)] | Loss: 0.19631153345108032\n",
      "Train Epoch 8 [10880/60000 (18%)] | Loss: 0.8075103163719177\n",
      "Train Epoch 8 [11520/60000 (19%)] | Loss: 0.3839235305786133\n",
      "Train Epoch 8 [12160/60000 (20%)] | Loss: 0.36526742577552795\n",
      "Train Epoch 8 [12800/60000 (21%)] | Loss: 0.22617404162883759\n",
      "Train Epoch 8 [13440/60000 (22%)] | Loss: 0.1682828664779663\n",
      "Train Epoch 8 [14080/60000 (23%)] | Loss: 0.2930588722229004\n",
      "Train Epoch 8 [14720/60000 (25%)] | Loss: 0.47391659021377563\n",
      "Train Epoch 8 [15360/60000 (26%)] | Loss: 0.14340855181217194\n",
      "Train Epoch 8 [16000/60000 (27%)] | Loss: 0.3067026138305664\n",
      "Train Epoch 8 [16640/60000 (28%)] | Loss: 0.2265416830778122\n",
      "Train Epoch 8 [17280/60000 (29%)] | Loss: 0.7446664571762085\n",
      "Train Epoch 8 [17920/60000 (30%)] | Loss: 0.42155754566192627\n",
      "Train Epoch 8 [18560/60000 (31%)] | Loss: 0.1896018385887146\n",
      "Train Epoch 8 [19200/60000 (32%)] | Loss: 0.3606404960155487\n",
      "Train Epoch 8 [19840/60000 (33%)] | Loss: 0.45296943187713623\n",
      "Train Epoch 8 [20480/60000 (34%)] | Loss: 0.21149344742298126\n",
      "Train Epoch 8 [21120/60000 (35%)] | Loss: 0.26899370551109314\n",
      "Train Epoch 8 [21760/60000 (36%)] | Loss: 0.5093146562576294\n",
      "Train Epoch 8 [22400/60000 (37%)] | Loss: 0.2775613069534302\n",
      "Train Epoch 8 [23040/60000 (38%)] | Loss: 0.17241254448890686\n",
      "Train Epoch 8 [23680/60000 (39%)] | Loss: 0.18394379317760468\n",
      "Train Epoch 8 [24320/60000 (41%)] | Loss: 0.3827288746833801\n",
      "Train Epoch 8 [24960/60000 (42%)] | Loss: 0.30305248498916626\n",
      "Train Epoch 8 [25600/60000 (43%)] | Loss: 0.20082344114780426\n",
      "Train Epoch 8 [26240/60000 (44%)] | Loss: 0.27267634868621826\n",
      "Train Epoch 8 [26880/60000 (45%)] | Loss: 0.43435555696487427\n",
      "Train Epoch 8 [27520/60000 (46%)] | Loss: 0.33710935711860657\n",
      "Train Epoch 8 [28160/60000 (47%)] | Loss: 0.2548879086971283\n",
      "Train Epoch 8 [28800/60000 (48%)] | Loss: 0.30553165078163147\n",
      "Train Epoch 8 [29440/60000 (49%)] | Loss: 0.28507059812545776\n",
      "Train Epoch 8 [30080/60000 (50%)] | Loss: 0.31875160336494446\n",
      "Train Epoch 8 [30720/60000 (51%)] | Loss: 0.3480815589427948\n",
      "Train Epoch 8 [31360/60000 (52%)] | Loss: 0.5568698644638062\n",
      "Train Epoch 8 [32000/60000 (53%)] | Loss: 0.35705792903900146\n",
      "Train Epoch 8 [32640/60000 (54%)] | Loss: 0.25780799984931946\n",
      "Train Epoch 8 [33280/60000 (55%)] | Loss: 0.2150041162967682\n",
      "Train Epoch 8 [33920/60000 (57%)] | Loss: 0.25075164437294006\n",
      "Train Epoch 8 [34560/60000 (58%)] | Loss: 0.6030948162078857\n",
      "Train Epoch 8 [35200/60000 (59%)] | Loss: 0.27617567777633667\n",
      "Train Epoch 8 [35840/60000 (60%)] | Loss: 0.4957112669944763\n",
      "Train Epoch 8 [36480/60000 (61%)] | Loss: 0.3841720521450043\n",
      "Train Epoch 8 [37120/60000 (62%)] | Loss: 0.42889314889907837\n",
      "Train Epoch 8 [37760/60000 (63%)] | Loss: 0.22348254919052124\n",
      "Train Epoch 8 [38400/60000 (64%)] | Loss: 0.4886627495288849\n",
      "Train Epoch 8 [39040/60000 (65%)] | Loss: 0.3545660376548767\n",
      "Train Epoch 8 [39680/60000 (66%)] | Loss: 0.24990548193454742\n",
      "Train Epoch 8 [40320/60000 (67%)] | Loss: 0.41024544835090637\n",
      "Train Epoch 8 [40960/60000 (68%)] | Loss: 0.1683134138584137\n",
      "Train Epoch 8 [41600/60000 (69%)] | Loss: 0.2550155520439148\n",
      "Train Epoch 8 [42240/60000 (70%)] | Loss: 0.36936062574386597\n",
      "Train Epoch 8 [42880/60000 (71%)] | Loss: 0.4782281816005707\n",
      "Train Epoch 8 [43520/60000 (73%)] | Loss: 0.4556623697280884\n",
      "Train Epoch 8 [44160/60000 (74%)] | Loss: 0.3620096445083618\n",
      "Train Epoch 8 [44800/60000 (75%)] | Loss: 0.2902023196220398\n",
      "Train Epoch 8 [45440/60000 (76%)] | Loss: 0.3939988613128662\n",
      "Train Epoch 8 [46080/60000 (77%)] | Loss: 0.5003325939178467\n",
      "Train Epoch 8 [46720/60000 (78%)] | Loss: 0.2449934035539627\n",
      "Train Epoch 8 [47360/60000 (79%)] | Loss: 0.3229401707649231\n",
      "Train Epoch 8 [48000/60000 (80%)] | Loss: 0.21441996097564697\n",
      "Train Epoch 8 [48640/60000 (81%)] | Loss: 0.2931351363658905\n",
      "Train Epoch 8 [49280/60000 (82%)] | Loss: 0.3106900155544281\n",
      "Train Epoch 8 [49920/60000 (83%)] | Loss: 0.4804271459579468\n",
      "Train Epoch 8 [50560/60000 (84%)] | Loss: 0.41610538959503174\n",
      "Train Epoch 8 [51200/60000 (85%)] | Loss: 0.2878567576408386\n",
      "Train Epoch 8 [51840/60000 (86%)] | Loss: 0.29454678297042847\n",
      "Train Epoch 8 [52480/60000 (87%)] | Loss: 0.2531778812408447\n",
      "Train Epoch 8 [53120/60000 (89%)] | Loss: 0.324150025844574\n",
      "Train Epoch 8 [53760/60000 (90%)] | Loss: 0.18273700773715973\n",
      "Train Epoch 8 [54400/60000 (91%)] | Loss: 0.4306078255176544\n",
      "Train Epoch 8 [55040/60000 (92%)] | Loss: 0.3335280418395996\n",
      "Train Epoch 8 [55680/60000 (93%)] | Loss: 0.26242661476135254\n",
      "Train Epoch 8 [56320/60000 (94%)] | Loss: 0.3695403039455414\n",
      "Train Epoch 8 [56960/60000 (95%)] | Loss: 0.28662964701652527\n",
      "Train Epoch 8 [57600/60000 (96%)] | Loss: 0.3566083014011383\n",
      "Train Epoch 8 [58240/60000 (97%)] | Loss: 0.2967117130756378\n",
      "Train Epoch 8 [58880/60000 (98%)] | Loss: 0.3051285743713379\n",
      "Train Epoch 8 [59520/60000 (99%)] | Loss: 0.2706940472126007\n",
      "\n",
      "Train Acc.: [54358/60000 (91%)]\n",
      "Test Acc.:  [ 9123/10000 (91%)]\n",
      "\n",
      "Train Epoch 9 [    0/60000 ( 0%)] | Loss: 0.472625732421875\n",
      "Train Epoch 9 [  640/60000 ( 1%)] | Loss: 0.3035338222980499\n",
      "Train Epoch 9 [ 1280/60000 ( 2%)] | Loss: 0.16066135466098785\n",
      "Train Epoch 9 [ 1920/60000 ( 3%)] | Loss: 0.34796473383903503\n",
      "Train Epoch 9 [ 2560/60000 ( 4%)] | Loss: 0.49242448806762695\n",
      "Train Epoch 9 [ 3200/60000 ( 5%)] | Loss: 0.27966371178627014\n",
      "Train Epoch 9 [ 3840/60000 ( 6%)] | Loss: 0.21205852925777435\n",
      "Train Epoch 9 [ 4480/60000 ( 7%)] | Loss: 0.37350067496299744\n",
      "Train Epoch 9 [ 5120/60000 ( 9%)] | Loss: 0.36963358521461487\n",
      "Train Epoch 9 [ 5760/60000 (10%)] | Loss: 0.4734830856323242\n",
      "Train Epoch 9 [ 6400/60000 (11%)] | Loss: 0.2693540155887604\n",
      "Train Epoch 9 [ 7040/60000 (12%)] | Loss: 0.11603746563196182\n",
      "Train Epoch 9 [ 7680/60000 (13%)] | Loss: 0.23164629936218262\n",
      "Train Epoch 9 [ 8320/60000 (14%)] | Loss: 0.4833516776561737\n",
      "Train Epoch 9 [ 8960/60000 (15%)] | Loss: 0.24815306067466736\n",
      "Train Epoch 9 [ 9600/60000 (16%)] | Loss: 0.23259128630161285\n",
      "Train Epoch 9 [10240/60000 (17%)] | Loss: 0.6476262211799622\n",
      "Train Epoch 9 [10880/60000 (18%)] | Loss: 0.3183819055557251\n",
      "Train Epoch 9 [11520/60000 (19%)] | Loss: 0.48075321316719055\n",
      "Train Epoch 9 [12160/60000 (20%)] | Loss: 0.23381692171096802\n",
      "Train Epoch 9 [12800/60000 (21%)] | Loss: 0.5390197038650513\n",
      "Train Epoch 9 [13440/60000 (22%)] | Loss: 0.23526431620121002\n",
      "Train Epoch 9 [14080/60000 (23%)] | Loss: 0.2666119635105133\n",
      "Train Epoch 9 [14720/60000 (25%)] | Loss: 0.16633208096027374\n",
      "Train Epoch 9 [15360/60000 (26%)] | Loss: 0.21139100193977356\n",
      "Train Epoch 9 [16000/60000 (27%)] | Loss: 0.5339253544807434\n",
      "Train Epoch 9 [16640/60000 (28%)] | Loss: 0.216106578707695\n",
      "Train Epoch 9 [17280/60000 (29%)] | Loss: 0.38638049364089966\n",
      "Train Epoch 9 [17920/60000 (30%)] | Loss: 0.3341691195964813\n",
      "Train Epoch 9 [18560/60000 (31%)] | Loss: 0.4465677738189697\n",
      "Train Epoch 9 [19200/60000 (32%)] | Loss: 0.1924382597208023\n",
      "Train Epoch 9 [19840/60000 (33%)] | Loss: 0.5150339603424072\n",
      "Train Epoch 9 [20480/60000 (34%)] | Loss: 0.20225012302398682\n",
      "Train Epoch 9 [21120/60000 (35%)] | Loss: 0.26086539030075073\n",
      "Train Epoch 9 [21760/60000 (36%)] | Loss: 0.311220645904541\n",
      "Train Epoch 9 [22400/60000 (37%)] | Loss: 0.39179667830467224\n",
      "Train Epoch 9 [23040/60000 (38%)] | Loss: 0.4389398396015167\n",
      "Train Epoch 9 [23680/60000 (39%)] | Loss: 0.16273245215415955\n",
      "Train Epoch 9 [24320/60000 (41%)] | Loss: 0.33871325850486755\n",
      "Train Epoch 9 [24960/60000 (42%)] | Loss: 0.32848605513572693\n",
      "Train Epoch 9 [25600/60000 (43%)] | Loss: 0.1778542846441269\n",
      "Train Epoch 9 [26240/60000 (44%)] | Loss: 0.6805629730224609\n",
      "Train Epoch 9 [26880/60000 (45%)] | Loss: 0.247189000248909\n",
      "Train Epoch 9 [27520/60000 (46%)] | Loss: 0.21024423837661743\n",
      "Train Epoch 9 [28160/60000 (47%)] | Loss: 0.2855457067489624\n",
      "Train Epoch 9 [28800/60000 (48%)] | Loss: 0.27419596910476685\n",
      "Train Epoch 9 [29440/60000 (49%)] | Loss: 0.2943376898765564\n",
      "Train Epoch 9 [30080/60000 (50%)] | Loss: 0.43526896834373474\n",
      "Train Epoch 9 [30720/60000 (51%)] | Loss: 0.4416131377220154\n",
      "Train Epoch 9 [31360/60000 (52%)] | Loss: 0.45799580216407776\n",
      "Train Epoch 9 [32000/60000 (53%)] | Loss: 0.13893267512321472\n",
      "Train Epoch 9 [32640/60000 (54%)] | Loss: 0.47157520055770874\n",
      "Train Epoch 9 [33280/60000 (55%)] | Loss: 0.5331667065620422\n",
      "Train Epoch 9 [33920/60000 (57%)] | Loss: 0.4558372497558594\n",
      "Train Epoch 9 [34560/60000 (58%)] | Loss: 0.5053921937942505\n",
      "Train Epoch 9 [35200/60000 (59%)] | Loss: 0.2316066175699234\n",
      "Train Epoch 9 [35840/60000 (60%)] | Loss: 0.3396306037902832\n",
      "Train Epoch 9 [36480/60000 (61%)] | Loss: 0.6877544522285461\n",
      "Train Epoch 9 [37120/60000 (62%)] | Loss: 0.4356755018234253\n",
      "Train Epoch 9 [37760/60000 (63%)] | Loss: 0.35831743478775024\n",
      "Train Epoch 9 [38400/60000 (64%)] | Loss: 0.22780412435531616\n",
      "Train Epoch 9 [39040/60000 (65%)] | Loss: 0.22500883042812347\n",
      "Train Epoch 9 [39680/60000 (66%)] | Loss: 0.21543216705322266\n",
      "Train Epoch 9 [40320/60000 (67%)] | Loss: 0.12084930390119553\n",
      "Train Epoch 9 [40960/60000 (68%)] | Loss: 0.24390079081058502\n",
      "Train Epoch 9 [41600/60000 (69%)] | Loss: 0.19615304470062256\n",
      "Train Epoch 9 [42240/60000 (70%)] | Loss: 0.4553844630718231\n",
      "Train Epoch 9 [42880/60000 (71%)] | Loss: 0.37660789489746094\n",
      "Train Epoch 9 [43520/60000 (73%)] | Loss: 0.3830702304840088\n",
      "Train Epoch 9 [44160/60000 (74%)] | Loss: 0.2628662884235382\n",
      "Train Epoch 9 [44800/60000 (75%)] | Loss: 0.16077068448066711\n",
      "Train Epoch 9 [45440/60000 (76%)] | Loss: 0.2420983910560608\n",
      "Train Epoch 9 [46080/60000 (77%)] | Loss: 0.33706608414649963\n",
      "Train Epoch 9 [46720/60000 (78%)] | Loss: 0.41515493392944336\n",
      "Train Epoch 9 [47360/60000 (79%)] | Loss: 0.3805560767650604\n",
      "Train Epoch 9 [48000/60000 (80%)] | Loss: 0.203596830368042\n",
      "Train Epoch 9 [48640/60000 (81%)] | Loss: 0.3014746904373169\n",
      "Train Epoch 9 [49280/60000 (82%)] | Loss: 0.26033109426498413\n",
      "Train Epoch 9 [49920/60000 (83%)] | Loss: 0.4091057777404785\n",
      "Train Epoch 9 [50560/60000 (84%)] | Loss: 0.2637918293476105\n",
      "Train Epoch 9 [51200/60000 (85%)] | Loss: 0.385066956281662\n",
      "Train Epoch 9 [51840/60000 (86%)] | Loss: 0.3141016364097595\n",
      "Train Epoch 9 [52480/60000 (87%)] | Loss: 0.2627931535243988\n",
      "Train Epoch 9 [53120/60000 (89%)] | Loss: 0.20825986564159393\n",
      "Train Epoch 9 [53760/60000 (90%)] | Loss: 0.24680835008621216\n",
      "Train Epoch 9 [54400/60000 (91%)] | Loss: 0.3287200927734375\n",
      "Train Epoch 9 [55040/60000 (92%)] | Loss: 0.3391890227794647\n",
      "Train Epoch 9 [55680/60000 (93%)] | Loss: 0.30411496758461\n",
      "Train Epoch 9 [56320/60000 (94%)] | Loss: 0.18810586631298065\n",
      "Train Epoch 9 [56960/60000 (95%)] | Loss: 0.5898831486701965\n",
      "Train Epoch 9 [57600/60000 (96%)] | Loss: 0.3924928903579712\n",
      "Train Epoch 9 [58240/60000 (97%)] | Loss: 0.46346810460090637\n",
      "Train Epoch 9 [58880/60000 (98%)] | Loss: 0.4663027822971344\n",
      "Train Epoch 9 [59520/60000 (99%)] | Loss: 0.16484291851520538\n",
      "\n",
      "Train Acc.: [54538/60000 (91%)]\n",
      "Test Acc.:  [ 9139/10000 (91%)]\n",
      "\n",
      "Train Epoch 10 [    0/60000 ( 0%)] | Loss: 0.5959309339523315\n",
      "Train Epoch 10 [  640/60000 ( 1%)] | Loss: 0.5048219561576843\n",
      "Train Epoch 10 [ 1280/60000 ( 2%)] | Loss: 0.5497831106185913\n",
      "Train Epoch 10 [ 1920/60000 ( 3%)] | Loss: 0.38687828183174133\n",
      "Train Epoch 10 [ 2560/60000 ( 4%)] | Loss: 0.2318425327539444\n",
      "Train Epoch 10 [ 3200/60000 ( 5%)] | Loss: 0.194781094789505\n",
      "Train Epoch 10 [ 3840/60000 ( 6%)] | Loss: 0.22982721030712128\n",
      "Train Epoch 10 [ 4480/60000 ( 7%)] | Loss: 0.25582316517829895\n",
      "Train Epoch 10 [ 5120/60000 ( 9%)] | Loss: 0.31755930185317993\n",
      "Train Epoch 10 [ 5760/60000 (10%)] | Loss: 0.335842490196228\n",
      "Train Epoch 10 [ 6400/60000 (11%)] | Loss: 0.2012835592031479\n",
      "Train Epoch 10 [ 7040/60000 (12%)] | Loss: 0.22519823908805847\n",
      "Train Epoch 10 [ 7680/60000 (13%)] | Loss: 0.16340647637844086\n",
      "Train Epoch 10 [ 8320/60000 (14%)] | Loss: 0.409072607755661\n",
      "Train Epoch 10 [ 8960/60000 (15%)] | Loss: 0.5280886888504028\n",
      "Train Epoch 10 [ 9600/60000 (16%)] | Loss: 0.2790162265300751\n",
      "Train Epoch 10 [10240/60000 (17%)] | Loss: 0.4310973882675171\n",
      "Train Epoch 10 [10880/60000 (18%)] | Loss: 0.2710579037666321\n",
      "Train Epoch 10 [11520/60000 (19%)] | Loss: 0.43637391924858093\n",
      "Train Epoch 10 [12160/60000 (20%)] | Loss: 0.11668712645769119\n",
      "Train Epoch 10 [12800/60000 (21%)] | Loss: 0.27535006403923035\n",
      "Train Epoch 10 [13440/60000 (22%)] | Loss: 0.2954610586166382\n",
      "Train Epoch 10 [14080/60000 (23%)] | Loss: 0.38361427187919617\n",
      "Train Epoch 10 [14720/60000 (25%)] | Loss: 0.4298214614391327\n",
      "Train Epoch 10 [15360/60000 (26%)] | Loss: 0.2154036909341812\n",
      "Train Epoch 10 [16000/60000 (27%)] | Loss: 0.41531267762184143\n",
      "Train Epoch 10 [16640/60000 (28%)] | Loss: 0.2153891772031784\n",
      "Train Epoch 10 [17280/60000 (29%)] | Loss: 0.1792929619550705\n",
      "Train Epoch 10 [17920/60000 (30%)] | Loss: 0.394563227891922\n",
      "Train Epoch 10 [18560/60000 (31%)] | Loss: 0.4101550281047821\n",
      "Train Epoch 10 [19200/60000 (32%)] | Loss: 0.31159529089927673\n",
      "Train Epoch 10 [19840/60000 (33%)] | Loss: 0.35457098484039307\n",
      "Train Epoch 10 [20480/60000 (34%)] | Loss: 0.28305789828300476\n",
      "Train Epoch 10 [21120/60000 (35%)] | Loss: 0.31871432065963745\n",
      "Train Epoch 10 [21760/60000 (36%)] | Loss: 0.3491142690181732\n",
      "Train Epoch 10 [22400/60000 (37%)] | Loss: 0.16805753111839294\n",
      "Train Epoch 10 [23040/60000 (38%)] | Loss: 0.2514471113681793\n",
      "Train Epoch 10 [23680/60000 (39%)] | Loss: 0.3382899761199951\n",
      "Train Epoch 10 [24320/60000 (41%)] | Loss: 0.3542461097240448\n",
      "Train Epoch 10 [24960/60000 (42%)] | Loss: 0.21328361332416534\n",
      "Train Epoch 10 [25600/60000 (43%)] | Loss: 0.13113607466220856\n",
      "Train Epoch 10 [26240/60000 (44%)] | Loss: 0.2082511931657791\n",
      "Train Epoch 10 [26880/60000 (45%)] | Loss: 0.3394014537334442\n",
      "Train Epoch 10 [27520/60000 (46%)] | Loss: 0.39870908856391907\n",
      "Train Epoch 10 [28160/60000 (47%)] | Loss: 0.2693614363670349\n",
      "Train Epoch 10 [28800/60000 (48%)] | Loss: 0.38358598947525024\n",
      "Train Epoch 10 [29440/60000 (49%)] | Loss: 0.2544781267642975\n",
      "Train Epoch 10 [30080/60000 (50%)] | Loss: 0.41042929887771606\n",
      "Train Epoch 10 [30720/60000 (51%)] | Loss: 0.37961938977241516\n",
      "Train Epoch 10 [31360/60000 (52%)] | Loss: 0.22573460638523102\n",
      "Train Epoch 10 [32000/60000 (53%)] | Loss: 0.3428829610347748\n",
      "Train Epoch 10 [32640/60000 (54%)] | Loss: 0.5266991257667542\n",
      "Train Epoch 10 [33280/60000 (55%)] | Loss: 0.36119741201400757\n",
      "Train Epoch 10 [33920/60000 (57%)] | Loss: 0.23994186520576477\n",
      "Train Epoch 10 [34560/60000 (58%)] | Loss: 0.23739834129810333\n",
      "Train Epoch 10 [35200/60000 (59%)] | Loss: 0.22966694831848145\n",
      "Train Epoch 10 [35840/60000 (60%)] | Loss: 0.2838350534439087\n",
      "Train Epoch 10 [36480/60000 (61%)] | Loss: 0.37039124965667725\n",
      "Train Epoch 10 [37120/60000 (62%)] | Loss: 0.3114602267742157\n",
      "Train Epoch 10 [37760/60000 (63%)] | Loss: 0.29549652338027954\n",
      "Train Epoch 10 [38400/60000 (64%)] | Loss: 0.3676753640174866\n",
      "Train Epoch 10 [39040/60000 (65%)] | Loss: 0.22538718581199646\n",
      "Train Epoch 10 [39680/60000 (66%)] | Loss: 0.4913838803768158\n",
      "Train Epoch 10 [40320/60000 (67%)] | Loss: 0.2593564987182617\n",
      "Train Epoch 10 [40960/60000 (68%)] | Loss: 0.26127225160598755\n",
      "Train Epoch 10 [41600/60000 (69%)] | Loss: 0.23678885400295258\n",
      "Train Epoch 10 [42240/60000 (70%)] | Loss: 0.15571095049381256\n",
      "Train Epoch 10 [42880/60000 (71%)] | Loss: 0.37800708413124084\n",
      "Train Epoch 10 [43520/60000 (73%)] | Loss: 0.19421619176864624\n",
      "Train Epoch 10 [44160/60000 (74%)] | Loss: 0.30432775616645813\n",
      "Train Epoch 10 [44800/60000 (75%)] | Loss: 0.23499320447444916\n",
      "Train Epoch 10 [45440/60000 (76%)] | Loss: 0.5004094243049622\n",
      "Train Epoch 10 [46080/60000 (77%)] | Loss: 0.28956151008605957\n",
      "Train Epoch 10 [46720/60000 (78%)] | Loss: 0.20401789247989655\n",
      "Train Epoch 10 [47360/60000 (79%)] | Loss: 0.1695401668548584\n",
      "Train Epoch 10 [48000/60000 (80%)] | Loss: 0.3744336664676666\n",
      "Train Epoch 10 [48640/60000 (81%)] | Loss: 0.4122324585914612\n",
      "Train Epoch 10 [49280/60000 (82%)] | Loss: 0.37868809700012207\n",
      "Train Epoch 10 [49920/60000 (83%)] | Loss: 0.21494688093662262\n",
      "Train Epoch 10 [50560/60000 (84%)] | Loss: 0.40444856882095337\n",
      "Train Epoch 10 [51200/60000 (85%)] | Loss: 0.4225192070007324\n",
      "Train Epoch 10 [51840/60000 (86%)] | Loss: 0.36354392766952515\n",
      "Train Epoch 10 [52480/60000 (87%)] | Loss: 0.3294731676578522\n",
      "Train Epoch 10 [53120/60000 (89%)] | Loss: 0.45312485098838806\n",
      "Train Epoch 10 [53760/60000 (90%)] | Loss: 0.37193581461906433\n",
      "Train Epoch 10 [54400/60000 (91%)] | Loss: 0.3536698520183563\n",
      "Train Epoch 10 [55040/60000 (92%)] | Loss: 0.33974382281303406\n",
      "Train Epoch 10 [55680/60000 (93%)] | Loss: 0.2978007197380066\n",
      "Train Epoch 10 [56320/60000 (94%)] | Loss: 0.13560327887535095\n",
      "Train Epoch 10 [56960/60000 (95%)] | Loss: 0.3411942720413208\n",
      "Train Epoch 10 [57600/60000 (96%)] | Loss: 0.27346378564834595\n",
      "Train Epoch 10 [58240/60000 (97%)] | Loss: 0.3524957001209259\n",
      "Train Epoch 10 [58880/60000 (98%)] | Loss: 0.5000694394111633\n",
      "Train Epoch 10 [59520/60000 (99%)] | Loss: 0.17896303534507751\n",
      "\n",
      "Train Acc.: [54727/60000 (91%)]\n",
      "Test Acc.:  [ 9160/10000 (92%)]\n",
      "\n"
     ]
    }
   ],
   "source": [
    "# Design model\n",
    "n_test_samples = len(mnist_test_dataset)\n",
    "n_samples = len(mnist_train_dataset)\n",
    "n_features = (\n",
    "    mnist_train_dataset.train_data.shape[1]*mnist_train_dataset.train_data.shape[2]\n",
    ")\n",
    "n_classes = mnist_train_dataset.targets.unique().shape[0]\n",
    "model = NeuralNet(n_features, 512, 2, n_classes)\n",
    "\n",
    "# Construct Loss and Optimizer\n",
    "loss = nn.CrossEntropyLoss()\n",
    "optimizer = torch.optim.Adam(model.parameters(), lr=lr)\n",
    "\n",
    "train_losses = []\n",
    "# test_losses = []\n",
    "\n",
    "for epoch in range(num_epochs):\n",
    "    train_acc = 0\n",
    "    test_acc = 0\n",
    "    for batch_idx, (X_train, y_train) in enumerate(train_dataloader):\n",
    "        # Forward pass\n",
    "        y_hat = model(X_train)\n",
    "\n",
    "        pred = torch.max(y_hat.data, 1)[1]\n",
    "        batch_corr = (pred==y_train).sum()\n",
    "        train_acc += batch_corr\n",
    "\n",
    "        # Loss computation\n",
    "        J = loss(y_hat, y_train)\n",
    "\n",
    "        # Backward pass\n",
    "        J.backward()\n",
    "\n",
    "        # Update parameters\n",
    "        optimizer.step()\n",
    "\n",
    "        # Zero grad\n",
    "        optimizer.zero_grad()\n",
    "\n",
    "        # Print train loss\n",
    "        if batch_idx % 20 == 0:\n",
    "            print('Train Epoch {} [{:>5}/{} ({:>2.0f}%)] | Loss: {}'.format(\n",
    "                epoch+1, batch_idx * batch_size, n_samples, \n",
    "                100*batch_idx / len(train_dataloader), J))\n",
    "            train_losses.append(J)\n",
    "\n",
    "    with torch.no_grad():\n",
    "        for batch_idx, (X_test, y_test) in enumerate(test_dataloader):\n",
    "            # Forward pass\n",
    "            y_val = model(X_test)\n",
    "\n",
    "            pred = torch.max(y_val.data, 1)[1]\n",
    "            batch_corr = (pred==y_test).sum()\n",
    "            test_acc += batch_corr\n",
    "\n",
    "    print('\\nTrain Acc.: [{:>5}/{} ({:>2.0f}%)]'.format(train_acc, n_samples, 100 * train_acc / n_samples))\n",
    "    print('Test Acc.:  [{:>5}/{} ({:>2.0f}%)]\\n'.format(test_acc, n_test_samples, 100 * test_acc / n_test_samples))"
   ]
  },
  {
   "cell_type": "code",
   "execution_count": 53,
   "metadata": {},
   "outputs": [
    {
     "data": {
      "image/png": "[encoded data removed]",
      "text/plain": [
       "<Figure size 576x576 with 1 Axes>"
      ]
     },
     "metadata": {
      "needs_background": "light"
     },
     "output_type": "display_data"
    }
   ],
   "source": [
    "idx = list(range(len(train_losses)))\n",
    "\n",
    "fig = plt.figure(figsize=(8,8))\n",
    "plt.plot(idx, train_losses, 'b-')\n",
    "fig.show()"
   ]
  },
  {
   "cell_type": "markdown",
   "metadata": {},
   "source": [
    "---"
   ]
  }
 ],
 "metadata": {
  "kernelspec": {
   "display_name": "Python 3",
   "language": "python",
   "name": "python3"
  },
  "language_info": {
   "codemirror_mode": {
    "name": "ipython",
    "version": 3
   },
   "file_extension": ".py",
   "mimetype": "text/x-python",
   "name": "python",
   "nbconvert_exporter": "python",
   "pygments_lexer": "ipython3",
   "version": "3.7.6"
  }
 },
 "nbformat": 4,
 "nbformat_minor": 4
}
