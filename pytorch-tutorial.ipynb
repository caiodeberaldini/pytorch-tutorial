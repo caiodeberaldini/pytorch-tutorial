{
 "cells": [
  {
   "cell_type": "code",
   "execution_count": 1,
   "metadata": {},
   "outputs": [],
   "source": [
    "# Import cell\n",
    "\n",
    "import torch\n",
    "\n",
    "import numpy as np\n",
    "import pandas as pd\n",
    "import torch.nn as nn\n",
    "import matplotlib.pyplot as plt\n",
    "\n",
    "from sklearn import datasets\n",
    "from IPython.display import Image, display, Math"
   ]
  },
  {
   "cell_type": "markdown",
   "metadata": {},
   "source": [
    "# 1: Basics"
   ]
  },
  {
   "cell_type": "markdown",
   "metadata": {},
   "source": [
    "## 1.1: Tensors"
   ]
  },
  {
   "cell_type": "code",
   "execution_count": 2,
   "metadata": {},
   "outputs": [],
   "source": [
    "# Creating tensors, operating it and particularities\n",
    "\n",
    "## Empty tensor\n",
    "x = torch.empty(1) # 1-D empty tensor\n",
    "x = torch.empty(2, 1) # 2-D empty tensor\n",
    "# x = torch.empty(n-dimensional tensor) # n-D empty tensor\n",
    "\n",
    "## Zeros tensor\n",
    "x = torch.zeros(1) # 1-D zeros tensor\n",
    "\n",
    "## Ones tensor\n",
    "x = torch.ones(1) # 1-D ones tensor\n",
    "\n",
    "## Defining type\n",
    "x = torch.ones(2,2, dtype=torch.float16)\n",
    "# print(x.dtype)\n",
    "\n",
    "## Retrieving tensor size\n",
    "# print(x.size())\n",
    "\n",
    "## Creating tensor \"from scratch\"\n",
    "x = torch.tensor([[2.5, 5], [1.7, 8]])\n",
    "\n",
    "## Operations\n",
    "x = torch.rand(2, 2)\n",
    "y = torch.rand(2, 2)\n",
    "\n",
    "### Arithmetic\n",
    "z = x+y # Element-wise addition\n",
    "z = torch.add(x,y) # Same result\n",
    "y.add_(x) # Inplace element-wise addition; functions if \"_\" before its name make inplace ops\n",
    "\n",
    "z = x-y # Element-wise subtraction\n",
    "z = torch.sub(x, y) # Analogous as above\n",
    "y.sub_(x) # Analogous as above\n",
    "\n",
    "z = x*y # Element-wise multiplication\n",
    "z = torch.mul(x, y) # Analogous as above\n",
    "y.mul_(x) # Analogous as above\n",
    "\n",
    "z = x / y # Element-wise division\n",
    "z = torch.div(x, y) # Analogous as above\n",
    "y.div_(x) # Analogous as above\n",
    "\n",
    "### Slicing\n",
    "z = x[:, 1]\n",
    "z = x[1, 1]\n",
    "\n",
    "### Reshaping\n",
    "z = x.view(4)\n",
    "z = x.view(-1, 2)\n",
    "\n",
    "### Casting to numpy arrays\n",
    "z = x.numpy()\n",
    "\n",
    "### Casting from numpy arrays to pytorch tensors\n",
    "z = np.array([[1, 3.4], [5, 8.9]])\n",
    "w = torch.from_numpy(z)\n",
    "\n",
    "### Working on GPU\n",
    "# if torch.cuda_is_available():\n",
    "#     gpu = torch.device(\"cuda\")\n",
    "#     x = torch.ones(1, 2, device=gpu) # Tensor allocated on GPU\n",
    "#     y = torch.ones(5) # Tensor allocated on CPU\n",
    "#     y = y.to(gpu) # Sending tensor instantiated on CPU to GPU\n",
    "\n",
    "### Observation\n",
    "#################################################################################\n",
    "#    When dealing with tensors which you need to compute their gradients        #\n",
    "#    (e.g in optimization), Pytorch requires defining it explicitly.            #\n",
    "#################################################################################\n",
    "# x = torch.ones(4, requires_grad=True) # requires_grad argument is False by default"
   ]
  },
  {
   "cell_type": "markdown",
   "metadata": {},
   "source": [
    "---"
   ]
  },
  {
   "cell_type": "markdown",
   "metadata": {},
   "source": [
    "## 1.2: Autograd"
   ]
  },
  {
   "cell_type": "markdown",
   "metadata": {},
   "source": [
    "Autograd's package: used to ease the calculation of gradients. Its principle is based on Automatic Differentiation (autodiff)\n",
    "which is a general method for automatically computing the derivative of a value. For more details, I highly recommend checking out\n",
    "Prof. Roger Grosse lecture's slides¹ about the technique and the following medium post² about Pytorch's implementation of it.\n",
    "\n",
    "1: https://www.cs.toronto.edu/~rgrosse/courses/csc321_2018/slides/lec10.pdf <br>\n",
    "2: https://mustafaghali11.medium.com/how-pytorch-backward-function-works-55669b3b7c62"
   ]
  },
  {
   "cell_type": "code",
   "execution_count": 3,
   "metadata": {},
   "outputs": [],
   "source": [
    "# First, let's create an input tensor\n",
    "x = torch.rand(3, requires_grad=True) # Remember that it's necessary to enable requires_grad property\n",
    "\n",
    "# After creating the input tensor, let's define\n",
    "# an operation over this tensor.\n",
    "y = 3*x+2 # Creates the computational graph"
   ]
  },
  {
   "cell_type": "markdown",
   "metadata": {},
   "source": [
    "**Computational graph created after operating over the tensor:**"
   ]
  },
  {
   "cell_type": "code",
   "execution_count": 4,
   "metadata": {},
   "outputs": [
    {
     "data": {
      "image/png": "[encoded data removed]",
      "text/plain": [
       "<IPython.core.display.Image object>"
      ]
     },
     "execution_count": 4,
     "metadata": {},
     "output_type": "execute_result"
    }
   ],
   "source": [
    "Image(filename=\"assets/images/compt_graph.png\")"
   ]
  },
  {
   "cell_type": "code",
   "execution_count": 5,
   "metadata": {},
   "outputs": [
    {
     "name": "stdout",
     "output_type": "stream",
     "text": [
      "X: tensor([0.4541, 0.1103, 0.2051], requires_grad=True)\n",
      "Y: tensor([3.3622, 2.3310, 2.6152], grad_fn=<AddBackward0>)\n"
     ]
    }
   ],
   "source": [
    "print(\"X:\", x)\n",
    "print(\"Y:\", y)"
   ]
  },
  {
   "cell_type": "markdown",
   "metadata": {},
   "source": [
    "As seen, tensor X has requires_grad property set as **True** and tensor Y has the last operation over X (addition) as its gradient function. \n",
    "In the next example, Z is a tensor computed multiplying Y by itself and your grad. function is the multiplication op."
   ]
  },
  {
   "cell_type": "code",
   "execution_count": 6,
   "metadata": {},
   "outputs": [
    {
     "name": "stdout",
     "output_type": "stream",
     "text": [
      "tensor([11.3046,  5.4335,  6.8394], grad_fn=<MulBackward0>)\n"
     ]
    }
   ],
   "source": [
    "z = y*y\n",
    "print(z)"
   ]
  },
  {
   "cell_type": "markdown",
   "metadata": {},
   "source": [
    "For the sake of understanding, let's simplify assuming that our output tensor is 1-dimensional."
   ]
  },
  {
   "cell_type": "code",
   "execution_count": 7,
   "metadata": {},
   "outputs": [
    {
     "name": "stdout",
     "output_type": "stream",
     "text": [
      "tensor(7.8592, grad_fn=<MeanBackward0>)\n"
     ]
    }
   ],
   "source": [
    "z = z.mean()\n",
    "print(z)"
   ]
  },
  {
   "cell_type": "markdown",
   "metadata": {},
   "source": [
    "So, in order to compute Z gradient w.r.t. X, we call the Z backward() function and X grad property."
   ]
  },
  {
   "cell_type": "code",
   "execution_count": 8,
   "metadata": {},
   "outputs": [
    {
     "name": "stdout",
     "output_type": "stream",
     "text": [
      "tensor([6.7245, 4.6620, 5.2305]) \n",
      "Three gradients of Z w.r.t. X, because X is a 3-D tensor\n"
     ]
    }
   ],
   "source": [
    "z.backward()\n",
    "print(x.grad, '\\nThree gradients of Z w.r.t. X, because X is a 3-D tensor')"
   ]
  },
  {
   "cell_type": "markdown",
   "metadata": {},
   "source": [
    "On the other hand, if we have a multi-dimensional output tensor, we need to specify a gradient vector as an argument of backward() function\n",
    "towards the correct execution. In this sense, it's used a 'ones' tensor as the gradient vector in the Jacobian-vector Product - which is\n",
    "a way for computing partial derivatives, used inside autograd. For more details, please check the references in the head of this section."
   ]
  },
  {
   "cell_type": "code",
   "execution_count": 9,
   "metadata": {},
   "outputs": [
    {
     "name": "stdout",
     "output_type": "stream",
     "text": [
      "tensor([26.8979, 18.6480, 20.9218])\n"
     ]
    }
   ],
   "source": [
    "y = 3*x+2\n",
    "z = y*y\n",
    "size = list(z.size())\n",
    "init_grad_vec = torch.ones(size)\n",
    "\n",
    "z.backward(init_grad_vec)\n",
    "print(x.grad)"
   ]
  },
  {
   "cell_type": "markdown",
   "metadata": {},
   "source": [
    "Though Pytorch allocate every gradient of a specific variable, sometimes it's essential to reset our gradients."
   ]
  },
  {
   "cell_type": "code",
   "execution_count": 10,
   "metadata": {},
   "outputs": [
    {
     "name": "stdout",
     "output_type": "stream",
     "text": [
      "Step 1 gradient vector: tensor([47.0713, 32.6339, 36.6132])\n",
      "Step 2 gradient vector: tensor([67.2447, 46.6199, 52.3046])\n",
      "Step 3 gradient vector: tensor([87.4181, 60.6059, 67.9959])\n"
     ]
    }
   ],
   "source": [
    "for i in range(3):\n",
    "    y = 3*x + 2\n",
    "    z = y*y\n",
    "\n",
    "    z.backward(init_grad_vec)\n",
    "    print(\"Step {} gradient vector: {}\".format(i+1, x.grad))\n",
    "\n",
    "_ = x.grad.zero_()"
   ]
  },
  {
   "cell_type": "code",
   "execution_count": 11,
   "metadata": {},
   "outputs": [
    {
     "name": "stdout",
     "output_type": "stream",
     "text": [
      "Step 1 gradient vector: tensor([20.1734, 13.9860, 15.6914])\n",
      "Step 2 gradient vector: tensor([20.1734, 13.9860, 15.6914])\n",
      "Step 3 gradient vector: tensor([20.1734, 13.9860, 15.6914])\n"
     ]
    }
   ],
   "source": [
    "for i in range(3):\n",
    "    y = 3*x + 2\n",
    "    z = y*y\n",
    "\n",
    "    z.backward(init_grad_vec)\n",
    "    print(\"Step {} gradient vector: {}\".format(i+1, x.grad))\n",
    "    \n",
    "    _ = x.grad.zero_()"
   ]
  },
  {
   "cell_type": "markdown",
   "metadata": {},
   "source": [
    "Sometimes during training we might want to stop tracking variables from the gradient perspective. There are three ways to do so.\n",
    "(As seen below, none of tensors have the property requires_grad in it)"
   ]
  },
  {
   "cell_type": "code",
   "execution_count": 12,
   "metadata": {},
   "outputs": [],
   "source": [
    "# First way\n",
    "x.requires_grad_(False)\n",
    "# print(x)\n",
    "\n",
    "# Second way\n",
    "x.detach()\n",
    "# print(x)\n",
    "\n",
    "# Third way\n",
    "with torch.no_grad():\n",
    "    y = x + 2\n",
    "#     print(y)"
   ]
  },
  {
   "cell_type": "markdown",
   "metadata": {},
   "source": [
    "---"
   ]
  },
  {
   "cell_type": "markdown",
   "metadata": {},
   "source": [
    "## 1.3: Backpropagation"
   ]
  },
  {
   "cell_type": "markdown",
   "metadata": {},
   "source": [
    "Backpropagation is an algorithm used to compute gradients of functions w.r.t. parameters that appears previously \n",
    "to the function computation, and them is backpropagated to which one of them."
   ]
  },
  {
   "cell_type": "markdown",
   "metadata": {},
   "source": [
    "Let's suppose we have a first degree function (w/o linear coefficient, i.e. $y = f(x) = {\\theta}x$). Suppose our parameter $\\theta = 5$.\n",
    "In our computational graph Pytorch's framework, such operation should be seen as follows:"
   ]
  },
  {
   "cell_type": "code",
   "execution_count": 13,
   "metadata": {},
   "outputs": [
    {
     "data": {
      "image/png": "[encoded data removed]",
      "text/plain": [
       "<IPython.core.display.Image object>"
      ]
     },
     "execution_count": 13,
     "metadata": {},
     "output_type": "execute_result"
    }
   ],
   "source": [
    "Image(filename=\"assets/images/bprop_ex_compt_graph_1.png\")"
   ]
  },
  {
   "cell_type": "markdown",
   "metadata": {},
   "source": [
    "Here we have a multiplication operation and the attribution of this result in Y variable (an identity). In the background,\n",
    "the result of the first operation is seen as an intermediate variable - here called Z -, and them it's attributed to Y, completing\n",
    "the forward pass stage. Given that, to compute the gradient of Y w.r.t. X it's necessary to operate using the chain rule of calculus,\n",
    "in order to compute the gradient of Y w.r.t the intermediate variable Z."
   ]
  },
  {
   "cell_type": "markdown",
   "metadata": {},
   "source": [
    "---"
   ]
  },
  {
   "cell_type": "markdown",
   "metadata": {},
   "source": [
    "Briefly, the chain rule assures (not restricted to a 2-step computation. In fact, it's valid, in general, for n-steps):"
   ]
  },
  {
   "cell_type": "markdown",
   "metadata": {},
   "source": [
    "\n",
    "\n",
    "$\\dfrac{dy}{dz}*\\dfrac{dz}{dx} = \\dfrac{dy}{dx}$"
   ]
  },
  {
   "cell_type": "markdown",
   "metadata": {},
   "source": [
    "---"
   ]
  },
  {
   "cell_type": "markdown",
   "metadata": {},
   "source": [
    "The complete computation graph with the forward and backward pass is depicted below:"
   ]
  },
  {
   "cell_type": "code",
   "execution_count": 14,
   "metadata": {},
   "outputs": [
    {
     "data": {
      "image/png": "[encoded data removed]",
      "text/plain": [
       "<IPython.core.display.Image object>"
      ]
     },
     "execution_count": 14,
     "metadata": {},
     "output_type": "execute_result"
    }
   ],
   "source": [
    "Image(filename=\"assets/images/bprop_ex_compt_graph_2.png\")"
   ]
  },
  {
   "cell_type": "markdown",
   "metadata": {},
   "source": [
    "The Pytorch implementation of the backpropagation is as simple as follows:"
   ]
  },
  {
   "cell_type": "code",
   "execution_count": 15,
   "metadata": {},
   "outputs": [
    {
     "name": "stdout",
     "output_type": "stream",
     "text": [
      "dy/dx = 5 (as expected!)\n"
     ]
    }
   ],
   "source": [
    "# Instantiate data point\n",
    "x = torch.tensor([4], dtype=torch.float32, requires_grad=True)\n",
    "\n",
    "# Computational graph\n",
    "y = 5*x # dy/dx = 5\n",
    "\n",
    "# Backward pass\n",
    "y.backward()\n",
    "dy = x.grad\n",
    "\n",
    "print(f'dy/dx = {int(dy.item())} (as expected!)')"
   ]
  },
  {
   "cell_type": "markdown",
   "metadata": {},
   "source": [
    "---"
   ]
  },
  {
   "cell_type": "markdown",
   "metadata": {},
   "source": [
    "## 1.4: Gradient Descent Algorithm"
   ]
  },
  {
   "cell_type": "markdown",
   "metadata": {},
   "source": [
    "Toward to wrap all of these concepts and enable the algorithm to learn the paremeters' values, the gradient descent algorithm\n",
    "this task*. This algorithm can be divided in four steps:\n",
    "\n",
    "* Forward pass\n",
    "* Loss computation\n",
    "* Backward pass\n",
    "* Update parameters\n",
    "\n",
    "The only which wasn't introduced is the loss computation. In short, since the learning is being supervised, i.e. it's known a priori the correct\n",
    "output's value, one way to compute 'how much' the approximation function being learned is 'wrong' is computing the error between its\n",
    "output and the correct value. Here, the loss function used is the well-known Mean Squared Error (MSE)**. \n",
    "\n",
    "\\* The purpose here isn't to explain all the details of gradient descent algorithm.\n",
    "\n",
    "\\** In the examples below the problem is a regression one."
   ]
  },
  {
   "cell_type": "markdown",
   "metadata": {},
   "source": [
    "First, let's code it from scratch, using Numpy:"
   ]
  },
  {
   "cell_type": "code",
   "execution_count": 16,
   "metadata": {},
   "outputs": [
    {
     "data": {
      "text/latex": [
       "$\\displaystyle 20th \\ iter. \\ Error (J): 0.896 \\ | \\ Parameter \\ (\\theta): 4.641$"
      ],
      "text/plain": [
       "<IPython.core.display.Math object>"
      ]
     },
     "metadata": {},
     "output_type": "display_data"
    },
    {
     "data": {
      "text/latex": [
       "$\\displaystyle 40th \\ iter. \\ Error (J): 0.008 \\ | \\ Parameter \\ (\\theta): 4.965$"
      ],
      "text/plain": [
       "<IPython.core.display.Math object>"
      ]
     },
     "metadata": {},
     "output_type": "display_data"
    },
    {
     "data": {
      "text/latex": [
       "$\\displaystyle 60th \\ iter. \\ Error (J): 0.000 \\ | \\ Parameter \\ (\\theta): 4.997$"
      ],
      "text/plain": [
       "<IPython.core.display.Math object>"
      ]
     },
     "metadata": {},
     "output_type": "display_data"
    },
    {
     "data": {
      "text/latex": [
       "$\\displaystyle 80th \\ iter. \\ Error (J): 0.000 \\ | \\ Parameter \\ (\\theta): 5.000$"
      ],
      "text/plain": [
       "<IPython.core.display.Math object>"
      ]
     },
     "metadata": {},
     "output_type": "display_data"
    },
    {
     "data": {
      "text/latex": [
       "$\\displaystyle 100th \\ iter. \\ Error (J): 0.000 \\ | \\ Parameter \\ (\\theta): 5.000$"
      ],
      "text/plain": [
       "<IPython.core.display.Math object>"
      ]
     },
     "metadata": {},
     "output_type": "display_data"
    }
   ],
   "source": [
    "# Set data points\n",
    "x = np.array([1, 2, 3, 4, 5], dtype=np.float32)\n",
    "y = np.array([5, 10, 15, 20, 25], dtype=np.float32)\n",
    "\n",
    "# Randomly initialize parameter\n",
    "theta = np.random.randn(1)\n",
    "\n",
    "# Define hyperparameters\n",
    "lr = 0.01\n",
    "num_iters = 100\n",
    "\n",
    "for i in range(1, num_iters+1):\n",
    "    # Forward pass\n",
    "    y_hat = theta*x\n",
    "\n",
    "    # Loss computation\n",
    "    J = np.mean((y_hat - y)**2) / 2\n",
    "\n",
    "    # Backward pass\n",
    "    dJ = np.mean(x*(y_hat - y)) # This is the derivative of the loss function w.r.t. the parameter theta\n",
    "\n",
    "    # Update parameter\n",
    "    theta = theta - lr*dJ\n",
    "\n",
    "    # Print loss function\n",
    "    if i % 20 == 0:\n",
    "        display(Math(r'{i}th \\ iter. \\ Error (J): {J:.3f} \\ | \\ Parameter \\ (\\theta): {theta:.3f}'.format(i=i, J=J, theta=theta[0])))"
   ]
  },
  {
   "cell_type": "markdown",
   "metadata": {},
   "source": [
    "Now with Pytorch's Autograd (untill gradient computation):"
   ]
  },
  {
   "cell_type": "code",
   "execution_count": 17,
   "metadata": {},
   "outputs": [
    {
     "data": {
      "text/latex": [
       "$\\displaystyle 20th \\ iter. \\ Error (J): 1.161 \\ | \\ Parameter \\ (\\theta): 4.591$"
      ],
      "text/plain": [
       "<IPython.core.display.Math object>"
      ]
     },
     "metadata": {},
     "output_type": "display_data"
    },
    {
     "data": {
      "text/latex": [
       "$\\displaystyle 40th \\ iter. \\ Error (J): 0.011 \\ | \\ Parameter \\ (\\theta): 4.960$"
      ],
      "text/plain": [
       "<IPython.core.display.Math object>"
      ]
     },
     "metadata": {},
     "output_type": "display_data"
    },
    {
     "data": {
      "text/latex": [
       "$\\displaystyle 60th \\ iter. \\ Error (J): 0.000 \\ | \\ Parameter \\ (\\theta): 4.996$"
      ],
      "text/plain": [
       "<IPython.core.display.Math object>"
      ]
     },
     "metadata": {},
     "output_type": "display_data"
    },
    {
     "data": {
      "text/latex": [
       "$\\displaystyle 80th \\ iter. \\ Error (J): 0.000 \\ | \\ Parameter \\ (\\theta): 5.000$"
      ],
      "text/plain": [
       "<IPython.core.display.Math object>"
      ]
     },
     "metadata": {},
     "output_type": "display_data"
    },
    {
     "data": {
      "text/latex": [
       "$\\displaystyle 100th \\ iter. \\ Error (J): 0.000 \\ | \\ Parameter \\ (\\theta): 5.000$"
      ],
      "text/plain": [
       "<IPython.core.display.Math object>"
      ]
     },
     "metadata": {},
     "output_type": "display_data"
    }
   ],
   "source": [
    "# Set data points\n",
    "x = torch.tensor([1, 2, 3, 4, 5], dtype=torch.float32)\n",
    "y = torch.tensor([5, 10, 15, 20, 25], dtype=torch.float32)\n",
    "\n",
    "# Randomly initialize parameter\n",
    "theta = torch.rand(1, requires_grad=True)\n",
    "\n",
    "# Define hyperparameters\n",
    "lr = 0.01\n",
    "num_iters = 100\n",
    "\n",
    "for i in range(1, num_iters+1):\n",
    "    # Forward pass\n",
    "    y_hat = theta*x\n",
    "\n",
    "    # Loss computation\n",
    "    J = torch.mean((y_hat - y)**2 / 2)\n",
    "\n",
    "    # Backward pass\n",
    "    J.backward() # dJ/dtheta\n",
    "\n",
    "    # Update parameter\n",
    "    ## Remember that we don't want to track this operation in our computational graph. Given that\n",
    "    ## we should wrap our update operation inside the torch.no_grad(), as explained before.\n",
    "    with torch.no_grad():\n",
    "        theta -= lr*theta.grad\n",
    "\n",
    "    # Zero theta gradients\n",
    "    theta.grad.zero_()\n",
    "\n",
    "    # Print loss function and theta updating\n",
    "    if i % 20 == 0:\n",
    "        display(Math(r'{i}th \\ iter. \\ Error (J): {J:.3f} \\ | \\ Parameter \\ (\\theta): {theta:.3f}'.format(i=i, J=J, theta=theta[0])))"
   ]
  },
  {
   "cell_type": "markdown",
   "metadata": {},
   "source": [
    "---"
   ]
  },
  {
   "cell_type": "markdown",
   "metadata": {},
   "source": [
    "## 1.5: Training Pipeline"
   ]
  },
  {
   "cell_type": "markdown",
   "metadata": {},
   "source": [
    "Previously, we implemented our training in two ways: (i) all from scratch; (ii) from scratch mixed with Pytorch's autograd package. \n",
    "Now we'll write all the training pipeline with Pytorch. First, let's recap how we trained our linear regression model mixing\n",
    "from scratch with autograd:"
   ]
  },
  {
   "cell_type": "code",
   "execution_count": 18,
   "metadata": {},
   "outputs": [
    {
     "data": {
      "text/latex": [
       "$\\displaystyle 20th \\ iter. \\ Error (J): 1.250 \\ | \\ Parameter \\ (\\theta): 4.576$"
      ],
      "text/plain": [
       "<IPython.core.display.Math object>"
      ]
     },
     "metadata": {},
     "output_type": "display_data"
    },
    {
     "data": {
      "text/latex": [
       "$\\displaystyle 40th \\ iter. \\ Error (J): 0.012 \\ | \\ Parameter \\ (\\theta): 4.959$"
      ],
      "text/plain": [
       "<IPython.core.display.Math object>"
      ]
     },
     "metadata": {},
     "output_type": "display_data"
    },
    {
     "data": {
      "text/latex": [
       "$\\displaystyle 60th \\ iter. \\ Error (J): 0.000 \\ | \\ Parameter \\ (\\theta): 4.996$"
      ],
      "text/plain": [
       "<IPython.core.display.Math object>"
      ]
     },
     "metadata": {},
     "output_type": "display_data"
    },
    {
     "data": {
      "text/latex": [
       "$\\displaystyle 80th \\ iter. \\ Error (J): 0.000 \\ | \\ Parameter \\ (\\theta): 5.000$"
      ],
      "text/plain": [
       "<IPython.core.display.Math object>"
      ]
     },
     "metadata": {},
     "output_type": "display_data"
    },
    {
     "data": {
      "text/latex": [
       "$\\displaystyle 100th \\ iter. \\ Error (J): 0.000 \\ | \\ Parameter \\ (\\theta): 5.000$"
      ],
      "text/plain": [
       "<IPython.core.display.Math object>"
      ]
     },
     "metadata": {},
     "output_type": "display_data"
    }
   ],
   "source": [
    "# Set data points\n",
    "x = torch.tensor([1, 2, 3, 4, 5], dtype=torch.float32)\n",
    "y = torch.tensor([5, 10, 15, 20, 25], dtype=torch.float32)\n",
    "\n",
    "# Randomly initialize parameter\n",
    "theta = torch.rand(1, requires_grad=True)\n",
    "\n",
    "# Define hyperparameters\n",
    "lr = 0.01\n",
    "num_iters = 100\n",
    "\n",
    "for i in range(1, num_iters+1):\n",
    "    # Forward pass\n",
    "    y_hat = theta*x\n",
    "\n",
    "    # Loss computation\n",
    "    J = torch.mean((y_hat - y)**2 / 2)\n",
    "\n",
    "    # Backward pass\n",
    "    J.backward() # dJ/dtheta\n",
    "\n",
    "    # Update parameter\n",
    "    ## Remember that we don't want to track this operation in our computational graph. Given that\n",
    "    ## we should wrap our update operation inside the torch.no_grad(), as explained before.\n",
    "    with torch.no_grad():\n",
    "        theta -= lr*theta.grad\n",
    "\n",
    "    # Zero theta gradients\n",
    "    theta.grad.zero_()\n",
    "\n",
    "    # Print loss function and theta updating\n",
    "    if i % 20 == 0:\n",
    "        display(Math(r'{i}th \\ iter. \\ Error (J): {J:.3f} \\ | \\ Parameter \\ (\\theta): {theta:.3f}'.format(i=i, J=J, theta=theta[0])))"
   ]
  },
  {
   "cell_type": "markdown",
   "metadata": {},
   "source": [
    "As stated above, now we'll implement a linear regression in a fully-Pytorch version. For that, we need to add some steps:\n",
    "\n",
    "1. The model needs to be fed with a matrix whose lines are related to examples and columns to features. In our 1-D example, we need to reshape our covariates and target variables to be a column vector.\n",
    "2. The instance of the model object (in our case, a linear one).\n",
    "3. In order to compute loss and gradients, we need to specify which loss object we want (for a linear regression, good old MSE) and which optimizer. For that example, we use stochastic gradient descent optimizer.\n",
    "\n",
    "Implementation is as follows:"
   ]
  },
  {
   "cell_type": "code",
   "execution_count": 19,
   "metadata": {},
   "outputs": [
    {
     "data": {
      "text/latex": [
       "$\\displaystyle 400th \\ iter. \\ Error (J): 0.039 \\ | \\ Parameter \\ (\\theta): 4.872$"
      ],
      "text/plain": [
       "<IPython.core.display.Math object>"
      ]
     },
     "metadata": {},
     "output_type": "display_data"
    },
    {
     "data": {
      "text/latex": [
       "$\\displaystyle 800th \\ iter. \\ Error (J): 0.003 \\ | \\ Parameter \\ (\\theta): 4.967$"
      ],
      "text/plain": [
       "<IPython.core.display.Math object>"
      ]
     },
     "metadata": {},
     "output_type": "display_data"
    },
    {
     "data": {
      "text/latex": [
       "$\\displaystyle 1200th \\ iter. \\ Error (J): 0.000 \\ | \\ Parameter \\ (\\theta): 4.992$"
      ],
      "text/plain": [
       "<IPython.core.display.Math object>"
      ]
     },
     "metadata": {},
     "output_type": "display_data"
    },
    {
     "data": {
      "text/latex": [
       "$\\displaystyle 1600th \\ iter. \\ Error (J): 0.000 \\ | \\ Parameter \\ (\\theta): 4.998$"
      ],
      "text/plain": [
       "<IPython.core.display.Math object>"
      ]
     },
     "metadata": {},
     "output_type": "display_data"
    },
    {
     "data": {
      "text/latex": [
       "$\\displaystyle 2000th \\ iter. \\ Error (J): 0.000 \\ | \\ Parameter \\ (\\theta): 4.999$"
      ],
      "text/plain": [
       "<IPython.core.display.Math object>"
      ]
     },
     "metadata": {},
     "output_type": "display_data"
    }
   ],
   "source": [
    "# Set data points\n",
    "x = torch.tensor([1, 2, 3, 4, 5], dtype=torch.float32)\n",
    "y = torch.tensor([5, 10, 15, 20, 25], dtype=torch.float32)\n",
    "\n",
    "## Reshaping as column vectors\n",
    "x = x.view(x.shape[0], 1)\n",
    "y = y.view(y.shape[0], 1)\n",
    "\n",
    "# Design model\n",
    "n_samples, n_features = x.shape\n",
    "model = nn.Linear(in_features=n_features, out_features=n_features)\n",
    "\n",
    "# Define hyperparameters\n",
    "lr = 0.01\n",
    "num_iters = 2000\n",
    "\n",
    "# Construct Loss and Optimizer\n",
    "loss = nn.MSELoss()\n",
    "optimizer = torch.optim.SGD(model.parameters(), lr=lr) # Obs.: model.parameters() is a generator object of torch.nn.parameter which has requires_grad set True\n",
    "\n",
    "for i in range(1, num_iters+1):\n",
    "    # Forward pass\n",
    "    y_hat = model(x)\n",
    "\n",
    "    # Loss computation\n",
    "    J = loss(y_hat, y)\n",
    "\n",
    "    # Backward pass\n",
    "    J.backward() # dJ/dtheta\n",
    "\n",
    "    # Update parameter\n",
    "    optimizer.step()\n",
    "\n",
    "    # Zero theta gradients\n",
    "    optimizer.zero_grad()\n",
    "\n",
    "    # Print loss function and theta updating\n",
    "    if i % 400 == 0:\n",
    "        theta, b = model.parameters()\n",
    "        display(Math(r'{i}th \\ iter. \\ Error (J): {J:.3f} \\ | \\ Parameter \\ (\\theta): {theta:.3f}'.format(i=i, J=J, theta=theta.item())))"
   ]
  },
  {
   "cell_type": "markdown",
   "metadata": {},
   "source": [
    "---"
   ]
  },
  {
   "cell_type": "markdown",
   "metadata": {},
   "source": [
    "## 1.6: Linear Regression"
   ]
  },
  {
   "cell_type": "markdown",
   "metadata": {},
   "source": [
    "In this section we'll use the acquired knowledge about how to implement a linear regression fully with Pytorch to a toy dataset. Let's load the dataset:"
   ]
  },
  {
   "cell_type": "code",
   "execution_count": 20,
   "metadata": {},
   "outputs": [],
   "source": [
    "# Loading data\n",
    "X_numpy, y_numpy = datasets.make_regression(n_samples=100, n_features=1,\n",
    "                                            noise=15, random_state=1)\n",
    "\n",
    "## Transform Numpy vectors to Pytorch tensors\n",
    "X = torch.from_numpy(X_numpy.astype(np.float32))\n",
    "y = torch.from_numpy(y_numpy.astype(np.float32))\n",
    "\n",
    "## Reshaping as column vectors\n",
    "X = X.view(X.shape[0], 1)\n",
    "y = y.view(y.shape[0], 1)"
   ]
  },
  {
   "cell_type": "markdown",
   "metadata": {},
   "source": [
    "Then, we follow the steps followed before:\n",
    "\n",
    "* Design model (a linear one for that problem).\n",
    "* Construct loss function and optimizer.\n",
    "* Forward pass.\n",
    "* Backward pass.\n",
    "* Update parameters.\n",
    "\n",
    "In order to visualize results, it is plotted data points scatter with the line learned."
   ]
  },
  {
   "cell_type": "code",
   "execution_count": 21,
   "metadata": {},
   "outputs": [
    {
     "data": {
      "text/latex": [
       "$\\displaystyle 200th \\ iter. \\ Error (J): 196.832 \\ | \\ Parameter \\ (\\theta): 78.581$"
      ],
      "text/plain": [
       "<IPython.core.display.Math object>"
      ]
     },
     "metadata": {},
     "output_type": "display_data"
    },
    {
     "data": {
      "text/latex": [
       "$\\displaystyle 400th \\ iter. \\ Error (J): 187.088 \\ | \\ Parameter \\ (\\theta): 81.889$"
      ],
      "text/plain": [
       "<IPython.core.display.Math object>"
      ]
     },
     "metadata": {},
     "output_type": "display_data"
    },
    {
     "data": {
      "text/latex": [
       "$\\displaystyle 600th \\ iter. \\ Error (J): 187.069 \\ | \\ Parameter \\ (\\theta): 82.034$"
      ],
      "text/plain": [
       "<IPython.core.display.Math object>"
      ]
     },
     "metadata": {},
     "output_type": "display_data"
    },
    {
     "data": {
      "text/latex": [
       "$\\displaystyle 800th \\ iter. \\ Error (J): 187.069 \\ | \\ Parameter \\ (\\theta): 82.041$"
      ],
      "text/plain": [
       "<IPython.core.display.Math object>"
      ]
     },
     "metadata": {},
     "output_type": "display_data"
    },
    {
     "data": {
      "text/latex": [
       "$\\displaystyle 1000th \\ iter. \\ Error (J): 187.069 \\ | \\ Parameter \\ (\\theta): 82.041$"
      ],
      "text/plain": [
       "<IPython.core.display.Math object>"
      ]
     },
     "metadata": {},
     "output_type": "display_data"
    }
   ],
   "source": [
    "# Design model\n",
    "n_samples, n_features = X.shape\n",
    "model = nn.Linear(in_features=n_features, out_features=n_features)\n",
    "\n",
    "# Define hyperparameters\n",
    "lr = 0.01\n",
    "num_iters = 1000\n",
    "\n",
    "# Construct Loss and Optimizer\n",
    "loss = nn.MSELoss()\n",
    "optimizer = torch.optim.SGD(model.parameters(), lr=lr)\n",
    "\n",
    "for i in range(1, num_iters+1):\n",
    "    # Forward pass\n",
    "    y_hat = model(X)\n",
    "\n",
    "    # Loss computation\n",
    "    J = loss(y_hat, y)\n",
    "\n",
    "    # Backward pass\n",
    "    J.backward() # dJ/dtheta\n",
    "\n",
    "    # Update parameter\n",
    "    optimizer.step()\n",
    "\n",
    "    # Zero theta gradients\n",
    "    optimizer.zero_grad()\n",
    "\n",
    "    # Print loss function and theta updating\n",
    "    if i % 200 == 0:\n",
    "        theta, b = model.parameters()\n",
    "        display(Math(r'{i}th \\ iter. \\ Error (J): {J:.3f} \\ | \\ Parameter \\ (\\theta): {theta:.3f}'.format(i=i, J=J, theta=theta.item())))"
   ]
  },
  {
   "cell_type": "code",
   "execution_count": 22,
   "metadata": {},
   "outputs": [
    {
     "data": {
      "image/png": "[encoded data removed]",
      "text/plain": [
       "<Figure size 576x576 with 1 Axes>"
      ]
     },
     "metadata": {
      "needs_background": "light"
     },
     "output_type": "display_data"
    }
   ],
   "source": [
    "predicted = model(X).detach().numpy() # We don't want that op. on computational graph.\n",
    "\n",
    "fig, axs = plt.subplots(1, 1, figsize=(8,8))\n",
    "axs.plot(X_numpy, y_numpy, 'ro', label=\"Original Data\")\n",
    "axs.plot(X_numpy, predicted, 'b', label=\"Line Learned\")\n",
    "axs.legend(loc=\"upper left\")\n",
    "plt.show()"
   ]
  },
  {
   "cell_type": "markdown",
   "metadata": {},
   "source": [
    "---"
   ]
  },
  {
   "cell_type": "markdown",
   "metadata": {},
   "source": [
    "## 1.7: Logistic Regression"
   ]
  },
  {
   "cell_type": "markdown",
   "metadata": {},
   "source": [
    "Previously, we learned how to implement a linear model in the context of a linear regression problem fully with Pytorch. In this section we'll learn to implement the Logistic Regression classification algorithm.\n",
    "\n",
    "First of all, there isn't an implemented interface on Pytorch as in the case of our linear model. Given that, we'll need to build our own Logistic Regression class. In summary, Logistic Regression is a model used in classification tasks that has two-steps:\n",
    "\n",
    "* First, it's applied a linear transformation of the same kind it's done in linear regression (z = A*x + b).\n",
    "* Second, a non-linear limited function is applied in order to constraint the output value. In our model, we'll use the logistic function (also known as sigmoid function).\n",
    "\n",
    "With this in mind, let's create our Logistic Regression class:"
   ]
  },
  {
   "cell_type": "code",
   "execution_count": 23,
   "metadata": {},
   "outputs": [],
   "source": [
    "class LogRegression(nn.Module): # Inherit torch.nn.Module. This enable us to access methods, attributes and other classes that inherit this parent class.\n",
    "\n",
    "    def __init__(self, n_features, n_classes):\n",
    "        super().__init__()\n",
    "        self.Linear = nn.Linear(in_features=n_features, out_features=n_classes)\n",
    "\n",
    "    def forward(self, x):\n",
    "        predicted = torch.sigmoid(self.Linear(x))\n",
    "        return predicted"
   ]
  },
  {
   "cell_type": "markdown",
   "metadata": {},
   "source": [
    "After constructing the class, let's generate and load our toy dataset:"
   ]
  },
  {
   "cell_type": "code",
   "execution_count": 24,
   "metadata": {},
   "outputs": [],
   "source": [
    "# Loading and transforming data. \n",
    "\n",
    "## Don't care too much about the data itself. Nevertheless, have in mind that our data is generated \n",
    "## with few constraints (e.g., it's a 100 examples size, it has 2 features and 3 classes as possible values \n",
    "## to target variable).\n",
    "X_numpy, y_numpy = datasets.make_classification(n_samples=100, n_features=2, \n",
    "                                                n_redundant=0, n_classes=3,\n",
    "                                                n_clusters_per_class=1, random_state=1)\n",
    "\n",
    "X = torch.from_numpy(X_numpy.astype(np.float32))\n",
    "y = torch.from_numpy(y_numpy)\n",
    "y = y.type(torch.long)"
   ]
  },
  {
   "cell_type": "markdown",
   "metadata": {},
   "source": [
    "Training pipeline follows the same steps as before:\n",
    "\n",
    "* Design model.\n",
    "* Construct loss function and optimizer.\n",
    "* Forward pass.\n",
    "* Backward pass.\n",
    "* Update parameters."
   ]
  },
  {
   "cell_type": "code",
   "execution_count": 25,
   "metadata": {},
   "outputs": [
    {
     "data": {
      "text/latex": [
       "$\\displaystyle 0th \\ iter. \\ Error \\ (J): 1.156 \\ | \\ Parameters: (\\theta_1): 0.113, \\ (\\theta_2): 0.389 $"
      ],
      "text/plain": [
       "<IPython.core.display.Math object>"
      ]
     },
     "metadata": {},
     "output_type": "display_data"
    },
    {
     "data": {
      "text/latex": [
       "$\\displaystyle 200th \\ iter. \\ Error \\ (J): 0.764 \\ | \\ Parameters: (\\theta_1): 1.653, \\ (\\theta_2): 1.147 $"
      ],
      "text/plain": [
       "<IPython.core.display.Math object>"
      ]
     },
     "metadata": {},
     "output_type": "display_data"
    },
    {
     "data": {
      "text/latex": [
       "$\\displaystyle 400th \\ iter. \\ Error \\ (J): 0.682 \\ | \\ Parameters: (\\theta_1): 2.615, \\ (\\theta_2): 1.007 $"
      ],
      "text/plain": [
       "<IPython.core.display.Math object>"
      ]
     },
     "metadata": {},
     "output_type": "display_data"
    },
    {
     "data": {
      "text/latex": [
       "$\\displaystyle 600th \\ iter. \\ Error \\ (J): 0.650 \\ | \\ Parameters: (\\theta_1): 3.303, \\ (\\theta_2): 0.755 $"
      ],
      "text/plain": [
       "<IPython.core.display.Math object>"
      ]
     },
     "metadata": {},
     "output_type": "display_data"
    },
    {
     "data": {
      "text/latex": [
       "$\\displaystyle 800th \\ iter. \\ Error \\ (J): 0.634 \\ | \\ Parameters: (\\theta_1): 3.847, \\ (\\theta_2): 0.492 $"
      ],
      "text/plain": [
       "<IPython.core.display.Math object>"
      ]
     },
     "metadata": {},
     "output_type": "display_data"
    },
    {
     "data": {
      "text/latex": [
       "$\\displaystyle 1000th \\ iter. \\ Error \\ (J): 0.623 \\ | \\ Parameters: (\\theta_1): 4.307, \\ (\\theta_2): 0.245 $"
      ],
      "text/plain": [
       "<IPython.core.display.Math object>"
      ]
     },
     "metadata": {},
     "output_type": "display_data"
    }
   ],
   "source": [
    "# Design model\n",
    "n_samples, n_features = X.shape\n",
    "n_classes = y.unique().shape[0]\n",
    "model = LogRegression(n_features, n_classes)\n",
    "\n",
    "# Define hyperparameters\n",
    "lr=0.01\n",
    "num_epochs=1000\n",
    "\n",
    "# Construct Loss and Optimizer\n",
    "loss = nn.CrossEntropyLoss() # Since we're tackling a classification task, loss function needs to fit adequately.\n",
    "optimizer = torch.optim.Adam(model.parameters(), lr=lr)\n",
    "\n",
    "for epoch in range(num_epochs+1):\n",
    "    # Forward pass\n",
    "    y_hat = model(X)\n",
    "\n",
    "    # Loss computation\n",
    "    J = loss(y_hat ,y)\n",
    "\n",
    "    # Backward pass\n",
    "    J.backward()\n",
    "\n",
    "    # Update parameters\n",
    "    optimizer.step()\n",
    "\n",
    "    # Zero grad\n",
    "    optimizer.zero_grad()\n",
    "\n",
    "    # Print loss and weights\n",
    "    if epoch % 200 == 0:\n",
    "        theta, b = model.parameters()\n",
    "        theta1 = theta[0][0].item()\n",
    "        theta2 = theta[0][1].item()\n",
    "        display(Math(r'{i}th \\ iter. \\ Error \\ (J): {J:.3f} \\ | \\ Parameters: (\\theta_1): {theta1:.3f}, \\ (\\theta_2): {theta2:.3f} '.format(i=epoch, J=J, \n",
    "                                                                                                                                            theta1=theta1, \n",
    "                                                                                                                                            theta2=theta2)))"
   ]
  },
  {
   "cell_type": "markdown",
   "metadata": {},
   "source": [
    "In order to visualize results, it is plotted model prediction and it's decision boundary (represented by it's non-linear function) beside with original data points."
   ]
  },
  {
   "cell_type": "code",
   "execution_count": 26,
   "metadata": {},
   "outputs": [
    {
     "data": {
      "image/png": "[encoded data removed]",
      "text/plain": [
       "<Figure size 1440x576 with 2 Axes>"
      ]
     },
     "metadata": {
      "needs_background": "light"
     },
     "output_type": "display_data"
    }
   ],
   "source": [
    "h = 0.02\n",
    "\n",
    "x_min, x_max = X[:, 0].min().item() - 0.5, X[:, 0].max().item() + 0.5\n",
    "y_min, y_max = X[:, 1].min().item() - 0.5, X[:, 1].max().item() + 0.5\n",
    "\n",
    "xx, yy = np.meshgrid(np.arange(x_min, x_max, h),\n",
    "                     np.arange(y_min, y_max, h))\n",
    "\n",
    "grid_agg = np.c_[xx.ravel(), yy.ravel()]\n",
    "grid_agg = torch.from_numpy(grid_agg.astype(np.float32))\n",
    "\n",
    "Z = model(grid_agg).detach()\n",
    "Z = torch.argmax(Z, 1, keepdim=True)\n",
    "Z = np.reshape(Z.numpy(), xx.shape)\n",
    "\n",
    "cm = plt.cm.Pastel1\n",
    "\n",
    "predicted = model(X).detach()\n",
    "predicted = torch.argmax(predicted, 1, keepdim=True)\n",
    "predicted = predicted.view(n_samples)\n",
    "\n",
    "corr_fst_class_idx = y_numpy==0\n",
    "corr_snd_class_idx = y_numpy==1\n",
    "corr_trd_class_idx = y_numpy==2\n",
    "\n",
    "fst_class_idx = predicted==0\n",
    "snd_class_idx = predicted==1\n",
    "trd_class_idx = predicted==2\n",
    "\n",
    "fig, axs = plt.subplots(1, 2, figsize=(20,8))\n",
    "axs[0].plot(X_numpy[fst_class_idx, 0], X_numpy[fst_class_idx, 1], 'ro', label='Class 1')\n",
    "axs[0].plot(X_numpy[snd_class_idx, 0], X_numpy[snd_class_idx, 1], 'bo', label='Class 2')\n",
    "axs[0].plot(X_numpy[trd_class_idx, 0], X_numpy[trd_class_idx, 1], 'go', label='Class 3')\n",
    "axs[0].contourf(xx, yy, Z, cmap=cm, alpha=0.7)\n",
    "axs[0].legend(loc=\"upper left\")\n",
    "axs[0].set_title(\"Predicted (w/ Decision Boundary)\")\n",
    "\n",
    "axs[1].plot(X_numpy[corr_fst_class_idx, 0], X_numpy[corr_fst_class_idx, 1], 'ro', label='Class 1')\n",
    "axs[1].plot(X_numpy[corr_snd_class_idx, 0], X_numpy[corr_snd_class_idx, 1], 'bo', label='Class 2')\n",
    "axs[1].plot(X_numpy[corr_trd_class_idx, 0], X_numpy[corr_trd_class_idx, 1], 'go', label='Class 3')\n",
    "axs[1].legend(loc=\"upper left\")\n",
    "axs[1].set_title(\"Original Data\")\n",
    "\n",
    "plt.show()"
   ]
  },
  {
   "cell_type": "markdown",
   "metadata": {},
   "source": [
    "---"
   ]
  }
 ],
 "metadata": {
  "kernelspec": {
   "display_name": "Python 3",
   "language": "python",
   "name": "python3"
  },
  "language_info": {
   "codemirror_mode": {
    "name": "ipython",
    "version": 3
   },
   "file_extension": ".py",
   "mimetype": "text/x-python",
   "name": "python",
   "nbconvert_exporter": "python",
   "pygments_lexer": "ipython3",
   "version": "3.7.6"
  }
 },
 "nbformat": 4,
 "nbformat_minor": 4
}
