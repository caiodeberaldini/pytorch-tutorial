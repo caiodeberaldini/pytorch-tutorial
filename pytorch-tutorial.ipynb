{
 "cells": [
  {
   "cell_type": "code",
   "execution_count": 1,
   "metadata": {},
   "outputs": [],
   "source": [
    "import sys\n",
    "\n",
    "import torch\n",
    "\n",
    "import numpy as np\n",
    "import pandas as pd"
   ]
  },
  {
   "cell_type": "markdown",
   "metadata": {},
   "source": [
    "# 1: Basics"
   ]
  },
  {
   "cell_type": "markdown",
   "metadata": {},
   "source": [
    "## 1.1: Tensors"
   ]
  },
  {
   "cell_type": "code",
   "execution_count": null,
   "metadata": {},
   "outputs": [],
   "source": [
    "# Creating tensors\n",
    "\n",
    "## Empty tensor\n",
    "# x = torch.empty(1) # 1-D empty tensor\n",
    "# x = torch.empty(2, 1) # 2-D empty tensor\n",
    "# x = torch.empty(n-dimensional tensor) # n-D empty tensor\n",
    "\n",
    "## Zeros tensor\n",
    "# x = torch.zeros(1) # 1-D zeros tensor\n",
    "\n",
    "## Ones tensor\n",
    "# x = torch.ones(1) # 1-D ones tensor\n",
    "\n",
    "## Defining type\n",
    "# x = torch.ones(2,2, dtype=torch.float16)\n",
    "# print(x.dtype)\n",
    "\n",
    "## Retrieving tensor size\n",
    "# print(x.size())\n",
    "\n",
    "## Creating tensor \"from scratch\"\n",
    "# x = torch.tensor([[2.5, 5], [1.7, 8]])\n",
    "\n",
    "## Operations\n",
    "x = torch.rand(2, 2)\n",
    "y = torch.rand(2, 2)\n",
    "\n",
    "### Arithmetic\n",
    "# z = x+y # Element-wise addition\n",
    "# z = torch.add(x,y) # Same result\n",
    "# y.add_(x) # Inplace element-wise addition; functions if \"_\" before its name make inplace ops\n",
    "\n",
    "# z = x-y # Element-wise subtraction\n",
    "# z = torch.sub(x, y) # Analogous as above\n",
    "# y.sub_(x) # Analogous as above\n",
    "\n",
    "# z = x*y # Element-wise multiplication\n",
    "# z = torch.mul(x, y) # Analogous as above\n",
    "# y.mul_(x) # Analogous as above\n",
    "\n",
    "# z = x / y # Element-wise division\n",
    "# z = torch.div(x, y) # Analogous as above\n",
    "# y.div_(x) # Analogous as above\n",
    "\n",
    "### Slicing\n",
    "# z = x[:, 1]\n",
    "# z = x[1, 1]\n",
    "\n",
    "### Reshaping\n",
    "# z = x.view(4)\n",
    "# z = x.view(-1, 2)\n",
    "\n",
    "### Casting to numpy arrays\n",
    "# z = x.numpy()\n",
    "\n",
    "### Casting from numpy arrays to pytorch tensors\n",
    "# z = np.array([[1, 3.4], [5, 8.9]])\n",
    "# w = torch.from_numpy(z)\n",
    "\n",
    "### Working on GPU\n",
    "# if torch.cuda_is_available():\n",
    "#     gpu = torch.device(\"cuda\")\n",
    "#     x = torch.ones(1, 2, device=gpu) # Tensor allocated on GPU\n",
    "#     y = torch.ones(5) # Tensor allocated on CPU\n",
    "#     y = y.to(gpu) # Sending tensor instantiated on CPU to GPU"
   ]
  }
 ],
 "metadata": {
  "kernelspec": {
   "display_name": "Python 3",
   "language": "python",
   "name": "python3"
  },
  "language_info": {
   "codemirror_mode": {
    "name": "ipython",
    "version": 3
   },
   "file_extension": ".py",
   "mimetype": "text/x-python",
   "name": "python",
   "nbconvert_exporter": "python",
   "pygments_lexer": "ipython3",
   "version": "3.7.6"
  }
 },
 "nbformat": 4,
 "nbformat_minor": 4
}
