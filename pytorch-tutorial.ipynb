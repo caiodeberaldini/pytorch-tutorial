{
 "cells": [
  {
   "cell_type": "code",
   "execution_count": 1,
   "metadata": {},
   "outputs": [],
   "source": [
    "# Import cell\n",
    "\n",
    "import torch\n",
    "\n",
    "import numpy as np\n",
    "import pandas as pd\n",
    "\n",
    "from IPython.display import Image"
   ]
  },
  {
   "cell_type": "markdown",
   "metadata": {},
   "source": [
    "# 1: Basics"
   ]
  },
  {
   "cell_type": "markdown",
   "metadata": {},
   "source": [
    "## 1.1: Tensors"
   ]
  },
  {
   "cell_type": "code",
   "execution_count": 3,
   "metadata": {},
   "outputs": [],
   "source": [
    "# Creating tensors, operating it and particularities\n",
    "\n",
    "## Empty tensor\n",
    "x = torch.empty(1) # 1-D empty tensor\n",
    "x = torch.empty(2, 1) # 2-D empty tensor\n",
    "# x = torch.empty(n-dimensional tensor) # n-D empty tensor\n",
    "\n",
    "## Zeros tensor\n",
    "x = torch.zeros(1) # 1-D zeros tensor\n",
    "\n",
    "## Ones tensor\n",
    "x = torch.ones(1) # 1-D ones tensor\n",
    "\n",
    "## Defining type\n",
    "x = torch.ones(2,2, dtype=torch.float16)\n",
    "# print(x.dtype)\n",
    "\n",
    "## Retrieving tensor size\n",
    "# print(x.size())\n",
    "\n",
    "## Creating tensor \"from scratch\"\n",
    "x = torch.tensor([[2.5, 5], [1.7, 8]])\n",
    "\n",
    "## Operations\n",
    "x = torch.rand(2, 2)\n",
    "y = torch.rand(2, 2)\n",
    "\n",
    "### Arithmetic\n",
    "z = x+y # Element-wise addition\n",
    "z = torch.add(x,y) # Same result\n",
    "y.add_(x) # Inplace element-wise addition; functions if \"_\" before its name make inplace ops\n",
    "\n",
    "z = x-y # Element-wise subtraction\n",
    "z = torch.sub(x, y) # Analogous as above\n",
    "y.sub_(x) # Analogous as above\n",
    "\n",
    "z = x*y # Element-wise multiplication\n",
    "z = torch.mul(x, y) # Analogous as above\n",
    "y.mul_(x) # Analogous as above\n",
    "\n",
    "z = x / y # Element-wise division\n",
    "z = torch.div(x, y) # Analogous as above\n",
    "y.div_(x) # Analogous as above\n",
    "\n",
    "### Slicing\n",
    "z = x[:, 1]\n",
    "z = x[1, 1]\n",
    "\n",
    "### Reshaping\n",
    "z = x.view(4)\n",
    "z = x.view(-1, 2)\n",
    "\n",
    "### Casting to numpy arrays\n",
    "z = x.numpy()\n",
    "\n",
    "### Casting from numpy arrays to pytorch tensors\n",
    "z = np.array([[1, 3.4], [5, 8.9]])\n",
    "w = torch.from_numpy(z)\n",
    "\n",
    "### Working on GPU\n",
    "# if torch.cuda_is_available():\n",
    "#     gpu = torch.device(\"cuda\")\n",
    "#     x = torch.ones(1, 2, device=gpu) # Tensor allocated on GPU\n",
    "#     y = torch.ones(5) # Tensor allocated on CPU\n",
    "#     y = y.to(gpu) # Sending tensor instantiated on CPU to GPU\n",
    "\n",
    "### Observation\n",
    "#################################################################################\n",
    "#    When dealing with tensors that it'll be needed to compute its gradients    #\n",
    "#    (e.g in optimization), Pytorch requires defining it explicitly.            #\n",
    "#################################################################################\n",
    "# x = torch.ones(4, requires_grad=True) # requires_grad argument is False by default"
   ]
  },
  {
   "cell_type": "markdown",
   "metadata": {},
   "source": [
    "---"
   ]
  },
  {
   "cell_type": "markdown",
   "metadata": {},
   "source": [
    "## 1.2: Autograd"
   ]
  },
  {
   "cell_type": "markdown",
   "metadata": {},
   "source": [
    "Autograd's package: used to ease the calculation of gradients. Its principle is based on Automatic Differentiation (autodiff)\n",
    "which is a general method for automatically computing the derivative of a value. For more details, I highly recommend checking out\n",
    "Prof. Roger Grosse lecture's slides¹ about the technique and the following medium post² about Pytorch's implementation of it.\n",
    "\n",
    "1: https://www.cs.toronto.edu/~rgrosse/courses/csc321_2018/slides/lec10.pdf <br>\n",
    "2: https://mustafaghali11.medium.com/how-pytorch-backward-function-works-55669b3b7c62"
   ]
  },
  {
   "cell_type": "code",
   "execution_count": 4,
   "metadata": {},
   "outputs": [],
   "source": [
    "# First, let's create an input tensor\n",
    "x = torch.rand(3, requires_grad=True) # Remember that it's necessary to enable requires_grad property\n",
    "\n",
    "# After creating the input tensor, let's define\n",
    "# an operation over this tensor.\n",
    "y = 3*x+2 # Creates the computational graph"
   ]
  },
  {
   "cell_type": "markdown",
   "metadata": {},
   "source": [
    "**Computational graph created after operating over the tensor:**"
   ]
  },
  {
   "cell_type": "code",
   "execution_count": 5,
   "metadata": {},
   "outputs": [
    {
     "data": {
      "image/png": "[encoded data removed]",
      "text/plain": [
       "<IPython.core.display.Image object>"
      ]
     },
     "execution_count": 5,
     "metadata": {},
     "output_type": "execute_result"
    }
   ],
   "source": [
    "Image(filename=\"assets/images/compt_graph.png\")"
   ]
  },
  {
   "cell_type": "code",
   "execution_count": 6,
   "metadata": {},
   "outputs": [
    {
     "name": "stdout",
     "output_type": "stream",
     "text": [
      "X: tensor([0.2909, 0.2975, 0.4159], requires_grad=True)\n",
      "Y: tensor([2.8726, 2.8925, 3.2477], grad_fn=<AddBackward0>)\n"
     ]
    }
   ],
   "source": [
    "print(\"X:\", x)\n",
    "print(\"Y:\", y)"
   ]
  },
  {
   "cell_type": "markdown",
   "metadata": {},
   "source": [
    "As seen, tensor X has requires_grad property set as **True** and tensor Y has the last operation over X (addition) as its gradient function. \n",
    "In the next example, Z is a tensor computed multiplying Y by itself and your grad. function is the multiplication op."
   ]
  },
  {
   "cell_type": "code",
   "execution_count": 7,
   "metadata": {},
   "outputs": [
    {
     "name": "stdout",
     "output_type": "stream",
     "text": [
      "tensor([ 8.2519,  8.3667, 10.5478], grad_fn=<MulBackward0>)\n"
     ]
    }
   ],
   "source": [
    "z = y*y\n",
    "print(z)"
   ]
  },
  {
   "cell_type": "markdown",
   "metadata": {},
   "source": [
    "For the sake of understanding, let's simplify assuming that our output tensor is 1-dimensional."
   ]
  },
  {
   "cell_type": "code",
   "execution_count": 8,
   "metadata": {},
   "outputs": [
    {
     "name": "stdout",
     "output_type": "stream",
     "text": [
      "tensor(9.0555, grad_fn=<MeanBackward0>)\n"
     ]
    }
   ],
   "source": [
    "z = z.mean()\n",
    "print(z)"
   ]
  },
  {
   "cell_type": "markdown",
   "metadata": {},
   "source": [
    "So, in order to compute Z gradient w.r.t. X, we call the Z backward() function and X grad property."
   ]
  },
  {
   "cell_type": "code",
   "execution_count": 9,
   "metadata": {},
   "outputs": [
    {
     "name": "stdout",
     "output_type": "stream",
     "text": [
      "tensor([5.7452, 5.7851, 6.4955]) \n",
      "Three gradients of Z w.r.t. X, because X is a 3-D tensor\n"
     ]
    }
   ],
   "source": [
    "z.backward()\n",
    "print(x.grad, '\\nThree gradients of Z w.r.t. X, because X is a 3-D tensor')"
   ]
  },
  {
   "cell_type": "markdown",
   "metadata": {},
   "source": [
    "On the other hand, if we have a multi-dimensional output tensor, we need to specify a gradient vector as an argument of backward() function\n",
    "towards the correct execution. In this sense, it's used a 'ones' tensor as the gradient vector in the Jacobian-vector Product - which is\n",
    "a way for computing partial derivatives, used inside autograd. For more details, please check the references in the head of this section."
   ]
  },
  {
   "cell_type": "code",
   "execution_count": 10,
   "metadata": {},
   "outputs": [
    {
     "name": "stdout",
     "output_type": "stream",
     "text": [
      "tensor([22.9809, 23.1402, 25.9819])\n"
     ]
    }
   ],
   "source": [
    "y = 3*x+2\n",
    "z = y*y\n",
    "size = list(z.size())\n",
    "init_grad_vec = torch.ones(size)\n",
    "\n",
    "z.backward(init_grad_vec)\n",
    "print(x.grad)"
   ]
  },
  {
   "cell_type": "markdown",
   "metadata": {},
   "source": [
    "Though Pytorch allocate every gradient of a specific variable, sometimes it's essential to reset our gradients."
   ]
  },
  {
   "cell_type": "code",
   "execution_count": 11,
   "metadata": {},
   "outputs": [
    {
     "name": "stdout",
     "output_type": "stream",
     "text": [
      "Step 1 gradient vector: tensor([40.2165, 40.4954, 45.4684])\n",
      "Step 2 gradient vector: tensor([57.4522, 57.8505, 64.9548])\n",
      "Step 3 gradient vector: tensor([74.6878, 75.2057, 84.4413])\n"
     ]
    }
   ],
   "source": [
    "for i in range(3):\n",
    "    y = 3*x + 2\n",
    "    z = y*y\n",
    "\n",
    "    z.backward(init_grad_vec)\n",
    "    print(\"Step {} gradient vector: {}\".format(i+1, x.grad))\n",
    "\n",
    "_ = x.grad.zero_()"
   ]
  },
  {
   "cell_type": "code",
   "execution_count": 12,
   "metadata": {},
   "outputs": [
    {
     "name": "stdout",
     "output_type": "stream",
     "text": [
      "Step 1 gradient vector: tensor([17.2357, 17.3552, 19.4864])\n",
      "Step 2 gradient vector: tensor([17.2357, 17.3552, 19.4864])\n",
      "Step 3 gradient vector: tensor([17.2357, 17.3552, 19.4864])\n"
     ]
    }
   ],
   "source": [
    "for i in range(3):\n",
    "    y = 3*x + 2\n",
    "    z = y*y\n",
    "\n",
    "    z.backward(init_grad_vec)\n",
    "    print(\"Step {} gradient vector: {}\".format(i+1, x.grad))\n",
    "    \n",
    "    _ = x.grad.zero_()"
   ]
  },
  {
   "cell_type": "markdown",
   "metadata": {},
   "source": [
    "Sometimes during training we might want to stop tracking variables from the gradient perspective. There are three ways to do so.\n",
    "(As seen below, none of tensors have the property requires_grad in it)"
   ]
  },
  {
   "cell_type": "code",
   "execution_count": 13,
   "metadata": {},
   "outputs": [],
   "source": [
    "# First way\n",
    "x.requires_grad_(False)\n",
    "# print(x)\n",
    "\n",
    "# Second way\n",
    "x.detach()\n",
    "# print(x)\n",
    "\n",
    "# Third way\n",
    "with torch.no_grad():\n",
    "    y = x + 2\n",
    "#     print(y)"
   ]
  },
  {
   "cell_type": "markdown",
   "metadata": {},
   "source": [
    "---"
   ]
  },
  {
   "cell_type": "markdown",
   "metadata": {},
   "source": [
    "## 1.3: Backpropagation"
   ]
  },
  {
   "cell_type": "markdown",
   "metadata": {},
   "source": [
    "Backpropagation is an algorithm used to compute gradients of functions w.r.t. parameters that appears previously \n",
    "to the function computation, and them is backpropagated to which one of them."
   ]
  },
  {
   "cell_type": "markdown",
   "metadata": {},
   "source": [
    "Let's suppose we have a first degree function (w/o linear coefficient, i.e. $y = f(x) = {\\theta}x$). Suppose our parameter $\\theta = 5$.\n",
    "In our computational graph Pytorch's framework, such operation should be seen as follows:"
   ]
  },
  {
   "cell_type": "code",
   "execution_count": 152,
   "metadata": {},
   "outputs": [
    {
     "data": {
      "image/png": "[encoded data removed]",
      "text/plain": [
       "<IPython.core.display.Image object>"
      ]
     },
     "execution_count": 152,
     "metadata": {},
     "output_type": "execute_result"
    }
   ],
   "source": [
    "Image(filename=\"assets/images/bprop_ex_compt_graph_1.png\")"
   ]
  },
  {
   "cell_type": "markdown",
   "metadata": {},
   "source": [
    "Here we have a multiplication operation and the attribution of this result in Y variable (an identity). In the background,\n",
    "the result of the first operation is seen as an intermediate variable - here called Z -, and them it's attributed to Y, completing\n",
    "the forward pass stage. Given that, to compute the gradient of Y w.r.t. X it's necessary to operate using the chain rule of calculus,\n",
    "in order to compute the gradient of Y w.r.t the intermediate variable Z."
   ]
  },
  {
   "cell_type": "markdown",
   "metadata": {},
   "source": [
    "---"
   ]
  },
  {
   "cell_type": "markdown",
   "metadata": {},
   "source": [
    "Briefly, the chain rule assures (not restricted to a 2-step computation. In fact, it's valid, in general, for n-steps):"
   ]
  },
  {
   "cell_type": "markdown",
   "metadata": {},
   "source": [
    "\n",
    "\n",
    "$\\dfrac{dy}{dz}*\\dfrac{dz}{dx} = \\dfrac{dy}{dx}$"
   ]
  },
  {
   "cell_type": "markdown",
   "metadata": {},
   "source": [
    "---"
   ]
  },
  {
   "cell_type": "markdown",
   "metadata": {},
   "source": [
    "The complete computation graph with the forward and backward pass is depicted below:"
   ]
  },
  {
   "cell_type": "code",
   "execution_count": 153,
   "metadata": {},
   "outputs": [
    {
     "data": {
      "image/png": "[encoded data removed]",
      "text/plain": [
       "<IPython.core.display.Image object>"
      ]
     },
     "execution_count": 153,
     "metadata": {},
     "output_type": "execute_result"
    }
   ],
   "source": [
    "Image(filename=\"assets/images/bprop_ex_compt_graph_2.png\")"
   ]
  },
  {
   "cell_type": "markdown",
   "metadata": {},
   "source": [
    "The Pytorch implementation of the backpropagation is as simple as follows:"
   ]
  },
  {
   "cell_type": "code",
   "execution_count": 150,
   "metadata": {},
   "outputs": [
    {
     "name": "stdout",
     "output_type": "stream",
     "text": [
      "dy/dx = 5 (as expected!)\n"
     ]
    }
   ],
   "source": [
    "# Instantiate data point\n",
    "x = torch.tensor([4], dtype=torch.float32, requires_grad=True)\n",
    "\n",
    "# Computational graph\n",
    "y = 5*x # dy/dx = 5\n",
    "\n",
    "# Backward pass\n",
    "y.backward()\n",
    "dy = x.grad\n",
    "\n",
    "print(f'dy/dx = {int(dy.item())} (as expected!)')"
   ]
  },
  {
   "cell_type": "markdown",
   "metadata": {},
   "source": [
    "## 1.4: Gradient Descent Algorithm"
   ]
  },
  {
   "cell_type": "markdown",
   "metadata": {},
   "source": [
    "Toward to wrap all of these concepts and enable the algorithm to learn the paremeters' values, the gradient descent algorithm\n",
    "this task*. This algorithm can be divided in four steps:\n",
    "\n",
    "* Forward pass\n",
    "* Loss computation\n",
    "* Backward pass\n",
    "* Update parameters\n",
    "\n",
    "The only which wasn't introduced is the loss computation. In short, since the learning is being supervised, i.e. it's known a priori the correct\n",
    "output's value, one way to compute 'how much' the approximation function being learned is 'wrong' is computing the error between its\n",
    "output and the correct value. Here, the loss function used is the well-known Mean Squared Error (MSE)**. \n",
    "\n",
    "\\* The purpose here isn't to explain all the details of gradient descent algorithm.\n",
    "\n",
    "\\** In the examples below the problem is a regression one."
   ]
  },
  {
   "cell_type": "markdown",
   "metadata": {},
   "source": [
    "---"
   ]
  },
  {
   "cell_type": "markdown",
   "metadata": {},
   "source": [
    "First, let's code it from scratch, using Numpy:"
   ]
  },
  {
   "cell_type": "code",
   "execution_count": 146,
   "metadata": {},
   "outputs": [
    {
     "name": "stdout",
     "output_type": "stream",
     "text": [
      "20th iter. Error (J): 1.785 | Parameter: 4.493\n",
      "40th iter. Error (J): 0.017 | Parameter: 4.951\n",
      "60th iter. Error (J): 0.000 | Parameter: 4.995\n",
      "80th iter. Error (J): 0.000 | Parameter: 5.000\n",
      "100th iter. Error (J): 0.000 | Parameter: 5.000\n"
     ]
    }
   ],
   "source": [
    "# Set data points\n",
    "x = np.array([1, 2, 3, 4, 5], dtype=np.float32)\n",
    "y = np.array([5, 10, 15, 20, 25], dtype=np.float32)\n",
    "\n",
    "# Randomly initialize parameter\n",
    "theta = np.random.randn(1)\n",
    "\n",
    "# Define hyperparameters\n",
    "lr = 0.01\n",
    "num_iters = 100\n",
    "\n",
    "for i in range(1, num_iters+1):\n",
    "    # Forward pass\n",
    "    y_hat = theta*x\n",
    "\n",
    "    # Loss computation\n",
    "    J = np.mean((y_hat - y)**2) / 2\n",
    "\n",
    "    # Backward pass\n",
    "    dJ = np.mean(x*(y_hat - y))\n",
    "\n",
    "    # Update parameter\n",
    "    theta = theta - lr*dJ\n",
    "\n",
    "    # Print loss function\n",
    "    if i % 20 == 0:\n",
    "        print(f\"{i}th iter. Error (J): {J:.3f} | Parameter: {theta[0]:.3f}\")"
   ]
  },
  {
   "cell_type": "markdown",
   "metadata": {},
   "source": [
    "Now with Pytorch's Autograd (untill gradient computation):"
   ]
  },
  {
   "cell_type": "code",
   "execution_count": 145,
   "metadata": {},
   "outputs": [
    {
     "name": "stdout",
     "output_type": "stream",
     "text": [
      "20th iter. Error (J): 1.379 | Parameter: 4.554\n",
      "40th iter. Error (J): 0.013 | Parameter: 4.957\n",
      "60th iter. Error (J): 0.000 | Parameter: 4.996\n",
      "80th iter. Error (J): 0.000 | Parameter: 5.000\n",
      "100th iter. Error (J): 0.000 | Parameter: 5.000\n"
     ]
    }
   ],
   "source": [
    "# Set data points\n",
    "x = torch.tensor([1, 2, 3, 4, 5], dtype=torch.float32)\n",
    "y = torch.tensor([5, 10, 15, 20, 25], dtype=torch.float32)\n",
    "\n",
    "# Randomly initialize parameter\n",
    "theta = torch.rand(1, requires_grad=True)\n",
    "\n",
    "# Define hyperparameters\n",
    "lr = 0.01\n",
    "num_iters = 100\n",
    "\n",
    "for i in range(1, num_iters+1):\n",
    "    # Forward pass\n",
    "    y_hat = theta*x\n",
    "\n",
    "    # Loss computation\n",
    "    J = torch.mean((y_hat - y)**2 / 2)\n",
    "\n",
    "    # Backward pass\n",
    "    J.backward() # dJ/dtheta\n",
    "\n",
    "    # Update parameter\n",
    "    ## Remember that we don't want to track this operation in our computational graph. Given that\n",
    "    ## we should wrap our update operation inside the torch.no_grad(), as explained before.\n",
    "    with torch.no_grad():\n",
    "        theta -= lr*theta.grad\n",
    "\n",
    "    # Zero theta gradients\n",
    "    theta.grad.zero_()\n",
    "\n",
    "    # Print loss function and theta updating\n",
    "    if i % 20 == 0:\n",
    "        print(f\"{i}th iter. Error (J): {J:.3f} | Parameter: {theta.item():.3f}\")"
   ]
  },
  {
   "cell_type": "markdown",
   "metadata": {},
   "source": [
    "---"
   ]
  }
 ],
 "metadata": {
  "kernelspec": {
   "display_name": "Python 3",
   "language": "python",
   "name": "python3"
  },
  "language_info": {
   "codemirror_mode": {
    "name": "ipython",
    "version": 3
   },
   "file_extension": ".py",
   "mimetype": "text/x-python",
   "name": "python",
   "nbconvert_exporter": "python",
   "pygments_lexer": "ipython3",
   "version": "3.7.6"
  }
 },
 "nbformat": 4,
 "nbformat_minor": 4
}
