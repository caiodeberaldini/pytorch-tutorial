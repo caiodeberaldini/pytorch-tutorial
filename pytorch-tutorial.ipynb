{
 "cells": [
  {
   "cell_type": "code",
   "execution_count": 1,
   "metadata": {},
   "outputs": [],
   "source": [
    "import torch\n",
    "import torchvision\n",
    "\n",
    "import numpy as np\n",
    "import pandas as pd\n",
    "import torch.nn as nn\n",
    "import matplotlib.pyplot as plt\n",
    "\n",
    "from sklearn import datasets\n",
    "from utils import displayMathHelper\n",
    "from torch.utils.data import Dataset, DataLoader\n",
    "from IPython.display import Image, display, Math"
   ]
  },
  {
   "cell_type": "markdown",
   "metadata": {},
   "source": [
    "# 1: Basics"
   ]
  },
  {
   "cell_type": "markdown",
   "metadata": {},
   "source": [
    "## 1.1: Tensors"
   ]
  },
  {
   "cell_type": "code",
   "execution_count": 2,
   "metadata": {},
   "outputs": [],
   "source": [
    "# Creating tensors, operating it and particularities\n",
    "\n",
    "## Empty tensor\n",
    "x = torch.empty(1) # 1-D empty tensor\n",
    "x = torch.empty(2, 1) # 2-D empty tensor\n",
    "# x = torch.empty(n-dimensional tensor) # n-D empty tensor\n",
    "\n",
    "## Zeros tensor\n",
    "x = torch.zeros(1) # 1-D zeros tensor\n",
    "\n",
    "## Ones tensor\n",
    "x = torch.ones(1) # 1-D ones tensor\n",
    "\n",
    "## Defining type\n",
    "x = torch.ones(2,2, dtype=torch.float16)\n",
    "# print(x.dtype)\n",
    "\n",
    "## Retrieving tensor size\n",
    "# print(x.size())\n",
    "\n",
    "## Creating tensor \"from scratch\"\n",
    "x = torch.tensor([[2.5, 5], [1.7, 8]])\n",
    "\n",
    "## Operations\n",
    "x = torch.rand(2, 2)\n",
    "y = torch.rand(2, 2)\n",
    "\n",
    "### Arithmetic\n",
    "z = x+y # Element-wise addition\n",
    "z = torch.add(x,y) # Same result\n",
    "y.add_(x) # Inplace element-wise addition; functions if \"_\" before its name make inplace ops\n",
    "\n",
    "z = x-y # Element-wise subtraction\n",
    "z = torch.sub(x, y) # Analogous as above\n",
    "y.sub_(x) # Analogous as above\n",
    "\n",
    "z = x*y # Element-wise multiplication\n",
    "z = torch.mul(x, y) # Analogous as above\n",
    "y.mul_(x) # Analogous as above\n",
    "\n",
    "z = x / y # Element-wise division\n",
    "z = torch.div(x, y) # Analogous as above\n",
    "y.div_(x) # Analogous as above\n",
    "\n",
    "### Slicing\n",
    "z = x[:, 1]\n",
    "z = x[1, 1]\n",
    "\n",
    "### Reshaping\n",
    "z = x.view(4)\n",
    "z = x.view(-1, 2)\n",
    "\n",
    "### Casting to numpy arrays\n",
    "z = x.numpy()\n",
    "\n",
    "### Casting from numpy arrays to pytorch tensors\n",
    "z = np.array([[1, 3.4], [5, 8.9]])\n",
    "w = torch.from_numpy(z)\n",
    "\n",
    "### Working on GPU\n",
    "# if torch.cuda_is_available():\n",
    "#     gpu = torch.device(\"cuda\")\n",
    "#     x = torch.ones(1, 2, device=gpu) # Tensor allocated on GPU\n",
    "#     y = torch.ones(5) # Tensor allocated on CPU\n",
    "#     y = y.to(gpu) # Sending tensor instantiated on CPU to GPU\n",
    "\n",
    "### Observation\n",
    "#################################################################################\n",
    "#    When dealing with tensors which you need to compute their gradients        #\n",
    "#    (e.g in optimization), Pytorch requires defining it explicitly.            #\n",
    "#################################################################################\n",
    "# x = torch.ones(4, requires_grad=True) # requires_grad argument is False by default"
   ]
  },
  {
   "cell_type": "markdown",
   "metadata": {},
   "source": [
    "---"
   ]
  },
  {
   "cell_type": "markdown",
   "metadata": {},
   "source": [
    "## 1.2: Autograd"
   ]
  },
  {
   "cell_type": "markdown",
   "metadata": {},
   "source": [
    "Autograd's package: used to ease the calculation of gradients. Its principle is based on Automatic Differentiation (autodiff)\n",
    "which is a general method for automatically computing the derivative of a value. For more details, I highly recommend checking out\n",
    "Prof. Roger Grosse lecture's slides¹ about the technique and the following medium post² about Pytorch's implementation of it.\n",
    "\n",
    "1: https://www.cs.toronto.edu/~rgrosse/courses/csc321_2018/slides/lec10.pdf <br>\n",
    "2: https://mustafaghali11.medium.com/how-pytorch-backward-function-works-55669b3b7c62"
   ]
  },
  {
   "cell_type": "code",
   "execution_count": 3,
   "metadata": {},
   "outputs": [],
   "source": [
    "# First, let's create an input tensor\n",
    "x = torch.rand(3, requires_grad=True) # Remember that it's necessary to enable requires_grad property\n",
    "\n",
    "# After creating the input tensor, let's define\n",
    "# an operation over this tensor.\n",
    "y = 3*x+2 # Creates the computational graph"
   ]
  },
  {
   "cell_type": "markdown",
   "metadata": {},
   "source": [
    "**Computational graph created after operating over the tensor:**"
   ]
  },
  {
   "cell_type": "code",
   "execution_count": 4,
   "metadata": {},
   "outputs": [
    {
     "data": {
      "image/png": "[encoded data removed]",
      "text/plain": [
       "<IPython.core.display.Image object>"
      ]
     },
     "execution_count": 4,
     "metadata": {},
     "output_type": "execute_result"
    }
   ],
   "source": [
    "Image(filename=\"assets/images/compt_graph.png\")"
   ]
  },
  {
   "cell_type": "code",
   "execution_count": 5,
   "metadata": {},
   "outputs": [
    {
     "name": "stdout",
     "output_type": "stream",
     "text": [
      "X: tensor([0.7336, 0.5896, 0.7797], requires_grad=True)\n",
      "Y: tensor([4.2008, 3.7687, 4.3390], grad_fn=<AddBackward0>)\n"
     ]
    }
   ],
   "source": [
    "print(\"X:\", x)\n",
    "print(\"Y:\", y)"
   ]
  },
  {
   "cell_type": "markdown",
   "metadata": {},
   "source": [
    "As seen, tensor X has requires_grad property set as **True** and tensor Y has the last operation over X (addition) as its gradient function. \n",
    "In the next example, Z is a tensor computed multiplying Y by itself and your grad. function is the multiplication op."
   ]
  },
  {
   "cell_type": "code",
   "execution_count": 6,
   "metadata": {},
   "outputs": [
    {
     "name": "stdout",
     "output_type": "stream",
     "text": [
      "tensor([17.6465, 14.2027, 18.8272], grad_fn=<MulBackward0>)\n"
     ]
    }
   ],
   "source": [
    "z = y*y\n",
    "print(z)"
   ]
  },
  {
   "cell_type": "markdown",
   "metadata": {},
   "source": [
    "For the sake of understanding, let's simplify assuming that our output tensor is 1-dimensional."
   ]
  },
  {
   "cell_type": "code",
   "execution_count": 7,
   "metadata": {},
   "outputs": [
    {
     "name": "stdout",
     "output_type": "stream",
     "text": [
      "tensor(16.8921, grad_fn=<MeanBackward0>)\n"
     ]
    }
   ],
   "source": [
    "z = z.mean()\n",
    "print(z)"
   ]
  },
  {
   "cell_type": "markdown",
   "metadata": {},
   "source": [
    "So, in order to compute Z gradient w.r.t. X, we call the Z backward() function and X grad property."
   ]
  },
  {
   "cell_type": "code",
   "execution_count": 8,
   "metadata": {},
   "outputs": [
    {
     "name": "stdout",
     "output_type": "stream",
     "text": [
      "tensor([8.4015, 7.5373, 8.6781]) \n",
      "Three gradients of Z w.r.t. X, because X is a 3-D tensor\n"
     ]
    }
   ],
   "source": [
    "z.backward()\n",
    "print(x.grad, '\\nThree gradients of Z w.r.t. X, because X is a 3-D tensor')"
   ]
  },
  {
   "cell_type": "markdown",
   "metadata": {},
   "source": [
    "On the other hand, if we have a multi-dimensional output tensor, we need to specify a gradient vector as an argument of backward() function\n",
    "towards the correct execution. In this sense, it's used a 'ones' tensor as the gradient vector in the Jacobian-vector Product - which is\n",
    "a way for computing partial derivatives, used inside autograd. For more details, please check the references in the head of this section."
   ]
  },
  {
   "cell_type": "code",
   "execution_count": 9,
   "metadata": {},
   "outputs": [
    {
     "name": "stdout",
     "output_type": "stream",
     "text": [
      "tensor([33.6062, 30.1492, 34.7122])\n"
     ]
    }
   ],
   "source": [
    "y = 3*x+2\n",
    "z = y*y\n",
    "size = list(z.size())\n",
    "init_grad_vec = torch.ones(size)\n",
    "\n",
    "z.backward(init_grad_vec)\n",
    "print(x.grad)"
   ]
  },
  {
   "cell_type": "markdown",
   "metadata": {},
   "source": [
    "Though Pytorch allocate every gradient of a specific variable, sometimes it's essential to reset our gradients."
   ]
  },
  {
   "cell_type": "code",
   "execution_count": 10,
   "metadata": {},
   "outputs": [
    {
     "name": "stdout",
     "output_type": "stream",
     "text": [
      "Step 1 gradient vector: tensor([58.8108, 52.7611, 60.7464])\n",
      "Step 2 gradient vector: tensor([84.0154, 75.3731, 86.7805])\n",
      "Step 3 gradient vector: tensor([109.2201,  97.9850, 112.8147])\n"
     ]
    }
   ],
   "source": [
    "for i in range(3):\n",
    "    y = 3*x + 2\n",
    "    z = y*y\n",
    "\n",
    "    z.backward(init_grad_vec)\n",
    "    print(\"Step {} gradient vector: {}\".format(i+1, x.grad))\n",
    "\n",
    "_ = x.grad.zero_()"
   ]
  },
  {
   "cell_type": "code",
   "execution_count": 11,
   "metadata": {},
   "outputs": [
    {
     "name": "stdout",
     "output_type": "stream",
     "text": [
      "Step 1 gradient vector: tensor([25.2046, 22.6119, 26.0342])\n",
      "Step 2 gradient vector: tensor([25.2046, 22.6119, 26.0342])\n",
      "Step 3 gradient vector: tensor([25.2046, 22.6119, 26.0342])\n"
     ]
    }
   ],
   "source": [
    "for i in range(3):\n",
    "    y = 3*x + 2\n",
    "    z = y*y\n",
    "\n",
    "    z.backward(init_grad_vec)\n",
    "    print(\"Step {} gradient vector: {}\".format(i+1, x.grad))\n",
    "    \n",
    "    _ = x.grad.zero_()"
   ]
  },
  {
   "cell_type": "markdown",
   "metadata": {},
   "source": [
    "Sometimes during training we might want to stop tracking variables from the gradient perspective. There are three ways to do so.\n",
    "(As seen below, none of tensors have the property requires_grad in it)"
   ]
  },
  {
   "cell_type": "code",
   "execution_count": 12,
   "metadata": {},
   "outputs": [],
   "source": [
    "# First way\n",
    "x.requires_grad_(False)\n",
    "# print(x)\n",
    "\n",
    "# Second way\n",
    "x.detach()\n",
    "# print(x)\n",
    "\n",
    "# Third way\n",
    "with torch.no_grad():\n",
    "    y = x + 2\n",
    "#     print(y)"
   ]
  },
  {
   "cell_type": "markdown",
   "metadata": {},
   "source": [
    "---"
   ]
  },
  {
   "cell_type": "markdown",
   "metadata": {},
   "source": [
    "## 1.3: Backpropagation"
   ]
  },
  {
   "cell_type": "markdown",
   "metadata": {},
   "source": [
    "Backpropagation is an algorithm used to compute gradients of functions w.r.t. parameters that appears previously \n",
    "to the function computation, and them is backpropagated to which one of them."
   ]
  },
  {
   "cell_type": "markdown",
   "metadata": {},
   "source": [
    "Let's suppose we have a first degree function (w/o linear coefficient, i.e. $y = f(x) = {\\theta}x$). Suppose our parameter $\\theta = 5$.\n",
    "In our computational graph Pytorch's framework, such operation should be seen as follows:"
   ]
  },
  {
   "cell_type": "code",
   "execution_count": 13,
   "metadata": {},
   "outputs": [
    {
     "data": {
      "image/png": "[encoded data removed]",
      "text/plain": [
       "<IPython.core.display.Image object>"
      ]
     },
     "execution_count": 13,
     "metadata": {},
     "output_type": "execute_result"
    }
   ],
   "source": [
    "Image(filename=\"assets/images/bprop_ex_compt_graph_1.png\")"
   ]
  },
  {
   "cell_type": "markdown",
   "metadata": {},
   "source": [
    "Here we have a multiplication operation and the attribution of this result in Y variable (an identity). In the background,\n",
    "the result of the first operation is seen as an intermediate variable - here called Z -, and them it's attributed to Y, completing\n",
    "the forward pass stage. Given that, to compute the gradient of Y w.r.t. X it's necessary to operate using the chain rule of calculus,\n",
    "in order to compute the gradient of Y w.r.t the intermediate variable Z."
   ]
  },
  {
   "cell_type": "markdown",
   "metadata": {},
   "source": [
    "---"
   ]
  },
  {
   "cell_type": "markdown",
   "metadata": {},
   "source": [
    "Briefly, the chain rule assures (not restricted to a 2-step computation. In fact, it's valid, in general, for n-steps):"
   ]
  },
  {
   "cell_type": "markdown",
   "metadata": {},
   "source": [
    "\n",
    "\n",
    "$\\dfrac{dy}{dz}*\\dfrac{dz}{dx} = \\dfrac{dy}{dx}$"
   ]
  },
  {
   "cell_type": "markdown",
   "metadata": {},
   "source": [
    "---"
   ]
  },
  {
   "cell_type": "markdown",
   "metadata": {},
   "source": [
    "The complete computation graph with the forward and backward pass is depicted below:"
   ]
  },
  {
   "cell_type": "code",
   "execution_count": 14,
   "metadata": {},
   "outputs": [
    {
     "data": {
      "image/png": "[encoded data removed]",
      "text/plain": [
       "<IPython.core.display.Image object>"
      ]
     },
     "execution_count": 14,
     "metadata": {},
     "output_type": "execute_result"
    }
   ],
   "source": [
    "Image(filename=\"assets/images/bprop_ex_compt_graph_2.png\")"
   ]
  },
  {
   "cell_type": "markdown",
   "metadata": {},
   "source": [
    "The Pytorch implementation of the backpropagation is as simple as follows:"
   ]
  },
  {
   "cell_type": "code",
   "execution_count": 15,
   "metadata": {},
   "outputs": [
    {
     "name": "stdout",
     "output_type": "stream",
     "text": [
      "dy/dx = 5 (as expected!)\n"
     ]
    }
   ],
   "source": [
    "# Instantiate data point\n",
    "x = torch.tensor([4], dtype=torch.float32, requires_grad=True)\n",
    "\n",
    "# Computational graph\n",
    "y = 5*x # dy/dx = 5\n",
    "\n",
    "# Backward pass\n",
    "y.backward()\n",
    "dy = x.grad\n",
    "\n",
    "print(f'dy/dx = {int(dy.item())} (as expected!)')"
   ]
  },
  {
   "cell_type": "markdown",
   "metadata": {},
   "source": [
    "---"
   ]
  },
  {
   "cell_type": "markdown",
   "metadata": {},
   "source": [
    "## 1.4: Gradient Descent Algorithm"
   ]
  },
  {
   "cell_type": "markdown",
   "metadata": {},
   "source": [
    "Toward to wrap all of these concepts and enable the algorithm to learn the paremeters' values, the gradient descent algorithm\n",
    "this task*. This algorithm can be divided in four steps:\n",
    "\n",
    "* Forward pass\n",
    "* Loss computation\n",
    "* Backward pass\n",
    "* Update parameters\n",
    "\n",
    "The only which wasn't introduced is the loss computation. In short, since the learning is being supervised, i.e. it's known a priori the correct\n",
    "output's value, one way to compute 'how much' the approximation function being learned is 'wrong' is computing the error between its\n",
    "output and the correct value. Here, the loss function used is the well-known Mean Squared Error (MSE)**. \n",
    "\n",
    "\\* The purpose here isn't to explain all the details of gradient descent algorithm.\n",
    "\n",
    "\\** In the examples below the problem is a regression one."
   ]
  },
  {
   "cell_type": "markdown",
   "metadata": {},
   "source": [
    "First, let's code it from scratch, using Numpy:"
   ]
  },
  {
   "cell_type": "code",
   "execution_count": 16,
   "metadata": {},
   "outputs": [
    {
     "data": {
      "text/latex": [
       "$\\displaystyle \\ \\ 20th \\ iter. \\ Error (J): 0.752 \\ | \\ Parameter \\ (\\theta): 4.671$"
      ],
      "text/plain": [
       "<IPython.core.display.Math object>"
      ]
     },
     "metadata": {},
     "output_type": "display_data"
    },
    {
     "data": {
      "text/latex": [
       "$\\displaystyle \\ \\ 40th \\ iter. \\ Error (J): 0.007 \\ | \\ Parameter \\ (\\theta): 4.968$"
      ],
      "text/plain": [
       "<IPython.core.display.Math object>"
      ]
     },
     "metadata": {},
     "output_type": "display_data"
    },
    {
     "data": {
      "text/latex": [
       "$\\displaystyle \\ \\ 60th \\ iter. \\ Error (J): 0.000 \\ | \\ Parameter \\ (\\theta): 4.997$"
      ],
      "text/plain": [
       "<IPython.core.display.Math object>"
      ]
     },
     "metadata": {},
     "output_type": "display_data"
    },
    {
     "data": {
      "text/latex": [
       "$\\displaystyle \\ \\ 80th \\ iter. \\ Error (J): 0.000 \\ | \\ Parameter \\ (\\theta): 5.000$"
      ],
      "text/plain": [
       "<IPython.core.display.Math object>"
      ]
     },
     "metadata": {},
     "output_type": "display_data"
    },
    {
     "data": {
      "text/latex": [
       "$\\displaystyle 100th \\ iter. \\ Error (J): 0.000 \\ | \\ Parameter \\ (\\theta): 5.000$"
      ],
      "text/plain": [
       "<IPython.core.display.Math object>"
      ]
     },
     "metadata": {},
     "output_type": "display_data"
    }
   ],
   "source": [
    "# Set data points\n",
    "X = np.array([1, 2, 3, 4, 5], dtype=np.float32)\n",
    "y = np.array([5, 10, 15, 20, 25], dtype=np.float32)\n",
    "\n",
    "# Randomly initialize parameter\n",
    "theta = np.random.randn(1)\n",
    "\n",
    "# Define hyperparameters\n",
    "lr = 0.01\n",
    "num_iters = 100\n",
    "\n",
    "for i in range(1, num_iters+1):\n",
    "    # Forward pass\n",
    "    y_hat = theta*X\n",
    "\n",
    "    # Loss computation\n",
    "    J = np.mean((y_hat - y)**2) / 2\n",
    "\n",
    "    # Backward pass\n",
    "    dJ = np.mean(X*(y_hat - y)) # This is the derivative of the loss function w.r.t. the parameter theta\n",
    "\n",
    "    # Update parameter\n",
    "    theta = theta - lr*dJ\n",
    "\n",
    "    # Print loss function\n",
    "    if i % 20 == 0:\n",
    "        space_str = displayMathHelper(num_iters, i)\n",
    "        display(Math(r'{space}{i}th \\ iter. \\ Error (J): {J:.3f} \\ | \\ Parameter \\ (\\theta): {theta:.3f}'.format(space=space_str, i=i, J=J, theta=theta[0])))"
   ]
  },
  {
   "cell_type": "markdown",
   "metadata": {},
   "source": [
    "Now with Pytorch's Autograd (untill gradient computation):"
   ]
  },
  {
   "cell_type": "code",
   "execution_count": 17,
   "metadata": {},
   "outputs": [
    {
     "data": {
      "text/latex": [
       "$\\displaystyle \\ \\ 20th \\ iter. \\ Error (J): 1.293 \\ | \\ Parameter \\ (\\theta): 4.568$"
      ],
      "text/plain": [
       "<IPython.core.display.Math object>"
      ]
     },
     "metadata": {},
     "output_type": "display_data"
    },
    {
     "data": {
      "text/latex": [
       "$\\displaystyle \\ \\ 40th \\ iter. \\ Error (J): 0.012 \\ | \\ Parameter \\ (\\theta): 4.958$"
      ],
      "text/plain": [
       "<IPython.core.display.Math object>"
      ]
     },
     "metadata": {},
     "output_type": "display_data"
    },
    {
     "data": {
      "text/latex": [
       "$\\displaystyle \\ \\ 60th \\ iter. \\ Error (J): 0.000 \\ | \\ Parameter \\ (\\theta): 4.996$"
      ],
      "text/plain": [
       "<IPython.core.display.Math object>"
      ]
     },
     "metadata": {},
     "output_type": "display_data"
    },
    {
     "data": {
      "text/latex": [
       "$\\displaystyle \\ \\ 80th \\ iter. \\ Error (J): 0.000 \\ | \\ Parameter \\ (\\theta): 5.000$"
      ],
      "text/plain": [
       "<IPython.core.display.Math object>"
      ]
     },
     "metadata": {},
     "output_type": "display_data"
    },
    {
     "data": {
      "text/latex": [
       "$\\displaystyle 100th \\ iter. \\ Error (J): 0.000 \\ | \\ Parameter \\ (\\theta): 5.000$"
      ],
      "text/plain": [
       "<IPython.core.display.Math object>"
      ]
     },
     "metadata": {},
     "output_type": "display_data"
    }
   ],
   "source": [
    "# Set data points\n",
    "x = torch.tensor([1, 2, 3, 4, 5], dtype=torch.float32)\n",
    "y = torch.tensor([5, 10, 15, 20, 25], dtype=torch.float32)\n",
    "\n",
    "# Randomly initialize parameter\n",
    "theta = torch.rand(1, requires_grad=True)\n",
    "\n",
    "# Define hyperparameters\n",
    "lr = 0.01\n",
    "num_iters = 100\n",
    "\n",
    "for i in range(1, num_iters+1):\n",
    "    # Forward pass\n",
    "    y_hat = theta*x\n",
    "\n",
    "    # Loss computation\n",
    "    J = torch.mean((y_hat - y)**2 / 2)\n",
    "\n",
    "    # Backward pass\n",
    "    J.backward() # dJ/dtheta\n",
    "\n",
    "    # Update parameter\n",
    "    ## Remember that we don't want to track this operation in our computational graph. Given that\n",
    "    ## we should wrap our update operation inside the torch.no_grad(), as explained before.\n",
    "    with torch.no_grad():\n",
    "        theta -= lr*theta.grad\n",
    "\n",
    "    # Zero theta gradients\n",
    "    theta.grad.zero_()\n",
    "\n",
    "    # Print loss function and theta updating\n",
    "    if i % 20 == 0:\n",
    "        space_str = displayMathHelper(num_iters, i)\n",
    "        display(Math(r'{space}{i}th \\ iter. \\ Error (J): {J:.3f} \\ | \\ Parameter \\ (\\theta): {theta:.3f}'.format(space=space_str, i=i, J=J, theta=theta[0])))"
   ]
  },
  {
   "cell_type": "markdown",
   "metadata": {},
   "source": [
    "---"
   ]
  },
  {
   "cell_type": "markdown",
   "metadata": {},
   "source": [
    "## 1.5: Training Pipeline"
   ]
  },
  {
   "cell_type": "markdown",
   "metadata": {},
   "source": [
    "Previously, we implemented our training in two ways: (i) all from scratch; (ii) from scratch mixed with Pytorch's autograd package. \n",
    "Now we'll write all the training pipeline with Pytorch. First, let's recap how we trained our linear regression model mixing\n",
    "from scratch with autograd:"
   ]
  },
  {
   "cell_type": "code",
   "execution_count": 18,
   "metadata": {},
   "outputs": [
    {
     "data": {
      "text/latex": [
       "$\\displaystyle \\ \\ 20th \\ iter. \\ Error \\ (J): 1.349 \\ | \\ Parameter \\ (\\theta): 4.559$"
      ],
      "text/plain": [
       "<IPython.core.display.Math object>"
      ]
     },
     "metadata": {},
     "output_type": "display_data"
    },
    {
     "data": {
      "text/latex": [
       "$\\displaystyle \\ \\ 40th \\ iter. \\ Error \\ (J): 0.013 \\ | \\ Parameter \\ (\\theta): 4.957$"
      ],
      "text/plain": [
       "<IPython.core.display.Math object>"
      ]
     },
     "metadata": {},
     "output_type": "display_data"
    },
    {
     "data": {
      "text/latex": [
       "$\\displaystyle \\ \\ 60th \\ iter. \\ Error \\ (J): 0.000 \\ | \\ Parameter \\ (\\theta): 4.996$"
      ],
      "text/plain": [
       "<IPython.core.display.Math object>"
      ]
     },
     "metadata": {},
     "output_type": "display_data"
    },
    {
     "data": {
      "text/latex": [
       "$\\displaystyle \\ \\ 80th \\ iter. \\ Error \\ (J): 0.000 \\ | \\ Parameter \\ (\\theta): 5.000$"
      ],
      "text/plain": [
       "<IPython.core.display.Math object>"
      ]
     },
     "metadata": {},
     "output_type": "display_data"
    },
    {
     "data": {
      "text/latex": [
       "$\\displaystyle 100th \\ iter. \\ Error \\ (J): 0.000 \\ | \\ Parameter \\ (\\theta): 5.000$"
      ],
      "text/plain": [
       "<IPython.core.display.Math object>"
      ]
     },
     "metadata": {},
     "output_type": "display_data"
    }
   ],
   "source": [
    "# Set data points\n",
    "x = torch.tensor([1, 2, 3, 4, 5], dtype=torch.float32)\n",
    "y = torch.tensor([5, 10, 15, 20, 25], dtype=torch.float32)\n",
    "\n",
    "# Randomly initialize parameter\n",
    "theta = torch.rand(1, requires_grad=True)\n",
    "\n",
    "# Define hyperparameters\n",
    "lr = 0.01\n",
    "num_iters = 100\n",
    "\n",
    "for i in range(1, num_iters+1):\n",
    "    # Forward pass\n",
    "    y_hat = theta*x\n",
    "\n",
    "    # Loss computation\n",
    "    J = torch.mean((y_hat - y)**2 / 2)\n",
    "\n",
    "    # Backward pass\n",
    "    J.backward() # dJ/dtheta\n",
    "\n",
    "    # Update parameter\n",
    "    ## Remember that we don't want to track this operation in our computational graph. Given that\n",
    "    ## we should wrap our update operation inside the torch.no_grad(), as explained before.\n",
    "    with torch.no_grad():\n",
    "        theta -= lr*theta.grad\n",
    "\n",
    "    # Zero theta gradients\n",
    "    theta.grad.zero_()\n",
    "\n",
    "    # Print loss function and theta updating\n",
    "    if i % 20 == 0:\n",
    "        space_str = displayMathHelper(num_iters, i)\n",
    "        display(Math(r'{space}{i}th \\ iter. \\ Error \\ (J): {J:.3f} \\ | \\ Parameter \\ (\\theta): {theta:.3f}'.format(space=space_str, i=i, J=J, theta=theta[0])))"
   ]
  },
  {
   "cell_type": "markdown",
   "metadata": {},
   "source": [
    "As stated above, now we'll implement a linear regression in a fully-Pytorch version. For that, we need to add some steps:\n",
    "\n",
    "1. The model needs to be fed with a matrix whose lines are related to examples and columns to features. In our 1-D example, we need to reshape our covariates and target variables to be a column vector.\n",
    "2. The instance of the model object (in our case, a linear one).\n",
    "3. In order to compute loss and gradients, we need to specify which loss object we want (for a linear regression, good old MSE) and which optimizer. For that example, we use stochastic gradient descent optimizer.\n",
    "\n",
    "Implementation is as follows:"
   ]
  },
  {
   "cell_type": "code",
   "execution_count": 19,
   "metadata": {},
   "outputs": [
    {
     "data": {
      "text/latex": [
       "$\\displaystyle \\ \\ 400th \\ iter. \\ Error (J): 0.015 \\ | \\ Parameter \\ (\\theta): 4.921$"
      ],
      "text/plain": [
       "<IPython.core.display.Math object>"
      ]
     },
     "metadata": {},
     "output_type": "display_data"
    },
    {
     "data": {
      "text/latex": [
       "$\\displaystyle \\ \\ 800th \\ iter. \\ Error (J): 0.001 \\ | \\ Parameter \\ (\\theta): 4.980$"
      ],
      "text/plain": [
       "<IPython.core.display.Math object>"
      ]
     },
     "metadata": {},
     "output_type": "display_data"
    },
    {
     "data": {
      "text/latex": [
       "$\\displaystyle 1200th \\ iter. \\ Error (J): 0.000 \\ | \\ Parameter \\ (\\theta): 4.995$"
      ],
      "text/plain": [
       "<IPython.core.display.Math object>"
      ]
     },
     "metadata": {},
     "output_type": "display_data"
    },
    {
     "data": {
      "text/latex": [
       "$\\displaystyle 1600th \\ iter. \\ Error (J): 0.000 \\ | \\ Parameter \\ (\\theta): 4.999$"
      ],
      "text/plain": [
       "<IPython.core.display.Math object>"
      ]
     },
     "metadata": {},
     "output_type": "display_data"
    },
    {
     "data": {
      "text/latex": [
       "$\\displaystyle 2000th \\ iter. \\ Error (J): 0.000 \\ | \\ Parameter \\ (\\theta): 5.000$"
      ],
      "text/plain": [
       "<IPython.core.display.Math object>"
      ]
     },
     "metadata": {},
     "output_type": "display_data"
    }
   ],
   "source": [
    "# Set data points\n",
    "X = torch.tensor([1, 2, 3, 4, 5], dtype=torch.float32)\n",
    "y = torch.tensor([5, 10, 15, 20, 25], dtype=torch.float32)\n",
    "\n",
    "## Reshaping as column vectors\n",
    "X = X.view(X.shape[0], 1)\n",
    "y = y.view(y.shape[0], 1)\n",
    "\n",
    "# Design model\n",
    "n_samples, n_features = X.shape\n",
    "model = nn.Linear(in_features=n_features, out_features=n_features)\n",
    "\n",
    "# Define hyperparameters\n",
    "lr = 0.01\n",
    "num_iters = 2000\n",
    "\n",
    "# Construct Loss and Optimizer\n",
    "loss = nn.MSELoss()\n",
    "optimizer = torch.optim.SGD(model.parameters(), lr=lr) # Obs.: model.parameters() is a generator object of torch.nn.parameter which has requires_grad set True\n",
    "\n",
    "final_iter_magnitude = np.floor(np.log10(num_iters)).astype(np.int32)\n",
    "for i in range(1, num_iters+1):\n",
    "    # Forward pass\n",
    "    y_hat = model(X)\n",
    "\n",
    "    # Loss computation\n",
    "    J = loss(y_hat, y)\n",
    "\n",
    "    # Backward pass\n",
    "    J.backward() # dJ/dtheta\n",
    "\n",
    "    # Update parameter\n",
    "    optimizer.step()\n",
    "\n",
    "    # Zero theta gradients\n",
    "    optimizer.zero_grad()\n",
    "\n",
    "    # Print loss function and theta updating\n",
    "    if i % 400 == 0:\n",
    "        theta, b = model.parameters()\n",
    "\n",
    "        space_str = displayMathHelper(num_iters, i)\n",
    "        display(Math(r'{space}{i}th \\ iter. \\ Error (J): {J:.3f} \\ | \\ Parameter \\ (\\theta): {theta:.3f}'.format(space=space_str, i=i, J=J, theta=theta.item())))"
   ]
  },
  {
   "cell_type": "markdown",
   "metadata": {},
   "source": [
    "---"
   ]
  },
  {
   "cell_type": "markdown",
   "metadata": {},
   "source": [
    "## 1.6: Linear Regression"
   ]
  },
  {
   "cell_type": "markdown",
   "metadata": {},
   "source": [
    "In this section we'll use the acquired knowledge about how to implement a linear regression fully with Pytorch to a toy dataset. Let's load the dataset:"
   ]
  },
  {
   "cell_type": "code",
   "execution_count": 20,
   "metadata": {},
   "outputs": [],
   "source": [
    "# Loading data\n",
    "X_numpy, y_numpy = datasets.make_regression(n_samples=100, n_features=1,\n",
    "                                            noise=15, random_state=1)\n",
    "\n",
    "## Transform Numpy vectors to Pytorch tensors\n",
    "X = torch.from_numpy(X_numpy.astype(np.float32))\n",
    "y = torch.from_numpy(y_numpy.astype(np.float32))\n",
    "\n",
    "## Reshaping as column vectors\n",
    "X = X.view(X.shape[0], 1)\n",
    "y = y.view(y.shape[0], 1)"
   ]
  },
  {
   "cell_type": "markdown",
   "metadata": {},
   "source": [
    "Then, we follow the steps followed before:\n",
    "\n",
    "* Design model (a linear one for that problem)\n",
    "* Construct loss function and optimizer\n",
    "* Forward pass\n",
    "* Backward pass\n",
    "* Update parameters\n",
    "\n",
    "In order to visualize results, it is plotted data points scatter with the line learned."
   ]
  },
  {
   "cell_type": "code",
   "execution_count": 21,
   "metadata": {},
   "outputs": [
    {
     "data": {
      "text/latex": [
       "$\\displaystyle \\ \\ 200th \\ iter. \\ Error (J): 196.890 \\ | \\ Parameter \\ (\\theta): 78.572$"
      ],
      "text/plain": [
       "<IPython.core.display.Math object>"
      ]
     },
     "metadata": {},
     "output_type": "display_data"
    },
    {
     "data": {
      "text/latex": [
       "$\\displaystyle \\ \\ 400th \\ iter. \\ Error (J): 187.089 \\ | \\ Parameter \\ (\\theta): 81.889$"
      ],
      "text/plain": [
       "<IPython.core.display.Math object>"
      ]
     },
     "metadata": {},
     "output_type": "display_data"
    },
    {
     "data": {
      "text/latex": [
       "$\\displaystyle \\ \\ 600th \\ iter. \\ Error (J): 187.069 \\ | \\ Parameter \\ (\\theta): 82.034$"
      ],
      "text/plain": [
       "<IPython.core.display.Math object>"
      ]
     },
     "metadata": {},
     "output_type": "display_data"
    },
    {
     "data": {
      "text/latex": [
       "$\\displaystyle \\ \\ 800th \\ iter. \\ Error (J): 187.069 \\ | \\ Parameter \\ (\\theta): 82.041$"
      ],
      "text/plain": [
       "<IPython.core.display.Math object>"
      ]
     },
     "metadata": {},
     "output_type": "display_data"
    },
    {
     "data": {
      "text/latex": [
       "$\\displaystyle 1000th \\ iter. \\ Error (J): 187.069 \\ | \\ Parameter \\ (\\theta): 82.041$"
      ],
      "text/plain": [
       "<IPython.core.display.Math object>"
      ]
     },
     "metadata": {},
     "output_type": "display_data"
    }
   ],
   "source": [
    "# Design model\n",
    "n_samples, n_features = X.shape\n",
    "model = nn.Linear(in_features=n_features, out_features=n_features)\n",
    "\n",
    "# Define hyperparameters\n",
    "lr = 0.01\n",
    "num_iters = 1000\n",
    "\n",
    "# Construct Loss and Optimizer\n",
    "loss = nn.MSELoss()\n",
    "optimizer = torch.optim.SGD(model.parameters(), lr=lr)\n",
    "\n",
    "for i in range(1, num_iters+1):\n",
    "    # Forward pass\n",
    "    y_hat = model(X)\n",
    "\n",
    "    # Loss computation\n",
    "    J = loss(y_hat, y)\n",
    "\n",
    "    # Backward pass\n",
    "    J.backward() # dJ/dtheta\n",
    "\n",
    "    # Update parameter\n",
    "    optimizer.step()\n",
    "\n",
    "    # Zero theta gradients\n",
    "    optimizer.zero_grad()\n",
    "\n",
    "    # Print loss function and theta updating\n",
    "    if i % 200 == 0:\n",
    "        theta, b = model.parameters()\n",
    "\n",
    "        space_str = displayMathHelper(num_iters, i)\n",
    "        display(Math(r'{space}{i}th \\ iter. \\ Error (J): {J:.3f} \\ | \\ Parameter \\ (\\theta): {theta:.3f}'.format(space=space_str, i=i, J=J, theta=theta.item())))"
   ]
  },
  {
   "cell_type": "code",
   "execution_count": 22,
   "metadata": {},
   "outputs": [
    {
     "data": {
      "image/png": "[encoded data removed]",
      "text/plain": [
       "<Figure size 576x576 with 1 Axes>"
      ]
     },
     "metadata": {
      "needs_background": "light"
     },
     "output_type": "display_data"
    }
   ],
   "source": [
    "predicted = model(X).detach().numpy() # We don't want that op. on computational graph.\n",
    "\n",
    "fig, axs = plt.subplots(1, 1, figsize=(8,8))\n",
    "axs.plot(X_numpy, y_numpy, 'ro', label=\"Original Data\")\n",
    "axs.plot(X_numpy, predicted, 'b', label=\"Line Learned\")\n",
    "axs.legend(loc=\"upper left\")\n",
    "plt.show()"
   ]
  },
  {
   "cell_type": "markdown",
   "metadata": {},
   "source": [
    "---"
   ]
  },
  {
   "cell_type": "markdown",
   "metadata": {},
   "source": [
    "## 1.7: Logistic Regression"
   ]
  },
  {
   "cell_type": "markdown",
   "metadata": {},
   "source": [
    "Previously, we learned how to implement a linear model in the context of a linear regression problem fully with Pytorch. In this section we'll learn to implement the Logistic Regression classification algorithm.\n",
    "\n",
    "First of all, there isn't an implemented interface on Pytorch as in the case of our linear model. Given that, we'll need to build our own Logistic Regression class. In summary, Logistic Regression is a model used in classification tasks that has two-steps:\n",
    "\n",
    "* First, it's applied a linear transformation of the same kind it's done in linear regression (z = A*x + b).\n",
    "* Second, a non-linear limited function is applied in order to constraint the output value. In our model, we'll use the logistic function (also known as sigmoid function).\n",
    "\n",
    "With this in mind, let's create our Logistic Regression class:"
   ]
  },
  {
   "cell_type": "code",
   "execution_count": 23,
   "metadata": {},
   "outputs": [],
   "source": [
    "class LogRegression(nn.Module): # Inherit torch.nn.Module. This enable us to access methods, attributes and other classes that inherit this parent class.\n",
    "\n",
    "    def __init__(self, n_features, n_classes):\n",
    "        super().__init__()\n",
    "        self.Linear = nn.Linear(in_features=n_features, out_features=n_classes)\n",
    "\n",
    "    def forward(self, x):\n",
    "        predicted = torch.sigmoid(self.Linear(x))\n",
    "        return predicted"
   ]
  },
  {
   "cell_type": "markdown",
   "metadata": {},
   "source": [
    "After constructing the class, let's generate and load our toy dataset:"
   ]
  },
  {
   "cell_type": "code",
   "execution_count": 24,
   "metadata": {},
   "outputs": [],
   "source": [
    "# Loading and transforming data. \n",
    "\n",
    "## Don't care too much about the data itself. Nevertheless, have in mind that our data is generated \n",
    "## with few constraints (e.g., it's a 100 examples size, it has 2 features and 3 classes as possible values \n",
    "## to target variable).\n",
    "X_numpy, y_numpy = datasets.make_classification(n_samples=100, n_features=2, \n",
    "                                                n_redundant=0, n_classes=3,\n",
    "                                                n_clusters_per_class=1, random_state=1)\n",
    "\n",
    "X = torch.from_numpy(X_numpy.astype(np.float32))\n",
    "y = torch.from_numpy(y_numpy)\n",
    "y = y.type(torch.long)"
   ]
  },
  {
   "cell_type": "markdown",
   "metadata": {},
   "source": [
    "Training pipeline follows the same steps as before:\n",
    "\n",
    "* Design model\n",
    "* Construct loss function and optimizer\n",
    "* Forward pass\n",
    "* Backward pass\n",
    "* Update parameters"
   ]
  },
  {
   "cell_type": "code",
   "execution_count": 25,
   "metadata": {},
   "outputs": [
    {
     "data": {
      "text/latex": [
       "$\\displaystyle \\ \\  200th \\ iter. \\ Error \\ (J): 0.748 \\ | \\ Parameters: (\\theta_1): 2.091, \\ (\\theta_2): 0.952 $"
      ],
      "text/plain": [
       "<IPython.core.display.Math object>"
      ]
     },
     "metadata": {},
     "output_type": "display_data"
    },
    {
     "data": {
      "text/latex": [
       "$\\displaystyle \\ \\  400th \\ iter. \\ Error \\ (J): 0.674 \\ | \\ Parameters: (\\theta_1): 3.020, \\ (\\theta_2): 0.728 $"
      ],
      "text/plain": [
       "<IPython.core.display.Math object>"
      ]
     },
     "metadata": {},
     "output_type": "display_data"
    },
    {
     "data": {
      "text/latex": [
       "$\\displaystyle \\ \\  600th \\ iter. \\ Error \\ (J): 0.645 \\ | \\ Parameters: (\\theta_1): 3.698, \\ (\\theta_2): 0.434 $"
      ],
      "text/plain": [
       "<IPython.core.display.Math object>"
      ]
     },
     "metadata": {},
     "output_type": "display_data"
    },
    {
     "data": {
      "text/latex": [
       "$\\displaystyle \\ \\  800th \\ iter. \\ Error \\ (J): 0.630 \\ | \\ Parameters: (\\theta_1): 4.246, \\ (\\theta_2): 0.166 $"
      ],
      "text/plain": [
       "<IPython.core.display.Math object>"
      ]
     },
     "metadata": {},
     "output_type": "display_data"
    },
    {
     "data": {
      "text/latex": [
       "$\\displaystyle 1000th \\ iter. \\ Error \\ (J): 0.620 \\ | \\ Parameters: (\\theta_1): 4.713, \\ (\\theta_2): -0.055 $"
      ],
      "text/plain": [
       "<IPython.core.display.Math object>"
      ]
     },
     "metadata": {},
     "output_type": "display_data"
    }
   ],
   "source": [
    "# Design model\n",
    "n_samples, n_features = X.shape\n",
    "n_classes = y.unique().shape[0]\n",
    "model = LogRegression(n_features, n_classes)\n",
    "\n",
    "# Define hyperparameters\n",
    "lr=0.01\n",
    "num_iters=1000\n",
    "\n",
    "# Construct Loss and Optimizer\n",
    "loss = nn.CrossEntropyLoss() # Since we're tackling a classification task, loss function needs to fit adequately.\n",
    "optimizer = torch.optim.Adam(model.parameters(), lr=lr)\n",
    "\n",
    "for i in range(1, num_iters+1):\n",
    "    # Forward pass\n",
    "    y_hat = model(X)\n",
    "\n",
    "    # Loss computation\n",
    "    J = loss(y_hat ,y)\n",
    "\n",
    "    # Backward pass\n",
    "    J.backward()\n",
    "\n",
    "    # Update parameters\n",
    "    optimizer.step()\n",
    "\n",
    "    # Zero grad\n",
    "    optimizer.zero_grad()\n",
    "\n",
    "    # Print loss and weights\n",
    "    if i % 200 == 0:\n",
    "        theta, b = model.parameters()\n",
    "        theta1 = theta[0][0].item()\n",
    "        theta2 = theta[0][1].item()\n",
    "\n",
    "        space_str = displayMathHelper(num_iters, i)\n",
    "        display(\n",
    "            Math(\n",
    "                r'{space}{i:4}th \\ iter. \\ Error \\ (J): {J:.3f} \\ | \\ Parameters: (\\theta_1): {theta1:.3f}, \\ (\\theta_2): {theta2:.3f} '.format(\n",
    "                    space=space_str, i=i, J=J,\n",
    "                    theta1=theta1,\n",
    "                    theta2=theta2\n",
    "                )\n",
    "            )\n",
    "        )"
   ]
  },
  {
   "cell_type": "markdown",
   "metadata": {},
   "source": [
    "In order to visualize results, it is plotted model prediction and it's decision boundary (represented by it's non-linear function) beside with original data points."
   ]
  },
  {
   "cell_type": "code",
   "execution_count": 26,
   "metadata": {},
   "outputs": [
    {
     "data": {
      "image/png": "[encoded data removed]",
      "text/plain": [
       "<Figure size 1440x576 with 2 Axes>"
      ]
     },
     "metadata": {
      "needs_background": "light"
     },
     "output_type": "display_data"
    }
   ],
   "source": [
    "h = 0.02\n",
    "\n",
    "x_min, x_max = X[:, 0].min().item() - 0.5, X[:, 0].max().item() + 0.5\n",
    "y_min, y_max = X[:, 1].min().item() - 0.5, X[:, 1].max().item() + 0.5\n",
    "\n",
    "xx, yy = np.meshgrid(np.arange(x_min, x_max, h),\n",
    "                     np.arange(y_min, y_max, h))\n",
    "\n",
    "grid_agg = np.c_[xx.ravel(), yy.ravel()]\n",
    "grid_agg = torch.from_numpy(grid_agg.astype(np.float32))\n",
    "\n",
    "Z = model(grid_agg).detach()\n",
    "Z = torch.argmax(Z, 1, keepdim=True)\n",
    "Z = np.reshape(Z.numpy(), xx.shape)\n",
    "\n",
    "cm = plt.cm.Pastel1\n",
    "\n",
    "predicted = model(X).detach()\n",
    "predicted = torch.argmax(predicted, 1, keepdim=True)\n",
    "predicted = predicted.view(n_samples)\n",
    "\n",
    "corr_fst_class_idx = y_numpy==0\n",
    "corr_snd_class_idx = y_numpy==1\n",
    "corr_trd_class_idx = y_numpy==2\n",
    "\n",
    "fst_class_idx = predicted==0\n",
    "snd_class_idx = predicted==1\n",
    "trd_class_idx = predicted==2\n",
    "\n",
    "fig, axs = plt.subplots(1, 2, figsize=(20,8))\n",
    "axs[0].plot(X_numpy[fst_class_idx, 0], X_numpy[fst_class_idx, 1], 'ro', label='Class 1')\n",
    "axs[0].plot(X_numpy[snd_class_idx, 0], X_numpy[snd_class_idx, 1], 'bo', label='Class 2')\n",
    "axs[0].plot(X_numpy[trd_class_idx, 0], X_numpy[trd_class_idx, 1], 'go', label='Class 3')\n",
    "axs[0].contourf(xx, yy, Z, cmap=cm, alpha=0.7)\n",
    "axs[0].legend(loc=\"upper left\")\n",
    "axs[0].set_title(\"Predicted (w/ Decision Boundary)\")\n",
    "\n",
    "axs[1].plot(X_numpy[corr_fst_class_idx, 0], X_numpy[corr_fst_class_idx, 1], 'ro', label='Class 1')\n",
    "axs[1].plot(X_numpy[corr_snd_class_idx, 0], X_numpy[corr_snd_class_idx, 1], 'bo', label='Class 2')\n",
    "axs[1].plot(X_numpy[corr_trd_class_idx, 0], X_numpy[corr_trd_class_idx, 1], 'go', label='Class 3')\n",
    "axs[1].legend(loc=\"upper left\")\n",
    "axs[1].set_title(\"Original Data\")\n",
    "\n",
    "plt.show()"
   ]
  },
  {
   "cell_type": "markdown",
   "metadata": {},
   "source": [
    "---"
   ]
  },
  {
   "cell_type": "markdown",
   "metadata": {},
   "source": [
    "## 1.8: Dataset and Dataloader"
   ]
  },
  {
   "cell_type": "markdown",
   "metadata": {},
   "source": [
    "Earlier we've managed with hand-crafted and/or toy datasets in our examples. Though, nowadays it's pretty common to deal with large datasets (in the order of millions of examples, hundreds or thousands of features and classes). In this scenario, even with state-of-the-art hardware it's recommended to save memory, paralellize computation, and make efficient use of resources. Given that, it'd be nice to come up with an implementation to ease the process of loading larger datasets. That's exactly what Pytorch's Dataset and DataLoader classes are made for.\n",
    "\n",
    "First, let's create a subclass of Dataset for the Wine Quality dataset (which is in './data/winequality-red.csv' directory, in case you want to take a look). To do so, we need three methods: (i) initialization, (ii) a getter to fetch samples by its index, and (iii) a method to return the number of samples (dataset length):"
   ]
  },
  {
   "cell_type": "code",
   "execution_count": 27,
   "metadata": {},
   "outputs": [],
   "source": [
    "class WineDataset(Dataset):\n",
    "\n",
    "    def __init__(self, file_path):\n",
    "        dataset = np.loadtxt(file_path, delimiter=\",\", dtype=np.float32, skiprows=1)\n",
    "        self.X = torch.from_numpy(dataset[:, 1:])\n",
    "        self.y = torch.from_numpy(dataset[:, 0]).view(self.X.shape[0], 1) # We want to have a label column vector\n",
    "        self.n_samples = self.X.shape[0]\n",
    "\n",
    "    def __getitem__(self, index):\n",
    "        return self.X[index], self.y[index]\n",
    "\n",
    "    def __len__(self):\n",
    "        return self.n_samples"
   ]
  },
  {
   "cell_type": "code",
   "execution_count": 28,
   "metadata": {},
   "outputs": [],
   "source": [
    "path = './data/winequality-red.csv'\n",
    "wine_dataset = WineDataset(path)"
   ]
  },
  {
   "cell_type": "markdown",
   "metadata": {},
   "source": [
    "Afterward, we can use Pytorch's DataLoader class in order to efficiently load our dataset object aiming to optimize our model's training. In this case, we'll exploit mini-batch technique."
   ]
  },
  {
   "cell_type": "markdown",
   "metadata": {},
   "source": [
    "[Quick reminder] Here is an explanation of some of the concepts used below:\n",
    "\n",
    "* **Epoch**: Number of times training on the entire dataset\n",
    "* **Iteration or Batch**: Number of batchs/forward and backward passes (optimization is done in each batch instead of the entire data)\n",
    "* **Batch Size**: Number of samples in each batch\n",
    "\n",
    "For instace, given a dataset of 1600 samples, if the batch size is 4, then the number of batchs is 400 ($\\dfrac{1600}{4}$ = 400). \n",
    "\n",
    "The image below illustrates a dataset divided in 4 batchs. On this example, each epoch we are training (forward, backward passing, and updating parameters) on each batch, running through all the dataset in this way, but using just an amount of computing power and memory, since it's only allocated a batch per step of training."
   ]
  },
  {
   "cell_type": "code",
   "execution_count": 29,
   "metadata": {},
   "outputs": [
    {
     "data": {
      "image/png": "[encoded data removed]",
      "text/plain": [
       "<IPython.core.display.Image object>"
      ]
     },
     "execution_count": 29,
     "metadata": {},
     "output_type": "execute_result"
    }
   ],
   "source": [
    "Image(filename=\"assets/images/mini-batch.png\")"
   ]
  },
  {
   "cell_type": "code",
   "execution_count": 30,
   "metadata": {},
   "outputs": [],
   "source": [
    "# It's choosen a batch size (i.e., numbers of samples per batch) of 4, and separate this process in 2 (number of workers = 2)\n",
    "wine_dataloader = DataLoader(dataset=wine_dataset, batch_size=4, shuffle=True, num_workers=2)"
   ]
  },
  {
   "cell_type": "code",
   "execution_count": 31,
   "metadata": {},
   "outputs": [
    {
     "name": "stdout",
     "output_type": "stream",
     "text": [
      "Epoch 1/2 | Batch  50/400 | Batch shape torch.Size([4, 11])\n",
      "Epoch 1/2 | Batch 100/400 | Batch shape torch.Size([4, 11])\n",
      "Epoch 1/2 | Batch 150/400 | Batch shape torch.Size([4, 11])\n",
      "Epoch 1/2 | Batch 200/400 | Batch shape torch.Size([4, 11])\n",
      "Epoch 1/2 | Batch 250/400 | Batch shape torch.Size([4, 11])\n",
      "Epoch 1/2 | Batch 300/400 | Batch shape torch.Size([4, 11])\n",
      "Epoch 1/2 | Batch 350/400 | Batch shape torch.Size([4, 11])\n",
      "Epoch 1/2 | Batch 400/400 | Batch shape torch.Size([3, 11])\n",
      "Epoch 2/2 | Batch  50/400 | Batch shape torch.Size([4, 11])\n",
      "Epoch 2/2 | Batch 100/400 | Batch shape torch.Size([4, 11])\n",
      "Epoch 2/2 | Batch 150/400 | Batch shape torch.Size([4, 11])\n",
      "Epoch 2/2 | Batch 200/400 | Batch shape torch.Size([4, 11])\n",
      "Epoch 2/2 | Batch 250/400 | Batch shape torch.Size([4, 11])\n",
      "Epoch 2/2 | Batch 300/400 | Batch shape torch.Size([4, 11])\n",
      "Epoch 2/2 | Batch 350/400 | Batch shape torch.Size([4, 11])\n",
      "Epoch 2/2 | Batch 400/400 | Batch shape torch.Size([3, 11])\n"
     ]
    }
   ],
   "source": [
    "n_epochs = 2\n",
    "n_samples = len(wine_dataset)\n",
    "n_iters = len(wine_dataloader)\n",
    "\n",
    "for epoch in range(n_epochs):\n",
    "    for i, (X, y) in enumerate(wine_dataloader):\n",
    "        if (i+1) % 50 == 0:\n",
    "            print(\n",
    "                r'Epoch {epoch}/{n_epochs} | Batch {i:3}/{n_iters:} | Batch shape {X_shape}'.format(\n",
    "                    epoch=epoch+1, i=i+1,                                                                      \n",
    "                    n_epochs=n_epochs, n_iters=n_iters,                                                                                \n",
    "                    X_shape=X.shape)\n",
    "            )"
   ]
  },
  {
   "cell_type": "markdown",
   "metadata": {},
   "source": [
    "---"
   ]
  },
  {
   "cell_type": "markdown",
   "metadata": {},
   "source": [
    "## 1.9: Dataset Transforms"
   ]
  },
  {
   "cell_type": "markdown",
   "metadata": {},
   "source": [
    "Transforms are built-in transformations applied to datasets, wheter its datatype is a tensor, a ndarray or a PIL image.\n",
    "\n",
    "A few examples of transformations are:\n",
    "\n",
    "    Images\n",
    "    -------\n",
    "    Pad, CenterCrop, GrayScale, RandomAffine, Resize, Scale.\n",
    "\n",
    "    Tensors\n",
    "    -------\n",
    "    LinearTransformation, Normalize, RandomErasing\n",
    "\n",
    "    Conversions\n",
    "    -----------\n",
    "    ToPILImage: tensor -> ndarray\n",
    "    ToTensor:   ndarray -> tensor\n",
    "\n",
    "    Generic\n",
    "    -------\n",
    "    Lambda function\n",
    "\n",
    "    Custom\n",
    "    ------\n",
    "    Write your own class\n",
    "\n",
    "    Compose\n",
    "    -------\n",
    "    Design a list of transformations:\n",
    "        composed = torchvision.transforms.Compose(\n",
    "            [Rescale(256),\n",
    "            RandomCrop(128)]\n",
    "        )\n",
    "\n",
    "For more details, a complete list of all built-in transform functions is available at: https://pytorch.org/vision/stable/transforms.html"
   ]
  },
  {
   "cell_type": "markdown",
   "metadata": {},
   "source": [
    "Let's use our own custom class dataset implemented before in order to make two transformations:\n",
    "\n",
    "1. Transform from ndarray to tensor\n",
    "2. Exponentiate our data"
   ]
  },
  {
   "cell_type": "code",
   "execution_count": 10,
   "metadata": {},
   "outputs": [],
   "source": [
    "# Custom WineDataset class\n",
    "class WineDataset(Dataset):\n",
    "\n",
    "    def __init__(self, file_path, transform):\n",
    "        dataset = np.loadtxt(file_path, delimiter=\",\", dtype=np.float32, skiprows=1)\n",
    "        self.X = dataset[:, 1:]\n",
    "        self.y = dataset[:, [0]]\n",
    "        self.n_samples = self.X.shape[0]\n",
    "        self.transform = transform\n",
    "\n",
    "    def __getitem__(self, index):\n",
    "        sample = self.X[index], self.y[index]\n",
    "\n",
    "        if self.transform:\n",
    "            sample = self.transform(sample)\n",
    "\n",
    "        return sample\n",
    "\n",
    "    def __len__(self):\n",
    "        return self.n_samples"
   ]
  },
  {
   "cell_type": "code",
   "execution_count": 88,
   "metadata": {},
   "outputs": [],
   "source": [
    "# Transform classes\n",
    "\n",
    "class ToTensor:\n",
    "    ''' \n",
    "    Transform ndarray data into tensor\n",
    "    '''\n",
    "\n",
    "    def __call__(self, sample):\n",
    "        inputs, labels = sample\n",
    "        sample = torch.from_numpy(inputs), torch.from_numpy(labels) \n",
    "\n",
    "        return sample\n",
    "\n",
    "class PowTransform:\n",
    "    ''' \n",
    "     Raise inputs to a power 'n'\n",
    "    '''\n",
    "\n",
    "    def __init__(self, n):\n",
    "        self.power = n\n",
    "\n",
    "    def __call__(self, sample):\n",
    "        inputs, labels = sample\n",
    "        sample = inputs.pow(self.power), labels\n",
    "\n",
    "        return sample"
   ]
  },
  {
   "cell_type": "code",
   "execution_count": 89,
   "metadata": {},
   "outputs": [],
   "source": [
    "path = './data/winequality-red.csv'\n",
    "composed = torchvision.transforms.Compose([ToTensor(), PowTransform(2)])"
   ]
  },
  {
   "cell_type": "code",
   "execution_count": 35,
   "metadata": {},
   "outputs": [
    {
     "name": "stdout",
     "output_type": "stream",
     "text": [
      "<class 'numpy.ndarray'> <class 'numpy.ndarray'>\n",
      "[ 7.4     0.7     0.      1.9     0.076  11.     34.      0.9978  3.51\n",
      "  0.56    9.4   ]\n"
     ]
    }
   ],
   "source": [
    "# Without transformation\n",
    "wine_dataset = WineDataset(file_path=path, transform=None)\n",
    "\n",
    "first_data = wine_dataset[0]\n",
    "features, labels = first_data\n",
    "\n",
    "print(type(features), type(labels))\n",
    "print(features)"
   ]
  },
  {
   "cell_type": "code",
   "execution_count": 90,
   "metadata": {},
   "outputs": [
    {
     "name": "stdout",
     "output_type": "stream",
     "text": [
      "<class 'torch.Tensor'> <class 'torch.Tensor'>\n",
      "tensor([5.4760e+01, 4.9000e-01, 0.0000e+00, 3.6100e+00, 5.7760e-03, 1.2100e+02,\n",
      "        1.1560e+03, 9.9560e-01, 1.2320e+01, 3.1360e-01, 8.8360e+01])\n"
     ]
    }
   ],
   "source": [
    "# With transformation\n",
    "wine_dataset = WineDataset(file_path=path, transform=composed)\n",
    "\n",
    "first_data = wine_dataset[0]\n",
    "features, labels = first_data\n",
    "\n",
    "print(type(features), type(labels))\n",
    "print(features)"
   ]
  },
  {
   "cell_type": "markdown",
   "metadata": {},
   "source": [
    "---"
   ]
  },
  {
   "cell_type": "markdown",
   "metadata": {},
   "source": [
    "## 1.10: Softmax & Cross-Entropy"
   ]
  },
  {
   "cell_type": "markdown",
   "metadata": {},
   "source": [
    "Softmax and Cross-Entropy are two frequently used functions in the field and, in particular, in neural network models. Let's dive into the math and intuition behind these functions:"
   ]
  },
  {
   "cell_type": "markdown",
   "metadata": {},
   "source": [
    "### 1. Softmax"
   ]
  },
  {
   "cell_type": "markdown",
   "metadata": {},
   "source": [
    "Softmax formula is represented below:\n",
    "\n",
    "$$S(Y_i) = \\dfrac{e^{Y_i}}{\\sum_{j} e^{Y_j}}$$\n",
    "\n",
    "What this function does is normalize all $Y_i$ values to keep them between $[0,1]$. In other words, it transforms real values to probability values, making sure that it respects Kolmogorov axioms (Probability Theory axioms). In our case, we use it in order to pick up the class with the greatest probability in our model's prediction. As an example, take a look in the image below. In a 3-classes classification problem, for that particular fiction observation, our model would choose the first one (with almost $80\\%$ probability that this is observation's class)."
   ]
  },
  {
   "cell_type": "code",
   "execution_count": 37,
   "metadata": {},
   "outputs": [
    {
     "data": {
      "image/png": "[encoded data removed]",
      "text/plain": [
       "<IPython.core.display.Image object>"
      ]
     },
     "execution_count": 37,
     "metadata": {},
     "output_type": "execute_result"
    }
   ],
   "source": [
    "Image(filename=\"assets/images/softmax_ex.png\")"
   ]
  },
  {
   "cell_type": "markdown",
   "metadata": {},
   "source": [
    "As we've done before, let's implement Softmax function in two ways: (i) from scratch; (ii) with Pytorch."
   ]
  },
  {
   "cell_type": "code",
   "execution_count": 38,
   "metadata": {},
   "outputs": [
    {
     "name": "stdout",
     "output_type": "stream",
     "text": [
      "Probabilities: [0.79 0.02 0.19] (as expected!)\n"
     ]
    }
   ],
   "source": [
    "# Softmax function from scratch\n",
    "def softmax(logits):\n",
    "    return np.exp(logits)/np.sum(np.exp(logits))\n",
    "\n",
    "logits = np.array([4, 0.1, 2.6])\n",
    "y_hat = softmax(logits)\n",
    "\n",
    "print('Probabilities:', np.round(y_hat, 2), '(as expected!)')"
   ]
  },
  {
   "cell_type": "code",
   "execution_count": 39,
   "metadata": {},
   "outputs": [
    {
     "name": "stdout",
     "output_type": "stream",
     "text": [
      "Probabilities: [0.79 0.02 0.19] (as expected!)\n"
     ]
    }
   ],
   "source": [
    "# Softmax function with Pytorch\n",
    "logits = torch.tensor([4, 0.1, 2.6])\n",
    "y_hat = torch.softmax(logits, dim=0)\n",
    "\n",
    "print('Probabilities:', np.round(y_hat.numpy(), 2), '(as expected!)')"
   ]
  },
  {
   "cell_type": "markdown",
   "metadata": {},
   "source": [
    "### 2. Cross-Entropy"
   ]
  },
  {
   "cell_type": "markdown",
   "metadata": {},
   "source": [
    "As stated above, Cross-Entropy is another famous function used in the field. In this case, it's used as the loss function which we want to optimize in classification problems. Its formula is represented below:\n",
    "\n",
    "$$H(\\hat{Y}, Y) = -\\dfrac{1}{N}\\sum_{i}^{N}Y_{i}log(\\hat{Y_{i}})$$\n",
    "\n",
    "Cross-Entropy is a measure of the difference between two probability distributions of two random variables (or functions). Intuitively, if the probability distribution of our model's prediction is similar to that of the real label, them cross-entropy will have a small value. Otherwise, i.e. the two probability distributions are different, cross-entropy is high. Examples are shown below:\n",
    "\n",
    "1)\n",
    "$\n",
    "{Y = [1, 0, 0] \\\\ \\hat{Y_{1}} = [0.79, 0.02, 0.19]} H_{1}(\\hat{Y_{1}}, Y) = 0.24\n",
    "$\n",
    "\n",
    "2)\n",
    "$\n",
    "{Y = [1, 0, 0] \\\\ \\hat{Y_{2}} = [0.19, 0.02, 0.79]} H_{2}(\\hat{Y_{2}}, Y) = 1.66\n",
    "$\n",
    "\n",
    "**Obs. (1):** To compute cross-entropy, labels must be one-hot encoded (just like it is in the example) and predictions must be probabilities (i.e., it must be transformed by softmax).\n",
    "\n",
    "**Obs. (2):** Pytorch's Cross-Entropy interface (_torch.nn.CrossEntropyLoss()_) ease things a little bit. Our label vector doesn't need to be one-hot encoded, so label values are just the class value. Also, it internally applies softmax to the prediction vector. Thus we need to pass the logits vector. This observation is **paramount** because when we start coding our neural networks in the future we'll need to remind that Pytorch's Cross-Entropy Loss already pass results in a Softmax layer, therefore we don't need to add this layer again. Nonetheless, in the case the intended task is a binary classification, Pytorch's Binary Cross-Entropy Loss (_torch.nn.BCELoss()_) will require a Sigmoid function layer in the end of the neural network. Please keep that in mind!"
   ]
  },
  {
   "cell_type": "code",
   "execution_count": 40,
   "metadata": {},
   "outputs": [
    {
     "data": {
      "text/latex": [
       "$\\displaystyle H_1 = 0.24 \\ | \\ H_2 = 1.66 \\ (as \\ expected!)$"
      ],
      "text/plain": [
       "<IPython.core.display.Math object>"
      ]
     },
     "metadata": {},
     "output_type": "display_data"
    }
   ],
   "source": [
    "# Cross-Entropy function from scratch\n",
    "def cross_entropy(y, y_hat):\n",
    "    N = 1\n",
    "    return -np.sum(y*np.log(y_hat))/N\n",
    "\n",
    "y = np.array([1, 0, 0])\n",
    "y_hat_1 = np.array([0.79, 0.02, 0.19])\n",
    "y_hat_2 = np.array([0.19, 0.02, 0.79])\n",
    "\n",
    "CE_1 = cross_entropy(y, y_hat_1)\n",
    "CE_2 = cross_entropy(y, y_hat_2)\n",
    "\n",
    "display(Math(r'H_1 = {ce_1:.2f} \\ | \\ H_2 = {ce_2:.2f} \\ (as \\ expected!)'.format(ce_1=CE_1, ce_2=CE_2)))"
   ]
  },
  {
   "cell_type": "code",
   "execution_count": 41,
   "metadata": {},
   "outputs": [
    {
     "data": {
      "text/latex": [
       "$\\displaystyle H_1 = 0.24 \\ | \\ H_2 = 1.64 \\ (as \\ expected!)$"
      ],
      "text/plain": [
       "<IPython.core.display.Math object>"
      ]
     },
     "metadata": {},
     "output_type": "display_data"
    }
   ],
   "source": [
    "# Cross-Entropy function with Pytorch\n",
    "y = torch.tensor([0]) # Only one label in a 3-classes classification problem.\n",
    "y_hat_1 = torch.tensor([[4, 0.1, 2.6]])\n",
    "y_hat_2 = torch.tensor([[2.6, 0.1, 4]])\n",
    "\n",
    "loss = nn.CrossEntropyLoss()\n",
    "CE_1 = loss(y_hat_1, y)\n",
    "CE_2 = loss(y_hat_2, y)\n",
    "\n",
    "display(Math(r'H_1 = {ce_1:.2f} \\ | \\ H_2 = {ce_2:.2f} \\ (as \\ expected!)'.format(ce_1=CE_1, ce_2=CE_2)))"
   ]
  },
  {
   "cell_type": "markdown",
   "metadata": {},
   "source": [
    "---"
   ]
  },
  {
   "cell_type": "markdown",
   "metadata": {},
   "source": [
    "## 1.11: Activation Functions"
   ]
  },
  {
   "cell_type": "markdown",
   "metadata": {},
   "source": [
    "Activation functions are important features of neural networks because they allow them to **model non-linear relations** present in the data. An analogy often used is that of the all-or-none principle that control our nerve cells' response given a stimulus and the intuition behind activation functions on artificial neural networks (yet, this comparison is quite questionable).\n",
    "\n",
    "Next, we're going to see some of the activation functions implemented in Pytorch and their idiosyncrasies:"
   ]
  },
  {
   "cell_type": "markdown",
   "metadata": {},
   "source": [
    "### 1. Step Function"
   ]
  },
  {
   "cell_type": "markdown",
   "metadata": {},
   "source": [
    "This is the most simple activation function. It's described as follows:\n",
    "\n",
    "$$f(x) = \\left\\{\n",
    "\\begin{array}{ll}\n",
    "    1,  & x \\geq a \\\\\n",
    "    0,  & x < a\\\\\n",
    "\\end{array}\n",
    "\\right.\n",
    "$$\n",
    "\n",
    "That means whenever the neuron value is greater than a value ($a$, in this case), then it activates.\n",
    "\n",
    "**Obs.:** This function is hardly ever used.\n",
    "\n",
    "Below, it's a graphic representation of that function:"
   ]
  },
  {
   "cell_type": "code",
   "execution_count": 42,
   "metadata": {},
   "outputs": [
    {
     "data": {
      "image/png": "[encoded data removed]",
      "text/plain": [
       "<Figure size 576x576 with 1 Axes>"
      ]
     },
     "metadata": {
      "needs_background": "light"
     },
     "output_type": "display_data"
    }
   ],
   "source": [
    "X = np.linspace(-2, 4, 1000, dtype=np.float64)\n",
    "X = torch.from_numpy(X)\n",
    "inputs = X\n",
    "values = torch.tensor([1], dtype=torch.float64)\n",
    "\n",
    "a = 1\n",
    "step = torch.heaviside(inputs-a, values) # Pytorch's step function\n",
    "step = step.numpy()\n",
    "\n",
    "fig, axs = plt.subplots(1, 1, figsize=(8,8))\n",
    "axs.plot(inputs, step, 'b-', label=\"Step\")\n",
    "axs.legend(loc=\"upper left\")\n",
    "axs.set_ylim([-2, 3])\n",
    "plt.grid()\n",
    "plt.show()"
   ]
  },
  {
   "cell_type": "markdown",
   "metadata": {},
   "source": [
    "### 2. Logistic"
   ]
  },
  {
   "cell_type": "markdown",
   "metadata": {},
   "source": [
    "Logistic function, also kwon as sigmoid, is an activation function that outputs a probability value and is usually used in the last layer of a binary classification problem. It's formula is represented below:\n",
    "\n",
    "$$f(x) = \\dfrac{1}{1+e^{-x}}$$\n",
    "\n",
    "Graphically, logistic function is as follows:"
   ]
  },
  {
   "cell_type": "code",
   "execution_count": 43,
   "metadata": {},
   "outputs": [
    {
     "data": {
      "image/png": "[encoded data removed]",
      "text/plain": [
       "<Figure size 576x576 with 1 Axes>"
      ]
     },
     "metadata": {
      "needs_background": "light"
     },
     "output_type": "display_data"
    }
   ],
   "source": [
    "X = np.linspace(-15, 15, 1000, dtype=np.float64)\n",
    "X = torch.from_numpy(X)\n",
    "\n",
    "logistic = nn.Sigmoid() # Pytorch's logistic function (also known as just sigmoid)\n",
    "logits = logistic(X)\n",
    "logits = logits.numpy()\n",
    "\n",
    "fig, axs = plt.subplots(1, 1, figsize=(8,8))\n",
    "axs.plot(X, logits, 'b-', label=\"Logistic\")\n",
    "axs.legend(loc=\"upper left\")\n",
    "axs.set_xlim([-16, 16])\n",
    "plt.grid()\n",
    "plt.show()"
   ]
  },
  {
   "cell_type": "markdown",
   "metadata": {},
   "source": [
    "### 3. Tanh"
   ]
  },
  {
   "cell_type": "markdown",
   "metadata": {},
   "source": [
    "Tanh is another function from the sigmoid family. Nonetheless, instead of having its output value between $[0,1]$, it's scaled and shifted in order to be between $[-1,1]$. The formula and plot is represented below:\n",
    "\n",
    "$$f(x) = \\dfrac{2}{1 + e^{-2x}} - 1$$"
   ]
  },
  {
   "cell_type": "code",
   "execution_count": 44,
   "metadata": {},
   "outputs": [
    {
     "data": {
      "image/png": "[encoded data removed]",
      "text/plain": [
       "<Figure size 576x576 with 1 Axes>"
      ]
     },
     "metadata": {
      "needs_background": "light"
     },
     "output_type": "display_data"
    }
   ],
   "source": [
    "X = np.linspace(-15, 15, 1000, dtype=np.float64)\n",
    "X = torch.from_numpy(X)\n",
    "\n",
    "sigmoid_tanh = nn.Tanh() # Pytorch's tanh function\n",
    "tanh = sigmoid_tanh(X)\n",
    "tanh = tanh.numpy()\n",
    "\n",
    "fig, axs = plt.subplots(1, 1, figsize=(8,8))\n",
    "axs.plot(X, tanh, 'b-', label=\"Tanh\")\n",
    "axs.legend(loc=\"upper left\")\n",
    "axs.set_xlim([-16, 16])\n",
    "plt.grid()\n",
    "plt.show()"
   ]
  },
  {
   "cell_type": "markdown",
   "metadata": {},
   "source": [
    "### 4. ReLU"
   ]
  },
  {
   "cell_type": "markdown",
   "metadata": {},
   "source": [
    "Probably the most popular activation function (and the best candidate if you're in doubt which one to use), ReLU outputs $0$ in the case input is **negative**, and is the idendity ($f(x) = x$) otherwise. ReLU formula is below:\n",
    "\n",
    "$$f(x) = max(0, x)$$\n",
    "\n",
    "Next, it's presented ReLU graphically:"
   ]
  },
  {
   "cell_type": "code",
   "execution_count": 45,
   "metadata": {},
   "outputs": [
    {
     "data": {
      "image/png": "[encoded data removed]",
      "text/plain": [
       "<Figure size 576x576 with 1 Axes>"
      ]
     },
     "metadata": {
      "needs_background": "light"
     },
     "output_type": "display_data"
    }
   ],
   "source": [
    "X = np.linspace(-15, 15, 1000, dtype=np.float64)\n",
    "X = torch.from_numpy(X)\n",
    "\n",
    "relu_func = nn.ReLU() # Pytorch's ReLU function\n",
    "relu = relu_func(X)\n",
    "relu = relu.numpy()\n",
    "\n",
    "fig, axs = plt.subplots(1, 1, figsize=(8,8))\n",
    "axs.plot(X, relu, 'b-', label=\"ReLU\")\n",
    "axs.legend(loc=\"upper left\")\n",
    "axs.set_xlim([-16, 16])\n",
    "plt.grid()\n",
    "plt.show()"
   ]
  },
  {
   "cell_type": "markdown",
   "metadata": {},
   "source": [
    "### 5. Leaky ReLU"
   ]
  },
  {
   "cell_type": "markdown",
   "metadata": {},
   "source": [
    "Leaky ReLU is a variation of ReLU function, but it's not $0$ for negative input values. What this function seeks to improve is what is called vanishing gradient problem, which is the result of a null gradient value, due to null activation. To addres this problem, it's used a small term ($\\alpha$) (in the order of $0.01$) for negative input values, and so the gradient does not vanish. Leaky ReLU formula and its plot is as follows:\n",
    "\n",
    "$$f(x) = \\left\\{\n",
    "\\begin{array}{ll}\n",
    "    x,  & x \\geq 0 \\\\\n",
    "    {\\alpha}x,  & x < 0\\\\\n",
    "\\end{array}\n",
    "\\right.\n",
    "$$"
   ]
  },
  {
   "cell_type": "code",
   "execution_count": 46,
   "metadata": {},
   "outputs": [
    {
     "data": {
      "image/png": "[encoded data removed]",
      "text/plain": [
       "<Figure size 576x576 with 1 Axes>"
      ]
     },
     "metadata": {
      "needs_background": "light"
     },
     "output_type": "display_data"
    }
   ],
   "source": [
    "X = np.linspace(-15, 15, 1000, dtype=np.float64)\n",
    "X = torch.from_numpy(X)\n",
    "\n",
    "leaky_relu_func = nn.LeakyReLU(negative_slope=0.02) # Pytorch's LeakyReLU function\n",
    "leaky_relu = leaky_relu_func(X)\n",
    "leaky_relu = leaky_relu.numpy()\n",
    "\n",
    "fig, axs = plt.subplots(1, 1, figsize=(8,8))\n",
    "axs.plot(X, leaky_relu, 'b-', label=\"Leaky ReLU\")\n",
    "axs.legend(loc=\"upper left\")\n",
    "axs.set_xlim([-16, 16])\n",
    "plt.grid()\n",
    "plt.show()"
   ]
  },
  {
   "cell_type": "markdown",
   "metadata": {},
   "source": [
    "### 6. Softmax"
   ]
  },
  {
   "cell_type": "markdown",
   "metadata": {},
   "source": [
    "Softmax formula is represented below:\n",
    "\n",
    "$$S(Y_i) = \\dfrac{e^{Y_i}}{\\sum_{j} e^{Y_j}}$$\n",
    "\n",
    "What this function does is normalize all $Y_i$ values to keep them between $[0,1]$. In other words, it transforms real values to probability values, making sure that it respects Kolmogorov axioms (Probability Theory axioms). In our case, we use it in order to pick up the class with the greatest probability in our model's prediction. As an example, take a look in the image below. In a 3-classes classification problem, for that particular fiction observation, our model would choose the first one (with almost $80\\%$ probability that this is observation's class)."
   ]
  },
  {
   "cell_type": "code",
   "execution_count": 47,
   "metadata": {},
   "outputs": [
    {
     "data": {
      "image/png": "[encoded data removed]",
      "text/plain": [
       "<IPython.core.display.Image object>"
      ]
     },
     "execution_count": 47,
     "metadata": {},
     "output_type": "execute_result"
    }
   ],
   "source": [
    "Image(filename=\"assets/images/softmax_ex.png\")"
   ]
  },
  {
   "cell_type": "code",
   "execution_count": 48,
   "metadata": {},
   "outputs": [
    {
     "name": "stdout",
     "output_type": "stream",
     "text": [
      "Probabilities: [0.79 0.02 0.19] (as expected!)\n"
     ]
    }
   ],
   "source": [
    "logits = torch.tensor([4, 0.1, 2.6])\n",
    "y_hat = torch.softmax(logits, dim=0) # Pytorch's softmax function\n",
    "\n",
    "print('Probabilities:', np.round(y_hat.numpy(), 2), '(as expected!)')"
   ]
  },
  {
   "cell_type": "markdown",
   "metadata": {},
   "source": [
    "---"
   ]
  },
  {
   "cell_type": "markdown",
   "metadata": {},
   "source": [
    "## 1.12: Feedforward Neural Networks"
   ]
  },
  {
   "cell_type": "markdown",
   "metadata": {},
   "source": [
    "We've seen, so far, how to construct and train our models with Pytorch, what are activation and loss functions (and some supported), how to load and transform datasets.\n",
    "\n",
    "In this sense, let's build a Multilayer Perceptron (MLP) with arbitrary numbers of hidden layers and units, and train it on MNIST dataset*.\n",
    "\n",
    "A MLP is a Feedforward Neural Network which has basically three entities:\n",
    "\n",
    "1. Input layer\n",
    "2. Hidden layer\n",
    "3. Output layer\n",
    "\n",
    "From one layer to another, two operations are done: (i) a linear combination between activations from previous layer and currently layer's parameters ($z = X*W + b$); (ii) neurons activation, via an activation function ($\\sigma(z) = f(z)$, for f as an activation function). In our example, we'll create a MLP in which it'll be possible to choose the deepth and size of layers.\n",
    "\n",
    "**\\***MNIST is a dataset of handwritten digits (0-9) images. Pytorch already has an API in order to download MNIST dataset, which we'll see later. For more details, please check out the dataset website: http://yann.lecun.com/exdb/mnist/."
   ]
  },
  {
   "cell_type": "code",
   "execution_count": 49,
   "metadata": {},
   "outputs": [],
   "source": [
    "class NeuralNet(nn.Module):\n",
    "\n",
    "    def __init__(self, in_units, hid_units, hid_layers, out_units):\n",
    "        super().__init__()\n",
    "        self.num_in_units = in_units\n",
    "        self.num_hid_layers = hid_layers\n",
    "\n",
    "        self.hidden_layers = [nn.Linear(in_features=in_units, out_features=hid_units)]\n",
    "        self.act_functions = [nn.ReLU()]\n",
    "\n",
    "        for l in range(1, hid_layers):\n",
    "            self.hidden_layers.append(nn.Linear(in_features=hid_units, out_features=hid_units))\n",
    "            self.act_functions.append(nn.ReLU())\n",
    "\n",
    "        self.output_layer = nn.Linear(in_features=hid_units, out_features=out_units)\n",
    "\n",
    "    def forward(self, x):\n",
    "        x = x.view(-1, self.num_in_units)\n",
    "        out = self.hidden_layers[0](x)\n",
    "        out = self.act_functions[0](out)\n",
    "\n",
    "        for l in range(1, self.num_hid_layers):\n",
    "            out = self.hidden_layers[l](out)\n",
    "            out = self.act_functions[l](out)\n",
    "\n",
    "        prediction = self.output_layer(out)\n",
    "\n",
    "        return prediction"
   ]
  },
  {
   "cell_type": "code",
   "execution_count": 8,
   "metadata": {},
   "outputs": [],
   "source": [
    "# Define hyperparameters\n",
    "lr=0.001\n",
    "num_epochs=10\n",
    "batch_size = 32"
   ]
  },
  {
   "cell_type": "markdown",
   "metadata": {},
   "source": [
    "MNIST dataset contains $60.000$ training examples, and $10.000$ test examples. Here, we're loading it with $torchvision.datasets$ Pytorch's API, and passing it through a transformation from PIL images (original data format) to Pytorch Tensors."
   ]
  },
  {
   "cell_type": "code",
   "execution_count": 9,
   "metadata": {},
   "outputs": [],
   "source": [
    "# Loading and transforming data\n",
    "composed = torchvision.transforms.Compose([torchvision.transforms.ToTensor()])\n",
    "mnist_train_dataset = torchvision.datasets.MNIST(root='./data', train=True, download=True, transform=composed)\n",
    "train_dataloader = DataLoader(dataset=mnist_train_dataset, batch_size=batch_size, shuffle=True)\n",
    "\n",
    "mnist_test_dataset = torchvision.datasets.MNIST(root='./data', train=False, download=True, transform=composed)\n",
    "test_dataloader = DataLoader(dataset=mnist_test_dataset, batch_size=batch_size, shuffle=True)"
   ]
  },
  {
   "cell_type": "markdown",
   "metadata": {},
   "source": [
    "A few examples are shown below in order to understand the data a little bit:"
   ]
  },
  {
   "cell_type": "code",
   "execution_count": 52,
   "metadata": {},
   "outputs": [
    {
     "data": {
      "image/png": "[encoded data removed]",
      "text/plain": [
       "<Figure size 432x288 with 6 Axes>"
      ]
     },
     "metadata": {},
     "output_type": "display_data"
    }
   ],
   "source": [
    "examples = enumerate(train_dataloader)\n",
    "batch_idx, (example_features, example_targets) = next(examples)\n",
    "\n",
    "fig = plt.figure()\n",
    "\n",
    "for i in range(6):\n",
    "    plt.subplot(2, 3, i+1)\n",
    "    plt.tight_layout()\n",
    "    plt.imshow(example_features[i][0], cmap='gray')\n",
    "    plt.title(r'Ground Truth: {label}'.format(label=example_targets[i]))\n",
    "    plt.xticks([])\n",
    "    plt.yticks([])\n",
    "fig.show()"
   ]
  },
  {
   "cell_type": "markdown",
   "metadata": {},
   "source": [
    "Let's train our model and check train and test accuracy, in order to see our classifier performance:"
   ]
  },
  {
   "cell_type": "code",
   "execution_count": 53,
   "metadata": {
    "scrolled": true
   },
   "outputs": [
    {
     "name": "stderr",
     "output_type": "stream",
     "text": [
      "/home/caio/miniconda3/envs/GNENV/lib/python3.7/site-packages/torchvision/datasets/mnist.py:62: UserWarning: train_data has been renamed data\n",
      "  warnings.warn(\"train_data has been renamed data\")\n"
     ]
    },
    {
     "name": "stdout",
     "output_type": "stream",
     "text": [
      "Train Epoch 1/10 [    0/60000 ( 0%)] | Loss: 2.302018165588379\n",
      "Train Epoch 1/10 [  640/60000 ( 1%)] | Loss: 2.2632687091827393\n",
      "Train Epoch 1/10 [ 1280/60000 ( 2%)] | Loss: 2.222085475921631\n",
      "Train Epoch 1/10 [ 1920/60000 ( 3%)] | Loss: 2.1718835830688477\n",
      "Train Epoch 1/10 [ 2560/60000 ( 4%)] | Loss: 2.147470474243164\n",
      "Train Epoch 1/10 [ 3200/60000 ( 5%)] | Loss: 2.0879225730895996\n",
      "Train Epoch 1/10 [ 3840/60000 ( 6%)] | Loss: 2.0413148403167725\n",
      "Train Epoch 1/10 [ 4480/60000 ( 7%)] | Loss: 2.0482752323150635\n",
      "Train Epoch 1/10 [ 5120/60000 ( 9%)] | Loss: 1.972537875175476\n",
      "Train Epoch 1/10 [ 5760/60000 (10%)] | Loss: 1.9980546236038208\n",
      "Train Epoch 1/10 [ 6400/60000 (11%)] | Loss: 1.9530035257339478\n",
      "Train Epoch 1/10 [ 7040/60000 (12%)] | Loss: 1.929908037185669\n",
      "Train Epoch 1/10 [ 7680/60000 (13%)] | Loss: 1.8565176725387573\n",
      "Train Epoch 1/10 [ 8320/60000 (14%)] | Loss: 1.8703614473342896\n",
      "Train Epoch 1/10 [ 8960/60000 (15%)] | Loss: 1.7860490083694458\n",
      "Train Epoch 1/10 [ 9600/60000 (16%)] | Loss: 1.696175456047058\n",
      "Train Epoch 1/10 [10240/60000 (17%)] | Loss: 1.7040587663650513\n",
      "Train Epoch 1/10 [10880/60000 (18%)] | Loss: 1.7612518072128296\n",
      "Train Epoch 1/10 [11520/60000 (19%)] | Loss: 1.7056370973587036\n",
      "Train Epoch 1/10 [12160/60000 (20%)] | Loss: 1.6197986602783203\n",
      "Train Epoch 1/10 [12800/60000 (21%)] | Loss: 1.5435696840286255\n",
      "Train Epoch 1/10 [13440/60000 (22%)] | Loss: 1.6620087623596191\n",
      "Train Epoch 1/10 [14080/60000 (23%)] | Loss: 1.5023587942123413\n",
      "Train Epoch 1/10 [14720/60000 (25%)] | Loss: 1.518356204032898\n",
      "Train Epoch 1/10 [15360/60000 (26%)] | Loss: 1.4707456827163696\n",
      "Train Epoch 1/10 [16000/60000 (27%)] | Loss: 1.5836341381072998\n",
      "Train Epoch 1/10 [16640/60000 (28%)] | Loss: 1.5527867078781128\n",
      "Train Epoch 1/10 [17280/60000 (29%)] | Loss: 1.5045331716537476\n",
      "Train Epoch 1/10 [17920/60000 (30%)] | Loss: 1.3254884481430054\n",
      "Train Epoch 1/10 [18560/60000 (31%)] | Loss: 1.382335901260376\n",
      "Train Epoch 1/10 [19200/60000 (32%)] | Loss: 1.3413887023925781\n",
      "Train Epoch 1/10 [19840/60000 (33%)] | Loss: 1.3689560890197754\n",
      "Train Epoch 1/10 [20480/60000 (34%)] | Loss: 1.3253509998321533\n",
      "Train Epoch 1/10 [21120/60000 (35%)] | Loss: 1.3117414712905884\n",
      "Train Epoch 1/10 [21760/60000 (36%)] | Loss: 1.454720139503479\n",
      "Train Epoch 1/10 [22400/60000 (37%)] | Loss: 1.4475743770599365\n",
      "Train Epoch 1/10 [23040/60000 (38%)] | Loss: 1.2949985265731812\n",
      "Train Epoch 1/10 [23680/60000 (39%)] | Loss: 1.1830995082855225\n",
      "Train Epoch 1/10 [24320/60000 (41%)] | Loss: 1.2482918500900269\n",
      "Train Epoch 1/10 [24960/60000 (42%)] | Loss: 1.3255256414413452\n",
      "Train Epoch 1/10 [25600/60000 (43%)] | Loss: 1.2660905122756958\n",
      "Train Epoch 1/10 [26240/60000 (44%)] | Loss: 1.2207716703414917\n",
      "Train Epoch 1/10 [26880/60000 (45%)] | Loss: 1.2133097648620605\n",
      "Train Epoch 1/10 [27520/60000 (46%)] | Loss: 1.1256049871444702\n",
      "Train Epoch 1/10 [28160/60000 (47%)] | Loss: 1.286858320236206\n",
      "Train Epoch 1/10 [28800/60000 (48%)] | Loss: 1.1623812913894653\n",
      "Train Epoch 1/10 [29440/60000 (49%)] | Loss: 1.08719801902771\n",
      "Train Epoch 1/10 [30080/60000 (50%)] | Loss: 1.1443259716033936\n",
      "Train Epoch 1/10 [30720/60000 (51%)] | Loss: 1.2262402772903442\n",
      "Train Epoch 1/10 [31360/60000 (52%)] | Loss: 1.191489338874817\n",
      "Train Epoch 1/10 [32000/60000 (53%)] | Loss: 0.9142279624938965\n",
      "Train Epoch 1/10 [32640/60000 (54%)] | Loss: 1.0695911645889282\n",
      "Train Epoch 1/10 [33280/60000 (55%)] | Loss: 1.3034744262695312\n",
      "Train Epoch 1/10 [33920/60000 (57%)] | Loss: 1.1349960565567017\n",
      "Train Epoch 1/10 [34560/60000 (58%)] | Loss: 1.131604790687561\n",
      "Train Epoch 1/10 [35200/60000 (59%)] | Loss: 0.8813278675079346\n",
      "Train Epoch 1/10 [35840/60000 (60%)] | Loss: 0.900845468044281\n",
      "Train Epoch 1/10 [36480/60000 (61%)] | Loss: 1.0703091621398926\n",
      "Train Epoch 1/10 [37120/60000 (62%)] | Loss: 1.1745266914367676\n",
      "Train Epoch 1/10 [37760/60000 (63%)] | Loss: 1.1090240478515625\n",
      "Train Epoch 1/10 [38400/60000 (64%)] | Loss: 1.083174467086792\n",
      "Train Epoch 1/10 [39040/60000 (65%)] | Loss: 0.9316694736480713\n",
      "Train Epoch 1/10 [39680/60000 (66%)] | Loss: 1.0155396461486816\n",
      "Train Epoch 1/10 [40320/60000 (67%)] | Loss: 1.07499098777771\n",
      "Train Epoch 1/10 [40960/60000 (68%)] | Loss: 1.1279631853103638\n",
      "Train Epoch 1/10 [41600/60000 (69%)] | Loss: 0.9705915451049805\n",
      "Train Epoch 1/10 [42240/60000 (70%)] | Loss: 0.9305235147476196\n",
      "Train Epoch 1/10 [42880/60000 (71%)] | Loss: 0.9480050802230835\n",
      "Train Epoch 1/10 [43520/60000 (73%)] | Loss: 0.9630775451660156\n",
      "Train Epoch 1/10 [44160/60000 (74%)] | Loss: 0.8983651399612427\n",
      "Train Epoch 1/10 [44800/60000 (75%)] | Loss: 0.9789743423461914\n",
      "Train Epoch 1/10 [45440/60000 (76%)] | Loss: 1.0203620195388794\n",
      "Train Epoch 1/10 [46080/60000 (77%)] | Loss: 0.7896392345428467\n",
      "Train Epoch 1/10 [46720/60000 (78%)] | Loss: 0.8876370787620544\n",
      "Train Epoch 1/10 [47360/60000 (79%)] | Loss: 1.0763649940490723\n",
      "Train Epoch 1/10 [48000/60000 (80%)] | Loss: 0.965657651424408\n",
      "Train Epoch 1/10 [48640/60000 (81%)] | Loss: 0.732315182685852\n",
      "Train Epoch 1/10 [49280/60000 (82%)] | Loss: 0.8810942769050598\n",
      "Train Epoch 1/10 [49920/60000 (83%)] | Loss: 1.0440181493759155\n",
      "Train Epoch 1/10 [50560/60000 (84%)] | Loss: 0.7147362232208252\n",
      "Train Epoch 1/10 [51200/60000 (85%)] | Loss: 0.6535134315490723\n",
      "Train Epoch 1/10 [51840/60000 (86%)] | Loss: 0.8434805274009705\n",
      "Train Epoch 1/10 [52480/60000 (87%)] | Loss: 1.1034499406814575\n",
      "Train Epoch 1/10 [53120/60000 (89%)] | Loss: 0.7508845925331116\n",
      "Train Epoch 1/10 [53760/60000 (90%)] | Loss: 0.6561644077301025\n",
      "Train Epoch 1/10 [54400/60000 (91%)] | Loss: 1.0073721408843994\n",
      "Train Epoch 1/10 [55040/60000 (92%)] | Loss: 0.8646676540374756\n",
      "Train Epoch 1/10 [55680/60000 (93%)] | Loss: 0.7923675775527954\n",
      "Train Epoch 1/10 [56320/60000 (94%)] | Loss: 0.7364903092384338\n",
      "Train Epoch 1/10 [56960/60000 (95%)] | Loss: 0.7315294742584229\n",
      "Train Epoch 1/10 [57600/60000 (96%)] | Loss: 0.9970332384109497\n",
      "Train Epoch 1/10 [58240/60000 (97%)] | Loss: 1.2714985609054565\n",
      "Train Epoch 1/10 [58880/60000 (98%)] | Loss: 0.8861817121505737\n",
      "Train Epoch 1/10 [59520/60000 (99%)] | Loss: 0.9024931788444519\n",
      "\n",
      "Train Acc.: [46293/60000 (77%)]\n",
      "Test Acc.:  [ 8427/10000 (84%)]\n",
      "\n",
      "Train Epoch 2/10 [    0/60000 ( 0%)] | Loss: 0.5806797742843628\n",
      "Train Epoch 2/10 [  640/60000 ( 1%)] | Loss: 0.7758520841598511\n",
      "Train Epoch 2/10 [ 1280/60000 ( 2%)] | Loss: 0.7493881583213806\n",
      "Train Epoch 2/10 [ 1920/60000 ( 3%)] | Loss: 0.9550904035568237\n",
      "Train Epoch 2/10 [ 2560/60000 ( 4%)] | Loss: 0.6684602499008179\n",
      "Train Epoch 2/10 [ 3200/60000 ( 5%)] | Loss: 0.8214797377586365\n",
      "Train Epoch 2/10 [ 3840/60000 ( 6%)] | Loss: 0.7819167375564575\n",
      "Train Epoch 2/10 [ 4480/60000 ( 7%)] | Loss: 0.7511259317398071\n",
      "Train Epoch 2/10 [ 5120/60000 ( 9%)] | Loss: 0.732841432094574\n",
      "Train Epoch 2/10 [ 5760/60000 (10%)] | Loss: 0.7972293496131897\n",
      "Train Epoch 2/10 [ 6400/60000 (11%)] | Loss: 0.7700663805007935\n",
      "Train Epoch 2/10 [ 7040/60000 (12%)] | Loss: 0.7392377257347107\n",
      "Train Epoch 2/10 [ 7680/60000 (13%)] | Loss: 0.6442486643791199\n",
      "Train Epoch 2/10 [ 8320/60000 (14%)] | Loss: 0.7397693395614624\n",
      "Train Epoch 2/10 [ 8960/60000 (15%)] | Loss: 0.965192973613739\n",
      "Train Epoch 2/10 [ 9600/60000 (16%)] | Loss: 0.9091812968254089\n",
      "Train Epoch 2/10 [10240/60000 (17%)] | Loss: 0.7320971488952637\n",
      "Train Epoch 2/10 [10880/60000 (18%)] | Loss: 0.8970313668251038\n",
      "Train Epoch 2/10 [11520/60000 (19%)] | Loss: 0.7212427258491516\n",
      "Train Epoch 2/10 [12160/60000 (20%)] | Loss: 0.5075454711914062\n",
      "Train Epoch 2/10 [12800/60000 (21%)] | Loss: 0.6920479536056519\n",
      "Train Epoch 2/10 [13440/60000 (22%)] | Loss: 0.4947071373462677\n",
      "Train Epoch 2/10 [14080/60000 (23%)] | Loss: 0.8706715703010559\n",
      "Train Epoch 2/10 [14720/60000 (25%)] | Loss: 0.659464955329895\n",
      "Train Epoch 2/10 [15360/60000 (26%)] | Loss: 0.7464880347251892\n",
      "Train Epoch 2/10 [16000/60000 (27%)] | Loss: 0.6055349111557007\n",
      "Train Epoch 2/10 [16640/60000 (28%)] | Loss: 0.7357679605484009\n",
      "Train Epoch 2/10 [17280/60000 (29%)] | Loss: 0.7246465682983398\n",
      "Train Epoch 2/10 [17920/60000 (30%)] | Loss: 0.7666370272636414\n",
      "Train Epoch 2/10 [18560/60000 (31%)] | Loss: 0.6634315252304077\n",
      "Train Epoch 2/10 [19200/60000 (32%)] | Loss: 0.8519631028175354\n",
      "Train Epoch 2/10 [19840/60000 (33%)] | Loss: 0.6059739589691162\n",
      "Train Epoch 2/10 [20480/60000 (34%)] | Loss: 0.7911792397499084\n",
      "Train Epoch 2/10 [21120/60000 (35%)] | Loss: 0.5403944253921509\n",
      "Train Epoch 2/10 [21760/60000 (36%)] | Loss: 0.5132740139961243\n",
      "Train Epoch 2/10 [22400/60000 (37%)] | Loss: 0.5061441659927368\n",
      "Train Epoch 2/10 [23040/60000 (38%)] | Loss: 0.633400022983551\n",
      "Train Epoch 2/10 [23680/60000 (39%)] | Loss: 0.5406278967857361\n",
      "Train Epoch 2/10 [24320/60000 (41%)] | Loss: 0.9987389445304871\n",
      "Train Epoch 2/10 [24960/60000 (42%)] | Loss: 0.7016938328742981\n",
      "Train Epoch 2/10 [25600/60000 (43%)] | Loss: 0.7150079607963562\n",
      "Train Epoch 2/10 [26240/60000 (44%)] | Loss: 0.7313212752342224\n",
      "Train Epoch 2/10 [26880/60000 (45%)] | Loss: 0.7892798781394958\n",
      "Train Epoch 2/10 [27520/60000 (46%)] | Loss: 0.6090155243873596\n",
      "Train Epoch 2/10 [28160/60000 (47%)] | Loss: 0.6736676096916199\n",
      "Train Epoch 2/10 [28800/60000 (48%)] | Loss: 0.7578592896461487\n",
      "Train Epoch 2/10 [29440/60000 (49%)] | Loss: 0.771305501461029\n",
      "Train Epoch 2/10 [30080/60000 (50%)] | Loss: 0.9409695267677307\n",
      "Train Epoch 2/10 [30720/60000 (51%)] | Loss: 0.7541500926017761\n",
      "Train Epoch 2/10 [31360/60000 (52%)] | Loss: 0.5825963616371155\n",
      "Train Epoch 2/10 [32000/60000 (53%)] | Loss: 0.6254783868789673\n",
      "Train Epoch 2/10 [32640/60000 (54%)] | Loss: 0.603015124797821\n",
      "Train Epoch 2/10 [33280/60000 (55%)] | Loss: 0.503837525844574\n",
      "Train Epoch 2/10 [33920/60000 (57%)] | Loss: 0.6458497643470764\n",
      "Train Epoch 2/10 [34560/60000 (58%)] | Loss: 0.609861433506012\n",
      "Train Epoch 2/10 [35200/60000 (59%)] | Loss: 0.895995557308197\n",
      "Train Epoch 2/10 [35840/60000 (60%)] | Loss: 0.6527575254440308\n",
      "Train Epoch 2/10 [36480/60000 (61%)] | Loss: 0.6053891181945801\n",
      "Train Epoch 2/10 [37120/60000 (62%)] | Loss: 0.6212140917778015\n",
      "Train Epoch 2/10 [37760/60000 (63%)] | Loss: 0.4766913056373596\n",
      "Train Epoch 2/10 [38400/60000 (64%)] | Loss: 0.4846542477607727\n",
      "Train Epoch 2/10 [39040/60000 (65%)] | Loss: 0.7372525930404663\n",
      "Train Epoch 2/10 [39680/60000 (66%)] | Loss: 0.9088954329490662\n",
      "Train Epoch 2/10 [40320/60000 (67%)] | Loss: 0.646930456161499\n",
      "Train Epoch 2/10 [40960/60000 (68%)] | Loss: 0.6319646835327148\n",
      "Train Epoch 2/10 [41600/60000 (69%)] | Loss: 0.6034080386161804\n",
      "Train Epoch 2/10 [42240/60000 (70%)] | Loss: 0.7340583801269531\n",
      "Train Epoch 2/10 [42880/60000 (71%)] | Loss: 0.5404810905456543\n",
      "Train Epoch 2/10 [43520/60000 (73%)] | Loss: 0.6152623891830444\n",
      "Train Epoch 2/10 [44160/60000 (74%)] | Loss: 0.4912625551223755\n",
      "Train Epoch 2/10 [44800/60000 (75%)] | Loss: 0.7701754570007324\n",
      "Train Epoch 2/10 [45440/60000 (76%)] | Loss: 0.5844247341156006\n",
      "Train Epoch 2/10 [46080/60000 (77%)] | Loss: 0.6718390583992004\n",
      "Train Epoch 2/10 [46720/60000 (78%)] | Loss: 0.6384207010269165\n",
      "Train Epoch 2/10 [47360/60000 (79%)] | Loss: 0.5937191843986511\n",
      "Train Epoch 2/10 [48000/60000 (80%)] | Loss: 0.803131103515625\n",
      "Train Epoch 2/10 [48640/60000 (81%)] | Loss: 0.5907245874404907\n",
      "Train Epoch 2/10 [49280/60000 (82%)] | Loss: 0.5447918176651001\n",
      "Train Epoch 2/10 [49920/60000 (83%)] | Loss: 0.5083674788475037\n",
      "Train Epoch 2/10 [50560/60000 (84%)] | Loss: 0.6372584104537964\n",
      "Train Epoch 2/10 [51200/60000 (85%)] | Loss: 0.4868892729282379\n",
      "Train Epoch 2/10 [51840/60000 (86%)] | Loss: 0.5274669528007507\n",
      "Train Epoch 2/10 [52480/60000 (87%)] | Loss: 0.5063033103942871\n",
      "Train Epoch 2/10 [53120/60000 (89%)] | Loss: 0.623924732208252\n",
      "Train Epoch 2/10 [53760/60000 (90%)] | Loss: 0.6294915676116943\n",
      "Train Epoch 2/10 [54400/60000 (91%)] | Loss: 0.4278542697429657\n",
      "Train Epoch 2/10 [55040/60000 (92%)] | Loss: 0.6110281348228455\n",
      "Train Epoch 2/10 [55680/60000 (93%)] | Loss: 0.8642185926437378\n",
      "Train Epoch 2/10 [56320/60000 (94%)] | Loss: 0.5146229267120361\n",
      "Train Epoch 2/10 [56960/60000 (95%)] | Loss: 0.44446322321891785\n",
      "Train Epoch 2/10 [57600/60000 (96%)] | Loss: 0.4279870390892029\n",
      "Train Epoch 2/10 [58240/60000 (97%)] | Loss: 0.5327481031417847\n",
      "Train Epoch 2/10 [58880/60000 (98%)] | Loss: 0.4634387791156769\n",
      "Train Epoch 2/10 [59520/60000 (99%)] | Loss: 0.7819372415542603\n",
      "\n",
      "Train Acc.: [50965/60000 (85%)]\n",
      "Test Acc.:  [ 8724/10000 (87%)]\n",
      "\n",
      "Train Epoch 3/10 [    0/60000 ( 0%)] | Loss: 0.6492429375648499\n",
      "Train Epoch 3/10 [  640/60000 ( 1%)] | Loss: 0.49003365635871887\n",
      "Train Epoch 3/10 [ 1280/60000 ( 2%)] | Loss: 0.46378087997436523\n",
      "Train Epoch 3/10 [ 1920/60000 ( 3%)] | Loss: 0.6417970657348633\n",
      "Train Epoch 3/10 [ 2560/60000 ( 4%)] | Loss: 0.5204773545265198\n",
      "Train Epoch 3/10 [ 3200/60000 ( 5%)] | Loss: 0.4604205787181854\n",
      "Train Epoch 3/10 [ 3840/60000 ( 6%)] | Loss: 0.7510509490966797\n",
      "Train Epoch 3/10 [ 4480/60000 ( 7%)] | Loss: 0.4498482644557953\n",
      "Train Epoch 3/10 [ 5120/60000 ( 9%)] | Loss: 0.43288856744766235\n",
      "Train Epoch 3/10 [ 5760/60000 (10%)] | Loss: 0.46894288063049316\n",
      "Train Epoch 3/10 [ 6400/60000 (11%)] | Loss: 0.42523953318595886\n",
      "Train Epoch 3/10 [ 7040/60000 (12%)] | Loss: 0.5304712057113647\n",
      "Train Epoch 3/10 [ 7680/60000 (13%)] | Loss: 0.8592515587806702\n",
      "Train Epoch 3/10 [ 8320/60000 (14%)] | Loss: 0.6108317971229553\n",
      "Train Epoch 3/10 [ 8960/60000 (15%)] | Loss: 0.6253120303153992\n",
      "Train Epoch 3/10 [ 9600/60000 (16%)] | Loss: 0.6900576949119568\n",
      "Train Epoch 3/10 [10240/60000 (17%)] | Loss: 0.4854946732521057\n",
      "Train Epoch 3/10 [10880/60000 (18%)] | Loss: 0.5811349153518677\n",
      "Train Epoch 3/10 [11520/60000 (19%)] | Loss: 0.5578106641769409\n",
      "Train Epoch 3/10 [12160/60000 (20%)] | Loss: 0.6081429719924927\n",
      "Train Epoch 3/10 [12800/60000 (21%)] | Loss: 0.5767413973808289\n",
      "Train Epoch 3/10 [13440/60000 (22%)] | Loss: 0.5241807699203491\n",
      "Train Epoch 3/10 [14080/60000 (23%)] | Loss: 0.5276305079460144\n",
      "Train Epoch 3/10 [14720/60000 (25%)] | Loss: 0.2819558084011078\n",
      "Train Epoch 3/10 [15360/60000 (26%)] | Loss: 0.6141353249549866\n",
      "Train Epoch 3/10 [16000/60000 (27%)] | Loss: 0.6022579669952393\n",
      "Train Epoch 3/10 [16640/60000 (28%)] | Loss: 0.6414514780044556\n",
      "Train Epoch 3/10 [17280/60000 (29%)] | Loss: 0.4579477608203888\n",
      "Train Epoch 3/10 [17920/60000 (30%)] | Loss: 0.5860756039619446\n",
      "Train Epoch 3/10 [18560/60000 (31%)] | Loss: 0.5893081426620483\n",
      "Train Epoch 3/10 [19200/60000 (32%)] | Loss: 0.7529034614562988\n",
      "Train Epoch 3/10 [19840/60000 (33%)] | Loss: 0.31506022810935974\n",
      "Train Epoch 3/10 [20480/60000 (34%)] | Loss: 0.5193575024604797\n",
      "Train Epoch 3/10 [21120/60000 (35%)] | Loss: 0.4280197322368622\n",
      "Train Epoch 3/10 [21760/60000 (36%)] | Loss: 0.6145663261413574\n",
      "Train Epoch 3/10 [22400/60000 (37%)] | Loss: 0.6129470467567444\n",
      "Train Epoch 3/10 [23040/60000 (38%)] | Loss: 0.4965391755104065\n",
      "Train Epoch 3/10 [23680/60000 (39%)] | Loss: 0.6280120611190796\n",
      "Train Epoch 3/10 [24320/60000 (41%)] | Loss: 0.5647398233413696\n",
      "Train Epoch 3/10 [24960/60000 (42%)] | Loss: 0.4593421518802643\n",
      "Train Epoch 3/10 [25600/60000 (43%)] | Loss: 0.3537386953830719\n",
      "Train Epoch 3/10 [26240/60000 (44%)] | Loss: 0.38678690791130066\n",
      "Train Epoch 3/10 [26880/60000 (45%)] | Loss: 0.3602074384689331\n",
      "Train Epoch 3/10 [27520/60000 (46%)] | Loss: 0.5889188051223755\n",
      "Train Epoch 3/10 [28160/60000 (47%)] | Loss: 0.5922374725341797\n",
      "Train Epoch 3/10 [28800/60000 (48%)] | Loss: 0.6276886463165283\n",
      "Train Epoch 3/10 [29440/60000 (49%)] | Loss: 0.6186249256134033\n",
      "Train Epoch 3/10 [30080/60000 (50%)] | Loss: 0.415139764547348\n",
      "Train Epoch 3/10 [30720/60000 (51%)] | Loss: 0.46110326051712036\n",
      "Train Epoch 3/10 [31360/60000 (52%)] | Loss: 0.6284090876579285\n",
      "Train Epoch 3/10 [32000/60000 (53%)] | Loss: 0.5710302591323853\n",
      "Train Epoch 3/10 [32640/60000 (54%)] | Loss: 0.42425841093063354\n",
      "Train Epoch 3/10 [33280/60000 (55%)] | Loss: 0.6125811338424683\n",
      "Train Epoch 3/10 [33920/60000 (57%)] | Loss: 0.5696542859077454\n",
      "Train Epoch 3/10 [34560/60000 (58%)] | Loss: 0.34225690364837646\n",
      "Train Epoch 3/10 [35200/60000 (59%)] | Loss: 0.7855932116508484\n",
      "Train Epoch 3/10 [35840/60000 (60%)] | Loss: 0.37315934896469116\n",
      "Train Epoch 3/10 [36480/60000 (61%)] | Loss: 0.6475945115089417\n",
      "Train Epoch 3/10 [37120/60000 (62%)] | Loss: 0.42334261536598206\n",
      "Train Epoch 3/10 [37760/60000 (63%)] | Loss: 0.4642620086669922\n",
      "Train Epoch 3/10 [38400/60000 (64%)] | Loss: 0.3793422281742096\n",
      "Train Epoch 3/10 [39040/60000 (65%)] | Loss: 0.5840235352516174\n",
      "Train Epoch 3/10 [39680/60000 (66%)] | Loss: 0.45832332968711853\n",
      "Train Epoch 3/10 [40320/60000 (67%)] | Loss: 0.533481776714325\n",
      "Train Epoch 3/10 [40960/60000 (68%)] | Loss: 0.6286743879318237\n",
      "Train Epoch 3/10 [41600/60000 (69%)] | Loss: 0.36159175634384155\n",
      "Train Epoch 3/10 [42240/60000 (70%)] | Loss: 0.5632724165916443\n",
      "Train Epoch 3/10 [42880/60000 (71%)] | Loss: 0.32531142234802246\n",
      "Train Epoch 3/10 [43520/60000 (73%)] | Loss: 0.38829848170280457\n",
      "Train Epoch 3/10 [44160/60000 (74%)] | Loss: 0.45079025626182556\n",
      "Train Epoch 3/10 [44800/60000 (75%)] | Loss: 0.39120322465896606\n",
      "Train Epoch 3/10 [45440/60000 (76%)] | Loss: 0.5177749991416931\n",
      "Train Epoch 3/10 [46080/60000 (77%)] | Loss: 0.35548117756843567\n",
      "Train Epoch 3/10 [46720/60000 (78%)] | Loss: 0.5711053609848022\n",
      "Train Epoch 3/10 [47360/60000 (79%)] | Loss: 0.29632216691970825\n",
      "Train Epoch 3/10 [48000/60000 (80%)] | Loss: 0.6669837236404419\n",
      "Train Epoch 3/10 [48640/60000 (81%)] | Loss: 0.4525098204612732\n",
      "Train Epoch 3/10 [49280/60000 (82%)] | Loss: 0.5653949975967407\n",
      "Train Epoch 3/10 [49920/60000 (83%)] | Loss: 0.4325977861881256\n",
      "Train Epoch 3/10 [50560/60000 (84%)] | Loss: 0.47838911414146423\n",
      "Train Epoch 3/10 [51200/60000 (85%)] | Loss: 0.452730655670166\n",
      "Train Epoch 3/10 [51840/60000 (86%)] | Loss: 0.600573718547821\n",
      "Train Epoch 3/10 [52480/60000 (87%)] | Loss: 0.4569661021232605\n",
      "Train Epoch 3/10 [53120/60000 (89%)] | Loss: 0.39296239614486694\n",
      "Train Epoch 3/10 [53760/60000 (90%)] | Loss: 0.6296354532241821\n",
      "Train Epoch 3/10 [54400/60000 (91%)] | Loss: 0.5991979837417603\n",
      "Train Epoch 3/10 [55040/60000 (92%)] | Loss: 0.4822337031364441\n",
      "Train Epoch 3/10 [55680/60000 (93%)] | Loss: 0.5714078545570374\n",
      "Train Epoch 3/10 [56320/60000 (94%)] | Loss: 0.4157535433769226\n",
      "Train Epoch 3/10 [56960/60000 (95%)] | Loss: 0.3876926898956299\n",
      "Train Epoch 3/10 [57600/60000 (96%)] | Loss: 0.6135618090629578\n",
      "Train Epoch 3/10 [58240/60000 (97%)] | Loss: 0.3455651104450226\n",
      "Train Epoch 3/10 [58880/60000 (98%)] | Loss: 0.45993417501449585\n",
      "Train Epoch 3/10 [59520/60000 (99%)] | Loss: 0.4574527144432068\n",
      "\n",
      "Train Acc.: [52261/60000 (87%)]\n",
      "Test Acc.:  [ 8860/10000 (89%)]\n",
      "\n",
      "Train Epoch 4/10 [    0/60000 ( 0%)] | Loss: 0.5392698049545288\n",
      "Train Epoch 4/10 [  640/60000 ( 1%)] | Loss: 0.21735689043998718\n",
      "Train Epoch 4/10 [ 1280/60000 ( 2%)] | Loss: 0.32669422030448914\n",
      "Train Epoch 4/10 [ 1920/60000 ( 3%)] | Loss: 0.4487023949623108\n",
      "Train Epoch 4/10 [ 2560/60000 ( 4%)] | Loss: 0.47365134954452515\n",
      "Train Epoch 4/10 [ 3200/60000 ( 5%)] | Loss: 0.34378328919410706\n",
      "Train Epoch 4/10 [ 3840/60000 ( 6%)] | Loss: 0.43698999285697937\n",
      "Train Epoch 4/10 [ 4480/60000 ( 7%)] | Loss: 0.7470570802688599\n",
      "Train Epoch 4/10 [ 5120/60000 ( 9%)] | Loss: 0.5796613097190857\n",
      "Train Epoch 4/10 [ 5760/60000 (10%)] | Loss: 0.4053094983100891\n",
      "Train Epoch 4/10 [ 6400/60000 (11%)] | Loss: 0.4864720106124878\n",
      "Train Epoch 4/10 [ 7040/60000 (12%)] | Loss: 0.6626917123794556\n",
      "Train Epoch 4/10 [ 7680/60000 (13%)] | Loss: 0.4247383177280426\n",
      "Train Epoch 4/10 [ 8320/60000 (14%)] | Loss: 0.40702345967292786\n",
      "Train Epoch 4/10 [ 8960/60000 (15%)] | Loss: 0.4366852939128876\n",
      "Train Epoch 4/10 [ 9600/60000 (16%)] | Loss: 0.34706586599349976\n",
      "Train Epoch 4/10 [10240/60000 (17%)] | Loss: 0.37636303901672363\n",
      "Train Epoch 4/10 [10880/60000 (18%)] | Loss: 0.6503503322601318\n",
      "Train Epoch 4/10 [11520/60000 (19%)] | Loss: 0.3574676513671875\n",
      "Train Epoch 4/10 [12160/60000 (20%)] | Loss: 0.6957511305809021\n",
      "Train Epoch 4/10 [12800/60000 (21%)] | Loss: 0.329433798789978\n",
      "Train Epoch 4/10 [13440/60000 (22%)] | Loss: 0.27648043632507324\n",
      "Train Epoch 4/10 [14080/60000 (23%)] | Loss: 0.4898437559604645\n",
      "Train Epoch 4/10 [14720/60000 (25%)] | Loss: 0.3920270502567291\n",
      "Train Epoch 4/10 [15360/60000 (26%)] | Loss: 0.6791170835494995\n",
      "Train Epoch 4/10 [16000/60000 (27%)] | Loss: 0.30151957273483276\n",
      "Train Epoch 4/10 [16640/60000 (28%)] | Loss: 0.43505096435546875\n",
      "Train Epoch 4/10 [17280/60000 (29%)] | Loss: 0.41227057576179504\n",
      "Train Epoch 4/10 [17920/60000 (30%)] | Loss: 0.46145519614219666\n",
      "Train Epoch 4/10 [18560/60000 (31%)] | Loss: 0.7612681984901428\n",
      "Train Epoch 4/10 [19200/60000 (32%)] | Loss: 0.2312852144241333\n",
      "Train Epoch 4/10 [19840/60000 (33%)] | Loss: 0.45999616384506226\n",
      "Train Epoch 4/10 [20480/60000 (34%)] | Loss: 0.5929744839668274\n",
      "Train Epoch 4/10 [21120/60000 (35%)] | Loss: 0.5811691880226135\n",
      "Train Epoch 4/10 [21760/60000 (36%)] | Loss: 0.5623226165771484\n",
      "Train Epoch 4/10 [22400/60000 (37%)] | Loss: 0.3959289491176605\n",
      "Train Epoch 4/10 [23040/60000 (38%)] | Loss: 0.3849030137062073\n",
      "Train Epoch 4/10 [23680/60000 (39%)] | Loss: 0.37920472025871277\n",
      "Train Epoch 4/10 [24320/60000 (41%)] | Loss: 0.5923488140106201\n",
      "Train Epoch 4/10 [24960/60000 (42%)] | Loss: 0.5324820280075073\n",
      "Train Epoch 4/10 [25600/60000 (43%)] | Loss: 0.4582590162754059\n",
      "Train Epoch 4/10 [26240/60000 (44%)] | Loss: 0.3749033212661743\n",
      "Train Epoch 4/10 [26880/60000 (45%)] | Loss: 0.5197786688804626\n",
      "Train Epoch 4/10 [27520/60000 (46%)] | Loss: 0.5940607190132141\n",
      "Train Epoch 4/10 [28160/60000 (47%)] | Loss: 0.50668865442276\n",
      "Train Epoch 4/10 [28800/60000 (48%)] | Loss: 0.49001365900039673\n",
      "Train Epoch 4/10 [29440/60000 (49%)] | Loss: 0.5432003736495972\n",
      "Train Epoch 4/10 [30080/60000 (50%)] | Loss: 0.44816550612449646\n",
      "Train Epoch 4/10 [30720/60000 (51%)] | Loss: 0.5055387020111084\n",
      "Train Epoch 4/10 [31360/60000 (52%)] | Loss: 0.5604158639907837\n",
      "Train Epoch 4/10 [32000/60000 (53%)] | Loss: 0.3906019628047943\n",
      "Train Epoch 4/10 [32640/60000 (54%)] | Loss: 0.4304390549659729\n",
      "Train Epoch 4/10 [33280/60000 (55%)] | Loss: 0.5765042901039124\n",
      "Train Epoch 4/10 [33920/60000 (57%)] | Loss: 0.7355489134788513\n",
      "Train Epoch 4/10 [34560/60000 (58%)] | Loss: 0.6216358542442322\n",
      "Train Epoch 4/10 [35200/60000 (59%)] | Loss: 0.3180569112300873\n",
      "Train Epoch 4/10 [35840/60000 (60%)] | Loss: 0.3141081631183624\n",
      "Train Epoch 4/10 [36480/60000 (61%)] | Loss: 0.3735028803348541\n",
      "Train Epoch 4/10 [37120/60000 (62%)] | Loss: 0.6957363486289978\n",
      "Train Epoch 4/10 [37760/60000 (63%)] | Loss: 0.7057942152023315\n",
      "Train Epoch 4/10 [38400/60000 (64%)] | Loss: 0.3793568015098572\n",
      "Train Epoch 4/10 [39040/60000 (65%)] | Loss: 0.5419948101043701\n",
      "Train Epoch 4/10 [39680/60000 (66%)] | Loss: 0.44274023175239563\n",
      "Train Epoch 4/10 [40320/60000 (67%)] | Loss: 0.4782443940639496\n",
      "Train Epoch 4/10 [40960/60000 (68%)] | Loss: 0.29810136556625366\n",
      "Train Epoch 4/10 [41600/60000 (69%)] | Loss: 0.300401896238327\n",
      "Train Epoch 4/10 [42240/60000 (70%)] | Loss: 0.39564377069473267\n",
      "Train Epoch 4/10 [42880/60000 (71%)] | Loss: 0.48193424940109253\n",
      "Train Epoch 4/10 [43520/60000 (73%)] | Loss: 0.3797913193702698\n",
      "Train Epoch 4/10 [44160/60000 (74%)] | Loss: 0.42437928915023804\n",
      "Train Epoch 4/10 [44800/60000 (75%)] | Loss: 0.30336663126945496\n",
      "Train Epoch 4/10 [45440/60000 (76%)] | Loss: 0.37446266412734985\n",
      "Train Epoch 4/10 [46080/60000 (77%)] | Loss: 0.4652722179889679\n",
      "Train Epoch 4/10 [46720/60000 (78%)] | Loss: 0.5205678343772888\n",
      "Train Epoch 4/10 [47360/60000 (79%)] | Loss: 0.5486935973167419\n",
      "Train Epoch 4/10 [48000/60000 (80%)] | Loss: 0.5160101056098938\n",
      "Train Epoch 4/10 [48640/60000 (81%)] | Loss: 0.46148404479026794\n",
      "Train Epoch 4/10 [49280/60000 (82%)] | Loss: 0.6018615961074829\n",
      "Train Epoch 4/10 [49920/60000 (83%)] | Loss: 0.39374932646751404\n",
      "Train Epoch 4/10 [50560/60000 (84%)] | Loss: 0.39141273498535156\n",
      "Train Epoch 4/10 [51200/60000 (85%)] | Loss: 0.3931075930595398\n",
      "Train Epoch 4/10 [51840/60000 (86%)] | Loss: 0.4688150882720947\n",
      "Train Epoch 4/10 [52480/60000 (87%)] | Loss: 0.3607316017150879\n",
      "Train Epoch 4/10 [53120/60000 (89%)] | Loss: 0.38487672805786133\n",
      "Train Epoch 4/10 [53760/60000 (90%)] | Loss: 0.4242646098136902\n",
      "Train Epoch 4/10 [54400/60000 (91%)] | Loss: 0.5694689750671387\n",
      "Train Epoch 4/10 [55040/60000 (92%)] | Loss: 0.26693373918533325\n",
      "Train Epoch 4/10 [55680/60000 (93%)] | Loss: 0.5814343094825745\n",
      "Train Epoch 4/10 [56320/60000 (94%)] | Loss: 0.3168371319770813\n",
      "Train Epoch 4/10 [56960/60000 (95%)] | Loss: 0.23462533950805664\n",
      "Train Epoch 4/10 [57600/60000 (96%)] | Loss: 0.4892890751361847\n",
      "Train Epoch 4/10 [58240/60000 (97%)] | Loss: 0.5314331650733948\n",
      "Train Epoch 4/10 [58880/60000 (98%)] | Loss: 0.4251488447189331\n",
      "Train Epoch 4/10 [59520/60000 (99%)] | Loss: 0.44511669874191284\n",
      "\n",
      "Train Acc.: [52993/60000 (88%)]\n",
      "Test Acc.:  [ 8912/10000 (89%)]\n",
      "\n",
      "Train Epoch 5/10 [    0/60000 ( 0%)] | Loss: 0.42424309253692627\n",
      "Train Epoch 5/10 [  640/60000 ( 1%)] | Loss: 0.3595908284187317\n",
      "Train Epoch 5/10 [ 1280/60000 ( 2%)] | Loss: 0.555663526058197\n",
      "Train Epoch 5/10 [ 1920/60000 ( 3%)] | Loss: 0.36273303627967834\n",
      "Train Epoch 5/10 [ 2560/60000 ( 4%)] | Loss: 0.4245751202106476\n",
      "Train Epoch 5/10 [ 3200/60000 ( 5%)] | Loss: 0.5014001131057739\n",
      "Train Epoch 5/10 [ 3840/60000 ( 6%)] | Loss: 0.598471462726593\n",
      "Train Epoch 5/10 [ 4480/60000 ( 7%)] | Loss: 0.3572738766670227\n",
      "Train Epoch 5/10 [ 5120/60000 ( 9%)] | Loss: 0.5048521757125854\n",
      "Train Epoch 5/10 [ 5760/60000 (10%)] | Loss: 0.24292652308940887\n",
      "Train Epoch 5/10 [ 6400/60000 (11%)] | Loss: 0.44751685857772827\n",
      "Train Epoch 5/10 [ 7040/60000 (12%)] | Loss: 0.47730645537376404\n",
      "Train Epoch 5/10 [ 7680/60000 (13%)] | Loss: 0.44352811574935913\n",
      "Train Epoch 5/10 [ 8320/60000 (14%)] | Loss: 0.6376466155052185\n",
      "Train Epoch 5/10 [ 8960/60000 (15%)] | Loss: 0.2931573688983917\n",
      "Train Epoch 5/10 [ 9600/60000 (16%)] | Loss: 0.39218756556510925\n",
      "Train Epoch 5/10 [10240/60000 (17%)] | Loss: 0.5612881183624268\n",
      "Train Epoch 5/10 [10880/60000 (18%)] | Loss: 0.6059856414794922\n",
      "Train Epoch 5/10 [11520/60000 (19%)] | Loss: 0.5393974781036377\n",
      "Train Epoch 5/10 [12160/60000 (20%)] | Loss: 0.6860637664794922\n",
      "Train Epoch 5/10 [12800/60000 (21%)] | Loss: 0.34142187237739563\n",
      "Train Epoch 5/10 [13440/60000 (22%)] | Loss: 0.3749751150608063\n",
      "Train Epoch 5/10 [14080/60000 (23%)] | Loss: 0.3689941465854645\n",
      "Train Epoch 5/10 [14720/60000 (25%)] | Loss: 0.3326440453529358\n",
      "Train Epoch 5/10 [15360/60000 (26%)] | Loss: 0.3448193371295929\n",
      "Train Epoch 5/10 [16000/60000 (27%)] | Loss: 0.6563239097595215\n",
      "Train Epoch 5/10 [16640/60000 (28%)] | Loss: 0.43210357427597046\n",
      "Train Epoch 5/10 [17280/60000 (29%)] | Loss: 0.30290016531944275\n",
      "Train Epoch 5/10 [17920/60000 (30%)] | Loss: 0.32894331216812134\n",
      "Train Epoch 5/10 [18560/60000 (31%)] | Loss: 0.38722285628318787\n",
      "Train Epoch 5/10 [19200/60000 (32%)] | Loss: 0.9114763736724854\n",
      "Train Epoch 5/10 [19840/60000 (33%)] | Loss: 0.5809257626533508\n",
      "Train Epoch 5/10 [20480/60000 (34%)] | Loss: 0.36183351278305054\n",
      "Train Epoch 5/10 [21120/60000 (35%)] | Loss: 0.3285291790962219\n",
      "Train Epoch 5/10 [21760/60000 (36%)] | Loss: 0.5345020294189453\n",
      "Train Epoch 5/10 [22400/60000 (37%)] | Loss: 0.33245447278022766\n",
      "Train Epoch 5/10 [23040/60000 (38%)] | Loss: 0.339397132396698\n",
      "Train Epoch 5/10 [23680/60000 (39%)] | Loss: 0.36021265387535095\n",
      "Train Epoch 5/10 [24320/60000 (41%)] | Loss: 0.484525203704834\n",
      "Train Epoch 5/10 [24960/60000 (42%)] | Loss: 0.4101788103580475\n",
      "Train Epoch 5/10 [25600/60000 (43%)] | Loss: 0.4821055829524994\n",
      "Train Epoch 5/10 [26240/60000 (44%)] | Loss: 0.5607445240020752\n",
      "Train Epoch 5/10 [26880/60000 (45%)] | Loss: 0.5225493907928467\n",
      "Train Epoch 5/10 [27520/60000 (46%)] | Loss: 0.24295727908611298\n",
      "Train Epoch 5/10 [28160/60000 (47%)] | Loss: 0.3704255521297455\n",
      "Train Epoch 5/10 [28800/60000 (48%)] | Loss: 0.22919520735740662\n",
      "Train Epoch 5/10 [29440/60000 (49%)] | Loss: 0.3290036916732788\n",
      "Train Epoch 5/10 [30080/60000 (50%)] | Loss: 0.3892818093299866\n",
      "Train Epoch 5/10 [30720/60000 (51%)] | Loss: 0.27927055954933167\n",
      "Train Epoch 5/10 [31360/60000 (52%)] | Loss: 0.30023980140686035\n",
      "Train Epoch 5/10 [32000/60000 (53%)] | Loss: 0.30714482069015503\n",
      "Train Epoch 5/10 [32640/60000 (54%)] | Loss: 0.3495276868343353\n",
      "Train Epoch 5/10 [33280/60000 (55%)] | Loss: 0.5822601318359375\n",
      "Train Epoch 5/10 [33920/60000 (57%)] | Loss: 0.5301488637924194\n",
      "Train Epoch 5/10 [34560/60000 (58%)] | Loss: 0.2533961534500122\n",
      "Train Epoch 5/10 [35200/60000 (59%)] | Loss: 0.49311894178390503\n",
      "Train Epoch 5/10 [35840/60000 (60%)] | Loss: 0.44309625029563904\n",
      "Train Epoch 5/10 [36480/60000 (61%)] | Loss: 0.5810042023658752\n",
      "Train Epoch 5/10 [37120/60000 (62%)] | Loss: 0.3931335508823395\n",
      "Train Epoch 5/10 [37760/60000 (63%)] | Loss: 0.3140079081058502\n",
      "Train Epoch 5/10 [38400/60000 (64%)] | Loss: 0.33195438981056213\n",
      "Train Epoch 5/10 [39040/60000 (65%)] | Loss: 0.42067909240722656\n",
      "Train Epoch 5/10 [39680/60000 (66%)] | Loss: 0.36894601583480835\n",
      "Train Epoch 5/10 [40320/60000 (67%)] | Loss: 0.5086774230003357\n",
      "Train Epoch 5/10 [40960/60000 (68%)] | Loss: 0.48399120569229126\n",
      "Train Epoch 5/10 [41600/60000 (69%)] | Loss: 0.2872242033481598\n",
      "Train Epoch 5/10 [42240/60000 (70%)] | Loss: 0.3128068149089813\n",
      "Train Epoch 5/10 [42880/60000 (71%)] | Loss: 0.16575904190540314\n",
      "Train Epoch 5/10 [43520/60000 (73%)] | Loss: 0.31033167243003845\n",
      "Train Epoch 5/10 [44160/60000 (74%)] | Loss: 0.48887261748313904\n",
      "Train Epoch 5/10 [44800/60000 (75%)] | Loss: 0.41434574127197266\n",
      "Train Epoch 5/10 [45440/60000 (76%)] | Loss: 0.2060086876153946\n",
      "Train Epoch 5/10 [46080/60000 (77%)] | Loss: 0.5089410543441772\n",
      "Train Epoch 5/10 [46720/60000 (78%)] | Loss: 0.31315895915031433\n",
      "Train Epoch 5/10 [47360/60000 (79%)] | Loss: 0.20806816220283508\n",
      "Train Epoch 5/10 [48000/60000 (80%)] | Loss: 0.40959933400154114\n",
      "Train Epoch 5/10 [48640/60000 (81%)] | Loss: 0.2946760654449463\n",
      "Train Epoch 5/10 [49280/60000 (82%)] | Loss: 0.4135849177837372\n",
      "Train Epoch 5/10 [49920/60000 (83%)] | Loss: 0.40892815589904785\n",
      "Train Epoch 5/10 [50560/60000 (84%)] | Loss: 0.28419220447540283\n",
      "Train Epoch 5/10 [51200/60000 (85%)] | Loss: 0.3568756878376007\n",
      "Train Epoch 5/10 [51840/60000 (86%)] | Loss: 0.2591220736503601\n",
      "Train Epoch 5/10 [52480/60000 (87%)] | Loss: 0.2480435073375702\n",
      "Train Epoch 5/10 [53120/60000 (89%)] | Loss: 0.2021237015724182\n",
      "Train Epoch 5/10 [53760/60000 (90%)] | Loss: 0.45160534977912903\n",
      "Train Epoch 5/10 [54400/60000 (91%)] | Loss: 0.6415451765060425\n",
      "Train Epoch 5/10 [55040/60000 (92%)] | Loss: 0.3534422218799591\n",
      "Train Epoch 5/10 [55680/60000 (93%)] | Loss: 0.3214971721172333\n",
      "Train Epoch 5/10 [56320/60000 (94%)] | Loss: 0.21318084001541138\n",
      "Train Epoch 5/10 [56960/60000 (95%)] | Loss: 0.31558141112327576\n",
      "Train Epoch 5/10 [57600/60000 (96%)] | Loss: 0.5909683108329773\n",
      "Train Epoch 5/10 [58240/60000 (97%)] | Loss: 0.34325549006462097\n",
      "Train Epoch 5/10 [58880/60000 (98%)] | Loss: 0.3553723394870758\n",
      "Train Epoch 5/10 [59520/60000 (99%)] | Loss: 0.3949599862098694\n",
      "\n",
      "Train Acc.: [53468/60000 (89%)]\n",
      "Test Acc.:  [ 8999/10000 (90%)]\n",
      "\n",
      "Train Epoch 6/10 [    0/60000 ( 0%)] | Loss: 0.28233617544174194\n",
      "Train Epoch 6/10 [  640/60000 ( 1%)] | Loss: 0.35028931498527527\n",
      "Train Epoch 6/10 [ 1280/60000 ( 2%)] | Loss: 0.40177658200263977\n",
      "Train Epoch 6/10 [ 1920/60000 ( 3%)] | Loss: 0.431970477104187\n",
      "Train Epoch 6/10 [ 2560/60000 ( 4%)] | Loss: 0.2976019084453583\n",
      "Train Epoch 6/10 [ 3200/60000 ( 5%)] | Loss: 0.3217844069004059\n",
      "Train Epoch 6/10 [ 3840/60000 ( 6%)] | Loss: 0.28105562925338745\n",
      "Train Epoch 6/10 [ 4480/60000 ( 7%)] | Loss: 0.2810259759426117\n",
      "Train Epoch 6/10 [ 5120/60000 ( 9%)] | Loss: 0.32211747765541077\n",
      "Train Epoch 6/10 [ 5760/60000 (10%)] | Loss: 0.3716358244419098\n",
      "Train Epoch 6/10 [ 6400/60000 (11%)] | Loss: 0.3859792947769165\n",
      "Train Epoch 6/10 [ 7040/60000 (12%)] | Loss: 0.5262753367424011\n",
      "Train Epoch 6/10 [ 7680/60000 (13%)] | Loss: 0.21204179525375366\n",
      "Train Epoch 6/10 [ 8320/60000 (14%)] | Loss: 0.6498963832855225\n",
      "Train Epoch 6/10 [ 8960/60000 (15%)] | Loss: 0.31602591276168823\n",
      "Train Epoch 6/10 [ 9600/60000 (16%)] | Loss: 0.6808636784553528\n",
      "Train Epoch 6/10 [10240/60000 (17%)] | Loss: 0.3566819429397583\n",
      "Train Epoch 6/10 [10880/60000 (18%)] | Loss: 0.3597775101661682\n",
      "Train Epoch 6/10 [11520/60000 (19%)] | Loss: 0.32867246866226196\n",
      "Train Epoch 6/10 [12160/60000 (20%)] | Loss: 0.3680647313594818\n",
      "Train Epoch 6/10 [12800/60000 (21%)] | Loss: 0.40587809681892395\n",
      "Train Epoch 6/10 [13440/60000 (22%)] | Loss: 0.4857516884803772\n",
      "Train Epoch 6/10 [14080/60000 (23%)] | Loss: 0.2663162350654602\n",
      "Train Epoch 6/10 [14720/60000 (25%)] | Loss: 0.2662517726421356\n",
      "Train Epoch 6/10 [15360/60000 (26%)] | Loss: 0.4579700231552124\n",
      "Train Epoch 6/10 [16000/60000 (27%)] | Loss: 0.5030728578567505\n",
      "Train Epoch 6/10 [16640/60000 (28%)] | Loss: 0.45873168110847473\n",
      "Train Epoch 6/10 [17280/60000 (29%)] | Loss: 0.36109769344329834\n",
      "Train Epoch 6/10 [17920/60000 (30%)] | Loss: 0.203258216381073\n",
      "Train Epoch 6/10 [18560/60000 (31%)] | Loss: 0.3512047827243805\n",
      "Train Epoch 6/10 [19200/60000 (32%)] | Loss: 0.5505384206771851\n",
      "Train Epoch 6/10 [19840/60000 (33%)] | Loss: 0.5133807063102722\n",
      "Train Epoch 6/10 [20480/60000 (34%)] | Loss: 0.3258424401283264\n",
      "Train Epoch 6/10 [21120/60000 (35%)] | Loss: 0.5778064727783203\n",
      "Train Epoch 6/10 [21760/60000 (36%)] | Loss: 0.5386150479316711\n",
      "Train Epoch 6/10 [22400/60000 (37%)] | Loss: 0.25232648849487305\n",
      "Train Epoch 6/10 [23040/60000 (38%)] | Loss: 0.29251188039779663\n",
      "Train Epoch 6/10 [23680/60000 (39%)] | Loss: 0.48924505710601807\n",
      "Train Epoch 6/10 [24320/60000 (41%)] | Loss: 0.4739781320095062\n",
      "Train Epoch 6/10 [24960/60000 (42%)] | Loss: 0.2672516703605652\n",
      "Train Epoch 6/10 [25600/60000 (43%)] | Loss: 0.3122529983520508\n",
      "Train Epoch 6/10 [26240/60000 (44%)] | Loss: 0.40350431203842163\n",
      "Train Epoch 6/10 [26880/60000 (45%)] | Loss: 0.505806028842926\n",
      "Train Epoch 6/10 [27520/60000 (46%)] | Loss: 0.5289625525474548\n",
      "Train Epoch 6/10 [28160/60000 (47%)] | Loss: 0.22116665542125702\n",
      "Train Epoch 6/10 [28800/60000 (48%)] | Loss: 0.585669219493866\n",
      "Train Epoch 6/10 [29440/60000 (49%)] | Loss: 0.4001261591911316\n",
      "Train Epoch 6/10 [30080/60000 (50%)] | Loss: 0.39112234115600586\n",
      "Train Epoch 6/10 [30720/60000 (51%)] | Loss: 0.19203060865402222\n",
      "Train Epoch 6/10 [31360/60000 (52%)] | Loss: 0.3608025312423706\n",
      "Train Epoch 6/10 [32000/60000 (53%)] | Loss: 0.55116868019104\n",
      "Train Epoch 6/10 [32640/60000 (54%)] | Loss: 0.5255843997001648\n",
      "Train Epoch 6/10 [33280/60000 (55%)] | Loss: 0.3171980381011963\n",
      "Train Epoch 6/10 [33920/60000 (57%)] | Loss: 0.42810922861099243\n",
      "Train Epoch 6/10 [34560/60000 (58%)] | Loss: 0.47664564847946167\n",
      "Train Epoch 6/10 [35200/60000 (59%)] | Loss: 0.34162551164627075\n",
      "Train Epoch 6/10 [35840/60000 (60%)] | Loss: 0.321503221988678\n",
      "Train Epoch 6/10 [36480/60000 (61%)] | Loss: 0.5339962244033813\n",
      "Train Epoch 6/10 [37120/60000 (62%)] | Loss: 0.2807469666004181\n",
      "Train Epoch 6/10 [37760/60000 (63%)] | Loss: 0.40910983085632324\n",
      "Train Epoch 6/10 [38400/60000 (64%)] | Loss: 0.3399275243282318\n",
      "Train Epoch 6/10 [39040/60000 (65%)] | Loss: 0.2100578248500824\n",
      "Train Epoch 6/10 [39680/60000 (66%)] | Loss: 0.4310419261455536\n",
      "Train Epoch 6/10 [40320/60000 (67%)] | Loss: 0.26543718576431274\n",
      "Train Epoch 6/10 [40960/60000 (68%)] | Loss: 0.3304218351840973\n",
      "Train Epoch 6/10 [41600/60000 (69%)] | Loss: 0.4803484380245209\n",
      "Train Epoch 6/10 [42240/60000 (70%)] | Loss: 0.21045006811618805\n",
      "Train Epoch 6/10 [42880/60000 (71%)] | Loss: 0.36354559659957886\n",
      "Train Epoch 6/10 [43520/60000 (73%)] | Loss: 0.2398509681224823\n",
      "Train Epoch 6/10 [44160/60000 (74%)] | Loss: 0.4085770547389984\n",
      "Train Epoch 6/10 [44800/60000 (75%)] | Loss: 0.5561525821685791\n",
      "Train Epoch 6/10 [45440/60000 (76%)] | Loss: 0.2664448618888855\n",
      "Train Epoch 6/10 [46080/60000 (77%)] | Loss: 0.5532553195953369\n",
      "Train Epoch 6/10 [46720/60000 (78%)] | Loss: 0.37890565395355225\n",
      "Train Epoch 6/10 [47360/60000 (79%)] | Loss: 0.24234817922115326\n",
      "Train Epoch 6/10 [48000/60000 (80%)] | Loss: 0.324929416179657\n",
      "Train Epoch 6/10 [48640/60000 (81%)] | Loss: 0.38413071632385254\n",
      "Train Epoch 6/10 [49280/60000 (82%)] | Loss: 0.29096922278404236\n",
      "Train Epoch 6/10 [49920/60000 (83%)] | Loss: 0.25377002358436584\n",
      "Train Epoch 6/10 [50560/60000 (84%)] | Loss: 0.1220756471157074\n",
      "Train Epoch 6/10 [51200/60000 (85%)] | Loss: 0.19319801032543182\n",
      "Train Epoch 6/10 [51840/60000 (86%)] | Loss: 0.23470672965049744\n",
      "Train Epoch 6/10 [52480/60000 (87%)] | Loss: 0.21558824181556702\n",
      "Train Epoch 6/10 [53120/60000 (89%)] | Loss: 0.38033410906791687\n",
      "Train Epoch 6/10 [53760/60000 (90%)] | Loss: 0.45117077231407166\n",
      "Train Epoch 6/10 [54400/60000 (91%)] | Loss: 0.2593785226345062\n",
      "Train Epoch 6/10 [55040/60000 (92%)] | Loss: 0.7692583799362183\n",
      "Train Epoch 6/10 [55680/60000 (93%)] | Loss: 0.22830934822559357\n",
      "Train Epoch 6/10 [56320/60000 (94%)] | Loss: 0.4735439121723175\n",
      "Train Epoch 6/10 [56960/60000 (95%)] | Loss: 0.4996417462825775\n",
      "Train Epoch 6/10 [57600/60000 (96%)] | Loss: 0.5279185175895691\n",
      "Train Epoch 6/10 [58240/60000 (97%)] | Loss: 0.2694944441318512\n",
      "Train Epoch 6/10 [58880/60000 (98%)] | Loss: 0.5251774787902832\n",
      "Train Epoch 6/10 [59520/60000 (99%)] | Loss: 0.49551263451576233\n",
      "\n",
      "Train Acc.: [53857/60000 (90%)]\n",
      "Test Acc.:  [ 9035/10000 (90%)]\n",
      "\n",
      "Train Epoch 7/10 [    0/60000 ( 0%)] | Loss: 0.38317787647247314\n",
      "Train Epoch 7/10 [  640/60000 ( 1%)] | Loss: 0.34116607904434204\n",
      "Train Epoch 7/10 [ 1280/60000 ( 2%)] | Loss: 0.35090261697769165\n",
      "Train Epoch 7/10 [ 1920/60000 ( 3%)] | Loss: 0.3629457950592041\n",
      "Train Epoch 7/10 [ 2560/60000 ( 4%)] | Loss: 0.2749059200286865\n",
      "Train Epoch 7/10 [ 3200/60000 ( 5%)] | Loss: 0.4595642685890198\n",
      "Train Epoch 7/10 [ 3840/60000 ( 6%)] | Loss: 0.31633466482162476\n",
      "Train Epoch 7/10 [ 4480/60000 ( 7%)] | Loss: 0.35040876269340515\n",
      "Train Epoch 7/10 [ 5120/60000 ( 9%)] | Loss: 0.22909852862358093\n",
      "Train Epoch 7/10 [ 5760/60000 (10%)] | Loss: 0.40104490518569946\n",
      "Train Epoch 7/10 [ 6400/60000 (11%)] | Loss: 0.23492184281349182\n",
      "Train Epoch 7/10 [ 7040/60000 (12%)] | Loss: 0.3751072585582733\n",
      "Train Epoch 7/10 [ 7680/60000 (13%)] | Loss: 0.6174802184104919\n",
      "Train Epoch 7/10 [ 8320/60000 (14%)] | Loss: 0.32955610752105713\n",
      "Train Epoch 7/10 [ 8960/60000 (15%)] | Loss: 0.6276156902313232\n",
      "Train Epoch 7/10 [ 9600/60000 (16%)] | Loss: 0.24486495554447174\n",
      "Train Epoch 7/10 [10240/60000 (17%)] | Loss: 0.2987784445285797\n",
      "Train Epoch 7/10 [10880/60000 (18%)] | Loss: 0.25774332880973816\n",
      "Train Epoch 7/10 [11520/60000 (19%)] | Loss: 0.2391165941953659\n",
      "Train Epoch 7/10 [12160/60000 (20%)] | Loss: 0.25517335534095764\n",
      "Train Epoch 7/10 [12800/60000 (21%)] | Loss: 0.4079846143722534\n",
      "Train Epoch 7/10 [13440/60000 (22%)] | Loss: 0.40835660696029663\n",
      "Train Epoch 7/10 [14080/60000 (23%)] | Loss: 0.4494277536869049\n",
      "Train Epoch 7/10 [14720/60000 (25%)] | Loss: 0.5337557792663574\n",
      "Train Epoch 7/10 [15360/60000 (26%)] | Loss: 0.5580866932868958\n",
      "Train Epoch 7/10 [16000/60000 (27%)] | Loss: 0.288479208946228\n",
      "Train Epoch 7/10 [16640/60000 (28%)] | Loss: 0.3548351526260376\n",
      "Train Epoch 7/10 [17280/60000 (29%)] | Loss: 0.34934449195861816\n",
      "Train Epoch 7/10 [17920/60000 (30%)] | Loss: 0.20919466018676758\n",
      "Train Epoch 7/10 [18560/60000 (31%)] | Loss: 0.21505486965179443\n",
      "Train Epoch 7/10 [19200/60000 (32%)] | Loss: 0.6223721504211426\n",
      "Train Epoch 7/10 [19840/60000 (33%)] | Loss: 0.25478431582450867\n",
      "Train Epoch 7/10 [20480/60000 (34%)] | Loss: 0.3784022927284241\n",
      "Train Epoch 7/10 [21120/60000 (35%)] | Loss: 0.46040159463882446\n",
      "Train Epoch 7/10 [21760/60000 (36%)] | Loss: 0.29174360632896423\n",
      "Train Epoch 7/10 [22400/60000 (37%)] | Loss: 0.26282450556755066\n",
      "Train Epoch 7/10 [23040/60000 (38%)] | Loss: 0.3947501480579376\n",
      "Train Epoch 7/10 [23680/60000 (39%)] | Loss: 0.2991102337837219\n",
      "Train Epoch 7/10 [24320/60000 (41%)] | Loss: 0.3588503301143646\n",
      "Train Epoch 7/10 [24960/60000 (42%)] | Loss: 0.8970890641212463\n",
      "Train Epoch 7/10 [25600/60000 (43%)] | Loss: 0.4459381699562073\n",
      "Train Epoch 7/10 [26240/60000 (44%)] | Loss: 0.21242277324199677\n",
      "Train Epoch 7/10 [26880/60000 (45%)] | Loss: 0.18561400473117828\n",
      "Train Epoch 7/10 [27520/60000 (46%)] | Loss: 0.19545280933380127\n",
      "Train Epoch 7/10 [28160/60000 (47%)] | Loss: 0.2663290500640869\n",
      "Train Epoch 7/10 [28800/60000 (48%)] | Loss: 0.3665406107902527\n",
      "Train Epoch 7/10 [29440/60000 (49%)] | Loss: 0.39615440368652344\n",
      "Train Epoch 7/10 [30080/60000 (50%)] | Loss: 0.28538748621940613\n",
      "Train Epoch 7/10 [30720/60000 (51%)] | Loss: 0.4145662486553192\n",
      "Train Epoch 7/10 [31360/60000 (52%)] | Loss: 0.3299444615840912\n",
      "Train Epoch 7/10 [32000/60000 (53%)] | Loss: 0.12088558077812195\n",
      "Train Epoch 7/10 [32640/60000 (54%)] | Loss: 0.44570261240005493\n",
      "Train Epoch 7/10 [33280/60000 (55%)] | Loss: 0.27569618821144104\n",
      "Train Epoch 7/10 [33920/60000 (57%)] | Loss: 0.7730976939201355\n",
      "Train Epoch 7/10 [34560/60000 (58%)] | Loss: 0.3137778043746948\n",
      "Train Epoch 7/10 [35200/60000 (59%)] | Loss: 0.4062275290489197\n",
      "Train Epoch 7/10 [35840/60000 (60%)] | Loss: 0.4216529130935669\n",
      "Train Epoch 7/10 [36480/60000 (61%)] | Loss: 0.298369437456131\n",
      "Train Epoch 7/10 [37120/60000 (62%)] | Loss: 0.338013231754303\n",
      "Train Epoch 7/10 [37760/60000 (63%)] | Loss: 0.3918856680393219\n",
      "Train Epoch 7/10 [38400/60000 (64%)] | Loss: 0.3535398840904236\n",
      "Train Epoch 7/10 [39040/60000 (65%)] | Loss: 0.5131422877311707\n",
      "Train Epoch 7/10 [39680/60000 (66%)] | Loss: 0.3325357437133789\n",
      "Train Epoch 7/10 [40320/60000 (67%)] | Loss: 0.36671262979507446\n",
      "Train Epoch 7/10 [40960/60000 (68%)] | Loss: 0.2686443030834198\n",
      "Train Epoch 7/10 [41600/60000 (69%)] | Loss: 0.45444223284721375\n",
      "Train Epoch 7/10 [42240/60000 (70%)] | Loss: 0.3559539318084717\n",
      "Train Epoch 7/10 [42880/60000 (71%)] | Loss: 0.4009585678577423\n",
      "Train Epoch 7/10 [43520/60000 (73%)] | Loss: 0.43914878368377686\n",
      "Train Epoch 7/10 [44160/60000 (74%)] | Loss: 0.324195921421051\n",
      "Train Epoch 7/10 [44800/60000 (75%)] | Loss: 0.335357666015625\n",
      "Train Epoch 7/10 [45440/60000 (76%)] | Loss: 0.38496696949005127\n",
      "Train Epoch 7/10 [46080/60000 (77%)] | Loss: 0.2255583107471466\n",
      "Train Epoch 7/10 [46720/60000 (78%)] | Loss: 0.4448944926261902\n",
      "Train Epoch 7/10 [47360/60000 (79%)] | Loss: 0.33781522512435913\n",
      "Train Epoch 7/10 [48000/60000 (80%)] | Loss: 0.41593316197395325\n",
      "Train Epoch 7/10 [48640/60000 (81%)] | Loss: 0.45913469791412354\n",
      "Train Epoch 7/10 [49280/60000 (82%)] | Loss: 0.3793773353099823\n",
      "Train Epoch 7/10 [49920/60000 (83%)] | Loss: 0.323880672454834\n",
      "Train Epoch 7/10 [50560/60000 (84%)] | Loss: 0.3672950267791748\n",
      "Train Epoch 7/10 [51200/60000 (85%)] | Loss: 0.27279168367385864\n",
      "Train Epoch 7/10 [51840/60000 (86%)] | Loss: 0.5385186076164246\n",
      "Train Epoch 7/10 [52480/60000 (87%)] | Loss: 0.443472683429718\n",
      "Train Epoch 7/10 [53120/60000 (89%)] | Loss: 0.33044326305389404\n",
      "Train Epoch 7/10 [53760/60000 (90%)] | Loss: 0.365051805973053\n",
      "Train Epoch 7/10 [54400/60000 (91%)] | Loss: 0.5679673552513123\n",
      "Train Epoch 7/10 [55040/60000 (92%)] | Loss: 0.4546467065811157\n",
      "Train Epoch 7/10 [55680/60000 (93%)] | Loss: 0.40395838022232056\n",
      "Train Epoch 7/10 [56320/60000 (94%)] | Loss: 0.30438023805618286\n",
      "Train Epoch 7/10 [56960/60000 (95%)] | Loss: 0.5412991642951965\n",
      "Train Epoch 7/10 [57600/60000 (96%)] | Loss: 0.229787215590477\n",
      "Train Epoch 7/10 [58240/60000 (97%)] | Loss: 0.32324904203414917\n",
      "Train Epoch 7/10 [58880/60000 (98%)] | Loss: 0.267937034368515\n",
      "Train Epoch 7/10 [59520/60000 (99%)] | Loss: 0.3510211110115051\n",
      "\n",
      "Train Acc.: [54137/60000 (90%)]\n",
      "Test Acc.:  [ 9090/10000 (91%)]\n",
      "\n",
      "Train Epoch 8/10 [    0/60000 ( 0%)] | Loss: 0.30020156502723694\n",
      "Train Epoch 8/10 [  640/60000 ( 1%)] | Loss: 0.2823360860347748\n",
      "Train Epoch 8/10 [ 1280/60000 ( 2%)] | Loss: 0.37268662452697754\n",
      "Train Epoch 8/10 [ 1920/60000 ( 3%)] | Loss: 0.422423779964447\n",
      "Train Epoch 8/10 [ 2560/60000 ( 4%)] | Loss: 0.2793191075325012\n",
      "Train Epoch 8/10 [ 3200/60000 ( 5%)] | Loss: 0.21035343408584595\n",
      "Train Epoch 8/10 [ 3840/60000 ( 6%)] | Loss: 0.46484389901161194\n",
      "Train Epoch 8/10 [ 4480/60000 ( 7%)] | Loss: 0.17127685248851776\n",
      "Train Epoch 8/10 [ 5120/60000 ( 9%)] | Loss: 0.3143491744995117\n",
      "Train Epoch 8/10 [ 5760/60000 (10%)] | Loss: 0.2938891351222992\n",
      "Train Epoch 8/10 [ 6400/60000 (11%)] | Loss: 0.35759490728378296\n",
      "Train Epoch 8/10 [ 7040/60000 (12%)] | Loss: 0.3207339942455292\n",
      "Train Epoch 8/10 [ 7680/60000 (13%)] | Loss: 0.3300257921218872\n",
      "Train Epoch 8/10 [ 8320/60000 (14%)] | Loss: 0.18624678254127502\n",
      "Train Epoch 8/10 [ 8960/60000 (15%)] | Loss: 0.5288718342781067\n",
      "Train Epoch 8/10 [ 9600/60000 (16%)] | Loss: 0.23029080033302307\n",
      "Train Epoch 8/10 [10240/60000 (17%)] | Loss: 0.5933167934417725\n",
      "Train Epoch 8/10 [10880/60000 (18%)] | Loss: 0.661786675453186\n",
      "Train Epoch 8/10 [11520/60000 (19%)] | Loss: 0.3963968753814697\n",
      "Train Epoch 8/10 [12160/60000 (20%)] | Loss: 0.34018775820732117\n",
      "Train Epoch 8/10 [12800/60000 (21%)] | Loss: 0.4845976233482361\n",
      "Train Epoch 8/10 [13440/60000 (22%)] | Loss: 0.7845898270606995\n",
      "Train Epoch 8/10 [14080/60000 (23%)] | Loss: 0.30512624979019165\n",
      "Train Epoch 8/10 [14720/60000 (25%)] | Loss: 0.34961748123168945\n",
      "Train Epoch 8/10 [15360/60000 (26%)] | Loss: 0.2886469066143036\n",
      "Train Epoch 8/10 [16000/60000 (27%)] | Loss: 0.3357352614402771\n",
      "Train Epoch 8/10 [16640/60000 (28%)] | Loss: 0.42348435521125793\n",
      "Train Epoch 8/10 [17280/60000 (29%)] | Loss: 0.32268181443214417\n",
      "Train Epoch 8/10 [17920/60000 (30%)] | Loss: 0.30732637643814087\n",
      "Train Epoch 8/10 [18560/60000 (31%)] | Loss: 0.26662489771842957\n",
      "Train Epoch 8/10 [19200/60000 (32%)] | Loss: 0.32644757628440857\n",
      "Train Epoch 8/10 [19840/60000 (33%)] | Loss: 0.2147311270236969\n",
      "Train Epoch 8/10 [20480/60000 (34%)] | Loss: 0.19910278916358948\n",
      "Train Epoch 8/10 [21120/60000 (35%)] | Loss: 0.3908333480358124\n",
      "Train Epoch 8/10 [21760/60000 (36%)] | Loss: 0.5187345147132874\n",
      "Train Epoch 8/10 [22400/60000 (37%)] | Loss: 0.3448725938796997\n",
      "Train Epoch 8/10 [23040/60000 (38%)] | Loss: 0.270675390958786\n",
      "Train Epoch 8/10 [23680/60000 (39%)] | Loss: 0.3678557574748993\n",
      "Train Epoch 8/10 [24320/60000 (41%)] | Loss: 0.3329896330833435\n",
      "Train Epoch 8/10 [24960/60000 (42%)] | Loss: 0.28433242440223694\n",
      "Train Epoch 8/10 [25600/60000 (43%)] | Loss: 0.18729926645755768\n",
      "Train Epoch 8/10 [26240/60000 (44%)] | Loss: 0.2794535160064697\n",
      "Train Epoch 8/10 [26880/60000 (45%)] | Loss: 0.5951696634292603\n",
      "Train Epoch 8/10 [27520/60000 (46%)] | Loss: 0.35159996151924133\n",
      "Train Epoch 8/10 [28160/60000 (47%)] | Loss: 0.23508648574352264\n",
      "Train Epoch 8/10 [28800/60000 (48%)] | Loss: 0.5830602049827576\n",
      "Train Epoch 8/10 [29440/60000 (49%)] | Loss: 0.29616284370422363\n",
      "Train Epoch 8/10 [30080/60000 (50%)] | Loss: 0.31595736742019653\n",
      "Train Epoch 8/10 [30720/60000 (51%)] | Loss: 0.39444783329963684\n",
      "Train Epoch 8/10 [31360/60000 (52%)] | Loss: 0.532340407371521\n",
      "Train Epoch 8/10 [32000/60000 (53%)] | Loss: 0.32812872529029846\n",
      "Train Epoch 8/10 [32640/60000 (54%)] | Loss: 0.3303978741168976\n",
      "Train Epoch 8/10 [33280/60000 (55%)] | Loss: 0.2945222854614258\n",
      "Train Epoch 8/10 [33920/60000 (57%)] | Loss: 0.2517995536327362\n",
      "Train Epoch 8/10 [34560/60000 (58%)] | Loss: 0.49523255228996277\n",
      "Train Epoch 8/10 [35200/60000 (59%)] | Loss: 0.7301729321479797\n",
      "Train Epoch 8/10 [35840/60000 (60%)] | Loss: 0.29683223366737366\n",
      "Train Epoch 8/10 [36480/60000 (61%)] | Loss: 0.2322540134191513\n",
      "Train Epoch 8/10 [37120/60000 (62%)] | Loss: 0.471753865480423\n",
      "Train Epoch 8/10 [37760/60000 (63%)] | Loss: 0.39684826135635376\n",
      "Train Epoch 8/10 [38400/60000 (64%)] | Loss: 0.3095428943634033\n",
      "Train Epoch 8/10 [39040/60000 (65%)] | Loss: 0.26922398805618286\n",
      "Train Epoch 8/10 [39680/60000 (66%)] | Loss: 0.2636791169643402\n",
      "Train Epoch 8/10 [40320/60000 (67%)] | Loss: 0.3246733248233795\n",
      "Train Epoch 8/10 [40960/60000 (68%)] | Loss: 0.2769264280796051\n",
      "Train Epoch 8/10 [41600/60000 (69%)] | Loss: 0.4264990985393524\n",
      "Train Epoch 8/10 [42240/60000 (70%)] | Loss: 0.26430341601371765\n",
      "Train Epoch 8/10 [42880/60000 (71%)] | Loss: 0.20160581171512604\n",
      "Train Epoch 8/10 [43520/60000 (73%)] | Loss: 0.3508523404598236\n",
      "Train Epoch 8/10 [44160/60000 (74%)] | Loss: 0.32839518785476685\n",
      "Train Epoch 8/10 [44800/60000 (75%)] | Loss: 0.2659943997859955\n",
      "Train Epoch 8/10 [45440/60000 (76%)] | Loss: 0.2838090658187866\n",
      "Train Epoch 8/10 [46080/60000 (77%)] | Loss: 0.3644660711288452\n",
      "Train Epoch 8/10 [46720/60000 (78%)] | Loss: 0.5330487489700317\n",
      "Train Epoch 8/10 [47360/60000 (79%)] | Loss: 0.26785609126091003\n",
      "Train Epoch 8/10 [48000/60000 (80%)] | Loss: 0.4236803352832794\n",
      "Train Epoch 8/10 [48640/60000 (81%)] | Loss: 0.22777484357357025\n",
      "Train Epoch 8/10 [49280/60000 (82%)] | Loss: 0.5407712459564209\n",
      "Train Epoch 8/10 [49920/60000 (83%)] | Loss: 0.3218289315700531\n",
      "Train Epoch 8/10 [50560/60000 (84%)] | Loss: 0.33241474628448486\n",
      "Train Epoch 8/10 [51200/60000 (85%)] | Loss: 0.34619858860969543\n",
      "Train Epoch 8/10 [51840/60000 (86%)] | Loss: 0.2680579423904419\n",
      "Train Epoch 8/10 [52480/60000 (87%)] | Loss: 0.2826349437236786\n",
      "Train Epoch 8/10 [53120/60000 (89%)] | Loss: 0.27734607458114624\n",
      "Train Epoch 8/10 [53760/60000 (90%)] | Loss: 0.4707784652709961\n",
      "Train Epoch 8/10 [54400/60000 (91%)] | Loss: 0.1335897296667099\n",
      "Train Epoch 8/10 [55040/60000 (92%)] | Loss: 0.5738399028778076\n",
      "Train Epoch 8/10 [55680/60000 (93%)] | Loss: 0.38742709159851074\n",
      "Train Epoch 8/10 [56320/60000 (94%)] | Loss: 0.29217395186424255\n",
      "Train Epoch 8/10 [56960/60000 (95%)] | Loss: 0.3426472842693329\n",
      "Train Epoch 8/10 [57600/60000 (96%)] | Loss: 0.2775290906429291\n",
      "Train Epoch 8/10 [58240/60000 (97%)] | Loss: 0.19719834625720978\n",
      "Train Epoch 8/10 [58880/60000 (98%)] | Loss: 0.3162320852279663\n",
      "Train Epoch 8/10 [59520/60000 (99%)] | Loss: 0.19193492829799652\n",
      "\n",
      "Train Acc.: [54401/60000 (91%)]\n",
      "Test Acc.:  [ 9118/10000 (91%)]\n",
      "\n",
      "Train Epoch 9/10 [    0/60000 ( 0%)] | Loss: 0.22866660356521606\n",
      "Train Epoch 9/10 [  640/60000 ( 1%)] | Loss: 0.2050182968378067\n",
      "Train Epoch 9/10 [ 1280/60000 ( 2%)] | Loss: 0.596464991569519\n",
      "Train Epoch 9/10 [ 1920/60000 ( 3%)] | Loss: 0.15352457761764526\n",
      "Train Epoch 9/10 [ 2560/60000 ( 4%)] | Loss: 0.12630194425582886\n",
      "Train Epoch 9/10 [ 3200/60000 ( 5%)] | Loss: 0.4870484173297882\n",
      "Train Epoch 9/10 [ 3840/60000 ( 6%)] | Loss: 0.5488826036453247\n",
      "Train Epoch 9/10 [ 4480/60000 ( 7%)] | Loss: 0.29717376828193665\n",
      "Train Epoch 9/10 [ 5120/60000 ( 9%)] | Loss: 0.1787777990102768\n",
      "Train Epoch 9/10 [ 5760/60000 (10%)] | Loss: 0.3265080451965332\n",
      "Train Epoch 9/10 [ 6400/60000 (11%)] | Loss: 0.4804075062274933\n",
      "Train Epoch 9/10 [ 7040/60000 (12%)] | Loss: 0.1618039757013321\n",
      "Train Epoch 9/10 [ 7680/60000 (13%)] | Loss: 0.12032951414585114\n",
      "Train Epoch 9/10 [ 8320/60000 (14%)] | Loss: 0.21689850091934204\n",
      "Train Epoch 9/10 [ 8960/60000 (15%)] | Loss: 0.305073618888855\n",
      "Train Epoch 9/10 [ 9600/60000 (16%)] | Loss: 0.37711840867996216\n",
      "Train Epoch 9/10 [10240/60000 (17%)] | Loss: 0.35018858313560486\n",
      "Train Epoch 9/10 [10880/60000 (18%)] | Loss: 0.2867501676082611\n",
      "Train Epoch 9/10 [11520/60000 (19%)] | Loss: 0.23239484429359436\n",
      "Train Epoch 9/10 [12160/60000 (20%)] | Loss: 0.24255599081516266\n",
      "Train Epoch 9/10 [12800/60000 (21%)] | Loss: 0.21342338621616364\n",
      "Train Epoch 9/10 [13440/60000 (22%)] | Loss: 0.30673617124557495\n",
      "Train Epoch 9/10 [14080/60000 (23%)] | Loss: 0.7877234816551208\n",
      "Train Epoch 9/10 [14720/60000 (25%)] | Loss: 0.4896800220012665\n",
      "Train Epoch 9/10 [15360/60000 (26%)] | Loss: 0.4375523328781128\n",
      "Train Epoch 9/10 [16000/60000 (27%)] | Loss: 0.16621530055999756\n",
      "Train Epoch 9/10 [16640/60000 (28%)] | Loss: 0.3293074667453766\n",
      "Train Epoch 9/10 [17280/60000 (29%)] | Loss: 0.44026052951812744\n",
      "Train Epoch 9/10 [17920/60000 (30%)] | Loss: 0.3221852481365204\n",
      "Train Epoch 9/10 [18560/60000 (31%)] | Loss: 0.14720001816749573\n",
      "Train Epoch 9/10 [19200/60000 (32%)] | Loss: 0.42050954699516296\n",
      "Train Epoch 9/10 [19840/60000 (33%)] | Loss: 0.4253329336643219\n",
      "Train Epoch 9/10 [20480/60000 (34%)] | Loss: 0.33273160457611084\n",
      "Train Epoch 9/10 [21120/60000 (35%)] | Loss: 0.31418758630752563\n",
      "Train Epoch 9/10 [21760/60000 (36%)] | Loss: 0.3727015554904938\n",
      "Train Epoch 9/10 [22400/60000 (37%)] | Loss: 0.3493839502334595\n",
      "Train Epoch 9/10 [23040/60000 (38%)] | Loss: 0.3338114619255066\n",
      "Train Epoch 9/10 [23680/60000 (39%)] | Loss: 0.30574798583984375\n",
      "Train Epoch 9/10 [24320/60000 (41%)] | Loss: 0.37376850843429565\n",
      "Train Epoch 9/10 [24960/60000 (42%)] | Loss: 0.3136136829853058\n",
      "Train Epoch 9/10 [25600/60000 (43%)] | Loss: 0.43747255206108093\n",
      "Train Epoch 9/10 [26240/60000 (44%)] | Loss: 0.1997217833995819\n",
      "Train Epoch 9/10 [26880/60000 (45%)] | Loss: 0.47809961438179016\n",
      "Train Epoch 9/10 [27520/60000 (46%)] | Loss: 0.2871732711791992\n",
      "Train Epoch 9/10 [28160/60000 (47%)] | Loss: 0.3185127079486847\n",
      "Train Epoch 9/10 [28800/60000 (48%)] | Loss: 0.3271997570991516\n",
      "Train Epoch 9/10 [29440/60000 (49%)] | Loss: 0.2488173246383667\n",
      "Train Epoch 9/10 [30080/60000 (50%)] | Loss: 0.49386537075042725\n",
      "Train Epoch 9/10 [30720/60000 (51%)] | Loss: 0.25791552662849426\n",
      "Train Epoch 9/10 [31360/60000 (52%)] | Loss: 0.23385271430015564\n",
      "Train Epoch 9/10 [32000/60000 (53%)] | Loss: 0.3710004687309265\n",
      "Train Epoch 9/10 [32640/60000 (54%)] | Loss: 0.3538036048412323\n",
      "Train Epoch 9/10 [33280/60000 (55%)] | Loss: 0.2839101254940033\n",
      "Train Epoch 9/10 [33920/60000 (57%)] | Loss: 0.30989331007003784\n",
      "Train Epoch 9/10 [34560/60000 (58%)] | Loss: 0.19003210961818695\n",
      "Train Epoch 9/10 [35200/60000 (59%)] | Loss: 0.23801374435424805\n",
      "Train Epoch 9/10 [35840/60000 (60%)] | Loss: 0.32912755012512207\n",
      "Train Epoch 9/10 [36480/60000 (61%)] | Loss: 0.34867289662361145\n",
      "Train Epoch 9/10 [37120/60000 (62%)] | Loss: 0.3095083236694336\n",
      "Train Epoch 9/10 [37760/60000 (63%)] | Loss: 0.3598606288433075\n",
      "Train Epoch 9/10 [38400/60000 (64%)] | Loss: 0.22150184214115143\n",
      "Train Epoch 9/10 [39040/60000 (65%)] | Loss: 0.39626142382621765\n",
      "Train Epoch 9/10 [39680/60000 (66%)] | Loss: 0.18368427455425262\n",
      "Train Epoch 9/10 [40320/60000 (67%)] | Loss: 0.5275363326072693\n",
      "Train Epoch 9/10 [40960/60000 (68%)] | Loss: 0.22442609071731567\n",
      "Train Epoch 9/10 [41600/60000 (69%)] | Loss: 0.162850484251976\n",
      "Train Epoch 9/10 [42240/60000 (70%)] | Loss: 0.36421671509742737\n",
      "Train Epoch 9/10 [42880/60000 (71%)] | Loss: 0.4419514238834381\n",
      "Train Epoch 9/10 [43520/60000 (73%)] | Loss: 0.28070706129074097\n",
      "Train Epoch 9/10 [44160/60000 (74%)] | Loss: 0.48063647747039795\n",
      "Train Epoch 9/10 [44800/60000 (75%)] | Loss: 0.21553179621696472\n",
      "Train Epoch 9/10 [45440/60000 (76%)] | Loss: 0.1728752851486206\n",
      "Train Epoch 9/10 [46080/60000 (77%)] | Loss: 0.29922693967819214\n",
      "Train Epoch 9/10 [46720/60000 (78%)] | Loss: 0.17396005988121033\n",
      "Train Epoch 9/10 [47360/60000 (79%)] | Loss: 0.5178952813148499\n",
      "Train Epoch 9/10 [48000/60000 (80%)] | Loss: 0.34541210532188416\n",
      "Train Epoch 9/10 [48640/60000 (81%)] | Loss: 0.2690050005912781\n",
      "Train Epoch 9/10 [49280/60000 (82%)] | Loss: 0.4673749804496765\n",
      "Train Epoch 9/10 [49920/60000 (83%)] | Loss: 0.36739152669906616\n",
      "Train Epoch 9/10 [50560/60000 (84%)] | Loss: 0.4614967107772827\n",
      "Train Epoch 9/10 [51200/60000 (85%)] | Loss: 0.39492857456207275\n",
      "Train Epoch 9/10 [51840/60000 (86%)] | Loss: 0.2595478892326355\n",
      "Train Epoch 9/10 [52480/60000 (87%)] | Loss: 0.25026068091392517\n",
      "Train Epoch 9/10 [53120/60000 (89%)] | Loss: 0.17101231217384338\n",
      "Train Epoch 9/10 [53760/60000 (90%)] | Loss: 0.4433395266532898\n",
      "Train Epoch 9/10 [54400/60000 (91%)] | Loss: 0.3159615695476532\n",
      "Train Epoch 9/10 [55040/60000 (92%)] | Loss: 0.38908812403678894\n",
      "Train Epoch 9/10 [55680/60000 (93%)] | Loss: 0.2630920708179474\n",
      "Train Epoch 9/10 [56320/60000 (94%)] | Loss: 0.6783507466316223\n",
      "Train Epoch 9/10 [56960/60000 (95%)] | Loss: 0.2136162370443344\n",
      "Train Epoch 9/10 [57600/60000 (96%)] | Loss: 0.29598090052604675\n",
      "Train Epoch 9/10 [58240/60000 (97%)] | Loss: 0.2231733202934265\n",
      "Train Epoch 9/10 [58880/60000 (98%)] | Loss: 0.36430683732032776\n",
      "Train Epoch 9/10 [59520/60000 (99%)] | Loss: 0.5226349830627441\n",
      "\n",
      "Train Acc.: [54562/60000 (91%)]\n",
      "Test Acc.:  [ 9143/10000 (91%)]\n",
      "\n",
      "Train Epoch 10/10 [    0/60000 ( 0%)] | Loss: 0.3076968491077423\n",
      "Train Epoch 10/10 [  640/60000 ( 1%)] | Loss: 0.3730110824108124\n",
      "Train Epoch 10/10 [ 1280/60000 ( 2%)] | Loss: 0.36542385816574097\n",
      "Train Epoch 10/10 [ 1920/60000 ( 3%)] | Loss: 0.2274448275566101\n",
      "Train Epoch 10/10 [ 2560/60000 ( 4%)] | Loss: 0.38832512497901917\n",
      "Train Epoch 10/10 [ 3200/60000 ( 5%)] | Loss: 0.19995006918907166\n",
      "Train Epoch 10/10 [ 3840/60000 ( 6%)] | Loss: 0.5817549824714661\n",
      "Train Epoch 10/10 [ 4480/60000 ( 7%)] | Loss: 0.5764391422271729\n",
      "Train Epoch 10/10 [ 5120/60000 ( 9%)] | Loss: 0.32714200019836426\n",
      "Train Epoch 10/10 [ 5760/60000 (10%)] | Loss: 0.5107512474060059\n",
      "Train Epoch 10/10 [ 6400/60000 (11%)] | Loss: 0.6239289045333862\n",
      "Train Epoch 10/10 [ 7040/60000 (12%)] | Loss: 0.20746095478534698\n",
      "Train Epoch 10/10 [ 7680/60000 (13%)] | Loss: 0.2534213662147522\n",
      "Train Epoch 10/10 [ 8320/60000 (14%)] | Loss: 0.22770458459854126\n",
      "Train Epoch 10/10 [ 8960/60000 (15%)] | Loss: 0.30730700492858887\n",
      "Train Epoch 10/10 [ 9600/60000 (16%)] | Loss: 0.1466612070798874\n",
      "Train Epoch 10/10 [10240/60000 (17%)] | Loss: 0.33821505308151245\n",
      "Train Epoch 10/10 [10880/60000 (18%)] | Loss: 0.2412797510623932\n",
      "Train Epoch 10/10 [11520/60000 (19%)] | Loss: 0.6017729043960571\n",
      "Train Epoch 10/10 [12160/60000 (20%)] | Loss: 0.5005521178245544\n",
      "Train Epoch 10/10 [12800/60000 (21%)] | Loss: 0.1424292027950287\n",
      "Train Epoch 10/10 [13440/60000 (22%)] | Loss: 0.4122737944126129\n",
      "Train Epoch 10/10 [14080/60000 (23%)] | Loss: 0.3406650722026825\n",
      "Train Epoch 10/10 [14720/60000 (25%)] | Loss: 0.35002821683883667\n",
      "Train Epoch 10/10 [15360/60000 (26%)] | Loss: 0.5189796686172485\n",
      "Train Epoch 10/10 [16000/60000 (27%)] | Loss: 0.31729671359062195\n",
      "Train Epoch 10/10 [16640/60000 (28%)] | Loss: 0.38727325201034546\n",
      "Train Epoch 10/10 [17280/60000 (29%)] | Loss: 0.3597528636455536\n",
      "Train Epoch 10/10 [17920/60000 (30%)] | Loss: 0.45508959889411926\n",
      "Train Epoch 10/10 [18560/60000 (31%)] | Loss: 0.3047291934490204\n",
      "Train Epoch 10/10 [19200/60000 (32%)] | Loss: 0.2527185082435608\n",
      "Train Epoch 10/10 [19840/60000 (33%)] | Loss: 0.3508991301059723\n",
      "Train Epoch 10/10 [20480/60000 (34%)] | Loss: 0.08699774742126465\n",
      "Train Epoch 10/10 [21120/60000 (35%)] | Loss: 0.2825911045074463\n",
      "Train Epoch 10/10 [21760/60000 (36%)] | Loss: 0.4030226171016693\n",
      "Train Epoch 10/10 [22400/60000 (37%)] | Loss: 0.639127790927887\n",
      "Train Epoch 10/10 [23040/60000 (38%)] | Loss: 0.3121165633201599\n",
      "Train Epoch 10/10 [23680/60000 (39%)] | Loss: 0.1821400374174118\n",
      "Train Epoch 10/10 [24320/60000 (41%)] | Loss: 0.14959971606731415\n",
      "Train Epoch 10/10 [24960/60000 (42%)] | Loss: 0.4556153118610382\n",
      "Train Epoch 10/10 [25600/60000 (43%)] | Loss: 0.4297584891319275\n",
      "Train Epoch 10/10 [26240/60000 (44%)] | Loss: 0.126440167427063\n",
      "Train Epoch 10/10 [26880/60000 (45%)] | Loss: 0.325563907623291\n",
      "Train Epoch 10/10 [27520/60000 (46%)] | Loss: 0.37295305728912354\n",
      "Train Epoch 10/10 [28160/60000 (47%)] | Loss: 0.6746537089347839\n",
      "Train Epoch 10/10 [28800/60000 (48%)] | Loss: 0.39394816756248474\n",
      "Train Epoch 10/10 [29440/60000 (49%)] | Loss: 0.40102434158325195\n",
      "Train Epoch 10/10 [30080/60000 (50%)] | Loss: 0.16303882002830505\n",
      "Train Epoch 10/10 [30720/60000 (51%)] | Loss: 0.24038618803024292\n",
      "Train Epoch 10/10 [31360/60000 (52%)] | Loss: 0.12265675514936447\n",
      "Train Epoch 10/10 [32000/60000 (53%)] | Loss: 0.1714964658021927\n",
      "Train Epoch 10/10 [32640/60000 (54%)] | Loss: 0.2882961332798004\n",
      "Train Epoch 10/10 [33280/60000 (55%)] | Loss: 0.3039955794811249\n",
      "Train Epoch 10/10 [33920/60000 (57%)] | Loss: 0.519424557685852\n",
      "Train Epoch 10/10 [34560/60000 (58%)] | Loss: 0.2998020052909851\n",
      "Train Epoch 10/10 [35200/60000 (59%)] | Loss: 0.2330155372619629\n",
      "Train Epoch 10/10 [35840/60000 (60%)] | Loss: 0.13165460526943207\n",
      "Train Epoch 10/10 [36480/60000 (61%)] | Loss: 0.5501189827919006\n",
      "Train Epoch 10/10 [37120/60000 (62%)] | Loss: 0.4182727634906769\n",
      "Train Epoch 10/10 [37760/60000 (63%)] | Loss: 0.38239383697509766\n",
      "Train Epoch 10/10 [38400/60000 (64%)] | Loss: 0.3289969265460968\n",
      "Train Epoch 10/10 [39040/60000 (65%)] | Loss: 0.5547539591789246\n",
      "Train Epoch 10/10 [39680/60000 (66%)] | Loss: 0.5037797093391418\n",
      "Train Epoch 10/10 [40320/60000 (67%)] | Loss: 0.3298525810241699\n",
      "Train Epoch 10/10 [40960/60000 (68%)] | Loss: 0.6116346120834351\n",
      "Train Epoch 10/10 [41600/60000 (69%)] | Loss: 0.28950148820877075\n",
      "Train Epoch 10/10 [42240/60000 (70%)] | Loss: 0.1597328782081604\n",
      "Train Epoch 10/10 [42880/60000 (71%)] | Loss: 0.35016146302223206\n",
      "Train Epoch 10/10 [43520/60000 (73%)] | Loss: 0.2988618016242981\n",
      "Train Epoch 10/10 [44160/60000 (74%)] | Loss: 0.23861436545848846\n",
      "Train Epoch 10/10 [44800/60000 (75%)] | Loss: 0.422279417514801\n",
      "Train Epoch 10/10 [45440/60000 (76%)] | Loss: 0.42400121688842773\n",
      "Train Epoch 10/10 [46080/60000 (77%)] | Loss: 0.24405965209007263\n",
      "Train Epoch 10/10 [46720/60000 (78%)] | Loss: 0.49439817667007446\n",
      "Train Epoch 10/10 [47360/60000 (79%)] | Loss: 0.05575772002339363\n",
      "Train Epoch 10/10 [48000/60000 (80%)] | Loss: 0.18244719505310059\n",
      "Train Epoch 10/10 [48640/60000 (81%)] | Loss: 0.19397452473640442\n",
      "Train Epoch 10/10 [49280/60000 (82%)] | Loss: 0.3657291531562805\n",
      "Train Epoch 10/10 [49920/60000 (83%)] | Loss: 0.44992560148239136\n",
      "Train Epoch 10/10 [50560/60000 (84%)] | Loss: 0.3161241114139557\n",
      "Train Epoch 10/10 [51200/60000 (85%)] | Loss: 0.2511858344078064\n",
      "Train Epoch 10/10 [51840/60000 (86%)] | Loss: 0.12023907154798508\n",
      "Train Epoch 10/10 [52480/60000 (87%)] | Loss: 0.24810637533664703\n",
      "Train Epoch 10/10 [53120/60000 (89%)] | Loss: 0.5778777599334717\n",
      "Train Epoch 10/10 [53760/60000 (90%)] | Loss: 0.4512025713920593\n",
      "Train Epoch 10/10 [54400/60000 (91%)] | Loss: 0.33032071590423584\n",
      "Train Epoch 10/10 [55040/60000 (92%)] | Loss: 0.2052415907382965\n",
      "Train Epoch 10/10 [55680/60000 (93%)] | Loss: 0.19630564749240875\n",
      "Train Epoch 10/10 [56320/60000 (94%)] | Loss: 0.4750228226184845\n",
      "Train Epoch 10/10 [56960/60000 (95%)] | Loss: 0.4521167278289795\n",
      "Train Epoch 10/10 [57600/60000 (96%)] | Loss: 0.19249054789543152\n",
      "Train Epoch 10/10 [58240/60000 (97%)] | Loss: 0.3070724904537201\n",
      "Train Epoch 10/10 [58880/60000 (98%)] | Loss: 0.20100925862789154\n",
      "Train Epoch 10/10 [59520/60000 (99%)] | Loss: 0.2528621256351471\n",
      "\n",
      "Train Acc.: [54714/60000 (91%)]\n",
      "Test Acc.:  [ 9166/10000 (92%)]\n",
      "\n"
     ]
    }
   ],
   "source": [
    "# Design model\n",
    "n_samples = len(mnist_train_dataset)\n",
    "n_test_samples = len(mnist_test_dataset)\n",
    "n_features = (\n",
    "    mnist_train_dataset.train_data.shape[1]*mnist_train_dataset.train_data.shape[2]\n",
    ")\n",
    "n_classes = mnist_train_dataset.targets.unique().shape[0]\n",
    "model = NeuralNet(n_features, 512, 2, n_classes)\n",
    "\n",
    "# Construct Loss and Optimizer\n",
    "loss = nn.CrossEntropyLoss()\n",
    "optimizer = torch.optim.Adam(model.parameters(), lr=lr)\n",
    "\n",
    "train_losses = []\n",
    "# test_losses = []\n",
    "\n",
    "for epoch in range(num_epochs):\n",
    "    train_acc = 0\n",
    "    test_acc = 0\n",
    "    for batch_idx, (X_train, y_train) in enumerate(train_dataloader):\n",
    "        # Forward pass\n",
    "        y_hat = model(X_train)\n",
    "\n",
    "        pred = torch.max(y_hat.data, 1)[1]\n",
    "        batch_corr = (pred==y_train).sum()\n",
    "        train_acc += batch_corr\n",
    "\n",
    "        # Loss computation\n",
    "        J = loss(y_hat, y_train)\n",
    "\n",
    "        # Backward pass\n",
    "        J.backward()\n",
    "\n",
    "        # Update parameters\n",
    "        optimizer.step()\n",
    "\n",
    "        # Zero grad\n",
    "        optimizer.zero_grad()\n",
    "\n",
    "        # Print train loss\n",
    "        if batch_idx % 20 == 0:\n",
    "            print('Train Epoch {}/{} [{:>5}/{} ({:>2.0f}%)] | Loss: {}'.format(\n",
    "                epoch+1, num_epochs, batch_idx * batch_size, n_samples, \n",
    "                100*batch_idx / len(train_dataloader), J))\n",
    "            train_losses.append(J)\n",
    "\n",
    "    with torch.no_grad():\n",
    "        for batch_idx, (X_test, y_test) in enumerate(test_dataloader):\n",
    "            # Forward pass\n",
    "            y_val = model(X_test)\n",
    "\n",
    "            pred = torch.max(y_val.data, 1)[1]\n",
    "            batch_corr = (pred==y_test).sum()\n",
    "            test_acc += batch_corr\n",
    "\n",
    "    print('\\nTrain Acc.: [{:>5}/{} ({:>2.0f}%)]'.format(train_acc, n_samples, 100 * train_acc / n_samples))\n",
    "    print('Test Acc.:  [{:>5}/{} ({:>2.0f}%)]\\n'.format(test_acc, n_test_samples, 100 * test_acc / n_test_samples))"
   ]
  },
  {
   "cell_type": "markdown",
   "metadata": {},
   "source": [
    "That's great! Our model had an accuracy of $92\\%$ on test set, and we were capable of implementing a flexible MLP and training it in an elegant and easy way."
   ]
  },
  {
   "cell_type": "markdown",
   "metadata": {},
   "source": [
    "---"
   ]
  },
  {
   "cell_type": "markdown",
   "metadata": {},
   "source": [
    "## 1.13: Convolutional Neural Networks (CNNs)"
   ]
  },
  {
   "cell_type": "markdown",
   "metadata": {},
   "source": [
    "Convolutional Neural Networks (shortened as CNNs) are a special family of neural networks. Its singularity comes from the namesake operation applied in it - convolution. In short, a CNN is a neural network composed of some specific building blocks represented in layers. Those layers are as described:\n",
    "\n",
    "**1. Convolution Layers:** This is the basic feature of CNNs. In this context, convolution is an operation of linearly combining the inputs from each of these layers with their respectives filters/kernels.\n",
    "\n",
    "**2. Pooling Layers:**\n",
    "\n",
    "**3. Fully-Connected Layer:**\n",
    "\n",
    "**OBS.:**This tutorial's intention isn't to go further into details about CNNs, but to be able to construct a CNN model with Pytorch.\n",
    "\n",
    "**Links:** https://cezannec.github.io/Convolutional_Neural_Networks/"
   ]
  },
  {
   "cell_type": "code",
   "execution_count": 65,
   "metadata": {},
   "outputs": [
    {
     "data": {
      "image/png": "[encoded data removed]",
      "text/plain": [
       "<IPython.core.display.Image object>"
      ]
     },
     "execution_count": 65,
     "metadata": {
      "image/png": {
       "height": 750,
       "width": 705
      }
     },
     "output_type": "execute_result"
    }
   ],
   "source": [
    "Image(filename=\"assets/images/conv_architecture.png\", height=750, width=705)"
   ]
  },
  {
   "cell_type": "markdown",
   "metadata": {},
   "source": [
    "CNN general architecture. Source: _MathWorks_. \"What is a Convolutional Neural Network? 3 things you need to know\". https://www.mathworks.com/discovery/convolutional-neural-network-matlab.html"
   ]
  },
  {
   "cell_type": "code",
   "execution_count": 60,
   "metadata": {},
   "outputs": [
    {
     "data": {
      "image/gif": "[encoded data removed]",
      "text/plain": [
       "<IPython.core.display.Image object>"
      ]
     },
     "execution_count": 60,
     "metadata": {},
     "output_type": "execute_result"
    }
   ],
   "source": [
    "Image(filename=\"assets/images/no_padding_no_strides.gif\")"
   ]
  },
  {
   "cell_type": "markdown",
   "metadata": {},
   "source": [
    "[1]: Convolution operation. In this example, a $4x4$ input matrix (lighter blue) is convoluted by a $3x3$ filter/kernel (darker blue, passing through the input) resulting in a $2x2$ convolution output.\n",
    "\n",
    "Source: Vincent Dumoulin, Francesco Visin. \"A guide to convolution arithmetic for deep learning\". https://github.com/vdumoulin/conv_arithmetic."
   ]
  },
  {
   "cell_type": "code",
   "execution_count": null,
   "metadata": {},
   "outputs": [],
   "source": [
    "class ConvNet(nn.Module):\n",
    "\n",
    "    def __init__(self):\n",
    "        super().__init__()\n",
    "\n",
    "    def forward(self, X):"
   ]
  },
  {
   "cell_type": "code",
   "execution_count": 155,
   "metadata": {},
   "outputs": [],
   "source": [
    "class Normalize():\n",
    "\n",
    "    def __call__(self, sample):\n",
    "        return sample/255"
   ]
  },
  {
   "cell_type": "code",
   "execution_count": null,
   "metadata": {},
   "outputs": [],
   "source": [
    "composed = torchvision.transforms.Compose([torchvision.transforms.ToTensor(), Normalize()])\n",
    "train_dataset = torchvision.datasets.CIFAR10(root='./data', train=True, transform=composed, download=True)\n",
    "train_dataloader = DataLoader(dataset=train_dataset, batch_size=4, shuffle=True)"
   ]
  },
  {
   "cell_type": "code",
   "execution_count": 157,
   "metadata": {},
   "outputs": [],
   "source": [
    "examples = enumerate(train_dataloader)\n",
    "batch_idx, (example_features, example_targets) = next(examples)"
   ]
  },
  {
   "cell_type": "code",
   "execution_count": 159,
   "metadata": {},
   "outputs": [
    {
     "data": {
      "image/png": "[encoded data removed]",
      "text/plain": [
       "<Figure size 432x288 with 4 Axes>"
      ]
     },
     "metadata": {},
     "output_type": "display_data"
    }
   ],
   "source": [
    "fig = plt.figure()\n",
    "\n",
    "for i in range(4):\n",
    "    plt.subplot(2, 2, i+1)\n",
    "    plt.tight_layout()\n",
    "    plt.imshow(example_features[i].transpose(0, 1).transpose(1, 2)*255)\n",
    "    plt.title(r'Ground Truth: {label}'.format(label=example_targets[i]))\n",
    "    plt.xticks([])\n",
    "    plt.yticks([])\n",
    "fig.show()"
   ]
  },
  {
   "cell_type": "markdown",
   "metadata": {},
   "source": [
    "---"
   ]
  }
 ],
 "metadata": {
  "kernelspec": {
   "display_name": "Python 3",
   "language": "python",
   "name": "python3"
  },
  "language_info": {
   "codemirror_mode": {
    "name": "ipython",
    "version": 3
   },
   "file_extension": ".py",
   "mimetype": "text/x-python",
   "name": "python",
   "nbconvert_exporter": "python",
   "pygments_lexer": "ipython3",
   "version": "3.7.6"
  }
 },
 "nbformat": 4,
 "nbformat_minor": 4
}
